{
 "cells": [
  {
   "cell_type": "markdown",
   "id": "67ac2186",
   "metadata": {},
   "source": [
    "# Телеком - Поиск клиента с неоптимальными тарифами"
   ]
  },
  {
   "cell_type": "markdown",
   "id": "63deda94",
   "metadata": {},
   "source": [
    "Общая информация, цель и задачи иследования:"
   ]
  },
  {
   "cell_type": "markdown",
   "id": "012ab612",
   "metadata": {},
   "source": [
    "- Цель - найти клиентов которые переплачивают по своим тарифным планам\n",
    "- Задача - предложить таким клиентам более оптимальные тарифные планы чтобы они не ушли к другим операторам"
   ]
  },
  {
   "cell_type": "markdown",
   "id": "4eeba3a5",
   "metadata": {},
   "source": [
    "Импортируем библиотеки:"
   ]
  },
  {
   "cell_type": "code",
   "execution_count": 1,
   "id": "dd39f4e6",
   "metadata": {},
   "outputs": [],
   "source": [
    "import pandas as pd\n",
    "import seaborn as sns\n",
    "import matplotlib.pyplot as plt \n",
    "import numpy as np\n",
    "from scipy import stats as st  "
   ]
  },
  {
   "cell_type": "markdown",
   "id": "8c0479e1",
   "metadata": {},
   "source": [
    "Выгрузка данных и общей информации по ним:\n",
    "\n",
    "\n"
   ]
  },
  {
   "cell_type": "code",
   "execution_count": 2,
   "id": "b0fa7a33",
   "metadata": {},
   "outputs": [],
   "source": [
    "clients = pd.read_csv('https://code.s3.yandex.net/datasets/telecom_clients.csv')\n",
    "dataset = pd.read_csv('https://code.s3.yandex.net/datasets/telecom_dataset.csv')"
   ]
  },
  {
   "cell_type": "code",
   "execution_count": 3,
   "id": "d85662e9",
   "metadata": {},
   "outputs": [
    {
     "name": "stdout",
     "output_type": "stream",
     "text": [
      "<class 'pandas.core.frame.DataFrame'>\n",
      "RangeIndex: 732 entries, 0 to 731\n",
      "Data columns (total 3 columns):\n",
      " #   Column       Non-Null Count  Dtype \n",
      "---  ------       --------------  ----- \n",
      " 0   user_id      732 non-null    int64 \n",
      " 1   tariff_plan  732 non-null    object\n",
      " 2   date_start   732 non-null    object\n",
      "dtypes: int64(1), object(2)\n",
      "memory usage: 17.3+ KB\n"
     ]
    }
   ],
   "source": [
    "clients.info()"
   ]
  },
  {
   "cell_type": "code",
   "execution_count": 4,
   "id": "e8b39f83",
   "metadata": {},
   "outputs": [
    {
     "data": {
      "text/html": [
       "<div>\n",
       "<style scoped>\n",
       "    .dataframe tbody tr th:only-of-type {\n",
       "        vertical-align: middle;\n",
       "    }\n",
       "\n",
       "    .dataframe tbody tr th {\n",
       "        vertical-align: top;\n",
       "    }\n",
       "\n",
       "    .dataframe thead th {\n",
       "        text-align: right;\n",
       "    }\n",
       "</style>\n",
       "<table border=\"1\" class=\"dataframe\">\n",
       "  <thead>\n",
       "    <tr style=\"text-align: right;\">\n",
       "      <th></th>\n",
       "      <th>user_id</th>\n",
       "      <th>tariff_plan</th>\n",
       "      <th>date_start</th>\n",
       "    </tr>\n",
       "  </thead>\n",
       "  <tbody>\n",
       "    <tr>\n",
       "      <th>0</th>\n",
       "      <td>166713</td>\n",
       "      <td>A</td>\n",
       "      <td>2019-08-15</td>\n",
       "    </tr>\n",
       "    <tr>\n",
       "      <th>1</th>\n",
       "      <td>166901</td>\n",
       "      <td>A</td>\n",
       "      <td>2019-08-23</td>\n",
       "    </tr>\n",
       "    <tr>\n",
       "      <th>2</th>\n",
       "      <td>168527</td>\n",
       "      <td>A</td>\n",
       "      <td>2019-10-29</td>\n",
       "    </tr>\n",
       "    <tr>\n",
       "      <th>3</th>\n",
       "      <td>167097</td>\n",
       "      <td>A</td>\n",
       "      <td>2019-09-01</td>\n",
       "    </tr>\n",
       "    <tr>\n",
       "      <th>4</th>\n",
       "      <td>168193</td>\n",
       "      <td>A</td>\n",
       "      <td>2019-10-16</td>\n",
       "    </tr>\n",
       "  </tbody>\n",
       "</table>\n",
       "</div>"
      ],
      "text/plain": [
       "   user_id tariff_plan  date_start\n",
       "0   166713           A  2019-08-15\n",
       "1   166901           A  2019-08-23\n",
       "2   168527           A  2019-10-29\n",
       "3   167097           A  2019-09-01\n",
       "4   168193           A  2019-10-16"
      ]
     },
     "execution_count": 4,
     "metadata": {},
     "output_type": "execute_result"
    }
   ],
   "source": [
    "clients.head()"
   ]
  },
  {
   "cell_type": "markdown",
   "id": "a78ac6da",
   "metadata": {},
   "source": [
    "в таблице clients пропусков нет,  \n",
    "но нужно заменить тип данных 'date_start' на datetime"
   ]
  },
  {
   "cell_type": "code",
   "execution_count": 5,
   "id": "e2e3dd68",
   "metadata": {},
   "outputs": [
    {
     "name": "stdout",
     "output_type": "stream",
     "text": [
      "<class 'pandas.core.frame.DataFrame'>\n",
      "RangeIndex: 53902 entries, 0 to 53901\n",
      "Data columns (total 9 columns):\n",
      " #   Column               Non-Null Count  Dtype  \n",
      "---  ------               --------------  -----  \n",
      " 0   user_id              53902 non-null  int64  \n",
      " 1   date                 53902 non-null  object \n",
      " 2   direction            53902 non-null  object \n",
      " 3   internal             53785 non-null  object \n",
      " 4   operator_id          45730 non-null  float64\n",
      " 5   is_missed_call       53902 non-null  bool   \n",
      " 6   calls_count          53902 non-null  int64  \n",
      " 7   call_duration        53902 non-null  int64  \n",
      " 8   total_call_duration  53902 non-null  int64  \n",
      "dtypes: bool(1), float64(1), int64(4), object(3)\n",
      "memory usage: 3.3+ MB\n"
     ]
    }
   ],
   "source": [
    "dataset.info()"
   ]
  },
  {
   "cell_type": "code",
   "execution_count": 6,
   "id": "ec0000e8",
   "metadata": {},
   "outputs": [
    {
     "data": {
      "text/html": [
       "<div>\n",
       "<style scoped>\n",
       "    .dataframe tbody tr th:only-of-type {\n",
       "        vertical-align: middle;\n",
       "    }\n",
       "\n",
       "    .dataframe tbody tr th {\n",
       "        vertical-align: top;\n",
       "    }\n",
       "\n",
       "    .dataframe thead th {\n",
       "        text-align: right;\n",
       "    }\n",
       "</style>\n",
       "<table border=\"1\" class=\"dataframe\">\n",
       "  <thead>\n",
       "    <tr style=\"text-align: right;\">\n",
       "      <th></th>\n",
       "      <th>user_id</th>\n",
       "      <th>date</th>\n",
       "      <th>direction</th>\n",
       "      <th>internal</th>\n",
       "      <th>operator_id</th>\n",
       "      <th>is_missed_call</th>\n",
       "      <th>calls_count</th>\n",
       "      <th>call_duration</th>\n",
       "      <th>total_call_duration</th>\n",
       "    </tr>\n",
       "  </thead>\n",
       "  <tbody>\n",
       "    <tr>\n",
       "      <th>0</th>\n",
       "      <td>166377</td>\n",
       "      <td>2019-08-04 00:00:00+03:00</td>\n",
       "      <td>in</td>\n",
       "      <td>False</td>\n",
       "      <td>NaN</td>\n",
       "      <td>True</td>\n",
       "      <td>2</td>\n",
       "      <td>0</td>\n",
       "      <td>4</td>\n",
       "    </tr>\n",
       "    <tr>\n",
       "      <th>1</th>\n",
       "      <td>166377</td>\n",
       "      <td>2019-08-05 00:00:00+03:00</td>\n",
       "      <td>out</td>\n",
       "      <td>True</td>\n",
       "      <td>880022.0</td>\n",
       "      <td>True</td>\n",
       "      <td>3</td>\n",
       "      <td>0</td>\n",
       "      <td>5</td>\n",
       "    </tr>\n",
       "    <tr>\n",
       "      <th>2</th>\n",
       "      <td>166377</td>\n",
       "      <td>2019-08-05 00:00:00+03:00</td>\n",
       "      <td>out</td>\n",
       "      <td>True</td>\n",
       "      <td>880020.0</td>\n",
       "      <td>True</td>\n",
       "      <td>1</td>\n",
       "      <td>0</td>\n",
       "      <td>1</td>\n",
       "    </tr>\n",
       "    <tr>\n",
       "      <th>3</th>\n",
       "      <td>166377</td>\n",
       "      <td>2019-08-05 00:00:00+03:00</td>\n",
       "      <td>out</td>\n",
       "      <td>True</td>\n",
       "      <td>880020.0</td>\n",
       "      <td>False</td>\n",
       "      <td>1</td>\n",
       "      <td>10</td>\n",
       "      <td>18</td>\n",
       "    </tr>\n",
       "    <tr>\n",
       "      <th>4</th>\n",
       "      <td>166377</td>\n",
       "      <td>2019-08-05 00:00:00+03:00</td>\n",
       "      <td>out</td>\n",
       "      <td>False</td>\n",
       "      <td>880022.0</td>\n",
       "      <td>True</td>\n",
       "      <td>3</td>\n",
       "      <td>0</td>\n",
       "      <td>25</td>\n",
       "    </tr>\n",
       "  </tbody>\n",
       "</table>\n",
       "</div>"
      ],
      "text/plain": [
       "   user_id                       date direction internal  operator_id  \\\n",
       "0   166377  2019-08-04 00:00:00+03:00        in    False          NaN   \n",
       "1   166377  2019-08-05 00:00:00+03:00       out     True     880022.0   \n",
       "2   166377  2019-08-05 00:00:00+03:00       out     True     880020.0   \n",
       "3   166377  2019-08-05 00:00:00+03:00       out     True     880020.0   \n",
       "4   166377  2019-08-05 00:00:00+03:00       out    False     880022.0   \n",
       "\n",
       "   is_missed_call  calls_count  call_duration  total_call_duration  \n",
       "0            True            2              0                    4  \n",
       "1            True            3              0                    5  \n",
       "2            True            1              0                    1  \n",
       "3           False            1             10                   18  \n",
       "4            True            3              0                   25  "
      ]
     },
     "execution_count": 6,
     "metadata": {},
     "output_type": "execute_result"
    }
   ],
   "source": [
    "dataset.head()"
   ]
  },
  {
   "cell_type": "markdown",
   "id": "8a2d4aef",
   "metadata": {},
   "source": [
    "в таблице dataset есть пропуски в колонке 'operator_id' и 'internal',\n",
    "\n",
    "также нужно заменить тип данных в колонках 'date' на datetime, 'internal' на bool, 'operator_id' на int."
   ]
  },
  {
   "cell_type": "markdown",
   "id": "a9ebd357",
   "metadata": {},
   "source": [
    "# 1. Предобработка данных:\n",
    "\n",
    "- проверка на пропуски\n",
    "- замена типов данных\n",
    "- проверка на дубликаты"
   ]
  },
  {
   "cell_type": "markdown",
   "id": "a718578d",
   "metadata": {},
   "source": [
    "проверим явные дубликаты"
   ]
  },
  {
   "cell_type": "code",
   "execution_count": 7,
   "id": "a64a4c9c",
   "metadata": {},
   "outputs": [
    {
     "name": "stdout",
     "output_type": "stream",
     "text": [
      "кол-во явных дубликатов в clients= 0\n"
     ]
    }
   ],
   "source": [
    "print('кол-во явных дубликатов в clients=', clients.duplicated().sum())"
   ]
  },
  {
   "cell_type": "code",
   "execution_count": 8,
   "id": "52b4f2a3",
   "metadata": {},
   "outputs": [
    {
     "name": "stdout",
     "output_type": "stream",
     "text": [
      "кол-во явных дубликатов в dataset= 4900\n"
     ]
    }
   ],
   "source": [
    "print('кол-во явных дубликатов в dataset=', dataset.duplicated().sum())"
   ]
  },
  {
   "cell_type": "code",
   "execution_count": 9,
   "id": "2c10cd2e",
   "metadata": {},
   "outputs": [],
   "source": [
    "#удалим явные дубликаты в dataset\n",
    "dataset = dataset.drop_duplicates()"
   ]
  },
  {
   "cell_type": "markdown",
   "id": "5932d6a9",
   "metadata": {},
   "source": [
    "1.2 Заменим типы данных"
   ]
  },
  {
   "cell_type": "code",
   "execution_count": 10,
   "id": "1740b58a",
   "metadata": {},
   "outputs": [],
   "source": [
    "clients['date_start'] = pd.to_datetime(clients['date_start'])\n",
    "dataset['date'] = pd.to_datetime(dataset['date']).dt.tz_localize(None)\n",
    "dataset['operator_id'] = dataset['operator_id'].astype('Int64')\n",
    "dataset['internal'] = dataset['internal'].astype('bool')"
   ]
  },
  {
   "cell_type": "markdown",
   "id": "30785333",
   "metadata": {},
   "source": [
    "посчитаем кол-во пропусков в dataset"
   ]
  },
  {
   "cell_type": "code",
   "execution_count": 11,
   "id": "985f9f91",
   "metadata": {},
   "outputs": [
    {
     "data": {
      "text/plain": [
       "user_id                   0\n",
       "date                      0\n",
       "direction                 0\n",
       "internal                  0\n",
       "operator_id            7456\n",
       "is_missed_call            0\n",
       "calls_count               0\n",
       "call_duration             0\n",
       "total_call_duration       0\n",
       "dtype: int64"
      ]
     },
     "execution_count": 11,
     "metadata": {},
     "output_type": "execute_result"
    }
   ],
   "source": [
    "dataset.isna().sum()"
   ]
  },
  {
   "cell_type": "code",
   "execution_count": 12,
   "id": "69882c73",
   "metadata": {},
   "outputs": [
    {
     "data": {
      "text/plain": [
       "307"
      ]
     },
     "execution_count": 12,
     "metadata": {},
     "output_type": "execute_result"
    }
   ],
   "source": [
    "dataset['user_id'].nunique()"
   ]
  },
  {
   "cell_type": "code",
   "execution_count": 13,
   "id": "9d75f872",
   "metadata": {},
   "outputs": [
    {
     "data": {
      "text/html": [
       "<div>\n",
       "<style scoped>\n",
       "    .dataframe tbody tr th:only-of-type {\n",
       "        vertical-align: middle;\n",
       "    }\n",
       "\n",
       "    .dataframe tbody tr th {\n",
       "        vertical-align: top;\n",
       "    }\n",
       "\n",
       "    .dataframe thead th {\n",
       "        text-align: right;\n",
       "    }\n",
       "</style>\n",
       "<table border=\"1\" class=\"dataframe\">\n",
       "  <thead>\n",
       "    <tr style=\"text-align: right;\">\n",
       "      <th></th>\n",
       "      <th>user_id</th>\n",
       "      <th>date</th>\n",
       "      <th>direction</th>\n",
       "      <th>internal</th>\n",
       "      <th>operator_id</th>\n",
       "      <th>is_missed_call</th>\n",
       "      <th>calls_count</th>\n",
       "      <th>call_duration</th>\n",
       "      <th>total_call_duration</th>\n",
       "    </tr>\n",
       "  </thead>\n",
       "  <tbody>\n",
       "    <tr>\n",
       "      <th>698</th>\n",
       "      <td>166399</td>\n",
       "      <td>2019-08-12</td>\n",
       "      <td>in</td>\n",
       "      <td>False</td>\n",
       "      <td>&lt;NA&gt;</td>\n",
       "      <td>False</td>\n",
       "      <td>1</td>\n",
       "      <td>10</td>\n",
       "      <td>55</td>\n",
       "    </tr>\n",
       "    <tr>\n",
       "      <th>704</th>\n",
       "      <td>166399</td>\n",
       "      <td>2019-09-02</td>\n",
       "      <td>in</td>\n",
       "      <td>False</td>\n",
       "      <td>&lt;NA&gt;</td>\n",
       "      <td>False</td>\n",
       "      <td>1</td>\n",
       "      <td>68</td>\n",
       "      <td>115</td>\n",
       "    </tr>\n",
       "    <tr>\n",
       "      <th>4089</th>\n",
       "      <td>166503</td>\n",
       "      <td>2019-09-26</td>\n",
       "      <td>out</td>\n",
       "      <td>False</td>\n",
       "      <td>&lt;NA&gt;</td>\n",
       "      <td>False</td>\n",
       "      <td>1</td>\n",
       "      <td>213</td>\n",
       "      <td>220</td>\n",
       "    </tr>\n",
       "    <tr>\n",
       "      <th>4136</th>\n",
       "      <td>166503</td>\n",
       "      <td>2019-10-09</td>\n",
       "      <td>in</td>\n",
       "      <td>False</td>\n",
       "      <td>&lt;NA&gt;</td>\n",
       "      <td>False</td>\n",
       "      <td>1</td>\n",
       "      <td>374</td>\n",
       "      <td>405</td>\n",
       "    </tr>\n",
       "    <tr>\n",
       "      <th>4198</th>\n",
       "      <td>166503</td>\n",
       "      <td>2019-10-21</td>\n",
       "      <td>out</td>\n",
       "      <td>True</td>\n",
       "      <td>&lt;NA&gt;</td>\n",
       "      <td>False</td>\n",
       "      <td>2</td>\n",
       "      <td>382</td>\n",
       "      <td>397</td>\n",
       "    </tr>\n",
       "    <tr>\n",
       "      <th>...</th>\n",
       "      <td>...</td>\n",
       "      <td>...</td>\n",
       "      <td>...</td>\n",
       "      <td>...</td>\n",
       "      <td>...</td>\n",
       "      <td>...</td>\n",
       "      <td>...</td>\n",
       "      <td>...</td>\n",
       "      <td>...</td>\n",
       "    </tr>\n",
       "    <tr>\n",
       "      <th>50930</th>\n",
       "      <td>168252</td>\n",
       "      <td>2019-11-28</td>\n",
       "      <td>in</td>\n",
       "      <td>True</td>\n",
       "      <td>&lt;NA&gt;</td>\n",
       "      <td>False</td>\n",
       "      <td>2</td>\n",
       "      <td>265</td>\n",
       "      <td>274</td>\n",
       "    </tr>\n",
       "    <tr>\n",
       "      <th>50946</th>\n",
       "      <td>168252</td>\n",
       "      <td>2019-11-28</td>\n",
       "      <td>in</td>\n",
       "      <td>False</td>\n",
       "      <td>&lt;NA&gt;</td>\n",
       "      <td>False</td>\n",
       "      <td>45</td>\n",
       "      <td>23765</td>\n",
       "      <td>23897</td>\n",
       "    </tr>\n",
       "    <tr>\n",
       "      <th>50955</th>\n",
       "      <td>168252</td>\n",
       "      <td>2019-11-28</td>\n",
       "      <td>out</td>\n",
       "      <td>False</td>\n",
       "      <td>&lt;NA&gt;</td>\n",
       "      <td>False</td>\n",
       "      <td>22</td>\n",
       "      <td>11904</td>\n",
       "      <td>12211</td>\n",
       "    </tr>\n",
       "    <tr>\n",
       "      <th>50956</th>\n",
       "      <td>168252</td>\n",
       "      <td>2019-11-28</td>\n",
       "      <td>out</td>\n",
       "      <td>True</td>\n",
       "      <td>&lt;NA&gt;</td>\n",
       "      <td>False</td>\n",
       "      <td>1</td>\n",
       "      <td>159</td>\n",
       "      <td>168</td>\n",
       "    </tr>\n",
       "    <tr>\n",
       "      <th>51680</th>\n",
       "      <td>168336</td>\n",
       "      <td>2019-11-14</td>\n",
       "      <td>in</td>\n",
       "      <td>False</td>\n",
       "      <td>&lt;NA&gt;</td>\n",
       "      <td>False</td>\n",
       "      <td>1</td>\n",
       "      <td>169</td>\n",
       "      <td>174</td>\n",
       "    </tr>\n",
       "  </tbody>\n",
       "</table>\n",
       "<p>113 rows × 9 columns</p>\n",
       "</div>"
      ],
      "text/plain": [
       "       user_id       date direction  internal  operator_id  is_missed_call  \\\n",
       "698     166399 2019-08-12        in     False         <NA>           False   \n",
       "704     166399 2019-09-02        in     False         <NA>           False   \n",
       "4089    166503 2019-09-26       out     False         <NA>           False   \n",
       "4136    166503 2019-10-09        in     False         <NA>           False   \n",
       "4198    166503 2019-10-21       out      True         <NA>           False   \n",
       "...        ...        ...       ...       ...          ...             ...   \n",
       "50930   168252 2019-11-28        in      True         <NA>           False   \n",
       "50946   168252 2019-11-28        in     False         <NA>           False   \n",
       "50955   168252 2019-11-28       out     False         <NA>           False   \n",
       "50956   168252 2019-11-28       out      True         <NA>           False   \n",
       "51680   168336 2019-11-14        in     False         <NA>           False   \n",
       "\n",
       "       calls_count  call_duration  total_call_duration  \n",
       "698              1             10                   55  \n",
       "704              1             68                  115  \n",
       "4089             1            213                  220  \n",
       "4136             1            374                  405  \n",
       "4198             2            382                  397  \n",
       "...            ...            ...                  ...  \n",
       "50930            2            265                  274  \n",
       "50946           45          23765                23897  \n",
       "50955           22          11904                12211  \n",
       "50956            1            159                  168  \n",
       "51680            1            169                  174  \n",
       "\n",
       "[113 rows x 9 columns]"
      ]
     },
     "execution_count": 13,
     "metadata": {},
     "output_type": "execute_result"
    }
   ],
   "source": [
    "#есть кейсы без операторов с ненулевой продолжительностью вызова\n",
    "dataset[dataset['operator_id'].isna() & (dataset['call_duration'] > 0)]"
   ]
  },
  {
   "cell_type": "code",
   "execution_count": 14,
   "id": "9494a606",
   "metadata": {},
   "outputs": [],
   "source": [
    "dataset['month'] =  dataset['date'].dt.to_period('M')"
   ]
  },
  {
   "cell_type": "code",
   "execution_count": 15,
   "id": "f12403f6",
   "metadata": {},
   "outputs": [
    {
     "data": {
      "text/html": [
       "<div>\n",
       "<style scoped>\n",
       "    .dataframe tbody tr th:only-of-type {\n",
       "        vertical-align: middle;\n",
       "    }\n",
       "\n",
       "    .dataframe tbody tr th {\n",
       "        vertical-align: top;\n",
       "    }\n",
       "\n",
       "    .dataframe thead th {\n",
       "        text-align: right;\n",
       "    }\n",
       "</style>\n",
       "<table border=\"1\" class=\"dataframe\">\n",
       "  <thead>\n",
       "    <tr style=\"text-align: right;\">\n",
       "      <th></th>\n",
       "      <th>tariff_plan</th>\n",
       "    </tr>\n",
       "    <tr>\n",
       "      <th>user_id</th>\n",
       "      <th></th>\n",
       "    </tr>\n",
       "  </thead>\n",
       "  <tbody>\n",
       "  </tbody>\n",
       "</table>\n",
       "</div>"
      ],
      "text/plain": [
       "Empty DataFrame\n",
       "Columns: [tariff_plan]\n",
       "Index: []"
      ]
     },
     "execution_count": 15,
     "metadata": {},
     "output_type": "execute_result"
    }
   ],
   "source": [
    "clients.groupby(by='user_id').agg({'tariff_plan':'nunique'}).query('tariff_plan > 1')"
   ]
  },
  {
   "cell_type": "markdown",
   "id": "bc10be88",
   "metadata": {},
   "source": [
    "у всех клиентов был один тарифный план"
   ]
  },
  {
   "cell_type": "markdown",
   "id": "d4c7e388",
   "metadata": {},
   "source": [
    "посмотрим что за пропуски в operator_id"
   ]
  },
  {
   "cell_type": "code",
   "execution_count": 16,
   "id": "1b7ce78d",
   "metadata": {},
   "outputs": [
    {
     "data": {
      "text/html": [
       "<div>\n",
       "<style scoped>\n",
       "    .dataframe tbody tr th:only-of-type {\n",
       "        vertical-align: middle;\n",
       "    }\n",
       "\n",
       "    .dataframe tbody tr th {\n",
       "        vertical-align: top;\n",
       "    }\n",
       "\n",
       "    .dataframe thead th {\n",
       "        text-align: right;\n",
       "    }\n",
       "</style>\n",
       "<table border=\"1\" class=\"dataframe\">\n",
       "  <thead>\n",
       "    <tr style=\"text-align: right;\">\n",
       "      <th></th>\n",
       "      <th>user_id</th>\n",
       "      <th>date</th>\n",
       "      <th>direction</th>\n",
       "      <th>internal</th>\n",
       "      <th>operator_id</th>\n",
       "      <th>is_missed_call</th>\n",
       "      <th>calls_count</th>\n",
       "      <th>call_duration</th>\n",
       "      <th>total_call_duration</th>\n",
       "      <th>month</th>\n",
       "    </tr>\n",
       "  </thead>\n",
       "  <tbody>\n",
       "    <tr>\n",
       "      <th>0</th>\n",
       "      <td>166377</td>\n",
       "      <td>2019-08-04</td>\n",
       "      <td>in</td>\n",
       "      <td>False</td>\n",
       "      <td>&lt;NA&gt;</td>\n",
       "      <td>True</td>\n",
       "      <td>2</td>\n",
       "      <td>0</td>\n",
       "      <td>4</td>\n",
       "      <td>2019-08</td>\n",
       "    </tr>\n",
       "    <tr>\n",
       "      <th>7</th>\n",
       "      <td>166377</td>\n",
       "      <td>2019-08-05</td>\n",
       "      <td>in</td>\n",
       "      <td>False</td>\n",
       "      <td>&lt;NA&gt;</td>\n",
       "      <td>True</td>\n",
       "      <td>6</td>\n",
       "      <td>0</td>\n",
       "      <td>35</td>\n",
       "      <td>2019-08</td>\n",
       "    </tr>\n",
       "    <tr>\n",
       "      <th>9</th>\n",
       "      <td>166377</td>\n",
       "      <td>2019-08-06</td>\n",
       "      <td>in</td>\n",
       "      <td>False</td>\n",
       "      <td>&lt;NA&gt;</td>\n",
       "      <td>True</td>\n",
       "      <td>4</td>\n",
       "      <td>0</td>\n",
       "      <td>62</td>\n",
       "      <td>2019-08</td>\n",
       "    </tr>\n",
       "    <tr>\n",
       "      <th>17</th>\n",
       "      <td>166377</td>\n",
       "      <td>2019-08-07</td>\n",
       "      <td>in</td>\n",
       "      <td>False</td>\n",
       "      <td>&lt;NA&gt;</td>\n",
       "      <td>True</td>\n",
       "      <td>2</td>\n",
       "      <td>0</td>\n",
       "      <td>24</td>\n",
       "      <td>2019-08</td>\n",
       "    </tr>\n",
       "    <tr>\n",
       "      <th>27</th>\n",
       "      <td>166377</td>\n",
       "      <td>2019-08-12</td>\n",
       "      <td>in</td>\n",
       "      <td>False</td>\n",
       "      <td>&lt;NA&gt;</td>\n",
       "      <td>True</td>\n",
       "      <td>2</td>\n",
       "      <td>0</td>\n",
       "      <td>34</td>\n",
       "      <td>2019-08</td>\n",
       "    </tr>\n",
       "  </tbody>\n",
       "</table>\n",
       "</div>"
      ],
      "text/plain": [
       "    user_id       date direction  internal  operator_id  is_missed_call  \\\n",
       "0    166377 2019-08-04        in     False         <NA>            True   \n",
       "7    166377 2019-08-05        in     False         <NA>            True   \n",
       "9    166377 2019-08-06        in     False         <NA>            True   \n",
       "17   166377 2019-08-07        in     False         <NA>            True   \n",
       "27   166377 2019-08-12        in     False         <NA>            True   \n",
       "\n",
       "    calls_count  call_duration  total_call_duration    month  \n",
       "0             2              0                    4  2019-08  \n",
       "7             6              0                   35  2019-08  \n",
       "9             4              0                   62  2019-08  \n",
       "17            2              0                   24  2019-08  \n",
       "27            2              0                   34  2019-08  "
      ]
     },
     "execution_count": 16,
     "metadata": {},
     "output_type": "execute_result"
    }
   ],
   "source": [
    "dataset[dataset['operator_id'].isna()].head()"
   ]
  },
  {
   "cell_type": "code",
   "execution_count": 17,
   "id": "12a3dffc",
   "metadata": {},
   "outputs": [
    {
     "data": {
      "text/html": [
       "<div>\n",
       "<style scoped>\n",
       "    .dataframe tbody tr th:only-of-type {\n",
       "        vertical-align: middle;\n",
       "    }\n",
       "\n",
       "    .dataframe tbody tr th {\n",
       "        vertical-align: top;\n",
       "    }\n",
       "\n",
       "    .dataframe thead th {\n",
       "        text-align: right;\n",
       "    }\n",
       "</style>\n",
       "<table border=\"1\" class=\"dataframe\">\n",
       "  <thead>\n",
       "    <tr style=\"text-align: right;\">\n",
       "      <th></th>\n",
       "      <th></th>\n",
       "      <th>is_missed_call</th>\n",
       "    </tr>\n",
       "    <tr>\n",
       "      <th>is_missed_call</th>\n",
       "      <th>is_missed_call</th>\n",
       "      <th></th>\n",
       "    </tr>\n",
       "  </thead>\n",
       "  <tbody>\n",
       "    <tr>\n",
       "      <th>False</th>\n",
       "      <th>False</th>\n",
       "      <td>113</td>\n",
       "    </tr>\n",
       "    <tr>\n",
       "      <th>True</th>\n",
       "      <th>True</th>\n",
       "      <td>7343</td>\n",
       "    </tr>\n",
       "  </tbody>\n",
       "</table>\n",
       "</div>"
      ],
      "text/plain": [
       "                               is_missed_call\n",
       "is_missed_call is_missed_call                \n",
       "False          False                      113\n",
       "True           True                      7343"
      ]
     },
     "execution_count": 17,
     "metadata": {},
     "output_type": "execute_result"
    }
   ],
   "source": [
    "dataset[dataset['operator_id'].isna()].groupby(by='is_missed_call').agg({'is_missed_call': 'value_counts'})"
   ]
  },
  {
   "cell_type": "code",
   "execution_count": 18,
   "id": "668ebf22",
   "metadata": {},
   "outputs": [
    {
     "data": {
      "text/html": [
       "<div>\n",
       "<style scoped>\n",
       "    .dataframe tbody tr th:only-of-type {\n",
       "        vertical-align: middle;\n",
       "    }\n",
       "\n",
       "    .dataframe tbody tr th {\n",
       "        vertical-align: top;\n",
       "    }\n",
       "\n",
       "    .dataframe thead th {\n",
       "        text-align: right;\n",
       "    }\n",
       "</style>\n",
       "<table border=\"1\" class=\"dataframe\">\n",
       "  <thead>\n",
       "    <tr style=\"text-align: right;\">\n",
       "      <th></th>\n",
       "      <th></th>\n",
       "      <th>internal</th>\n",
       "    </tr>\n",
       "    <tr>\n",
       "      <th>internal</th>\n",
       "      <th>internal</th>\n",
       "      <th></th>\n",
       "    </tr>\n",
       "  </thead>\n",
       "  <tbody>\n",
       "    <tr>\n",
       "      <th>False</th>\n",
       "      <th>False</th>\n",
       "      <td>7078</td>\n",
       "    </tr>\n",
       "    <tr>\n",
       "      <th>True</th>\n",
       "      <th>True</th>\n",
       "      <td>378</td>\n",
       "    </tr>\n",
       "  </tbody>\n",
       "</table>\n",
       "</div>"
      ],
      "text/plain": [
       "                   internal\n",
       "internal internal          \n",
       "False    False         7078\n",
       "True     True           378"
      ]
     },
     "execution_count": 18,
     "metadata": {},
     "output_type": "execute_result"
    }
   ],
   "source": [
    "dataset[dataset['operator_id'].isna()].groupby(by='internal').agg({'internal': 'value_counts'})"
   ]
  },
  {
   "cell_type": "markdown",
   "id": "40c6c0f7",
   "metadata": {},
   "source": [
    "большинство пропусков в operator_id это пропушеные внешние звонки"
   ]
  },
  {
   "cell_type": "markdown",
   "id": "26edd4ef",
   "metadata": {},
   "source": [
    "переведем секунды в минуты в колонках call_duration total_call_duration разделим на 60"
   ]
  },
  {
   "cell_type": "code",
   "execution_count": 19,
   "id": "48bcdee1",
   "metadata": {},
   "outputs": [],
   "source": [
    "dataset['call_duration'] = np.ceil(dataset['call_duration']/60)\n",
    "dataset['total_call_duration'] = np.ceil(dataset['total_call_duration']/60)"
   ]
  },
  {
   "cell_type": "markdown",
   "id": "36d7d3ba",
   "metadata": {},
   "source": [
    "вывод:\n",
    "\n",
    "- поменяли формат данных date_start на datetime, date на datetime, operator_id на Int64, internal на bool\n",
    "- выяснили что большинство пропусков в operator_id это пропушеные звонки"
   ]
  },
  {
   "cell_type": "markdown",
   "id": "94c85594",
   "metadata": {},
   "source": [
    "- перевели секунды в минуты (тк в дальнейшем заметим что время представлено скорее всего в секундах тк очень большие числа и в минутах такое не возможно)"
   ]
  },
  {
   "cell_type": "markdown",
   "id": "b30a53b0",
   "metadata": {},
   "source": [
    "# Исcледовательская часть:"
   ]
  },
  {
   "cell_type": "markdown",
   "id": "70ee1b57",
   "metadata": {},
   "source": [
    "Проверим за какой промежуток времени у нас есть данные"
   ]
  },
  {
   "cell_type": "code",
   "execution_count": 20,
   "id": "8acbf03c",
   "metadata": {},
   "outputs": [
    {
     "name": "stdout",
     "output_type": "stream",
     "text": [
      "Дата первой записи: 2019-08-02 00:00:00\n",
      "Дата последней записи: 2019-11-28 00:00:00\n"
     ]
    }
   ],
   "source": [
    "print('Дата первой записи:', dataset['date'].min())\n",
    "print('Дата последней записи:', dataset['date'].max())"
   ]
  },
  {
   "cell_type": "code",
   "execution_count": 21,
   "id": "1d3aa634",
   "metadata": {},
   "outputs": [
    {
     "name": "stdout",
     "output_type": "stream",
     "text": [
      "уникальных клиентов = 307\n"
     ]
    }
   ],
   "source": [
    "print('уникальных клиентов =', dataset['user_id'].nunique())"
   ]
  },
  {
   "cell_type": "code",
   "execution_count": 22,
   "id": "773e0f84",
   "metadata": {},
   "outputs": [
    {
     "name": "stderr",
     "output_type": "stream",
     "text": [
      "C:\\Users\\Ounly mini\\AppData\\Local\\Temp\\ipykernel_11736\\2804735001.py:4: FutureWarning: Treating datetime data as categorical rather than numeric in `.describe` is deprecated and will be removed in a future version of pandas. Specify `datetime_is_numeric=True` to silence this warning and adopt the future behavior now.\n",
      "  ).describe()\n"
     ]
    },
    {
     "data": {
      "text/plain": [
       "count                     306\n",
       "unique                     51\n",
       "top       2019-11-28 00:00:00\n",
       "freq                      166\n",
       "first     2019-08-07 00:00:00\n",
       "last      2019-11-28 00:00:00\n",
       "Name: date, dtype: object"
      ]
     },
     "execution_count": 22,
     "metadata": {},
     "output_type": "execute_result"
    }
   ],
   "source": [
    "(dataset\n",
    "        .query('total_call_duration > 0')\n",
    "        .groupby(by='user_id')['date'].max()\n",
    ").describe()"
   ]
  },
  {
   "cell_type": "code",
   "execution_count": 23,
   "id": "da51de4f",
   "metadata": {},
   "outputs": [
    {
     "data": {
      "text/html": [
       "<div>\n",
       "<style scoped>\n",
       "    .dataframe tbody tr th:only-of-type {\n",
       "        vertical-align: middle;\n",
       "    }\n",
       "\n",
       "    .dataframe tbody tr th {\n",
       "        vertical-align: top;\n",
       "    }\n",
       "\n",
       "    .dataframe thead th {\n",
       "        text-align: right;\n",
       "    }\n",
       "</style>\n",
       "<table border=\"1\" class=\"dataframe\">\n",
       "  <thead>\n",
       "    <tr style=\"text-align: right;\">\n",
       "      <th></th>\n",
       "      <th>user_id</th>\n",
       "      <th>tariff_plan</th>\n",
       "      <th>date_start</th>\n",
       "    </tr>\n",
       "  </thead>\n",
       "  <tbody>\n",
       "    <tr>\n",
       "      <th>0</th>\n",
       "      <td>166713</td>\n",
       "      <td>A</td>\n",
       "      <td>2019-08-15</td>\n",
       "    </tr>\n",
       "    <tr>\n",
       "      <th>1</th>\n",
       "      <td>166901</td>\n",
       "      <td>A</td>\n",
       "      <td>2019-08-23</td>\n",
       "    </tr>\n",
       "    <tr>\n",
       "      <th>2</th>\n",
       "      <td>168527</td>\n",
       "      <td>A</td>\n",
       "      <td>2019-10-29</td>\n",
       "    </tr>\n",
       "    <tr>\n",
       "      <th>3</th>\n",
       "      <td>167097</td>\n",
       "      <td>A</td>\n",
       "      <td>2019-09-01</td>\n",
       "    </tr>\n",
       "    <tr>\n",
       "      <th>4</th>\n",
       "      <td>168193</td>\n",
       "      <td>A</td>\n",
       "      <td>2019-10-16</td>\n",
       "    </tr>\n",
       "  </tbody>\n",
       "</table>\n",
       "</div>"
      ],
      "text/plain": [
       "   user_id tariff_plan date_start\n",
       "0   166713           A 2019-08-15\n",
       "1   166901           A 2019-08-23\n",
       "2   168527           A 2019-10-29\n",
       "3   167097           A 2019-09-01\n",
       "4   168193           A 2019-10-16"
      ]
     },
     "execution_count": 23,
     "metadata": {},
     "output_type": "execute_result"
    }
   ],
   "source": [
    "clients.head()"
   ]
  },
  {
   "cell_type": "code",
   "execution_count": 24,
   "id": "f11baba9",
   "metadata": {},
   "outputs": [
    {
     "data": {
      "text/plain": [
       "(732, 732)"
      ]
     },
     "execution_count": 24,
     "metadata": {},
     "output_type": "execute_result"
    }
   ],
   "source": [
    "#проверяем кол-во уникальных user_id , что клиенты не повторяются\n",
    "clients['user_id'].nunique(), clients.shape[0]"
   ]
  },
  {
   "cell_type": "markdown",
   "id": "d611c650",
   "metadata": {},
   "source": [
    "видно что не все зарегистрировавшиеся клиенты были активны в иследовании"
   ]
  },
  {
   "cell_type": "markdown",
   "id": "5a20fef0",
   "metadata": {},
   "source": [
    "проверим когда клиенты регистрировались"
   ]
  },
  {
   "cell_type": "code",
   "execution_count": 25,
   "id": "6ab32136",
   "metadata": {},
   "outputs": [
    {
     "data": {
      "image/png": "[encoded data removed]",
      "text/plain": [
       "<Figure size 640x480 with 1 Axes>"
      ]
     },
     "metadata": {},
     "output_type": "display_data"
    }
   ],
   "source": [
    "(clients\n",
    "        .groupby(by='user_id')['date_start'].max()\n",
    "        .hist(bins=50)\n",
    ")\n",
    "plt.xticks(rotation=45)\n",
    "plt.show()"
   ]
  },
  {
   "cell_type": "markdown",
   "id": "20070b97",
   "metadata": {},
   "source": [
    "видим что клиенты равномерно подключалтсь к тарифам (нет такого что они пришли в последние месяцы)"
   ]
  },
  {
   "cell_type": "markdown",
   "id": "dd4e122c",
   "metadata": {},
   "source": [
    "проверим последнюю дату совершения звонков по каждому клиенту "
   ]
  },
  {
   "cell_type": "code",
   "execution_count": 26,
   "id": "59a89b47",
   "metadata": {},
   "outputs": [
    {
     "data": {
      "image/png": "[encoded data removed]",
      "text/plain": [
       "<Figure size 640x480 with 1 Axes>"
      ]
     },
     "metadata": {},
     "output_type": "display_data"
    }
   ],
   "source": [
    "(dataset\n",
    "        .query('total_call_duration > 0')\n",
    "        .groupby(by='user_id')['date'].max()\n",
    "        .hist(bins=50)\n",
    ")\n",
    "plt.xticks(rotation=45)\n",
    "plt.show()"
   ]
  },
  {
   "cell_type": "markdown",
   "id": "95849d86",
   "metadata": {},
   "source": [
    "видим , что большая часть клиентов были активны в последний месяц, предпологаем что клиенты которые не совершали звонков в последний месяц уже не пользуются услугами данного оператора связи.\n",
    "    всё равно мы возьмём их выборку потому что нужно проверить оптимальный был у них тарифы чтобы предложить им новый тариф и возможно они вернутся"
   ]
  },
  {
   "cell_type": "code",
   "execution_count": 27,
   "id": "92c4b5e1",
   "metadata": {},
   "outputs": [],
   "source": [
    "# средняя длительность одного звонка\n",
    "dataset['one_call'] =  dataset['call_duration']/dataset['calls_count']"
   ]
  },
  {
   "cell_type": "code",
   "execution_count": 28,
   "id": "73a8258a",
   "metadata": {},
   "outputs": [],
   "source": [
    "#проверка\n",
    "#dataset[dataset['user_id'] == 166582].sort_values(by='one_call')"
   ]
  },
  {
   "cell_type": "code",
   "execution_count": 29,
   "id": "f6154fdf",
   "metadata": {},
   "outputs": [
    {
     "data": {
      "text/plain": [
       "count    27828.000000\n",
       "mean         2.163951\n",
       "std          2.454007\n",
       "min          0.090909\n",
       "25%          1.000000\n",
       "50%          1.500000\n",
       "75%          2.400000\n",
       "max         60.000000\n",
       "Name: one_call, dtype: float64"
      ]
     },
     "execution_count": 29,
     "metadata": {},
     "output_type": "execute_result"
    }
   ],
   "source": [
    "#dataset[dataset['call_duration'] > 0]['one_call'].describe()\n",
    "dataset.query('call_duration > 0')['one_call'].describe()"
   ]
  },
  {
   "cell_type": "markdown",
   "id": "96c07f2c",
   "metadata": {},
   "source": [
    "средняя длительность звонка = 2.16 минут\n",
    "медиана длительности звонка = 1.5 минут\n",
    "также есть аномальные звонки с длительность по 60 мин"
   ]
  },
  {
   "cell_type": "code",
   "execution_count": 30,
   "id": "1479e9e5",
   "metadata": {},
   "outputs": [
    {
     "data": {
      "text/plain": [
       "<Axes: >"
      ]
     },
     "execution_count": 30,
     "metadata": {},
     "output_type": "execute_result"
    },
    {
     "data": {
      "image/png": "[encoded data removed]",
      "text/plain": [
       "<Figure size 640x480 with 1 Axes>"
      ]
     },
     "metadata": {},
     "output_type": "display_data"
    }
   ],
   "source": [
    "dataset.query('call_duration > 0')['one_call'].hist(bins=50)"
   ]
  },
  {
   "cell_type": "code",
   "execution_count": 31,
   "id": "ce1454f3",
   "metadata": {},
   "outputs": [
    {
     "data": {
      "text/html": [
       "<div>\n",
       "<style scoped>\n",
       "    .dataframe tbody tr th:only-of-type {\n",
       "        vertical-align: middle;\n",
       "    }\n",
       "\n",
       "    .dataframe tbody tr th {\n",
       "        vertical-align: top;\n",
       "    }\n",
       "\n",
       "    .dataframe thead th {\n",
       "        text-align: right;\n",
       "    }\n",
       "</style>\n",
       "<table border=\"1\" class=\"dataframe\">\n",
       "  <thead>\n",
       "    <tr style=\"text-align: right;\">\n",
       "      <th></th>\n",
       "      <th>user_id</th>\n",
       "      <th>date</th>\n",
       "      <th>operator_id</th>\n",
       "      <th>calls_count</th>\n",
       "      <th>call_duration</th>\n",
       "    </tr>\n",
       "  </thead>\n",
       "  <tbody>\n",
       "    <tr>\n",
       "      <th>3554</th>\n",
       "      <td>166660</td>\n",
       "      <td>2019-08-26</td>\n",
       "      <td>887802</td>\n",
       "      <td>9</td>\n",
       "      <td>0.0</td>\n",
       "    </tr>\n",
       "    <tr>\n",
       "      <th>5975</th>\n",
       "      <td>166916</td>\n",
       "      <td>2019-10-25</td>\n",
       "      <td>928284</td>\n",
       "      <td>2</td>\n",
       "      <td>0.0</td>\n",
       "    </tr>\n",
       "    <tr>\n",
       "      <th>16275</th>\n",
       "      <td>168047</td>\n",
       "      <td>2019-10-23</td>\n",
       "      <td>937604</td>\n",
       "      <td>2</td>\n",
       "      <td>0.0</td>\n",
       "    </tr>\n",
       "    <tr>\n",
       "      <th>704</th>\n",
       "      <td>166406</td>\n",
       "      <td>2019-10-06</td>\n",
       "      <td>879898</td>\n",
       "      <td>1</td>\n",
       "      <td>0.0</td>\n",
       "    </tr>\n",
       "    <tr>\n",
       "      <th>5988</th>\n",
       "      <td>166916</td>\n",
       "      <td>2019-10-30</td>\n",
       "      <td>906392</td>\n",
       "      <td>2</td>\n",
       "      <td>0.0</td>\n",
       "    </tr>\n",
       "  </tbody>\n",
       "</table>\n",
       "</div>"
      ],
      "text/plain": [
       "       user_id       date  operator_id  calls_count  call_duration\n",
       "3554    166660 2019-08-26       887802            9            0.0\n",
       "5975    166916 2019-10-25       928284            2            0.0\n",
       "16275   168047 2019-10-23       937604            2            0.0\n",
       "704     166406 2019-10-06       879898            1            0.0\n",
       "5988    166916 2019-10-30       906392            2            0.0"
      ]
     },
     "execution_count": 31,
     "metadata": {},
     "output_type": "execute_result"
    }
   ],
   "source": [
    "#переделать! группируем по операторам и по датам\n",
    "operator_calls = dataset.groupby(['user_id', 'date', 'operator_id'], as_index=False)\\\n",
    "    .agg({'calls_count':'sum', 'call_duration':'sum'}).sort_values(by='call_duration')\n",
    "operator_calls.head()"
   ]
  },
  {
   "cell_type": "code",
   "execution_count": 32,
   "id": "c0a1e461",
   "metadata": {},
   "outputs": [
    {
     "data": {
      "text/plain": [
       "count    19647.000000\n",
       "mean        36.305390\n",
       "std         98.416172\n",
       "min          0.000000\n",
       "25%          3.000000\n",
       "50%         12.000000\n",
       "75%         38.000000\n",
       "max       2418.000000\n",
       "Name: call_duration, dtype: float64"
      ]
     },
     "execution_count": 32,
     "metadata": {},
     "output_type": "execute_result"
    }
   ],
   "source": [
    "#видим аномальные значения продолжительности звонка, проверим также кол-во звонков\n",
    "operator_calls['call_duration'].describe()"
   ]
  },
  {
   "cell_type": "code",
   "execution_count": 33,
   "id": "de019c58",
   "metadata": {},
   "outputs": [
    {
     "data": {
      "image/png": "[encoded data removed]",
      "text/plain": [
       "<Figure size 600x600 with 1 Axes>"
      ]
     },
     "metadata": {},
     "output_type": "display_data"
    }
   ],
   "source": [
    "plt.figure(figsize=(6,6))\n",
    "ax = sns.boxplot(data=dataset, y='call_duration')\n",
    "#ax.set_ylim([0, 700]) \n",
    "plt.show()"
   ]
  },
  {
   "cell_type": "markdown",
   "id": "89ed3f68",
   "metadata": {},
   "source": [
    "медиана звонков в день у каждого оператора  = 36\n",
    "но есть аномальные значения у некоторых операторов = 2000 звонкам в день, теоретически такое возвомжно если никто не поднимал трубку"
   ]
  },
  {
   "cell_type": "markdown",
   "id": "364d7984",
   "metadata": {},
   "source": [
    "отсортируем по длительности звонков "
   ]
  },
  {
   "cell_type": "code",
   "execution_count": 34,
   "id": "b7aea27a",
   "metadata": {},
   "outputs": [
    {
     "data": {
      "text/html": [
       "<div>\n",
       "<style scoped>\n",
       "    .dataframe tbody tr th:only-of-type {\n",
       "        vertical-align: middle;\n",
       "    }\n",
       "\n",
       "    .dataframe tbody tr th {\n",
       "        vertical-align: top;\n",
       "    }\n",
       "\n",
       "    .dataframe thead th {\n",
       "        text-align: right;\n",
       "    }\n",
       "</style>\n",
       "<table border=\"1\" class=\"dataframe\">\n",
       "  <thead>\n",
       "    <tr style=\"text-align: right;\">\n",
       "      <th></th>\n",
       "      <th>user_id</th>\n",
       "      <th>date</th>\n",
       "      <th>operator_id</th>\n",
       "      <th>calls_count</th>\n",
       "      <th>call_duration</th>\n",
       "    </tr>\n",
       "  </thead>\n",
       "  <tbody>\n",
       "    <tr>\n",
       "      <th>2352</th>\n",
       "      <td>166582</td>\n",
       "      <td>2019-09-25</td>\n",
       "      <td>885876</td>\n",
       "      <td>2039</td>\n",
       "      <td>2418.0</td>\n",
       "    </tr>\n",
       "    <tr>\n",
       "      <th>2354</th>\n",
       "      <td>166582</td>\n",
       "      <td>2019-09-26</td>\n",
       "      <td>885876</td>\n",
       "      <td>1603</td>\n",
       "      <td>2287.0</td>\n",
       "    </tr>\n",
       "    <tr>\n",
       "      <th>2326</th>\n",
       "      <td>166582</td>\n",
       "      <td>2019-09-12</td>\n",
       "      <td>885876</td>\n",
       "      <td>1104</td>\n",
       "      <td>2113.0</td>\n",
       "    </tr>\n",
       "    <tr>\n",
       "      <th>2320</th>\n",
       "      <td>166582</td>\n",
       "      <td>2019-09-09</td>\n",
       "      <td>885876</td>\n",
       "      <td>1700</td>\n",
       "      <td>2044.0</td>\n",
       "    </tr>\n",
       "    <tr>\n",
       "      <th>2366</th>\n",
       "      <td>166582</td>\n",
       "      <td>2019-10-02</td>\n",
       "      <td>885876</td>\n",
       "      <td>1570</td>\n",
       "      <td>2036.0</td>\n",
       "    </tr>\n",
       "    <tr>\n",
       "      <th>...</th>\n",
       "      <td>...</td>\n",
       "      <td>...</td>\n",
       "      <td>...</td>\n",
       "      <td>...</td>\n",
       "      <td>...</td>\n",
       "    </tr>\n",
       "    <tr>\n",
       "      <th>1788</th>\n",
       "      <td>166520</td>\n",
       "      <td>2019-09-17</td>\n",
       "      <td>892028</td>\n",
       "      <td>4</td>\n",
       "      <td>0.0</td>\n",
       "    </tr>\n",
       "    <tr>\n",
       "      <th>18837</th>\n",
       "      <td>168336</td>\n",
       "      <td>2019-11-20</td>\n",
       "      <td>966158</td>\n",
       "      <td>1</td>\n",
       "      <td>0.0</td>\n",
       "    </tr>\n",
       "    <tr>\n",
       "      <th>11893</th>\n",
       "      <td>167471</td>\n",
       "      <td>2019-10-25</td>\n",
       "      <td>944644</td>\n",
       "      <td>1</td>\n",
       "      <td>0.0</td>\n",
       "    </tr>\n",
       "    <tr>\n",
       "      <th>18830</th>\n",
       "      <td>168336</td>\n",
       "      <td>2019-11-19</td>\n",
       "      <td>948758</td>\n",
       "      <td>1</td>\n",
       "      <td>0.0</td>\n",
       "    </tr>\n",
       "    <tr>\n",
       "      <th>3554</th>\n",
       "      <td>166660</td>\n",
       "      <td>2019-08-26</td>\n",
       "      <td>887802</td>\n",
       "      <td>9</td>\n",
       "      <td>0.0</td>\n",
       "    </tr>\n",
       "  </tbody>\n",
       "</table>\n",
       "<p>19647 rows × 5 columns</p>\n",
       "</div>"
      ],
      "text/plain": [
       "       user_id       date  operator_id  calls_count  call_duration\n",
       "2352    166582 2019-09-25       885876         2039         2418.0\n",
       "2354    166582 2019-09-26       885876         1603         2287.0\n",
       "2326    166582 2019-09-12       885876         1104         2113.0\n",
       "2320    166582 2019-09-09       885876         1700         2044.0\n",
       "2366    166582 2019-10-02       885876         1570         2036.0\n",
       "...        ...        ...          ...          ...            ...\n",
       "1788    166520 2019-09-17       892028            4            0.0\n",
       "18837   168336 2019-11-20       966158            1            0.0\n",
       "11893   167471 2019-10-25       944644            1            0.0\n",
       "18830   168336 2019-11-19       948758            1            0.0\n",
       "3554    166660 2019-08-26       887802            9            0.0\n",
       "\n",
       "[19647 rows x 5 columns]"
      ]
     },
     "execution_count": 34,
     "metadata": {},
     "output_type": "execute_result"
    }
   ],
   "source": [
    "operator_calls.sort_values(by = 'call_duration', ascending = False)"
   ]
  },
  {
   "cell_type": "markdown",
   "id": "576e817a",
   "metadata": {},
   "source": [
    "видим неправдоподобную длительность звонков для одного оператора,\n",
    "возьмем 12 ч как длительность рабочего дня, (например график 2/2 по 12 ч ) 720 минут\n",
    "\n",
    "посчитаем сколько клиентов у которых операторы совершали аномально длинные звонки в день"
   ]
  },
  {
   "cell_type": "code",
   "execution_count": 35,
   "id": "2fe4ff6e",
   "metadata": {},
   "outputs": [
    {
     "data": {
      "text/plain": [
       "1"
      ]
     },
     "execution_count": 35,
     "metadata": {},
     "output_type": "execute_result"
    }
   ],
   "source": [
    "operator_calls.query('call_duration > 720')['user_id'].nunique()"
   ]
  },
  {
   "cell_type": "markdown",
   "id": "97add4ff",
   "metadata": {},
   "source": [
    "найдем этого клиента и сколько у него операторов"
   ]
  },
  {
   "cell_type": "code",
   "execution_count": 36,
   "id": "4d821b2e",
   "metadata": {},
   "outputs": [
    {
     "data": {
      "text/plain": [
       "user_id\n",
       "166582    3\n",
       "Name: operator_id, dtype: int64"
      ]
     },
     "execution_count": 36,
     "metadata": {},
     "output_type": "execute_result"
    }
   ],
   "source": [
    "(operator_calls\n",
    "            .query('call_duration > 720')\n",
    "            .groupby(by='user_id')['operator_id'].nunique()\n",
    "        )"
   ]
  },
  {
   "cell_type": "markdown",
   "id": "5ca48589",
   "metadata": {},
   "source": [
    "получается у клиента 166582 всего 3 оператора    "
   ]
  },
  {
   "cell_type": "markdown",
   "id": "b3ebecf4",
   "metadata": {},
   "source": [
    "посчитаем длительность звонков в месяц у клиента 166582"
   ]
  },
  {
   "cell_type": "code",
   "execution_count": 37,
   "id": "42e3ea9e",
   "metadata": {},
   "outputs": [
    {
     "data": {
      "text/plain": [
       "month\n",
       "2019-08    23249.0\n",
       "2019-09    61826.0\n",
       "2019-10    56030.0\n",
       "2019-11     1310.0\n",
       "Freq: M, Name: call_duration, dtype: float64"
      ]
     },
     "execution_count": 37,
     "metadata": {},
     "output_type": "execute_result"
    }
   ],
   "source": [
    "dataset.query('user_id == 166582').groupby('month')['call_duration'].sum()"
   ]
  },
  {
   "cell_type": "code",
   "execution_count": 38,
   "id": "822fd9c3",
   "metadata": {},
   "outputs": [
    {
     "data": {
      "text/html": [
       "<div>\n",
       "<style scoped>\n",
       "    .dataframe tbody tr th:only-of-type {\n",
       "        vertical-align: middle;\n",
       "    }\n",
       "\n",
       "    .dataframe tbody tr th {\n",
       "        vertical-align: top;\n",
       "    }\n",
       "\n",
       "    .dataframe thead th {\n",
       "        text-align: right;\n",
       "    }\n",
       "</style>\n",
       "<table border=\"1\" class=\"dataframe\">\n",
       "  <thead>\n",
       "    <tr style=\"text-align: right;\">\n",
       "      <th></th>\n",
       "      <th>user_id</th>\n",
       "      <th>tariff_plan</th>\n",
       "      <th>date_start</th>\n",
       "    </tr>\n",
       "  </thead>\n",
       "  <tbody>\n",
       "    <tr>\n",
       "      <th>50</th>\n",
       "      <td>166582</td>\n",
       "      <td>A</td>\n",
       "      <td>2019-08-09</td>\n",
       "    </tr>\n",
       "  </tbody>\n",
       "</table>\n",
       "</div>"
      ],
      "text/plain": [
       "    user_id tariff_plan date_start\n",
       "50   166582           A 2019-08-09"
      ]
     },
     "execution_count": 38,
     "metadata": {},
     "output_type": "execute_result"
    }
   ],
   "source": [
    "clients.query('user_id == 166582')"
   ]
  },
  {
   "cell_type": "markdown",
   "id": "b79e0bd5",
   "metadata": {},
   "source": [
    "нашли одного клиента 166582 Который скрывает своих операторов(Используют один аккаунт оператора сразу для нескольких своих подчинённых) скорее всего у него гораздо больше операторов но платят он только за троих. \n",
    "Ну ему вряд ли можно предложить какой-то более оптимальный тариф потому что он итак использует максимальный тариф А. можно только предложить создать новый тариф. Можем предложить дополнительный контроль со стороны сотового оператора за количеством операторов."
   ]
  },
  {
   "cell_type": "markdown",
   "id": "1b65eeb6",
   "metadata": {},
   "source": [
    "# считаем прибыль \n",
    "\n",
    "по формуле: \n",
    "- абоненская плата = Ежемесячная плата за тариф + число операторов * Дополнительная ежемесячная плата за\n",
    "каждого оператора\n",
    "- цена сверх лимита =(количество исходящих минут внутри сети - Исходящие минуты внутри сети, включённые в тариф) * Цена сверх лимита + (длительность Исходящих звонков, кроме внутренних * цену исходящих звонков)\n",
    "- абоненская плата + цена сверх лимита"
   ]
  },
  {
   "cell_type": "markdown",
   "id": "e1522157",
   "metadata": {},
   "source": [
    "посчитаем количество операторов у каждого клиента"
   ]
  },
  {
   "cell_type": "code",
   "execution_count": 39,
   "id": "bb39bb51",
   "metadata": {},
   "outputs": [
    {
     "data": {
      "text/html": [
       "<div>\n",
       "<style scoped>\n",
       "    .dataframe tbody tr th:only-of-type {\n",
       "        vertical-align: middle;\n",
       "    }\n",
       "\n",
       "    .dataframe tbody tr th {\n",
       "        vertical-align: top;\n",
       "    }\n",
       "\n",
       "    .dataframe thead th {\n",
       "        text-align: right;\n",
       "    }\n",
       "</style>\n",
       "<table border=\"1\" class=\"dataframe\">\n",
       "  <thead>\n",
       "    <tr style=\"text-align: right;\">\n",
       "      <th></th>\n",
       "      <th>user_id</th>\n",
       "      <th>month</th>\n",
       "      <th>operator_cnt</th>\n",
       "    </tr>\n",
       "  </thead>\n",
       "  <tbody>\n",
       "    <tr>\n",
       "      <th>0</th>\n",
       "      <td>166377</td>\n",
       "      <td>2019-08</td>\n",
       "      <td>5</td>\n",
       "    </tr>\n",
       "    <tr>\n",
       "      <th>1</th>\n",
       "      <td>166377</td>\n",
       "      <td>2019-09</td>\n",
       "      <td>4</td>\n",
       "    </tr>\n",
       "    <tr>\n",
       "      <th>2</th>\n",
       "      <td>166377</td>\n",
       "      <td>2019-10</td>\n",
       "      <td>5</td>\n",
       "    </tr>\n",
       "    <tr>\n",
       "      <th>3</th>\n",
       "      <td>166377</td>\n",
       "      <td>2019-11</td>\n",
       "      <td>4</td>\n",
       "    </tr>\n",
       "    <tr>\n",
       "      <th>4</th>\n",
       "      <td>166391</td>\n",
       "      <td>2019-08</td>\n",
       "      <td>2</td>\n",
       "    </tr>\n",
       "  </tbody>\n",
       "</table>\n",
       "</div>"
      ],
      "text/plain": [
       "   user_id    month  operator_cnt\n",
       "0   166377  2019-08             5\n",
       "1   166377  2019-09             4\n",
       "2   166377  2019-10             5\n",
       "3   166377  2019-11             4\n",
       "4   166391  2019-08             2"
      ]
     },
     "execution_count": 39,
     "metadata": {},
     "output_type": "execute_result"
    }
   ],
   "source": [
    "#все клиенты по месяцам с уникальными операторами\n",
    "users = dataset.groupby(['user_id', 'month'])['operator_id'].nunique().reset_index()\n",
    "#переименуем колонки\n",
    "users.columns = ['user_id', 'month', 'operator_cnt']\n",
    "users.head()"
   ]
  },
  {
   "cell_type": "code",
   "execution_count": 40,
   "id": "f58292a6",
   "metadata": {},
   "outputs": [],
   "source": [
    "#operators = dataset.groupby(['user_id', 'month'])['operator_id'].nunique().reset_index()\n",
    "#operators"
   ]
  },
  {
   "cell_type": "markdown",
   "id": "35fbddc2",
   "metadata": {},
   "source": [
    "посчитаем длительность внешних исходящих звонков за месяц у каждого клиента"
   ]
  },
  {
   "cell_type": "code",
   "execution_count": 41,
   "id": "b28beefb",
   "metadata": {},
   "outputs": [
    {
     "data": {
      "text/html": [
       "<div>\n",
       "<style scoped>\n",
       "    .dataframe tbody tr th:only-of-type {\n",
       "        vertical-align: middle;\n",
       "    }\n",
       "\n",
       "    .dataframe tbody tr th {\n",
       "        vertical-align: top;\n",
       "    }\n",
       "\n",
       "    .dataframe thead th {\n",
       "        text-align: right;\n",
       "    }\n",
       "</style>\n",
       "<table border=\"1\" class=\"dataframe\">\n",
       "  <thead>\n",
       "    <tr style=\"text-align: right;\">\n",
       "      <th></th>\n",
       "      <th>user_id</th>\n",
       "      <th>month</th>\n",
       "      <th>internal_false_min</th>\n",
       "    </tr>\n",
       "  </thead>\n",
       "  <tbody>\n",
       "    <tr>\n",
       "      <th>0</th>\n",
       "      <td>166377</td>\n",
       "      <td>2019-08</td>\n",
       "      <td>1102.0</td>\n",
       "    </tr>\n",
       "    <tr>\n",
       "      <th>1</th>\n",
       "      <td>166377</td>\n",
       "      <td>2019-09</td>\n",
       "      <td>1455.0</td>\n",
       "    </tr>\n",
       "    <tr>\n",
       "      <th>2</th>\n",
       "      <td>166377</td>\n",
       "      <td>2019-10</td>\n",
       "      <td>1385.0</td>\n",
       "    </tr>\n",
       "    <tr>\n",
       "      <th>3</th>\n",
       "      <td>166377</td>\n",
       "      <td>2019-11</td>\n",
       "      <td>1327.0</td>\n",
       "    </tr>\n",
       "    <tr>\n",
       "      <th>4</th>\n",
       "      <td>166405</td>\n",
       "      <td>2019-08</td>\n",
       "      <td>750.0</td>\n",
       "    </tr>\n",
       "    <tr>\n",
       "      <th>...</th>\n",
       "      <td>...</td>\n",
       "      <td>...</td>\n",
       "      <td>...</td>\n",
       "    </tr>\n",
       "    <tr>\n",
       "      <th>502</th>\n",
       "      <td>168481</td>\n",
       "      <td>2019-11</td>\n",
       "      <td>8.0</td>\n",
       "    </tr>\n",
       "    <tr>\n",
       "      <th>503</th>\n",
       "      <td>168500</td>\n",
       "      <td>2019-11</td>\n",
       "      <td>0.0</td>\n",
       "    </tr>\n",
       "    <tr>\n",
       "      <th>504</th>\n",
       "      <td>168601</td>\n",
       "      <td>2019-11</td>\n",
       "      <td>415.0</td>\n",
       "    </tr>\n",
       "    <tr>\n",
       "      <th>505</th>\n",
       "      <td>168603</td>\n",
       "      <td>2019-11</td>\n",
       "      <td>17.0</td>\n",
       "    </tr>\n",
       "    <tr>\n",
       "      <th>506</th>\n",
       "      <td>168606</td>\n",
       "      <td>2019-11</td>\n",
       "      <td>15.0</td>\n",
       "    </tr>\n",
       "  </tbody>\n",
       "</table>\n",
       "<p>507 rows × 3 columns</p>\n",
       "</div>"
      ],
      "text/plain": [
       "     user_id    month  internal_false_min\n",
       "0     166377  2019-08              1102.0\n",
       "1     166377  2019-09              1455.0\n",
       "2     166377  2019-10              1385.0\n",
       "3     166377  2019-11              1327.0\n",
       "4     166405  2019-08               750.0\n",
       "..       ...      ...                 ...\n",
       "502   168481  2019-11                 8.0\n",
       "503   168500  2019-11                 0.0\n",
       "504   168601  2019-11               415.0\n",
       "505   168603  2019-11                17.0\n",
       "506   168606  2019-11                15.0\n",
       "\n",
       "[507 rows x 3 columns]"
      ]
     },
     "execution_count": 41,
     "metadata": {},
     "output_type": "execute_result"
    }
   ],
   "source": [
    "month_data_false = (dataset\n",
    "    .query('direction == \"out\" and internal == False')\n",
    "    .groupby(by=['user_id', 'month'])['call_duration'].sum()\n",
    "    .reset_index()\n",
    ")\n",
    "month_data_false.columns = ['user_id', 'month', 'internal_false_min']\n",
    "month_data_false"
   ]
  },
  {
   "cell_type": "markdown",
   "id": "56d7c016",
   "metadata": {},
   "source": [
    "посмотрим распределение длительности звонков за месяц у клиентов"
   ]
  },
  {
   "cell_type": "code",
   "execution_count": 42,
   "id": "593dd689",
   "metadata": {},
   "outputs": [
    {
     "data": {
      "image/png": "[encoded data removed]",
      "text/plain": [
       "<Figure size 640x480 with 1 Axes>"
      ]
     },
     "metadata": {},
     "output_type": "display_data"
    }
   ],
   "source": [
    "month_data_false['internal_false_min'].hist(bins=50)\n",
    "plt.show()"
   ]
  },
  {
   "cell_type": "markdown",
   "id": "a19fd8ce",
   "metadata": {},
   "source": [
    "в основном совершали мало исходящих внутрених звонков но есть некоторые которые звонят по долгу в месяц"
   ]
  },
  {
   "cell_type": "markdown",
   "id": "da9cfdb7",
   "metadata": {},
   "source": [
    "посчитаем длительность внутренних исходящих звонков за месяц у каждого клиента"
   ]
  },
  {
   "cell_type": "code",
   "execution_count": 43,
   "id": "06c8492a",
   "metadata": {},
   "outputs": [
    {
     "data": {
      "text/html": [
       "<div>\n",
       "<style scoped>\n",
       "    .dataframe tbody tr th:only-of-type {\n",
       "        vertical-align: middle;\n",
       "    }\n",
       "\n",
       "    .dataframe tbody tr th {\n",
       "        vertical-align: top;\n",
       "    }\n",
       "\n",
       "    .dataframe thead th {\n",
       "        text-align: right;\n",
       "    }\n",
       "</style>\n",
       "<table border=\"1\" class=\"dataframe\">\n",
       "  <thead>\n",
       "    <tr style=\"text-align: right;\">\n",
       "      <th></th>\n",
       "      <th>user_id</th>\n",
       "      <th>month</th>\n",
       "      <th>internal_true_min</th>\n",
       "    </tr>\n",
       "  </thead>\n",
       "  <tbody>\n",
       "    <tr>\n",
       "      <th>0</th>\n",
       "      <td>166377</td>\n",
       "      <td>2019-08</td>\n",
       "      <td>1.0</td>\n",
       "    </tr>\n",
       "    <tr>\n",
       "      <th>1</th>\n",
       "      <td>166377</td>\n",
       "      <td>2019-09</td>\n",
       "      <td>0.0</td>\n",
       "    </tr>\n",
       "    <tr>\n",
       "      <th>2</th>\n",
       "      <td>166377</td>\n",
       "      <td>2019-10</td>\n",
       "      <td>1.0</td>\n",
       "    </tr>\n",
       "    <tr>\n",
       "      <th>3</th>\n",
       "      <td>166377</td>\n",
       "      <td>2019-11</td>\n",
       "      <td>2.0</td>\n",
       "    </tr>\n",
       "    <tr>\n",
       "      <th>4</th>\n",
       "      <td>166391</td>\n",
       "      <td>2019-08</td>\n",
       "      <td>0.0</td>\n",
       "    </tr>\n",
       "    <tr>\n",
       "      <th>...</th>\n",
       "      <td>...</td>\n",
       "      <td>...</td>\n",
       "      <td>...</td>\n",
       "    </tr>\n",
       "    <tr>\n",
       "      <th>270</th>\n",
       "      <td>168416</td>\n",
       "      <td>2019-10</td>\n",
       "      <td>0.0</td>\n",
       "    </tr>\n",
       "    <tr>\n",
       "      <th>271</th>\n",
       "      <td>168416</td>\n",
       "      <td>2019-11</td>\n",
       "      <td>0.0</td>\n",
       "    </tr>\n",
       "    <tr>\n",
       "      <th>272</th>\n",
       "      <td>168500</td>\n",
       "      <td>2019-11</td>\n",
       "      <td>1.0</td>\n",
       "    </tr>\n",
       "    <tr>\n",
       "      <th>273</th>\n",
       "      <td>168601</td>\n",
       "      <td>2019-11</td>\n",
       "      <td>0.0</td>\n",
       "    </tr>\n",
       "    <tr>\n",
       "      <th>274</th>\n",
       "      <td>168606</td>\n",
       "      <td>2019-11</td>\n",
       "      <td>61.0</td>\n",
       "    </tr>\n",
       "  </tbody>\n",
       "</table>\n",
       "<p>275 rows × 3 columns</p>\n",
       "</div>"
      ],
      "text/plain": [
       "     user_id    month  internal_true_min\n",
       "0     166377  2019-08                1.0\n",
       "1     166377  2019-09                0.0\n",
       "2     166377  2019-10                1.0\n",
       "3     166377  2019-11                2.0\n",
       "4     166391  2019-08                0.0\n",
       "..       ...      ...                ...\n",
       "270   168416  2019-10                0.0\n",
       "271   168416  2019-11                0.0\n",
       "272   168500  2019-11                1.0\n",
       "273   168601  2019-11                0.0\n",
       "274   168606  2019-11               61.0\n",
       "\n",
       "[275 rows x 3 columns]"
      ]
     },
     "execution_count": 43,
     "metadata": {},
     "output_type": "execute_result"
    }
   ],
   "source": [
    "month_data_true = (dataset\n",
    "    .query('direction == \"out\" and internal == True')\n",
    "    .groupby(by=['user_id', 'month'])['call_duration'].sum()\n",
    "    .reset_index()\n",
    ")\n",
    "month_data_true.columns = ['user_id', 'month', 'internal_true_min']\n",
    "month_data_true"
   ]
  },
  {
   "cell_type": "markdown",
   "id": "6e473dc0",
   "metadata": {},
   "source": [
    "соеденим таблицы клиентов с количеством операторов и внешних исходящих звонков "
   ]
  },
  {
   "cell_type": "code",
   "execution_count": 44,
   "id": "365302f7",
   "metadata": {},
   "outputs": [
    {
     "data": {
      "text/html": [
       "<div>\n",
       "<style scoped>\n",
       "    .dataframe tbody tr th:only-of-type {\n",
       "        vertical-align: middle;\n",
       "    }\n",
       "\n",
       "    .dataframe tbody tr th {\n",
       "        vertical-align: top;\n",
       "    }\n",
       "\n",
       "    .dataframe thead th {\n",
       "        text-align: right;\n",
       "    }\n",
       "</style>\n",
       "<table border=\"1\" class=\"dataframe\">\n",
       "  <thead>\n",
       "    <tr style=\"text-align: right;\">\n",
       "      <th></th>\n",
       "      <th>user_id</th>\n",
       "      <th>month</th>\n",
       "      <th>operator_cnt</th>\n",
       "      <th>internal_true_min</th>\n",
       "    </tr>\n",
       "  </thead>\n",
       "  <tbody>\n",
       "    <tr>\n",
       "      <th>0</th>\n",
       "      <td>166377</td>\n",
       "      <td>2019-08</td>\n",
       "      <td>5</td>\n",
       "      <td>1.0</td>\n",
       "    </tr>\n",
       "    <tr>\n",
       "      <th>1</th>\n",
       "      <td>166377</td>\n",
       "      <td>2019-09</td>\n",
       "      <td>4</td>\n",
       "      <td>0.0</td>\n",
       "    </tr>\n",
       "    <tr>\n",
       "      <th>2</th>\n",
       "      <td>166377</td>\n",
       "      <td>2019-10</td>\n",
       "      <td>5</td>\n",
       "      <td>1.0</td>\n",
       "    </tr>\n",
       "    <tr>\n",
       "      <th>3</th>\n",
       "      <td>166377</td>\n",
       "      <td>2019-11</td>\n",
       "      <td>4</td>\n",
       "      <td>2.0</td>\n",
       "    </tr>\n",
       "    <tr>\n",
       "      <th>4</th>\n",
       "      <td>166391</td>\n",
       "      <td>2019-08</td>\n",
       "      <td>2</td>\n",
       "      <td>0.0</td>\n",
       "    </tr>\n",
       "    <tr>\n",
       "      <th>...</th>\n",
       "      <td>...</td>\n",
       "      <td>...</td>\n",
       "      <td>...</td>\n",
       "      <td>...</td>\n",
       "    </tr>\n",
       "    <tr>\n",
       "      <th>787</th>\n",
       "      <td>168583</td>\n",
       "      <td>2019-11</td>\n",
       "      <td>2</td>\n",
       "      <td>NaN</td>\n",
       "    </tr>\n",
       "    <tr>\n",
       "      <th>788</th>\n",
       "      <td>168598</td>\n",
       "      <td>2019-11</td>\n",
       "      <td>1</td>\n",
       "      <td>NaN</td>\n",
       "    </tr>\n",
       "    <tr>\n",
       "      <th>789</th>\n",
       "      <td>168601</td>\n",
       "      <td>2019-11</td>\n",
       "      <td>2</td>\n",
       "      <td>0.0</td>\n",
       "    </tr>\n",
       "    <tr>\n",
       "      <th>790</th>\n",
       "      <td>168603</td>\n",
       "      <td>2019-11</td>\n",
       "      <td>1</td>\n",
       "      <td>NaN</td>\n",
       "    </tr>\n",
       "    <tr>\n",
       "      <th>791</th>\n",
       "      <td>168606</td>\n",
       "      <td>2019-11</td>\n",
       "      <td>1</td>\n",
       "      <td>61.0</td>\n",
       "    </tr>\n",
       "  </tbody>\n",
       "</table>\n",
       "<p>792 rows × 4 columns</p>\n",
       "</div>"
      ],
      "text/plain": [
       "     user_id    month  operator_cnt  internal_true_min\n",
       "0     166377  2019-08             5                1.0\n",
       "1     166377  2019-09             4                0.0\n",
       "2     166377  2019-10             5                1.0\n",
       "3     166377  2019-11             4                2.0\n",
       "4     166391  2019-08             2                0.0\n",
       "..       ...      ...           ...                ...\n",
       "787   168583  2019-11             2                NaN\n",
       "788   168598  2019-11             1                NaN\n",
       "789   168601  2019-11             2                0.0\n",
       "790   168603  2019-11             1                NaN\n",
       "791   168606  2019-11             1               61.0\n",
       "\n",
       "[792 rows x 4 columns]"
      ]
     },
     "execution_count": 44,
     "metadata": {},
     "output_type": "execute_result"
    }
   ],
   "source": [
    "dt = users.merge(month_data_true, how = 'left', on=['user_id', 'month'])\n",
    "dt"
   ]
  },
  {
   "cell_type": "markdown",
   "id": "360db30b",
   "metadata": {},
   "source": [
    "соеденим таблицы с внутреними исходящими звонками"
   ]
  },
  {
   "cell_type": "code",
   "execution_count": 45,
   "id": "fcaf3fcd",
   "metadata": {},
   "outputs": [
    {
     "data": {
      "text/html": [
       "<div>\n",
       "<style scoped>\n",
       "    .dataframe tbody tr th:only-of-type {\n",
       "        vertical-align: middle;\n",
       "    }\n",
       "\n",
       "    .dataframe tbody tr th {\n",
       "        vertical-align: top;\n",
       "    }\n",
       "\n",
       "    .dataframe thead th {\n",
       "        text-align: right;\n",
       "    }\n",
       "</style>\n",
       "<table border=\"1\" class=\"dataframe\">\n",
       "  <thead>\n",
       "    <tr style=\"text-align: right;\">\n",
       "      <th></th>\n",
       "      <th>user_id</th>\n",
       "      <th>month</th>\n",
       "      <th>operator_cnt</th>\n",
       "      <th>internal_true_min</th>\n",
       "      <th>internal_false_min</th>\n",
       "    </tr>\n",
       "  </thead>\n",
       "  <tbody>\n",
       "    <tr>\n",
       "      <th>0</th>\n",
       "      <td>166377</td>\n",
       "      <td>2019-08</td>\n",
       "      <td>5</td>\n",
       "      <td>1.0</td>\n",
       "      <td>1102.0</td>\n",
       "    </tr>\n",
       "    <tr>\n",
       "      <th>1</th>\n",
       "      <td>166377</td>\n",
       "      <td>2019-09</td>\n",
       "      <td>4</td>\n",
       "      <td>0.0</td>\n",
       "      <td>1455.0</td>\n",
       "    </tr>\n",
       "    <tr>\n",
       "      <th>2</th>\n",
       "      <td>166377</td>\n",
       "      <td>2019-10</td>\n",
       "      <td>5</td>\n",
       "      <td>1.0</td>\n",
       "      <td>1385.0</td>\n",
       "    </tr>\n",
       "    <tr>\n",
       "      <th>3</th>\n",
       "      <td>166377</td>\n",
       "      <td>2019-11</td>\n",
       "      <td>4</td>\n",
       "      <td>2.0</td>\n",
       "      <td>1327.0</td>\n",
       "    </tr>\n",
       "    <tr>\n",
       "      <th>4</th>\n",
       "      <td>166391</td>\n",
       "      <td>2019-08</td>\n",
       "      <td>2</td>\n",
       "      <td>0.0</td>\n",
       "      <td>NaN</td>\n",
       "    </tr>\n",
       "    <tr>\n",
       "      <th>...</th>\n",
       "      <td>...</td>\n",
       "      <td>...</td>\n",
       "      <td>...</td>\n",
       "      <td>...</td>\n",
       "      <td>...</td>\n",
       "    </tr>\n",
       "    <tr>\n",
       "      <th>787</th>\n",
       "      <td>168583</td>\n",
       "      <td>2019-11</td>\n",
       "      <td>2</td>\n",
       "      <td>NaN</td>\n",
       "      <td>NaN</td>\n",
       "    </tr>\n",
       "    <tr>\n",
       "      <th>788</th>\n",
       "      <td>168598</td>\n",
       "      <td>2019-11</td>\n",
       "      <td>1</td>\n",
       "      <td>NaN</td>\n",
       "      <td>NaN</td>\n",
       "    </tr>\n",
       "    <tr>\n",
       "      <th>789</th>\n",
       "      <td>168601</td>\n",
       "      <td>2019-11</td>\n",
       "      <td>2</td>\n",
       "      <td>0.0</td>\n",
       "      <td>415.0</td>\n",
       "    </tr>\n",
       "    <tr>\n",
       "      <th>790</th>\n",
       "      <td>168603</td>\n",
       "      <td>2019-11</td>\n",
       "      <td>1</td>\n",
       "      <td>NaN</td>\n",
       "      <td>17.0</td>\n",
       "    </tr>\n",
       "    <tr>\n",
       "      <th>791</th>\n",
       "      <td>168606</td>\n",
       "      <td>2019-11</td>\n",
       "      <td>1</td>\n",
       "      <td>61.0</td>\n",
       "      <td>15.0</td>\n",
       "    </tr>\n",
       "  </tbody>\n",
       "</table>\n",
       "<p>792 rows × 5 columns</p>\n",
       "</div>"
      ],
      "text/plain": [
       "     user_id    month  operator_cnt  internal_true_min  internal_false_min\n",
       "0     166377  2019-08             5                1.0              1102.0\n",
       "1     166377  2019-09             4                0.0              1455.0\n",
       "2     166377  2019-10             5                1.0              1385.0\n",
       "3     166377  2019-11             4                2.0              1327.0\n",
       "4     166391  2019-08             2                0.0                 NaN\n",
       "..       ...      ...           ...                ...                 ...\n",
       "787   168583  2019-11             2                NaN                 NaN\n",
       "788   168598  2019-11             1                NaN                 NaN\n",
       "789   168601  2019-11             2                0.0               415.0\n",
       "790   168603  2019-11             1                NaN                17.0\n",
       "791   168606  2019-11             1               61.0                15.0\n",
       "\n",
       "[792 rows x 5 columns]"
      ]
     },
     "execution_count": 45,
     "metadata": {},
     "output_type": "execute_result"
    }
   ],
   "source": [
    "dt1 = dt.merge(month_data_false, how='outer', on=['user_id', 'month'])\n",
    "dt1"
   ]
  },
  {
   "cell_type": "markdown",
   "id": "ef65e29b",
   "metadata": {},
   "source": [
    "добавим какой тарифный план у каждого клиента"
   ]
  },
  {
   "cell_type": "code",
   "execution_count": 46,
   "id": "14b13dfe",
   "metadata": {},
   "outputs": [
    {
     "data": {
      "text/html": [
       "<div>\n",
       "<style scoped>\n",
       "    .dataframe tbody tr th:only-of-type {\n",
       "        vertical-align: middle;\n",
       "    }\n",
       "\n",
       "    .dataframe tbody tr th {\n",
       "        vertical-align: top;\n",
       "    }\n",
       "\n",
       "    .dataframe thead th {\n",
       "        text-align: right;\n",
       "    }\n",
       "</style>\n",
       "<table border=\"1\" class=\"dataframe\">\n",
       "  <thead>\n",
       "    <tr style=\"text-align: right;\">\n",
       "      <th></th>\n",
       "      <th>user_id</th>\n",
       "      <th>month</th>\n",
       "      <th>operator_cnt</th>\n",
       "      <th>internal_true_min</th>\n",
       "      <th>internal_false_min</th>\n",
       "      <th>tariff_plan</th>\n",
       "    </tr>\n",
       "  </thead>\n",
       "  <tbody>\n",
       "    <tr>\n",
       "      <th>0</th>\n",
       "      <td>166377</td>\n",
       "      <td>2019-08</td>\n",
       "      <td>5</td>\n",
       "      <td>1.0</td>\n",
       "      <td>1102.0</td>\n",
       "      <td>B</td>\n",
       "    </tr>\n",
       "    <tr>\n",
       "      <th>1</th>\n",
       "      <td>166377</td>\n",
       "      <td>2019-09</td>\n",
       "      <td>4</td>\n",
       "      <td>0.0</td>\n",
       "      <td>1455.0</td>\n",
       "      <td>B</td>\n",
       "    </tr>\n",
       "    <tr>\n",
       "      <th>2</th>\n",
       "      <td>166377</td>\n",
       "      <td>2019-10</td>\n",
       "      <td>5</td>\n",
       "      <td>1.0</td>\n",
       "      <td>1385.0</td>\n",
       "      <td>B</td>\n",
       "    </tr>\n",
       "    <tr>\n",
       "      <th>3</th>\n",
       "      <td>166377</td>\n",
       "      <td>2019-11</td>\n",
       "      <td>4</td>\n",
       "      <td>2.0</td>\n",
       "      <td>1327.0</td>\n",
       "      <td>B</td>\n",
       "    </tr>\n",
       "    <tr>\n",
       "      <th>4</th>\n",
       "      <td>166391</td>\n",
       "      <td>2019-08</td>\n",
       "      <td>2</td>\n",
       "      <td>0.0</td>\n",
       "      <td>NaN</td>\n",
       "      <td>C</td>\n",
       "    </tr>\n",
       "    <tr>\n",
       "      <th>...</th>\n",
       "      <td>...</td>\n",
       "      <td>...</td>\n",
       "      <td>...</td>\n",
       "      <td>...</td>\n",
       "      <td>...</td>\n",
       "      <td>...</td>\n",
       "    </tr>\n",
       "    <tr>\n",
       "      <th>787</th>\n",
       "      <td>168583</td>\n",
       "      <td>2019-11</td>\n",
       "      <td>2</td>\n",
       "      <td>NaN</td>\n",
       "      <td>NaN</td>\n",
       "      <td>B</td>\n",
       "    </tr>\n",
       "    <tr>\n",
       "      <th>788</th>\n",
       "      <td>168598</td>\n",
       "      <td>2019-11</td>\n",
       "      <td>1</td>\n",
       "      <td>NaN</td>\n",
       "      <td>NaN</td>\n",
       "      <td>C</td>\n",
       "    </tr>\n",
       "    <tr>\n",
       "      <th>789</th>\n",
       "      <td>168601</td>\n",
       "      <td>2019-11</td>\n",
       "      <td>2</td>\n",
       "      <td>0.0</td>\n",
       "      <td>415.0</td>\n",
       "      <td>C</td>\n",
       "    </tr>\n",
       "    <tr>\n",
       "      <th>790</th>\n",
       "      <td>168603</td>\n",
       "      <td>2019-11</td>\n",
       "      <td>1</td>\n",
       "      <td>NaN</td>\n",
       "      <td>17.0</td>\n",
       "      <td>B</td>\n",
       "    </tr>\n",
       "    <tr>\n",
       "      <th>791</th>\n",
       "      <td>168606</td>\n",
       "      <td>2019-11</td>\n",
       "      <td>1</td>\n",
       "      <td>61.0</td>\n",
       "      <td>15.0</td>\n",
       "      <td>C</td>\n",
       "    </tr>\n",
       "  </tbody>\n",
       "</table>\n",
       "<p>792 rows × 6 columns</p>\n",
       "</div>"
      ],
      "text/plain": [
       "     user_id    month  operator_cnt  internal_true_min  internal_false_min  \\\n",
       "0     166377  2019-08             5                1.0              1102.0   \n",
       "1     166377  2019-09             4                0.0              1455.0   \n",
       "2     166377  2019-10             5                1.0              1385.0   \n",
       "3     166377  2019-11             4                2.0              1327.0   \n",
       "4     166391  2019-08             2                0.0                 NaN   \n",
       "..       ...      ...           ...                ...                 ...   \n",
       "787   168583  2019-11             2                NaN                 NaN   \n",
       "788   168598  2019-11             1                NaN                 NaN   \n",
       "789   168601  2019-11             2                0.0               415.0   \n",
       "790   168603  2019-11             1                NaN                17.0   \n",
       "791   168606  2019-11             1               61.0                15.0   \n",
       "\n",
       "    tariff_plan  \n",
       "0             B  \n",
       "1             B  \n",
       "2             B  \n",
       "3             B  \n",
       "4             C  \n",
       "..          ...  \n",
       "787           B  \n",
       "788           C  \n",
       "789           C  \n",
       "790           B  \n",
       "791           C  \n",
       "\n",
       "[792 rows x 6 columns]"
      ]
     },
     "execution_count": 46,
     "metadata": {},
     "output_type": "execute_result"
    }
   ],
   "source": [
    "dt2 = dt1.merge(clients[['user_id', 'tariff_plan']], how='left', on='user_id')\n",
    "dt2"
   ]
  },
  {
   "cell_type": "markdown",
   "id": "6035addf",
   "metadata": {},
   "source": [
    "добавим информацию по тарифным планам"
   ]
  },
  {
   "cell_type": "code",
   "execution_count": 47,
   "id": "859ecf53",
   "metadata": {},
   "outputs": [],
   "source": [
    "limit_minutes = {'A': 2000, 'B': 500, 'C': 0 }"
   ]
  },
  {
   "cell_type": "code",
   "execution_count": 48,
   "id": "ac2e28cf",
   "metadata": {},
   "outputs": [],
   "source": [
    "monthly_pay = {'A': 4000, 'B': 2000, 'C': 1000}"
   ]
  },
  {
   "cell_type": "code",
   "execution_count": 49,
   "id": "74f9622b",
   "metadata": {},
   "outputs": [],
   "source": [
    "operators_pay = {'A': 50, 'B': 150, 'C': 300}"
   ]
  },
  {
   "cell_type": "code",
   "execution_count": 50,
   "id": "d49d956e",
   "metadata": {},
   "outputs": [],
   "source": [
    "overpay = {'A': 0.1, 'B': 0.15, 'C': 0.3}"
   ]
  },
  {
   "cell_type": "code",
   "execution_count": 51,
   "id": "ae62fbc0",
   "metadata": {},
   "outputs": [],
   "source": [
    "out_calls = {'A': 0.3, 'B': 0.5, 'C': 0.7}"
   ]
  },
  {
   "cell_type": "code",
   "execution_count": 52,
   "id": "13079ee0",
   "metadata": {},
   "outputs": [],
   "source": [
    "dt2['limit_minutes'] = dt2['tariff_plan'].map(limit_minutes)"
   ]
  },
  {
   "cell_type": "code",
   "execution_count": 53,
   "id": "fc88eb92",
   "metadata": {},
   "outputs": [],
   "source": [
    "dt2['monthly_pay'] = dt2['tariff_plan'].map(monthly_pay)"
   ]
  },
  {
   "cell_type": "code",
   "execution_count": 54,
   "id": "200e4b81",
   "metadata": {},
   "outputs": [],
   "source": [
    "dt2['operators_pay'] = dt2['tariff_plan'].map(operators_pay)"
   ]
  },
  {
   "cell_type": "code",
   "execution_count": 55,
   "id": "9494f361",
   "metadata": {},
   "outputs": [],
   "source": [
    "dt2['overpay'] = dt2['tariff_plan'].map(overpay)"
   ]
  },
  {
   "cell_type": "code",
   "execution_count": 56,
   "id": "64ad183e",
   "metadata": {},
   "outputs": [],
   "source": [
    "dt2['out_calls'] = dt2['tariff_plan'].map(out_calls)"
   ]
  },
  {
   "cell_type": "code",
   "execution_count": 57,
   "id": "71a4dd81",
   "metadata": {},
   "outputs": [
    {
     "name": "stdout",
     "output_type": "stream",
     "text": [
      "<class 'pandas.core.frame.DataFrame'>\n",
      "Int64Index: 792 entries, 0 to 791\n",
      "Data columns (total 11 columns):\n",
      " #   Column              Non-Null Count  Dtype    \n",
      "---  ------              --------------  -----    \n",
      " 0   user_id             792 non-null    int64    \n",
      " 1   month               792 non-null    period[M]\n",
      " 2   operator_cnt        792 non-null    int64    \n",
      " 3   internal_true_min   275 non-null    float64  \n",
      " 4   internal_false_min  507 non-null    float64  \n",
      " 5   tariff_plan         792 non-null    object   \n",
      " 6   limit_minutes       792 non-null    int64    \n",
      " 7   monthly_pay         792 non-null    int64    \n",
      " 8   operators_pay       792 non-null    int64    \n",
      " 9   overpay             792 non-null    float64  \n",
      " 10  out_calls           792 non-null    float64  \n",
      "dtypes: float64(4), int64(5), object(1), period[M](1)\n",
      "memory usage: 74.2+ KB\n"
     ]
    }
   ],
   "source": [
    "dt2.info()"
   ]
  },
  {
   "cell_type": "markdown",
   "id": "f1618ac0",
   "metadata": {},
   "source": [
    "заменим пропуски internal_true_min и internal_false_min на 0"
   ]
  },
  {
   "cell_type": "code",
   "execution_count": 58,
   "id": "8609a74b",
   "metadata": {},
   "outputs": [],
   "source": [
    "dt2[['internal_true_min', 'internal_false_min']] = dt2[['internal_true_min', 'internal_false_min']].fillna(0)"
   ]
  },
  {
   "cell_type": "markdown",
   "id": "83a4d095",
   "metadata": {},
   "source": [
    "расчет абоненской платы по месяцам + плата за каждого оператора"
   ]
  },
  {
   "cell_type": "code",
   "execution_count": 59,
   "id": "0670e118",
   "metadata": {},
   "outputs": [],
   "source": [
    "dt2['monthly_fee'] = dt2['monthly_pay'] + (dt2['operator_cnt'] * dt2['operators_pay'])"
   ]
  },
  {
   "cell_type": "markdown",
   "id": "100146f9",
   "metadata": {},
   "source": [
    "расчет платы сверх предоставленных минут и исходящие внешние звонки в месяц"
   ]
  },
  {
   "cell_type": "code",
   "execution_count": 60,
   "id": "e1869612",
   "metadata": {},
   "outputs": [],
   "source": [
    "#функция для расчета сверх предоставленных минут и исходящих внешних звонков\n",
    "def pay_calc(row):\n",
    "    \n",
    "    if row['internal_true_min'] > row['limit_minutes']:\n",
    "            \n",
    "        return (row['internal_true_min'] - row['limit_minutes']) * row['overpay'] + (row['internal_false_min'] * row['out_calls'])\n",
    "    else:\n",
    "        return (row['internal_false_min'] * row['out_calls'])"
   ]
  },
  {
   "cell_type": "code",
   "execution_count": 61,
   "id": "ed1d80e4",
   "metadata": {},
   "outputs": [],
   "source": [
    "dt2['overpay_total'] = dt2.apply(pay_calc, axis = 1)"
   ]
  },
  {
   "cell_type": "markdown",
   "id": "9bc1b548",
   "metadata": {},
   "source": [
    "расчет общей платы в месяц"
   ]
  },
  {
   "cell_type": "code",
   "execution_count": 62,
   "id": "8ed27445",
   "metadata": {},
   "outputs": [],
   "source": [
    "dt2['total_pay'] = dt2['monthly_fee'] + dt2['overpay_total']"
   ]
  },
  {
   "cell_type": "code",
   "execution_count": 63,
   "id": "5665c3d6",
   "metadata": {},
   "outputs": [],
   "source": [
    "#проверка вывода минимума из трех колонок\n",
    "#dt2[['monthly_fee', 'overpay_total', 'total_pay']].min(axis=1)"
   ]
  },
  {
   "cell_type": "markdown",
   "id": "0efb36ce",
   "metadata": {},
   "source": [
    "общая информация по общей сумме за месяц"
   ]
  },
  {
   "cell_type": "code",
   "execution_count": 64,
   "id": "f3d1fe5e",
   "metadata": {},
   "outputs": [
    {
     "data": {
      "text/plain": [
       "count      792.000000\n",
       "mean      2488.171591\n",
       "std       1862.424198\n",
       "min       1000.000000\n",
       "25%       1368.250000\n",
       "50%       2150.000000\n",
       "75%       2755.000000\n",
       "max      22326.500000\n",
       "Name: total_pay, dtype: float64"
      ]
     },
     "execution_count": 64,
     "metadata": {},
     "output_type": "execute_result"
    }
   ],
   "source": [
    "dt2['total_pay'].describe()"
   ]
  },
  {
   "cell_type": "markdown",
   "id": "d94406d1",
   "metadata": {},
   "source": [
    "Прибыль за месяц по тарифам:"
   ]
  },
  {
   "cell_type": "code",
   "execution_count": 65,
   "id": "d37c44bc",
   "metadata": {},
   "outputs": [
    {
     "data": {
      "image/png": "[encoded data removed]",
      "text/plain": [
       "<Figure size 640x480 with 1 Axes>"
      ]
     },
     "metadata": {},
     "output_type": "display_data"
    }
   ],
   "source": [
    "sns.histplot(data=dt2, x=\"total_pay\", hue='tariff_plan')\n",
    "plt.show()"
   ]
  },
  {
   "cell_type": "markdown",
   "id": "0916faf0",
   "metadata": {},
   "source": [
    "# Ищем оптимальный тариф"
   ]
  },
  {
   "cell_type": "markdown",
   "id": "58040f1f",
   "metadata": {},
   "source": [
    "информация о тарифах"
   ]
  },
  {
   "cell_type": "code",
   "execution_count": 66,
   "id": "3a2993d3",
   "metadata": {},
   "outputs": [
    {
     "data": {
      "text/html": [
       "<div>\n",
       "<style scoped>\n",
       "    .dataframe tbody tr th:only-of-type {\n",
       "        vertical-align: middle;\n",
       "    }\n",
       "\n",
       "    .dataframe tbody tr th {\n",
       "        vertical-align: top;\n",
       "    }\n",
       "\n",
       "    .dataframe thead th {\n",
       "        text-align: right;\n",
       "    }\n",
       "</style>\n",
       "<table border=\"1\" class=\"dataframe\">\n",
       "  <thead>\n",
       "    <tr style=\"text-align: right;\">\n",
       "      <th></th>\n",
       "      <th>limit_minutes</th>\n",
       "      <th>monthly_pay</th>\n",
       "      <th>operators_pay</th>\n",
       "      <th>overpay</th>\n",
       "      <th>out_calls</th>\n",
       "    </tr>\n",
       "    <tr>\n",
       "      <th>tariff_plan</th>\n",
       "      <th></th>\n",
       "      <th></th>\n",
       "      <th></th>\n",
       "      <th></th>\n",
       "      <th></th>\n",
       "    </tr>\n",
       "  </thead>\n",
       "  <tbody>\n",
       "    <tr>\n",
       "      <th>A</th>\n",
       "      <td>2000</td>\n",
       "      <td>4000</td>\n",
       "      <td>50</td>\n",
       "      <td>0.10</td>\n",
       "      <td>0.3</td>\n",
       "    </tr>\n",
       "    <tr>\n",
       "      <th>B</th>\n",
       "      <td>500</td>\n",
       "      <td>2000</td>\n",
       "      <td>150</td>\n",
       "      <td>0.15</td>\n",
       "      <td>0.5</td>\n",
       "    </tr>\n",
       "    <tr>\n",
       "      <th>C</th>\n",
       "      <td>0</td>\n",
       "      <td>1000</td>\n",
       "      <td>300</td>\n",
       "      <td>0.30</td>\n",
       "      <td>0.7</td>\n",
       "    </tr>\n",
       "  </tbody>\n",
       "</table>\n",
       "</div>"
      ],
      "text/plain": [
       "             limit_minutes  monthly_pay  operators_pay  overpay  out_calls\n",
       "tariff_plan                                                               \n",
       "A                     2000         4000             50     0.10        0.3\n",
       "B                      500         2000            150     0.15        0.5\n",
       "C                        0         1000            300     0.30        0.7"
      ]
     },
     "execution_count": 66,
     "metadata": {},
     "output_type": "execute_result"
    }
   ],
   "source": [
    "tariff = (dt2.groupby('tariff_plan')\n",
    " .agg({'limit_minutes': 'min', 'monthly_pay': 'min', 'operators_pay': 'min' , 'overpay': 'min', 'out_calls': 'min'}))\n",
    "tariff"
   ]
  },
  {
   "cell_type": "code",
   "execution_count": 67,
   "id": "b2e7d9c2",
   "metadata": {},
   "outputs": [],
   "source": [
    "# #tariff['tariff_plan'] == 'B'\n",
    "# tariff.query('tariff_plan == \"B\"')['limit_minutes']['B']\n",
    "# tariff.loc['B']['limit_minutes']"
   ]
  },
  {
   "cell_type": "code",
   "execution_count": 68,
   "id": "4f1bf995",
   "metadata": {},
   "outputs": [],
   "source": [
    "# функция расчитывает оплату по тарифу\n",
    "def calc_all_tariffs(data, plan):\n",
    "    \n",
    "    res_a = []\n",
    "    for index, row in data.iterrows():\n",
    "        #print(row)\n",
    "        if row['internal_true_min'] > tariff.query('tariff_plan == @plan')['limit_minutes'][plan]:\n",
    "            result = tariff.loc[plan]['monthly_pay'] + (row['operator_cnt'] * tariff.loc[plan]['operators_pay']) +  (row['internal_true_min'] - row['limit_minutes']) * tariff.loc[plan]['overpay'] + row['internal_false_min'] * tariff.loc[plan]['out_calls']\n",
    "            res_a.append(result)\n",
    "        else:\n",
    "            res_a.append(tariff.loc[plan]['monthly_pay'] + (row['operator_cnt'] * tariff.loc[plan]['operators_pay']) + row['internal_false_min'] * tariff.loc[plan]['out_calls'])\n",
    " \n",
    "    return res_a"
   ]
  },
  {
   "cell_type": "code",
   "execution_count": 69,
   "id": "c146bdfa",
   "metadata": {},
   "outputs": [],
   "source": [
    "dt2['tariff_A'] = calc_all_tariffs(dt2, 'A')\n",
    "dt2['tariff_B'] = calc_all_tariffs(dt2, 'B')\n",
    "dt2['tariff_C'] = calc_all_tariffs(dt2, 'C')"
   ]
  },
  {
   "cell_type": "code",
   "execution_count": 70,
   "id": "dba4c028",
   "metadata": {},
   "outputs": [],
   "source": [
    "#функция находит оптимальный тариф\n",
    "def tariff_optimal(row):\n",
    "\n",
    "    if row['tariff_A'] < row['tariff_B']:\n",
    "        \n",
    "        if row['tariff_A'] < row['tariff_C']:\n",
    "            final = 'A'\n",
    "        else:\n",
    "            final = 'C'\n",
    "    else:\n",
    "        if row['tariff_B'] < row['tariff_C']:\n",
    "            final = 'B'\n",
    "        else:\n",
    "            final = 'C'\n",
    "    return final"
   ]
  },
  {
   "cell_type": "code",
   "execution_count": 71,
   "id": "3fc059ad",
   "metadata": {},
   "outputs": [],
   "source": [
    "dt2['tariff_optimal'] = dt2.apply(tariff_optimal, axis = 1)"
   ]
  },
  {
   "cell_type": "markdown",
   "id": "339a0368",
   "metadata": {},
   "source": [
    "добавим колонку где True это у клиента уже был оптимальный тариф, False - клиенту нужно предложить оптимальный тариф из колонки tariff_optimal"
   ]
  },
  {
   "cell_type": "code",
   "execution_count": 72,
   "id": "4836e2f4",
   "metadata": {},
   "outputs": [],
   "source": [
    "dt2['is_optimal'] = np.where(dt2['tariff_plan'] == dt2['tariff_optimal'], True, False)"
   ]
  },
  {
   "cell_type": "markdown",
   "id": "ffd124db",
   "metadata": {},
   "source": [
    "находим минимальный тариф"
   ]
  },
  {
   "cell_type": "code",
   "execution_count": 73,
   "id": "b8a905fb",
   "metadata": {},
   "outputs": [],
   "source": [
    "dt2['optimal_pay'] = dt2[['tariff_A', 'tariff_B', 'tariff_C']].min(axis=1)"
   ]
  },
  {
   "cell_type": "markdown",
   "id": "6cb9747c",
   "metadata": {},
   "source": [
    "кол-во клиентов с оптимальными и неоптимальными тарифами"
   ]
  },
  {
   "cell_type": "code",
   "execution_count": 74,
   "id": "117e9e78",
   "metadata": {},
   "outputs": [
    {
     "data": {
      "text/plain": [
       "is_optimal\n",
       "False    157\n",
       "True     169\n",
       "Name: user_id, dtype: int64"
      ]
     },
     "execution_count": 74,
     "metadata": {},
     "output_type": "execute_result"
    }
   ],
   "source": [
    "dt2.groupby(by='is_optimal')['user_id'].nunique()"
   ]
  },
  {
   "cell_type": "code",
   "execution_count": 75,
   "id": "79655026",
   "metadata": {},
   "outputs": [
    {
     "data": {
      "image/png": "[encoded data removed]",
      "text/plain": [
       "<Figure size 700x300 with 1 Axes>"
      ]
     },
     "metadata": {},
     "output_type": "display_data"
    }
   ],
   "source": [
    "dt2.groupby(by='is_optimal')['user_id'].nunique().plot(kind = 'pie', autopct='%1.1f%%', figsize = (7, 3), ylabel='')\n",
    "plt.title('кол-во клиентов с оптимальными и неоптимальными тарифами')\n",
    "plt.show()"
   ]
  },
  {
   "cell_type": "markdown",
   "id": "0f99afc0",
   "metadata": {},
   "source": [
    "около половины пользователей с неоптимальными тарифами "
   ]
  },
  {
   "cell_type": "markdown",
   "id": "762c2640",
   "metadata": {},
   "source": [
    "Посмотрим распределения по тарифам до и после перевода на оптимальные тарифы"
   ]
  },
  {
   "cell_type": "code",
   "execution_count": 76,
   "id": "77de182f",
   "metadata": {},
   "outputs": [
    {
     "data": {
      "image/png": "[encoded data removed]",
      "text/plain": [
       "<Figure size 1000x400 with 2 Axes>"
      ]
     },
     "metadata": {},
     "output_type": "display_data"
    }
   ],
   "source": [
    "fig, axes = plt.subplots(1, 2, figsize=(22, 8))\n",
    "ax.set_ylabel('ylabel', fontsize=5)\n",
    "dt2.groupby(['tariff_plan'])['user_id'].nunique().plot(kind = 'pie', autopct='%1.1f%%', ax = axes[0], title='Количество клиентов по тарифам - факт'\n",
    "                                                       , ylabel='')\n",
    "dt2.groupby('tariff_optimal')['user_id'].nunique().plot(kind = 'pie', autopct='%1.1f%%', ax = axes[1], title = 'Количество клиентов по тарифам - по оптимальным тарифам'\n",
    "                                                        , ylabel='', figsize = (10, 4))\n",
    "\n",
    "axes[0].title.set_size(9)\n",
    "axes[1].title.set_size(9)\n",
    "plt.show()"
   ]
  },
  {
   "cell_type": "markdown",
   "id": "0fb73656",
   "metadata": {},
   "source": [
    "Делаем вывод, что доля пользователей с тарифами А и В значительно сократится в пользу тарифа С при переходе на оптимальные тарифы"
   ]
  },
  {
   "cell_type": "code",
   "execution_count": 77,
   "id": "a063b53e",
   "metadata": {},
   "outputs": [
    {
     "data": {
      "text/html": [
       "<div>\n",
       "<style scoped>\n",
       "    .dataframe tbody tr th:only-of-type {\n",
       "        vertical-align: middle;\n",
       "    }\n",
       "\n",
       "    .dataframe tbody tr th {\n",
       "        vertical-align: top;\n",
       "    }\n",
       "\n",
       "    .dataframe thead th {\n",
       "        text-align: right;\n",
       "    }\n",
       "</style>\n",
       "<table border=\"1\" class=\"dataframe\">\n",
       "  <thead>\n",
       "    <tr style=\"text-align: right;\">\n",
       "      <th></th>\n",
       "      <th>user_id</th>\n",
       "      <th>month</th>\n",
       "      <th>total_pay</th>\n",
       "      <th>tariff_plan</th>\n",
       "      <th>tariff_optimal</th>\n",
       "      <th>is_optimal</th>\n",
       "      <th>optimal_pay</th>\n",
       "    </tr>\n",
       "  </thead>\n",
       "  <tbody>\n",
       "    <tr>\n",
       "      <th>0</th>\n",
       "      <td>166377</td>\n",
       "      <td>2019-08</td>\n",
       "      <td>3301.0</td>\n",
       "      <td>B</td>\n",
       "      <td>C</td>\n",
       "      <td>False</td>\n",
       "      <td>3121.7</td>\n",
       "    </tr>\n",
       "    <tr>\n",
       "      <th>1</th>\n",
       "      <td>166377</td>\n",
       "      <td>2019-09</td>\n",
       "      <td>3327.5</td>\n",
       "      <td>B</td>\n",
       "      <td>C</td>\n",
       "      <td>False</td>\n",
       "      <td>3218.5</td>\n",
       "    </tr>\n",
       "    <tr>\n",
       "      <th>2</th>\n",
       "      <td>166377</td>\n",
       "      <td>2019-10</td>\n",
       "      <td>3442.5</td>\n",
       "      <td>B</td>\n",
       "      <td>C</td>\n",
       "      <td>False</td>\n",
       "      <td>3319.8</td>\n",
       "    </tr>\n",
       "    <tr>\n",
       "      <th>3</th>\n",
       "      <td>166377</td>\n",
       "      <td>2019-11</td>\n",
       "      <td>3263.5</td>\n",
       "      <td>B</td>\n",
       "      <td>C</td>\n",
       "      <td>False</td>\n",
       "      <td>2979.5</td>\n",
       "    </tr>\n",
       "    <tr>\n",
       "      <th>4</th>\n",
       "      <td>166391</td>\n",
       "      <td>2019-08</td>\n",
       "      <td>1600.0</td>\n",
       "      <td>C</td>\n",
       "      <td>C</td>\n",
       "      <td>True</td>\n",
       "      <td>1600.0</td>\n",
       "    </tr>\n",
       "  </tbody>\n",
       "</table>\n",
       "</div>"
      ],
      "text/plain": [
       "   user_id    month  total_pay tariff_plan tariff_optimal  is_optimal  \\\n",
       "0   166377  2019-08     3301.0           B              C       False   \n",
       "1   166377  2019-09     3327.5           B              C       False   \n",
       "2   166377  2019-10     3442.5           B              C       False   \n",
       "3   166377  2019-11     3263.5           B              C       False   \n",
       "4   166391  2019-08     1600.0           C              C        True   \n",
       "\n",
       "   optimal_pay  \n",
       "0       3121.7  \n",
       "1       3218.5  \n",
       "2       3319.8  \n",
       "3       2979.5  \n",
       "4       1600.0  "
      ]
     },
     "execution_count": 77,
     "metadata": {},
     "output_type": "execute_result"
    }
   ],
   "source": [
    "dt3 = dt2[['user_id', 'month', 'total_pay', 'tariff_plan','tariff_optimal', 'is_optimal', 'optimal_pay']]\n",
    "dt3.head()"
   ]
  },
  {
   "cell_type": "markdown",
   "id": "ad98d483",
   "metadata": {},
   "source": [
    "- сравним фактическую прибыль и прибыль после перехода на оптимальные тарифы по месяцам и если клиеты с неоптимальными тарифами уйдут:"
   ]
  },
  {
   "cell_type": "markdown",
   "id": "ce646d8c",
   "metadata": {},
   "source": [
    "сделаем срез где не будет клиентов с неоптимальными тарифами"
   ]
  },
  {
   "cell_type": "code",
   "execution_count": 78,
   "id": "ebc53619",
   "metadata": {},
   "outputs": [],
   "source": [
    "dt_witout = dt2.query('is_optimal == False')"
   ]
  },
  {
   "cell_type": "code",
   "execution_count": 79,
   "id": "cc1f183e",
   "metadata": {},
   "outputs": [
    {
     "data": {
      "text/html": [
       "<div>\n",
       "<style scoped>\n",
       "    .dataframe tbody tr th:only-of-type {\n",
       "        vertical-align: middle;\n",
       "    }\n",
       "\n",
       "    .dataframe tbody tr th {\n",
       "        vertical-align: top;\n",
       "    }\n",
       "\n",
       "    .dataframe thead th {\n",
       "        text-align: right;\n",
       "    }\n",
       "</style>\n",
       "<table border=\"1\" class=\"dataframe\">\n",
       "  <thead>\n",
       "    <tr style=\"text-align: right;\">\n",
       "      <th></th>\n",
       "      <th>month</th>\n",
       "      <th>rev_without</th>\n",
       "    </tr>\n",
       "  </thead>\n",
       "  <tbody>\n",
       "    <tr>\n",
       "      <th>0</th>\n",
       "      <td>2019-08</td>\n",
       "      <td>131822.0</td>\n",
       "    </tr>\n",
       "    <tr>\n",
       "      <th>1</th>\n",
       "      <td>2019-09</td>\n",
       "      <td>272326.9</td>\n",
       "    </tr>\n",
       "    <tr>\n",
       "      <th>2</th>\n",
       "      <td>2019-10</td>\n",
       "      <td>381686.8</td>\n",
       "    </tr>\n",
       "    <tr>\n",
       "      <th>3</th>\n",
       "      <td>2019-11</td>\n",
       "      <td>378513.7</td>\n",
       "    </tr>\n",
       "  </tbody>\n",
       "</table>\n",
       "</div>"
      ],
      "text/plain": [
       "     month  rev_without\n",
       "0  2019-08     131822.0\n",
       "1  2019-09     272326.9\n",
       "2  2019-10     381686.8\n",
       "3  2019-11     378513.7"
      ]
     },
     "execution_count": 79,
     "metadata": {},
     "output_type": "execute_result"
    }
   ],
   "source": [
    "#посчитаем прибыль без клиентов с неоптимальными тарифами\n",
    "revenue_witout = dt_witout.groupby(by='month').agg({'total_pay': 'sum'})\n",
    "revenue_witout.columns = ['rev_without']\n",
    "revenue_witout = revenue_witout.reset_index()\n",
    "revenue_witout"
   ]
  },
  {
   "cell_type": "code",
   "execution_count": 80,
   "id": "72816834",
   "metadata": {},
   "outputs": [
    {
     "data": {
      "text/html": [
       "<div>\n",
       "<style scoped>\n",
       "    .dataframe tbody tr th:only-of-type {\n",
       "        vertical-align: middle;\n",
       "    }\n",
       "\n",
       "    .dataframe tbody tr th {\n",
       "        vertical-align: top;\n",
       "    }\n",
       "\n",
       "    .dataframe thead th {\n",
       "        text-align: right;\n",
       "    }\n",
       "</style>\n",
       "<table border=\"1\" class=\"dataframe\">\n",
       "  <thead>\n",
       "    <tr style=\"text-align: right;\">\n",
       "      <th></th>\n",
       "      <th>month</th>\n",
       "      <th>total_pay</th>\n",
       "      <th>optimal_pay</th>\n",
       "    </tr>\n",
       "  </thead>\n",
       "  <tbody>\n",
       "    <tr>\n",
       "      <th>0</th>\n",
       "      <td>2019-08</td>\n",
       "      <td>196841.8</td>\n",
       "      <td>147184.8</td>\n",
       "    </tr>\n",
       "    <tr>\n",
       "      <th>1</th>\n",
       "      <td>2019-09</td>\n",
       "      <td>435068.1</td>\n",
       "      <td>343251.1</td>\n",
       "    </tr>\n",
       "    <tr>\n",
       "      <th>2</th>\n",
       "      <td>2019-10</td>\n",
       "      <td>676594.3</td>\n",
       "      <td>547753.8</td>\n",
       "    </tr>\n",
       "    <tr>\n",
       "      <th>3</th>\n",
       "      <td>2019-11</td>\n",
       "      <td>662127.7</td>\n",
       "      <td>539930.8</td>\n",
       "    </tr>\n",
       "  </tbody>\n",
       "</table>\n",
       "</div>"
      ],
      "text/plain": [
       "     month  total_pay  optimal_pay\n",
       "0  2019-08   196841.8     147184.8\n",
       "1  2019-09   435068.1     343251.1\n",
       "2  2019-10   676594.3     547753.8\n",
       "3  2019-11   662127.7     539930.8"
      ]
     },
     "execution_count": 80,
     "metadata": {},
     "output_type": "execute_result"
    }
   ],
   "source": [
    "dif_pay = dt3.groupby(by='month').agg({'total_pay': 'sum', 'optimal_pay': 'sum'}).reset_index()\n",
    "#dif_pay['dif_%'] = dif_pay['optimal_pay']/dif_pay['total_pay']-1\n",
    "dif_pay"
   ]
  },
  {
   "cell_type": "markdown",
   "id": "a0d5802f",
   "metadata": {},
   "source": [
    "прибыль компании если клиенты с неоптимальными тарифами уйдут:"
   ]
  },
  {
   "cell_type": "code",
   "execution_count": 81,
   "id": "1a35af78",
   "metadata": {},
   "outputs": [
    {
     "data": {
      "text/html": [
       "<div>\n",
       "<style scoped>\n",
       "    .dataframe tbody tr th:only-of-type {\n",
       "        vertical-align: middle;\n",
       "    }\n",
       "\n",
       "    .dataframe tbody tr th {\n",
       "        vertical-align: top;\n",
       "    }\n",
       "\n",
       "    .dataframe thead th {\n",
       "        text-align: right;\n",
       "    }\n",
       "</style>\n",
       "<table border=\"1\" class=\"dataframe\">\n",
       "  <thead>\n",
       "    <tr style=\"text-align: right;\">\n",
       "      <th></th>\n",
       "      <th>total_pay</th>\n",
       "      <th>optimal_pay</th>\n",
       "      <th>rev_without</th>\n",
       "    </tr>\n",
       "    <tr>\n",
       "      <th>month</th>\n",
       "      <th></th>\n",
       "      <th></th>\n",
       "      <th></th>\n",
       "    </tr>\n",
       "  </thead>\n",
       "  <tbody>\n",
       "    <tr>\n",
       "      <th>2019-08</th>\n",
       "      <td>196841.8</td>\n",
       "      <td>147184.8</td>\n",
       "      <td>131822.0</td>\n",
       "    </tr>\n",
       "    <tr>\n",
       "      <th>2019-09</th>\n",
       "      <td>435068.1</td>\n",
       "      <td>343251.1</td>\n",
       "      <td>272326.9</td>\n",
       "    </tr>\n",
       "    <tr>\n",
       "      <th>2019-10</th>\n",
       "      <td>676594.3</td>\n",
       "      <td>547753.8</td>\n",
       "      <td>381686.8</td>\n",
       "    </tr>\n",
       "    <tr>\n",
       "      <th>2019-11</th>\n",
       "      <td>662127.7</td>\n",
       "      <td>539930.8</td>\n",
       "      <td>378513.7</td>\n",
       "    </tr>\n",
       "  </tbody>\n",
       "</table>\n",
       "</div>"
      ],
      "text/plain": [
       "         total_pay  optimal_pay  rev_without\n",
       "month                                       \n",
       "2019-08   196841.8     147184.8     131822.0\n",
       "2019-09   435068.1     343251.1     272326.9\n",
       "2019-10   676594.3     547753.8     381686.8\n",
       "2019-11   662127.7     539930.8     378513.7"
      ]
     },
     "execution_count": 81,
     "metadata": {},
     "output_type": "execute_result"
    }
   ],
   "source": [
    "#соединим две таблицы с прибылью\n",
    "dif_pay = dif_pay.merge(revenue_witout,  how='left', on='month').set_index('month')\n",
    "dif_pay"
   ]
  },
  {
   "cell_type": "code",
   "execution_count": 82,
   "id": "c5a9d723",
   "metadata": {},
   "outputs": [
    {
     "data": {
      "text/html": [
       "<div>\n",
       "<style scoped>\n",
       "    .dataframe tbody tr th:only-of-type {\n",
       "        vertical-align: middle;\n",
       "    }\n",
       "\n",
       "    .dataframe tbody tr th {\n",
       "        vertical-align: top;\n",
       "    }\n",
       "\n",
       "    .dataframe thead th {\n",
       "        text-align: right;\n",
       "    }\n",
       "</style>\n",
       "<table border=\"1\" class=\"dataframe\">\n",
       "  <thead>\n",
       "    <tr style=\"text-align: right;\">\n",
       "      <th></th>\n",
       "      <th>total_pay</th>\n",
       "      <th>optimal_pay</th>\n",
       "      <th>dif_%</th>\n",
       "    </tr>\n",
       "    <tr>\n",
       "      <th>month</th>\n",
       "      <th></th>\n",
       "      <th></th>\n",
       "      <th></th>\n",
       "    </tr>\n",
       "  </thead>\n",
       "  <tbody>\n",
       "    <tr>\n",
       "      <th>2019-08</th>\n",
       "      <td>196841.8</td>\n",
       "      <td>147184.8</td>\n",
       "      <td>-0.252269</td>\n",
       "    </tr>\n",
       "    <tr>\n",
       "      <th>2019-09</th>\n",
       "      <td>435068.1</td>\n",
       "      <td>343251.1</td>\n",
       "      <td>-0.211041</td>\n",
       "    </tr>\n",
       "    <tr>\n",
       "      <th>2019-10</th>\n",
       "      <td>676594.3</td>\n",
       "      <td>547753.8</td>\n",
       "      <td>-0.190425</td>\n",
       "    </tr>\n",
       "    <tr>\n",
       "      <th>2019-11</th>\n",
       "      <td>662127.7</td>\n",
       "      <td>539930.8</td>\n",
       "      <td>-0.184552</td>\n",
       "    </tr>\n",
       "  </tbody>\n",
       "</table>\n",
       "</div>"
      ],
      "text/plain": [
       "         total_pay  optimal_pay     dif_%\n",
       "month                                    \n",
       "2019-08   196841.8     147184.8 -0.252269\n",
       "2019-09   435068.1     343251.1 -0.211041\n",
       "2019-10   676594.3     547753.8 -0.190425\n",
       "2019-11   662127.7     539930.8 -0.184552"
      ]
     },
     "execution_count": 82,
     "metadata": {},
     "output_type": "execute_result"
    }
   ],
   "source": [
    "dif_pay = dt3.groupby(by='month').agg({'total_pay': 'sum', 'optimal_pay': 'sum'})\n",
    "dif_pay['dif_%'] = dif_pay['optimal_pay']/dif_pay['total_pay']-1\n",
    "dif_pay"
   ]
  },
  {
   "cell_type": "markdown",
   "id": "57fa8d4e",
   "metadata": {},
   "source": [
    "прибыль компании по месяцам:"
   ]
  },
  {
   "cell_type": "code",
   "execution_count": 83,
   "id": "7127c93a",
   "metadata": {},
   "outputs": [
    {
     "data": {
      "image/png": "[encoded data removed]",
      "text/plain": [
       "<Figure size 500x400 with 1 Axes>"
      ]
     },
     "metadata": {},
     "output_type": "display_data"
    }
   ],
   "source": [
    "dif_pay.plot(kind='bar', figsize=(5,4), position=1, grid=True)\n",
    "plt.title('Разница прибыли по месяцам')\n",
    "plt.xlabel('Месяц')\n",
    "plt.ylabel('Прибыль')\n",
    "plt.show()"
   ]
  },
  {
   "cell_type": "code",
   "execution_count": 84,
   "id": "b3d02558",
   "metadata": {},
   "outputs": [
    {
     "name": "stdout",
     "output_type": "stream",
     "text": [
      "фактическая прибыль = 1970631.9\n",
      "прибыль после перехода на оптимальные тарифы = 1578120.5\n",
      "прибыль если клиенты уйдут= 1164349.4\n"
     ]
    }
   ],
   "source": [
    "print('фактическая прибыль =', dt3['total_pay'].sum())\n",
    "print('прибыль после перехода на оптимальные тарифы =', dt3['optimal_pay'].sum())\n",
    "print('прибыль если клиенты уйдут=', dt_witout['total_pay'].sum())"
   ]
  },
  {
   "cell_type": "markdown",
   "id": "24c1f5b0",
   "metadata": {},
   "source": [
    "если всех клиентов перевести на оптимальные тарифы прибыль компании уменьшится на 20-25%\n",
    "\n",
    "если клиенты уйдут то прибыль сократится примерно на 40%"
   ]
  },
  {
   "cell_type": "code",
   "execution_count": 85,
   "id": "bd00df2d",
   "metadata": {},
   "outputs": [
    {
     "data": {
      "text/html": [
       "<div>\n",
       "<style scoped>\n",
       "    .dataframe tbody tr th:only-of-type {\n",
       "        vertical-align: middle;\n",
       "    }\n",
       "\n",
       "    .dataframe tbody tr th {\n",
       "        vertical-align: top;\n",
       "    }\n",
       "\n",
       "    .dataframe thead th {\n",
       "        text-align: right;\n",
       "    }\n",
       "</style>\n",
       "<table border=\"1\" class=\"dataframe\">\n",
       "  <thead>\n",
       "    <tr style=\"text-align: right;\">\n",
       "      <th></th>\n",
       "      <th></th>\n",
       "      <th>total_pay</th>\n",
       "      <th>optimal_pay</th>\n",
       "    </tr>\n",
       "    <tr>\n",
       "      <th>tariff_plan</th>\n",
       "      <th>month</th>\n",
       "      <th></th>\n",
       "      <th></th>\n",
       "    </tr>\n",
       "  </thead>\n",
       "  <tbody>\n",
       "    <tr>\n",
       "      <th rowspan=\"4\" valign=\"top\">A</th>\n",
       "      <th>2019-08</th>\n",
       "      <td>52225.7</td>\n",
       "      <td>27949.8</td>\n",
       "    </tr>\n",
       "    <tr>\n",
       "      <th>2019-09</th>\n",
       "      <td>103489.2</td>\n",
       "      <td>62517.8</td>\n",
       "    </tr>\n",
       "    <tr>\n",
       "      <th>2019-10</th>\n",
       "      <td>179093.6</td>\n",
       "      <td>113915.0</td>\n",
       "    </tr>\n",
       "    <tr>\n",
       "      <th>2019-11</th>\n",
       "      <td>157876.2</td>\n",
       "      <td>99782.3</td>\n",
       "    </tr>\n",
       "    <tr>\n",
       "      <th rowspan=\"4\" valign=\"top\">B</th>\n",
       "      <th>2019-08</th>\n",
       "      <td>86773.0</td>\n",
       "      <td>61691.5</td>\n",
       "    </tr>\n",
       "    <tr>\n",
       "      <th>2019-09</th>\n",
       "      <td>167900.0</td>\n",
       "      <td>122861.9</td>\n",
       "    </tr>\n",
       "    <tr>\n",
       "      <th>2019-10</th>\n",
       "      <td>240474.0</td>\n",
       "      <td>181739.3</td>\n",
       "    </tr>\n",
       "    <tr>\n",
       "      <th>2019-11</th>\n",
       "      <td>256285.1</td>\n",
       "      <td>196726.7</td>\n",
       "    </tr>\n",
       "    <tr>\n",
       "      <th rowspan=\"4\" valign=\"top\">C</th>\n",
       "      <th>2019-08</th>\n",
       "      <td>57843.1</td>\n",
       "      <td>57543.5</td>\n",
       "    </tr>\n",
       "    <tr>\n",
       "      <th>2019-09</th>\n",
       "      <td>163678.9</td>\n",
       "      <td>157871.4</td>\n",
       "    </tr>\n",
       "    <tr>\n",
       "      <th>2019-10</th>\n",
       "      <td>257026.7</td>\n",
       "      <td>252099.5</td>\n",
       "    </tr>\n",
       "    <tr>\n",
       "      <th>2019-11</th>\n",
       "      <td>247966.4</td>\n",
       "      <td>243421.8</td>\n",
       "    </tr>\n",
       "  </tbody>\n",
       "</table>\n",
       "</div>"
      ],
      "text/plain": [
       "                     total_pay  optimal_pay\n",
       "tariff_plan month                          \n",
       "A           2019-08    52225.7      27949.8\n",
       "            2019-09   103489.2      62517.8\n",
       "            2019-10   179093.6     113915.0\n",
       "            2019-11   157876.2      99782.3\n",
       "B           2019-08    86773.0      61691.5\n",
       "            2019-09   167900.0     122861.9\n",
       "            2019-10   240474.0     181739.3\n",
       "            2019-11   256285.1     196726.7\n",
       "C           2019-08    57843.1      57543.5\n",
       "            2019-09   163678.9     157871.4\n",
       "            2019-10   257026.7     252099.5\n",
       "            2019-11   247966.4     243421.8"
      ]
     },
     "execution_count": 85,
     "metadata": {},
     "output_type": "execute_result"
    }
   ],
   "source": [
    "dt2.groupby(by=['tariff_plan','month']).agg({'total_pay': 'sum', 'optimal_pay':'sum'})"
   ]
  },
  {
   "cell_type": "code",
   "execution_count": 86,
   "id": "59acd843",
   "metadata": {},
   "outputs": [
    {
     "data": {
      "image/png": "[encoded data removed]",
      "text/plain": [
       "<Figure size 500x400 with 1 Axes>"
      ]
     },
     "metadata": {},
     "output_type": "display_data"
    }
   ],
   "source": [
    "(dt2.groupby(by=['tariff_plan','month']).agg({'total_pay': 'sum', 'optimal_pay':'sum'})\n",
    "   .plot(kind='bar', figsize=(5,4), position=1, grid=True, title = 'Прибыль до/после по тарифам')\n",
    ")\n",
    "plt.show()"
   ]
  },
  {
   "cell_type": "markdown",
   "id": "c5c47fee",
   "metadata": {},
   "source": [
    "если мы переведем клиентов на оптимальные тарифы прибыль уменьшится по тарифам А и В. по тарифу С прибыль не изменится хотя туда придут новые клиенты."
   ]
  },
  {
   "cell_type": "markdown",
   "id": "5c4dc14d",
   "metadata": {},
   "source": [
    "сколько в среднем платят клиенты каждого тарифа"
   ]
  },
  {
   "cell_type": "code",
   "execution_count": 87,
   "id": "1d62c8b4",
   "metadata": {},
   "outputs": [
    {
     "data": {
      "text/html": [
       "<div>\n",
       "<style scoped>\n",
       "    .dataframe tbody tr th:only-of-type {\n",
       "        vertical-align: middle;\n",
       "    }\n",
       "\n",
       "    .dataframe tbody tr th {\n",
       "        vertical-align: top;\n",
       "    }\n",
       "\n",
       "    .dataframe thead tr th {\n",
       "        text-align: left;\n",
       "    }\n",
       "\n",
       "    .dataframe thead tr:last-of-type th {\n",
       "        text-align: right;\n",
       "    }\n",
       "</style>\n",
       "<table border=\"1\" class=\"dataframe\">\n",
       "  <thead>\n",
       "    <tr>\n",
       "      <th></th>\n",
       "      <th>pay_before</th>\n",
       "      <th>optimal_pay</th>\n",
       "      <th>dif_%</th>\n",
       "    </tr>\n",
       "    <tr>\n",
       "      <th>tariff_plan</th>\n",
       "      <th></th>\n",
       "      <th></th>\n",
       "      <th></th>\n",
       "    </tr>\n",
       "  </thead>\n",
       "  <tbody>\n",
       "    <tr>\n",
       "      <th>A</th>\n",
       "      <td>5297.684946</td>\n",
       "      <td>3270.590323</td>\n",
       "      <td>-0.382638</td>\n",
       "    </tr>\n",
       "    <tr>\n",
       "      <th>B</th>\n",
       "      <td>2600.111073</td>\n",
       "      <td>1948.164014</td>\n",
       "      <td>-0.250738</td>\n",
       "    </tr>\n",
       "    <tr>\n",
       "      <th>C</th>\n",
       "      <td>1771.988049</td>\n",
       "      <td>1733.990732</td>\n",
       "      <td>-0.021443</td>\n",
       "    </tr>\n",
       "  </tbody>\n",
       "</table>\n",
       "</div>"
      ],
      "text/plain": [
       "              pay_before  optimal_pay     dif_%\n",
       "tariff_plan                                    \n",
       "A            5297.684946  3270.590323 -0.382638\n",
       "B            2600.111073  1948.164014 -0.250738\n",
       "C            1771.988049  1733.990732 -0.021443"
      ]
     },
     "execution_count": 87,
     "metadata": {},
     "output_type": "execute_result"
    }
   ],
   "source": [
    "dif_tariff_pay = dt2.groupby(by='tariff_plan').agg({'total_pay':'mean', 'optimal_pay':'mean'})\n",
    "\n",
    "dif_tariff_pay['dif_%'] = dif_tariff_pay['optimal_pay']/dif_tariff_pay['total_pay']-1\n",
    "dif_tariff_pay.columns = [['pay_before', 'optimal_pay', 'dif_%']]\n",
    "dif_tariff_pay"
   ]
  },
  {
   "cell_type": "markdown",
   "id": "244062ae",
   "metadata": {},
   "source": [
    "переплата клиентов по тарифам:"
   ]
  },
  {
   "cell_type": "code",
   "execution_count": 88,
   "id": "db465b4a",
   "metadata": {},
   "outputs": [
    {
     "data": {
      "image/png": "[encoded data removed]",
      "text/plain": [
       "<Figure size 640x480 with 1 Axes>"
      ]
     },
     "metadata": {},
     "output_type": "display_data"
    },
    {
     "data": {
      "text/plain": [
       "count     382.000000\n",
       "mean     1027.516754\n",
       "std       787.630227\n",
       "min        26.600000\n",
       "25%       548.500000\n",
       "50%       842.500000\n",
       "75%      1000.000000\n",
       "max      3333.700000\n",
       "dtype: float64"
      ]
     },
     "execution_count": 88,
     "metadata": {},
     "output_type": "execute_result"
    }
   ],
   "source": [
    "dt_hist = dt2.query('is_optimal == False')\n",
    "\n",
    "(dt_hist['total_pay']-dt_hist['optimal_pay']).hist(bins=30)\n",
    "plt.show()\n",
    "(dt_hist['total_pay']-dt_hist['optimal_pay']).describe()"
   ]
  },
  {
   "cell_type": "markdown",
   "id": "d765b6de",
   "metadata": {},
   "source": [
    "В среднем клиенты переплачивают 1027 рублей"
   ]
  },
  {
   "cell_type": "markdown",
   "id": "ce2e400a",
   "metadata": {},
   "source": [
    "Посмотрим на переплаты отдельно по каждому тарифу:"
   ]
  },
  {
   "cell_type": "code",
   "execution_count": 89,
   "id": "fc4ce516",
   "metadata": {},
   "outputs": [
    {
     "name": "stderr",
     "output_type": "stream",
     "text": [
      "C:\\Users\\Ounly mini\\AppData\\Local\\Temp\\ipykernel_11736\\1548535894.py:1: SettingWithCopyWarning: \n",
      "A value is trying to be set on a copy of a slice from a DataFrame.\n",
      "Try using .loc[row_indexer,col_indexer] = value instead\n",
      "\n",
      "See the caveats in the documentation: https://pandas.pydata.org/pandas-docs/stable/user_guide/indexing.html#returning-a-view-versus-a-copy\n",
      "  dt_hist['pay_diff'] = dt_hist['total_pay']-dt_hist['optimal_pay']\n"
     ]
    },
    {
     "data": {
      "image/png": "[encoded data removed]",
      "text/plain": [
       "<Figure size 1200x600 with 1 Axes>"
      ]
     },
     "metadata": {},
     "output_type": "display_data"
    }
   ],
   "source": [
    "dt_hist['pay_diff'] = dt_hist['total_pay']-dt_hist['optimal_pay']\n",
    "ranks = dt_hist.groupby(\"tariff_plan\")['pay_diff'].mean().fillna(0).sort_values()[::-1].index\n",
    "plt.figure(figsize=(12,6))\n",
    "ax = sns.boxplot(data= dt_hist, x='tariff_plan', y='pay_diff', order = ranks)\n",
    "#ax.set_ylim([3.5, 4.5]) \n",
    "plt.title('Переплаты по тарифам')\n",
    "plt.xlabel('Тариф')\n",
    "plt.ylabel('Переплата')\n",
    "plt.show()"
   ]
  },
  {
   "cell_type": "markdown",
   "id": "70322669",
   "metadata": {},
   "source": [
    "Переплата по тарифу А - медиана 2500руб. - что значительно больше, чем по другим тарифам"
   ]
  },
  {
   "cell_type": "markdown",
   "id": "137bb8a9",
   "metadata": {},
   "source": [
    "Логично предложить перейти на оптимальные тарифы тем клиентам, которые переплачивают больше всего.\n",
    "Напишем функцию для исследования переплат."
   ]
  },
  {
   "cell_type": "code",
   "execution_count": 90,
   "id": "c2985572",
   "metadata": {},
   "outputs": [],
   "source": [
    "users_by_overpay = dt_hist.groupby('user_id')['pay_diff'].sum().sort_values(ascending = False).reset_index()"
   ]
  },
  {
   "cell_type": "markdown",
   "id": "5747d20c",
   "metadata": {},
   "source": [
    "В функции задаем границу - например, топ 10% переплативших и получаем размер потерь прибыли."
   ]
  },
  {
   "cell_type": "code",
   "execution_count": 91,
   "id": "684173a2",
   "metadata": {},
   "outputs": [],
   "source": [
    "dt2['pay_diff'] = dt2['total_pay']-dt2['optimal_pay']\n",
    "def top_percent(data, perc=0.3):\n",
    "    return data.head(int(len(data)*(perc)))['user_id'].unique()\n",
    "\n",
    "def calc_revenue(users_by_overpay, data, perc, ax):\n",
    "    top_users = top_percent(users_by_overpay, perc)\n",
    "    overpay = round(dt2.query('user_id in @top_users')['pay_diff'].mean())\n",
    "    d = {'Категория': ['fact', 'optimal'], 'Прибыль': [data['total_pay'].sum(), data.query('user_id in @top_users')['optimal_pay'].sum() + data.query('user_id not in @top_users')['total_pay'].sum()]}\n",
    "    df = pd.DataFrame(data=d).set_index('Категория')\n",
    "    plot = df.plot(kind='bar', ax=axes[ax], title = str(perc * 100) + \"% клиентов\", xlabel = '', ylabel = 'Прибыль, млн.'\n",
    "                   , ylim = ([1500000, 2000000]))\n",
    "    #plt.ylim([1500000, 2000000])\n",
    "    loss_perc = round((df.loc['optimal']['Прибыль']/df.loc['fact']['Прибыль'] - 1)* 100, 1)\n",
    "    print(\"Предлагаем тариф \" + str(perc * 100) + \"% клиентов:\", '\\n', 'cредняя месячная переплата данных клиентов - ', overpay)\n",
    "    print(\"Фактическая прибыль: \", round(df.loc['fact']['Прибыль']), \"- оптимальная прибыль: \", round(df.loc['optimal']['Прибыль']))\n",
    "    print(\"На оптимальный тариф перейдут \" + str(len(top_users)) + \" клиентов\")\n",
    "    print(\"Потери в прибыли составят: \", loss_perc, \"%\", \"\\n\")\n",
    "\n",
    "\n",
    "\n"
   ]
  },
  {
   "cell_type": "code",
   "execution_count": 92,
   "id": "df32346e",
   "metadata": {},
   "outputs": [
    {
     "name": "stdout",
     "output_type": "stream",
     "text": [
      "Предлагаем тариф 20.0% клиентов: \n",
      " cредняя месячная переплата данных клиентов -  2037\n",
      "Фактическая прибыль:  1970632 - оптимальная прибыль:  1771020\n",
      "На оптимальный тариф перейдут 31 клиентов\n",
      "Потери в прибыли составят:  -10.1 % \n",
      "\n",
      "Предлагаем тариф 40.0% клиентов: \n",
      " cредняя месячная переплата данных клиентов -  1401\n",
      "Фактическая прибыль:  1970632 - оптимальная прибыль:  1686266\n",
      "На оптимальный тариф перейдут 62 клиентов\n",
      "Потери в прибыли составят:  -14.4 % \n",
      "\n"
     ]
    },
    {
     "data": {
      "image/png": "[encoded data removed]",
      "text/plain": [
       "<Figure size 2500x600 with 2 Axes>"
      ]
     },
     "metadata": {},
     "output_type": "display_data"
    }
   ],
   "source": [
    "fig, axes = plt.subplots(1, 2, figsize=(25,6))\n",
    "calc_revenue(users_by_overpay, dt2, 0.2, 0)\n",
    "calc_revenue(users_by_overpay, dt2, 0.4, 1)"
   ]
  },
  {
   "cell_type": "markdown",
   "id": "3297410c",
   "metadata": {},
   "source": [
    "Видим, что если мы предложим перейти на оптимальные тарифы топ 40% переплативших, то потери составят около 15% выручки, что меньше чем при уходе этих клиентов или переводе всех клиентов на оптимальные тарифы."
   ]
  },
  {
   "cell_type": "markdown",
   "id": "af079469",
   "metadata": {},
   "source": [
    "----"
   ]
  },
  {
   "cell_type": "markdown",
   "id": "703dd247",
   "metadata": {},
   "source": [
    "Гипотеза - большинство клиентов не используют внутрение звонки"
   ]
  },
  {
   "cell_type": "markdown",
   "id": "7714804d",
   "metadata": {},
   "source": [
    "распределение длительности внутрених исходящих звонков за каждый месяц по клиентам"
   ]
  },
  {
   "cell_type": "code",
   "execution_count": 93,
   "id": "9e7c5c26",
   "metadata": {},
   "outputs": [
    {
     "data": {
      "text/html": [
       "<div>\n",
       "<style scoped>\n",
       "    .dataframe tbody tr th:only-of-type {\n",
       "        vertical-align: middle;\n",
       "    }\n",
       "\n",
       "    .dataframe tbody tr th {\n",
       "        vertical-align: top;\n",
       "    }\n",
       "\n",
       "    .dataframe thead th {\n",
       "        text-align: right;\n",
       "    }\n",
       "</style>\n",
       "<table border=\"1\" class=\"dataframe\">\n",
       "  <thead>\n",
       "    <tr style=\"text-align: right;\">\n",
       "      <th></th>\n",
       "      <th>user_id</th>\n",
       "      <th>month</th>\n",
       "      <th>internal_true_min</th>\n",
       "      <th>tariff_plan</th>\n",
       "    </tr>\n",
       "  </thead>\n",
       "  <tbody>\n",
       "    <tr>\n",
       "      <th>365</th>\n",
       "      <td>167110</td>\n",
       "      <td>2019-09</td>\n",
       "      <td>0.0</td>\n",
       "      <td>B</td>\n",
       "    </tr>\n",
       "    <tr>\n",
       "      <th>429</th>\n",
       "      <td>167242</td>\n",
       "      <td>2019-11</td>\n",
       "      <td>0.0</td>\n",
       "      <td>C</td>\n",
       "    </tr>\n",
       "    <tr>\n",
       "      <th>430</th>\n",
       "      <td>167244</td>\n",
       "      <td>2019-09</td>\n",
       "      <td>0.0</td>\n",
       "      <td>C</td>\n",
       "    </tr>\n",
       "    <tr>\n",
       "      <th>431</th>\n",
       "      <td>167244</td>\n",
       "      <td>2019-10</td>\n",
       "      <td>0.0</td>\n",
       "      <td>C</td>\n",
       "    </tr>\n",
       "    <tr>\n",
       "      <th>683</th>\n",
       "      <td>168042</td>\n",
       "      <td>2019-10</td>\n",
       "      <td>0.0</td>\n",
       "      <td>C</td>\n",
       "    </tr>\n",
       "    <tr>\n",
       "      <th>...</th>\n",
       "      <td>...</td>\n",
       "      <td>...</td>\n",
       "      <td>...</td>\n",
       "      <td>...</td>\n",
       "    </tr>\n",
       "    <tr>\n",
       "      <th>466</th>\n",
       "      <td>167359</td>\n",
       "      <td>2019-10</td>\n",
       "      <td>385.0</td>\n",
       "      <td>B</td>\n",
       "    </tr>\n",
       "    <tr>\n",
       "      <th>692</th>\n",
       "      <td>168062</td>\n",
       "      <td>2019-11</td>\n",
       "      <td>560.0</td>\n",
       "      <td>A</td>\n",
       "    </tr>\n",
       "    <tr>\n",
       "      <th>699</th>\n",
       "      <td>168091</td>\n",
       "      <td>2019-11</td>\n",
       "      <td>664.0</td>\n",
       "      <td>B</td>\n",
       "    </tr>\n",
       "    <tr>\n",
       "      <th>255</th>\n",
       "      <td>166916</td>\n",
       "      <td>2019-11</td>\n",
       "      <td>1246.0</td>\n",
       "      <td>A</td>\n",
       "    </tr>\n",
       "    <tr>\n",
       "      <th>512</th>\n",
       "      <td>167497</td>\n",
       "      <td>2019-11</td>\n",
       "      <td>1286.0</td>\n",
       "      <td>A</td>\n",
       "    </tr>\n",
       "  </tbody>\n",
       "</table>\n",
       "<p>792 rows × 4 columns</p>\n",
       "</div>"
      ],
      "text/plain": [
       "     user_id    month  internal_true_min tariff_plan\n",
       "365   167110  2019-09                0.0           B\n",
       "429   167242  2019-11                0.0           C\n",
       "430   167244  2019-09                0.0           C\n",
       "431   167244  2019-10                0.0           C\n",
       "683   168042  2019-10                0.0           C\n",
       "..       ...      ...                ...         ...\n",
       "466   167359  2019-10              385.0           B\n",
       "692   168062  2019-11              560.0           A\n",
       "699   168091  2019-11              664.0           B\n",
       "255   166916  2019-11             1246.0           A\n",
       "512   167497  2019-11             1286.0           A\n",
       "\n",
       "[792 rows x 4 columns]"
      ]
     },
     "execution_count": 93,
     "metadata": {},
     "output_type": "execute_result"
    }
   ],
   "source": [
    "dt2[['user_id', 'month', 'internal_true_min', 'tariff_plan']].sort_values(by='internal_true_min')"
   ]
  },
  {
   "cell_type": "code",
   "execution_count": 94,
   "id": "e5a9ef16",
   "metadata": {},
   "outputs": [
    {
     "name": "stdout",
     "output_type": "stream",
     "text": [
      "[ 44.45 301.41]\n"
     ]
    }
   ],
   "source": [
    "print(np.percentile(dt2['internal_true_min'], [95, 99]))"
   ]
  },
  {
   "cell_type": "markdown",
   "id": "87fd7515",
   "metadata": {},
   "source": [
    "Не более 5% длитеьности звонков свыше 44 мин за месяц и не более 1% свыше 301 минут за месяц.\n",
    "также "
   ]
  },
  {
   "cell_type": "code",
   "execution_count": 95,
   "id": "5a0bfce1",
   "metadata": {},
   "outputs": [
    {
     "data": {
      "image/png": "[encoded data removed]",
      "text/plain": [
       "<Figure size 640x480 with 1 Axes>"
      ]
     },
     "metadata": {},
     "output_type": "display_data"
    }
   ],
   "source": [
    "#Построим точечный график внутрених исходящих звонков за каждый месяц по клиентам\n",
    "x_values = pd.Series(range(0,len(dt2)))\n",
    "\n",
    "plt.scatter(x_values, dt2['internal_true_min'])\n",
    "\n",
    "plt.ylabel('длительность звонков в месяц')\n",
    "plt.title('график длительности  внутрених исходящих звонков за каждый месяц по клиентам')\n",
    "plt.show()"
   ]
  },
  {
   "cell_type": "code",
   "execution_count": 96,
   "id": "6b104709",
   "metadata": {},
   "outputs": [
    {
     "data": {
      "image/png": "[encoded data removed]",
      "text/plain": [
       "<Figure size 500x200 with 1 Axes>"
      ]
     },
     "metadata": {},
     "output_type": "display_data"
    },
    {
     "data": {
      "image/png": "[encoded data removed]",
      "text/plain": [
       "<Figure size 500x200 with 1 Axes>"
      ]
     },
     "metadata": {},
     "output_type": "display_data"
    },
    {
     "data": {
      "image/png": "[encoded data removed]",
      "text/plain": [
       "<Figure size 500x200 with 1 Axes>"
      ]
     },
     "metadata": {},
     "output_type": "display_data"
    }
   ],
   "source": [
    "#Построим точечный график внутрених исходящих звонков за каждый месяц в разрезе по тарифам\n",
    "plt.figure(figsize=(5,2))\n",
    "x_values = pd.Series(range(0,len(dt2.query('tariff_plan == \"A\"'))))\n",
    "plt.scatter(x_values, dt2.query('tariff_plan == \"A\"')['internal_true_min'])\n",
    "plt.ylabel('длительность')\n",
    "plt.title('длительности  внут. исх. звонков в месяц в тарифе А')\n",
    "plt.show()\n",
    "\n",
    "plt.figure(figsize=(5,2))\n",
    "x_values = pd.Series(range(0,len(dt2.query('tariff_plan == \"B\"'))))\n",
    "plt.scatter(x_values, dt2.query('tariff_plan == \"B\"')['internal_true_min'])\n",
    "plt.ylabel('длительность')\n",
    "plt.title('длительности  внут. исх. звонков в месяц в тарифе В')\n",
    "plt.show()\n",
    "\n",
    "plt.figure(figsize=(5,2))\n",
    "x_values = pd.Series(range(0,len(dt2.query('tariff_plan == \"C\"'))))\n",
    "plt.scatter(x_values, dt2.query('tariff_plan == \"C\"')['internal_true_min'])\n",
    "plt.ylabel('длительность')\n",
    "plt.title('длительности  внут. исх. звонков в месяц в тарифе С')\n",
    "plt.show()"
   ]
  },
  {
   "cell_type": "markdown",
   "id": "9113038e",
   "metadata": {},
   "source": [
    "видно что большинство клиентов мало используют внутрение исходящие звонки на всех тарифах "
   ]
  },
  {
   "cell_type": "markdown",
   "id": "8a6ebf39",
   "metadata": {},
   "source": [
    "компании нужно пересмотреть тарифы, тк большинство клиентов не пользуются внутреними звонками, похоже они в основном используют внешние вызовы"
   ]
  },
  {
   "cell_type": "markdown",
   "id": "28b3a92e",
   "metadata": {},
   "source": [
    "проверим длительность внешних звонков по тарифам в месяц "
   ]
  },
  {
   "cell_type": "code",
   "execution_count": 97,
   "id": "577465bc",
   "metadata": {},
   "outputs": [
    {
     "data": {
      "image/png": "[encoded data removed]",
      "text/plain": [
       "<Figure size 500x200 with 1 Axes>"
      ]
     },
     "metadata": {},
     "output_type": "display_data"
    },
    {
     "data": {
      "image/png": "[encoded data removed]",
      "text/plain": [
       "<Figure size 500x200 with 1 Axes>"
      ]
     },
     "metadata": {},
     "output_type": "display_data"
    },
    {
     "data": {
      "image/png": "[encoded data removed]",
      "text/plain": [
       "<Figure size 500x200 with 1 Axes>"
      ]
     },
     "metadata": {},
     "output_type": "display_data"
    }
   ],
   "source": [
    "#Построим точечный график внутрених исходящих звонков за каждый месяц в разрезе по тарифам\n",
    "plt.figure(figsize=(5,2))\n",
    "x_values = pd.Series(range(0,len(dt2.query('tariff_plan == \"A\"'))))\n",
    "plt.scatter(x_values, dt2.query('tariff_plan == \"A\"')['internal_false_min'])\n",
    "plt.ylabel('длительность')\n",
    "plt.title('длительности  внешних. исх. звонков в месяц в тарифе А')\n",
    "plt.show()\n",
    "\n",
    "plt.figure(figsize=(5,2))\n",
    "x_values = pd.Series(range(0,len(dt2.query('tariff_plan == \"B\"'))))\n",
    "plt.scatter(x_values, dt2.query('tariff_plan == \"B\"')['internal_false_min'])\n",
    "plt.ylabel('длительность')\n",
    "plt.title('длительности  внешних. исх. звонков в месяц в тарифе В')\n",
    "plt.show()\n",
    "\n",
    "plt.figure(figsize=(5,2))\n",
    "x_values = pd.Series(range(0,len(dt2.query('tariff_plan == \"C\"'))))\n",
    "plt.scatter(x_values, dt2.query('tariff_plan == \"C\"')['internal_false_min'])\n",
    "plt.ylabel('длительность')\n",
    "plt.title('длительности  внешних. исх. звонков в месяц в тарифе С')\n",
    "plt.show()"
   ]
  },
  {
   "cell_type": "markdown",
   "id": "8925f1f3",
   "metadata": {},
   "source": [
    "также большинство клиентом совершают не длительные звонки в месяц\n",
    "значит для большинства будут оптимальны тариф С"
   ]
  },
  {
   "cell_type": "markdown",
   "id": "a8a9ee3d",
   "metadata": {},
   "source": [
    "# проверка статистических гипотез"
   ]
  },
  {
   "cell_type": "markdown",
   "id": "65501548",
   "metadata": {},
   "source": [
    "- гипотеза 1"
   ]
  },
  {
   "cell_type": "markdown",
   "id": "b271da43",
   "metadata": {},
   "source": [
    "нулевая гипотеза: средние значения совокупностей total_pay и optimal_pay равны. \n",
    "\n",
    "альтернативную гипотеза: среднее значение total_pay больше среднего значения optimal_pay."
   ]
  },
  {
   "cell_type": "code",
   "execution_count": 98,
   "id": "3a98666e",
   "metadata": {},
   "outputs": [
    {
     "name": "stdout",
     "output_type": "stream",
     "text": [
      "p-значение: 3.1807587512795606e-08\n",
      "Отвергаем нулевую гипотезу\n"
     ]
    }
   ],
   "source": [
    "alpha = 0.05\n",
    "\n",
    "results = st.ttest_ind(dt3['total_pay'], dt3['optimal_pay'], alternative='greater')\n",
    "\n",
    "print('p-значение:', results.pvalue)\n",
    "\n",
    "if results.pvalue < alpha:\n",
    "    print('Отвергаем нулевую гипотезу')\n",
    "else:\n",
    "    print('Не получилось отвергнуть нулевую гипотезу')"
   ]
  },
  {
   "cell_type": "markdown",
   "id": "29c46953",
   "metadata": {},
   "source": [
    "Полученное значение p-value меньше заданного уровня значимости, поэтому можно отвергнуть нулевую гипотезу. \n",
    "Есть основания говорить, что клиенты раньше тратили больше чем с оптимальными тарифами"
   ]
  },
  {
   "cell_type": "markdown",
   "id": "6adfeb5d",
   "metadata": {},
   "source": [
    "- гипотеза 2"
   ]
  },
  {
   "cell_type": "markdown",
   "id": "edb96266",
   "metadata": {},
   "source": [
    "Нулевая гипотеза: Статистически значимых различий в размере прибыли компании если пользователи с неоптимальными тафрифами уйдут и в размере прибыли компании если мы переведем их на оптимальный тариф - нет\n",
    "\n",
    "Альтернативная гипотеза: Статистически значимые различия в размере прибыли компании - есть"
   ]
  },
  {
   "cell_type": "code",
   "execution_count": 99,
   "id": "b93199b0",
   "metadata": {},
   "outputs": [
    {
     "name": "stdout",
     "output_type": "stream",
     "text": [
      "p-значение: 1.9826174422487534e-31\n",
      "Отвергаем нулевую гипотезу\n"
     ]
    }
   ],
   "source": [
    "alpha = 0.05\n",
    "\n",
    "results = st.ttest_ind(dt_witout['total_pay'], dt2['optimal_pay'], equal_var=False)\n",
    "\n",
    "print('p-значение:', results.pvalue)\n",
    "\n",
    "if results.pvalue < alpha:\n",
    "    print('Отвергаем нулевую гипотезу')\n",
    "else:\n",
    "    print('Не получилось отвергнуть нулевую гипотезу')"
   ]
  },
  {
   "cell_type": "markdown",
   "id": "9febe125",
   "metadata": {},
   "source": [
    "Полученное значение p-value меньше заданного уровня значимости, поэтому можно отвергнуть нулевую гипотезу. Есть основания говорить, что значимые различия в размере прибыли компании если пользователи с неоптимальными тафрифами уйдут и в размере прибыли компании если мы переведем их на оптимальный тариф - есть. Исходя из данных выше прибыль компании если клиенты уйдут будет мешьше, нежили если перевести клиентов на оптимальные тарифы"
   ]
  },
  {
   "cell_type": "markdown",
   "id": "1bac6b07",
   "metadata": {},
   "source": [
    "Вывод:\n",
    "\n",
    "Провели иследование данных:\n",
    "\n",
    "- Нашли клиентов с неоптимальными тарифами\n",
    "- почти 50% клиентов переплачивают по тарифам\n",
    "- предложили клиентам оптимальные тарифы исходя из их нынешних трат\n",
    "- посчитали общую прибыль компании , прибыль компании по месяцам, прибыль компании с разбивкой по тарифам по месяцам.\n",
    "- посчитали длительность звонков по месяцам, большая часть клиентов не израсходует внутренние исходящие минуты, которые входят в тариф, а в основном используют внешние исходящие звонки - для них будут оптимальны тариф С\n",
    "- выяснили, что если перевести всех клиентов на оптимальные тарифы, компания потеряет в прибыли 20-25% \n",
    "- если не переводить и клиенты уйдут, то компания потеряет до 40% прибыли\n",
    "- можно предложить перевести 40% клиентов на оптимальные тарифы, которые больше всего переплачивали - так компания сохранит клиентов, понесет меньше убытков в будущем - потери составят около 15% прибыли\n",
    "\n",
    "Провели Статистические тесты:\n",
    "\n",
    "- клиенты раньше тратили больше чем могли бы тратить с оптимальными тарифами\n",
    "- есть статистически значимые различия в размере прибыли компании если клиенты уйдут и если перевести клиентов на оптимальные тарифы\n",
    "\n",
    " \n",
    "\n",
    "\n",
    "\n",
    "Также компании нужно следить за количеством операторов, тк у одного клиента вероятно под одним аккаунтом совершаются звонки несколькими сотрудниками, тк присутствуют аномально длительные разговоры\n"
   ]
  },
  {
   "cell_type": "markdown",
   "id": "7108cf69",
   "metadata": {},
   "source": [
    "<div class=\"alert alert-info\">\n",
    "\n",
    "ссылка на презентацию\n",
    "\n",
    "https://disk.yandex.ru/i/6WULUeAqv7c11A"
   ]
  }
 ],
 "metadata": {
  "kernelspec": {
   "display_name": "Python 3 (ipykernel)",
   "language": "python",
   "name": "python3"
  },
  "language_info": {
   "codemirror_mode": {
    "name": "ipython",
    "version": 3
   },
   "file_extension": ".py",
   "mimetype": "text/x-python",
   "name": "python",
   "nbconvert_exporter": "python",
   "pygments_lexer": "ipython3",
   "version": "3.11.4"
  },
  "toc": {
   "base_numbering": 1,
   "nav_menu": {},
   "number_sections": true,
   "sideBar": true,
   "skip_h1_title": true,
   "title_cell": "Table of Contents",
   "title_sidebar": "Contents",
   "toc_cell": false,
   "toc_position": {},
   "toc_section_display": true,
   "toc_window_display": true
  }
 },
 "nbformat": 4,
 "nbformat_minor": 5
}
