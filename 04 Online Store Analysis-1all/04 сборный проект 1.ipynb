{
 "cells": [
  {
   "cell_type": "markdown",
   "id": "155f9952",
   "metadata": {},
   "source": [
    "## Анализ интернет-магазина «Стримчик»"
   ]
  },
  {
   "cell_type": "markdown",
   "id": "544a8368",
   "metadata": {},
   "source": [
    "Описание проекта\n",
    "интернет-магазине «Стримчик», который продаёт по всему миру компьютерные игры. Из открытых источников доступны исторические данные о продажах игр, оценки пользователей и экспертов, жанры и платформы (например, Xbox или PlayStation). Нам нужно выявить определяющие успешность игры закономерности. Это позволит сделать ставку на потенциально популярный продукт и спланировать рекламные кампании.\n",
    "У нас есть данные до 2016 года. \n",
    "\n",
    "Мы планируем кампанию на 2017-й. Нужно отработать принцип работы с данными.\n",
    "В наборе данных попадается аббревиатура ESRB (Entertainment Software Rating Board) — это ассоциация, определяющая возрастной рейтинг компьютерных игр. ESRB оценивает игровой контент и присваивает ему подходящую возрастную категорию, например, «Для взрослых», «Для детей младшего возраста» или «Для подростков»"
   ]
  },
  {
   "cell_type": "markdown",
   "id": "d64a7dc3",
   "metadata": {},
   "source": [
    "## написать план иследования ?"
   ]
  },
  {
   "cell_type": "code",
   "execution_count": 1,
   "id": "ac10f3aa",
   "metadata": {},
   "outputs": [],
   "source": [
    "import pandas as pd                 #библиотека для считывания файлов с данными\n",
    "import numpy as np                  #библиотека для оругления значений?\n",
    "import matplotlib.pyplot as plt     #библиотека для графиков\n",
    "from scipy import stats as st       #библиотека для проверки гипотез\n",
    "import seaborn as sns               #библиотека для графиков"
   ]
  },
  {
   "cell_type": "markdown",
   "id": "d193f3fa",
   "metadata": {},
   "source": [
    "Шаг 1. Откроeм файл с данными и изучим общую информацию"
   ]
  },
  {
   "cell_type": "code",
   "execution_count": 2,
   "id": "6d1c4a5e",
   "metadata": {},
   "outputs": [
    {
     "data": {
      "text/html": [
       "<div>\n",
       "<style scoped>\n",
       "    .dataframe tbody tr th:only-of-type {\n",
       "        vertical-align: middle;\n",
       "    }\n",
       "\n",
       "    .dataframe tbody tr th {\n",
       "        vertical-align: top;\n",
       "    }\n",
       "\n",
       "    .dataframe thead th {\n",
       "        text-align: right;\n",
       "    }\n",
       "</style>\n",
       "<table border=\"1\" class=\"dataframe\">\n",
       "  <thead>\n",
       "    <tr style=\"text-align: right;\">\n",
       "      <th></th>\n",
       "      <th>Name</th>\n",
       "      <th>Platform</th>\n",
       "      <th>Year_of_Release</th>\n",
       "      <th>Genre</th>\n",
       "      <th>NA_sales</th>\n",
       "      <th>EU_sales</th>\n",
       "      <th>JP_sales</th>\n",
       "      <th>Other_sales</th>\n",
       "      <th>Critic_Score</th>\n",
       "      <th>User_Score</th>\n",
       "      <th>Rating</th>\n",
       "    </tr>\n",
       "  </thead>\n",
       "  <tbody>\n",
       "    <tr>\n",
       "      <th>0</th>\n",
       "      <td>Wii Sports</td>\n",
       "      <td>Wii</td>\n",
       "      <td>2006.0</td>\n",
       "      <td>Sports</td>\n",
       "      <td>41.36</td>\n",
       "      <td>28.96</td>\n",
       "      <td>3.77</td>\n",
       "      <td>8.45</td>\n",
       "      <td>76.0</td>\n",
       "      <td>8</td>\n",
       "      <td>E</td>\n",
       "    </tr>\n",
       "    <tr>\n",
       "      <th>1</th>\n",
       "      <td>Super Mario Bros.</td>\n",
       "      <td>NES</td>\n",
       "      <td>1985.0</td>\n",
       "      <td>Platform</td>\n",
       "      <td>29.08</td>\n",
       "      <td>3.58</td>\n",
       "      <td>6.81</td>\n",
       "      <td>0.77</td>\n",
       "      <td>NaN</td>\n",
       "      <td>NaN</td>\n",
       "      <td>NaN</td>\n",
       "    </tr>\n",
       "    <tr>\n",
       "      <th>2</th>\n",
       "      <td>Mario Kart Wii</td>\n",
       "      <td>Wii</td>\n",
       "      <td>2008.0</td>\n",
       "      <td>Racing</td>\n",
       "      <td>15.68</td>\n",
       "      <td>12.76</td>\n",
       "      <td>3.79</td>\n",
       "      <td>3.29</td>\n",
       "      <td>82.0</td>\n",
       "      <td>8.3</td>\n",
       "      <td>E</td>\n",
       "    </tr>\n",
       "    <tr>\n",
       "      <th>3</th>\n",
       "      <td>Wii Sports Resort</td>\n",
       "      <td>Wii</td>\n",
       "      <td>2009.0</td>\n",
       "      <td>Sports</td>\n",
       "      <td>15.61</td>\n",
       "      <td>10.93</td>\n",
       "      <td>3.28</td>\n",
       "      <td>2.95</td>\n",
       "      <td>80.0</td>\n",
       "      <td>8</td>\n",
       "      <td>E</td>\n",
       "    </tr>\n",
       "    <tr>\n",
       "      <th>4</th>\n",
       "      <td>Pokemon Red/Pokemon Blue</td>\n",
       "      <td>GB</td>\n",
       "      <td>1996.0</td>\n",
       "      <td>Role-Playing</td>\n",
       "      <td>11.27</td>\n",
       "      <td>8.89</td>\n",
       "      <td>10.22</td>\n",
       "      <td>1.00</td>\n",
       "      <td>NaN</td>\n",
       "      <td>NaN</td>\n",
       "      <td>NaN</td>\n",
       "    </tr>\n",
       "  </tbody>\n",
       "</table>\n",
       "</div>"
      ],
      "text/plain": [
       "                       Name Platform  Year_of_Release         Genre  NA_sales  \\\n",
       "0                Wii Sports      Wii           2006.0        Sports     41.36   \n",
       "1         Super Mario Bros.      NES           1985.0      Platform     29.08   \n",
       "2            Mario Kart Wii      Wii           2008.0        Racing     15.68   \n",
       "3         Wii Sports Resort      Wii           2009.0        Sports     15.61   \n",
       "4  Pokemon Red/Pokemon Blue       GB           1996.0  Role-Playing     11.27   \n",
       "\n",
       "   EU_sales  JP_sales  Other_sales  Critic_Score User_Score Rating  \n",
       "0     28.96      3.77         8.45          76.0          8      E  \n",
       "1      3.58      6.81         0.77           NaN        NaN    NaN  \n",
       "2     12.76      3.79         3.29          82.0        8.3      E  \n",
       "3     10.93      3.28         2.95          80.0          8      E  \n",
       "4      8.89     10.22         1.00           NaN        NaN    NaN  "
      ]
     },
     "execution_count": 2,
     "metadata": {},
     "output_type": "execute_result"
    }
   ],
   "source": [
    "games = pd.read_csv('https://code.s3.yandex.net/datasets/games.csv')\n",
    "games.head()"
   ]
  },
  {
   "cell_type": "code",
   "execution_count": 3,
   "id": "83d337bb",
   "metadata": {},
   "outputs": [
    {
     "name": "stdout",
     "output_type": "stream",
     "text": [
      "<class 'pandas.core.frame.DataFrame'>\n",
      "RangeIndex: 16715 entries, 0 to 16714\n",
      "Data columns (total 11 columns):\n",
      " #   Column           Non-Null Count  Dtype  \n",
      "---  ------           --------------  -----  \n",
      " 0   Name             16713 non-null  object \n",
      " 1   Platform         16715 non-null  object \n",
      " 2   Year_of_Release  16446 non-null  float64\n",
      " 3   Genre            16713 non-null  object \n",
      " 4   NA_sales         16715 non-null  float64\n",
      " 5   EU_sales         16715 non-null  float64\n",
      " 6   JP_sales         16715 non-null  float64\n",
      " 7   Other_sales      16715 non-null  float64\n",
      " 8   Critic_Score     8137 non-null   float64\n",
      " 9   User_Score       10014 non-null  object \n",
      " 10  Rating           9949 non-null   object \n",
      "dtypes: float64(6), object(5)\n",
      "memory usage: 1.4+ MB\n"
     ]
    }
   ],
   "source": [
    "games.info()"
   ]
  },
  {
   "cell_type": "markdown",
   "id": "08e9382e",
   "metadata": {},
   "source": [
    "Видим что в некоторые данные пропущены"
   ]
  },
  {
   "cell_type": "markdown",
   "id": "c80c2f2d",
   "metadata": {},
   "source": [
    "## Шаг 2. Подготовим данные"
   ]
  },
  {
   "cell_type": "markdown",
   "id": "5ad2d25d",
   "metadata": {},
   "source": [
    "Приведем к нижнему регистру названия столбцов (Заменим названия столбцов)"
   ]
  },
  {
   "cell_type": "code",
   "execution_count": 4,
   "id": "a8f24574",
   "metadata": {},
   "outputs": [],
   "source": [
    "games.columns = games.columns.str.lower()"
   ]
  },
  {
   "cell_type": "markdown",
   "id": "aca43127",
   "metadata": {},
   "source": [
    "Нужно поменять тип данных в колонках:\n",
    "Year_of_Release - на int, тк год целое число\n",
    "User_Score - на float, тк счет это дробное число\n",
    "\n",
    "сразу не можем заменить их тк в этих данных имеются пропуски NaN\n",
    "проверим где и сколько пропусков имеется"
   ]
  },
  {
   "cell_type": "markdown",
   "id": "5270e1cf",
   "metadata": {},
   "source": [
    "проверим пропуски в данных"
   ]
  },
  {
   "cell_type": "code",
   "execution_count": 5,
   "id": "a62f893f",
   "metadata": {},
   "outputs": [
    {
     "data": {
      "text/plain": [
       "name                  2\n",
       "platform              0\n",
       "year_of_release     269\n",
       "genre                 2\n",
       "na_sales              0\n",
       "eu_sales              0\n",
       "jp_sales              0\n",
       "other_sales           0\n",
       "critic_score       8578\n",
       "user_score         6701\n",
       "rating             6766\n",
       "dtype: int64"
      ]
     },
     "execution_count": 5,
     "metadata": {},
     "output_type": "execute_result"
    }
   ],
   "source": [
    "games.isna().sum()"
   ]
  },
  {
   "cell_type": "markdown",
   "id": "83a6fec6",
   "metadata": {},
   "source": [
    "- critic_score  user_score  rating  имеются много пропусков у игр выпуском до 2000 года , предположительно тогда не велся ичет рейтинга                       "
   ]
  },
  {
   "cell_type": "markdown",
   "id": "ab93f688",
   "metadata": {},
   "source": [
    "посмотрим данные где в рейтинге есть пропуски\n",
    "возможно рейтинг пропущен в старых играх"
   ]
  },
  {
   "cell_type": "code",
   "execution_count": 6,
   "id": "377f03d8",
   "metadata": {},
   "outputs": [
    {
     "data": {
      "text/html": [
       "<div>\n",
       "<style scoped>\n",
       "    .dataframe tbody tr th:only-of-type {\n",
       "        vertical-align: middle;\n",
       "    }\n",
       "\n",
       "    .dataframe tbody tr th {\n",
       "        vertical-align: top;\n",
       "    }\n",
       "\n",
       "    .dataframe thead th {\n",
       "        text-align: right;\n",
       "    }\n",
       "</style>\n",
       "<table border=\"1\" class=\"dataframe\">\n",
       "  <thead>\n",
       "    <tr style=\"text-align: right;\">\n",
       "      <th></th>\n",
       "      <th>name</th>\n",
       "      <th>platform</th>\n",
       "      <th>year_of_release</th>\n",
       "      <th>genre</th>\n",
       "      <th>na_sales</th>\n",
       "      <th>eu_sales</th>\n",
       "      <th>jp_sales</th>\n",
       "      <th>other_sales</th>\n",
       "      <th>critic_score</th>\n",
       "      <th>user_score</th>\n",
       "      <th>rating</th>\n",
       "    </tr>\n",
       "  </thead>\n",
       "  <tbody>\n",
       "    <tr>\n",
       "      <th>1</th>\n",
       "      <td>Super Mario Bros.</td>\n",
       "      <td>NES</td>\n",
       "      <td>1985.0</td>\n",
       "      <td>Platform</td>\n",
       "      <td>29.08</td>\n",
       "      <td>3.58</td>\n",
       "      <td>6.81</td>\n",
       "      <td>0.77</td>\n",
       "      <td>NaN</td>\n",
       "      <td>NaN</td>\n",
       "      <td>NaN</td>\n",
       "    </tr>\n",
       "    <tr>\n",
       "      <th>4</th>\n",
       "      <td>Pokemon Red/Pokemon Blue</td>\n",
       "      <td>GB</td>\n",
       "      <td>1996.0</td>\n",
       "      <td>Role-Playing</td>\n",
       "      <td>11.27</td>\n",
       "      <td>8.89</td>\n",
       "      <td>10.22</td>\n",
       "      <td>1.00</td>\n",
       "      <td>NaN</td>\n",
       "      <td>NaN</td>\n",
       "      <td>NaN</td>\n",
       "    </tr>\n",
       "    <tr>\n",
       "      <th>5</th>\n",
       "      <td>Tetris</td>\n",
       "      <td>GB</td>\n",
       "      <td>1989.0</td>\n",
       "      <td>Puzzle</td>\n",
       "      <td>23.20</td>\n",
       "      <td>2.26</td>\n",
       "      <td>4.22</td>\n",
       "      <td>0.58</td>\n",
       "      <td>NaN</td>\n",
       "      <td>NaN</td>\n",
       "      <td>NaN</td>\n",
       "    </tr>\n",
       "    <tr>\n",
       "      <th>9</th>\n",
       "      <td>Duck Hunt</td>\n",
       "      <td>NES</td>\n",
       "      <td>1984.0</td>\n",
       "      <td>Shooter</td>\n",
       "      <td>26.93</td>\n",
       "      <td>0.63</td>\n",
       "      <td>0.28</td>\n",
       "      <td>0.47</td>\n",
       "      <td>NaN</td>\n",
       "      <td>NaN</td>\n",
       "      <td>NaN</td>\n",
       "    </tr>\n",
       "    <tr>\n",
       "      <th>10</th>\n",
       "      <td>Nintendogs</td>\n",
       "      <td>DS</td>\n",
       "      <td>2005.0</td>\n",
       "      <td>Simulation</td>\n",
       "      <td>9.05</td>\n",
       "      <td>10.95</td>\n",
       "      <td>1.93</td>\n",
       "      <td>2.74</td>\n",
       "      <td>NaN</td>\n",
       "      <td>NaN</td>\n",
       "      <td>NaN</td>\n",
       "    </tr>\n",
       "    <tr>\n",
       "      <th>...</th>\n",
       "      <td>...</td>\n",
       "      <td>...</td>\n",
       "      <td>...</td>\n",
       "      <td>...</td>\n",
       "      <td>...</td>\n",
       "      <td>...</td>\n",
       "      <td>...</td>\n",
       "      <td>...</td>\n",
       "      <td>...</td>\n",
       "      <td>...</td>\n",
       "      <td>...</td>\n",
       "    </tr>\n",
       "    <tr>\n",
       "      <th>16710</th>\n",
       "      <td>Samurai Warriors: Sanada Maru</td>\n",
       "      <td>PS3</td>\n",
       "      <td>2016.0</td>\n",
       "      <td>Action</td>\n",
       "      <td>0.00</td>\n",
       "      <td>0.00</td>\n",
       "      <td>0.01</td>\n",
       "      <td>0.00</td>\n",
       "      <td>NaN</td>\n",
       "      <td>NaN</td>\n",
       "      <td>NaN</td>\n",
       "    </tr>\n",
       "    <tr>\n",
       "      <th>16711</th>\n",
       "      <td>LMA Manager 2007</td>\n",
       "      <td>X360</td>\n",
       "      <td>2006.0</td>\n",
       "      <td>Sports</td>\n",
       "      <td>0.00</td>\n",
       "      <td>0.01</td>\n",
       "      <td>0.00</td>\n",
       "      <td>0.00</td>\n",
       "      <td>NaN</td>\n",
       "      <td>NaN</td>\n",
       "      <td>NaN</td>\n",
       "    </tr>\n",
       "    <tr>\n",
       "      <th>16712</th>\n",
       "      <td>Haitaka no Psychedelica</td>\n",
       "      <td>PSV</td>\n",
       "      <td>2016.0</td>\n",
       "      <td>Adventure</td>\n",
       "      <td>0.00</td>\n",
       "      <td>0.00</td>\n",
       "      <td>0.01</td>\n",
       "      <td>0.00</td>\n",
       "      <td>NaN</td>\n",
       "      <td>NaN</td>\n",
       "      <td>NaN</td>\n",
       "    </tr>\n",
       "    <tr>\n",
       "      <th>16713</th>\n",
       "      <td>Spirits &amp; Spells</td>\n",
       "      <td>GBA</td>\n",
       "      <td>2003.0</td>\n",
       "      <td>Platform</td>\n",
       "      <td>0.01</td>\n",
       "      <td>0.00</td>\n",
       "      <td>0.00</td>\n",
       "      <td>0.00</td>\n",
       "      <td>NaN</td>\n",
       "      <td>NaN</td>\n",
       "      <td>NaN</td>\n",
       "    </tr>\n",
       "    <tr>\n",
       "      <th>16714</th>\n",
       "      <td>Winning Post 8 2016</td>\n",
       "      <td>PSV</td>\n",
       "      <td>2016.0</td>\n",
       "      <td>Simulation</td>\n",
       "      <td>0.00</td>\n",
       "      <td>0.00</td>\n",
       "      <td>0.01</td>\n",
       "      <td>0.00</td>\n",
       "      <td>NaN</td>\n",
       "      <td>NaN</td>\n",
       "      <td>NaN</td>\n",
       "    </tr>\n",
       "  </tbody>\n",
       "</table>\n",
       "<p>6621 rows × 11 columns</p>\n",
       "</div>"
      ],
      "text/plain": [
       "                                name platform  year_of_release         genre  \\\n",
       "1                  Super Mario Bros.      NES           1985.0      Platform   \n",
       "4           Pokemon Red/Pokemon Blue       GB           1996.0  Role-Playing   \n",
       "5                             Tetris       GB           1989.0        Puzzle   \n",
       "9                          Duck Hunt      NES           1984.0       Shooter   \n",
       "10                        Nintendogs       DS           2005.0    Simulation   \n",
       "...                              ...      ...              ...           ...   \n",
       "16710  Samurai Warriors: Sanada Maru      PS3           2016.0        Action   \n",
       "16711               LMA Manager 2007     X360           2006.0        Sports   \n",
       "16712        Haitaka no Psychedelica      PSV           2016.0     Adventure   \n",
       "16713               Spirits & Spells      GBA           2003.0      Platform   \n",
       "16714            Winning Post 8 2016      PSV           2016.0    Simulation   \n",
       "\n",
       "       na_sales  eu_sales  jp_sales  other_sales  critic_score user_score  \\\n",
       "1         29.08      3.58      6.81         0.77           NaN        NaN   \n",
       "4         11.27      8.89     10.22         1.00           NaN        NaN   \n",
       "5         23.20      2.26      4.22         0.58           NaN        NaN   \n",
       "9         26.93      0.63      0.28         0.47           NaN        NaN   \n",
       "10         9.05     10.95      1.93         2.74           NaN        NaN   \n",
       "...         ...       ...       ...          ...           ...        ...   \n",
       "16710      0.00      0.00      0.01         0.00           NaN        NaN   \n",
       "16711      0.00      0.01      0.00         0.00           NaN        NaN   \n",
       "16712      0.00      0.00      0.01         0.00           NaN        NaN   \n",
       "16713      0.01      0.00      0.00         0.00           NaN        NaN   \n",
       "16714      0.00      0.00      0.01         0.00           NaN        NaN   \n",
       "\n",
       "      rating  \n",
       "1        NaN  \n",
       "4        NaN  \n",
       "5        NaN  \n",
       "9        NaN  \n",
       "10       NaN  \n",
       "...      ...  \n",
       "16710    NaN  \n",
       "16711    NaN  \n",
       "16712    NaN  \n",
       "16713    NaN  \n",
       "16714    NaN  \n",
       "\n",
       "[6621 rows x 11 columns]"
      ]
     },
     "execution_count": 6,
     "metadata": {},
     "output_type": "execute_result"
    }
   ],
   "source": [
    "games.query('critic_score.isnull() & rating.isnull() & user_score.isnull()')"
   ]
  },
  {
   "cell_type": "markdown",
   "id": "7651228d",
   "metadata": {},
   "source": [
    " оказывается у современных игр тоже есть пропуски в рейтинге"
   ]
  },
  {
   "cell_type": "code",
   "execution_count": 7,
   "id": "fddb15e6",
   "metadata": {},
   "outputs": [
    {
     "data": {
      "text/plain": [
       "0"
      ]
     },
     "execution_count": 7,
     "metadata": {},
     "output_type": "execute_result"
    }
   ],
   "source": [
    "#проверим явные дубликаты\n",
    "games.duplicated().sum()"
   ]
  },
  {
   "cell_type": "markdown",
   "id": "04129eeb",
   "metadata": {},
   "source": [
    "✔ проверил неявные дубликаты ✔"
   ]
  },
  {
   "cell_type": "markdown",
   "id": "88810246",
   "metadata": {},
   "source": [
    "проверим неявные дубликаты одновременно по имени, платформе и году релиза"
   ]
  },
  {
   "cell_type": "code",
   "execution_count": 8,
   "id": "74fd9e19",
   "metadata": {},
   "outputs": [
    {
     "data": {
      "text/plain": [
       "2"
      ]
     },
     "execution_count": 8,
     "metadata": {},
     "output_type": "execute_result"
    }
   ],
   "source": [
    "games[['name', 'platform', 'year_of_release']].duplicated().sum()"
   ]
  },
  {
   "cell_type": "markdown",
   "id": "1bfd2c92",
   "metadata": {},
   "source": [
    "выведем эти дубликаты"
   ]
  },
  {
   "cell_type": "code",
   "execution_count": 9,
   "id": "59d5340a",
   "metadata": {},
   "outputs": [
    {
     "data": {
      "text/html": [
       "<div>\n",
       "<style scoped>\n",
       "    .dataframe tbody tr th:only-of-type {\n",
       "        vertical-align: middle;\n",
       "    }\n",
       "\n",
       "    .dataframe tbody tr th {\n",
       "        vertical-align: top;\n",
       "    }\n",
       "\n",
       "    .dataframe thead th {\n",
       "        text-align: right;\n",
       "    }\n",
       "</style>\n",
       "<table border=\"1\" class=\"dataframe\">\n",
       "  <thead>\n",
       "    <tr style=\"text-align: right;\">\n",
       "      <th></th>\n",
       "      <th>name</th>\n",
       "      <th>platform</th>\n",
       "      <th>year_of_release</th>\n",
       "      <th>genre</th>\n",
       "      <th>na_sales</th>\n",
       "      <th>eu_sales</th>\n",
       "      <th>jp_sales</th>\n",
       "      <th>other_sales</th>\n",
       "      <th>critic_score</th>\n",
       "      <th>user_score</th>\n",
       "      <th>rating</th>\n",
       "    </tr>\n",
       "  </thead>\n",
       "  <tbody>\n",
       "    <tr>\n",
       "      <th>14244</th>\n",
       "      <td>NaN</td>\n",
       "      <td>GEN</td>\n",
       "      <td>1993.0</td>\n",
       "      <td>NaN</td>\n",
       "      <td>0.0</td>\n",
       "      <td>0.00</td>\n",
       "      <td>0.03</td>\n",
       "      <td>0.0</td>\n",
       "      <td>NaN</td>\n",
       "      <td>NaN</td>\n",
       "      <td>NaN</td>\n",
       "    </tr>\n",
       "    <tr>\n",
       "      <th>16230</th>\n",
       "      <td>Madden NFL 13</td>\n",
       "      <td>PS3</td>\n",
       "      <td>2012.0</td>\n",
       "      <td>Sports</td>\n",
       "      <td>0.0</td>\n",
       "      <td>0.01</td>\n",
       "      <td>0.00</td>\n",
       "      <td>0.0</td>\n",
       "      <td>83.0</td>\n",
       "      <td>5.5</td>\n",
       "      <td>E</td>\n",
       "    </tr>\n",
       "  </tbody>\n",
       "</table>\n",
       "</div>"
      ],
      "text/plain": [
       "                name platform  year_of_release   genre  na_sales  eu_sales  \\\n",
       "14244            NaN      GEN           1993.0     NaN       0.0      0.00   \n",
       "16230  Madden NFL 13      PS3           2012.0  Sports       0.0      0.01   \n",
       "\n",
       "       jp_sales  other_sales  critic_score user_score rating  \n",
       "14244      0.03          0.0           NaN        NaN    NaN  \n",
       "16230      0.00          0.0          83.0        5.5      E  "
      ]
     },
     "execution_count": 9,
     "metadata": {},
     "output_type": "execute_result"
    }
   ],
   "source": [
    "games[games[['name', 'platform', 'year_of_release']].duplicated()]"
   ]
  },
  {
   "cell_type": "markdown",
   "id": "839fd80a",
   "metadata": {},
   "source": [
    "посмотрим на дубликаты игры 'Madden NFL 13' и 'NaN'"
   ]
  },
  {
   "cell_type": "code",
   "execution_count": 10,
   "id": "3ce48078",
   "metadata": {},
   "outputs": [
    {
     "data": {
      "text/html": [
       "<div>\n",
       "<style scoped>\n",
       "    .dataframe tbody tr th:only-of-type {\n",
       "        vertical-align: middle;\n",
       "    }\n",
       "\n",
       "    .dataframe tbody tr th {\n",
       "        vertical-align: top;\n",
       "    }\n",
       "\n",
       "    .dataframe thead th {\n",
       "        text-align: right;\n",
       "    }\n",
       "</style>\n",
       "<table border=\"1\" class=\"dataframe\">\n",
       "  <thead>\n",
       "    <tr style=\"text-align: right;\">\n",
       "      <th></th>\n",
       "      <th>name</th>\n",
       "      <th>platform</th>\n",
       "      <th>year_of_release</th>\n",
       "      <th>genre</th>\n",
       "      <th>na_sales</th>\n",
       "      <th>eu_sales</th>\n",
       "      <th>jp_sales</th>\n",
       "      <th>other_sales</th>\n",
       "      <th>critic_score</th>\n",
       "      <th>user_score</th>\n",
       "      <th>rating</th>\n",
       "    </tr>\n",
       "  </thead>\n",
       "  <tbody>\n",
       "    <tr>\n",
       "      <th>507</th>\n",
       "      <td>Madden NFL 13</td>\n",
       "      <td>X360</td>\n",
       "      <td>2012.0</td>\n",
       "      <td>Sports</td>\n",
       "      <td>2.53</td>\n",
       "      <td>0.15</td>\n",
       "      <td>0.0</td>\n",
       "      <td>0.17</td>\n",
       "      <td>81.0</td>\n",
       "      <td>5.8</td>\n",
       "      <td>E</td>\n",
       "    </tr>\n",
       "    <tr>\n",
       "      <th>604</th>\n",
       "      <td>Madden NFL 13</td>\n",
       "      <td>PS3</td>\n",
       "      <td>2012.0</td>\n",
       "      <td>Sports</td>\n",
       "      <td>2.11</td>\n",
       "      <td>0.22</td>\n",
       "      <td>0.0</td>\n",
       "      <td>0.23</td>\n",
       "      <td>83.0</td>\n",
       "      <td>5.5</td>\n",
       "      <td>E</td>\n",
       "    </tr>\n",
       "    <tr>\n",
       "      <th>3986</th>\n",
       "      <td>Madden NFL 13</td>\n",
       "      <td>Wii</td>\n",
       "      <td>2012.0</td>\n",
       "      <td>Sports</td>\n",
       "      <td>0.47</td>\n",
       "      <td>0.00</td>\n",
       "      <td>0.0</td>\n",
       "      <td>0.03</td>\n",
       "      <td>NaN</td>\n",
       "      <td>7.3</td>\n",
       "      <td>E</td>\n",
       "    </tr>\n",
       "    <tr>\n",
       "      <th>5887</th>\n",
       "      <td>Madden NFL 13</td>\n",
       "      <td>PSV</td>\n",
       "      <td>2012.0</td>\n",
       "      <td>Sports</td>\n",
       "      <td>0.28</td>\n",
       "      <td>0.00</td>\n",
       "      <td>0.0</td>\n",
       "      <td>0.02</td>\n",
       "      <td>63.0</td>\n",
       "      <td>7.3</td>\n",
       "      <td>E</td>\n",
       "    </tr>\n",
       "    <tr>\n",
       "      <th>7066</th>\n",
       "      <td>Madden NFL 13</td>\n",
       "      <td>WiiU</td>\n",
       "      <td>2012.0</td>\n",
       "      <td>Sports</td>\n",
       "      <td>0.21</td>\n",
       "      <td>0.00</td>\n",
       "      <td>0.0</td>\n",
       "      <td>0.02</td>\n",
       "      <td>75.0</td>\n",
       "      <td>6.7</td>\n",
       "      <td>E</td>\n",
       "    </tr>\n",
       "    <tr>\n",
       "      <th>16230</th>\n",
       "      <td>Madden NFL 13</td>\n",
       "      <td>PS3</td>\n",
       "      <td>2012.0</td>\n",
       "      <td>Sports</td>\n",
       "      <td>0.00</td>\n",
       "      <td>0.01</td>\n",
       "      <td>0.0</td>\n",
       "      <td>0.00</td>\n",
       "      <td>83.0</td>\n",
       "      <td>5.5</td>\n",
       "      <td>E</td>\n",
       "    </tr>\n",
       "  </tbody>\n",
       "</table>\n",
       "</div>"
      ],
      "text/plain": [
       "                name platform  year_of_release   genre  na_sales  eu_sales  \\\n",
       "507    Madden NFL 13     X360           2012.0  Sports      2.53      0.15   \n",
       "604    Madden NFL 13      PS3           2012.0  Sports      2.11      0.22   \n",
       "3986   Madden NFL 13      Wii           2012.0  Sports      0.47      0.00   \n",
       "5887   Madden NFL 13      PSV           2012.0  Sports      0.28      0.00   \n",
       "7066   Madden NFL 13     WiiU           2012.0  Sports      0.21      0.00   \n",
       "16230  Madden NFL 13      PS3           2012.0  Sports      0.00      0.01   \n",
       "\n",
       "       jp_sales  other_sales  critic_score user_score rating  \n",
       "507         0.0         0.17          81.0        5.8      E  \n",
       "604         0.0         0.23          83.0        5.5      E  \n",
       "3986        0.0         0.03           NaN        7.3      E  \n",
       "5887        0.0         0.02          63.0        7.3      E  \n",
       "7066        0.0         0.02          75.0        6.7      E  \n",
       "16230       0.0         0.00          83.0        5.5      E  "
      ]
     },
     "execution_count": 10,
     "metadata": {},
     "output_type": "execute_result"
    }
   ],
   "source": [
    "games.query('name == \"Madden NFL 13\"')"
   ]
  },
  {
   "cell_type": "markdown",
   "id": "9436f83b",
   "metadata": {},
   "source": [
    "дубликаты игры Madden NFL 13 в строках с индексом 604 и 16230"
   ]
  },
  {
   "cell_type": "code",
   "execution_count": 11,
   "id": "57cd0b75",
   "metadata": {},
   "outputs": [
    {
     "data": {
      "text/html": [
       "<div>\n",
       "<style scoped>\n",
       "    .dataframe tbody tr th:only-of-type {\n",
       "        vertical-align: middle;\n",
       "    }\n",
       "\n",
       "    .dataframe tbody tr th {\n",
       "        vertical-align: top;\n",
       "    }\n",
       "\n",
       "    .dataframe thead th {\n",
       "        text-align: right;\n",
       "    }\n",
       "</style>\n",
       "<table border=\"1\" class=\"dataframe\">\n",
       "  <thead>\n",
       "    <tr style=\"text-align: right;\">\n",
       "      <th></th>\n",
       "      <th>name</th>\n",
       "      <th>platform</th>\n",
       "      <th>year_of_release</th>\n",
       "      <th>genre</th>\n",
       "      <th>na_sales</th>\n",
       "      <th>eu_sales</th>\n",
       "      <th>jp_sales</th>\n",
       "      <th>other_sales</th>\n",
       "      <th>critic_score</th>\n",
       "      <th>user_score</th>\n",
       "      <th>rating</th>\n",
       "    </tr>\n",
       "  </thead>\n",
       "  <tbody>\n",
       "    <tr>\n",
       "      <th>659</th>\n",
       "      <td>NaN</td>\n",
       "      <td>GEN</td>\n",
       "      <td>1993.0</td>\n",
       "      <td>NaN</td>\n",
       "      <td>1.78</td>\n",
       "      <td>0.53</td>\n",
       "      <td>0.00</td>\n",
       "      <td>0.08</td>\n",
       "      <td>NaN</td>\n",
       "      <td>NaN</td>\n",
       "      <td>NaN</td>\n",
       "    </tr>\n",
       "    <tr>\n",
       "      <th>14244</th>\n",
       "      <td>NaN</td>\n",
       "      <td>GEN</td>\n",
       "      <td>1993.0</td>\n",
       "      <td>NaN</td>\n",
       "      <td>0.00</td>\n",
       "      <td>0.00</td>\n",
       "      <td>0.03</td>\n",
       "      <td>0.00</td>\n",
       "      <td>NaN</td>\n",
       "      <td>NaN</td>\n",
       "      <td>NaN</td>\n",
       "    </tr>\n",
       "  </tbody>\n",
       "</table>\n",
       "</div>"
      ],
      "text/plain": [
       "      name platform  year_of_release genre  na_sales  eu_sales  jp_sales  \\\n",
       "659    NaN      GEN           1993.0   NaN      1.78      0.53      0.00   \n",
       "14244  NaN      GEN           1993.0   NaN      0.00      0.00      0.03   \n",
       "\n",
       "       other_sales  critic_score user_score rating  \n",
       "659           0.08           NaN        NaN    NaN  \n",
       "14244         0.00           NaN        NaN    NaN  "
      ]
     },
     "execution_count": 11,
     "metadata": {},
     "output_type": "execute_result"
    }
   ],
   "source": [
    "games.query('name.isnull()')"
   ]
  },
  {
   "cell_type": "markdown",
   "id": "01702ac8",
   "metadata": {},
   "source": [
    "неявный дубликат строчки 16230 удалим тк там меньше данных по количеству продаж,\n",
    "тоже сделаем со строчкой 14244"
   ]
  },
  {
   "cell_type": "code",
   "execution_count": 12,
   "id": "f1aed1c0",
   "metadata": {},
   "outputs": [],
   "source": [
    "games.drop(games.index[[16230, 14244]], inplace=True)"
   ]
  },
  {
   "cell_type": "markdown",
   "id": "42ec4c89",
   "metadata": {},
   "source": [
    "проверим что эти строчки удалились"
   ]
  },
  {
   "cell_type": "code",
   "execution_count": 13,
   "id": "d6cefd4e",
   "metadata": {},
   "outputs": [
    {
     "name": "stdout",
     "output_type": "stream",
     "text": [
      "<class 'pandas.core.frame.DataFrame'>\n",
      "Int64Index: 16713 entries, 0 to 16714\n",
      "Data columns (total 11 columns):\n",
      " #   Column           Non-Null Count  Dtype  \n",
      "---  ------           --------------  -----  \n",
      " 0   name             16712 non-null  object \n",
      " 1   platform         16713 non-null  object \n",
      " 2   year_of_release  16444 non-null  float64\n",
      " 3   genre            16712 non-null  object \n",
      " 4   na_sales         16713 non-null  float64\n",
      " 5   eu_sales         16713 non-null  float64\n",
      " 6   jp_sales         16713 non-null  float64\n",
      " 7   other_sales      16713 non-null  float64\n",
      " 8   critic_score     8136 non-null   float64\n",
      " 9   user_score       10013 non-null  object \n",
      " 10  rating           9948 non-null   object \n",
      "dtypes: float64(6), object(5)\n",
      "memory usage: 1.5+ MB\n"
     ]
    }
   ],
   "source": [
    "games.info()"
   ]
  },
  {
   "cell_type": "markdown",
   "id": "b09773ff",
   "metadata": {},
   "source": [
    "все верно стало 16713 на 2 строчки меньше"
   ]
  },
  {
   "cell_type": "code",
   "execution_count": 14,
   "id": "62fc3bec",
   "metadata": {},
   "outputs": [
    {
     "name": "stdout",
     "output_type": "stream",
     "text": [
      "процент пропусков в столбце year_of_release = 1.64 %\n"
     ]
    }
   ],
   "source": [
    "print('процент пропусков в столбце year_of_release =', \n",
    "      round(games['year_of_release'].isnull().sum()/games['year_of_release'].count()*100, 2), '%')"
   ]
  },
  {
   "cell_type": "code",
   "execution_count": 15,
   "id": "f0adba6f",
   "metadata": {},
   "outputs": [
    {
     "data": {
      "text/html": [
       "<div>\n",
       "<style scoped>\n",
       "    .dataframe tbody tr th:only-of-type {\n",
       "        vertical-align: middle;\n",
       "    }\n",
       "\n",
       "    .dataframe tbody tr th {\n",
       "        vertical-align: top;\n",
       "    }\n",
       "\n",
       "    .dataframe thead th {\n",
       "        text-align: right;\n",
       "    }\n",
       "</style>\n",
       "<table border=\"1\" class=\"dataframe\">\n",
       "  <thead>\n",
       "    <tr style=\"text-align: right;\">\n",
       "      <th></th>\n",
       "      <th>name</th>\n",
       "      <th>platform</th>\n",
       "      <th>year_of_release</th>\n",
       "      <th>genre</th>\n",
       "      <th>na_sales</th>\n",
       "      <th>eu_sales</th>\n",
       "      <th>jp_sales</th>\n",
       "      <th>other_sales</th>\n",
       "      <th>critic_score</th>\n",
       "      <th>user_score</th>\n",
       "      <th>rating</th>\n",
       "    </tr>\n",
       "  </thead>\n",
       "  <tbody>\n",
       "    <tr>\n",
       "      <th>659</th>\n",
       "      <td>NaN</td>\n",
       "      <td>GEN</td>\n",
       "      <td>1993.0</td>\n",
       "      <td>NaN</td>\n",
       "      <td>1.78</td>\n",
       "      <td>0.53</td>\n",
       "      <td>0.0</td>\n",
       "      <td>0.08</td>\n",
       "      <td>NaN</td>\n",
       "      <td>NaN</td>\n",
       "      <td>NaN</td>\n",
       "    </tr>\n",
       "  </tbody>\n",
       "</table>\n",
       "</div>"
      ],
      "text/plain": [
       "    name platform  year_of_release genre  na_sales  eu_sales  jp_sales  \\\n",
       "659  NaN      GEN           1993.0   NaN      1.78      0.53       0.0   \n",
       "\n",
       "     other_sales  critic_score user_score rating  \n",
       "659         0.08           NaN        NaN    NaN  "
      ]
     },
     "execution_count": 15,
     "metadata": {},
     "output_type": "execute_result"
    }
   ],
   "source": [
    "games[games['genre'].isnull()]"
   ]
  },
  {
   "cell_type": "markdown",
   "id": "302ba105",
   "metadata": {},
   "source": [
    "удалим все строчки где есть пропуски в 'year_of_release' тк процент пропуска не очень велик.\n",
    "также удалим строчки где есть пропуски в 'name', 'genre' тк всего 1 строчка и в ней нет данных по рейтингу."
   ]
  },
  {
   "cell_type": "code",
   "execution_count": 16,
   "id": "8fdd2943",
   "metadata": {},
   "outputs": [],
   "source": [
    "games = games.dropna(subset=['year_of_release', 'name', 'genre'])"
   ]
  },
  {
   "cell_type": "markdown",
   "id": "3bc10c06",
   "metadata": {},
   "source": [
    "Обратим внимание на аббревиатуру 'tbd' в столбце с оценкой пользователей. \n",
    "Отдельно разберем это значение "
   ]
  },
  {
   "cell_type": "code",
   "execution_count": 17,
   "id": "de21acfc",
   "metadata": {},
   "outputs": [
    {
     "data": {
      "text/html": [
       "<div>\n",
       "<style scoped>\n",
       "    .dataframe tbody tr th:only-of-type {\n",
       "        vertical-align: middle;\n",
       "    }\n",
       "\n",
       "    .dataframe tbody tr th {\n",
       "        vertical-align: top;\n",
       "    }\n",
       "\n",
       "    .dataframe thead th {\n",
       "        text-align: right;\n",
       "    }\n",
       "</style>\n",
       "<table border=\"1\" class=\"dataframe\">\n",
       "  <thead>\n",
       "    <tr style=\"text-align: right;\">\n",
       "      <th></th>\n",
       "      <th>name</th>\n",
       "      <th>platform</th>\n",
       "      <th>year_of_release</th>\n",
       "      <th>genre</th>\n",
       "      <th>na_sales</th>\n",
       "      <th>eu_sales</th>\n",
       "      <th>jp_sales</th>\n",
       "      <th>other_sales</th>\n",
       "      <th>critic_score</th>\n",
       "      <th>user_score</th>\n",
       "      <th>rating</th>\n",
       "    </tr>\n",
       "  </thead>\n",
       "  <tbody>\n",
       "    <tr>\n",
       "      <th>119</th>\n",
       "      <td>Zumba Fitness</td>\n",
       "      <td>Wii</td>\n",
       "      <td>2010.0</td>\n",
       "      <td>Sports</td>\n",
       "      <td>3.45</td>\n",
       "      <td>2.59</td>\n",
       "      <td>0.0</td>\n",
       "      <td>0.66</td>\n",
       "      <td>NaN</td>\n",
       "      <td>tbd</td>\n",
       "      <td>E</td>\n",
       "    </tr>\n",
       "    <tr>\n",
       "      <th>301</th>\n",
       "      <td>Namco Museum: 50th Anniversary</td>\n",
       "      <td>PS2</td>\n",
       "      <td>2005.0</td>\n",
       "      <td>Misc</td>\n",
       "      <td>2.08</td>\n",
       "      <td>1.35</td>\n",
       "      <td>0.0</td>\n",
       "      <td>0.54</td>\n",
       "      <td>61.0</td>\n",
       "      <td>tbd</td>\n",
       "      <td>E10+</td>\n",
       "    </tr>\n",
       "    <tr>\n",
       "      <th>520</th>\n",
       "      <td>Zumba Fitness 2</td>\n",
       "      <td>Wii</td>\n",
       "      <td>2011.0</td>\n",
       "      <td>Sports</td>\n",
       "      <td>1.51</td>\n",
       "      <td>1.03</td>\n",
       "      <td>0.0</td>\n",
       "      <td>0.27</td>\n",
       "      <td>NaN</td>\n",
       "      <td>tbd</td>\n",
       "      <td>T</td>\n",
       "    </tr>\n",
       "    <tr>\n",
       "      <th>645</th>\n",
       "      <td>uDraw Studio</td>\n",
       "      <td>Wii</td>\n",
       "      <td>2010.0</td>\n",
       "      <td>Misc</td>\n",
       "      <td>1.65</td>\n",
       "      <td>0.57</td>\n",
       "      <td>0.0</td>\n",
       "      <td>0.20</td>\n",
       "      <td>71.0</td>\n",
       "      <td>tbd</td>\n",
       "      <td>E</td>\n",
       "    </tr>\n",
       "    <tr>\n",
       "      <th>718</th>\n",
       "      <td>Just Dance Kids</td>\n",
       "      <td>Wii</td>\n",
       "      <td>2010.0</td>\n",
       "      <td>Misc</td>\n",
       "      <td>1.52</td>\n",
       "      <td>0.54</td>\n",
       "      <td>0.0</td>\n",
       "      <td>0.18</td>\n",
       "      <td>NaN</td>\n",
       "      <td>tbd</td>\n",
       "      <td>E</td>\n",
       "    </tr>\n",
       "    <tr>\n",
       "      <th>...</th>\n",
       "      <td>...</td>\n",
       "      <td>...</td>\n",
       "      <td>...</td>\n",
       "      <td>...</td>\n",
       "      <td>...</td>\n",
       "      <td>...</td>\n",
       "      <td>...</td>\n",
       "      <td>...</td>\n",
       "      <td>...</td>\n",
       "      <td>...</td>\n",
       "      <td>...</td>\n",
       "    </tr>\n",
       "    <tr>\n",
       "      <th>16695</th>\n",
       "      <td>Planet Monsters</td>\n",
       "      <td>GBA</td>\n",
       "      <td>2001.0</td>\n",
       "      <td>Action</td>\n",
       "      <td>0.01</td>\n",
       "      <td>0.00</td>\n",
       "      <td>0.0</td>\n",
       "      <td>0.00</td>\n",
       "      <td>67.0</td>\n",
       "      <td>tbd</td>\n",
       "      <td>E</td>\n",
       "    </tr>\n",
       "    <tr>\n",
       "      <th>16697</th>\n",
       "      <td>Bust-A-Move 3000</td>\n",
       "      <td>GC</td>\n",
       "      <td>2003.0</td>\n",
       "      <td>Puzzle</td>\n",
       "      <td>0.01</td>\n",
       "      <td>0.00</td>\n",
       "      <td>0.0</td>\n",
       "      <td>0.00</td>\n",
       "      <td>53.0</td>\n",
       "      <td>tbd</td>\n",
       "      <td>E</td>\n",
       "    </tr>\n",
       "    <tr>\n",
       "      <th>16698</th>\n",
       "      <td>Mega Brain Boost</td>\n",
       "      <td>DS</td>\n",
       "      <td>2008.0</td>\n",
       "      <td>Puzzle</td>\n",
       "      <td>0.01</td>\n",
       "      <td>0.00</td>\n",
       "      <td>0.0</td>\n",
       "      <td>0.00</td>\n",
       "      <td>48.0</td>\n",
       "      <td>tbd</td>\n",
       "      <td>E</td>\n",
       "    </tr>\n",
       "    <tr>\n",
       "      <th>16704</th>\n",
       "      <td>Plushees</td>\n",
       "      <td>DS</td>\n",
       "      <td>2008.0</td>\n",
       "      <td>Simulation</td>\n",
       "      <td>0.01</td>\n",
       "      <td>0.00</td>\n",
       "      <td>0.0</td>\n",
       "      <td>0.00</td>\n",
       "      <td>NaN</td>\n",
       "      <td>tbd</td>\n",
       "      <td>E</td>\n",
       "    </tr>\n",
       "    <tr>\n",
       "      <th>16706</th>\n",
       "      <td>Men in Black II: Alien Escape</td>\n",
       "      <td>GC</td>\n",
       "      <td>2003.0</td>\n",
       "      <td>Shooter</td>\n",
       "      <td>0.01</td>\n",
       "      <td>0.00</td>\n",
       "      <td>0.0</td>\n",
       "      <td>0.00</td>\n",
       "      <td>NaN</td>\n",
       "      <td>tbd</td>\n",
       "      <td>T</td>\n",
       "    </tr>\n",
       "  </tbody>\n",
       "</table>\n",
       "<p>2376 rows × 11 columns</p>\n",
       "</div>"
      ],
      "text/plain": [
       "                                 name platform  year_of_release       genre  \\\n",
       "119                     Zumba Fitness      Wii           2010.0      Sports   \n",
       "301    Namco Museum: 50th Anniversary      PS2           2005.0        Misc   \n",
       "520                   Zumba Fitness 2      Wii           2011.0      Sports   \n",
       "645                      uDraw Studio      Wii           2010.0        Misc   \n",
       "718                   Just Dance Kids      Wii           2010.0        Misc   \n",
       "...                               ...      ...              ...         ...   \n",
       "16695                 Planet Monsters      GBA           2001.0      Action   \n",
       "16697                Bust-A-Move 3000       GC           2003.0      Puzzle   \n",
       "16698                Mega Brain Boost       DS           2008.0      Puzzle   \n",
       "16704                        Plushees       DS           2008.0  Simulation   \n",
       "16706   Men in Black II: Alien Escape       GC           2003.0     Shooter   \n",
       "\n",
       "       na_sales  eu_sales  jp_sales  other_sales  critic_score user_score  \\\n",
       "119        3.45      2.59       0.0         0.66           NaN        tbd   \n",
       "301        2.08      1.35       0.0         0.54          61.0        tbd   \n",
       "520        1.51      1.03       0.0         0.27           NaN        tbd   \n",
       "645        1.65      0.57       0.0         0.20          71.0        tbd   \n",
       "718        1.52      0.54       0.0         0.18           NaN        tbd   \n",
       "...         ...       ...       ...          ...           ...        ...   \n",
       "16695      0.01      0.00       0.0         0.00          67.0        tbd   \n",
       "16697      0.01      0.00       0.0         0.00          53.0        tbd   \n",
       "16698      0.01      0.00       0.0         0.00          48.0        tbd   \n",
       "16704      0.01      0.00       0.0         0.00           NaN        tbd   \n",
       "16706      0.01      0.00       0.0         0.00           NaN        tbd   \n",
       "\n",
       "      rating  \n",
       "119        E  \n",
       "301     E10+  \n",
       "520        T  \n",
       "645        E  \n",
       "718        E  \n",
       "...      ...  \n",
       "16695      E  \n",
       "16697      E  \n",
       "16698      E  \n",
       "16704      E  \n",
       "16706      T  \n",
       "\n",
       "[2376 rows x 11 columns]"
      ]
     },
     "execution_count": 17,
     "metadata": {},
     "output_type": "execute_result"
    }
   ],
   "source": [
    "games.query('user_score == \"tbd\"')"
   ]
  },
  {
   "cell_type": "markdown",
   "id": "bb33ec54",
   "metadata": {},
   "source": [
    "из общей информации доступной в интернете можно предроложить что tbd - это скорее всего пропуски такие же как Nan"
   ]
  },
  {
   "cell_type": "markdown",
   "id": "b36138de",
   "metadata": {},
   "source": [
    "чтобы поменять тип данных в рейтинге 'user_score' с object на числовое значение заменим Nan и tbd на нейтральное значение (-1) и будем иметь это ввиду.\n",
    "\n",
    "будем иметь ввиду что не существующее значение (-1) это пропуски"
   ]
  },
  {
   "cell_type": "markdown",
   "id": "113fbce3",
   "metadata": {},
   "source": [
    "'critic_score', 'user_score' заменяем на -1"
   ]
  },
  {
   "cell_type": "code",
   "execution_count": 18,
   "id": "6dfbc1b5",
   "metadata": {},
   "outputs": [],
   "source": [
    "games[['critic_score', 'user_score']] = games[['critic_score', 'user_score']].fillna(-1)"
   ]
  },
  {
   "cell_type": "markdown",
   "id": "8043eb34",
   "metadata": {},
   "source": [
    "'rating' заменяем на 'NA' - нет данных"
   ]
  },
  {
   "cell_type": "code",
   "execution_count": 19,
   "id": "a5b42663",
   "metadata": {},
   "outputs": [],
   "source": [
    "games['rating'] = games['rating'].fillna('NA')"
   ]
  },
  {
   "cell_type": "markdown",
   "id": "e5b46b88",
   "metadata": {},
   "source": [
    "удалили пропуски в столбцах 'name', 'genre' и year_of_release "
   ]
  },
  {
   "cell_type": "markdown",
   "id": "908c08d1",
   "metadata": {},
   "source": [
    "✔ удалил пропуски ✔"
   ]
  },
  {
   "cell_type": "markdown",
   "id": "aedd6240",
   "metadata": {},
   "source": [
    "заменяем tbd в user_score на -1"
   ]
  },
  {
   "cell_type": "code",
   "execution_count": 20,
   "id": "323ebbf4",
   "metadata": {},
   "outputs": [],
   "source": [
    "games['user_score'] = games['user_score'].replace('tbd', '-1')"
   ]
  },
  {
   "cell_type": "markdown",
   "id": "06ae1fd1",
   "metadata": {},
   "source": [
    "меняем тип данных user_score на float64,\n",
    "year_of_release на int32"
   ]
  },
  {
   "cell_type": "code",
   "execution_count": 21,
   "id": "48812678",
   "metadata": {},
   "outputs": [],
   "source": [
    "games['user_score'] = games['user_score'].astype('float64')\n",
    "games['year_of_release'] = games['year_of_release'].astype('int32')"
   ]
  },
  {
   "cell_type": "markdown",
   "id": "5617e866",
   "metadata": {},
   "source": [
    "проверяем уникальные значения rating"
   ]
  },
  {
   "cell_type": "code",
   "execution_count": 22,
   "id": "c864d1f5",
   "metadata": {},
   "outputs": [
    {
     "data": {
      "text/plain": [
       "array(['E', 'NA', 'M', 'T', 'E10+', 'K-A', 'AO', 'EC', 'RP'], dtype=object)"
      ]
     },
     "execution_count": 22,
     "metadata": {},
     "output_type": "execute_result"
    }
   ],
   "source": [
    "games['rating'].unique()"
   ]
  },
  {
   "cell_type": "markdown",
   "id": "b85c4eaf",
   "metadata": {},
   "source": [
    "поставили заглушку в 'rating' = NA"
   ]
  },
  {
   "cell_type": "markdown",
   "id": "3ba0e319",
   "metadata": {},
   "source": [
    "✔ поменял заглушку"
   ]
  },
  {
   "cell_type": "markdown",
   "id": "6cc432e2",
   "metadata": {},
   "source": [
    "Посчитаем суммарные продажи во всех регионах и запишем их в отдельный столбец sales_all"
   ]
  },
  {
   "cell_type": "code",
   "execution_count": 23,
   "id": "6242c4ed",
   "metadata": {},
   "outputs": [],
   "source": [
    "#games['sales_all'] = games['na_sales'] + games['eu_sales'] + games['jp_sales'] + games['other_sales']"
   ]
  },
  {
   "cell_type": "code",
   "execution_count": 24,
   "id": "9c81c9f1",
   "metadata": {},
   "outputs": [],
   "source": [
    "games['sales_all'] = games.loc[:,['na_sales','eu_sales', 'jp_sales', 'other_sales']].sum(axis=1)"
   ]
  },
  {
   "cell_type": "markdown",
   "id": "dd302505",
   "metadata": {},
   "source": [
    "✔ ниже добавил вывод"
   ]
  },
  {
   "cell_type": "markdown",
   "id": "5f16d25b",
   "metadata": {},
   "source": [
    "Снова проверяем пропуски и тип данных. "
   ]
  },
  {
   "cell_type": "code",
   "execution_count": 25,
   "id": "3342371f",
   "metadata": {},
   "outputs": [
    {
     "name": "stdout",
     "output_type": "stream",
     "text": [
      "<class 'pandas.core.frame.DataFrame'>\n",
      "Int64Index: 16443 entries, 0 to 16714\n",
      "Data columns (total 12 columns):\n",
      " #   Column           Non-Null Count  Dtype  \n",
      "---  ------           --------------  -----  \n",
      " 0   name             16443 non-null  object \n",
      " 1   platform         16443 non-null  object \n",
      " 2   year_of_release  16443 non-null  int32  \n",
      " 3   genre            16443 non-null  object \n",
      " 4   na_sales         16443 non-null  float64\n",
      " 5   eu_sales         16443 non-null  float64\n",
      " 6   jp_sales         16443 non-null  float64\n",
      " 7   other_sales      16443 non-null  float64\n",
      " 8   critic_score     16443 non-null  float64\n",
      " 9   user_score       16443 non-null  float64\n",
      " 10  rating           16443 non-null  object \n",
      " 11  sales_all        16443 non-null  float64\n",
      "dtypes: float64(7), int32(1), object(4)\n",
      "memory usage: 1.6+ MB\n",
      "None\n",
      "--------------------------------------------------\n",
      "name ['Wii Sports' 'Super Mario Bros.' 'Mario Kart Wii' ...\n",
      " 'Woody Woodpecker in Crazy Castle 5' 'LMA Manager 2007'\n",
      " 'Haitaka no Psychedelica']\n",
      "name : кол-во NaN 0 , процент NaN 0.0 %\n",
      "--------------------------------------------------\n",
      "platform ['Wii' 'NES' 'GB' 'DS' 'X360' 'PS3' 'PS2' 'SNES' 'GBA' 'PS4' '3DS' 'N64'\n",
      " 'PS' 'XB' 'PC' '2600' 'PSP' 'XOne' 'WiiU' 'GC' 'GEN' 'DC' 'PSV' 'SAT'\n",
      " 'SCD' 'WS' 'NG' 'TG16' '3DO' 'GG' 'PCFX']\n",
      "platform : кол-во NaN 0 , процент NaN 0.0 %\n",
      "--------------------------------------------------\n",
      "year_of_release [2006 1985 2008 2009 1996 1989 1984 2005 1999 2007 2010 2013 2004 1990\n",
      " 1988 2002 2001 2011 1998 2015 2012 2014 1992 1997 1993 1994 1982 2016\n",
      " 2003 1986 2000 1995 1991 1981 1987 1980 1983]\n",
      "year_of_release : кол-во NaN 0 , процент NaN 0.0 %\n",
      "--------------------------------------------------\n",
      "genre ['Sports' 'Platform' 'Racing' 'Role-Playing' 'Puzzle' 'Misc' 'Shooter'\n",
      " 'Simulation' 'Action' 'Fighting' 'Adventure' 'Strategy']\n",
      "genre : кол-во NaN 0 , процент NaN 0.0 %\n",
      "--------------------------------------------------\n",
      "critic_score [76. -1. 82. 80. 89. 58. 87. 91. 61. 97. 95. 77. 88. 83. 94. 93. 85. 86.\n",
      " 98. 96. 90. 84. 73. 74. 78. 92. 71. 72. 68. 62. 49. 67. 81. 66. 56. 79.\n",
      " 70. 59. 64. 75. 60. 63. 69. 50. 25. 42. 44. 55. 48. 57. 29. 47. 65. 54.\n",
      " 20. 53. 37. 38. 33. 52. 30. 32. 43. 45. 51. 40. 46. 39. 34. 41. 36. 31.\n",
      " 27. 35. 26. 19. 28. 23. 24. 21. 17. 13.]\n",
      "critic_score : кол-во NaN 0 , процент NaN 0.0 %\n",
      "--------------------------------------------------\n",
      "user_score [ 8.  -1.   8.3  8.5  6.6  8.4  8.6  7.7  6.3  7.4  8.2  9.   7.9  8.1\n",
      "  8.7  7.1  3.4  5.3  4.8  3.2  8.9  6.4  7.8  7.5  2.6  7.2  9.2  7.\n",
      "  7.3  4.3  7.6  5.7  5.   9.1  6.5  8.8  6.9  9.4  6.8  6.1  6.7  5.4\n",
      "  4.   4.9  4.5  9.3  6.2  4.2  6.   3.7  4.1  5.8  5.6  5.5  4.4  4.6\n",
      "  5.9  3.9  3.1  2.9  5.2  3.3  4.7  5.1  3.5  2.5  1.9  3.   2.7  2.2\n",
      "  2.   9.5  2.1  3.6  2.8  1.8  3.8  0.   1.6  9.6  2.4  1.7  1.1  0.3\n",
      "  1.5  0.7  1.2  2.3  0.5  1.3  0.2  0.6  1.4  0.9  1.   9.7]\n",
      "user_score : кол-во NaN 0 , процент NaN 0.0 %\n",
      "--------------------------------------------------\n",
      "rating ['E' 'NA' 'M' 'T' 'E10+' 'K-A' 'AO' 'EC' 'RP']\n",
      "rating : кол-во NaN 0 , процент NaN 0.0 %\n"
     ]
    }
   ],
   "source": [
    "# Комментарий ревьюера\n",
    "# Посмотрим, что осталось\n",
    "temp = games.copy() \n",
    "list_c = ['name', 'platform', 'year_of_release', 'genre', 'critic_score', 'user_score', 'rating']\n",
    "print(temp.info())\n",
    "for col_l in list_c:\n",
    "  print('-'* 50)\n",
    "  print(col_l, temp[col_l].unique())\n",
    "  print(col_l,': кол-во NaN',temp[col_l].isna().sum(),\n",
    "        ', процент NaN', round(temp[col_l].isna().mean()*100,2),'%') "
   ]
  },
  {
   "cell_type": "markdown",
   "id": "2cf8ca13",
   "metadata": {},
   "source": [
    "отлично, пропусков нет и все значения приведены к нужному типу."
   ]
  },
  {
   "cell_type": "markdown",
   "id": "3ca814ae",
   "metadata": {},
   "source": [
    "Вывод по предобработке данных:"
   ]
  },
  {
   "cell_type": "markdown",
   "id": "9dbdd33e",
   "metadata": {},
   "source": [
    "- Изучили данные\n",
    "- приведи к нижнему регистру названия столбцов\n",
    "- проверили количество пропусков данных\n",
    "- удалили неявные дубликаты\n",
    "- удалили строки где есть пропуски в 'year_of_release' тк процент пропуска не очень велик и равен 1.6% .\n",
    "- удалили строчки где есть пропуски в 'name', 'genre' тк всего 1 строчка и в ней нет нужных данных по рейтингу.\n",
    "- заменили пропуски в 'critic_score', 'user_score' на заглушку -1\n",
    "- заменили пропуски в 'rating' на 'NA' - нет данных\n",
    "- привели данные к нужному типу\n",
    "- заменили тип данных 'user_score' на 'float64', 'year_of_release' на 'int32'\n",
    "- создали новый отдельный столбец 'sales_all' с суммарными продажами во всех регионах\n",
    "- убедились что все данные в норме и пропусков после предобработке данных нет"
   ]
  },
  {
   "cell_type": "markdown",
   "id": "08b9f613",
   "metadata": {},
   "source": [
    "Очень много пропусков в старых играх когда скорее всего не велся учет.\n",
    "также вероятно пропуски в не популярных играх или в играх где рейтинг учитвыается на иных ресурсах."
   ]
  },
  {
   "cell_type": "markdown",
   "id": "01d8f63e",
   "metadata": {},
   "source": [
    "## Шаг 3. Проведем исследовательский анализ данных"
   ]
  },
  {
   "cell_type": "markdown",
   "id": "de80ec40",
   "metadata": {},
   "source": [
    "Посмотрим, сколько игр выпускалось в разные годы. Важны ли нам данные за все периоды?\n",
    "Отсортируем по годам"
   ]
  },
  {
   "cell_type": "markdown",
   "id": "baad8181",
   "metadata": {},
   "source": [
    "✔ заменил сортировку"
   ]
  },
  {
   "cell_type": "code",
   "execution_count": 26,
   "id": "97cc5391",
   "metadata": {},
   "outputs": [
    {
     "data": {
      "image/png": "[encoded data removed]",
      "text/plain": [
       "<Figure size 432x288 with 1 Axes>"
      ]
     },
     "metadata": {
      "needs_background": "light"
     },
     "output_type": "display_data"
    }
   ],
   "source": [
    "(\n",
    "games\n",
    "    .pivot_table(index='year_of_release',values='sales_all', aggfunc='count')\n",
    "    .sort_values(by='year_of_release', ascending=True)\n",
    "    .plot(kind='bar', grid=True, title='частота выхода игр по годам')\n",
    ")\n",
    "plt.xlabel(\"год выпуска игр\")\n",
    "plt.ylabel(\"кол-во продаж\")\n",
    "plt.show()"
   ]
  },
  {
   "cell_type": "markdown",
   "id": "464bd977",
   "metadata": {},
   "source": [
    "Видимо до 94-го года игр выпускалась мало. потом в 2002 стало много игр возможно изза выхода новых технологий. пик приходится на 2008-09 года. дальше после 2012 идет на спад."
   ]
  },
  {
   "cell_type": "markdown",
   "id": "61370498",
   "metadata": {},
   "source": [
    "получается актуальный период с 1994 года по нв.\n",
    "а также с 2008 года когда был пик.\n",
    "и с 2012 когда начали выпускаться новые приставки но продаж у них еще не много тк еще не успели стать популярными."
   ]
  },
  {
   "cell_type": "markdown",
   "id": "383c04f4",
   "metadata": {},
   "source": [
    "Посмотрим, как менялись продажи по платформам. \n",
    "Выберем платформы с наибольшими суммарными продажами и построим распределение по годам. \n",
    "определим За какой характерный срок появляются новые и исчезают старые платформы"
   ]
  },
  {
   "cell_type": "markdown",
   "id": "a4363ab7",
   "metadata": {},
   "source": [
    "сохраним датафреймы с играми по периодам выпуска"
   ]
  },
  {
   "cell_type": "code",
   "execution_count": 27,
   "id": "76fdd29d",
   "metadata": {},
   "outputs": [],
   "source": [
    "games_1994 = games.query('year_of_release > 1994')\n",
    "games_2008 = games.query('year_of_release > 2008')\n",
    "games_2012 = games.query('year_of_release > 2012')"
   ]
  },
  {
   "cell_type": "markdown",
   "id": "32be699d",
   "metadata": {},
   "source": [
    "посторим график продаж игр по платформам"
   ]
  },
  {
   "cell_type": "code",
   "execution_count": 28,
   "id": "2eccd482",
   "metadata": {},
   "outputs": [
    {
     "data": {
      "image/png": "[encoded data removed]",
      "text/plain": [
       "<Figure size 432x288 with 1 Axes>"
      ]
     },
     "metadata": {
      "needs_background": "light"
     },
     "output_type": "display_data"
    }
   ],
   "source": [
    "(\n",
    "games\n",
    "    .pivot_table(index='platform', values='sales_all', aggfunc='sum')\n",
    "    .sort_values(by='sales_all', ascending=True)\n",
    "    .plot(kind='bar', grid=True, title='кол-во игр по виду платформы за все время')\n",
    ")\n",
    "plt.xlabel(\"вид платформы\")\n",
    "plt.ylabel(\"кол-во продаж\")\n",
    "plt.show()"
   ]
  },
  {
   "cell_type": "code",
   "execution_count": 29,
   "id": "6ef8051c",
   "metadata": {},
   "outputs": [
    {
     "data": {
      "image/png": "[encoded data removed]",
      "text/plain": [
       "<Figure size 432x288 with 1 Axes>"
      ]
     },
     "metadata": {
      "needs_background": "light"
     },
     "output_type": "display_data"
    },
    {
     "data": {
      "image/png": "[encoded data removed]",
      "text/plain": [
       "<Figure size 432x288 with 1 Axes>"
      ]
     },
     "metadata": {
      "needs_background": "light"
     },
     "output_type": "display_data"
    },
    {
     "data": {
      "image/png": "[encoded data removed]",
      "text/plain": [
       "<Figure size 432x288 with 1 Axes>"
      ]
     },
     "metadata": {
      "needs_background": "light"
     },
     "output_type": "display_data"
    }
   ],
   "source": [
    "(games_1994\n",
    "    .pivot_table(index='platform', values='sales_all', aggfunc='sum')\n",
    "    .sort_values(by='sales_all', ascending=True)\n",
    "    .plot(kind='bar', grid=True, title='кол-во игр по виду платформы с 1994'))\n",
    "plt.xlabel(\"вид платформы\")\n",
    "plt.ylabel(\"кол-во продаж\")\n",
    "plt.show()\n",
    "\n",
    "(games_2008\n",
    "    .pivot_table(index='platform', values='sales_all', aggfunc='sum')\n",
    "    .sort_values(by='sales_all', ascending=True)\n",
    "    .plot(kind='bar', grid=True, title='кол-во игр по виду платформы с 2008'))\n",
    "plt.xlabel(\"вид платформы\")\n",
    "plt.ylabel(\"кол-во продаж\")\n",
    "plt.show()\n",
    "\n",
    "(games_2012\n",
    "    .pivot_table(index='platform', values='sales_all', aggfunc='sum')\n",
    "    .sort_values(by='sales_all', ascending=True)\n",
    "    .plot(kind='bar', grid=True, title='кол-во игр по виду платформы с 2012'))\n",
    "\n",
    "plt.xlabel(\"вид платформы\")\n",
    "plt.ylabel(\"кол-во продаж\")\n",
    "plt.show()"
   ]
  },
  {
   "cell_type": "markdown",
   "id": "4dd93c1c",
   "metadata": {},
   "source": [
    "- видим 6 явных фоваритов первом на графике, и в самом конце какие то мало известные платформы. \n",
    "- за последние годы популярные платформы меняются , это видно на последнем графике."
   ]
  },
  {
   "cell_type": "code",
   "execution_count": 30,
   "id": "290907a9",
   "metadata": {},
   "outputs": [
    {
     "data": {
      "text/html": [
       "<div>\n",
       "<style scoped>\n",
       "    .dataframe tbody tr th:only-of-type {\n",
       "        vertical-align: middle;\n",
       "    }\n",
       "\n",
       "    .dataframe tbody tr th {\n",
       "        vertical-align: top;\n",
       "    }\n",
       "\n",
       "    .dataframe thead th {\n",
       "        text-align: right;\n",
       "    }\n",
       "</style>\n",
       "<table border=\"1\" class=\"dataframe\">\n",
       "  <thead>\n",
       "    <tr style=\"text-align: right;\">\n",
       "      <th></th>\n",
       "      <th>sales_all</th>\n",
       "    </tr>\n",
       "    <tr>\n",
       "      <th>platform</th>\n",
       "      <th></th>\n",
       "    </tr>\n",
       "  </thead>\n",
       "  <tbody>\n",
       "    <tr>\n",
       "      <th>PS2</th>\n",
       "      <td>1233.56</td>\n",
       "    </tr>\n",
       "    <tr>\n",
       "      <th>X360</th>\n",
       "      <td>961.24</td>\n",
       "    </tr>\n",
       "    <tr>\n",
       "      <th>PS3</th>\n",
       "      <td>931.33</td>\n",
       "    </tr>\n",
       "    <tr>\n",
       "      <th>Wii</th>\n",
       "      <td>891.18</td>\n",
       "    </tr>\n",
       "    <tr>\n",
       "      <th>DS</th>\n",
       "      <td>802.78</td>\n",
       "    </tr>\n",
       "    <tr>\n",
       "      <th>PS</th>\n",
       "      <td>727.58</td>\n",
       "    </tr>\n",
       "  </tbody>\n",
       "</table>\n",
       "</div>"
      ],
      "text/plain": [
       "          sales_all\n",
       "platform           \n",
       "PS2         1233.56\n",
       "X360         961.24\n",
       "PS3          931.33\n",
       "Wii          891.18\n",
       "DS           802.78\n",
       "PS           727.58"
      ]
     },
     "execution_count": 30,
     "metadata": {},
     "output_type": "execute_result"
    }
   ],
   "source": [
    "g1 = (\n",
    "games\n",
    "    .pivot_table(index='platform',values='sales_all', aggfunc='sum')\n",
    "    .sort_values(by='sales_all', ascending=False)\n",
    ").head(6)\n",
    "g1 "
   ]
  },
  {
   "cell_type": "markdown",
   "id": "8bb0c4e0",
   "metadata": {},
   "source": [
    "6 самых популярныъ платформ за все время"
   ]
  },
  {
   "cell_type": "code",
   "execution_count": 31,
   "id": "6b58a735",
   "metadata": {},
   "outputs": [
    {
     "data": {
      "text/plain": [
       "Index(['PS2', 'X360', 'PS3', 'Wii', 'DS', 'PS'], dtype='object', name='platform')"
      ]
     },
     "execution_count": 31,
     "metadata": {},
     "output_type": "execute_result"
    }
   ],
   "source": [
    "g1.index"
   ]
  },
  {
   "cell_type": "markdown",
   "id": "185a9d6e",
   "metadata": {},
   "source": [
    "#тоже самое что индекс:\n",
    "g1 = list(g1.index[:6])"
   ]
  },
  {
   "cell_type": "markdown",
   "id": "6afa54bd",
   "metadata": {},
   "source": [
    "выведем данные по количеству продаж 6 популярных платформ с 1994 года по 2016"
   ]
  },
  {
   "cell_type": "code",
   "execution_count": 32,
   "id": "42c5522f",
   "metadata": {},
   "outputs": [
    {
     "data": {
      "image/png": "[encoded data removed]",
      "text/plain": [
       "<Figure size 432x144 with 1 Axes>"
      ]
     },
     "metadata": {
      "needs_background": "light"
     },
     "output_type": "display_data"
    },
    {
     "data": {
      "image/png": "[encoded data removed]",
      "text/plain": [
       "<Figure size 432x144 with 1 Axes>"
      ]
     },
     "metadata": {
      "needs_background": "light"
     },
     "output_type": "display_data"
    },
    {
     "data": {
      "image/png": "[encoded data removed]",
      "text/plain": [
       "<Figure size 432x144 with 1 Axes>"
      ]
     },
     "metadata": {
      "needs_background": "light"
     },
     "output_type": "display_data"
    },
    {
     "data": {
      "image/png": "[encoded data removed]",
      "text/plain": [
       "<Figure size 432x144 with 1 Axes>"
      ]
     },
     "metadata": {
      "needs_background": "light"
     },
     "output_type": "display_data"
    },
    {
     "data": {
      "image/png": "[encoded data removed]",
      "text/plain": [
       "<Figure size 432x144 with 1 Axes>"
      ]
     },
     "metadata": {
      "needs_background": "light"
     },
     "output_type": "display_data"
    },
    {
     "data": {
      "image/png": "[encoded data removed]",
      "text/plain": [
       "<Figure size 432x144 with 1 Axes>"
      ]
     },
     "metadata": {
      "needs_background": "light"
     },
     "output_type": "display_data"
    }
   ],
   "source": [
    "for platform in g1.index:\n",
    "    platform_sales_all_pivot = (\n",
    "        games\n",
    "    .query('platform == @platform and year_of_release >= 1994')\n",
    "    .pivot_table(index=['year_of_release'], values='sales_all', aggfunc='sum')\n",
    "    .plot(kind='bar', grid=True, figsize=(6,2))\n",
    "                                )\n",
    "    plt.ylabel('кол-во продаж')\n",
    "    plt.xlabel('год выпуска')\n",
    "    plt.title('игровая платформа ' + platform)\n",
    "    plt.show()"
   ]
  },
  {
   "cell_type": "markdown",
   "id": "2c43e0d9",
   "metadata": {},
   "source": [
    "✔ подписал графики"
   ]
  },
  {
   "cell_type": "markdown",
   "id": "0794bb4e",
   "metadata": {},
   "source": [
    "получается что старые приставки еще актуальны 3-4 года после выхода новых"
   ]
  },
  {
   "cell_type": "markdown",
   "id": "ff0c78f2",
   "metadata": {},
   "source": [
    "пик продаж игр наступает примерно через 4-6 лет после выхода приставки, после этого выпускают новую приставку и продажи на старую падают и после чего не выпускаются вовсе"
   ]
  },
  {
   "cell_type": "markdown",
   "id": "5fd943b6",
   "metadata": {},
   "source": [
    "✔ ниже посчитал срок жизни платформ взял код ревьюера"
   ]
  },
  {
   "cell_type": "markdown",
   "id": "50c45946",
   "metadata": {},
   "source": [
    "найдем среднее время жизни платформ "
   ]
  },
  {
   "cell_type": "code",
   "execution_count": 33,
   "id": "72f65626",
   "metadata": {},
   "outputs": [
    {
     "data": {
      "text/plain": [
       "7.0"
      ]
     },
     "execution_count": 33,
     "metadata": {},
     "output_type": "execute_result"
    }
   ],
   "source": [
    "# Комментарий ревьюера 0\n",
    "temp = games.copy() \n",
    "time_life = temp.pivot_table(index='platform', values='year_of_release', aggfunc=['min', 'max']).reset_index()\n",
    "time_life['life'] = time_life['max'] - time_life['min'] + 1 # в срок жизни платформы, должны входить границы диапазона, \n",
    "                                                           # поэтому +1\n",
    "time_life['life'].median()"
   ]
  },
  {
   "cell_type": "markdown",
   "id": "ab34e919",
   "metadata": {},
   "source": [
    "видим что в игры на платформы работают в среднем 7 лет"
   ]
  },
  {
   "cell_type": "markdown",
   "id": "90362744",
   "metadata": {},
   "source": [
    "Возьмем данные за соответствующий актуальный период. \n",
    "определим Актуальный период в результате исследования предыдущих вопросов. \n",
    "Основной фактор — эти данные помогут построить прогноз на 2017 год."
   ]
  },
  {
   "cell_type": "markdown",
   "id": "0bddf995",
   "metadata": {},
   "source": [
    "актуальный период с 2012 года тк пик продаж наступает примерно через 5 лет (будет 2017) а старые платформы еще продаются 3-4 года"
   ]
  },
  {
   "cell_type": "markdown",
   "id": "f7cc381f",
   "metadata": {},
   "source": [
    "проверим современные платформы которых нет в предыдущем списке"
   ]
  },
  {
   "cell_type": "code",
   "execution_count": 34,
   "id": "15ff6ea3",
   "metadata": {},
   "outputs": [
    {
     "data": {
      "text/html": [
       "<div>\n",
       "<style scoped>\n",
       "    .dataframe tbody tr th:only-of-type {\n",
       "        vertical-align: middle;\n",
       "    }\n",
       "\n",
       "    .dataframe tbody tr th {\n",
       "        vertical-align: top;\n",
       "    }\n",
       "\n",
       "    .dataframe thead th {\n",
       "        text-align: right;\n",
       "    }\n",
       "</style>\n",
       "<table border=\"1\" class=\"dataframe\">\n",
       "  <thead>\n",
       "    <tr style=\"text-align: right;\">\n",
       "      <th></th>\n",
       "      <th>sales_all</th>\n",
       "    </tr>\n",
       "    <tr>\n",
       "      <th>platform</th>\n",
       "      <th></th>\n",
       "    </tr>\n",
       "  </thead>\n",
       "  <tbody>\n",
       "    <tr>\n",
       "      <th>PS4</th>\n",
       "      <td>314.14</td>\n",
       "    </tr>\n",
       "    <tr>\n",
       "      <th>PS3</th>\n",
       "      <td>288.78</td>\n",
       "    </tr>\n",
       "    <tr>\n",
       "      <th>X360</th>\n",
       "      <td>236.54</td>\n",
       "    </tr>\n",
       "    <tr>\n",
       "      <th>3DS</th>\n",
       "      <td>194.61</td>\n",
       "    </tr>\n",
       "    <tr>\n",
       "      <th>XOne</th>\n",
       "      <td>159.32</td>\n",
       "    </tr>\n",
       "    <tr>\n",
       "      <th>WiiU</th>\n",
       "      <td>82.19</td>\n",
       "    </tr>\n",
       "  </tbody>\n",
       "</table>\n",
       "</div>"
      ],
      "text/plain": [
       "          sales_all\n",
       "platform           \n",
       "PS4          314.14\n",
       "PS3          288.78\n",
       "X360         236.54\n",
       "3DS          194.61\n",
       "XOne         159.32\n",
       "WiiU          82.19"
      ]
     },
     "execution_count": 34,
     "metadata": {},
     "output_type": "execute_result"
    }
   ],
   "source": [
    "g_2012 = (\n",
    "games\n",
    "    .query('year_of_release >= 2012')\n",
    "    .pivot_table(index='platform',values='sales_all', aggfunc='sum')\n",
    "    .sort_values(by='sales_all', ascending=False)\n",
    ").head(6)\n",
    "g_2012 "
   ]
  },
  {
   "cell_type": "code",
   "execution_count": 35,
   "id": "48c4a00c",
   "metadata": {},
   "outputs": [
    {
     "data": {
      "image/png": "[encoded data removed]",
      "text/plain": [
       "<Figure size 432x144 with 1 Axes>"
      ]
     },
     "metadata": {
      "needs_background": "light"
     },
     "output_type": "display_data"
    },
    {
     "data": {
      "image/png": "[encoded data removed]",
      "text/plain": [
       "<Figure size 432x144 with 1 Axes>"
      ]
     },
     "metadata": {
      "needs_background": "light"
     },
     "output_type": "display_data"
    },
    {
     "data": {
      "image/png": "[encoded data removed]",
      "text/plain": [
       "<Figure size 432x144 with 1 Axes>"
      ]
     },
     "metadata": {
      "needs_background": "light"
     },
     "output_type": "display_data"
    },
    {
     "data": {
      "image/png": "[encoded data removed]",
      "text/plain": [
       "<Figure size 432x144 with 1 Axes>"
      ]
     },
     "metadata": {
      "needs_background": "light"
     },
     "output_type": "display_data"
    },
    {
     "data": {
      "image/png": "[encoded data removed]",
      "text/plain": [
       "<Figure size 432x144 with 1 Axes>"
      ]
     },
     "metadata": {
      "needs_background": "light"
     },
     "output_type": "display_data"
    },
    {
     "data": {
      "image/png": "[encoded data removed]",
      "text/plain": [
       "<Figure size 432x144 with 1 Axes>"
      ]
     },
     "metadata": {
      "needs_background": "light"
     },
     "output_type": "display_data"
    }
   ],
   "source": [
    "for platform in g_2012.index:\n",
    "    platform_sales_all_pivot = (\n",
    "        games\n",
    "    .query('platform == @platform')\n",
    "    .pivot_table(index=['year_of_release'], values='sales_all', aggfunc='sum')\n",
    "    .plot(kind='bar', grid=True, figsize=(6,2)) )\n",
    "    \n",
    "    plt.ylabel('кол-во продаж')\n",
    "    plt.xlabel('год выпуска')\n",
    "    plt.title('игровая платформа ' + platform)\n",
    "    plt.show()"
   ]
  },
  {
   "cell_type": "markdown",
   "id": "57e93113",
   "metadata": {},
   "source": [
    "✔ подписал графики"
   ]
  },
  {
   "cell_type": "markdown",
   "id": "715ba586",
   "metadata": {},
   "source": [
    "игры на платформы которые еще выпускаются :\n",
    "- ps4 - продажи на 2017 год должны вырасти тк 5 год после выпуска обычно пик продаж.\n",
    "- ps3 - продажи падают на 2016 год. скорее всего в 2017 перестанут выпускать игры\n",
    "- x360 аналогично с ps3\n",
    "- 3ds - продажи падают на 2016 год. скорее всего в 2017 перестанут выпускать игры. возможно готовыт выпуск новой приставки\n",
    "- xone - продажи ростут на 2016 год. будут расти в 2017 году\n",
    "- wiiu - продажи падают на 2016 год. похожая ситуация как у 3ds"
   ]
  },
  {
   "cell_type": "markdown",
   "id": "fb237d12",
   "metadata": {},
   "source": [
    "Не Будем учитывать в работе данные за предыдущие годы.\n",
    "Будем начиная с 2012 г. после того когда был пик популярности выпуска игр"
   ]
  },
  {
   "cell_type": "code",
   "execution_count": 36,
   "id": "4be92635",
   "metadata": {},
   "outputs": [],
   "source": [
    "games_2012 = games.query('year_of_release > 2012')"
   ]
  },
  {
   "cell_type": "code",
   "execution_count": 37,
   "id": "baa511aa",
   "metadata": {},
   "outputs": [
    {
     "data": {
      "text/html": [
       "<div>\n",
       "<style scoped>\n",
       "    .dataframe tbody tr th:only-of-type {\n",
       "        vertical-align: middle;\n",
       "    }\n",
       "\n",
       "    .dataframe tbody tr th {\n",
       "        vertical-align: top;\n",
       "    }\n",
       "\n",
       "    .dataframe thead th {\n",
       "        text-align: right;\n",
       "    }\n",
       "</style>\n",
       "<table border=\"1\" class=\"dataframe\">\n",
       "  <thead>\n",
       "    <tr style=\"text-align: right;\">\n",
       "      <th></th>\n",
       "      <th>sales_all</th>\n",
       "    </tr>\n",
       "    <tr>\n",
       "      <th>platform</th>\n",
       "      <th></th>\n",
       "    </tr>\n",
       "  </thead>\n",
       "  <tbody>\n",
       "    <tr>\n",
       "      <th>PS4</th>\n",
       "      <td>314.14</td>\n",
       "    </tr>\n",
       "    <tr>\n",
       "      <th>PS3</th>\n",
       "      <td>181.43</td>\n",
       "    </tr>\n",
       "    <tr>\n",
       "      <th>XOne</th>\n",
       "      <td>159.32</td>\n",
       "    </tr>\n",
       "    <tr>\n",
       "      <th>3DS</th>\n",
       "      <td>143.25</td>\n",
       "    </tr>\n",
       "    <tr>\n",
       "      <th>X360</th>\n",
       "      <td>136.80</td>\n",
       "    </tr>\n",
       "    <tr>\n",
       "      <th>WiiU</th>\n",
       "      <td>64.63</td>\n",
       "    </tr>\n",
       "    <tr>\n",
       "      <th>PC</th>\n",
       "      <td>39.43</td>\n",
       "    </tr>\n",
       "    <tr>\n",
       "      <th>PSV</th>\n",
       "      <td>32.99</td>\n",
       "    </tr>\n",
       "    <tr>\n",
       "      <th>Wii</th>\n",
       "      <td>13.66</td>\n",
       "    </tr>\n",
       "    <tr>\n",
       "      <th>PSP</th>\n",
       "      <td>3.50</td>\n",
       "    </tr>\n",
       "    <tr>\n",
       "      <th>DS</th>\n",
       "      <td>1.54</td>\n",
       "    </tr>\n",
       "  </tbody>\n",
       "</table>\n",
       "</div>"
      ],
      "text/plain": [
       "          sales_all\n",
       "platform           \n",
       "PS4          314.14\n",
       "PS3          181.43\n",
       "XOne         159.32\n",
       "3DS          143.25\n",
       "X360         136.80\n",
       "WiiU          64.63\n",
       "PC            39.43\n",
       "PSV           32.99\n",
       "Wii           13.66\n",
       "PSP            3.50\n",
       "DS             1.54"
      ]
     },
     "execution_count": 37,
     "metadata": {},
     "output_type": "execute_result"
    }
   ],
   "source": [
    "(games_2012\n",
    "    .pivot_table(index='platform', values='sales_all', aggfunc = 'sum')\n",
    "    .sort_values('sales_all', ascending=False)\n",
    ")"
   ]
  },
  {
   "cell_type": "markdown",
   "id": "703c4a85",
   "metadata": {},
   "source": [
    "Топ 7 платформ c 2012 года - лидируют по продажам PS3, X360, PS4, 3DS, Wii, XOne, PC"
   ]
  },
  {
   "cell_type": "markdown",
   "id": "d180e44d",
   "metadata": {},
   "source": [
    "Постройте график «ящик с усами» по глобальным продажам игр в разбивке по платформам."
   ]
  },
  {
   "cell_type": "code",
   "execution_count": 38,
   "id": "a3a05e17",
   "metadata": {},
   "outputs": [],
   "source": [
    "#games_2012.boxplot(column = 'sales_all')\n",
    "#plt.title('по глобальным продажам')\n",
    "#plt.ylabel('продажи в млн $')\n",
    "#plt.show()\n",
    "#games_2012['sales_all'].describe()\n",
    "\n",
    "#- средняя сумма продаж 0.5 млн\n",
    "#- медиана 0.1 млн\n",
    "#- очень большой разброс от среднего в 1.2 млн"
   ]
  },
  {
   "cell_type": "code",
   "execution_count": 39,
   "id": "01d30d38",
   "metadata": {},
   "outputs": [
    {
     "data": {
      "text/plain": [
       "array(['Wii', 'NES', 'GB', 'DS', 'X360', 'PS3', 'PS2', 'SNES', 'GBA',\n",
       "       'PS4', '3DS', 'N64', 'PS', 'XB', 'PC', '2600', 'PSP', 'XOne',\n",
       "       'WiiU', 'GC', 'GEN', 'DC', 'PSV', 'SAT', 'SCD', 'WS', 'NG', 'TG16',\n",
       "       '3DO', 'GG', 'PCFX'], dtype=object)"
      ]
     },
     "execution_count": 39,
     "metadata": {},
     "output_type": "execute_result"
    }
   ],
   "source": [
    "games['platform'].unique()"
   ]
  },
  {
   "cell_type": "markdown",
   "id": "c13eaeff",
   "metadata": {},
   "source": [
    "популярные платформы за последнее время и избавимся от выбросов"
   ]
  },
  {
   "cell_type": "code",
   "execution_count": 40,
   "id": "26697a84",
   "metadata": {},
   "outputs": [],
   "source": [
    "top_platforms = games_2012[games_2012['platform'].isin(['PS4','X360','PS3','Wii','3DS', 'XOne', 'PC'])]"
   ]
  },
  {
   "cell_type": "markdown",
   "id": "b3f5022e",
   "metadata": {},
   "source": [
    "✔ убрал фильтрацию "
   ]
  },
  {
   "cell_type": "code",
   "execution_count": 41,
   "id": "ade9551c",
   "metadata": {},
   "outputs": [
    {
     "data": {
      "text/plain": [
       "count    1685.000000\n",
       "mean        0.586368\n",
       "std         1.375730\n",
       "min         0.010000\n",
       "25%         0.050000\n",
       "50%         0.150000\n",
       "75%         0.530000\n",
       "max        21.050000\n",
       "Name: sales_all, dtype: float64"
      ]
     },
     "execution_count": 41,
     "metadata": {},
     "output_type": "execute_result"
    }
   ],
   "source": [
    "top_platforms['sales_all'].describe()"
   ]
  },
  {
   "cell_type": "markdown",
   "id": "538d7fc7",
   "metadata": {},
   "source": [
    "Выведем график ящики с усами "
   ]
  },
  {
   "cell_type": "code",
   "execution_count": 42,
   "id": "ee8a57f4",
   "metadata": {},
   "outputs": [
    {
     "data": {
      "image/png": "[encoded data removed]",
      "text/plain": [
       "<Figure size 864x432 with 1 Axes>"
      ]
     },
     "metadata": {
      "needs_background": "light"
     },
     "output_type": "display_data"
    }
   ],
   "source": [
    "plt.figure(figsize=(12,6))\n",
    "sns.boxplot(data=top_platforms, x='platform', y='sales_all')\n",
    "plt.title('Продажи по платформам')\n",
    "plt.xlabel('платформа')\n",
    "plt.ylabel('продажи')\n",
    "plt.show()"
   ]
  },
  {
   "cell_type": "code",
   "execution_count": 43,
   "id": "3b7681b7",
   "metadata": {},
   "outputs": [
    {
     "data": {
      "image/png": "[encoded data removed]",
      "text/plain": [
       "<Figure size 864x432 with 1 Axes>"
      ]
     },
     "metadata": {
      "needs_background": "light"
     },
     "output_type": "display_data"
    }
   ],
   "source": [
    "plt.figure(figsize=(12,6))\n",
    "ax = sns.boxplot(data=top_platforms, x='platform', y='sales_all')\n",
    "ax.set_ylim([0, 2]) \n",
    "plt.title('Продажи по платформам')\n",
    "plt.xlabel('Платформа')\n",
    "plt.ylabel('Продажи')\n",
    "plt.show()"
   ]
  },
  {
   "cell_type": "markdown",
   "id": "28e991bd",
   "metadata": {},
   "source": [
    "- видим что медианы проходят у всех по-разному \n",
    "- больше всего продаж игр у x360. \n",
    "- у PS4 и XOne продажи на одном уровне.\n",
    "- меньше всего у и 3DS и PC."
   ]
  },
  {
   "cell_type": "markdown",
   "id": "40ea3e8d",
   "metadata": {},
   "source": [
    "✔ добавил пояснения к боксплоту\n",
    "\n",
    "стабильно самые высокие продажи у Х360, немного ниже у PS4 и XOne (и они на одном уровне), однако XOne платформа новее и вероятнее нужно ориентироваться в 2017 г на выпуск игр на XOne и PS4"
   ]
  },
  {
   "cell_type": "markdown",
   "id": "bdc86d47",
   "metadata": {},
   "source": [
    "Посмотрим, как влияют на продажи внутри одной популярной платформы отзывы пользователей и критиков. Построим диаграмму рассеяния и посчитаем корреляцию между отзывами и продажами."
   ]
  },
  {
   "cell_type": "markdown",
   "id": "c59a3cac",
   "metadata": {},
   "source": [
    "функция и построение графиков для подчета корреляции между отзывами и продажами. "
   ]
  },
  {
   "cell_type": "markdown",
   "id": "d1dc214d",
   "metadata": {},
   "source": [
    "- сделаем датафрейм games_2012_userscore где user_score > 0 и год больше 2012.\n",
    "- и games_2012_criticscore где critic_score > 0 и год больше 2012"
   ]
  },
  {
   "cell_type": "code",
   "execution_count": 44,
   "id": "ffd9ca09",
   "metadata": {},
   "outputs": [],
   "source": [
    "#pik_games2 = games.query('year_of_release > 2012 and user_score > 0 and critic_score > 0')\n",
    "\n",
    "games_2012_userscore = games_2012.query('user_score > 0')\n",
    "games_2012_criticscore = games_2012.query('critic_score > 0')"
   ]
  },
  {
   "cell_type": "code",
   "execution_count": 45,
   "id": "d9f9dfad",
   "metadata": {},
   "outputs": [
    {
     "name": "stdout",
     "output_type": "stream",
     "text": [
      "1192\n",
      "991\n"
     ]
    }
   ],
   "source": [
    "# проверим кол-во срок в датафреймах\n",
    "print(len(games_2012_userscore))\n",
    "print(len(games_2012_criticscore))"
   ]
  },
  {
   "cell_type": "markdown",
   "id": "086c35f4",
   "metadata": {},
   "source": [
    "✔ заменил фильтрацию "
   ]
  },
  {
   "cell_type": "code",
   "execution_count": 46,
   "id": "3a872d76",
   "metadata": {},
   "outputs": [
    {
     "name": "stdout",
     "output_type": "stream",
     "text": [
      "1192\n",
      "991\n",
      "976\n"
     ]
    }
   ],
   "source": [
    "# Комментарий ревьюера\n",
    "print(len(games.query('year_of_release > 2012 and user_score > 0')))\n",
    "print(len(games.query('year_of_release > 2012 and critic_score > 0')))\n",
    "print(len(games.query('year_of_release > 2012 and user_score > 0 and critic_score > 0')))"
   ]
  },
  {
   "cell_type": "markdown",
   "id": "5e66124e",
   "metadata": {},
   "source": [
    "сделаем функцию для подчета корреляции и построения графиков"
   ]
  },
  {
   "cell_type": "markdown",
   "id": "dd596366",
   "metadata": {},
   "source": [
    "✔ поменял немного функуцию после обновления фильтрации"
   ]
  },
  {
   "cell_type": "code",
   "execution_count": 47,
   "id": "c5ed15bd",
   "metadata": {},
   "outputs": [],
   "source": [
    "def corr_to_sales(platf):\n",
    "    userscore_plt = games_2012_userscore.query(f'platform == \"{platf}\"')\n",
    "    criticscore_plt = games_2012_criticscore.query(f'platform == \"{platf}\"')\n",
    " \n",
    "    corr_user_plt = userscore_plt['sales_all'].corr(userscore_plt['user_score'])\n",
    "    corr_critic_plt = criticscore_plt['sales_all'].corr(criticscore_plt['critic_score'])\n",
    "    \n",
    "    userscore_plt.plot(x='user_score', \n",
    "          y='sales_all',\n",
    "          style='o', grid=True, \n",
    "          figsize=(3, 3), \n",
    "          alpha=0.1)\n",
    "    plt.title('Зависимость продаж игр от оценки пользователей на' + platf)\n",
    "\n",
    "    plt.xlabel('Оценка пользователей')\n",
    "    plt.ylabel('Продажи')\n",
    "\n",
    "    \n",
    "    criticscore_plt.plot(x='critic_score', \n",
    "          y='sales_all',\n",
    "          style='o', grid=True, \n",
    "          figsize=(3, 3), \n",
    "          alpha=0.1, title='Зависимость продаж игр от оценки критиков на' + platf)\n",
    "    #plt.suptitle(platf)\n",
    "    \n",
    "    \n",
    "    plt.xlabel('Оценка критиков')\n",
    "    plt.ylabel('Продажи')\n",
    " \n",
    "    return('Зависимость продаж от оценки пользователей:', platf, corr_user_plt,\n",
    "           'Зависимость продаж от оценки критиков:', platf, corr_critic_plt)"
   ]
  },
  {
   "cell_type": "markdown",
   "id": "51dcadc2",
   "metadata": {},
   "source": [
    "старая функция до неправильной фильтрации\n",
    "\n",
    "def corr_to_sales(platf):\n",
    "    data_plt = pik_games2.query(f'platform == \"{platf}\"')\n",
    " \n",
    "    corr_user_plt = data_plt['sales_all'].corr(data_plt['user_score'])\n",
    "    corr_critic_plt = data_plt['sales_all'].corr(data_plt['critic_score'])\n",
    "    \n",
    "    data_plt.plot(x='user_score', \n",
    "          y='sales_all',\n",
    "          style='o', grid=True, \n",
    "          figsize=(3, 3), \n",
    "          alpha=0.1)\n",
    "    plt.title('Зависимость продаж игр от оценки пользователей ' + platf)\n",
    "\n",
    "    plt.xlabel('Оценка пользователей')\n",
    "    plt.ylabel('Продажи')\n",
    "\n",
    "    \n",
    "    data_plt.plot(x='critic_score', \n",
    "          y='sales_all',\n",
    "          style='o', grid=True, \n",
    "          figsize=(3, 3), \n",
    "          alpha=0.1, title='Зависимость продаж игр от оценки критиков ' + platf)\n",
    "    #plt.suptitle(platf)\n",
    "    \n",
    "    \n",
    "    plt.xlabel('Оценка критиков')\n",
    "    plt.ylabel('Продажи')\n",
    " \n",
    "    return('Зависимость продаж от оценки пользователей:', platf, corr_user_plt,\n",
    "           'Зависимость продаж от оценки критиков:', platf, corr_critic_plt)"
   ]
  },
  {
   "cell_type": "code",
   "execution_count": 48,
   "id": "e2e569d9",
   "metadata": {},
   "outputs": [
    {
     "data": {
      "text/plain": [
       "('Зависимость продаж от оценки пользователей:',\n",
       " 'PS4',\n",
       " -0.031957110204556376,\n",
       " 'Зависимость продаж от оценки критиков:',\n",
       " 'PS4',\n",
       " 0.406567902061781)"
      ]
     },
     "execution_count": 48,
     "metadata": {},
     "output_type": "execute_result"
    },
    {
     "data": {
      "image/png": "[encoded data removed]",
      "text/plain": [
       "<Figure size 216x216 with 1 Axes>"
      ]
     },
     "metadata": {
      "needs_background": "light"
     },
     "output_type": "display_data"
    },
    {
     "data": {
      "image/png": "[encoded data removed]",
      "text/plain": [
       "<Figure size 216x216 with 1 Axes>"
      ]
     },
     "metadata": {
      "needs_background": "light"
     },
     "output_type": "display_data"
    }
   ],
   "source": [
    "corr_to_sales('PS4')"
   ]
  },
  {
   "cell_type": "code",
   "execution_count": 49,
   "id": "9e7d71fd",
   "metadata": {},
   "outputs": [
    {
     "data": {
      "text/plain": [
       "('Зависимость продаж от оценки пользователей:',\n",
       " 'PS3',\n",
       " 0.0023944027357566925,\n",
       " 'Зависимость продаж от оценки критиков:',\n",
       " 'PS3',\n",
       " 0.3342853393371919)"
      ]
     },
     "execution_count": 49,
     "metadata": {},
     "output_type": "execute_result"
    },
    {
     "data": {
      "image/png": "[encoded data removed]",
      "text/plain": [
       "<Figure size 216x216 with 1 Axes>"
      ]
     },
     "metadata": {
      "needs_background": "light"
     },
     "output_type": "display_data"
    },
    {
     "data": {
      "image/png": "[encoded data removed]",
      "text/plain": [
       "<Figure size 216x216 with 1 Axes>"
      ]
     },
     "metadata": {
      "needs_background": "light"
     },
     "output_type": "display_data"
    }
   ],
   "source": [
    "corr_to_sales('PS3') "
   ]
  },
  {
   "cell_type": "code",
   "execution_count": 50,
   "id": "0de407b4",
   "metadata": {},
   "outputs": [
    {
     "data": {
      "text/plain": [
       "('Зависимость продаж от оценки пользователей:',\n",
       " 'X360',\n",
       " -0.011742185147181342,\n",
       " 'Зависимость продаж от оценки критиков:',\n",
       " 'X360',\n",
       " 0.3503445460228664)"
      ]
     },
     "execution_count": 50,
     "metadata": {},
     "output_type": "execute_result"
    },
    {
     "data": {
      "image/png": "[encoded data removed]",
      "text/plain": [
       "<Figure size 216x216 with 1 Axes>"
      ]
     },
     "metadata": {
      "needs_background": "light"
     },
     "output_type": "display_data"
    },
    {
     "data": {
      "image/png": "[encoded data removed]",
      "text/plain": [
       "<Figure size 216x216 with 1 Axes>"
      ]
     },
     "metadata": {
      "needs_background": "light"
     },
     "output_type": "display_data"
    }
   ],
   "source": [
    "corr_to_sales('X360')"
   ]
  },
  {
   "cell_type": "code",
   "execution_count": 51,
   "id": "b639aa55",
   "metadata": {},
   "outputs": [
    {
     "data": {
      "text/plain": [
       "('Зависимость продаж от оценки пользователей:',\n",
       " 'Wii',\n",
       " 0.6829417215362368,\n",
       " 'Зависимость продаж от оценки критиков:',\n",
       " 'Wii',\n",
       " nan)"
      ]
     },
     "execution_count": 51,
     "metadata": {},
     "output_type": "execute_result"
    },
    {
     "data": {
      "image/png": "[encoded data removed]",
      "text/plain": [
       "<Figure size 216x216 with 1 Axes>"
      ]
     },
     "metadata": {
      "needs_background": "light"
     },
     "output_type": "display_data"
    },
    {
     "data": {
      "image/png": "[encoded data removed]",
      "text/plain": [
       "<Figure size 216x216 with 1 Axes>"
      ]
     },
     "metadata": {
      "needs_background": "light"
     },
     "output_type": "display_data"
    }
   ],
   "source": [
    "corr_to_sales('Wii')"
   ]
  },
  {
   "cell_type": "code",
   "execution_count": 52,
   "id": "3a080e8b",
   "metadata": {},
   "outputs": [
    {
     "data": {
      "text/plain": [
       "('Зависимость продаж от оценки пользователей:',\n",
       " '3DS',\n",
       " 0.24150411773563016,\n",
       " 'Зависимость продаж от оценки критиков:',\n",
       " '3DS',\n",
       " 0.35705661422881035)"
      ]
     },
     "execution_count": 52,
     "metadata": {},
     "output_type": "execute_result"
    },
    {
     "data": {
      "image/png": "[encoded data removed]",
      "text/plain": [
       "<Figure size 216x216 with 1 Axes>"
      ]
     },
     "metadata": {
      "needs_background": "light"
     },
     "output_type": "display_data"
    },
    {
     "data": {
      "image/png": "[encoded data removed]",
      "text/plain": [
       "<Figure size 216x216 with 1 Axes>"
      ]
     },
     "metadata": {
      "needs_background": "light"
     },
     "output_type": "display_data"
    }
   ],
   "source": [
    "corr_to_sales('3DS')"
   ]
  },
  {
   "cell_type": "code",
   "execution_count": 53,
   "id": "023d465a",
   "metadata": {},
   "outputs": [
    {
     "data": {
      "text/plain": [
       "('Зависимость продаж от оценки пользователей:',\n",
       " 'XOne',\n",
       " -0.06892505328279412,\n",
       " 'Зависимость продаж от оценки критиков:',\n",
       " 'XOne',\n",
       " 0.41699832800840175)"
      ]
     },
     "execution_count": 53,
     "metadata": {},
     "output_type": "execute_result"
    },
    {
     "data": {
      "image/png": "[encoded data removed]",
      "text/plain": [
       "<Figure size 216x216 with 1 Axes>"
      ]
     },
     "metadata": {
      "needs_background": "light"
     },
     "output_type": "display_data"
    },
    {
     "data": {
      "image/png": "[encoded data removed]",
      "text/plain": [
       "<Figure size 216x216 with 1 Axes>"
      ]
     },
     "metadata": {
      "needs_background": "light"
     },
     "output_type": "display_data"
    }
   ],
   "source": [
    "corr_to_sales('XOne')"
   ]
  },
  {
   "cell_type": "code",
   "execution_count": 54,
   "id": "03505214",
   "metadata": {},
   "outputs": [
    {
     "data": {
      "text/plain": [
       "('Зависимость продаж от оценки пользователей:',\n",
       " 'PC',\n",
       " -0.09384186952476739,\n",
       " 'Зависимость продаж от оценки критиков:',\n",
       " 'PC',\n",
       " 0.19603028294369382)"
      ]
     },
     "execution_count": 54,
     "metadata": {},
     "output_type": "execute_result"
    },
    {
     "data": {
      "image/png": "[encoded data removed]",
      "text/plain": [
       "<Figure size 216x216 with 1 Axes>"
      ]
     },
     "metadata": {
      "needs_background": "light"
     },
     "output_type": "display_data"
    },
    {
     "data": {
      "image/png": "[encoded data removed]",
      "text/plain": [
       "<Figure size 216x216 with 1 Axes>"
      ]
     },
     "metadata": {
      "needs_background": "light"
     },
     "output_type": "display_data"
    }
   ],
   "source": [
    "corr_to_sales('PC')"
   ]
  },
  {
   "cell_type": "markdown",
   "id": "3df99503",
   "metadata": {},
   "source": [
    "Есть небольшая зависимость продаж игр от оценок критиков. Чем выше оценки критиков тем выше продажи.\n",
    "от оценок пользователей зависимость продаж не просматривается кроме 3DS, где просматривается связь продаж от отзывов игроков. \n",
    "\n",
    "Получается люди покупали игры в 2012-2016 г прислушайтесь к мнениям критиков а не других игроков. "
   ]
  },
  {
   "cell_type": "markdown",
   "id": "deadc198",
   "metadata": {},
   "source": [
    "Посмотрим на общее распределение игр по жанрам. Что можно сказать о самых прибыльных жанрах? Выделяются ли жанры с высокими и низкими продажами?"
   ]
  },
  {
   "cell_type": "markdown",
   "id": "7cd9f1a7",
   "metadata": {},
   "source": [
    "количество и сумма продаж по жанрам сохнарним в genre_sales c 2012 года"
   ]
  },
  {
   "cell_type": "code",
   "execution_count": 55,
   "id": "9cd5cb43",
   "metadata": {},
   "outputs": [],
   "source": [
    "genre_sales = (games_2012\n",
    "            .pivot_table(index='genre', values='sales_all', aggfunc=['count', 'sum', 'median'])\n",
    "            )"
   ]
  },
  {
   "cell_type": "code",
   "execution_count": 56,
   "id": "c28bed8b",
   "metadata": {},
   "outputs": [],
   "source": [
    "genre_sales.columns = ['count_sales_all', 'sum_sales_all', 'median_sales_all']"
   ]
  },
  {
   "cell_type": "markdown",
   "id": "20f30373",
   "metadata": {},
   "source": [
    "отсортируем по сумме выручки"
   ]
  },
  {
   "cell_type": "code",
   "execution_count": 57,
   "id": "2d9d1e07",
   "metadata": {},
   "outputs": [
    {
     "data": {
      "text/html": [
       "<div>\n",
       "<style scoped>\n",
       "    .dataframe tbody tr th:only-of-type {\n",
       "        vertical-align: middle;\n",
       "    }\n",
       "\n",
       "    .dataframe tbody tr th {\n",
       "        vertical-align: top;\n",
       "    }\n",
       "\n",
       "    .dataframe thead th {\n",
       "        text-align: right;\n",
       "    }\n",
       "</style>\n",
       "<table border=\"1\" class=\"dataframe\">\n",
       "  <thead>\n",
       "    <tr style=\"text-align: right;\">\n",
       "      <th></th>\n",
       "      <th>count_sales_all</th>\n",
       "      <th>sum_sales_all</th>\n",
       "      <th>median_sales_all</th>\n",
       "    </tr>\n",
       "    <tr>\n",
       "      <th>genre</th>\n",
       "      <th></th>\n",
       "      <th></th>\n",
       "      <th></th>\n",
       "    </tr>\n",
       "  </thead>\n",
       "  <tbody>\n",
       "    <tr>\n",
       "      <th>Action</th>\n",
       "      <td>766</td>\n",
       "      <td>321.87</td>\n",
       "      <td>0.110</td>\n",
       "    </tr>\n",
       "    <tr>\n",
       "      <th>Shooter</th>\n",
       "      <td>187</td>\n",
       "      <td>232.98</td>\n",
       "      <td>0.450</td>\n",
       "    </tr>\n",
       "    <tr>\n",
       "      <th>Sports</th>\n",
       "      <td>214</td>\n",
       "      <td>150.65</td>\n",
       "      <td>0.240</td>\n",
       "    </tr>\n",
       "    <tr>\n",
       "      <th>Role-Playing</th>\n",
       "      <td>292</td>\n",
       "      <td>145.89</td>\n",
       "      <td>0.125</td>\n",
       "    </tr>\n",
       "    <tr>\n",
       "      <th>Misc</th>\n",
       "      <td>155</td>\n",
       "      <td>62.82</td>\n",
       "      <td>0.100</td>\n",
       "    </tr>\n",
       "    <tr>\n",
       "      <th>Platform</th>\n",
       "      <td>74</td>\n",
       "      <td>42.63</td>\n",
       "      <td>0.225</td>\n",
       "    </tr>\n",
       "    <tr>\n",
       "      <th>Racing</th>\n",
       "      <td>85</td>\n",
       "      <td>39.89</td>\n",
       "      <td>0.120</td>\n",
       "    </tr>\n",
       "    <tr>\n",
       "      <th>Fighting</th>\n",
       "      <td>80</td>\n",
       "      <td>35.31</td>\n",
       "      <td>0.125</td>\n",
       "    </tr>\n",
       "    <tr>\n",
       "      <th>Adventure</th>\n",
       "      <td>245</td>\n",
       "      <td>23.64</td>\n",
       "      <td>0.030</td>\n",
       "    </tr>\n",
       "    <tr>\n",
       "      <th>Simulation</th>\n",
       "      <td>62</td>\n",
       "      <td>21.76</td>\n",
       "      <td>0.100</td>\n",
       "    </tr>\n",
       "    <tr>\n",
       "      <th>Strategy</th>\n",
       "      <td>56</td>\n",
       "      <td>10.08</td>\n",
       "      <td>0.080</td>\n",
       "    </tr>\n",
       "    <tr>\n",
       "      <th>Puzzle</th>\n",
       "      <td>17</td>\n",
       "      <td>3.17</td>\n",
       "      <td>0.060</td>\n",
       "    </tr>\n",
       "  </tbody>\n",
       "</table>\n",
       "</div>"
      ],
      "text/plain": [
       "              count_sales_all  sum_sales_all  median_sales_all\n",
       "genre                                                         \n",
       "Action                    766         321.87             0.110\n",
       "Shooter                   187         232.98             0.450\n",
       "Sports                    214         150.65             0.240\n",
       "Role-Playing              292         145.89             0.125\n",
       "Misc                      155          62.82             0.100\n",
       "Platform                   74          42.63             0.225\n",
       "Racing                     85          39.89             0.120\n",
       "Fighting                   80          35.31             0.125\n",
       "Adventure                 245          23.64             0.030\n",
       "Simulation                 62          21.76             0.100\n",
       "Strategy                   56          10.08             0.080\n",
       "Puzzle                     17           3.17             0.060"
      ]
     },
     "execution_count": 57,
     "metadata": {},
     "output_type": "execute_result"
    }
   ],
   "source": [
    "genre_sales = genre_sales.sort_values('sum_sales_all', ascending=False)\n",
    "genre_sales"
   ]
  },
  {
   "cell_type": "code",
   "execution_count": 58,
   "id": "d5f15c63",
   "metadata": {},
   "outputs": [
    {
     "data": {
      "image/png": "[encoded data removed]",
      "text/plain": [
       "<Figure size 576x288 with 1 Axes>"
      ]
     },
     "metadata": {
      "needs_background": "light"
     },
     "output_type": "display_data"
    }
   ],
   "source": [
    "genre_sales.plot(kind='bar', figsize=(8,4), position=1, grid=True)\n",
    "plt.title('Кол-во и сумма продаж по жанрам с 2012 года')\n",
    "plt.xlabel('Жанры')\n",
    "plt.ylabel('Продажи')\n",
    "plt.show()"
   ]
  },
  {
   "cell_type": "markdown",
   "id": "b75438b6",
   "metadata": {},
   "source": [
    "отсортируем по медиане"
   ]
  },
  {
   "cell_type": "code",
   "execution_count": 59,
   "id": "238a642b",
   "metadata": {},
   "outputs": [
    {
     "data": {
      "text/html": [
       "<div>\n",
       "<style scoped>\n",
       "    .dataframe tbody tr th:only-of-type {\n",
       "        vertical-align: middle;\n",
       "    }\n",
       "\n",
       "    .dataframe tbody tr th {\n",
       "        vertical-align: top;\n",
       "    }\n",
       "\n",
       "    .dataframe thead th {\n",
       "        text-align: right;\n",
       "    }\n",
       "</style>\n",
       "<table border=\"1\" class=\"dataframe\">\n",
       "  <thead>\n",
       "    <tr style=\"text-align: right;\">\n",
       "      <th></th>\n",
       "      <th>count_sales_all</th>\n",
       "      <th>sum_sales_all</th>\n",
       "      <th>median_sales_all</th>\n",
       "    </tr>\n",
       "    <tr>\n",
       "      <th>genre</th>\n",
       "      <th></th>\n",
       "      <th></th>\n",
       "      <th></th>\n",
       "    </tr>\n",
       "  </thead>\n",
       "  <tbody>\n",
       "    <tr>\n",
       "      <th>Shooter</th>\n",
       "      <td>187</td>\n",
       "      <td>232.98</td>\n",
       "      <td>0.450</td>\n",
       "    </tr>\n",
       "    <tr>\n",
       "      <th>Sports</th>\n",
       "      <td>214</td>\n",
       "      <td>150.65</td>\n",
       "      <td>0.240</td>\n",
       "    </tr>\n",
       "    <tr>\n",
       "      <th>Platform</th>\n",
       "      <td>74</td>\n",
       "      <td>42.63</td>\n",
       "      <td>0.225</td>\n",
       "    </tr>\n",
       "    <tr>\n",
       "      <th>Role-Playing</th>\n",
       "      <td>292</td>\n",
       "      <td>145.89</td>\n",
       "      <td>0.125</td>\n",
       "    </tr>\n",
       "    <tr>\n",
       "      <th>Fighting</th>\n",
       "      <td>80</td>\n",
       "      <td>35.31</td>\n",
       "      <td>0.125</td>\n",
       "    </tr>\n",
       "    <tr>\n",
       "      <th>Racing</th>\n",
       "      <td>85</td>\n",
       "      <td>39.89</td>\n",
       "      <td>0.120</td>\n",
       "    </tr>\n",
       "    <tr>\n",
       "      <th>Action</th>\n",
       "      <td>766</td>\n",
       "      <td>321.87</td>\n",
       "      <td>0.110</td>\n",
       "    </tr>\n",
       "    <tr>\n",
       "      <th>Simulation</th>\n",
       "      <td>62</td>\n",
       "      <td>21.76</td>\n",
       "      <td>0.100</td>\n",
       "    </tr>\n",
       "    <tr>\n",
       "      <th>Misc</th>\n",
       "      <td>155</td>\n",
       "      <td>62.82</td>\n",
       "      <td>0.100</td>\n",
       "    </tr>\n",
       "    <tr>\n",
       "      <th>Strategy</th>\n",
       "      <td>56</td>\n",
       "      <td>10.08</td>\n",
       "      <td>0.080</td>\n",
       "    </tr>\n",
       "    <tr>\n",
       "      <th>Puzzle</th>\n",
       "      <td>17</td>\n",
       "      <td>3.17</td>\n",
       "      <td>0.060</td>\n",
       "    </tr>\n",
       "    <tr>\n",
       "      <th>Adventure</th>\n",
       "      <td>245</td>\n",
       "      <td>23.64</td>\n",
       "      <td>0.030</td>\n",
       "    </tr>\n",
       "  </tbody>\n",
       "</table>\n",
       "</div>"
      ],
      "text/plain": [
       "              count_sales_all  sum_sales_all  median_sales_all\n",
       "genre                                                         \n",
       "Shooter                   187         232.98             0.450\n",
       "Sports                    214         150.65             0.240\n",
       "Platform                   74          42.63             0.225\n",
       "Role-Playing              292         145.89             0.125\n",
       "Fighting                   80          35.31             0.125\n",
       "Racing                     85          39.89             0.120\n",
       "Action                    766         321.87             0.110\n",
       "Simulation                 62          21.76             0.100\n",
       "Misc                      155          62.82             0.100\n",
       "Strategy                   56          10.08             0.080\n",
       "Puzzle                     17           3.17             0.060\n",
       "Adventure                 245          23.64             0.030"
      ]
     },
     "execution_count": 59,
     "metadata": {},
     "output_type": "execute_result"
    }
   ],
   "source": [
    "genre_sales.sort_values('median_sales_all', ascending=False)"
   ]
  },
  {
   "cell_type": "markdown",
   "id": "fed987e4",
   "metadata": {},
   "source": [
    "построим боксплот чтобы понять какие жанры стабильно принося больше прибыли"
   ]
  },
  {
   "cell_type": "code",
   "execution_count": 60,
   "id": "17cad00b",
   "metadata": {},
   "outputs": [
    {
     "data": {
      "image/png": "[encoded data removed]",
      "text/plain": [
       "<Figure size 864x432 with 1 Axes>"
      ]
     },
     "metadata": {
      "needs_background": "light"
     },
     "output_type": "display_data"
    }
   ],
   "source": [
    "plt.figure(figsize=(12,6))\n",
    "ax = sns.boxplot(data=games_2012, x='genre', y='sales_all')\n",
    "ax.set_ylim([0, 2]) \n",
    "plt.title('Продажи по жанрам')\n",
    "plt.xlabel('Жанры')\n",
    "plt.ylabel('Продажи')\n",
    "plt.show()"
   ]
  },
  {
   "cell_type": "markdown",
   "id": "818b7178",
   "metadata": {},
   "source": [
    "Больше всего прибыли приносят игры жанра Action и Shooter, меньше всего Puzzle и Strategy."
   ]
  },
  {
   "cell_type": "markdown",
   "id": "e618a135",
   "metadata": {},
   "source": [
    "но стабильно больше всего приносят Shooter на втором месте sports и на третьем Platform а меньше всего Adventure"
   ]
  },
  {
   "cell_type": "markdown",
   "id": "5c9a0ba8",
   "metadata": {},
   "source": [
    "выше добавил медиану и иллюстрации и новые пояснения к выводу"
   ]
  },
  {
   "cell_type": "markdown",
   "id": "9fa82618",
   "metadata": {},
   "source": [
    "Определим для пользователя каждого региона (NA, EU, JP):\n",
    "Самые популярные платформы (топ-5). Опишем различия в долях продаж.\n",
    "Самые популярные жанры (топ-5).\n",
    "Влияет ли рейтинг ESRB на продажи в отдельном регионе?"
   ]
  },
  {
   "cell_type": "markdown",
   "id": "897cff14",
   "metadata": {},
   "source": [
    "Определим для пользователя каждого региона (NA, EU, JP):\n",
    "Самые популярные платформы (топ-5). Опишим различия в долях продаж."
   ]
  },
  {
   "cell_type": "markdown",
   "id": "39e5cc14",
   "metadata": {},
   "source": [
    "Сохраним датаFrame где в регионах продажи не = 0"
   ]
  },
  {
   "cell_type": "code",
   "execution_count": 61,
   "id": "d3336f9a",
   "metadata": {},
   "outputs": [],
   "source": [
    "games_na = games_2012.query('na_sales > 0')\n",
    "games_eu = games_2012.query('eu_sales > 0')\n",
    "games_jp = games_2012.query('jp_sales > 0')"
   ]
  },
  {
   "cell_type": "markdown",
   "id": "6d6ac20c",
   "metadata": {},
   "source": [
    "заменил на актуальный датафрейм games_2012"
   ]
  },
  {
   "cell_type": "markdown",
   "id": "10c0528b",
   "metadata": {},
   "source": [
    "найдем топ5 платформ по регионам за все время"
   ]
  },
  {
   "cell_type": "code",
   "execution_count": 62,
   "id": "37cc05d0",
   "metadata": {},
   "outputs": [
    {
     "data": {
      "text/html": [
       "<div>\n",
       "<style scoped>\n",
       "    .dataframe tbody tr th:only-of-type {\n",
       "        vertical-align: middle;\n",
       "    }\n",
       "\n",
       "    .dataframe tbody tr th {\n",
       "        vertical-align: top;\n",
       "    }\n",
       "\n",
       "    .dataframe thead th {\n",
       "        text-align: right;\n",
       "    }\n",
       "</style>\n",
       "<table border=\"1\" class=\"dataframe\">\n",
       "  <thead>\n",
       "    <tr style=\"text-align: right;\">\n",
       "      <th></th>\n",
       "      <th>na_sales</th>\n",
       "    </tr>\n",
       "    <tr>\n",
       "      <th>platform</th>\n",
       "      <th></th>\n",
       "    </tr>\n",
       "  </thead>\n",
       "  <tbody>\n",
       "    <tr>\n",
       "      <th>PS4</th>\n",
       "      <td>108.74</td>\n",
       "    </tr>\n",
       "    <tr>\n",
       "      <th>XOne</th>\n",
       "      <td>93.12</td>\n",
       "    </tr>\n",
       "    <tr>\n",
       "      <th>X360</th>\n",
       "      <td>81.66</td>\n",
       "    </tr>\n",
       "    <tr>\n",
       "      <th>PS3</th>\n",
       "      <td>63.50</td>\n",
       "    </tr>\n",
       "    <tr>\n",
       "      <th>3DS</th>\n",
       "      <td>38.20</td>\n",
       "    </tr>\n",
       "  </tbody>\n",
       "</table>\n",
       "</div>"
      ],
      "text/plain": [
       "          na_sales\n",
       "platform          \n",
       "PS4         108.74\n",
       "XOne         93.12\n",
       "X360         81.66\n",
       "PS3          63.50\n",
       "3DS          38.20"
      ]
     },
     "execution_count": 62,
     "metadata": {},
     "output_type": "execute_result"
    }
   ],
   "source": [
    "na_pivot_p = (games_na.pivot_table(index='platform', values='na_sales',\n",
    "                                aggfunc='sum').sort_values('na_sales', ascending=False)\n",
    "             )\n",
    "\n",
    "na_pivot_p.head()"
   ]
  },
  {
   "cell_type": "code",
   "execution_count": 63,
   "id": "d285ec5a",
   "metadata": {},
   "outputs": [
    {
     "data": {
      "text/html": [
       "<div>\n",
       "<style scoped>\n",
       "    .dataframe tbody tr th:only-of-type {\n",
       "        vertical-align: middle;\n",
       "    }\n",
       "\n",
       "    .dataframe tbody tr th {\n",
       "        vertical-align: top;\n",
       "    }\n",
       "\n",
       "    .dataframe thead th {\n",
       "        text-align: right;\n",
       "    }\n",
       "</style>\n",
       "<table border=\"1\" class=\"dataframe\">\n",
       "  <thead>\n",
       "    <tr style=\"text-align: right;\">\n",
       "      <th></th>\n",
       "      <th>eu_sales</th>\n",
       "    </tr>\n",
       "    <tr>\n",
       "      <th>platform</th>\n",
       "      <th></th>\n",
       "    </tr>\n",
       "  </thead>\n",
       "  <tbody>\n",
       "    <tr>\n",
       "      <th>PS4</th>\n",
       "      <td>138.66</td>\n",
       "    </tr>\n",
       "    <tr>\n",
       "      <th>PS3</th>\n",
       "      <td>67.04</td>\n",
       "    </tr>\n",
       "    <tr>\n",
       "      <th>XOne</th>\n",
       "      <td>51.28</td>\n",
       "    </tr>\n",
       "    <tr>\n",
       "      <th>X360</th>\n",
       "      <td>42.25</td>\n",
       "    </tr>\n",
       "    <tr>\n",
       "      <th>3DS</th>\n",
       "      <td>29.29</td>\n",
       "    </tr>\n",
       "  </tbody>\n",
       "</table>\n",
       "</div>"
      ],
      "text/plain": [
       "          eu_sales\n",
       "platform          \n",
       "PS4         138.66\n",
       "PS3          67.04\n",
       "XOne         51.28\n",
       "X360         42.25\n",
       "3DS          29.29"
      ]
     },
     "execution_count": 63,
     "metadata": {},
     "output_type": "execute_result"
    }
   ],
   "source": [
    "eu_pivot_p = (games_na\n",
    "              .pivot_table(index='platform', values='eu_sales',\n",
    "                                aggfunc='sum').sort_values('eu_sales', ascending=False)\n",
    "             )\n",
    "eu_pivot_p.head()"
   ]
  },
  {
   "cell_type": "code",
   "execution_count": 64,
   "id": "40fe3318",
   "metadata": {},
   "outputs": [
    {
     "data": {
      "text/html": [
       "<div>\n",
       "<style scoped>\n",
       "    .dataframe tbody tr th:only-of-type {\n",
       "        vertical-align: middle;\n",
       "    }\n",
       "\n",
       "    .dataframe tbody tr th {\n",
       "        vertical-align: top;\n",
       "    }\n",
       "\n",
       "    .dataframe thead th {\n",
       "        text-align: right;\n",
       "    }\n",
       "</style>\n",
       "<table border=\"1\" class=\"dataframe\">\n",
       "  <thead>\n",
       "    <tr style=\"text-align: right;\">\n",
       "      <th></th>\n",
       "      <th>jp_sales</th>\n",
       "    </tr>\n",
       "    <tr>\n",
       "      <th>platform</th>\n",
       "      <th></th>\n",
       "    </tr>\n",
       "  </thead>\n",
       "  <tbody>\n",
       "    <tr>\n",
       "      <th>3DS</th>\n",
       "      <td>67.81</td>\n",
       "    </tr>\n",
       "    <tr>\n",
       "      <th>PS3</th>\n",
       "      <td>23.35</td>\n",
       "    </tr>\n",
       "    <tr>\n",
       "      <th>PSV</th>\n",
       "      <td>18.59</td>\n",
       "    </tr>\n",
       "    <tr>\n",
       "      <th>PS4</th>\n",
       "      <td>15.96</td>\n",
       "    </tr>\n",
       "    <tr>\n",
       "      <th>WiiU</th>\n",
       "      <td>10.88</td>\n",
       "    </tr>\n",
       "  </tbody>\n",
       "</table>\n",
       "</div>"
      ],
      "text/plain": [
       "          jp_sales\n",
       "platform          \n",
       "3DS          67.81\n",
       "PS3          23.35\n",
       "PSV          18.59\n",
       "PS4          15.96\n",
       "WiiU         10.88"
      ]
     },
     "execution_count": 64,
     "metadata": {},
     "output_type": "execute_result"
    }
   ],
   "source": [
    "jp_pivot_p = (games_2012\n",
    "              .groupby('platform').agg({'jp_sales':'sum'})\n",
    "              .sort_values('jp_sales', ascending=False)\n",
    "             )\n",
    "jp_pivot_p.head()"
   ]
  },
  {
   "cell_type": "markdown",
   "id": "00e486f1",
   "metadata": {},
   "source": [
    "создаем функцию чтобы добвыить категорию другие платформы"
   ]
  },
  {
   "cell_type": "code",
   "execution_count": 65,
   "id": "89c3dcaa",
   "metadata": {},
   "outputs": [],
   "source": [
    "def p_f(data, col):\n",
    "    \n",
    "    df = data.reset_index()\n",
    "    \n",
    "    df.columns = [col, 'sales']\n",
    "    \n",
    "    df1 = df[:5]\n",
    "    df2 = df[5:]\n",
    "\n",
    "    df2 = pd.DataFrame(data = {\n",
    "        col : ['others'],\n",
    "        'sales' : [df['sales'][5:].sum()]})\n",
    "\n",
    "    df = pd.concat([df1, df2])\n",
    "\n",
    "    return df"
   ]
  },
  {
   "cell_type": "markdown",
   "id": "993c2601",
   "metadata": {},
   "source": [
    "создаем функцию чтобы нарисовать графики продаж по платформам в разных регионах"
   ]
  },
  {
   "cell_type": "code",
   "execution_count": 66,
   "id": "5fc01f59",
   "metadata": {},
   "outputs": [],
   "source": [
    "def draw_pie(data, col, title, ax):\n",
    "    \n",
    "    plot = (data.groupby(col).sum()['sales']\n",
    "        .plot(kind='pie', grid=True, autopct='%1.1f%%', ax = axes[ax], title=title, ylabel='продажи'))\n",
    "    \n"
   ]
  },
  {
   "cell_type": "markdown",
   "id": "12ec89ff",
   "metadata": {},
   "source": [
    "нарисуем графики продаж по платформам в разных регионах"
   ]
  },
  {
   "cell_type": "code",
   "execution_count": 67,
   "id": "68072666",
   "metadata": {},
   "outputs": [
    {
     "data": {
      "image/png": "[encoded data removed]",
      "text/plain": [
       "<Figure size 1584x576 with 3 Axes>"
      ]
     },
     "metadata": {},
     "output_type": "display_data"
    }
   ],
   "source": [
    "fig, axes = plt.subplots(1, 3, figsize=(22, 8))\n",
    "\n",
    "draw_pie(p_f(na_pivot_p, 'platform'), 'platform', 'Америка', 0)\n",
    "draw_pie(p_f(eu_pivot_p, 'platform'), 'platform', 'Европа', 1)\n",
    "draw_pie(p_f(jp_pivot_p, 'platform'),'platform','Япония', 2)\n"
   ]
  },
  {
   "cell_type": "markdown",
   "id": "3ce201ff",
   "metadata": {},
   "source": [
    "- самые полулярные платформы в Америке PS4, XOne, X360, PS3, 3DS\n",
    "- самые полулярные платформы в Eвропе  PS4, PS3, XOne, X360, 3DS\n",
    "- самые полулярные платформы в Японии  3DS, PS3, PSV, PS4, WiiU\n",
    "- суммы продаж указаны в таблцах выше"
   ]
  },
  {
   "cell_type": "markdown",
   "id": "1a26b8b0",
   "metadata": {},
   "source": [
    "в Америке и Европе самая популярная PS4 на втором месте XOne.\n",
    "\n",
    "в америке и европе рейтинг платформ похож а вот в японии чаще используют другие приставки"
   ]
  },
  {
   "cell_type": "markdown",
   "id": "c555d89f",
   "metadata": {},
   "source": [
    "Самые популярные жанры (топ-5). "
   ]
  },
  {
   "cell_type": "code",
   "execution_count": 68,
   "id": "6d7c3f0d",
   "metadata": {},
   "outputs": [
    {
     "name": "stdout",
     "output_type": "stream",
     "text": [
      "              na_sales\n",
      "genre                 \n",
      "Action          126.05\n",
      "Shooter         109.74\n",
      "Sports           65.27\n",
      "Role-Playing     46.40\n",
      "Misc             27.49\n",
      "\n",
      "              eu_sales\n",
      "genre                 \n",
      "Action          118.13\n",
      "Shooter          87.86\n",
      "Sports           60.52\n",
      "Role-Playing     36.97\n",
      "Racing           20.19\n",
      "\n",
      "              jp_sales\n",
      "genre                 \n",
      "Role-Playing     51.04\n",
      "Action           40.49\n",
      "Misc              9.20\n",
      "Fighting          7.65\n",
      "Shooter           6.61\n"
     ]
    }
   ],
   "source": [
    "na_pivot_g = games_na.pivot_table(index='genre', values='na_sales',\n",
    "                                aggfunc='sum').sort_values('na_sales', ascending=False)\n",
    "\n",
    "eu_pivot_g = games_eu.pivot_table(index='genre', values='eu_sales',\n",
    "                                aggfunc='sum').sort_values('eu_sales', ascending=False)\n",
    "\n",
    "jp_pivot_g = games_jp.pivot_table(index='genre', values='jp_sales',\n",
    "                                aggfunc='sum').sort_values('jp_sales', ascending=False)\n",
    "\n",
    "print(na_pivot_g.head())\n",
    "print()\n",
    "print(eu_pivot_g.head())\n",
    "print()\n",
    "print(jp_pivot_g.head())"
   ]
  },
  {
   "cell_type": "markdown",
   "id": "82bbe659",
   "metadata": {},
   "source": [
    "нарисуем графики продаж по жанрам в разных регионах"
   ]
  },
  {
   "cell_type": "code",
   "execution_count": 69,
   "id": "25a0406b",
   "metadata": {},
   "outputs": [
    {
     "data": {
      "image/png": "[encoded data removed]",
      "text/plain": [
       "<Figure size 1584x576 with 3 Axes>"
      ]
     },
     "metadata": {},
     "output_type": "display_data"
    }
   ],
   "source": [
    "fig, axes = plt.subplots(1, 3, figsize=(22, 8))\n",
    "\n",
    "draw_pie(p_f(na_pivot_g, 'genre'), 'genre', 'Америка', 0)\n",
    "draw_pie(p_f(eu_pivot_g, 'genre'), 'genre', 'Европа', 1)\n",
    "draw_pie(p_f(jp_pivot_g, 'genre'),'genre','Япония', 2)"
   ]
  },
  {
   "cell_type": "markdown",
   "id": "e558a1e0",
   "metadata": {},
   "source": [
    "рейтинг по жанрам в америке и европе очень похож всем нравятся экшен спорт шутеры тк это очень динамичные игры. отличаются только гонки похоже в европе они более популярны.\n",
    "\n",
    "В японии первом месте ролевые игры с большим отрывом. Далее экшн и спорт. видно что в японии другие интересы. \n",
    "\n",
    "Также в каждом рейтинге есть Жанр музыка."
   ]
  },
  {
   "cell_type": "markdown",
   "id": "4b4abedc",
   "metadata": {},
   "source": [
    "Влияет ли рейтинг ESRB на продажи в отдельном регионе?"
   ]
  },
  {
   "cell_type": "markdown",
   "id": "e136e7c4",
   "metadata": {},
   "source": [
    "сделаем функцию для пояснения рейтинга"
   ]
  },
  {
   "cell_type": "code",
   "execution_count": 70,
   "id": "f644bcf7",
   "metadata": {},
   "outputs": [
    {
     "name": "stderr",
     "output_type": "stream",
     "text": [
      "/tmp/ipykernel_683/3967132525.py:22: SettingWithCopyWarning: \n",
      "A value is trying to be set on a copy of a slice from a DataFrame.\n",
      "Try using .loc[row_indexer,col_indexer] = value instead\n",
      "\n",
      "See the caveats in the documentation: https://pandas.pydata.org/pandas-docs/stable/user_guide/indexing.html#returning-a-view-versus-a-copy\n",
      "  games_2012['ESRB'] = games_2012.apply(rating_f, axis=1)\n"
     ]
    }
   ],
   "source": [
    "def rating_f(row):\n",
    "\n",
    "    rating = row['rating']\n",
    "\n",
    "    if rating == 'E':\n",
    "        return 'Для всех'\n",
    "\n",
    "    if rating == 'M':\n",
    "        return '> 17 лет'\n",
    "    \n",
    "    if rating == 'T':\n",
    "        return '13-19 лет'\n",
    "    \n",
    "    if rating == 'E10+':\n",
    "        return '>10 лет'\n",
    "    \n",
    "    if rating == 'K-A':\n",
    "        return 'Для всех'\n",
    "\n",
    "    return 'другой'\n",
    "\n",
    "games_2012['ESRB'] = games_2012.apply(rating_f, axis=1)"
   ]
  },
  {
   "cell_type": "code",
   "execution_count": 71,
   "id": "9ea4b0cf",
   "metadata": {},
   "outputs": [
    {
     "data": {
      "text/html": [
       "<div>\n",
       "<style scoped>\n",
       "    .dataframe tbody tr th:only-of-type {\n",
       "        vertical-align: middle;\n",
       "    }\n",
       "\n",
       "    .dataframe tbody tr th {\n",
       "        vertical-align: top;\n",
       "    }\n",
       "\n",
       "    .dataframe thead th {\n",
       "        text-align: right;\n",
       "    }\n",
       "</style>\n",
       "<table border=\"1\" class=\"dataframe\">\n",
       "  <thead>\n",
       "    <tr style=\"text-align: right;\">\n",
       "      <th></th>\n",
       "      <th>name</th>\n",
       "      <th>platform</th>\n",
       "      <th>year_of_release</th>\n",
       "      <th>genre</th>\n",
       "      <th>na_sales</th>\n",
       "      <th>eu_sales</th>\n",
       "      <th>jp_sales</th>\n",
       "      <th>other_sales</th>\n",
       "      <th>critic_score</th>\n",
       "      <th>user_score</th>\n",
       "      <th>rating</th>\n",
       "      <th>sales_all</th>\n",
       "      <th>ESRB</th>\n",
       "    </tr>\n",
       "  </thead>\n",
       "  <tbody>\n",
       "    <tr>\n",
       "      <th>16</th>\n",
       "      <td>Grand Theft Auto V</td>\n",
       "      <td>PS3</td>\n",
       "      <td>2013</td>\n",
       "      <td>Action</td>\n",
       "      <td>7.02</td>\n",
       "      <td>9.09</td>\n",
       "      <td>0.98</td>\n",
       "      <td>3.96</td>\n",
       "      <td>97.0</td>\n",
       "      <td>8.2</td>\n",
       "      <td>M</td>\n",
       "      <td>21.05</td>\n",
       "      <td>&gt; 17 лет</td>\n",
       "    </tr>\n",
       "    <tr>\n",
       "      <th>23</th>\n",
       "      <td>Grand Theft Auto V</td>\n",
       "      <td>X360</td>\n",
       "      <td>2013</td>\n",
       "      <td>Action</td>\n",
       "      <td>9.66</td>\n",
       "      <td>5.14</td>\n",
       "      <td>0.06</td>\n",
       "      <td>1.41</td>\n",
       "      <td>97.0</td>\n",
       "      <td>8.1</td>\n",
       "      <td>M</td>\n",
       "      <td>16.27</td>\n",
       "      <td>&gt; 17 лет</td>\n",
       "    </tr>\n",
       "    <tr>\n",
       "      <th>31</th>\n",
       "      <td>Call of Duty: Black Ops 3</td>\n",
       "      <td>PS4</td>\n",
       "      <td>2015</td>\n",
       "      <td>Shooter</td>\n",
       "      <td>6.03</td>\n",
       "      <td>5.86</td>\n",
       "      <td>0.36</td>\n",
       "      <td>2.38</td>\n",
       "      <td>-1.0</td>\n",
       "      <td>-1.0</td>\n",
       "      <td>NA</td>\n",
       "      <td>14.63</td>\n",
       "      <td>другой</td>\n",
       "    </tr>\n",
       "    <tr>\n",
       "      <th>33</th>\n",
       "      <td>Pokemon X/Pokemon Y</td>\n",
       "      <td>3DS</td>\n",
       "      <td>2013</td>\n",
       "      <td>Role-Playing</td>\n",
       "      <td>5.28</td>\n",
       "      <td>4.19</td>\n",
       "      <td>4.35</td>\n",
       "      <td>0.78</td>\n",
       "      <td>-1.0</td>\n",
       "      <td>-1.0</td>\n",
       "      <td>NA</td>\n",
       "      <td>14.60</td>\n",
       "      <td>другой</td>\n",
       "    </tr>\n",
       "    <tr>\n",
       "      <th>42</th>\n",
       "      <td>Grand Theft Auto V</td>\n",
       "      <td>PS4</td>\n",
       "      <td>2014</td>\n",
       "      <td>Action</td>\n",
       "      <td>3.96</td>\n",
       "      <td>6.31</td>\n",
       "      <td>0.38</td>\n",
       "      <td>1.97</td>\n",
       "      <td>97.0</td>\n",
       "      <td>8.3</td>\n",
       "      <td>M</td>\n",
       "      <td>12.62</td>\n",
       "      <td>&gt; 17 лет</td>\n",
       "    </tr>\n",
       "  </tbody>\n",
       "</table>\n",
       "</div>"
      ],
      "text/plain": [
       "                         name platform  year_of_release         genre  \\\n",
       "16         Grand Theft Auto V      PS3             2013        Action   \n",
       "23         Grand Theft Auto V     X360             2013        Action   \n",
       "31  Call of Duty: Black Ops 3      PS4             2015       Shooter   \n",
       "33        Pokemon X/Pokemon Y      3DS             2013  Role-Playing   \n",
       "42         Grand Theft Auto V      PS4             2014        Action   \n",
       "\n",
       "    na_sales  eu_sales  jp_sales  other_sales  critic_score  user_score  \\\n",
       "16      7.02      9.09      0.98         3.96          97.0         8.2   \n",
       "23      9.66      5.14      0.06         1.41          97.0         8.1   \n",
       "31      6.03      5.86      0.36         2.38          -1.0        -1.0   \n",
       "33      5.28      4.19      4.35         0.78          -1.0        -1.0   \n",
       "42      3.96      6.31      0.38         1.97          97.0         8.3   \n",
       "\n",
       "   rating  sales_all      ESRB  \n",
       "16      M      21.05  > 17 лет  \n",
       "23      M      16.27  > 17 лет  \n",
       "31     NA      14.63    другой  \n",
       "33     NA      14.60    другой  \n",
       "42      M      12.62  > 17 лет  "
      ]
     },
     "execution_count": 71,
     "metadata": {},
     "output_type": "execute_result"
    }
   ],
   "source": [
    "games_2012.head()"
   ]
  },
  {
   "cell_type": "markdown",
   "id": "aecb4793",
   "metadata": {},
   "source": [
    "сделаем функцию для построения сводных таблиц графиков рейтинга"
   ]
  },
  {
   "cell_type": "code",
   "execution_count": 72,
   "id": "cf9d843c",
   "metadata": {},
   "outputs": [],
   "source": [
    "def top_rating (groupby, region_sales, title, ax):\n",
    "    \n",
    "    pivot_sales = (games_2012\n",
    "        .groupby(groupby)\n",
    "        .agg({region_sales: 'sum'})\n",
    "        .sort_values(by=region_sales, ascending=False)[:6])\n",
    "    \n",
    "    plot = pivot_sales.plot(kind='bar', grid=True,\n",
    "                            title=title, ax=axes[ax], ylabel = 'Продажи', xlabel = 'Рейтинг')"
   ]
  },
  {
   "cell_type": "code",
   "execution_count": 73,
   "id": "15e6f6ed",
   "metadata": {},
   "outputs": [
    {
     "data": {
      "image/png": "[encoded data removed]",
      "text/plain": [
       "<Figure size 1800x432 with 3 Axes>"
      ]
     },
     "metadata": {
      "needs_background": "light"
     },
     "output_type": "display_data"
    }
   ],
   "source": [
    "fig, axes = plt.subplots(1, 3, figsize=(25,6))\n",
    "\n",
    "top_rating('ESRB', 'na_sales', 'Америка', 0)\n",
    "top_rating('ESRB', 'eu_sales', 'Европа', 1)\n",
    "top_rating('ESRB', 'jp_sales', 'Япония', 2)\n"
   ]
  },
  {
   "cell_type": "markdown",
   "id": "a330a528",
   "metadata": {},
   "source": [
    "в америке и европе большенство продаж от игр с рейтингом 'больше 17 лет' и 'для всех', меньше всего \"13-19 лет\". \n",
    "\n",
    "по японии большенство продаж от игр по которым нет информации на втором месте 'для всех' и на третьем \"13-19 лет\".\n",
    "\n",
    "В японии используют свой рейтинг"
   ]
  },
  {
   "cell_type": "markdown",
   "id": "8e6ff366",
   "metadata": {},
   "source": [
    "## Шаг 5. Проверка гипотез"
   ]
  },
  {
   "cell_type": "markdown",
   "id": "f25cd79e",
   "metadata": {},
   "source": [
    "1.Средние пользовательские рейтинги платформ Xbox One и PC одинаковые;"
   ]
  },
  {
   "cell_type": "code",
   "execution_count": 74,
   "id": "d9007bdb",
   "metadata": {},
   "outputs": [
    {
     "data": {
      "text/plain": [
       "array(['PS3', 'X360', 'PS4', '3DS', 'XOne', 'WiiU', 'Wii', 'PC', 'PSV',\n",
       "       'DS', 'PSP'], dtype=object)"
      ]
     },
     "execution_count": 74,
     "metadata": {},
     "output_type": "execute_result"
    }
   ],
   "source": [
    "games_2012['platform'].unique()"
   ]
  },
  {
   "cell_type": "markdown",
   "id": "94be0dce",
   "metadata": {},
   "source": [
    "сделаем датафрейм с платформой XOne и PC где рейтинг >0, тк 0 считаем пропусками"
   ]
  },
  {
   "cell_type": "code",
   "execution_count": 75,
   "id": "21e37359",
   "metadata": {},
   "outputs": [],
   "source": [
    "games_XOne = games_2012.query('platform == \"XOne\" and user_score > 0')\n",
    "games_PC = games_2012.query('platform == \"PC\" and user_score > 0')"
   ]
  },
  {
   "cell_type": "markdown",
   "id": "c052c100",
   "metadata": {},
   "source": [
    "построим графики по этим данным"
   ]
  },
  {
   "cell_type": "code",
   "execution_count": 76,
   "id": "32934380",
   "metadata": {},
   "outputs": [
    {
     "data": {
      "image/png": "[encoded data removed]",
      "text/plain": [
       "<Figure size 432x288 with 1 Axes>"
      ]
     },
     "metadata": {
      "needs_background": "light"
     },
     "output_type": "display_data"
    },
    {
     "name": "stdout",
     "output_type": "stream",
     "text": [
      "рейтинг пользователей XOne count    182.000000\n",
      "mean       6.521429\n",
      "std        1.380941\n",
      "min        1.600000\n",
      "25%        5.800000\n",
      "50%        6.800000\n",
      "75%        7.500000\n",
      "max        9.200000\n",
      "Name: user_score, dtype: float64\n",
      "\n",
      "рейтинг пользователей PC count    155.000000\n",
      "mean       6.269677\n",
      "std        1.742381\n",
      "min        1.400000\n",
      "25%        5.300000\n",
      "50%        6.800000\n",
      "75%        7.600000\n",
      "max        9.300000\n",
      "Name: user_score, dtype: float64\n"
     ]
    }
   ],
   "source": [
    "games_XOne['user_score'].plot(\n",
    "    kind='hist', \n",
    "    bins=20, \n",
    "    #histtype='step',\n",
    "    linewidth=5,\n",
    "    alpha=0.8, \n",
    "    label='XOne',\n",
    "    legend=True,)\n",
    "\n",
    "games_PC['user_score'].plot(\n",
    "    kind='hist', \n",
    "    bins=20,\n",
    "    #histtype='step',\n",
    "    linewidth=5,\n",
    "    alpha=0.6,\n",
    "    label='PC',\n",
    "    legend=True,\n",
    "    grid=True)\n",
    "\n",
    "plt.xlabel(\"рейтинг\")\n",
    "plt.ylabel(\"кол-во пользователей\")\n",
    "plt.title('рейтинг пользователей XOne и PC')\n",
    "plt.show()\n",
    "\n",
    "print('рейтинг пользователей XOne', games_XOne['user_score'].describe())\n",
    "print()\n",
    "print('рейтинг пользователей PC', games_PC['user_score'].describe())"
   ]
  },
  {
   "cell_type": "markdown",
   "id": "425c40cd",
   "metadata": {},
   "source": [
    "Средней пользовательский рейтинг XOne = 6.5, медиана = 6.8, разброс значений 1.3 от среднего\n",
    "Средней пользовательский рейтинг PC = 6.2, медиана = 6.8, разброс значений 1.7 от среднего\n",
    "\n",
    "исходя из графика и вывода данных сформулируем нулевую и альтернативную гипотезы\n",
    "\n",
    "Нулевая гипотеза: средние значения рейтинга пользователей Xbox One и PC равны.\n",
    "Альтернативная гипотеза: средние значение рейтинга пользователей Xbox One больше средние значение рейтинга пользователей PC."
   ]
  },
  {
   "cell_type": "markdown",
   "id": "4bbda73c",
   "metadata": {},
   "source": [
    "Проведем одностороний т-тест"
   ]
  },
  {
   "cell_type": "code",
   "execution_count": 77,
   "id": "e202addd",
   "metadata": {},
   "outputs": [
    {
     "name": "stdout",
     "output_type": "stream",
     "text": [
      "p-значение: 0.07379797006715232\n",
      "Не получилось отвергнуть нулевую гипотезу\n"
     ]
    }
   ],
   "source": [
    "alpha = 0.05\n",
    "\n",
    "results = st.ttest_ind(games_XOne['user_score'], games_PC['user_score'],alternative='greater', equal_var=False)\n",
    "\n",
    "print('p-значение:', results.pvalue)\n",
    "\n",
    "if results.pvalue < alpha:\n",
    "    print('Отвергаем нулевую гипотезу')\n",
    "else:\n",
    "    print('Не получилось отвергнуть нулевую гипотезу')"
   ]
  },
  {
   "cell_type": "markdown",
   "id": "99e4ec4b",
   "metadata": {},
   "source": [
    "не можем отвергнуть нулевую гипотезу значит есть вероятность что средние пользовательските рейтинги не различаются у PC и XOne"
   ]
  },
  {
   "cell_type": "markdown",
   "id": "55b4add6",
   "metadata": {},
   "source": [
    "2. Средние пользовательские рейтинги жанров Action (англ. «действие», экшен-игры) и Sports (англ. «спортивные соревнования») разные."
   ]
  },
  {
   "cell_type": "code",
   "execution_count": 78,
   "id": "53cfb3b5",
   "metadata": {},
   "outputs": [],
   "source": [
    "games_Action = games_2012.query('genre == \"Action\" and user_score > 0')\n",
    "games_Sports = games_2012.query('genre == \"Sports\" and user_score > 0')"
   ]
  },
  {
   "cell_type": "code",
   "execution_count": 79,
   "id": "a286e183",
   "metadata": {},
   "outputs": [
    {
     "data": {
      "image/png": "[encoded data removed]",
      "text/plain": [
       "<Figure size 432x288 with 1 Axes>"
      ]
     },
     "metadata": {
      "needs_background": "light"
     },
     "output_type": "display_data"
    },
    {
     "name": "stdout",
     "output_type": "stream",
     "text": [
      "рейтинг пользователей игр Action count    389.000000\n",
      "mean       6.837532\n",
      "std        1.330173\n",
      "min        2.000000\n",
      "25%        6.300000\n",
      "50%        7.100000\n",
      "75%        7.800000\n",
      "max        9.100000\n",
      "Name: user_score, dtype: float64\n",
      "\n",
      "рейтинг пользователей игр Sports count    160.000000\n",
      "mean       5.238125\n",
      "std        1.783427\n",
      "min        0.200000\n",
      "25%        4.100000\n",
      "50%        5.500000\n",
      "75%        6.500000\n",
      "max        8.800000\n",
      "Name: user_score, dtype: float64\n"
     ]
    }
   ],
   "source": [
    "games_Sports['user_score'].plot(\n",
    "    kind='hist', \n",
    "    bins=20, \n",
    "    #histtype='step',\n",
    "    linewidth=5,\n",
    "    alpha=0.8, \n",
    "    label='Sports',\n",
    "    legend=True,)\n",
    "\n",
    "games_Action['user_score'].plot(\n",
    "    kind='hist', \n",
    "    bins=20,\n",
    "    #histtype='step',\n",
    "    linewidth=5,\n",
    "    alpha=0.6,\n",
    "    label='Action',\n",
    "    legend=True,\n",
    "    grid=True)\n",
    "\n",
    "plt.xlabel(\"рейтинг\")\n",
    "plt.ylabel(\"кол-во пользователей\")\n",
    "plt.title('рейтинг пользователей игр Action и Sports')\n",
    "plt.show()\n",
    "\n",
    "print('рейтинг пользователей игр Action', games_Action['user_score'].describe())\n",
    "print()\n",
    "print('рейтинг пользователей игр Sports', games_Sports['user_score'].describe())"
   ]
  },
  {
   "cell_type": "markdown",
   "id": "23e75fcb",
   "metadata": {},
   "source": [
    "Использовал Т-критерий для проверки разницы средних значений выборок\n",
    "можем использовать Т-тест тк генеральные совокупности не зависят друг от друга и выборки достаточно большие\n",
    "\n",
    "выборки у нас разного размера, поэтому указываем параметр equal_var= False"
   ]
  },
  {
   "cell_type": "markdown",
   "id": "1428fdb7",
   "metadata": {},
   "source": [
    "Средний пользовательский рейтинг жанров Action = 6.8, медиана = 7.1, разброс значений 1.3 от среднего\n",
    "Средний пользовательский рейтинг жанров Sports = 5.2, медиана = 5.5, разброс значений 1.8 от среднего\n",
    "\n",
    "исходя из графика и вывода данных сформулируем нулевую и альтернативную гипотезы\n",
    "\n",
    "Нулевая гипотеза: средние значения пользовательского рейтинга жанров Action и Sports равны.\n",
    "Альтернативная гипотеза: средние значение рейтинга пользователей Xbox One и PC разные."
   ]
  },
  {
   "cell_type": "code",
   "execution_count": 80,
   "id": "020fbd08",
   "metadata": {},
   "outputs": [
    {
     "name": "stdout",
     "output_type": "stream",
     "text": [
      "p-значение: 1.4460039700704315e-20\n",
      "Отвергаем нулевую гипотезу\n"
     ]
    }
   ],
   "source": [
    "alpha = 0.01\n",
    "\n",
    "results = st.ttest_ind(games_Action['user_score'], games_Sports['user_score'], equal_var=False)\n",
    "\n",
    "print('p-значение:', results.pvalue)\n",
    "\n",
    "if results.pvalue < alpha:\n",
    "    print('Отвергаем нулевую гипотезу')\n",
    "else:\n",
    "    print('Не получилось отвергнуть нулевую гипотезу')"
   ]
  },
  {
   "cell_type": "markdown",
   "id": "bd289b4b",
   "metadata": {},
   "source": [
    "Отвергаем нулевую гипотезу, значит средние значения пользовательского рейтинга жанров Action и Sports разные."
   ]
  },
  {
   "cell_type": "markdown",
   "id": "ba1776ad",
   "metadata": {},
   "source": [
    "Для проверки разницы средних нулевые гипотезы формулируются так: средние значения совокупностей равны\n",
    "\n",
    "альтернативные гипотезы сформулировал исходя из данных и графиков\n"
   ]
  },
  {
   "cell_type": "markdown",
   "id": "70b2f11a",
   "metadata": {},
   "source": [
    "## Шаг 6. общий вывод:"
   ]
  },
  {
   "cell_type": "markdown",
   "id": "7dbd7a9d",
   "metadata": {},
   "source": [
    "Проанализировав игнтернет мазазин Стримчик \n",
    "мы подготовили данные для анализа \n",
    "провели предабработку данных\n",
    "выявили что в данных есть много пропусков\n",
    "выявили что существует много пропусков в играх которые выходили в начале производства до 1993 года\n"
   ]
  },
  {
   "cell_type": "markdown",
   "id": "4a9a2d92",
   "metadata": {},
   "source": [
    "Выяснили что до 94-го года выпускалось и продавалось мало. \n",
    "с 1994 года начался рост продаж\n",
    "в 2002 видим резкий скачок продаж который связан позможно с выходом новых технологий и новых приставок.\n",
    "Пик продаж приходится на 2008-09 года после которого идет спад\n",
    "в 2011 проимходит резкий спад (вероятно изза выхода новых мобильных устройств)\n",
    "\n",
    "в связи с этим актуальным периодом для анализа является с 2012 года по нв"
   ]
  },
  {
   "cell_type": "markdown",
   "id": "bf1aafa4",
   "metadata": {},
   "source": [
    "выяснили что в среднем игры для платформ выпускаются в течении 7 лет после чего прекращают\n",
    "пик продаж приходится в среднем на 4-5 лет\n",
    "после пика продаж обычно выходят новые пристаки а страрые продолжают еще поддерживаться еще в среднем 3-4 года\n"
   ]
  },
  {
   "cell_type": "markdown",
   "id": "a27e18fc",
   "metadata": {},
   "source": [
    "в анализе мы выяснили какие приставки были на пике попкляоности в разнве промежутки времени"
   ]
  },
  {
   "cell_type": "markdown",
   "id": "c6d09df4",
   "metadata": {},
   "source": [
    "провели анализ для современных приставок выяснили что:\n",
    "\n",
    "PS3, X360, PS4, 3DS, WiiU, XOne и PC\n",
    "\n",
    "игры на платформы которые еще выпускаются :\n",
    "ps4 - продажи на 2017 год должны вырости тк 5 год после выпуска обычно пик продаж.\n",
    "ps3 - продажи падают на 2016 год. скорее всего в 2017 перестанут выпускать игры\n",
    "x360 аналогично с ps3\n",
    "3ds - продажи падают на 2016 год. скорее всего в 2017 перестанут выпускать игры. возможно готовыт выпуск новой приставки\n",
    "xone - продажи ростут на 2016 год. будут расти в 2017 году\n",
    "wiiu - продажи падают на 2016 год. похожая ситуация как у 3ds"
   ]
  },
  {
   "cell_type": "markdown",
   "id": "cabe64b0",
   "metadata": {},
   "source": [
    "посчитали среднее и медиану значение выручки для каждой приставки начиная с 2012 года\n",
    "а также визуализировали данные"
   ]
  },
  {
   "cell_type": "markdown",
   "id": "a6abf3e5",
   "metadata": {},
   "source": [
    "выявили что лучше на 2017 год будут продаваться игры на Xone и PS4"
   ]
  },
  {
   "cell_type": "markdown",
   "id": "2f4df779",
   "metadata": {},
   "source": [
    "выяснили что на продажи игр влияют отзывы профессиональных критиков больше чем отзывы пользователей\n",
    "построили графики и посчитали данные Зависимость продаж от оценки пользователей и критиков"
   ]
  },
  {
   "cell_type": "markdown",
   "id": "a0221273",
   "metadata": {},
   "source": [
    "вывrлеи общее распределение игр по жанрам. \n",
    "выяснили что самые популярные жанры это Action и Sports \n",
    "\n",
    "распределили самые популярные платформы и жанры в разных регионах"
   ]
  },
  {
   "cell_type": "markdown",
   "id": "7c338189",
   "metadata": {},
   "source": [
    "Стабильнее всего приносят прибыль Shooter, sports и Platform значит в 2017 году выгоднее всего будет продавать именно их"
   ]
  },
  {
   "cell_type": "markdown",
   "id": "7a5da756",
   "metadata": {},
   "source": [
    "- самые полулярные игры на платформы в Америке PS4, XOne, X360, PS3, 3DS\n",
    "- самые полулярные игры на платформы в Eвропе  PS4, PS3, XOne, X360, 3DS\n",
    "- самые полулярные игры на платформы в Японии  3DS, PS3, PSV, PS4, WiiU\n",
    "- суммы продаж и графики указаны выше"
   ]
  },
  {
   "cell_type": "markdown",
   "id": "c81afb96",
   "metadata": {},
   "source": [
    "выявили как влияет рейтинг ESRB на продажи в отдельных регионах"
   ]
  },
  {
   "cell_type": "markdown",
   "id": "aa0024d1",
   "metadata": {},
   "source": [
    "Проверили гипотезы\n",
    "\n",
    "Есть вероятность что средние пользовательските рейтинги не различаются у PC и XOne\n",
    "\n",
    "Есть вероятность средние значения пользовательского рейтинга жанров Action и Sports разные."
   ]
  }
 ],
 "metadata": {
  "ExecuteTimeLog": [
   {
    "duration": 1320,
    "start_time": "2023-10-11T21:35:37.088Z"
   },
   {
    "duration": 162,
    "start_time": "2023-10-11T21:35:38.410Z"
   },
   {
    "duration": 15,
    "start_time": "2023-10-11T21:35:38.573Z"
   },
   {
    "duration": 9,
    "start_time": "2023-10-11T21:35:38.590Z"
   },
   {
    "duration": 17,
    "start_time": "2023-10-11T21:35:38.600Z"
   },
   {
    "duration": 38,
    "start_time": "2023-10-11T21:35:38.619Z"
   },
   {
    "duration": 21,
    "start_time": "2023-10-11T21:35:38.659Z"
   },
   {
    "duration": 3,
    "start_time": "2023-10-11T21:35:38.681Z"
   },
   {
    "duration": 35,
    "start_time": "2023-10-11T21:35:38.685Z"
   },
   {
    "duration": 7,
    "start_time": "2023-10-11T21:35:38.722Z"
   },
   {
    "duration": 44,
    "start_time": "2023-10-11T21:35:38.730Z"
   },
   {
    "duration": 28,
    "start_time": "2023-10-11T21:35:38.776Z"
   },
   {
    "duration": 16,
    "start_time": "2023-10-11T21:35:38.806Z"
   },
   {
    "duration": 42,
    "start_time": "2023-10-11T21:35:38.824Z"
   },
   {
    "duration": 7,
    "start_time": "2023-10-11T21:35:38.867Z"
   },
   {
    "duration": 25,
    "start_time": "2023-10-11T21:35:38.875Z"
   },
   {
    "duration": 27,
    "start_time": "2023-10-11T21:35:38.901Z"
   },
   {
    "duration": 43,
    "start_time": "2023-10-11T21:35:38.930Z"
   },
   {
    "duration": 9,
    "start_time": "2023-10-11T21:35:38.974Z"
   },
   {
    "duration": 323,
    "start_time": "2023-10-11T21:35:38.984Z"
   },
   {
    "duration": 316,
    "start_time": "2023-10-11T21:35:39.308Z"
   },
   {
    "duration": 11,
    "start_time": "2023-10-11T21:35:39.625Z"
   },
   {
    "duration": 293,
    "start_time": "2023-10-11T21:35:39.637Z"
   },
   {
    "duration": 692,
    "start_time": "2023-10-11T21:35:39.931Z"
   },
   {
    "duration": 13,
    "start_time": "2023-10-11T21:35:40.624Z"
   },
   {
    "duration": 15,
    "start_time": "2023-10-11T21:35:40.638Z"
   },
   {
    "duration": 915,
    "start_time": "2023-10-11T21:35:40.657Z"
   },
   {
    "duration": 14,
    "start_time": "2023-10-11T21:35:41.575Z"
   },
   {
    "duration": 898,
    "start_time": "2023-10-11T21:35:41.590Z"
   },
   {
    "duration": 20,
    "start_time": "2023-10-11T21:35:42.489Z"
   },
   {
    "duration": 23,
    "start_time": "2023-10-11T21:35:42.511Z"
   },
   {
    "duration": 170,
    "start_time": "2023-10-11T21:35:42.535Z"
   },
   {
    "duration": 5,
    "start_time": "2023-10-11T21:35:42.706Z"
   },
   {
    "duration": 24,
    "start_time": "2023-10-11T21:35:42.713Z"
   },
   {
    "duration": 33,
    "start_time": "2023-10-11T21:35:42.738Z"
   },
   {
    "duration": 134,
    "start_time": "2023-10-11T21:35:42.774Z"
   },
   {
    "duration": 0,
    "start_time": "2023-10-11T21:35:42.910Z"
   },
   {
    "duration": 0,
    "start_time": "2023-10-11T21:35:42.911Z"
   },
   {
    "duration": 0,
    "start_time": "2023-10-11T21:35:42.912Z"
   },
   {
    "duration": 0,
    "start_time": "2023-10-11T21:35:42.914Z"
   },
   {
    "duration": 0,
    "start_time": "2023-10-11T21:35:42.915Z"
   },
   {
    "duration": 0,
    "start_time": "2023-10-11T21:35:42.916Z"
   },
   {
    "duration": 0,
    "start_time": "2023-10-11T21:35:42.918Z"
   },
   {
    "duration": 0,
    "start_time": "2023-10-11T21:35:42.919Z"
   },
   {
    "duration": 0,
    "start_time": "2023-10-11T21:35:42.921Z"
   },
   {
    "duration": 0,
    "start_time": "2023-10-11T21:35:42.922Z"
   },
   {
    "duration": 0,
    "start_time": "2023-10-11T21:35:42.923Z"
   },
   {
    "duration": 0,
    "start_time": "2023-10-11T21:35:42.950Z"
   },
   {
    "duration": 0,
    "start_time": "2023-10-11T21:35:42.951Z"
   },
   {
    "duration": 0,
    "start_time": "2023-10-11T21:35:42.952Z"
   },
   {
    "duration": 0,
    "start_time": "2023-10-11T21:35:42.954Z"
   },
   {
    "duration": 0,
    "start_time": "2023-10-11T21:35:42.955Z"
   },
   {
    "duration": 0,
    "start_time": "2023-10-11T21:35:42.956Z"
   },
   {
    "duration": 0,
    "start_time": "2023-10-11T21:35:42.957Z"
   },
   {
    "duration": 0,
    "start_time": "2023-10-11T21:35:42.959Z"
   },
   {
    "duration": 0,
    "start_time": "2023-10-11T21:35:42.961Z"
   },
   {
    "duration": 0,
    "start_time": "2023-10-11T21:35:42.962Z"
   },
   {
    "duration": 0,
    "start_time": "2023-10-11T21:35:42.963Z"
   },
   {
    "duration": 0,
    "start_time": "2023-10-11T21:35:42.965Z"
   },
   {
    "duration": 0,
    "start_time": "2023-10-11T21:35:42.966Z"
   },
   {
    "duration": 0,
    "start_time": "2023-10-11T21:35:42.968Z"
   },
   {
    "duration": 0,
    "start_time": "2023-10-11T21:35:42.969Z"
   },
   {
    "duration": 0,
    "start_time": "2023-10-11T21:35:42.970Z"
   },
   {
    "duration": 0,
    "start_time": "2023-10-11T21:35:42.971Z"
   },
   {
    "duration": 0,
    "start_time": "2023-10-11T21:35:42.972Z"
   },
   {
    "duration": 83,
    "start_time": "2023-10-11T22:05:35.191Z"
   },
   {
    "duration": 34,
    "start_time": "2023-10-11T22:06:03.502Z"
   },
   {
    "duration": 1141,
    "start_time": "2023-10-11T22:06:18.220Z"
   },
   {
    "duration": 139,
    "start_time": "2023-10-11T22:06:19.362Z"
   },
   {
    "duration": 13,
    "start_time": "2023-10-11T22:06:19.503Z"
   },
   {
    "duration": 22,
    "start_time": "2023-10-11T22:06:19.518Z"
   },
   {
    "duration": 39,
    "start_time": "2023-10-11T22:06:19.541Z"
   },
   {
    "duration": 49,
    "start_time": "2023-10-11T22:06:19.581Z"
   },
   {
    "duration": 15,
    "start_time": "2023-10-11T22:06:19.631Z"
   },
   {
    "duration": 18,
    "start_time": "2023-10-11T22:06:19.648Z"
   },
   {
    "duration": 59,
    "start_time": "2023-10-11T22:06:19.667Z"
   },
   {
    "duration": 11,
    "start_time": "2023-10-11T22:06:19.728Z"
   },
   {
    "duration": 23,
    "start_time": "2023-10-11T22:06:19.741Z"
   },
   {
    "duration": 24,
    "start_time": "2023-10-11T22:06:19.765Z"
   },
   {
    "duration": 44,
    "start_time": "2023-10-11T22:06:19.790Z"
   },
   {
    "duration": 23,
    "start_time": "2023-10-11T22:06:19.835Z"
   },
   {
    "duration": 30,
    "start_time": "2023-10-11T22:06:19.859Z"
   },
   {
    "duration": 25,
    "start_time": "2023-10-11T22:06:19.891Z"
   },
   {
    "duration": 18,
    "start_time": "2023-10-11T22:06:19.918Z"
   },
   {
    "duration": 25,
    "start_time": "2023-10-11T22:06:19.938Z"
   },
   {
    "duration": 4,
    "start_time": "2023-10-11T22:06:19.964Z"
   },
   {
    "duration": 53,
    "start_time": "2023-10-11T22:06:19.969Z"
   },
   {
    "duration": 278,
    "start_time": "2023-10-11T22:06:20.023Z"
   },
   {
    "duration": 313,
    "start_time": "2023-10-11T22:06:20.303Z"
   },
   {
    "duration": 11,
    "start_time": "2023-10-11T22:06:20.617Z"
   },
   {
    "duration": 275,
    "start_time": "2023-10-11T22:06:20.629Z"
   },
   {
    "duration": 620,
    "start_time": "2023-10-11T22:06:20.906Z"
   },
   {
    "duration": 13,
    "start_time": "2023-10-11T22:06:21.527Z"
   },
   {
    "duration": 4,
    "start_time": "2023-10-11T22:06:21.550Z"
   },
   {
    "duration": 840,
    "start_time": "2023-10-11T22:06:21.557Z"
   },
   {
    "duration": 13,
    "start_time": "2023-10-11T22:06:22.399Z"
   },
   {
    "duration": 841,
    "start_time": "2023-10-11T22:06:22.414Z"
   },
   {
    "duration": 20,
    "start_time": "2023-10-11T22:06:23.256Z"
   },
   {
    "duration": 12,
    "start_time": "2023-10-11T22:06:23.277Z"
   },
   {
    "duration": 122,
    "start_time": "2023-10-11T22:06:23.290Z"
   },
   {
    "duration": 4,
    "start_time": "2023-10-11T22:06:23.413Z"
   },
   {
    "duration": 10,
    "start_time": "2023-10-11T22:06:23.419Z"
   },
   {
    "duration": 22,
    "start_time": "2023-10-11T22:06:23.431Z"
   },
   {
    "duration": 100,
    "start_time": "2023-10-11T22:06:23.455Z"
   },
   {
    "duration": 0,
    "start_time": "2023-10-11T22:06:23.557Z"
   },
   {
    "duration": 0,
    "start_time": "2023-10-11T22:06:23.558Z"
   },
   {
    "duration": 0,
    "start_time": "2023-10-11T22:06:23.558Z"
   },
   {
    "duration": 0,
    "start_time": "2023-10-11T22:06:23.559Z"
   },
   {
    "duration": 0,
    "start_time": "2023-10-11T22:06:23.560Z"
   },
   {
    "duration": 0,
    "start_time": "2023-10-11T22:06:23.561Z"
   },
   {
    "duration": 0,
    "start_time": "2023-10-11T22:06:23.562Z"
   },
   {
    "duration": 0,
    "start_time": "2023-10-11T22:06:23.563Z"
   },
   {
    "duration": 0,
    "start_time": "2023-10-11T22:06:23.564Z"
   },
   {
    "duration": 0,
    "start_time": "2023-10-11T22:06:23.564Z"
   },
   {
    "duration": 0,
    "start_time": "2023-10-11T22:06:23.565Z"
   },
   {
    "duration": 0,
    "start_time": "2023-10-11T22:06:23.566Z"
   },
   {
    "duration": 0,
    "start_time": "2023-10-11T22:06:23.567Z"
   },
   {
    "duration": 0,
    "start_time": "2023-10-11T22:06:23.568Z"
   },
   {
    "duration": 0,
    "start_time": "2023-10-11T22:06:23.569Z"
   },
   {
    "duration": 0,
    "start_time": "2023-10-11T22:06:23.569Z"
   },
   {
    "duration": 0,
    "start_time": "2023-10-11T22:06:23.570Z"
   },
   {
    "duration": 0,
    "start_time": "2023-10-11T22:06:23.571Z"
   },
   {
    "duration": 0,
    "start_time": "2023-10-11T22:06:23.572Z"
   },
   {
    "duration": 0,
    "start_time": "2023-10-11T22:06:23.573Z"
   },
   {
    "duration": 0,
    "start_time": "2023-10-11T22:06:23.574Z"
   },
   {
    "duration": 0,
    "start_time": "2023-10-11T22:06:23.574Z"
   },
   {
    "duration": 1,
    "start_time": "2023-10-11T22:06:23.575Z"
   },
   {
    "duration": 0,
    "start_time": "2023-10-11T22:06:23.577Z"
   },
   {
    "duration": 0,
    "start_time": "2023-10-11T22:06:23.578Z"
   },
   {
    "duration": 0,
    "start_time": "2023-10-11T22:06:23.579Z"
   },
   {
    "duration": 0,
    "start_time": "2023-10-11T22:06:23.580Z"
   },
   {
    "duration": 0,
    "start_time": "2023-10-11T22:06:23.581Z"
   },
   {
    "duration": 0,
    "start_time": "2023-10-11T22:06:23.581Z"
   },
   {
    "duration": 24,
    "start_time": "2023-10-11T22:13:51.495Z"
   },
   {
    "duration": 27,
    "start_time": "2023-10-11T22:14:28.694Z"
   },
   {
    "duration": 6,
    "start_time": "2023-10-17T22:57:54.258Z"
   },
   {
    "duration": 111,
    "start_time": "2023-10-17T22:57:54.266Z"
   },
   {
    "duration": 13,
    "start_time": "2023-10-17T22:57:54.379Z"
   },
   {
    "duration": 3,
    "start_time": "2023-10-17T22:57:54.394Z"
   },
   {
    "duration": 12,
    "start_time": "2023-10-17T22:57:54.398Z"
   },
   {
    "duration": 43,
    "start_time": "2023-10-17T22:57:54.411Z"
   },
   {
    "duration": 15,
    "start_time": "2023-10-17T22:57:54.456Z"
   },
   {
    "duration": 11,
    "start_time": "2023-10-17T22:57:54.473Z"
   },
   {
    "duration": 18,
    "start_time": "2023-10-17T22:57:54.485Z"
   },
   {
    "duration": 44,
    "start_time": "2023-10-17T22:57:54.504Z"
   },
   {
    "duration": 17,
    "start_time": "2023-10-17T22:57:54.550Z"
   },
   {
    "duration": 4,
    "start_time": "2023-10-17T22:57:54.569Z"
   },
   {
    "duration": 22,
    "start_time": "2023-10-17T22:57:54.574Z"
   },
   {
    "duration": 4,
    "start_time": "2023-10-17T22:57:54.597Z"
   },
   {
    "duration": 16,
    "start_time": "2023-10-17T22:57:54.602Z"
   },
   {
    "duration": 25,
    "start_time": "2023-10-17T22:57:54.619Z"
   },
   {
    "duration": 22,
    "start_time": "2023-10-17T22:57:54.646Z"
   },
   {
    "duration": 6,
    "start_time": "2023-10-17T22:57:54.669Z"
   },
   {
    "duration": 6,
    "start_time": "2023-10-17T22:57:54.676Z"
   },
   {
    "duration": 12,
    "start_time": "2023-10-17T22:57:54.683Z"
   },
   {
    "duration": 8,
    "start_time": "2023-10-17T22:57:54.697Z"
   },
   {
    "duration": 26,
    "start_time": "2023-10-17T22:57:54.706Z"
   },
   {
    "duration": 17,
    "start_time": "2023-10-17T22:57:54.734Z"
   },
   {
    "duration": 20,
    "start_time": "2023-10-17T22:57:54.753Z"
   },
   {
    "duration": 45,
    "start_time": "2023-10-17T22:57:54.775Z"
   },
   {
    "duration": 314,
    "start_time": "2023-10-17T22:57:54.822Z"
   },
   {
    "duration": 14,
    "start_time": "2023-10-17T22:57:55.138Z"
   },
   {
    "duration": 281,
    "start_time": "2023-10-17T22:57:55.154Z"
   },
   {
    "duration": 691,
    "start_time": "2023-10-17T22:57:55.436Z"
   },
   {
    "duration": 22,
    "start_time": "2023-10-17T22:57:56.128Z"
   },
   {
    "duration": 4,
    "start_time": "2023-10-17T22:57:56.152Z"
   },
   {
    "duration": 952,
    "start_time": "2023-10-17T22:57:56.157Z"
   },
   {
    "duration": 23,
    "start_time": "2023-10-17T22:57:57.111Z"
   },
   {
    "duration": 16,
    "start_time": "2023-10-17T22:57:57.144Z"
   },
   {
    "duration": 850,
    "start_time": "2023-10-17T22:57:57.161Z"
   },
   {
    "duration": 20,
    "start_time": "2023-10-17T22:57:58.013Z"
   },
   {
    "duration": 12,
    "start_time": "2023-10-17T22:57:58.044Z"
   },
   {
    "duration": 13,
    "start_time": "2023-10-17T22:57:58.058Z"
   },
   {
    "duration": 7,
    "start_time": "2023-10-17T22:57:58.073Z"
   },
   {
    "duration": 18,
    "start_time": "2023-10-17T22:57:58.082Z"
   },
   {
    "duration": 10,
    "start_time": "2023-10-17T22:57:58.101Z"
   },
   {
    "duration": 202,
    "start_time": "2023-10-17T22:57:58.112Z"
   },
   {
    "duration": 201,
    "start_time": "2023-10-17T22:57:58.315Z"
   },
   {
    "duration": 29,
    "start_time": "2023-10-17T22:57:58.518Z"
   },
   {
    "duration": 4,
    "start_time": "2023-10-17T22:57:58.549Z"
   },
   {
    "duration": 271,
    "start_time": "2023-10-17T22:57:58.555Z"
   },
   {
    "duration": 251,
    "start_time": "2023-10-17T22:57:58.827Z"
   },
   {
    "duration": 273,
    "start_time": "2023-10-17T22:57:59.079Z"
   },
   {
    "duration": 266,
    "start_time": "2023-10-17T22:57:59.359Z"
   },
   {
    "duration": 250,
    "start_time": "2023-10-17T22:57:59.627Z"
   },
   {
    "duration": 271,
    "start_time": "2023-10-17T22:57:59.879Z"
   },
   {
    "duration": 262,
    "start_time": "2023-10-17T22:58:00.151Z"
   },
   {
    "duration": 15,
    "start_time": "2023-10-17T22:58:00.415Z"
   },
   {
    "duration": 203,
    "start_time": "2023-10-17T22:58:00.431Z"
   },
   {
    "duration": 316,
    "start_time": "2023-10-17T22:58:00.636Z"
   },
   {
    "duration": 467,
    "start_time": "2023-10-17T22:58:00.954Z"
   },
   {
    "duration": 22,
    "start_time": "2023-10-17T22:58:01.423Z"
   },
   {
    "duration": 54,
    "start_time": "2023-10-17T22:58:01.447Z"
   },
   {
    "duration": 31,
    "start_time": "2023-10-17T22:58:01.502Z"
   },
   {
    "duration": 44,
    "start_time": "2023-10-17T22:58:01.534Z"
   },
   {
    "duration": 56,
    "start_time": "2023-10-17T22:58:01.580Z"
   },
   {
    "duration": 19,
    "start_time": "2023-10-17T22:58:01.638Z"
   },
   {
    "duration": 47,
    "start_time": "2023-10-17T22:58:01.658Z"
   },
   {
    "duration": 60,
    "start_time": "2023-10-17T22:58:01.707Z"
   },
   {
    "duration": 36,
    "start_time": "2023-10-17T22:58:01.768Z"
   },
   {
    "duration": 425,
    "start_time": "2023-10-17T22:58:01.805Z"
   },
   {
    "duration": 13,
    "start_time": "2023-10-17T22:58:02.231Z"
   },
   {
    "duration": 27,
    "start_time": "2023-10-17T22:58:02.245Z"
   },
   {
    "duration": 220,
    "start_time": "2023-10-17T22:58:02.274Z"
   },
   {
    "duration": 5,
    "start_time": "2023-10-17T22:58:02.496Z"
   },
   {
    "duration": 45,
    "start_time": "2023-10-17T22:58:02.502Z"
   },
   {
    "duration": 211,
    "start_time": "2023-10-17T22:58:02.548Z"
   },
   {
    "duration": 5,
    "start_time": "2023-10-17T22:58:02.760Z"
   },
   {
    "duration": 8,
    "start_time": "2023-10-17T23:06:01.494Z"
   },
   {
    "duration": 11,
    "start_time": "2023-10-17T23:06:20.235Z"
   },
   {
    "duration": 1277,
    "start_time": "2023-10-19T16:36:53.223Z"
   },
   {
    "duration": 141,
    "start_time": "2023-10-19T16:36:54.502Z"
   },
   {
    "duration": 16,
    "start_time": "2023-10-19T16:36:54.645Z"
   },
   {
    "duration": 20,
    "start_time": "2023-10-19T16:36:54.663Z"
   },
   {
    "duration": 26,
    "start_time": "2023-10-19T16:36:54.685Z"
   },
   {
    "duration": 40,
    "start_time": "2023-10-19T16:36:54.713Z"
   },
   {
    "duration": 16,
    "start_time": "2023-10-19T16:36:54.755Z"
   },
   {
    "duration": 13,
    "start_time": "2023-10-19T16:36:54.773Z"
   },
   {
    "duration": 19,
    "start_time": "2023-10-19T16:36:54.787Z"
   },
   {
    "duration": 40,
    "start_time": "2023-10-19T16:36:54.809Z"
   },
   {
    "duration": 21,
    "start_time": "2023-10-19T16:36:54.851Z"
   },
   {
    "duration": 17,
    "start_time": "2023-10-19T16:36:54.873Z"
   },
   {
    "duration": 20,
    "start_time": "2023-10-19T16:36:54.892Z"
   },
   {
    "duration": 5,
    "start_time": "2023-10-19T16:36:54.914Z"
   },
   {
    "duration": 27,
    "start_time": "2023-10-19T16:36:54.921Z"
   },
   {
    "duration": 14,
    "start_time": "2023-10-19T16:36:54.950Z"
   },
   {
    "duration": 32,
    "start_time": "2023-10-19T16:36:54.966Z"
   },
   {
    "duration": 8,
    "start_time": "2023-10-19T16:36:55.001Z"
   },
   {
    "duration": 11,
    "start_time": "2023-10-19T16:36:55.011Z"
   },
   {
    "duration": 22,
    "start_time": "2023-10-19T16:36:55.024Z"
   },
   {
    "duration": 22,
    "start_time": "2023-10-19T16:36:55.048Z"
   },
   {
    "duration": 15,
    "start_time": "2023-10-19T16:36:55.072Z"
   },
   {
    "duration": 25,
    "start_time": "2023-10-19T16:36:55.089Z"
   },
   {
    "duration": 19,
    "start_time": "2023-10-19T16:36:55.117Z"
   },
   {
    "duration": 53,
    "start_time": "2023-10-19T16:36:55.138Z"
   },
   {
    "duration": 449,
    "start_time": "2023-10-19T16:36:55.193Z"
   },
   {
    "duration": 13,
    "start_time": "2023-10-19T16:36:55.644Z"
   },
   {
    "duration": 347,
    "start_time": "2023-10-19T16:36:55.661Z"
   },
   {
    "duration": 717,
    "start_time": "2023-10-19T16:36:56.010Z"
   },
   {
    "duration": 25,
    "start_time": "2023-10-19T16:36:56.729Z"
   },
   {
    "duration": 8,
    "start_time": "2023-10-19T16:36:56.756Z"
   },
   {
    "duration": 1137,
    "start_time": "2023-10-19T16:36:56.765Z"
   },
   {
    "duration": 28,
    "start_time": "2023-10-19T16:36:57.904Z"
   },
   {
    "duration": 27,
    "start_time": "2023-10-19T16:36:57.934Z"
   },
   {
    "duration": 1017,
    "start_time": "2023-10-19T16:36:57.962Z"
   },
   {
    "duration": 5,
    "start_time": "2023-10-19T16:36:58.981Z"
   },
   {
    "duration": 29,
    "start_time": "2023-10-19T16:36:58.988Z"
   },
   {
    "duration": 15,
    "start_time": "2023-10-19T16:36:59.019Z"
   },
   {
    "duration": 14,
    "start_time": "2023-10-19T16:36:59.036Z"
   },
   {
    "duration": 15,
    "start_time": "2023-10-19T16:36:59.052Z"
   },
   {
    "duration": 41,
    "start_time": "2023-10-19T16:36:59.069Z"
   },
   {
    "duration": 224,
    "start_time": "2023-10-19T16:36:59.112Z"
   },
   {
    "duration": 241,
    "start_time": "2023-10-19T16:36:59.338Z"
   },
   {
    "duration": 9,
    "start_time": "2023-10-19T16:36:59.580Z"
   },
   {
    "duration": 23,
    "start_time": "2023-10-19T16:36:59.590Z"
   },
   {
    "duration": 15,
    "start_time": "2023-10-19T16:36:59.615Z"
   },
   {
    "duration": 5,
    "start_time": "2023-10-19T16:36:59.632Z"
   },
   {
    "duration": 327,
    "start_time": "2023-10-19T16:36:59.639Z"
   },
   {
    "duration": 326,
    "start_time": "2023-10-19T16:36:59.968Z"
   },
   {
    "duration": 328,
    "start_time": "2023-10-19T16:37:00.296Z"
   },
   {
    "duration": 308,
    "start_time": "2023-10-19T16:37:00.626Z"
   },
   {
    "duration": 296,
    "start_time": "2023-10-19T16:37:00.936Z"
   },
   {
    "duration": 317,
    "start_time": "2023-10-19T16:37:01.233Z"
   },
   {
    "duration": 317,
    "start_time": "2023-10-19T16:37:01.551Z"
   },
   {
    "duration": 21,
    "start_time": "2023-10-19T16:37:01.870Z"
   },
   {
    "duration": 230,
    "start_time": "2023-10-19T16:37:01.893Z"
   },
   {
    "duration": 153,
    "start_time": "2023-10-19T16:37:02.125Z"
   },
   {
    "duration": 407,
    "start_time": "2023-10-19T16:37:02.279Z"
   },
   {
    "duration": 10,
    "start_time": "2023-10-19T16:37:02.688Z"
   },
   {
    "duration": 333,
    "start_time": "2023-10-19T16:37:02.700Z"
   },
   {
    "duration": 17,
    "start_time": "2023-10-19T16:37:03.034Z"
   },
   {
    "duration": 31,
    "start_time": "2023-10-19T16:37:03.053Z"
   },
   {
    "duration": 29,
    "start_time": "2023-10-19T16:37:03.086Z"
   },
   {
    "duration": 46,
    "start_time": "2023-10-19T16:37:03.117Z"
   },
   {
    "duration": 60,
    "start_time": "2023-10-19T16:37:03.165Z"
   },
   {
    "duration": 8,
    "start_time": "2023-10-19T16:37:03.227Z"
   },
   {
    "duration": 383,
    "start_time": "2023-10-19T16:37:03.237Z"
   },
   {
    "duration": 40,
    "start_time": "2023-10-19T16:37:03.622Z"
   },
   {
    "duration": 391,
    "start_time": "2023-10-19T16:37:03.664Z"
   },
   {
    "duration": 24,
    "start_time": "2023-10-19T16:37:04.057Z"
   },
   {
    "duration": 153,
    "start_time": "2023-10-19T16:37:04.083Z"
   },
   {
    "duration": 12,
    "start_time": "2023-10-19T16:37:04.238Z"
   },
   {
    "duration": 479,
    "start_time": "2023-10-19T16:37:04.251Z"
   },
   {
    "duration": 13,
    "start_time": "2023-10-19T16:37:04.733Z"
   },
   {
    "duration": 32,
    "start_time": "2023-10-19T16:37:04.747Z"
   },
   {
    "duration": 270,
    "start_time": "2023-10-19T16:37:04.781Z"
   },
   {
    "duration": 5,
    "start_time": "2023-10-19T16:37:05.053Z"
   },
   {
    "duration": 34,
    "start_time": "2023-10-19T16:37:05.061Z"
   },
   {
    "duration": 280,
    "start_time": "2023-10-19T16:37:05.097Z"
   },
   {
    "duration": 7,
    "start_time": "2023-10-19T16:37:05.379Z"
   }
  ],
  "kernelspec": {
   "display_name": "Python 3 (ipykernel)",
   "language": "python",
   "name": "python3"
  },
  "language_info": {
   "codemirror_mode": {
    "name": "ipython",
    "version": 3
   },
   "file_extension": ".py",
   "mimetype": "text/x-python",
   "name": "python",
   "nbconvert_exporter": "python",
   "pygments_lexer": "ipython3",
   "version": "3.10.9"
  },
  "toc": {
   "base_numbering": 1,
   "nav_menu": {},
   "number_sections": true,
   "sideBar": true,
   "skip_h1_title": true,
   "title_cell": "Table of Contents",
   "title_sidebar": "Contents",
   "toc_cell": false,
   "toc_position": {
    "height": "calc(100% - 180px)",
    "left": "10px",
    "top": "150px",
    "width": "191.943px"
   },
   "toc_section_display": true,
   "toc_window_display": true
  }
 },
 "nbformat": 4,
 "nbformat_minor": 5
}
