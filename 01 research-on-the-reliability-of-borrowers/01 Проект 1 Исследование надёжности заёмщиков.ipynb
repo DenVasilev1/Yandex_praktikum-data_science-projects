{
 "cells": [
  {
   "cell_type": "markdown",
   "id": "386f2ae7",
   "metadata": {
    "deletable": false,
    "editable": false,
    "id": "386f2ae7"
   },
   "source": [
    "# Исследование надежности заемщиков\n"
   ]
  },
  {
   "cell_type": "markdown",
   "id": "ffe86f65",
   "metadata": {
    "deletable": false,
    "editable": false,
    "id": "ffe86f65"
   },
   "source": [
    "Во второй части проекта вы выполните шаги 3 и 4. Их вручную проверит ревьюер.\n",
    "Чтобы вам не пришлось писать код заново для шагов 1 и 2, мы добавили авторские решения в ячейки с кодом. \n",
    "\n"
   ]
  },
  {
   "cell_type": "markdown",
   "id": "26613308",
   "metadata": {
    "deletable": false,
    "editable": false,
    "id": "26613308"
   },
   "source": [
    "## Откройте таблицу и изучите общую информацию о данных"
   ]
  },
  {
   "cell_type": "markdown",
   "id": "3c9f838e",
   "metadata": {
    "deletable": false,
    "editable": false,
    "id": "3c9f838e"
   },
   "source": [
    "**Задание 1. Импортируйте библиотеку pandas. Считайте данные из csv-файла в датафрейм и сохраните в переменную `data`. Путь к файлу:**\n",
    "\n",
    "`/datasets/data.csv`"
   ]
  },
  {
   "cell_type": "code",
   "execution_count": 2,
   "id": "77a68a90",
   "metadata": {
    "deletable": false,
    "id": "77a68a90"
   },
   "outputs": [],
   "source": [
    "import pandas as pd\n",
    "\n",
    "try:\n",
    "    data = pd.read_csv('/datasets/data.csv')\n",
    "except:\n",
    "    data = pd.read_csv('https://code.s3.yandex.net/datasets/data.csv')"
   ]
  },
  {
   "cell_type": "markdown",
   "id": "45365635",
   "metadata": {
    "deletable": false,
    "editable": false,
    "id": "45365635"
   },
   "source": [
    "**Задание 2. Выведите первые 20 строчек датафрейма `data` на экран.**"
   ]
  },
  {
   "cell_type": "code",
   "execution_count": 3,
   "id": "b0451a9a",
   "metadata": {
    "deletable": false,
    "id": "b0451a9a",
    "outputId": "1a8f3ef2-d323-4ec2-ddf7-89670b5944c4"
   },
   "outputs": [
    {
     "data": {
      "text/html": [
       "<div>\n",
       "<style scoped>\n",
       "    .dataframe tbody tr th:only-of-type {\n",
       "        vertical-align: middle;\n",
       "    }\n",
       "\n",
       "    .dataframe tbody tr th {\n",
       "        vertical-align: top;\n",
       "    }\n",
       "\n",
       "    .dataframe thead th {\n",
       "        text-align: right;\n",
       "    }\n",
       "</style>\n",
       "<table border=\"1\" class=\"dataframe\">\n",
       "  <thead>\n",
       "    <tr style=\"text-align: right;\">\n",
       "      <th></th>\n",
       "      <th>children</th>\n",
       "      <th>days_employed</th>\n",
       "      <th>dob_years</th>\n",
       "      <th>education</th>\n",
       "      <th>education_id</th>\n",
       "      <th>family_status</th>\n",
       "      <th>family_status_id</th>\n",
       "      <th>gender</th>\n",
       "      <th>income_type</th>\n",
       "      <th>debt</th>\n",
       "      <th>total_income</th>\n",
       "      <th>purpose</th>\n",
       "    </tr>\n",
       "  </thead>\n",
       "  <tbody>\n",
       "    <tr>\n",
       "      <th>0</th>\n",
       "      <td>1</td>\n",
       "      <td>-8437.673028</td>\n",
       "      <td>42</td>\n",
       "      <td>высшее</td>\n",
       "      <td>0</td>\n",
       "      <td>женат / замужем</td>\n",
       "      <td>0</td>\n",
       "      <td>F</td>\n",
       "      <td>сотрудник</td>\n",
       "      <td>0</td>\n",
       "      <td>253875.639453</td>\n",
       "      <td>покупка жилья</td>\n",
       "    </tr>\n",
       "    <tr>\n",
       "      <th>1</th>\n",
       "      <td>1</td>\n",
       "      <td>-4024.803754</td>\n",
       "      <td>36</td>\n",
       "      <td>среднее</td>\n",
       "      <td>1</td>\n",
       "      <td>женат / замужем</td>\n",
       "      <td>0</td>\n",
       "      <td>F</td>\n",
       "      <td>сотрудник</td>\n",
       "      <td>0</td>\n",
       "      <td>112080.014102</td>\n",
       "      <td>приобретение автомобиля</td>\n",
       "    </tr>\n",
       "    <tr>\n",
       "      <th>2</th>\n",
       "      <td>0</td>\n",
       "      <td>-5623.422610</td>\n",
       "      <td>33</td>\n",
       "      <td>Среднее</td>\n",
       "      <td>1</td>\n",
       "      <td>женат / замужем</td>\n",
       "      <td>0</td>\n",
       "      <td>M</td>\n",
       "      <td>сотрудник</td>\n",
       "      <td>0</td>\n",
       "      <td>145885.952297</td>\n",
       "      <td>покупка жилья</td>\n",
       "    </tr>\n",
       "    <tr>\n",
       "      <th>3</th>\n",
       "      <td>3</td>\n",
       "      <td>-4124.747207</td>\n",
       "      <td>32</td>\n",
       "      <td>среднее</td>\n",
       "      <td>1</td>\n",
       "      <td>женат / замужем</td>\n",
       "      <td>0</td>\n",
       "      <td>M</td>\n",
       "      <td>сотрудник</td>\n",
       "      <td>0</td>\n",
       "      <td>267628.550329</td>\n",
       "      <td>дополнительное образование</td>\n",
       "    </tr>\n",
       "    <tr>\n",
       "      <th>4</th>\n",
       "      <td>0</td>\n",
       "      <td>340266.072047</td>\n",
       "      <td>53</td>\n",
       "      <td>среднее</td>\n",
       "      <td>1</td>\n",
       "      <td>гражданский брак</td>\n",
       "      <td>1</td>\n",
       "      <td>F</td>\n",
       "      <td>пенсионер</td>\n",
       "      <td>0</td>\n",
       "      <td>158616.077870</td>\n",
       "      <td>сыграть свадьбу</td>\n",
       "    </tr>\n",
       "    <tr>\n",
       "      <th>5</th>\n",
       "      <td>0</td>\n",
       "      <td>-926.185831</td>\n",
       "      <td>27</td>\n",
       "      <td>высшее</td>\n",
       "      <td>0</td>\n",
       "      <td>гражданский брак</td>\n",
       "      <td>1</td>\n",
       "      <td>M</td>\n",
       "      <td>компаньон</td>\n",
       "      <td>0</td>\n",
       "      <td>255763.565419</td>\n",
       "      <td>покупка жилья</td>\n",
       "    </tr>\n",
       "    <tr>\n",
       "      <th>6</th>\n",
       "      <td>0</td>\n",
       "      <td>-2879.202052</td>\n",
       "      <td>43</td>\n",
       "      <td>высшее</td>\n",
       "      <td>0</td>\n",
       "      <td>женат / замужем</td>\n",
       "      <td>0</td>\n",
       "      <td>F</td>\n",
       "      <td>компаньон</td>\n",
       "      <td>0</td>\n",
       "      <td>240525.971920</td>\n",
       "      <td>операции с жильем</td>\n",
       "    </tr>\n",
       "    <tr>\n",
       "      <th>7</th>\n",
       "      <td>0</td>\n",
       "      <td>-152.779569</td>\n",
       "      <td>50</td>\n",
       "      <td>СРЕДНЕЕ</td>\n",
       "      <td>1</td>\n",
       "      <td>женат / замужем</td>\n",
       "      <td>0</td>\n",
       "      <td>M</td>\n",
       "      <td>сотрудник</td>\n",
       "      <td>0</td>\n",
       "      <td>135823.934197</td>\n",
       "      <td>образование</td>\n",
       "    </tr>\n",
       "    <tr>\n",
       "      <th>8</th>\n",
       "      <td>2</td>\n",
       "      <td>-6929.865299</td>\n",
       "      <td>35</td>\n",
       "      <td>ВЫСШЕЕ</td>\n",
       "      <td>0</td>\n",
       "      <td>гражданский брак</td>\n",
       "      <td>1</td>\n",
       "      <td>F</td>\n",
       "      <td>сотрудник</td>\n",
       "      <td>0</td>\n",
       "      <td>95856.832424</td>\n",
       "      <td>на проведение свадьбы</td>\n",
       "    </tr>\n",
       "    <tr>\n",
       "      <th>9</th>\n",
       "      <td>0</td>\n",
       "      <td>-2188.756445</td>\n",
       "      <td>41</td>\n",
       "      <td>среднее</td>\n",
       "      <td>1</td>\n",
       "      <td>женат / замужем</td>\n",
       "      <td>0</td>\n",
       "      <td>M</td>\n",
       "      <td>сотрудник</td>\n",
       "      <td>0</td>\n",
       "      <td>144425.938277</td>\n",
       "      <td>покупка жилья для семьи</td>\n",
       "    </tr>\n",
       "    <tr>\n",
       "      <th>10</th>\n",
       "      <td>2</td>\n",
       "      <td>-4171.483647</td>\n",
       "      <td>36</td>\n",
       "      <td>высшее</td>\n",
       "      <td>0</td>\n",
       "      <td>женат / замужем</td>\n",
       "      <td>0</td>\n",
       "      <td>M</td>\n",
       "      <td>компаньон</td>\n",
       "      <td>0</td>\n",
       "      <td>113943.491460</td>\n",
       "      <td>покупка недвижимости</td>\n",
       "    </tr>\n",
       "    <tr>\n",
       "      <th>11</th>\n",
       "      <td>0</td>\n",
       "      <td>-792.701887</td>\n",
       "      <td>40</td>\n",
       "      <td>среднее</td>\n",
       "      <td>1</td>\n",
       "      <td>женат / замужем</td>\n",
       "      <td>0</td>\n",
       "      <td>F</td>\n",
       "      <td>сотрудник</td>\n",
       "      <td>0</td>\n",
       "      <td>77069.234271</td>\n",
       "      <td>покупка коммерческой недвижимости</td>\n",
       "    </tr>\n",
       "    <tr>\n",
       "      <th>12</th>\n",
       "      <td>0</td>\n",
       "      <td>NaN</td>\n",
       "      <td>65</td>\n",
       "      <td>среднее</td>\n",
       "      <td>1</td>\n",
       "      <td>гражданский брак</td>\n",
       "      <td>1</td>\n",
       "      <td>M</td>\n",
       "      <td>пенсионер</td>\n",
       "      <td>0</td>\n",
       "      <td>NaN</td>\n",
       "      <td>сыграть свадьбу</td>\n",
       "    </tr>\n",
       "    <tr>\n",
       "      <th>13</th>\n",
       "      <td>0</td>\n",
       "      <td>-1846.641941</td>\n",
       "      <td>54</td>\n",
       "      <td>неоконченное высшее</td>\n",
       "      <td>2</td>\n",
       "      <td>женат / замужем</td>\n",
       "      <td>0</td>\n",
       "      <td>F</td>\n",
       "      <td>сотрудник</td>\n",
       "      <td>0</td>\n",
       "      <td>130458.228857</td>\n",
       "      <td>приобретение автомобиля</td>\n",
       "    </tr>\n",
       "    <tr>\n",
       "      <th>14</th>\n",
       "      <td>0</td>\n",
       "      <td>-1844.956182</td>\n",
       "      <td>56</td>\n",
       "      <td>высшее</td>\n",
       "      <td>0</td>\n",
       "      <td>гражданский брак</td>\n",
       "      <td>1</td>\n",
       "      <td>F</td>\n",
       "      <td>компаньон</td>\n",
       "      <td>1</td>\n",
       "      <td>165127.911772</td>\n",
       "      <td>покупка жилой недвижимости</td>\n",
       "    </tr>\n",
       "    <tr>\n",
       "      <th>15</th>\n",
       "      <td>1</td>\n",
       "      <td>-972.364419</td>\n",
       "      <td>26</td>\n",
       "      <td>среднее</td>\n",
       "      <td>1</td>\n",
       "      <td>женат / замужем</td>\n",
       "      <td>0</td>\n",
       "      <td>F</td>\n",
       "      <td>сотрудник</td>\n",
       "      <td>0</td>\n",
       "      <td>116820.904450</td>\n",
       "      <td>строительство собственной недвижимости</td>\n",
       "    </tr>\n",
       "    <tr>\n",
       "      <th>16</th>\n",
       "      <td>0</td>\n",
       "      <td>-1719.934226</td>\n",
       "      <td>35</td>\n",
       "      <td>среднее</td>\n",
       "      <td>1</td>\n",
       "      <td>женат / замужем</td>\n",
       "      <td>0</td>\n",
       "      <td>F</td>\n",
       "      <td>сотрудник</td>\n",
       "      <td>0</td>\n",
       "      <td>289202.704229</td>\n",
       "      <td>недвижимость</td>\n",
       "    </tr>\n",
       "    <tr>\n",
       "      <th>17</th>\n",
       "      <td>0</td>\n",
       "      <td>-2369.999720</td>\n",
       "      <td>33</td>\n",
       "      <td>высшее</td>\n",
       "      <td>0</td>\n",
       "      <td>гражданский брак</td>\n",
       "      <td>1</td>\n",
       "      <td>M</td>\n",
       "      <td>сотрудник</td>\n",
       "      <td>0</td>\n",
       "      <td>90410.586745</td>\n",
       "      <td>строительство недвижимости</td>\n",
       "    </tr>\n",
       "    <tr>\n",
       "      <th>18</th>\n",
       "      <td>0</td>\n",
       "      <td>400281.136913</td>\n",
       "      <td>53</td>\n",
       "      <td>среднее</td>\n",
       "      <td>1</td>\n",
       "      <td>вдовец / вдова</td>\n",
       "      <td>2</td>\n",
       "      <td>F</td>\n",
       "      <td>пенсионер</td>\n",
       "      <td>0</td>\n",
       "      <td>56823.777243</td>\n",
       "      <td>на покупку подержанного автомобиля</td>\n",
       "    </tr>\n",
       "    <tr>\n",
       "      <th>19</th>\n",
       "      <td>0</td>\n",
       "      <td>-10038.818549</td>\n",
       "      <td>48</td>\n",
       "      <td>СРЕДНЕЕ</td>\n",
       "      <td>1</td>\n",
       "      <td>в разводе</td>\n",
       "      <td>3</td>\n",
       "      <td>F</td>\n",
       "      <td>сотрудник</td>\n",
       "      <td>0</td>\n",
       "      <td>242831.107982</td>\n",
       "      <td>на покупку своего автомобиля</td>\n",
       "    </tr>\n",
       "  </tbody>\n",
       "</table>\n",
       "</div>"
      ],
      "text/plain": [
       "    children  days_employed  dob_years            education  education_id  \\\n",
       "0          1   -8437.673028         42               высшее             0   \n",
       "1          1   -4024.803754         36              среднее             1   \n",
       "2          0   -5623.422610         33              Среднее             1   \n",
       "3          3   -4124.747207         32              среднее             1   \n",
       "4          0  340266.072047         53              среднее             1   \n",
       "5          0    -926.185831         27               высшее             0   \n",
       "6          0   -2879.202052         43               высшее             0   \n",
       "7          0    -152.779569         50              СРЕДНЕЕ             1   \n",
       "8          2   -6929.865299         35               ВЫСШЕЕ             0   \n",
       "9          0   -2188.756445         41              среднее             1   \n",
       "10         2   -4171.483647         36               высшее             0   \n",
       "11         0    -792.701887         40              среднее             1   \n",
       "12         0            NaN         65              среднее             1   \n",
       "13         0   -1846.641941         54  неоконченное высшее             2   \n",
       "14         0   -1844.956182         56               высшее             0   \n",
       "15         1    -972.364419         26              среднее             1   \n",
       "16         0   -1719.934226         35              среднее             1   \n",
       "17         0   -2369.999720         33               высшее             0   \n",
       "18         0  400281.136913         53              среднее             1   \n",
       "19         0  -10038.818549         48              СРЕДНЕЕ             1   \n",
       "\n",
       "       family_status  family_status_id gender income_type  debt  \\\n",
       "0    женат / замужем                 0      F   сотрудник     0   \n",
       "1    женат / замужем                 0      F   сотрудник     0   \n",
       "2    женат / замужем                 0      M   сотрудник     0   \n",
       "3    женат / замужем                 0      M   сотрудник     0   \n",
       "4   гражданский брак                 1      F   пенсионер     0   \n",
       "5   гражданский брак                 1      M   компаньон     0   \n",
       "6    женат / замужем                 0      F   компаньон     0   \n",
       "7    женат / замужем                 0      M   сотрудник     0   \n",
       "8   гражданский брак                 1      F   сотрудник     0   \n",
       "9    женат / замужем                 0      M   сотрудник     0   \n",
       "10   женат / замужем                 0      M   компаньон     0   \n",
       "11   женат / замужем                 0      F   сотрудник     0   \n",
       "12  гражданский брак                 1      M   пенсионер     0   \n",
       "13   женат / замужем                 0      F   сотрудник     0   \n",
       "14  гражданский брак                 1      F   компаньон     1   \n",
       "15   женат / замужем                 0      F   сотрудник     0   \n",
       "16   женат / замужем                 0      F   сотрудник     0   \n",
       "17  гражданский брак                 1      M   сотрудник     0   \n",
       "18    вдовец / вдова                 2      F   пенсионер     0   \n",
       "19         в разводе                 3      F   сотрудник     0   \n",
       "\n",
       "     total_income                                 purpose  \n",
       "0   253875.639453                           покупка жилья  \n",
       "1   112080.014102                 приобретение автомобиля  \n",
       "2   145885.952297                           покупка жилья  \n",
       "3   267628.550329              дополнительное образование  \n",
       "4   158616.077870                         сыграть свадьбу  \n",
       "5   255763.565419                           покупка жилья  \n",
       "6   240525.971920                       операции с жильем  \n",
       "7   135823.934197                             образование  \n",
       "8    95856.832424                   на проведение свадьбы  \n",
       "9   144425.938277                 покупка жилья для семьи  \n",
       "10  113943.491460                    покупка недвижимости  \n",
       "11   77069.234271       покупка коммерческой недвижимости  \n",
       "12            NaN                         сыграть свадьбу  \n",
       "13  130458.228857                 приобретение автомобиля  \n",
       "14  165127.911772              покупка жилой недвижимости  \n",
       "15  116820.904450  строительство собственной недвижимости  \n",
       "16  289202.704229                            недвижимость  \n",
       "17   90410.586745              строительство недвижимости  \n",
       "18   56823.777243      на покупку подержанного автомобиля  \n",
       "19  242831.107982            на покупку своего автомобиля  "
      ]
     },
     "execution_count": 3,
     "metadata": {},
     "output_type": "execute_result"
    }
   ],
   "source": [
    "data.head(20)"
   ]
  },
  {
   "cell_type": "markdown",
   "id": "0ed8f27f",
   "metadata": {
    "deletable": false,
    "editable": false,
    "id": "0ed8f27f"
   },
   "source": [
    "**Задание 3. Выведите основную информацию о датафрейме с помощью метода `info()`.**"
   ]
  },
  {
   "cell_type": "code",
   "execution_count": 4,
   "id": "ab3f863b",
   "metadata": {
    "deletable": false,
    "id": "ab3f863b",
    "outputId": "15376089-8dad-46c9-b520-c05248d43158"
   },
   "outputs": [
    {
     "name": "stdout",
     "output_type": "stream",
     "text": [
      "<class 'pandas.core.frame.DataFrame'>\n",
      "RangeIndex: 21525 entries, 0 to 21524\n",
      "Data columns (total 12 columns):\n",
      " #   Column            Non-Null Count  Dtype  \n",
      "---  ------            --------------  -----  \n",
      " 0   children          21525 non-null  int64  \n",
      " 1   days_employed     19351 non-null  float64\n",
      " 2   dob_years         21525 non-null  int64  \n",
      " 3   education         21525 non-null  object \n",
      " 4   education_id      21525 non-null  int64  \n",
      " 5   family_status     21525 non-null  object \n",
      " 6   family_status_id  21525 non-null  int64  \n",
      " 7   gender            21525 non-null  object \n",
      " 8   income_type       21525 non-null  object \n",
      " 9   debt              21525 non-null  int64  \n",
      " 10  total_income      19351 non-null  float64\n",
      " 11  purpose           21525 non-null  object \n",
      "dtypes: float64(2), int64(5), object(5)\n",
      "memory usage: 2.0+ MB\n"
     ]
    }
   ],
   "source": [
    "data.info()"
   ]
  },
  {
   "cell_type": "markdown",
   "id": "60e3e22d",
   "metadata": {
    "deletable": false,
    "editable": false,
    "id": "60e3e22d"
   },
   "source": [
    "## Предобработка данных"
   ]
  },
  {
   "cell_type": "markdown",
   "id": "03dc170c",
   "metadata": {
    "deletable": false,
    "editable": false,
    "id": "03dc170c"
   },
   "source": [
    "### Удаление пропусков"
   ]
  },
  {
   "cell_type": "markdown",
   "id": "a4f54eef",
   "metadata": {
    "deletable": false,
    "editable": false,
    "id": "a4f54eef"
   },
   "source": [
    "**Задание 4. Выведите количество пропущенных значений для каждого столбца. Используйте комбинацию двух методов.**"
   ]
  },
  {
   "cell_type": "code",
   "execution_count": 5,
   "id": "2dc372b2",
   "metadata": {
    "deletable": false,
    "id": "2dc372b2",
    "outputId": "81f4d817-781c-465c-ed15-91ce4446810d"
   },
   "outputs": [
    {
     "data": {
      "text/plain": [
       "children               0\n",
       "days_employed       2174\n",
       "dob_years              0\n",
       "education              0\n",
       "education_id           0\n",
       "family_status          0\n",
       "family_status_id       0\n",
       "gender                 0\n",
       "income_type            0\n",
       "debt                   0\n",
       "total_income        2174\n",
       "purpose                0\n",
       "dtype: int64"
      ]
     },
     "execution_count": 5,
     "metadata": {},
     "output_type": "execute_result"
    }
   ],
   "source": [
    "data.isna().sum()"
   ]
  },
  {
   "cell_type": "markdown",
   "id": "14f011b1",
   "metadata": {
    "deletable": false,
    "editable": false,
    "id": "14f011b1"
   },
   "source": [
    "**Задание 5. В двух столбцах есть пропущенные значения. Один из них — `days_employed`. Пропуски в этом столбце вы обработаете на следующем этапе. Другой столбец с пропущенными значениями — `total_income` — хранит данные о доходах. На сумму дохода сильнее всего влияет тип занятости, поэтому заполнить пропуски в этом столбце нужно медианным значением по каждому типу из столбца `income_type`. Например, у человека с типом занятости `сотрудник` пропуск в столбце `total_income` должен быть заполнен медианным доходом среди всех записей с тем же типом.**"
   ]
  },
  {
   "cell_type": "code",
   "execution_count": 6,
   "id": "bdabfb6e",
   "metadata": {
    "deletable": false,
    "id": "bdabfb6e"
   },
   "outputs": [],
   "source": [
    "for t in data['income_type'].unique():\n",
    "    data.loc[(data['income_type'] == t) & (data['total_income'].isna()), 'total_income'] = \\\n",
    "    data.loc[(data['income_type'] == t), 'total_income'].median()"
   ]
  },
  {
   "cell_type": "markdown",
   "id": "5be34059",
   "metadata": {
    "deletable": false,
    "editable": false,
    "id": "5be34059"
   },
   "source": [
    "### Обработка аномальных значений"
   ]
  },
  {
   "cell_type": "markdown",
   "id": "a87606cb",
   "metadata": {
    "deletable": false,
    "editable": false,
    "id": "a87606cb"
   },
   "source": [
    "**Задание 6. В данных могут встречаться артефакты (аномалии) — значения, которые не отражают действительность и появились по какой-то ошибке. таким артефактом будет отрицательное количество дней трудового стажа в столбце `days_employed`. Для реальных данных это нормально. Обработайте значения в этом столбце: замените все отрицательные значения положительными с помощью метода `abs()`.**"
   ]
  },
  {
   "cell_type": "code",
   "execution_count": 7,
   "id": "020c46cc",
   "metadata": {
    "deletable": false,
    "id": "020c46cc"
   },
   "outputs": [],
   "source": [
    "data['days_employed'] = data['days_employed'].abs()"
   ]
  },
  {
   "cell_type": "markdown",
   "id": "45538a3a",
   "metadata": {
    "deletable": false,
    "editable": false,
    "id": "45538a3a"
   },
   "source": [
    "**Задание 7. Для каждого типа занятости выведите медианное значение трудового стажа `days_employed` в днях.**"
   ]
  },
  {
   "cell_type": "code",
   "execution_count": 8,
   "id": "cd3e6328",
   "metadata": {
    "deletable": false,
    "id": "cd3e6328",
    "outputId": "801ef80e-522b-4668-f34e-565af7432bcf"
   },
   "outputs": [
    {
     "data": {
      "text/plain": [
       "income_type\n",
       "безработный        366413.652744\n",
       "в декрете            3296.759962\n",
       "госслужащий          2689.368353\n",
       "компаньон            1547.382223\n",
       "пенсионер          365213.306266\n",
       "предприниматель       520.848083\n",
       "сотрудник            1574.202821\n",
       "студент               578.751554\n",
       "Name: days_employed, dtype: float64"
      ]
     },
     "execution_count": 8,
     "metadata": {},
     "output_type": "execute_result"
    }
   ],
   "source": [
    "data.groupby('income_type')['days_employed'].agg('median')"
   ]
  },
  {
   "cell_type": "markdown",
   "id": "90c5f058",
   "metadata": {
    "deletable": false,
    "editable": false,
    "id": "90c5f058"
   },
   "source": [
    "У двух типов (безработные и пенсионеры) получатся аномально большие значения. Исправить такие значения сложно, поэтому оставьте их как есть."
   ]
  },
  {
   "cell_type": "markdown",
   "id": "9652e50d",
   "metadata": {
    "deletable": false,
    "editable": false,
    "id": "9652e50d"
   },
   "source": [
    "**Задание 8. Выведите перечень уникальных значений столбца `children`.**"
   ]
  },
  {
   "cell_type": "code",
   "execution_count": 9,
   "id": "dbb37b8e",
   "metadata": {
    "deletable": false,
    "id": "dbb37b8e",
    "outputId": "6975b15c-7f95-4697-d16d-a0c79b657b03"
   },
   "outputs": [
    {
     "data": {
      "text/plain": [
       "array([ 1,  0,  3,  2, -1,  4, 20,  5])"
      ]
     },
     "execution_count": 9,
     "metadata": {},
     "output_type": "execute_result"
    }
   ],
   "source": [
    "data['children'].unique()"
   ]
  },
  {
   "cell_type": "markdown",
   "id": "2b8b0715",
   "metadata": {
    "deletable": false,
    "editable": false,
    "id": "2b8b0715"
   },
   "source": [
    "**Задание 9. В столбце `children` есть два аномальных значения. Удалите строки, в которых встречаются такие аномальные значения из датафрейма `data`.**"
   ]
  },
  {
   "cell_type": "code",
   "execution_count": 10,
   "id": "20009df8",
   "metadata": {
    "deletable": false,
    "id": "20009df8"
   },
   "outputs": [],
   "source": [
    "data = data[(data['children'] != -1) & (data['children'] != 20)]"
   ]
  },
  {
   "cell_type": "markdown",
   "id": "8c6ac9f1",
   "metadata": {
    "deletable": false,
    "editable": false,
    "id": "8c6ac9f1"
   },
   "source": [
    "**Задание 10. Ещё раз выведите перечень уникальных значений столбца `children`, чтобы убедиться, что артефакты удалены.**"
   ]
  },
  {
   "cell_type": "code",
   "execution_count": 11,
   "id": "07337b81",
   "metadata": {
    "deletable": false,
    "id": "07337b81",
    "outputId": "b2097101-d49d-44d9-901b-32a65c9463d1"
   },
   "outputs": [
    {
     "data": {
      "text/plain": [
       "array([1, 0, 3, 2, 4, 5])"
      ]
     },
     "execution_count": 11,
     "metadata": {},
     "output_type": "execute_result"
    }
   ],
   "source": [
    "data['children'].unique()"
   ]
  },
  {
   "cell_type": "markdown",
   "id": "ee3f52d4",
   "metadata": {
    "deletable": false,
    "editable": false,
    "id": "ee3f52d4"
   },
   "source": [
    "### Удаление пропусков (продолжение)"
   ]
  },
  {
   "cell_type": "markdown",
   "id": "a700b0e4",
   "metadata": {
    "deletable": false,
    "editable": false,
    "id": "a700b0e4"
   },
   "source": [
    "**Задание 11. Заполните пропуски в столбце `days_employed` медианными значениями по каждого типа занятости `income_type`.**"
   ]
  },
  {
   "cell_type": "code",
   "execution_count": 12,
   "id": "61946b83",
   "metadata": {
    "deletable": false,
    "id": "61946b83"
   },
   "outputs": [],
   "source": [
    "for t in data['income_type'].unique():\n",
    "    data.loc[(data['income_type'] == t) & (data['days_employed'].isna()), 'days_employed'] = \\\n",
    "    data.loc[(data['income_type'] == t), 'days_employed'].median()"
   ]
  },
  {
   "cell_type": "markdown",
   "id": "550dcd9b",
   "metadata": {
    "deletable": false,
    "editable": false,
    "id": "550dcd9b"
   },
   "source": [
    "**Задание 12. Убедитесь, что все пропуски заполнены. Проверьте себя и ещё раз выведите количество пропущенных значений для каждого столбца с помощью двух методов.**"
   ]
  },
  {
   "cell_type": "code",
   "execution_count": 13,
   "id": "937c7014",
   "metadata": {
    "deletable": false,
    "id": "937c7014",
    "outputId": "8da1e4e1-358e-4e87-98c9-f261bce0a7b2"
   },
   "outputs": [
    {
     "data": {
      "text/plain": [
       "children            0\n",
       "days_employed       0\n",
       "dob_years           0\n",
       "education           0\n",
       "education_id        0\n",
       "family_status       0\n",
       "family_status_id    0\n",
       "gender              0\n",
       "income_type         0\n",
       "debt                0\n",
       "total_income        0\n",
       "purpose             0\n",
       "dtype: int64"
      ]
     },
     "execution_count": 13,
     "metadata": {},
     "output_type": "execute_result"
    }
   ],
   "source": [
    "data.isna().sum()"
   ]
  },
  {
   "cell_type": "markdown",
   "id": "d522e295",
   "metadata": {
    "deletable": false,
    "editable": false,
    "id": "d522e295"
   },
   "source": [
    "### Изменение типов данных"
   ]
  },
  {
   "cell_type": "markdown",
   "id": "c229c581",
   "metadata": {
    "deletable": false,
    "editable": false,
    "id": "c229c581"
   },
   "source": [
    "**Задание 13. Замените вещественный тип данных в столбце `total_income` на целочисленный с помощью метода `astype()`.**"
   ]
  },
  {
   "cell_type": "code",
   "execution_count": 14,
   "id": "31036462",
   "metadata": {
    "deletable": false,
    "id": "31036462"
   },
   "outputs": [],
   "source": [
    "data['total_income'] = data['total_income'].astype(int)"
   ]
  },
  {
   "cell_type": "markdown",
   "id": "b8e3d1d9",
   "metadata": {
    "deletable": false,
    "editable": false,
    "id": "b8e3d1d9"
   },
   "source": [
    "### Обработка дубликатов"
   ]
  },
  {
   "cell_type": "markdown",
   "id": "9be53c49",
   "metadata": {
    "deletable": false,
    "editable": false,
    "id": "9be53c49"
   },
   "source": [
    "**Задание 14. Обработайте неявные дубликаты в столбце `education`. В этом столбце есть одни и те же значения, но записанные по-разному: с использованием заглавных и строчных букв. Приведите их к нижнему регистру.**"
   ]
  },
  {
   "cell_type": "code",
   "execution_count": 15,
   "id": "d89e73e1",
   "metadata": {
    "deletable": false,
    "id": "d89e73e1"
   },
   "outputs": [],
   "source": [
    "data['education'] = data['education'].str.lower()"
   ]
  },
  {
   "cell_type": "markdown",
   "id": "01d4500e",
   "metadata": {
    "deletable": false,
    "editable": false,
    "id": "01d4500e"
   },
   "source": [
    "**Задание 15. Выведите на экран количество строк-дубликатов в данных. Если такие строки присутствуют, удалите их.**"
   ]
  },
  {
   "cell_type": "code",
   "execution_count": 16,
   "id": "e10efb23",
   "metadata": {
    "deletable": false,
    "id": "e10efb23",
    "outputId": "9684deba-1934-42d1-99e1-cda61740f822"
   },
   "outputs": [
    {
     "data": {
      "text/plain": [
       "71"
      ]
     },
     "execution_count": 16,
     "metadata": {},
     "output_type": "execute_result"
    }
   ],
   "source": [
    "data.duplicated().sum()"
   ]
  },
  {
   "cell_type": "code",
   "execution_count": 17,
   "id": "df853f20",
   "metadata": {
    "deletable": false,
    "id": "df853f20"
   },
   "outputs": [],
   "source": [
    "data = data.drop_duplicates()"
   ]
  },
  {
   "cell_type": "markdown",
   "id": "627be38f",
   "metadata": {
    "deletable": false,
    "editable": false,
    "id": "627be38f"
   },
   "source": [
    "### Категоризация данных"
   ]
  },
  {
   "cell_type": "markdown",
   "id": "4684c3e0",
   "metadata": {
    "deletable": false,
    "editable": false,
    "id": "4684c3e0"
   },
   "source": [
    "**Задание 16. На основании диапазонов, указанных ниже, создайте в датафрейме `data` столбец `total_income_category` с категориями:**\n",
    "\n",
    "- 0–30000 — `'E'`;\n",
    "- 30001–50000 — `'D'`;\n",
    "- 50001–200000 — `'C'`;\n",
    "- 200001–1000000 — `'B'`;\n",
    "- 1000001 и выше — `'A'`.\n",
    "\n",
    "\n",
    "**Например, кредитополучателю с доходом 25000 нужно назначить категорию `'E'`, а клиенту, получающему 235000, — `'B'`. Используйте собственную функцию с именем `categorize_income()` и метод `apply()`.**"
   ]
  },
  {
   "cell_type": "code",
   "execution_count": 18,
   "id": "78965238",
   "metadata": {
    "deletable": false,
    "id": "78965238"
   },
   "outputs": [],
   "source": [
    "def categorize_income(income):\n",
    "    try:\n",
    "        if 0 <= income <= 30000:\n",
    "            return 'E'\n",
    "        elif 30001 <= income <= 50000:\n",
    "            return 'D'\n",
    "        elif 50001 <= income <= 200000:\n",
    "            return 'C'\n",
    "        elif 200001 <= income <= 1000000:\n",
    "            return 'B'\n",
    "        elif income >= 1000001:\n",
    "            return 'A'\n",
    "    except:\n",
    "        pass"
   ]
  },
  {
   "cell_type": "code",
   "execution_count": 19,
   "id": "0980ada1",
   "metadata": {
    "deletable": false,
    "id": "0980ada1"
   },
   "outputs": [],
   "source": [
    "data['total_income_category'] = data['total_income'].apply(categorize_income)"
   ]
  },
  {
   "cell_type": "markdown",
   "id": "9917bba0",
   "metadata": {
    "deletable": false,
    "editable": false,
    "id": "9917bba0"
   },
   "source": [
    "**Задание 17. Выведите на экран перечень уникальных целей взятия кредита из столбца `purpose`.**"
   ]
  },
  {
   "cell_type": "code",
   "execution_count": 20,
   "id": "ee07b65e",
   "metadata": {
    "deletable": false,
    "id": "ee07b65e",
    "outputId": "673c12d9-7d7e-4ae0-9812-c622c89dd244"
   },
   "outputs": [
    {
     "data": {
      "text/plain": [
       "array(['покупка жилья', 'приобретение автомобиля',\n",
       "       'дополнительное образование', 'сыграть свадьбу',\n",
       "       'операции с жильем', 'образование', 'на проведение свадьбы',\n",
       "       'покупка жилья для семьи', 'покупка недвижимости',\n",
       "       'покупка коммерческой недвижимости', 'покупка жилой недвижимости',\n",
       "       'строительство собственной недвижимости', 'недвижимость',\n",
       "       'строительство недвижимости', 'на покупку подержанного автомобиля',\n",
       "       'на покупку своего автомобиля',\n",
       "       'операции с коммерческой недвижимостью',\n",
       "       'строительство жилой недвижимости', 'жилье',\n",
       "       'операции со своей недвижимостью', 'автомобили',\n",
       "       'заняться образованием', 'сделка с подержанным автомобилем',\n",
       "       'получение образования', 'автомобиль', 'свадьба',\n",
       "       'получение дополнительного образования', 'покупка своего жилья',\n",
       "       'операции с недвижимостью', 'получение высшего образования',\n",
       "       'свой автомобиль', 'сделка с автомобилем',\n",
       "       'профильное образование', 'высшее образование',\n",
       "       'покупка жилья для сдачи', 'на покупку автомобиля', 'ремонт жилью',\n",
       "       'заняться высшим образованием'], dtype=object)"
      ]
     },
     "execution_count": 20,
     "metadata": {},
     "output_type": "execute_result"
    }
   ],
   "source": [
    "data['purpose'].unique()"
   ]
  },
  {
   "cell_type": "markdown",
   "id": "52b79d56",
   "metadata": {
    "deletable": false,
    "editable": false,
    "id": "52b79d56"
   },
   "source": [
    "**Задание 18. Создайте функцию, которая на основании данных из столбца `purpose` сформирует новый столбец `purpose_category`, в который войдут следующие категории:**\n",
    "\n",
    "- `'операции с автомобилем'`,\n",
    "- `'операции с недвижимостью'`,\n",
    "- `'проведение свадьбы'`,\n",
    "- `'получение образования'`.\n",
    "\n",
    "**Например, если в столбце `purpose` находится подстрока `'на покупку автомобиля'`, то в столбце `purpose_category` должна появиться строка `'операции с автомобилем'`.**\n",
    "\n",
    "**Используйте собственную функцию с именем `categorize_purpose()` и метод `apply()`. Изучите данные в столбце `purpose` и определите, какие подстроки помогут вам правильно определить категорию.**"
   ]
  },
  {
   "cell_type": "code",
   "execution_count": 21,
   "id": "be41da5d",
   "metadata": {
    "deletable": false,
    "id": "be41da5d"
   },
   "outputs": [],
   "source": [
    "def categorize_purpose(row):\n",
    "    try:\n",
    "        if 'автом' in row:\n",
    "            return 'операции с автомобилем'\n",
    "        elif 'жил' in row or 'недвиж' in row:\n",
    "            return 'операции с недвижимостью'\n",
    "        elif 'свад' in row:\n",
    "            return 'проведение свадьбы'\n",
    "        elif 'образов' in row:\n",
    "            return 'получение образования'\n",
    "    except:\n",
    "        return 'нет категории'"
   ]
  },
  {
   "cell_type": "code",
   "execution_count": 22,
   "id": "94c4a19a",
   "metadata": {
    "deletable": false,
    "id": "94c4a19a"
   },
   "outputs": [
    {
     "name": "stdout",
     "output_type": "stream",
     "text": [
      "    children  days_employed  dob_years            education  education_id  \\\n",
      "0          1    8437.673028         42               высшее             0   \n",
      "1          1    4024.803754         36              среднее             1   \n",
      "2          0    5623.422610         33              среднее             1   \n",
      "3          3    4124.747207         32              среднее             1   \n",
      "4          0  340266.072047         53              среднее             1   \n",
      "5          0     926.185831         27               высшее             0   \n",
      "6          0    2879.202052         43               высшее             0   \n",
      "7          0     152.779569         50              среднее             1   \n",
      "8          2    6929.865299         35               высшее             0   \n",
      "9          0    2188.756445         41              среднее             1   \n",
      "10         2    4171.483647         36               высшее             0   \n",
      "11         0     792.701887         40              среднее             1   \n",
      "12         0  365286.622650         65              среднее             1   \n",
      "13         0    1846.641941         54  неоконченное высшее             2   \n",
      "14         0    1844.956182         56               высшее             0   \n",
      "15         1     972.364419         26              среднее             1   \n",
      "16         0    1719.934226         35              среднее             1   \n",
      "17         0    2369.999720         33               высшее             0   \n",
      "18         0  400281.136913         53              среднее             1   \n",
      "19         0   10038.818549         48              среднее             1   \n",
      "\n",
      "       family_status  family_status_id gender income_type  debt  total_income  \\\n",
      "0    женат / замужем                 0      F   сотрудник     0        253875   \n",
      "1    женат / замужем                 0      F   сотрудник     0        112080   \n",
      "2    женат / замужем                 0      M   сотрудник     0        145885   \n",
      "3    женат / замужем                 0      M   сотрудник     0        267628   \n",
      "4   гражданский брак                 1      F   пенсионер     0        158616   \n",
      "5   гражданский брак                 1      M   компаньон     0        255763   \n",
      "6    женат / замужем                 0      F   компаньон     0        240525   \n",
      "7    женат / замужем                 0      M   сотрудник     0        135823   \n",
      "8   гражданский брак                 1      F   сотрудник     0         95856   \n",
      "9    женат / замужем                 0      M   сотрудник     0        144425   \n",
      "10   женат / замужем                 0      M   компаньон     0        113943   \n",
      "11   женат / замужем                 0      F   сотрудник     0         77069   \n",
      "12  гражданский брак                 1      M   пенсионер     0        118514   \n",
      "13   женат / замужем                 0      F   сотрудник     0        130458   \n",
      "14  гражданский брак                 1      F   компаньон     1        165127   \n",
      "15   женат / замужем                 0      F   сотрудник     0        116820   \n",
      "16   женат / замужем                 0      F   сотрудник     0        289202   \n",
      "17  гражданский брак                 1      M   сотрудник     0         90410   \n",
      "18    вдовец / вдова                 2      F   пенсионер     0         56823   \n",
      "19         в разводе                 3      F   сотрудник     0        242831   \n",
      "\n",
      "                                   purpose total_income_category  \\\n",
      "0                            покупка жилья                     B   \n",
      "1                  приобретение автомобиля                     C   \n",
      "2                            покупка жилья                     C   \n",
      "3               дополнительное образование                     B   \n",
      "4                          сыграть свадьбу                     C   \n",
      "5                            покупка жилья                     B   \n",
      "6                        операции с жильем                     B   \n",
      "7                              образование                     C   \n",
      "8                    на проведение свадьбы                     C   \n",
      "9                  покупка жилья для семьи                     C   \n",
      "10                    покупка недвижимости                     C   \n",
      "11       покупка коммерческой недвижимости                     C   \n",
      "12                         сыграть свадьбу                     C   \n",
      "13                 приобретение автомобиля                     C   \n",
      "14              покупка жилой недвижимости                     C   \n",
      "15  строительство собственной недвижимости                     C   \n",
      "16                            недвижимость                     B   \n",
      "17              строительство недвижимости                     C   \n",
      "18      на покупку подержанного автомобиля                     C   \n",
      "19            на покупку своего автомобиля                     B   \n",
      "\n",
      "            purpose_category  \n",
      "0   операции с недвижимостью  \n",
      "1     операции с автомобилем  \n",
      "2   операции с недвижимостью  \n",
      "3      получение образования  \n",
      "4         проведение свадьбы  \n",
      "5   операции с недвижимостью  \n",
      "6   операции с недвижимостью  \n",
      "7      получение образования  \n",
      "8         проведение свадьбы  \n",
      "9   операции с недвижимостью  \n",
      "10  операции с недвижимостью  \n",
      "11  операции с недвижимостью  \n",
      "12        проведение свадьбы  \n",
      "13    операции с автомобилем  \n",
      "14  операции с недвижимостью  \n",
      "15  операции с недвижимостью  \n",
      "16  операции с недвижимостью  \n",
      "17  операции с недвижимостью  \n",
      "18    операции с автомобилем  \n",
      "19    операции с автомобилем  \n"
     ]
    }
   ],
   "source": [
    "data['purpose_category'] = data['purpose'].apply(categorize_purpose)\n",
    "print(data.head(20))"
   ]
  },
  {
   "cell_type": "markdown",
   "id": "3d596c34",
   "metadata": {
    "deletable": false,
    "editable": false,
    "id": "3d596c34"
   },
   "source": [
    "### Шаг 3. Исследуйте данные и ответьте на вопросы"
   ]
  },
  {
   "cell_type": "markdown",
   "id": "648db036",
   "metadata": {
    "deletable": false,
    "editable": false,
    "id": "648db036"
   },
   "source": [
    "#### 3.1 Есть ли зависимость между количеством детей и возвратом кредита в срок?"
   ]
  },
  {
   "cell_type": "code",
   "execution_count": 61,
   "id": "7fcff25e",
   "metadata": {
    "deletable": false,
    "id": "7fcff25e"
   },
   "outputs": [
    {
     "data": {
      "text/html": [
       "<div>\n",
       "<style scoped>\n",
       "    .dataframe tbody tr th:only-of-type {\n",
       "        vertical-align: middle;\n",
       "    }\n",
       "\n",
       "    .dataframe tbody tr th {\n",
       "        vertical-align: top;\n",
       "    }\n",
       "\n",
       "    .dataframe thead tr th {\n",
       "        text-align: left;\n",
       "    }\n",
       "\n",
       "    .dataframe thead tr:last-of-type th {\n",
       "        text-align: right;\n",
       "    }\n",
       "</style>\n",
       "<table border=\"1\" class=\"dataframe\">\n",
       "  <thead>\n",
       "    <tr>\n",
       "      <th></th>\n",
       "      <th>count</th>\n",
       "      <th>mean</th>\n",
       "      <th>ratio</th>\n",
       "    </tr>\n",
       "    <tr>\n",
       "      <th></th>\n",
       "      <th>debt</th>\n",
       "      <th>debt</th>\n",
       "      <th></th>\n",
       "    </tr>\n",
       "    <tr>\n",
       "      <th>children</th>\n",
       "      <th></th>\n",
       "      <th></th>\n",
       "      <th></th>\n",
       "    </tr>\n",
       "  </thead>\n",
       "  <tbody>\n",
       "    <tr>\n",
       "      <th>0</th>\n",
       "      <td>14091</td>\n",
       "      <td>0.075438</td>\n",
       "      <td>66.058788</td>\n",
       "    </tr>\n",
       "    <tr>\n",
       "      <th>1</th>\n",
       "      <td>4808</td>\n",
       "      <td>0.092346</td>\n",
       "      <td>22.539965</td>\n",
       "    </tr>\n",
       "    <tr>\n",
       "      <th>2</th>\n",
       "      <td>2052</td>\n",
       "      <td>0.094542</td>\n",
       "      <td>9.619802</td>\n",
       "    </tr>\n",
       "    <tr>\n",
       "      <th>3</th>\n",
       "      <td>330</td>\n",
       "      <td>0.081818</td>\n",
       "      <td>1.547044</td>\n",
       "    </tr>\n",
       "    <tr>\n",
       "      <th>4</th>\n",
       "      <td>41</td>\n",
       "      <td>0.097561</td>\n",
       "      <td>0.192209</td>\n",
       "    </tr>\n",
       "    <tr>\n",
       "      <th>5</th>\n",
       "      <td>9</td>\n",
       "      <td>0.000000</td>\n",
       "      <td>0.042192</td>\n",
       "    </tr>\n",
       "  </tbody>\n",
       "</table>\n",
       "</div>"
      ],
      "text/plain": [
       "          count      mean      ratio\n",
       "           debt      debt           \n",
       "children                            \n",
       "0         14091  0.075438  66.058788\n",
       "1          4808  0.092346  22.539965\n",
       "2          2052  0.094542   9.619802\n",
       "3           330  0.081818   1.547044\n",
       "4            41  0.097561   0.192209\n",
       "5             9  0.000000   0.042192"
      ]
     },
     "execution_count": 61,
     "metadata": {},
     "output_type": "execute_result"
    }
   ],
   "source": [
    "#выводим кол-во людей сгруппированые по кол-ву детей\n",
    "# + выводим процентное соотнощение людей не выплативщие кредит, сгруппированые по кол-ву детей\n",
    "pivot_сhildren = data.pivot_table(index=['children'], values='debt', aggfunc=['count', 'mean'])\n",
    "\n",
    "#добавляем столбец процентное соотнощение людей по кол-ву детей\n",
    "pivot_сhildren['ratio'] = pivot_сhildren[('count', 'debt')]/data['debt'].count()*100\n",
    "pivot_сhildren"
   ]
  },
  {
   "cell_type": "code",
   "execution_count": null,
   "id": "d6c16c1e",
   "metadata": {},
   "outputs": [],
   "source": []
  },
  {
   "cell_type": "code",
   "execution_count": 58,
   "id": "f765977a",
   "metadata": {},
   "outputs": [],
   "source": [
    "#1. Видим что кол-во клиентов у которых детей 3 и более составляет меньше 2% от общего количества \n",
    "# значит выгрузка процентного показателя, не выплативших кредит из этих групп, не репрезентативна."
   ]
  },
  {
   "cell_type": "code",
   "execution_count": 59,
   "id": "438e79a2",
   "metadata": {},
   "outputs": [],
   "source": [
    "#выводим процентное соотнощение людей не выплативщие кредит, сгруппированые по кол-ву детей\n",
    "# pivot_children_debt = data.pivot_table(index=['children'], values='debt', aggfunc='mean')*100\n",
    "# pivot_children_debt.rename(columns = {'debt': 'neviplativshie_%'}, inplace = True)\n"
   ]
  },
  {
   "cell_type": "code",
   "execution_count": 26,
   "id": "d5521c85",
   "metadata": {},
   "outputs": [
    {
     "name": "stdout",
     "output_type": "stream",
     "text": [
      "процент не выплат кредита у заемщиков без детей 7.543822297920659 %\n",
      "процент не выплат кредита у заемщиков с одним ребенком 9.234608985024959 %\n",
      "процент не выплат кредита у заемщиков с двумя детьми и болee 9.251644736842106 %\n"
     ]
    }
   ],
   "source": [
    "# Целесообразно ли объединить группы людей с двумя и более детьми в одну? \n",
    "\n",
    "debt_without_children = data[data['children'] == 0]['debt'].mean()*100\n",
    "debt_with_children_1 = data[data['children'] == 1]['debt'].mean()*100\n",
    "debt_with_children_2 = data[data['children'] >= 2]['debt'].mean()*100\n",
    "\n",
    "print('процент не выплат кредита у заемщиков без детей',debt_without_children, '%')\n",
    "print('процент не выплат кредита у заемщиков с одним ребенком', debt_with_children_1, '%')\n",
    "print('процент не выплат кредита у заемщиков с двумя детьми и болee', debt_with_children_2, '%')"
   ]
  },
  {
   "cell_type": "markdown",
   "id": "2eb9088e",
   "metadata": {
    "deletable": false,
    "id": "2eb9088e"
   },
   "source": [
    "**Вывод:** 1. Видим что кол-во людей у которых детей 3 и болeе составляет меньше 2% от общего количества, значит выгрузка процентного показателя не выплативших кредит из этой группы не репрезентативна.\n",
    "2. Бездетные одладают большей кредитоспособностью"
   ]
  },
  {
   "cell_type": "markdown",
   "id": "74c9b3a7",
   "metadata": {
    "deletable": false,
    "editable": false,
    "id": "74c9b3a7"
   },
   "source": [
    "#### 3.2 Есть ли зависимость между семейным положением и возвратом кредита в срок?"
   ]
  },
  {
   "cell_type": "code",
   "execution_count": 27,
   "id": "8098ab3b",
   "metadata": {
    "deletable": false,
    "id": "8098ab3b"
   },
   "outputs": [
    {
     "name": "stdout",
     "output_type": "stream",
     "text": [
      "                       neviplativshie_%\n",
      "family_status                          \n",
      "Не женат / не замужем          9.763948\n",
      "в разводе                      7.064760\n",
      "вдовец / вдова                 6.624606\n",
      "гражданский брак               9.313014\n",
      "женат / замужем                7.560558\n"
     ]
    }
   ],
   "source": [
    "pivot_family_status_debt = data.pivot_table(index=['family_status'], values='debt', aggfunc='mean')*100\n",
    "pivot_family_status_debt.rename(columns = {'debt': 'neviplativshie_%'}, inplace = True)\n",
    "print(pivot_family_status_debt)"
   ]
  },
  {
   "cell_type": "code",
   "execution_count": 28,
   "id": "b9c474a8",
   "metadata": {},
   "outputs": [
    {
     "name": "stdout",
     "output_type": "stream",
     "text": [
      "           family_status   debt      ratio  neviplativshie_%\n",
      "0  Не женат / не замужем   2796  13.107684          9.763948\n",
      "1              в разводе   1189   5.574047          7.064760\n",
      "2         вдовец / вдова    951   4.458300          6.624606\n",
      "3       гражданский брак   4134  19.380245          9.313014\n",
      "4        женат / замужем  12261  57.479724          7.560558\n"
     ]
    }
   ],
   "source": [
    "#выводим кол-во клиентов сгруппированые по статусу в браке\n",
    "pivot_family_status = data.pivot_table(index=['family_status'], values='debt', aggfunc='count')\n",
    "pivot_family_status = pivot_family_status.reset_index()\n",
    "\n",
    "#добавляем столбец процентное соотнощение людей по статусу в браке\n",
    "pivot_family_status['ratio'] = pivot_family_status['debt']/data['debt'].count()*100\n",
    "\n",
    "#соединяем две таблички\n",
    "pivot_family_status = pivot_family_status.merge(pivot_family_status_debt, on='family_status', how='left')\n",
    "\n",
    "print(pivot_family_status)"
   ]
  },
  {
   "cell_type": "markdown",
   "id": "061c391c",
   "metadata": {},
   "source": [
    "Из выборки данных видим что клиенты не в браке и в гражданском браке хуже выплачивают кредит.\n",
    "Поэтому объединим их в одну группу, a клиенты в разводе, вдовцы и в браке в другую."
   ]
  },
  {
   "cell_type": "code",
   "execution_count": 30,
   "id": "8a6cd462",
   "metadata": {},
   "outputs": [
    {
     "name": "stdout",
     "output_type": "stream",
     "text": [
      "количество клиентов должников Не женатых / не замужемем и в гражданском браке 9.494949494949495 %\n"
     ]
    }
   ],
   "source": [
    "#количество клиентов должников Не женатых / не замужемем и в гражданском браке\n",
    "result1 = data[((data['family_status'] == 'Не женат / не замужем') \\\n",
    "| (data['family_status'] == 'гражданский брак'))]['debt'].mean()*100 \n",
    "print('количество клиентов должников Не женатых / не замужемем и в гражданском браке', result1, '%')"
   ]
  },
  {
   "cell_type": "code",
   "execution_count": 31,
   "id": "1b8aa3f3",
   "metadata": {},
   "outputs": [
    {
     "name": "stdout",
     "output_type": "stream",
     "text": [
      "количество клиентов должников в разводе, вдовец / вдова, женат / замужем 7.4578154294840635 %\n"
     ]
    }
   ],
   "source": [
    "#количество клиентов должников в разводе, вдовец / вдова, женат / замужем\n",
    "result2 = data[((data['family_status'] == 'в разводе') \\\n",
    "| (data['family_status'] == 'вдовец / вдова') \\\n",
    "| (data['family_status'] == 'женат / замужем'))]['debt'].mean()*100\n",
    "print('количество клиентов должников в разводе, вдовец / вдова, женат / замужем', result2, '%')"
   ]
  },
  {
   "cell_type": "markdown",
   "id": "c389ca63",
   "metadata": {
    "deletable": false,
    "id": "c389ca63"
   },
   "source": [
    "**Вывод:** Клиенты которые находятся в браке или когда либо находились в браке более кридитоспособны"
   ]
  },
  {
   "cell_type": "markdown",
   "id": "9529de68",
   "metadata": {
    "deletable": false,
    "editable": false,
    "id": "9529de68"
   },
   "source": [
    "#### 3.3 Есть ли зависимость между уровнем дохода и возвратом кредита в срок?"
   ]
  },
  {
   "cell_type": "code",
   "execution_count": 32,
   "id": "8787f44a",
   "metadata": {
    "deletable": false,
    "id": "8787f44a"
   },
   "outputs": [
    {
     "name": "stdout",
     "output_type": "stream",
     "text": [
      "  total_income_category   debt      ratio  neviplativshie_%\n",
      "0                     A     25   0.117200          8.000000\n",
      "1                     B   5014  23.505696          7.060231\n",
      "2                     C  15921  74.637851          8.498210\n",
      "3                     D    349   1.636116          6.017192\n",
      "4                     E     22   0.103136          9.090909\n"
     ]
    }
   ],
   "source": [
    "#сводная таблица не выплативших клиентов, по уровню дохода\n",
    "pivot_total_income_category = data.pivot_table(index=['total_income_category'], values='debt', aggfunc='mean')*100\n",
    "pivot_total_income_category.rename(columns = {'debt': 'neviplativshie_%'}, inplace = True)\n",
    "\n",
    "#выводим кол-во клиентов сгруппированые по уровню дохода\n",
    "pivot_total_income = data.pivot_table(index=['total_income_category'], values='debt', aggfunc='count')\n",
    "pivot_total_income = pivot_total_income.reset_index()\n",
    "\n",
    "#добавляем столбец процентное соотнощение\n",
    "pivot_total_income['ratio'] = pivot_total_income['debt']/data['debt'].count()*100\n",
    "\n",
    "#соединяем две таблички\n",
    "pivot_total_income = pivot_total_income.merge(pivot_total_income_category, on='total_income_category', how='left')\n",
    "\n",
    "print(pivot_total_income)\n"
   ]
  },
  {
   "cell_type": "markdown",
   "id": "6dd14b57",
   "metadata": {
    "deletable": false,
    "id": "6dd14b57"
   },
   "source": [
    "**Вывод:** 1 Видим что клиентов в категории : А D E составляет менее 2% от общего количества, поэтому результат в этих категориях не репрезентативен.\n",
    "2 Наиболее кридитоспособны клиенты в категории В с зарплатой 50000-200000"
   ]
  },
  {
   "cell_type": "markdown",
   "id": "1dcc9b12",
   "metadata": {
    "deletable": false,
    "editable": false,
    "id": "1dcc9b12"
   },
   "source": [
    "#### 3.4 Как разные цели кредита влияют на его возврат в срок?"
   ]
  },
  {
   "cell_type": "code",
   "execution_count": 33,
   "id": "c602bc8b",
   "metadata": {
    "deletable": false,
    "id": "c602bc8b"
   },
   "outputs": [
    {
     "name": "stdout",
     "output_type": "stream",
     "text": [
      "           purpose_category   debt      ratio  neviplativshie_%\n",
      "0    операции с автомобилем   4279  20.060007          9.347978\n",
      "1  операции с недвижимостью  10751  50.400825          7.255139\n",
      "2     получение образования   3988  18.695795          9.252758\n",
      "3        проведение свадьбы   2313  10.843373          7.911803\n"
     ]
    }
   ],
   "source": [
    "#сводная таблица не выплативших клиентов по цели кредита\n",
    "pivot_purpose_category = data.pivot_table(index=['purpose_category'], values='debt', aggfunc='mean')*100\n",
    "pivot_purpose_category.rename(columns = {'debt': 'neviplativshie_%'}, inplace = True)\n",
    "\n",
    "#выводим кол-во клиентов сгруппированые по  цели кредита\n",
    "pivot_purpose = data.pivot_table(index=['purpose_category'], values='debt', aggfunc='count')\n",
    "pivot_purpose = pivot_purpose.reset_index()\n",
    "\n",
    "#добавляем столбец процентное соотнощение\n",
    "pivot_purpose['ratio'] = pivot_purpose['debt']/data['debt'].count()*100\n",
    "\n",
    "#соединяем две таблички\n",
    "pivot_purpose = pivot_purpose.merge(pivot_purpose_category, on='purpose_category', how='left')\n",
    "\n",
    "print(pivot_purpose)"
   ]
  },
  {
   "cell_type": "markdown",
   "id": "cf05ed63",
   "metadata": {
    "deletable": false,
    "id": "cf05ed63"
   },
   "source": [
    "**Вывод:** Наиболее крeдитоспособные клиенты которые берут кредит на цели связанные с недвижимостью и проведением  свадеб"
   ]
  },
  {
   "cell_type": "markdown",
   "id": "46c1f10b",
   "metadata": {
    "deletable": false,
    "editable": false,
    "id": "46c1f10b"
   },
   "source": [
    "#### 3.5 Приведите возможные причины появления пропусков в исходных данных."
   ]
  },
  {
   "cell_type": "markdown",
   "id": "3697d2a9",
   "metadata": {
    "deletable": false,
    "id": "3697d2a9"
   },
   "source": [
    "*Ответ:* 1. Предполагаю что данные о доходах не указали неработающие граждане(пенсионеры) или граждане которые не хотят указывать свой доход \n",
    "2. Возможно был технический сбой, Не выгрузилось из базы\n"
   ]
  },
  {
   "cell_type": "markdown",
   "id": "3137d257",
   "metadata": {
    "deletable": false,
    "editable": false,
    "id": "3137d257"
   },
   "source": [
    "#### 3.6 Объясните, почему заполнить пропуски медианным значением — лучшее решение для количественных переменных."
   ]
  },
  {
   "cell_type": "markdown",
   "id": "cf40012a",
   "metadata": {
    "deletable": false,
    "id": "cf40012a"
   },
   "source": [
    "*Ответ:* Потому что что среднее значение не корректно отображают уровень дохода в для каждой из групп\n",
    "- Медиана предпочтительнее для выборки зарплат тк если использовать среднее значение слишком высокие или низкие зарплаты сведут к среднему показателю что не корректно в таком случае"
   ]
  },
  {
   "cell_type": "markdown",
   "id": "57bc304e",
   "metadata": {
    "deletable": false,
    "editable": false,
    "id": "57bc304e"
   },
   "source": [
    "### Шаг 4: общий вывод."
   ]
  },
  {
   "cell_type": "markdown",
   "id": "1ab75d1c",
   "metadata": {
    "deletable": false,
    "id": "1ab75d1c"
   },
   "source": [
    "Общие сведения по должникам:\n",
    "- Количество должников у которых нет детей составляет 7,5%;  \n",
    "- Количество должников у которых 1 ребенок составляет 9,2%;\n",
    "- Количество должников у которых 2-е и больше детей составляет 9,3%;\n",
    ".\n",
    "- Количество должников среди не женатых/не замужем и в гражданском браке составляет 9,49%;\n",
    "- Количество должников среди клиентов в разводе, вдов/вдовцов и женатых составляет 7,46%;\n",
    "\n",
    "Количество должников среди клиентов которые брали кредит на цели связанные с:\n",
    "- операциями с автомобилями составляет 9,35%;\n",
    "- операциями с недвижимостью составляет 7,25%;\n",
    "- на получение образования составляет 9,25%;\n",
    "- на проведение свадьбы составляет 7,91%;\n",
    "\n",
    "Должников с уровнем дохода в размере :\n",
    "- 200000-1000000 составляет 7,1%;\n",
    "- 50000-200000 составляет 8,49%;\n",
    "- 30000-50000 составляет 6,02%;\n",
    "\n",
    "Проанализировав факторы влияющие на погашение кредита в срок, а именно выяснили что:\n",
    "-Клиенты без детей , которые состоят или когда либо состояли  в браке с зарплатой 200000 или выше , а также которые берут кредит на недвижимость или проведение свадьбы наиболее кредитоспособные;\n",
    "-Однако клиенты которые имеют  детей , не состоят в браке и берут кредит на операции с автомобилем , с зарплатой 50000 чаще всего нарушают срок выплаты.\n"
   ]
  }
 ],
 "metadata": {
  "ExecuteTimeLog": [
   {
    "duration": 8,
    "start_time": "2023-08-08T10:28:31.315Z"
   },
   {
    "duration": 47,
    "start_time": "2023-08-09T07:39:05.975Z"
   },
   {
    "duration": 559,
    "start_time": "2023-08-09T07:39:23.378Z"
   },
   {
    "duration": 24,
    "start_time": "2023-08-09T07:39:24.844Z"
   },
   {
    "duration": 15,
    "start_time": "2023-08-09T07:39:25.908Z"
   },
   {
    "duration": 12,
    "start_time": "2023-08-09T07:39:28.023Z"
   },
   {
    "duration": 35,
    "start_time": "2023-08-09T07:39:28.672Z"
   },
   {
    "duration": 5,
    "start_time": "2023-08-09T07:39:30.384Z"
   },
   {
    "duration": 8,
    "start_time": "2023-08-09T07:39:31.665Z"
   },
   {
    "duration": 4,
    "start_time": "2023-08-09T07:39:33.566Z"
   },
   {
    "duration": 6,
    "start_time": "2023-08-09T07:39:35.416Z"
   },
   {
    "duration": 5,
    "start_time": "2023-08-09T07:39:37.397Z"
   },
   {
    "duration": 35,
    "start_time": "2023-08-09T07:39:39.480Z"
   },
   {
    "duration": 12,
    "start_time": "2023-08-09T07:39:41.179Z"
   },
   {
    "duration": 4,
    "start_time": "2023-08-09T07:39:43.278Z"
   },
   {
    "duration": 12,
    "start_time": "2023-08-09T07:39:44.712Z"
   },
   {
    "duration": 19,
    "start_time": "2023-08-09T07:39:45.577Z"
   },
   {
    "duration": 17,
    "start_time": "2023-08-09T07:39:46.348Z"
   },
   {
    "duration": 4,
    "start_time": "2023-08-09T07:39:48.418Z"
   },
   {
    "duration": 10,
    "start_time": "2023-08-09T07:39:49.867Z"
   },
   {
    "duration": 7,
    "start_time": "2023-08-09T07:39:52.226Z"
   },
   {
    "duration": 4,
    "start_time": "2023-08-09T07:39:53.549Z"
   },
   {
    "duration": 21,
    "start_time": "2023-08-09T07:39:54.107Z"
   },
   {
    "duration": 14,
    "start_time": "2023-08-09T07:40:48.514Z"
   },
   {
    "duration": 9,
    "start_time": "2023-08-09T08:53:18.134Z"
   },
   {
    "duration": 14,
    "start_time": "2023-08-09T10:16:59.947Z"
   },
   {
    "duration": 19,
    "start_time": "2023-08-09T10:17:23.380Z"
   },
   {
    "duration": 35,
    "start_time": "2023-08-09T10:17:30.796Z"
   },
   {
    "duration": 16,
    "start_time": "2023-08-09T10:17:43.178Z"
   },
   {
    "duration": 14,
    "start_time": "2023-08-09T10:18:11.105Z"
   },
   {
    "duration": 15,
    "start_time": "2023-08-09T10:18:24.505Z"
   },
   {
    "duration": 20,
    "start_time": "2023-08-09T10:30:56.961Z"
   },
   {
    "duration": 16,
    "start_time": "2023-08-09T11:31:48.643Z"
   },
   {
    "duration": 26,
    "start_time": "2023-08-09T11:35:35.435Z"
   },
   {
    "duration": 24,
    "start_time": "2023-08-09T11:35:58.604Z"
   },
   {
    "duration": 23,
    "start_time": "2023-08-09T11:38:16.937Z"
   },
   {
    "duration": 24,
    "start_time": "2023-08-09T11:39:02.924Z"
   },
   {
    "duration": 15,
    "start_time": "2023-08-09T12:00:26.831Z"
   },
   {
    "duration": 11,
    "start_time": "2023-08-09T12:03:09.513Z"
   },
   {
    "duration": 12,
    "start_time": "2023-08-09T12:03:12.609Z"
   },
   {
    "duration": 12,
    "start_time": "2023-08-09T12:03:51.617Z"
   },
   {
    "duration": 18,
    "start_time": "2023-08-09T12:11:24.142Z"
   },
   {
    "duration": 14,
    "start_time": "2023-08-09T12:14:46.267Z"
   },
   {
    "duration": 14,
    "start_time": "2023-08-09T12:46:01.629Z"
   },
   {
    "duration": 97,
    "start_time": "2023-08-09T16:32:33.279Z"
   },
   {
    "duration": 47,
    "start_time": "2023-08-10T09:51:28.785Z"
   },
   {
    "duration": 1003,
    "start_time": "2023-08-10T09:51:42.701Z"
   },
   {
    "duration": 22,
    "start_time": "2023-08-10T09:51:43.706Z"
   },
   {
    "duration": 16,
    "start_time": "2023-08-10T09:51:43.820Z"
   },
   {
    "duration": 10,
    "start_time": "2023-08-10T09:51:44.491Z"
   },
   {
    "duration": 55,
    "start_time": "2023-08-10T09:51:44.893Z"
   },
   {
    "duration": 4,
    "start_time": "2023-08-10T09:51:45.469Z"
   },
   {
    "duration": 7,
    "start_time": "2023-08-10T09:51:45.812Z"
   },
   {
    "duration": 4,
    "start_time": "2023-08-10T09:51:46.371Z"
   },
   {
    "duration": 6,
    "start_time": "2023-08-10T09:51:46.736Z"
   },
   {
    "duration": 5,
    "start_time": "2023-08-10T09:51:47.113Z"
   },
   {
    "duration": 33,
    "start_time": "2023-08-10T09:51:47.692Z"
   },
   {
    "duration": 17,
    "start_time": "2023-08-10T09:51:48.075Z"
   },
   {
    "duration": 3,
    "start_time": "2023-08-10T09:51:48.669Z"
   },
   {
    "duration": 11,
    "start_time": "2023-08-10T09:51:49.299Z"
   },
   {
    "duration": 19,
    "start_time": "2023-08-10T09:51:50.772Z"
   },
   {
    "duration": 19,
    "start_time": "2023-08-10T09:51:50.968Z"
   },
   {
    "duration": 3,
    "start_time": "2023-08-10T09:51:51.612Z"
   },
   {
    "duration": 9,
    "start_time": "2023-08-10T09:51:51.792Z"
   },
   {
    "duration": 5,
    "start_time": "2023-08-10T09:51:52.588Z"
   },
   {
    "duration": 3,
    "start_time": "2023-08-10T09:51:53.309Z"
   },
   {
    "duration": 15,
    "start_time": "2023-08-10T09:51:54.111Z"
   },
   {
    "duration": 21,
    "start_time": "2023-08-10T09:52:43.078Z"
   },
   {
    "duration": 16,
    "start_time": "2023-08-10T09:53:20.811Z"
   },
   {
    "duration": 15,
    "start_time": "2023-08-10T09:53:26.756Z"
   },
   {
    "duration": 24,
    "start_time": "2023-08-10T09:59:17.854Z"
   },
   {
    "duration": 24,
    "start_time": "2023-08-10T09:59:37.558Z"
   },
   {
    "duration": 9,
    "start_time": "2023-08-10T10:18:25.964Z"
   },
   {
    "duration": 10,
    "start_time": "2023-08-10T10:18:27.522Z"
   },
   {
    "duration": 11,
    "start_time": "2023-08-10T10:18:28.578Z"
   },
   {
    "duration": 9,
    "start_time": "2023-08-10T10:37:02.435Z"
   },
   {
    "duration": 7,
    "start_time": "2023-08-10T10:37:49.876Z"
   },
   {
    "duration": 11,
    "start_time": "2023-08-10T10:39:28.880Z"
   },
   {
    "duration": 12,
    "start_time": "2023-08-10T10:39:45.407Z"
   },
   {
    "duration": 11,
    "start_time": "2023-08-10T10:41:37.453Z"
   },
   {
    "duration": 15,
    "start_time": "2023-08-10T10:46:53.480Z"
   },
   {
    "duration": 29,
    "start_time": "2023-08-10T10:49:01.449Z"
   },
   {
    "duration": 13,
    "start_time": "2023-08-10T10:49:05.241Z"
   },
   {
    "duration": 8,
    "start_time": "2023-08-10T10:49:05.763Z"
   },
   {
    "duration": 14,
    "start_time": "2023-08-10T10:52:01.720Z"
   },
   {
    "duration": 8,
    "start_time": "2023-08-10T10:52:03.708Z"
   },
   {
    "duration": 7,
    "start_time": "2023-08-10T10:52:33.116Z"
   },
   {
    "duration": 1197,
    "start_time": "2023-08-10T10:52:39.967Z"
   },
   {
    "duration": 7,
    "start_time": "2023-08-10T10:53:18.469Z"
   },
   {
    "duration": 8,
    "start_time": "2023-08-10T10:54:02.396Z"
   },
   {
    "duration": 7,
    "start_time": "2023-08-10T10:54:29.507Z"
   },
   {
    "duration": 967,
    "start_time": "2023-08-10T10:54:46.175Z"
   },
   {
    "duration": 4,
    "start_time": "2023-08-10T10:55:08.186Z"
   },
   {
    "duration": 13,
    "start_time": "2023-08-10T10:55:10.970Z"
   },
   {
    "duration": 11,
    "start_time": "2023-08-10T10:58:08.878Z"
   },
   {
    "duration": 4,
    "start_time": "2023-08-10T10:58:11.043Z"
   },
   {
    "duration": 13,
    "start_time": "2023-08-10T11:03:13.591Z"
   },
   {
    "duration": 11,
    "start_time": "2023-08-10T11:04:22.971Z"
   },
   {
    "duration": 17,
    "start_time": "2023-08-10T11:05:32.579Z"
   },
   {
    "duration": 15,
    "start_time": "2023-08-10T11:08:59.171Z"
   },
   {
    "duration": 19,
    "start_time": "2023-08-10T11:32:42.020Z"
   },
   {
    "duration": 17,
    "start_time": "2023-08-10T11:33:02.976Z"
   },
   {
    "duration": 1364,
    "start_time": "2023-08-10T11:34:01.716Z"
   },
   {
    "duration": 10,
    "start_time": "2023-08-10T11:41:53.025Z"
   },
   {
    "duration": 10,
    "start_time": "2023-08-10T11:42:14.980Z"
   },
   {
    "duration": 11,
    "start_time": "2023-08-10T11:43:08.184Z"
   },
   {
    "duration": 19,
    "start_time": "2023-08-10T11:43:43.647Z"
   },
   {
    "duration": 12,
    "start_time": "2023-08-10T11:46:10.396Z"
   },
   {
    "duration": 11,
    "start_time": "2023-08-10T11:56:01.600Z"
   },
   {
    "duration": 13,
    "start_time": "2023-08-10T11:56:05.468Z"
   },
   {
    "duration": 15,
    "start_time": "2023-08-10T11:56:05.972Z"
   },
   {
    "duration": 3,
    "start_time": "2023-08-10T11:56:06.398Z"
   },
   {
    "duration": 10,
    "start_time": "2023-08-10T11:56:08.118Z"
   },
   {
    "duration": 11,
    "start_time": "2023-08-10T11:56:59.967Z"
   },
   {
    "duration": 651,
    "start_time": "2023-08-10T11:57:41.297Z"
   },
   {
    "duration": 489,
    "start_time": "2023-08-10T11:57:59.084Z"
   },
   {
    "duration": 239,
    "start_time": "2023-08-10T11:58:10.679Z"
   },
   {
    "duration": 15,
    "start_time": "2023-08-10T12:00:32.195Z"
   },
   {
    "duration": 8,
    "start_time": "2023-08-10T12:00:53.675Z"
   },
   {
    "duration": 8,
    "start_time": "2023-08-10T12:00:57.583Z"
   },
   {
    "duration": 11,
    "start_time": "2023-08-10T12:01:22.371Z"
   },
   {
    "duration": 10,
    "start_time": "2023-08-10T12:02:56.906Z"
   },
   {
    "duration": 59,
    "start_time": "2023-08-10T12:04:26.470Z"
   },
   {
    "duration": 19,
    "start_time": "2023-08-10T12:04:35.480Z"
   },
   {
    "duration": 25,
    "start_time": "2023-08-10T12:05:28.868Z"
   },
   {
    "duration": 10,
    "start_time": "2023-08-10T12:06:00.928Z"
   },
   {
    "duration": 10,
    "start_time": "2023-08-10T12:08:48.598Z"
   },
   {
    "duration": 10,
    "start_time": "2023-08-10T12:11:37.296Z"
   },
   {
    "duration": 10,
    "start_time": "2023-08-10T12:13:23.898Z"
   },
   {
    "duration": 11,
    "start_time": "2023-08-10T12:14:31.514Z"
   },
   {
    "duration": 9,
    "start_time": "2023-08-10T12:14:39.290Z"
   },
   {
    "duration": 11,
    "start_time": "2023-08-10T12:19:49.885Z"
   },
   {
    "duration": 23,
    "start_time": "2023-08-10T12:19:52.580Z"
   },
   {
    "duration": 12,
    "start_time": "2023-08-10T12:20:16.801Z"
   },
   {
    "duration": 10,
    "start_time": "2023-08-10T12:20:38.284Z"
   },
   {
    "duration": 11,
    "start_time": "2023-08-10T12:20:46.479Z"
   },
   {
    "duration": 10,
    "start_time": "2023-08-10T12:20:49.874Z"
   },
   {
    "duration": 12,
    "start_time": "2023-08-10T12:20:50.376Z"
   },
   {
    "duration": 11,
    "start_time": "2023-08-10T12:28:25.714Z"
   },
   {
    "duration": 12,
    "start_time": "2023-08-10T12:28:40.376Z"
   },
   {
    "duration": 12,
    "start_time": "2023-08-10T12:29:20.372Z"
   },
   {
    "duration": 12,
    "start_time": "2023-08-10T12:31:05.374Z"
   },
   {
    "duration": 13,
    "start_time": "2023-08-10T12:32:38.494Z"
   },
   {
    "duration": 15,
    "start_time": "2023-08-10T12:33:04.378Z"
   },
   {
    "duration": 14,
    "start_time": "2023-08-10T12:40:22.276Z"
   },
   {
    "duration": 14,
    "start_time": "2023-08-10T12:40:25.602Z"
   },
   {
    "duration": 15,
    "start_time": "2023-08-10T12:40:44.092Z"
   },
   {
    "duration": 14,
    "start_time": "2023-08-10T12:41:24.979Z"
   },
   {
    "duration": 12,
    "start_time": "2023-08-10T12:45:18.959Z"
   },
   {
    "duration": 12,
    "start_time": "2023-08-10T12:49:01.434Z"
   },
   {
    "duration": 14,
    "start_time": "2023-08-10T12:49:18.018Z"
   },
   {
    "duration": 10,
    "start_time": "2023-08-10T12:50:09.335Z"
   },
   {
    "duration": 11,
    "start_time": "2023-08-10T12:50:33.011Z"
   },
   {
    "duration": 20,
    "start_time": "2023-08-10T12:50:34.160Z"
   },
   {
    "duration": 17,
    "start_time": "2023-08-10T12:53:17.475Z"
   },
   {
    "duration": 14,
    "start_time": "2023-08-10T12:54:40.216Z"
   },
   {
    "duration": 19,
    "start_time": "2023-08-10T12:54:40.823Z"
   },
   {
    "duration": 14,
    "start_time": "2023-08-10T12:55:49.583Z"
   },
   {
    "duration": 16,
    "start_time": "2023-08-10T12:55:52.353Z"
   },
   {
    "duration": 8,
    "start_time": "2023-08-10T12:58:58.127Z"
   },
   {
    "duration": 12,
    "start_time": "2023-08-10T12:59:12.261Z"
   },
   {
    "duration": 8,
    "start_time": "2023-08-10T13:01:28.603Z"
   },
   {
    "duration": 10,
    "start_time": "2023-08-10T13:01:50.413Z"
   },
   {
    "duration": 9,
    "start_time": "2023-08-10T13:01:54.381Z"
   },
   {
    "duration": 25,
    "start_time": "2023-08-10T13:41:53.384Z"
   },
   {
    "duration": 24,
    "start_time": "2023-08-10T13:53:37.688Z"
   },
   {
    "duration": 524,
    "start_time": "2023-08-11T14:07:14.277Z"
   },
   {
    "duration": 38,
    "start_time": "2023-08-11T14:07:14.803Z"
   },
   {
    "duration": 33,
    "start_time": "2023-08-11T14:07:14.843Z"
   },
   {
    "duration": 24,
    "start_time": "2023-08-11T14:07:14.879Z"
   },
   {
    "duration": 83,
    "start_time": "2023-08-11T14:07:14.906Z"
   },
   {
    "duration": 4,
    "start_time": "2023-08-11T14:07:14.990Z"
   },
   {
    "duration": 80,
    "start_time": "2023-08-11T14:07:14.996Z"
   },
   {
    "duration": 70,
    "start_time": "2023-08-11T14:07:15.078Z"
   },
   {
    "duration": 100,
    "start_time": "2023-08-11T14:07:15.149Z"
   },
   {
    "duration": 138,
    "start_time": "2023-08-11T14:07:15.253Z"
   },
   {
    "duration": 155,
    "start_time": "2023-08-11T14:07:15.393Z"
   },
   {
    "duration": 18,
    "start_time": "2023-08-11T14:07:15.551Z"
   },
   {
    "duration": 8,
    "start_time": "2023-08-11T14:07:15.572Z"
   },
   {
    "duration": 53,
    "start_time": "2023-08-11T14:07:15.582Z"
   },
   {
    "duration": 56,
    "start_time": "2023-08-11T14:07:15.642Z"
   },
   {
    "duration": 31,
    "start_time": "2023-08-11T14:07:15.701Z"
   },
   {
    "duration": 23,
    "start_time": "2023-08-11T14:07:15.734Z"
   },
   {
    "duration": 16,
    "start_time": "2023-08-11T14:07:15.759Z"
   },
   {
    "duration": 37,
    "start_time": "2023-08-11T14:07:15.776Z"
   },
   {
    "duration": 24,
    "start_time": "2023-08-11T14:07:15.815Z"
   },
   {
    "duration": 43,
    "start_time": "2023-08-11T14:07:15.842Z"
   },
   {
    "duration": 76,
    "start_time": "2023-08-11T14:07:15.887Z"
   },
   {
    "duration": 49,
    "start_time": "2023-08-11T14:07:15.966Z"
   },
   {
    "duration": 58,
    "start_time": "2023-08-11T14:07:16.016Z"
   },
   {
    "duration": 53,
    "start_time": "2023-08-11T14:07:16.077Z"
   },
   {
    "duration": 60,
    "start_time": "2023-08-11T14:07:16.132Z"
   },
   {
    "duration": 35,
    "start_time": "2023-08-11T14:07:16.194Z"
   },
   {
    "duration": 94,
    "start_time": "2023-08-11T14:07:16.235Z"
   },
   {
    "duration": 82,
    "start_time": "2023-08-11T14:07:16.331Z"
   },
   {
    "duration": 53,
    "start_time": "2023-08-11T14:07:16.418Z"
   },
   {
    "duration": 52,
    "start_time": "2023-08-11T14:07:16.473Z"
   },
   {
    "duration": 133,
    "start_time": "2023-08-11T14:07:16.531Z"
   },
   {
    "duration": 26,
    "start_time": "2023-08-11T14:07:16.666Z"
   },
   {
    "duration": 26,
    "start_time": "2023-08-11T14:07:34.757Z"
   },
   {
    "duration": 110,
    "start_time": "2023-08-11T14:09:38.038Z"
   },
   {
    "duration": 119,
    "start_time": "2023-08-11T14:12:00.258Z"
   },
   {
    "duration": 53,
    "start_time": "2023-08-13T13:58:24.802Z"
   },
   {
    "duration": 727,
    "start_time": "2023-08-13T13:58:39.125Z"
   },
   {
    "duration": 28,
    "start_time": "2023-08-13T13:58:41.110Z"
   },
   {
    "duration": 24,
    "start_time": "2023-08-13T13:58:42.326Z"
   },
   {
    "duration": 17,
    "start_time": "2023-08-13T13:58:44.202Z"
   },
   {
    "duration": 37,
    "start_time": "2023-08-13T13:58:45.499Z"
   },
   {
    "duration": 6,
    "start_time": "2023-08-13T13:58:47.763Z"
   },
   {
    "duration": 11,
    "start_time": "2023-08-13T13:58:48.919Z"
   },
   {
    "duration": 6,
    "start_time": "2023-08-13T13:58:50.731Z"
   },
   {
    "duration": 8,
    "start_time": "2023-08-13T13:58:51.764Z"
   },
   {
    "duration": 5,
    "start_time": "2023-08-13T13:58:52.766Z"
   },
   {
    "duration": 34,
    "start_time": "2023-08-13T13:58:54.108Z"
   },
   {
    "duration": 10,
    "start_time": "2023-08-13T13:58:55.186Z"
   },
   {
    "duration": 5,
    "start_time": "2023-08-13T13:58:56.587Z"
   },
   {
    "duration": 13,
    "start_time": "2023-08-13T13:58:58.814Z"
   },
   {
    "duration": 22,
    "start_time": "2023-08-13T13:58:59.397Z"
   },
   {
    "duration": 20,
    "start_time": "2023-08-13T13:59:00.020Z"
   },
   {
    "duration": 4,
    "start_time": "2023-08-13T13:59:01.618Z"
   },
   {
    "duration": 14,
    "start_time": "2023-08-13T13:59:02.362Z"
   },
   {
    "duration": 6,
    "start_time": "2023-08-13T13:59:03.522Z"
   },
   {
    "duration": 4,
    "start_time": "2023-08-13T13:59:04.891Z"
   },
   {
    "duration": 21,
    "start_time": "2023-08-13T13:59:05.787Z"
   },
   {
    "duration": 25,
    "start_time": "2023-08-13T13:59:08.434Z"
   },
   {
    "duration": 19,
    "start_time": "2023-08-13T14:01:31.067Z"
   },
   {
    "duration": 13,
    "start_time": "2023-08-13T14:01:31.654Z"
   },
   {
    "duration": 5,
    "start_time": "2023-08-13T14:02:49.488Z"
   },
   {
    "duration": 15,
    "start_time": "2023-08-13T14:02:54.093Z"
   },
   {
    "duration": 9,
    "start_time": "2023-08-13T14:02:57.315Z"
   },
   {
    "duration": 6,
    "start_time": "2023-08-13T14:03:22.338Z"
   },
   {
    "duration": 18,
    "start_time": "2023-08-13T14:05:42.591Z"
   },
   {
    "duration": 25,
    "start_time": "2023-08-13T14:06:01.405Z"
   },
   {
    "duration": 59,
    "start_time": "2023-08-13T14:06:50.073Z"
   },
   {
    "duration": 23,
    "start_time": "2023-08-13T14:07:00.339Z"
   },
   {
    "duration": 17,
    "start_time": "2023-08-13T14:07:03.438Z"
   },
   {
    "duration": 27,
    "start_time": "2023-08-13T14:07:10.051Z"
   },
   {
    "duration": 9,
    "start_time": "2023-08-13T14:07:32.325Z"
   },
   {
    "duration": 6,
    "start_time": "2023-08-13T14:07:42.559Z"
   },
   {
    "duration": 13,
    "start_time": "2023-08-13T14:07:47.986Z"
   },
   {
    "duration": 33,
    "start_time": "2023-08-13T14:07:51.888Z"
   },
   {
    "duration": 9,
    "start_time": "2023-08-13T14:07:53.089Z"
   },
   {
    "duration": 22,
    "start_time": "2023-08-13T14:08:10.359Z"
   },
   {
    "duration": 7,
    "start_time": "2023-08-13T14:08:15.161Z"
   },
   {
    "duration": 9,
    "start_time": "2023-08-13T14:08:37.630Z"
   },
   {
    "duration": 11,
    "start_time": "2023-08-13T14:08:59.369Z"
   },
   {
    "duration": 7,
    "start_time": "2023-08-13T14:09:34.127Z"
   },
   {
    "duration": 23,
    "start_time": "2023-08-13T14:09:43.189Z"
   },
   {
    "duration": 7,
    "start_time": "2023-08-13T14:09:50.906Z"
   },
   {
    "duration": 21,
    "start_time": "2023-08-13T14:10:04.826Z"
   },
   {
    "duration": 20,
    "start_time": "2023-08-13T14:10:15.092Z"
   },
   {
    "duration": 17,
    "start_time": "2023-08-13T14:10:16.292Z"
   },
   {
    "duration": 20,
    "start_time": "2023-08-13T14:11:26.241Z"
   },
   {
    "duration": 18,
    "start_time": "2023-08-13T14:12:04.094Z"
   },
   {
    "duration": 25,
    "start_time": "2023-08-13T14:12:08.561Z"
   },
   {
    "duration": 17,
    "start_time": "2023-08-13T14:12:48.294Z"
   },
   {
    "duration": 17,
    "start_time": "2023-08-13T14:14:44.835Z"
   },
   {
    "duration": 19,
    "start_time": "2023-08-13T14:15:28.932Z"
   },
   {
    "duration": 14,
    "start_time": "2023-08-13T14:17:22.490Z"
   },
   {
    "duration": 3,
    "start_time": "2023-08-13T14:17:52.535Z"
   },
   {
    "duration": 3,
    "start_time": "2023-08-13T14:17:52.968Z"
   },
   {
    "duration": 36,
    "start_time": "2023-08-13T14:19:48.223Z"
   },
   {
    "duration": 40,
    "start_time": "2023-08-13T14:19:56.832Z"
   }
  ],
  "colab": {
   "provenance": []
  },
  "kernelspec": {
   "display_name": "Python 3 (ipykernel)",
   "language": "python",
   "name": "python3"
  },
  "language_info": {
   "codemirror_mode": {
    "name": "ipython",
    "version": 3
   },
   "file_extension": ".py",
   "mimetype": "text/x-python",
   "name": "python",
   "nbconvert_exporter": "python",
   "pygments_lexer": "ipython3",
   "version": "3.10.9"
  },
  "toc": {
   "base_numbering": 1,
   "nav_menu": {},
   "number_sections": true,
   "sideBar": true,
   "skip_h1_title": true,
   "title_cell": "Table of Contents",
   "title_sidebar": "Contents",
   "toc_cell": false,
   "toc_position": {},
   "toc_section_display": true,
   "toc_window_display": false
  }
 },
 "nbformat": 4,
 "nbformat_minor": 5
}
