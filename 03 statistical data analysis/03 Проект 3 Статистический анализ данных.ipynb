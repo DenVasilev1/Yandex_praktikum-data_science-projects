{
 "cells": [
  {
   "cell_type": "markdown",
   "id": "ea76287a",
   "metadata": {},
   "source": [
    "#                                        Анализ данных сервиса GoFast\n",
    "Проведем анализ данных сервиса аренды самокатов GoFast.\n",
    "Чтобы совершать поездки по городу, пользователи сервиса GoFast пользуются мобильным приложением.\n",
    "Сервисом можно пользоваться:\n",
    "    \n",
    "    без подписки\n",
    "абонентская плата отсутствует; \n",
    "стоимость одной минуты поездки — 8 рублей; \n",
    "стоимость старта (начала поездки) — 50 рублей;\n",
    "    \n",
    "    с подпиской Ultra\n",
    "абонентская плата — 199 рублей в месяц;\n",
    "стоимость одной минуты поездки — 6 рублей;\n",
    "стоимость старта — бесплатно.\n",
    "\n",
    "В данных есть информация о пользователях, их поездках и подписках."
   ]
  },
  {
   "cell_type": "code",
   "execution_count": 1,
   "id": "cd5c0b7b",
   "metadata": {},
   "outputs": [],
   "source": [
    "import pandas as pd                 #библиотека для считывания файлов с данными\n",
    "import numpy as np                  #библиотека для оругления значений?\n",
    "import matplotlib.pyplot as plt     #библиотека для графиков\n",
    "from scipy import stats as st       #библиотека для проверки гипотез"
   ]
  },
  {
   "cell_type": "markdown",
   "id": "8db07eef",
   "metadata": {},
   "source": [
    "    Шаг 1. Загрузка данных\n",
    "1.1 Считываем CSV-файлы с данными сервиса аренды самокатов GoFast и сохраняем их в датафреймы"
   ]
  },
  {
   "cell_type": "code",
   "execution_count": 2,
   "id": "49750a1b",
   "metadata": {},
   "outputs": [],
   "source": [
    "users_go = pd.read_csv('https://code.s3.yandex.net/datasets/users_go.csv')\n",
    "rides_go = pd.read_csv('https://code.s3.yandex.net/datasets/rides_go.csv')\n",
    "subscriptions_go = pd.read_csv('https://code.s3.yandex.net/datasets/subscriptions_go.csv')"
   ]
  },
  {
   "cell_type": "markdown",
   "id": "8f6d7159",
   "metadata": {},
   "source": [
    "1.2 Выведим первые строки каждого набора данных и общую информацию о каждом датафрейме."
   ]
  },
  {
   "cell_type": "code",
   "execution_count": 3,
   "id": "e3a96700",
   "metadata": {},
   "outputs": [
    {
     "name": "stdout",
     "output_type": "stream",
     "text": [
      "<class 'pandas.core.frame.DataFrame'>\n",
      "RangeIndex: 1565 entries, 0 to 1564\n",
      "Data columns (total 5 columns):\n",
      " #   Column             Non-Null Count  Dtype \n",
      "---  ------             --------------  ----- \n",
      " 0   user_id            1565 non-null   int64 \n",
      " 1   name               1565 non-null   object\n",
      " 2   age                1565 non-null   int64 \n",
      " 3   city               1565 non-null   object\n",
      " 4   subscription_type  1565 non-null   object\n",
      "dtypes: int64(2), object(3)\n",
      "memory usage: 61.3+ KB\n",
      "None\n"
     ]
    },
    {
     "data": {
      "text/html": [
       "<div>\n",
       "<style scoped>\n",
       "    .dataframe tbody tr th:only-of-type {\n",
       "        vertical-align: middle;\n",
       "    }\n",
       "\n",
       "    .dataframe tbody tr th {\n",
       "        vertical-align: top;\n",
       "    }\n",
       "\n",
       "    .dataframe thead th {\n",
       "        text-align: right;\n",
       "    }\n",
       "</style>\n",
       "<table border=\"1\" class=\"dataframe\">\n",
       "  <thead>\n",
       "    <tr style=\"text-align: right;\">\n",
       "      <th></th>\n",
       "      <th>user_id</th>\n",
       "      <th>name</th>\n",
       "      <th>age</th>\n",
       "      <th>city</th>\n",
       "      <th>subscription_type</th>\n",
       "    </tr>\n",
       "  </thead>\n",
       "  <tbody>\n",
       "    <tr>\n",
       "      <th>0</th>\n",
       "      <td>1</td>\n",
       "      <td>Кира</td>\n",
       "      <td>22</td>\n",
       "      <td>Тюмень</td>\n",
       "      <td>ultra</td>\n",
       "    </tr>\n",
       "    <tr>\n",
       "      <th>1</th>\n",
       "      <td>2</td>\n",
       "      <td>Станислав</td>\n",
       "      <td>31</td>\n",
       "      <td>Омск</td>\n",
       "      <td>ultra</td>\n",
       "    </tr>\n",
       "    <tr>\n",
       "      <th>2</th>\n",
       "      <td>3</td>\n",
       "      <td>Алексей</td>\n",
       "      <td>20</td>\n",
       "      <td>Москва</td>\n",
       "      <td>ultra</td>\n",
       "    </tr>\n",
       "    <tr>\n",
       "      <th>3</th>\n",
       "      <td>4</td>\n",
       "      <td>Константин</td>\n",
       "      <td>26</td>\n",
       "      <td>Ростов-на-Дону</td>\n",
       "      <td>ultra</td>\n",
       "    </tr>\n",
       "    <tr>\n",
       "      <th>4</th>\n",
       "      <td>5</td>\n",
       "      <td>Адель</td>\n",
       "      <td>28</td>\n",
       "      <td>Омск</td>\n",
       "      <td>ultra</td>\n",
       "    </tr>\n",
       "    <tr>\n",
       "      <th>...</th>\n",
       "      <td>...</td>\n",
       "      <td>...</td>\n",
       "      <td>...</td>\n",
       "      <td>...</td>\n",
       "      <td>...</td>\n",
       "    </tr>\n",
       "    <tr>\n",
       "      <th>1560</th>\n",
       "      <td>829</td>\n",
       "      <td>Федор</td>\n",
       "      <td>29</td>\n",
       "      <td>Пятигорск</td>\n",
       "      <td>free</td>\n",
       "    </tr>\n",
       "    <tr>\n",
       "      <th>1561</th>\n",
       "      <td>809</td>\n",
       "      <td>Юрий</td>\n",
       "      <td>26</td>\n",
       "      <td>Сочи</td>\n",
       "      <td>free</td>\n",
       "    </tr>\n",
       "    <tr>\n",
       "      <th>1562</th>\n",
       "      <td>307</td>\n",
       "      <td>Ясмина</td>\n",
       "      <td>19</td>\n",
       "      <td>Краснодар</td>\n",
       "      <td>ultra</td>\n",
       "    </tr>\n",
       "    <tr>\n",
       "      <th>1563</th>\n",
       "      <td>47</td>\n",
       "      <td>Юрий</td>\n",
       "      <td>28</td>\n",
       "      <td>Тюмень</td>\n",
       "      <td>ultra</td>\n",
       "    </tr>\n",
       "    <tr>\n",
       "      <th>1564</th>\n",
       "      <td>1045</td>\n",
       "      <td>Артемий</td>\n",
       "      <td>28</td>\n",
       "      <td>Ростов-на-Дону</td>\n",
       "      <td>free</td>\n",
       "    </tr>\n",
       "  </tbody>\n",
       "</table>\n",
       "<p>1565 rows × 5 columns</p>\n",
       "</div>"
      ],
      "text/plain": [
       "      user_id        name  age            city subscription_type\n",
       "0           1        Кира   22          Тюмень             ultra\n",
       "1           2   Станислав   31            Омск             ultra\n",
       "2           3     Алексей   20          Москва             ultra\n",
       "3           4  Константин   26  Ростов-на-Дону             ultra\n",
       "4           5       Адель   28            Омск             ultra\n",
       "...       ...         ...  ...             ...               ...\n",
       "1560      829       Федор   29       Пятигорск              free\n",
       "1561      809        Юрий   26            Сочи              free\n",
       "1562      307      Ясмина   19       Краснодар             ultra\n",
       "1563       47        Юрий   28          Тюмень             ultra\n",
       "1564     1045     Артемий   28  Ростов-на-Дону              free\n",
       "\n",
       "[1565 rows x 5 columns]"
      ]
     },
     "execution_count": 3,
     "metadata": {},
     "output_type": "execute_result"
    }
   ],
   "source": [
    "print(users_go.info())\n",
    "users_go"
   ]
  },
  {
   "cell_type": "code",
   "execution_count": 4,
   "id": "f8e9c323",
   "metadata": {},
   "outputs": [
    {
     "data": {
      "text/plain": [
       "209     2\n",
       "807     2\n",
       "611     2\n",
       "43      2\n",
       "737     2\n",
       "       ..\n",
       "520     1\n",
       "519     1\n",
       "518     1\n",
       "517     1\n",
       "1534    1\n",
       "Name: user_id, Length: 1534, dtype: int64"
      ]
     },
     "execution_count": 4,
     "metadata": {},
     "output_type": "execute_result"
    }
   ],
   "source": [
    "users_go['user_id'].value_counts()"
   ]
  },
  {
   "cell_type": "markdown",
   "id": "9649669b",
   "metadata": {},
   "source": [
    "Видим что в датафрейме users_go 1565 строк. Из них уникальных user_id - 1534. значит У некоторых пользователей было по два вида подписок."
   ]
  },
  {
   "cell_type": "code",
   "execution_count": 5,
   "id": "9ac3e4f9",
   "metadata": {},
   "outputs": [
    {
     "name": "stdout",
     "output_type": "stream",
     "text": [
      "<class 'pandas.core.frame.DataFrame'>\n",
      "RangeIndex: 18068 entries, 0 to 18067\n",
      "Data columns (total 4 columns):\n",
      " #   Column    Non-Null Count  Dtype  \n",
      "---  ------    --------------  -----  \n",
      " 0   user_id   18068 non-null  int64  \n",
      " 1   distance  18068 non-null  float64\n",
      " 2   duration  18068 non-null  float64\n",
      " 3   date      18068 non-null  object \n",
      "dtypes: float64(2), int64(1), object(1)\n",
      "memory usage: 564.8+ KB\n",
      "None\n"
     ]
    },
    {
     "data": {
      "text/html": [
       "<div>\n",
       "<style scoped>\n",
       "    .dataframe tbody tr th:only-of-type {\n",
       "        vertical-align: middle;\n",
       "    }\n",
       "\n",
       "    .dataframe tbody tr th {\n",
       "        vertical-align: top;\n",
       "    }\n",
       "\n",
       "    .dataframe thead th {\n",
       "        text-align: right;\n",
       "    }\n",
       "</style>\n",
       "<table border=\"1\" class=\"dataframe\">\n",
       "  <thead>\n",
       "    <tr style=\"text-align: right;\">\n",
       "      <th></th>\n",
       "      <th>user_id</th>\n",
       "      <th>distance</th>\n",
       "      <th>duration</th>\n",
       "      <th>date</th>\n",
       "    </tr>\n",
       "  </thead>\n",
       "  <tbody>\n",
       "    <tr>\n",
       "      <th>0</th>\n",
       "      <td>1</td>\n",
       "      <td>4409.919140</td>\n",
       "      <td>25.599769</td>\n",
       "      <td>2021-01-01</td>\n",
       "    </tr>\n",
       "    <tr>\n",
       "      <th>1</th>\n",
       "      <td>1</td>\n",
       "      <td>2617.592153</td>\n",
       "      <td>15.816871</td>\n",
       "      <td>2021-01-18</td>\n",
       "    </tr>\n",
       "    <tr>\n",
       "      <th>2</th>\n",
       "      <td>1</td>\n",
       "      <td>754.159807</td>\n",
       "      <td>6.232113</td>\n",
       "      <td>2021-04-20</td>\n",
       "    </tr>\n",
       "    <tr>\n",
       "      <th>3</th>\n",
       "      <td>1</td>\n",
       "      <td>2694.783254</td>\n",
       "      <td>18.511000</td>\n",
       "      <td>2021-08-11</td>\n",
       "    </tr>\n",
       "    <tr>\n",
       "      <th>4</th>\n",
       "      <td>1</td>\n",
       "      <td>4028.687306</td>\n",
       "      <td>26.265803</td>\n",
       "      <td>2021-08-28</td>\n",
       "    </tr>\n",
       "    <tr>\n",
       "      <th>...</th>\n",
       "      <td>...</td>\n",
       "      <td>...</td>\n",
       "      <td>...</td>\n",
       "      <td>...</td>\n",
       "    </tr>\n",
       "    <tr>\n",
       "      <th>18063</th>\n",
       "      <td>1534</td>\n",
       "      <td>3781.098080</td>\n",
       "      <td>19.822962</td>\n",
       "      <td>2021-11-04</td>\n",
       "    </tr>\n",
       "    <tr>\n",
       "      <th>18064</th>\n",
       "      <td>1534</td>\n",
       "      <td>2840.423057</td>\n",
       "      <td>21.409799</td>\n",
       "      <td>2021-11-16</td>\n",
       "    </tr>\n",
       "    <tr>\n",
       "      <th>18065</th>\n",
       "      <td>1534</td>\n",
       "      <td>3826.185507</td>\n",
       "      <td>18.435051</td>\n",
       "      <td>2021-11-18</td>\n",
       "    </tr>\n",
       "    <tr>\n",
       "      <th>18066</th>\n",
       "      <td>1534</td>\n",
       "      <td>2902.308661</td>\n",
       "      <td>16.674362</td>\n",
       "      <td>2021-11-27</td>\n",
       "    </tr>\n",
       "    <tr>\n",
       "      <th>18067</th>\n",
       "      <td>1534</td>\n",
       "      <td>2371.711192</td>\n",
       "      <td>15.893917</td>\n",
       "      <td>2021-12-29</td>\n",
       "    </tr>\n",
       "  </tbody>\n",
       "</table>\n",
       "<p>18068 rows × 4 columns</p>\n",
       "</div>"
      ],
      "text/plain": [
       "       user_id     distance   duration        date\n",
       "0            1  4409.919140  25.599769  2021-01-01\n",
       "1            1  2617.592153  15.816871  2021-01-18\n",
       "2            1   754.159807   6.232113  2021-04-20\n",
       "3            1  2694.783254  18.511000  2021-08-11\n",
       "4            1  4028.687306  26.265803  2021-08-28\n",
       "...        ...          ...        ...         ...\n",
       "18063     1534  3781.098080  19.822962  2021-11-04\n",
       "18064     1534  2840.423057  21.409799  2021-11-16\n",
       "18065     1534  3826.185507  18.435051  2021-11-18\n",
       "18066     1534  2902.308661  16.674362  2021-11-27\n",
       "18067     1534  2371.711192  15.893917  2021-12-29\n",
       "\n",
       "[18068 rows x 4 columns]"
      ]
     },
     "execution_count": 5,
     "metadata": {},
     "output_type": "execute_result"
    }
   ],
   "source": [
    "print(rides_go.info())\n",
    "rides_go"
   ]
  },
  {
   "cell_type": "markdown",
   "id": "8a5b6529",
   "metadata": {},
   "source": [
    "для удобства сразу округлим значения дистанции до второго знака"
   ]
  },
  {
   "cell_type": "code",
   "execution_count": 6,
   "id": "db5305b8",
   "metadata": {},
   "outputs": [],
   "source": [
    "rides_go['distance'] = round(rides_go['distance'], 2)"
   ]
  },
  {
   "cell_type": "code",
   "execution_count": 7,
   "id": "9e8c92f7",
   "metadata": {},
   "outputs": [
    {
     "name": "stdout",
     "output_type": "stream",
     "text": [
      "<class 'pandas.core.frame.DataFrame'>\n",
      "RangeIndex: 2 entries, 0 to 1\n",
      "Data columns (total 4 columns):\n",
      " #   Column             Non-Null Count  Dtype \n",
      "---  ------             --------------  ----- \n",
      " 0   subscription_type  2 non-null      object\n",
      " 1   minute_price       2 non-null      int64 \n",
      " 2   start_ride_price   2 non-null      int64 \n",
      " 3   subscription_fee   2 non-null      int64 \n",
      "dtypes: int64(3), object(1)\n",
      "memory usage: 192.0+ bytes\n",
      "None\n"
     ]
    },
    {
     "data": {
      "text/html": [
       "<div>\n",
       "<style scoped>\n",
       "    .dataframe tbody tr th:only-of-type {\n",
       "        vertical-align: middle;\n",
       "    }\n",
       "\n",
       "    .dataframe tbody tr th {\n",
       "        vertical-align: top;\n",
       "    }\n",
       "\n",
       "    .dataframe thead th {\n",
       "        text-align: right;\n",
       "    }\n",
       "</style>\n",
       "<table border=\"1\" class=\"dataframe\">\n",
       "  <thead>\n",
       "    <tr style=\"text-align: right;\">\n",
       "      <th></th>\n",
       "      <th>subscription_type</th>\n",
       "      <th>minute_price</th>\n",
       "      <th>start_ride_price</th>\n",
       "      <th>subscription_fee</th>\n",
       "    </tr>\n",
       "  </thead>\n",
       "  <tbody>\n",
       "    <tr>\n",
       "      <th>0</th>\n",
       "      <td>free</td>\n",
       "      <td>8</td>\n",
       "      <td>50</td>\n",
       "      <td>0</td>\n",
       "    </tr>\n",
       "    <tr>\n",
       "      <th>1</th>\n",
       "      <td>ultra</td>\n",
       "      <td>6</td>\n",
       "      <td>0</td>\n",
       "      <td>199</td>\n",
       "    </tr>\n",
       "  </tbody>\n",
       "</table>\n",
       "</div>"
      ],
      "text/plain": [
       "  subscription_type  minute_price  start_ride_price  subscription_fee\n",
       "0              free             8                50                 0\n",
       "1             ultra             6                 0               199"
      ]
     },
     "execution_count": 7,
     "metadata": {},
     "output_type": "execute_result"
    }
   ],
   "source": [
    "print(subscriptions_go.info())\n",
    "subscriptions_go"
   ]
  },
  {
   "cell_type": "markdown",
   "id": "c4d32f23",
   "metadata": {},
   "source": [
    "Изучили данные в датафреймах\n",
    "Округли значения дистанции до второго знака\n",
    "Уникальных user_id - 1534\n",
    "Всего уникальных поездок - 18068\n",
    "данные соответствуют типу: object, int64, float64"
   ]
  },
  {
   "cell_type": "markdown",
   "id": "2f2a3e42",
   "metadata": {},
   "source": [
    "2.1 Приведим столбец date к типу даты"
   ]
  },
  {
   "cell_type": "code",
   "execution_count": 8,
   "id": "61930a0f",
   "metadata": {},
   "outputs": [],
   "source": [
    "rides_go['date'] = pd.to_datetime(rides_go['date'], format='%Y-%m-%d')"
   ]
  },
  {
   "cell_type": "markdown",
   "id": "29ac7698",
   "metadata": {},
   "source": [
    "2.2 Создаем новый столбец с номером месяца на основе столбца date."
   ]
  },
  {
   "cell_type": "code",
   "execution_count": 9,
   "id": "f171346a",
   "metadata": {},
   "outputs": [],
   "source": [
    "rides_go['month'] = rides_go['date'].dt.month"
   ]
  },
  {
   "cell_type": "markdown",
   "id": "197cd4b7",
   "metadata": {},
   "source": [
    "для проверки создадим столбец с годом на основе столбца date. и проверим уникальные значения"
   ]
  },
  {
   "cell_type": "code",
   "execution_count": 10,
   "id": "cde97204",
   "metadata": {},
   "outputs": [
    {
     "data": {
      "text/plain": [
       "array([2021])"
      ]
     },
     "execution_count": 10,
     "metadata": {},
     "output_type": "execute_result"
    }
   ],
   "source": [
    "rides_go['date'].dt.year.unique()"
   ]
  },
  {
   "cell_type": "markdown",
   "id": "3d8be12f",
   "metadata": {},
   "source": [
    "Убедились что в датафрейме имеются значения только за 2021год"
   ]
  },
  {
   "cell_type": "markdown",
   "id": "9b686a30",
   "metadata": {},
   "source": [
    "Привели столбец date к типу даты\n",
    "Создали новый столбец с номером месяца\n",
    "Убедились что в датафрейме имеются значения только за 2021год"
   ]
  },
  {
   "cell_type": "markdown",
   "id": "54e922c8",
   "metadata": {},
   "source": [
    "2.3 Проверим наличие дубликатов и пропущенных значений. "
   ]
  },
  {
   "cell_type": "code",
   "execution_count": 11,
   "id": "5f009bdd",
   "metadata": {},
   "outputs": [
    {
     "name": "stdout",
     "output_type": "stream",
     "text": [
      "дубликатов в rides_go= 0\n",
      "дубликатов в users_go= 31\n",
      "\n",
      "user_id     0\n",
      "distance    0\n",
      "duration    0\n",
      "date        0\n",
      "month       0\n",
      "dtype: int64\n",
      "\n",
      "user_id              0\n",
      "name                 0\n",
      "age                  0\n",
      "city                 0\n",
      "subscription_type    0\n",
      "dtype: int64\n"
     ]
    }
   ],
   "source": [
    "print('дубликатов в rides_go=', rides_go.duplicated().sum())\n",
    "print('дубликатов в users_go=', users_go.duplicated().sum())\n",
    "print()\n",
    "print(rides_go.isna().sum())\n",
    "print()\n",
    "print(users_go.isna().sum())"
   ]
  },
  {
   "cell_type": "markdown",
   "id": "29b38efd",
   "metadata": {},
   "source": [
    "явных дубликатов - 31,\n",
    "пропусков нет"
   ]
  },
  {
   "cell_type": "markdown",
   "id": "8c63a62d",
   "metadata": {},
   "source": [
    "Удаляем явные дубликаты"
   ]
  },
  {
   "cell_type": "code",
   "execution_count": 12,
   "id": "d14e6750",
   "metadata": {},
   "outputs": [
    {
     "name": "stdout",
     "output_type": "stream",
     "text": [
      "явных дубликатов в users_go= 0\n"
     ]
    }
   ],
   "source": [
    "users_go = users_go.drop_duplicates()\n",
    "print('явных дубликатов в users_go=', users_go.duplicated().sum())"
   ]
  },
  {
   "cell_type": "code",
   "execution_count": 13,
   "id": "9e3077de",
   "metadata": {},
   "outputs": [
    {
     "data": {
      "text/plain": [
       "Index(['user_id', 'name', 'age', 'city', 'subscription_type'], dtype='object')"
      ]
     },
     "execution_count": 13,
     "metadata": {},
     "output_type": "execute_result"
    }
   ],
   "source": [
    "users_go.columns"
   ]
  },
  {
   "cell_type": "markdown",
   "id": "1b48c5f6",
   "metadata": {},
   "source": [
    "проверяем неявные дубликаты где это необходимо"
   ]
  },
  {
   "cell_type": "code",
   "execution_count": 14,
   "id": "31108c62",
   "metadata": {},
   "outputs": [
    {
     "name": "stdout",
     "output_type": "stream",
     "text": [
      "['Агата' 'Аделина' 'Адель' 'Айдар' 'Александр' 'Александра' 'Алексей'\n",
      " 'Алина' 'Алиса' 'Алия' 'Алла' 'Альберт' 'Альбина' 'Алёна' 'Амалия'\n",
      " 'Амина' 'Амир' 'Анастасия' 'Анатолий' 'Ангелина' 'Андрей' 'Анжелика'\n",
      " 'Анна' 'Антон' 'Антонина' 'Ариана' 'Арина' 'Арсен' 'Арсений' 'Артемий'\n",
      " 'Артур' 'Артём' 'Богдан' 'Борис' 'Вадим' 'Валентина' 'Валерий' 'Валерия'\n",
      " 'Варвара' 'Василий' 'Василина' 'Василиса' 'Вера' 'Вероника' 'Виктор'\n",
      " 'Виктория' 'Виолетта' 'Виталий' 'Виталина' 'Влад' 'Влада' 'Владимир'\n",
      " 'Владислав' 'Владислава' 'Всеволод' 'Вячеслав' 'Галина' 'Георгий'\n",
      " 'Герман' 'Глеб' 'Гордей' 'Григорий' 'Давид' 'Дамир' 'Даниил' 'Данил'\n",
      " 'Данила' 'Даниэль' 'Дарина' 'Дарья' 'Демид' 'Денис' 'Диана' 'Дмитрий'\n",
      " 'Ева' 'Евгений' 'Евгения' 'Егор' 'Екатерина' 'Елена' 'Елизавета' 'Елисей'\n",
      " 'Есения' 'Жанна' 'Зарина' 'Захар' 'Злата' 'Иван' 'Игнат' 'Игорь' 'Ильдар'\n",
      " 'Илья' 'Инна' 'Ирина' 'Камилла' 'Карина' 'Каролина' 'Кира' 'Кирилл'\n",
      " 'Константин' 'Кристина' 'Ксения' 'Лариса' 'Лев' 'Леонид' 'Лиана' 'Лидия'\n",
      " 'Лилия' 'Любовь' 'Людмила' 'Мадина' 'Майя' 'Макар' 'Максим' 'Марат'\n",
      " 'Маргарита' 'Марина' 'Мария' 'Марк' 'Марсель' 'Матвей' 'Мелания' 'Милана'\n",
      " 'Милена' 'Мирон' 'Мирослав' 'Мирослава' 'Михаил' 'Назар' 'Наталия'\n",
      " 'Наталья' 'Наташа' 'Нелли' 'Ника' 'Никита' 'Николай' 'Нина' 'Одиссей'\n",
      " 'Оксана' 'Олег' 'Олеся' 'Ольга' 'Павел' 'Петр' 'Платон' 'Полина' 'Радмир'\n",
      " 'Рамиль' 'Регина' 'Роберт' 'Родион' 'Роман' 'Ростислав' 'Руслан' 'Рустам'\n",
      " 'Савелий' 'Самир' 'Самира' 'Светлана' 'Святогор' 'Святослав' 'Семен'\n",
      " 'Сергей' 'Снежана' 'София' 'Софья' 'Станислав' 'Степан' 'Стефания'\n",
      " 'Таисия' 'Тамара' 'Тамерлан' 'Татьяна' 'Тимофей' 'Тимур' 'Тихон' 'Ульяна'\n",
      " 'Федор' 'Эвелина' 'Эдуард' 'Элина' 'Эльвира' 'Эльмира' 'Эмилия' 'Эмиль'\n",
      " 'Юлиана' 'Юлия' 'Юрий' 'Ян' 'Яна' 'Яромир' 'Ярослав' 'Ярослава' 'Ясмина']\n",
      "['Екатеринбург' 'Краснодар' 'Москва' 'Омск' 'Пятигорск' 'Ростов-на-Дону'\n",
      " 'Сочи' 'Тюмень']\n",
      "['free' 'ultra']\n"
     ]
    }
   ],
   "source": [
    "print(users_go['name'].sort_values().unique())\n",
    "print(users_go['city'].sort_values().unique())\n",
    "print(users_go['subscription_type'].sort_values().unique())"
   ]
  },
  {
   "cell_type": "markdown",
   "id": "13c7f56b",
   "metadata": {},
   "source": [
    "неявных дубликатов нет"
   ]
  },
  {
   "cell_type": "markdown",
   "id": "2ec36602",
   "metadata": {},
   "source": [
    "Проверили наличие пропусков,\n",
    "Проверили наличие неявных дубликатов,\n",
    "Удалили явные дубликаты "
   ]
  },
  {
   "cell_type": "markdown",
   "id": "95d0fbf5",
   "metadata": {},
   "source": [
    "Шаг 3. Исследовательский анализ данных"
   ]
  },
  {
   "cell_type": "markdown",
   "id": "21dbea15",
   "metadata": {},
   "source": [
    "3.1 частота встречаемости городов"
   ]
  },
  {
   "cell_type": "code",
   "execution_count": 15,
   "id": "85e17456",
   "metadata": {},
   "outputs": [
    {
     "data": {
      "image/png": "[encoded data removed]",
      "text/plain": [
       "<Figure size 640x480 with 1 Axes>"
      ]
     },
     "metadata": {},
     "output_type": "display_data"
    }
   ],
   "source": [
    "(users_go['city']\n",
    "    .value_counts(ascending=True)\n",
    "    .plot.bar(grid=True, title='частота встречаемости городов'))\n",
    "plt.xlabel(\"города\")\n",
    "plt.ylabel(\"кол-во пользователей\")\n",
    "plt.show()"
   ]
  },
  {
   "cell_type": "code",
   "execution_count": 16,
   "id": "5d083638",
   "metadata": {},
   "outputs": [
    {
     "name": "stdout",
     "output_type": "stream",
     "text": [
      "количество пользователей в каждом городе:\n"
     ]
    },
    {
     "data": {
      "text/plain": [
       "Пятигорск         219\n",
       "Екатеринбург      204\n",
       "Ростов-на-Дону    198\n",
       "Краснодар         193\n",
       "Сочи              189\n",
       "Омск              183\n",
       "Тюмень            180\n",
       "Москва            168\n",
       "Name: city, dtype: int64"
      ]
     },
     "execution_count": 16,
     "metadata": {},
     "output_type": "execute_result"
    }
   ],
   "source": [
    "print('количество пользователей в каждом городе:')\n",
    "users_go['city'].value_counts()"
   ]
  },
  {
   "cell_type": "markdown",
   "id": "de9ff60d",
   "metadata": {},
   "source": [
    "3.2 график для типов подписки"
   ]
  },
  {
   "cell_type": "code",
   "execution_count": 17,
   "id": "35035d3c",
   "metadata": {},
   "outputs": [
    {
     "data": {
      "image/png": "[encoded data removed]",
      "text/plain": [
       "<Figure size 640x480 with 1 Axes>"
      ]
     },
     "metadata": {},
     "output_type": "display_data"
    }
   ],
   "source": [
    "(users_go['subscription_type']\n",
    "    .value_counts(ascending=True)\n",
    "    .plot(kind='pie', grid=True, title='тип подписок', autopct='%1.1f%%'))\n",
    "\n",
    "plt.show()"
   ]
  },
  {
   "cell_type": "code",
   "execution_count": 18,
   "id": "0a5006f7",
   "metadata": {},
   "outputs": [
    {
     "name": "stdout",
     "output_type": "stream",
     "text": [
      "количество пользователей с подпиской и без подписки\n",
      "где free - без подписки \n",
      "    ultra - с подпиской \n"
     ]
    },
    {
     "data": {
      "text/plain": [
       "free     835\n",
       "ultra    699\n",
       "Name: subscription_type, dtype: int64"
      ]
     },
     "execution_count": 18,
     "metadata": {},
     "output_type": "execute_result"
    }
   ],
   "source": [
    "print('количество пользователей с подпиской и без подписки')\n",
    "print('где free - без подписки ')\n",
    "print('    ultra - с подпиской ')\n",
    "users_go['subscription_type'].value_counts()"
   ]
  },
  {
   "cell_type": "code",
   "execution_count": 19,
   "id": "29cd2896",
   "metadata": {},
   "outputs": [],
   "source": [
    "#pivot_subscription_type = users_go.pivot_table(index=['subscription_type'], values='subscription_type', aggfunc='count')*100\n",
    "#subscription_grouped = users_go.groupby('subscription_type')\n",
    "#subscription_grouped"
   ]
  },
  {
   "cell_type": "markdown",
   "id": "a1573990",
   "metadata": {},
   "source": [
    "3.3 возраст пользователей"
   ]
  },
  {
   "cell_type": "code",
   "execution_count": 20,
   "id": "4db18fbe",
   "metadata": {},
   "outputs": [
    {
     "data": {
      "image/png": "[encoded data removed]",
      "text/plain": [
       "<Figure size 640x480 with 1 Axes>"
      ]
     },
     "metadata": {},
     "output_type": "display_data"
    },
    {
     "data": {
      "text/plain": [
       "count    1534.000000\n",
       "mean       24.903520\n",
       "std         4.572367\n",
       "min        12.000000\n",
       "25%        22.000000\n",
       "50%        25.000000\n",
       "75%        28.000000\n",
       "max        43.000000\n",
       "Name: age, dtype: float64"
      ]
     },
     "execution_count": 20,
     "metadata": {},
     "output_type": "execute_result"
    }
   ],
   "source": [
    "users_go['age'].plot(kind='hist', bins=30, title='возраст пользователей', grid=True)\n",
    "plt.xlabel(\"возраст\")\n",
    "plt.ylabel(\"кол-во поездок\")\n",
    "plt.show()\n",
    "users_go['age'].describe()"
   ]
  },
  {
   "cell_type": "code",
   "execution_count": 21,
   "id": "4d9b9222",
   "metadata": {},
   "outputs": [
    {
     "data": {
      "text/plain": [
       "0    25\n",
       "Name: age, dtype: int64"
      ]
     },
     "execution_count": 21,
     "metadata": {},
     "output_type": "execute_result"
    }
   ],
   "source": [
    "users_go['age'].mode()"
   ]
  },
  {
   "cell_type": "markdown",
   "id": "e3596ec5",
   "metadata": {},
   "source": [
    "Средний возраст пользователей - 25 лет.\n",
    "Медиана возраста - 25 лет\n",
    "Мода возраста - 25 лет"
   ]
  },
  {
   "cell_type": "markdown",
   "id": "a0f20d85",
   "metadata": {},
   "source": [
    "3.4 расстояние, которое пользователь преодолел за одну поездку"
   ]
  },
  {
   "cell_type": "code",
   "execution_count": 22,
   "id": "2ca895ce",
   "metadata": {},
   "outputs": [
    {
     "data": {
      "image/png": "[encoded data removed]",
      "text/plain": [
       "<Figure size 640x480 with 1 Axes>"
      ]
     },
     "metadata": {},
     "output_type": "display_data"
    },
    {
     "data": {
      "text/plain": [
       "count    18068.000000\n",
       "mean      3070.659992\n",
       "std       1116.831222\n",
       "min          0.860000\n",
       "25%       2543.227500\n",
       "50%       3133.610000\n",
       "75%       3776.220000\n",
       "max       7211.010000\n",
       "Name: distance, dtype: float64"
      ]
     },
     "execution_count": 22,
     "metadata": {},
     "output_type": "execute_result"
    }
   ],
   "source": [
    "rides_go['distance'].plot(kind='hist', bins=70, title='расстояние за одну поездку', grid=True)\n",
    "plt.xlabel(\"расстояние поездки\")\n",
    "plt.ylabel(\"кол-во поездок\")\n",
    "plt.show()\n",
    "rides_go['distance'].describe()"
   ]
  },
  {
   "cell_type": "markdown",
   "id": "b5ded844",
   "metadata": {},
   "source": [
    "среднее растояние которое проезжают пользователи = 3070м\n",
    "медиана = 3133м"
   ]
  },
  {
   "cell_type": "markdown",
   "id": "7652a027",
   "metadata": {},
   "source": [
    "видим два пика!\n",
    "гипотезы:\n",
    "\n",
    "     первый пик: - пользователи которые берут самокат на небольшие поездки до дома итд\n",
    "                 - пользователи берут самокат по будням\n",
    "                 \n",
    "     второй пик: - пользователи берут самокат по выходным\n",
    "     \n",
    "разница в пиках: - пользователи которые берут самокаты с подпиской и без подписки\n",
    "                 - возможно зависит от месяца(начало или конец сезона) когда уже прохладно чтобы долго кататься или наоборот лето когда тепло и долго катаются\n",
    "                 - возможно зависит от возраста пользователей\n",
    "     "
   ]
  },
  {
   "cell_type": "markdown",
   "id": "3194b90f",
   "metadata": {},
   "source": [
    "3.5 продолжительность поездок."
   ]
  },
  {
   "cell_type": "code",
   "execution_count": 23,
   "id": "a4aba3d1",
   "metadata": {},
   "outputs": [
    {
     "data": {
      "image/png": "[encoded data removed]",
      "text/plain": [
       "<Figure size 640x480 with 1 Axes>"
      ]
     },
     "metadata": {},
     "output_type": "display_data"
    },
    {
     "data": {
      "text/plain": [
       "count    18068.000000\n",
       "mean        17.805011\n",
       "std          6.091051\n",
       "min          0.500000\n",
       "25%         13.597563\n",
       "50%         17.678395\n",
       "75%         21.724800\n",
       "max         40.823963\n",
       "Name: duration, dtype: float64"
      ]
     },
     "execution_count": 23,
     "metadata": {},
     "output_type": "execute_result"
    }
   ],
   "source": [
    "rides_go['duration'].plot(kind='hist', bins=42, title='продолжительность поездок', grid=True)\n",
    "plt.xlabel(\"время поездки\")\n",
    "plt.ylabel(\"кол-во поездок\")\n",
    "plt.show()\n",
    "rides_go['duration'].describe()"
   ]
  },
  {
   "cell_type": "markdown",
   "id": "41deaaf1",
   "metadata": {},
   "source": [
    "Проверим Аномальный пик выброса в районе 0 минут\n",
    "Делаем срез Где время поездки <= 1 минуты"
   ]
  },
  {
   "cell_type": "code",
   "execution_count": 24,
   "id": "cd0f399a",
   "metadata": {},
   "outputs": [
    {
     "data": {
      "text/html": [
       "<div>\n",
       "<style scoped>\n",
       "    .dataframe tbody tr th:only-of-type {\n",
       "        vertical-align: middle;\n",
       "    }\n",
       "\n",
       "    .dataframe tbody tr th {\n",
       "        vertical-align: top;\n",
       "    }\n",
       "\n",
       "    .dataframe thead th {\n",
       "        text-align: right;\n",
       "    }\n",
       "</style>\n",
       "<table border=\"1\" class=\"dataframe\">\n",
       "  <thead>\n",
       "    <tr style=\"text-align: right;\">\n",
       "      <th></th>\n",
       "      <th>user_id</th>\n",
       "      <th>distance</th>\n",
       "      <th>duration</th>\n",
       "      <th>date</th>\n",
       "      <th>month</th>\n",
       "    </tr>\n",
       "  </thead>\n",
       "  <tbody>\n",
       "    <tr>\n",
       "      <th>6531</th>\n",
       "      <td>701</td>\n",
       "      <td>4196.45</td>\n",
       "      <td>0.5</td>\n",
       "      <td>2021-08-31</td>\n",
       "      <td>8</td>\n",
       "    </tr>\n",
       "    <tr>\n",
       "      <th>6570</th>\n",
       "      <td>704</td>\n",
       "      <td>4830.82</td>\n",
       "      <td>0.5</td>\n",
       "      <td>2021-10-14</td>\n",
       "      <td>10</td>\n",
       "    </tr>\n",
       "    <tr>\n",
       "      <th>6680</th>\n",
       "      <td>712</td>\n",
       "      <td>4684.00</td>\n",
       "      <td>0.5</td>\n",
       "      <td>2021-03-04</td>\n",
       "      <td>3</td>\n",
       "    </tr>\n",
       "    <tr>\n",
       "      <th>6695</th>\n",
       "      <td>713</td>\n",
       "      <td>5215.64</td>\n",
       "      <td>0.5</td>\n",
       "      <td>2021-02-25</td>\n",
       "      <td>2</td>\n",
       "    </tr>\n",
       "    <tr>\n",
       "      <th>6768</th>\n",
       "      <td>718</td>\n",
       "      <td>5197.44</td>\n",
       "      <td>0.5</td>\n",
       "      <td>2021-02-11</td>\n",
       "      <td>2</td>\n",
       "    </tr>\n",
       "    <tr>\n",
       "      <th>...</th>\n",
       "      <td>...</td>\n",
       "      <td>...</td>\n",
       "      <td>...</td>\n",
       "      <td>...</td>\n",
       "      <td>...</td>\n",
       "    </tr>\n",
       "    <tr>\n",
       "      <th>17004</th>\n",
       "      <td>1460</td>\n",
       "      <td>5531.34</td>\n",
       "      <td>0.5</td>\n",
       "      <td>2021-01-19</td>\n",
       "      <td>1</td>\n",
       "    </tr>\n",
       "    <tr>\n",
       "      <th>17242</th>\n",
       "      <td>1477</td>\n",
       "      <td>6724.93</td>\n",
       "      <td>0.5</td>\n",
       "      <td>2021-01-12</td>\n",
       "      <td>1</td>\n",
       "    </tr>\n",
       "    <tr>\n",
       "      <th>17314</th>\n",
       "      <td>1483</td>\n",
       "      <td>4445.48</td>\n",
       "      <td>0.5</td>\n",
       "      <td>2021-03-06</td>\n",
       "      <td>3</td>\n",
       "    </tr>\n",
       "    <tr>\n",
       "      <th>17505</th>\n",
       "      <td>1496</td>\n",
       "      <td>5722.55</td>\n",
       "      <td>0.5</td>\n",
       "      <td>2021-02-14</td>\n",
       "      <td>2</td>\n",
       "    </tr>\n",
       "    <tr>\n",
       "      <th>17909</th>\n",
       "      <td>1524</td>\n",
       "      <td>4104.00</td>\n",
       "      <td>0.5</td>\n",
       "      <td>2021-06-18</td>\n",
       "      <td>6</td>\n",
       "    </tr>\n",
       "  </tbody>\n",
       "</table>\n",
       "<p>95 rows × 5 columns</p>\n",
       "</div>"
      ],
      "text/plain": [
       "       user_id  distance  duration       date  month\n",
       "6531       701   4196.45       0.5 2021-08-31      8\n",
       "6570       704   4830.82       0.5 2021-10-14     10\n",
       "6680       712   4684.00       0.5 2021-03-04      3\n",
       "6695       713   5215.64       0.5 2021-02-25      2\n",
       "6768       718   5197.44       0.5 2021-02-11      2\n",
       "...        ...       ...       ...        ...    ...\n",
       "17004     1460   5531.34       0.5 2021-01-19      1\n",
       "17242     1477   6724.93       0.5 2021-01-12      1\n",
       "17314     1483   4445.48       0.5 2021-03-06      3\n",
       "17505     1496   5722.55       0.5 2021-02-14      2\n",
       "17909     1524   4104.00       0.5 2021-06-18      6\n",
       "\n",
       "[95 rows x 5 columns]"
      ]
     },
     "execution_count": 24,
     "metadata": {},
     "output_type": "execute_result"
    }
   ],
   "source": [
    "duration_05 = rides_go.query('duration <= 1')\n",
    "duration_05 #срез с данными где время меньше 1 мин"
   ]
  },
  {
   "cell_type": "markdown",
   "id": "bf56c4ec",
   "metadata": {},
   "source": [
    "видим Что имеется 95 аномальных значений\n",
    "при заполнении данных возможно произошла ошибка так как время поездки не может быть меньше 1 минуты, а также не возможно за 30 секунд проехать такое большое растояние равное 4000м и больше"
   ]
  },
  {
   "cell_type": "markdown",
   "id": "b6f1f079",
   "metadata": {},
   "source": [
    "Заменим время = 0.5 минут на среднее время исходя из расстояния в датафрейме"
   ]
  },
  {
   "cell_type": "markdown",
   "id": "385473ef",
   "metadata": {},
   "source": [
    "Проверим расстоянием которое проезжали пользователя у которых время = 0.5"
   ]
  },
  {
   "cell_type": "code",
   "execution_count": 25,
   "id": "4d1ee666",
   "metadata": {},
   "outputs": [
    {
     "data": {
      "image/png": "[encoded data removed]",
      "text/plain": [
       "<Figure size 640x480 with 1 Axes>"
      ]
     },
     "metadata": {},
     "output_type": "display_data"
    }
   ],
   "source": [
    "duration_05['distance'].plot(kind='hist', title='Расстояние поездок пользователей с аномальным временем', grid=True)\n",
    "plt.xlabel(\"растояние в метрах\")\n",
    "plt.ylabel(\"кол-во поездок\")\n",
    "plt.show()"
   ]
  },
  {
   "cell_type": "markdown",
   "id": "42dbb1b3",
   "metadata": {},
   "source": [
    "Видим что Пользаватели проезжали от 4000 до 7000 м"
   ]
  },
  {
   "cell_type": "markdown",
   "id": "39ebd58b",
   "metadata": {},
   "source": [
    "- делаем срез данных по параметрам время больше 1 минуты и расстояние от 4000 до 7000 м \n",
    "- и Считаем среднее время поездки для пользователей которые проезжали от 4000 до 7000 м "
   ]
  },
  {
   "cell_type": "code",
   "execution_count": 26,
   "id": "832beb93",
   "metadata": {},
   "outputs": [
    {
     "name": "stdout",
     "output_type": "stream",
     "text": [
      "среднее время поездки 4000-7000 м = 22.17\n"
     ]
    }
   ],
   "source": [
    "distance_05 = rides_go.query('duration >= 1 and distance >= 4000 and distance <=7000')\n",
    "duration_05_mean = round(distance_05['duration'].mean(), 2)\n",
    "print('среднее время поездки 4000-7000 м =', duration_05_mean)"
   ]
  },
  {
   "cell_type": "markdown",
   "id": "37ef8525",
   "metadata": {},
   "source": [
    "заменим значение времени 0.5 на среднее время поездки 4000-7000 м"
   ]
  },
  {
   "cell_type": "code",
   "execution_count": 27,
   "id": "1ca2827c",
   "metadata": {},
   "outputs": [],
   "source": [
    "for duration in rides_go['duration']:\n",
    "    rides_go.loc[(rides_go['duration'] == duration) & (rides_go['duration'] == 0.5), 'duration'] = duration_05_mean"
   ]
  },
  {
   "cell_type": "markdown",
   "id": "3c35933b",
   "metadata": {},
   "source": [
    "снова проверим наличие аномальных значений времени "
   ]
  },
  {
   "cell_type": "code",
   "execution_count": 28,
   "id": "48acd2c5",
   "metadata": {},
   "outputs": [
    {
     "data": {
      "image/png": "[encoded data removed]",
      "text/plain": [
       "<Figure size 640x480 with 1 Axes>"
      ]
     },
     "metadata": {},
     "output_type": "display_data"
    }
   ],
   "source": [
    "rides_go['duration'].plot(kind='hist', bins=42, title='продолжительность поездок', grid=True)\n",
    "plt.xlabel(\"время поездки\")\n",
    "plt.ylabel(\"кол-во поездок\")\n",
    "plt.show()"
   ]
  },
  {
   "cell_type": "markdown",
   "id": "8b17d83f",
   "metadata": {},
   "source": [
    "Заменили аномальные значения времени на среднее время для данных растояний"
   ]
  },
  {
   "cell_type": "markdown",
   "id": "43426883",
   "metadata": {},
   "source": [
    "4.1 Объединяем данные о пользователях, поездках и подписках в один датафрейм."
   ]
  },
  {
   "cell_type": "code",
   "execution_count": 29,
   "id": "20dc861d",
   "metadata": {},
   "outputs": [
    {
     "data": {
      "text/html": [
       "<div>\n",
       "<style scoped>\n",
       "    .dataframe tbody tr th:only-of-type {\n",
       "        vertical-align: middle;\n",
       "    }\n",
       "\n",
       "    .dataframe tbody tr th {\n",
       "        vertical-align: top;\n",
       "    }\n",
       "\n",
       "    .dataframe thead th {\n",
       "        text-align: right;\n",
       "    }\n",
       "</style>\n",
       "<table border=\"1\" class=\"dataframe\">\n",
       "  <thead>\n",
       "    <tr style=\"text-align: right;\">\n",
       "      <th></th>\n",
       "      <th>user_id</th>\n",
       "      <th>name</th>\n",
       "      <th>age</th>\n",
       "      <th>city</th>\n",
       "      <th>subscription_type</th>\n",
       "      <th>distance</th>\n",
       "      <th>duration</th>\n",
       "      <th>date</th>\n",
       "      <th>month</th>\n",
       "      <th>minute_price</th>\n",
       "      <th>start_ride_price</th>\n",
       "      <th>subscription_fee</th>\n",
       "    </tr>\n",
       "  </thead>\n",
       "  <tbody>\n",
       "    <tr>\n",
       "      <th>0</th>\n",
       "      <td>1</td>\n",
       "      <td>Кира</td>\n",
       "      <td>22</td>\n",
       "      <td>Тюмень</td>\n",
       "      <td>ultra</td>\n",
       "      <td>4409.92</td>\n",
       "      <td>25.599769</td>\n",
       "      <td>2021-01-01</td>\n",
       "      <td>1</td>\n",
       "      <td>6</td>\n",
       "      <td>0</td>\n",
       "      <td>199</td>\n",
       "    </tr>\n",
       "    <tr>\n",
       "      <th>1</th>\n",
       "      <td>1</td>\n",
       "      <td>Кира</td>\n",
       "      <td>22</td>\n",
       "      <td>Тюмень</td>\n",
       "      <td>ultra</td>\n",
       "      <td>2617.59</td>\n",
       "      <td>15.816871</td>\n",
       "      <td>2021-01-18</td>\n",
       "      <td>1</td>\n",
       "      <td>6</td>\n",
       "      <td>0</td>\n",
       "      <td>199</td>\n",
       "    </tr>\n",
       "    <tr>\n",
       "      <th>2</th>\n",
       "      <td>1</td>\n",
       "      <td>Кира</td>\n",
       "      <td>22</td>\n",
       "      <td>Тюмень</td>\n",
       "      <td>ultra</td>\n",
       "      <td>754.16</td>\n",
       "      <td>6.232113</td>\n",
       "      <td>2021-04-20</td>\n",
       "      <td>4</td>\n",
       "      <td>6</td>\n",
       "      <td>0</td>\n",
       "      <td>199</td>\n",
       "    </tr>\n",
       "    <tr>\n",
       "      <th>3</th>\n",
       "      <td>1</td>\n",
       "      <td>Кира</td>\n",
       "      <td>22</td>\n",
       "      <td>Тюмень</td>\n",
       "      <td>ultra</td>\n",
       "      <td>2694.78</td>\n",
       "      <td>18.511000</td>\n",
       "      <td>2021-08-11</td>\n",
       "      <td>8</td>\n",
       "      <td>6</td>\n",
       "      <td>0</td>\n",
       "      <td>199</td>\n",
       "    </tr>\n",
       "    <tr>\n",
       "      <th>4</th>\n",
       "      <td>1</td>\n",
       "      <td>Кира</td>\n",
       "      <td>22</td>\n",
       "      <td>Тюмень</td>\n",
       "      <td>ultra</td>\n",
       "      <td>4028.69</td>\n",
       "      <td>26.265803</td>\n",
       "      <td>2021-08-28</td>\n",
       "      <td>8</td>\n",
       "      <td>6</td>\n",
       "      <td>0</td>\n",
       "      <td>199</td>\n",
       "    </tr>\n",
       "    <tr>\n",
       "      <th>...</th>\n",
       "      <td>...</td>\n",
       "      <td>...</td>\n",
       "      <td>...</td>\n",
       "      <td>...</td>\n",
       "      <td>...</td>\n",
       "      <td>...</td>\n",
       "      <td>...</td>\n",
       "      <td>...</td>\n",
       "      <td>...</td>\n",
       "      <td>...</td>\n",
       "      <td>...</td>\n",
       "      <td>...</td>\n",
       "    </tr>\n",
       "    <tr>\n",
       "      <th>18063</th>\n",
       "      <td>1534</td>\n",
       "      <td>Альберт</td>\n",
       "      <td>25</td>\n",
       "      <td>Краснодар</td>\n",
       "      <td>free</td>\n",
       "      <td>3781.10</td>\n",
       "      <td>19.822962</td>\n",
       "      <td>2021-11-04</td>\n",
       "      <td>11</td>\n",
       "      <td>8</td>\n",
       "      <td>50</td>\n",
       "      <td>0</td>\n",
       "    </tr>\n",
       "    <tr>\n",
       "      <th>18064</th>\n",
       "      <td>1534</td>\n",
       "      <td>Альберт</td>\n",
       "      <td>25</td>\n",
       "      <td>Краснодар</td>\n",
       "      <td>free</td>\n",
       "      <td>2840.42</td>\n",
       "      <td>21.409799</td>\n",
       "      <td>2021-11-16</td>\n",
       "      <td>11</td>\n",
       "      <td>8</td>\n",
       "      <td>50</td>\n",
       "      <td>0</td>\n",
       "    </tr>\n",
       "    <tr>\n",
       "      <th>18065</th>\n",
       "      <td>1534</td>\n",
       "      <td>Альберт</td>\n",
       "      <td>25</td>\n",
       "      <td>Краснодар</td>\n",
       "      <td>free</td>\n",
       "      <td>3826.19</td>\n",
       "      <td>18.435051</td>\n",
       "      <td>2021-11-18</td>\n",
       "      <td>11</td>\n",
       "      <td>8</td>\n",
       "      <td>50</td>\n",
       "      <td>0</td>\n",
       "    </tr>\n",
       "    <tr>\n",
       "      <th>18066</th>\n",
       "      <td>1534</td>\n",
       "      <td>Альберт</td>\n",
       "      <td>25</td>\n",
       "      <td>Краснодар</td>\n",
       "      <td>free</td>\n",
       "      <td>2902.31</td>\n",
       "      <td>16.674362</td>\n",
       "      <td>2021-11-27</td>\n",
       "      <td>11</td>\n",
       "      <td>8</td>\n",
       "      <td>50</td>\n",
       "      <td>0</td>\n",
       "    </tr>\n",
       "    <tr>\n",
       "      <th>18067</th>\n",
       "      <td>1534</td>\n",
       "      <td>Альберт</td>\n",
       "      <td>25</td>\n",
       "      <td>Краснодар</td>\n",
       "      <td>free</td>\n",
       "      <td>2371.71</td>\n",
       "      <td>15.893917</td>\n",
       "      <td>2021-12-29</td>\n",
       "      <td>12</td>\n",
       "      <td>8</td>\n",
       "      <td>50</td>\n",
       "      <td>0</td>\n",
       "    </tr>\n",
       "  </tbody>\n",
       "</table>\n",
       "<p>18068 rows × 12 columns</p>\n",
       "</div>"
      ],
      "text/plain": [
       "       user_id     name  age       city subscription_type  distance  \\\n",
       "0            1     Кира   22     Тюмень             ultra   4409.92   \n",
       "1            1     Кира   22     Тюмень             ultra   2617.59   \n",
       "2            1     Кира   22     Тюмень             ultra    754.16   \n",
       "3            1     Кира   22     Тюмень             ultra   2694.78   \n",
       "4            1     Кира   22     Тюмень             ultra   4028.69   \n",
       "...        ...      ...  ...        ...               ...       ...   \n",
       "18063     1534  Альберт   25  Краснодар              free   3781.10   \n",
       "18064     1534  Альберт   25  Краснодар              free   2840.42   \n",
       "18065     1534  Альберт   25  Краснодар              free   3826.19   \n",
       "18066     1534  Альберт   25  Краснодар              free   2902.31   \n",
       "18067     1534  Альберт   25  Краснодар              free   2371.71   \n",
       "\n",
       "        duration       date  month  minute_price  start_ride_price  \\\n",
       "0      25.599769 2021-01-01      1             6                 0   \n",
       "1      15.816871 2021-01-18      1             6                 0   \n",
       "2       6.232113 2021-04-20      4             6                 0   \n",
       "3      18.511000 2021-08-11      8             6                 0   \n",
       "4      26.265803 2021-08-28      8             6                 0   \n",
       "...          ...        ...    ...           ...               ...   \n",
       "18063  19.822962 2021-11-04     11             8                50   \n",
       "18064  21.409799 2021-11-16     11             8                50   \n",
       "18065  18.435051 2021-11-18     11             8                50   \n",
       "18066  16.674362 2021-11-27     11             8                50   \n",
       "18067  15.893917 2021-12-29     12             8                50   \n",
       "\n",
       "       subscription_fee  \n",
       "0                   199  \n",
       "1                   199  \n",
       "2                   199  \n",
       "3                   199  \n",
       "4                   199  \n",
       "...                 ...  \n",
       "18063                 0  \n",
       "18064                 0  \n",
       "18065                 0  \n",
       "18066                 0  \n",
       "18067                 0  \n",
       "\n",
       "[18068 rows x 12 columns]"
      ]
     },
     "execution_count": 29,
     "metadata": {},
     "output_type": "execute_result"
    }
   ],
   "source": [
    "data = users_go.merge(rides_go, on='user_id', how='left')\n",
    "data = data.merge(subscriptions_go, on='subscription_type', how='left')\n",
    "data"
   ]
  },
  {
   "cell_type": "code",
   "execution_count": 30,
   "id": "9589eaec",
   "metadata": {},
   "outputs": [
    {
     "name": "stdout",
     "output_type": "stream",
     "text": [
      "<class 'pandas.core.frame.DataFrame'>\n",
      "Int64Index: 18068 entries, 0 to 18067\n",
      "Data columns (total 12 columns):\n",
      " #   Column             Non-Null Count  Dtype         \n",
      "---  ------             --------------  -----         \n",
      " 0   user_id            18068 non-null  int64         \n",
      " 1   name               18068 non-null  object        \n",
      " 2   age                18068 non-null  int64         \n",
      " 3   city               18068 non-null  object        \n",
      " 4   subscription_type  18068 non-null  object        \n",
      " 5   distance           18068 non-null  float64       \n",
      " 6   duration           18068 non-null  float64       \n",
      " 7   date               18068 non-null  datetime64[ns]\n",
      " 8   month              18068 non-null  int64         \n",
      " 9   minute_price       18068 non-null  int64         \n",
      " 10  start_ride_price   18068 non-null  int64         \n",
      " 11  subscription_fee   18068 non-null  int64         \n",
      "dtypes: datetime64[ns](1), float64(2), int64(6), object(3)\n",
      "memory usage: 1.8+ MB\n"
     ]
    }
   ],
   "source": [
    "data.info()"
   ]
  },
  {
   "cell_type": "markdown",
   "id": "2b9e4eb7",
   "metadata": {},
   "source": [
    "проверили количество строк после соединения таблиц = 18068, все данные на месте ничего не потнрялось и не добавилось лишнего"
   ]
  },
  {
   "cell_type": "markdown",
   "id": "996c6f98",
   "metadata": {},
   "source": [
    "каждое значение из столбца duration округляется с помощью «потолка»: "
   ]
  },
  {
   "cell_type": "code",
   "execution_count": 31,
   "id": "d254f52a",
   "metadata": {},
   "outputs": [
    {
     "data": {
      "text/html": [
       "<div>\n",
       "<style scoped>\n",
       "    .dataframe tbody tr th:only-of-type {\n",
       "        vertical-align: middle;\n",
       "    }\n",
       "\n",
       "    .dataframe tbody tr th {\n",
       "        vertical-align: top;\n",
       "    }\n",
       "\n",
       "    .dataframe thead th {\n",
       "        text-align: right;\n",
       "    }\n",
       "</style>\n",
       "<table border=\"1\" class=\"dataframe\">\n",
       "  <thead>\n",
       "    <tr style=\"text-align: right;\">\n",
       "      <th></th>\n",
       "      <th>user_id</th>\n",
       "      <th>name</th>\n",
       "      <th>age</th>\n",
       "      <th>city</th>\n",
       "      <th>subscription_type</th>\n",
       "      <th>distance</th>\n",
       "      <th>duration</th>\n",
       "      <th>date</th>\n",
       "      <th>month</th>\n",
       "      <th>minute_price</th>\n",
       "      <th>start_ride_price</th>\n",
       "      <th>subscription_fee</th>\n",
       "    </tr>\n",
       "  </thead>\n",
       "  <tbody>\n",
       "    <tr>\n",
       "      <th>0</th>\n",
       "      <td>1</td>\n",
       "      <td>Кира</td>\n",
       "      <td>22</td>\n",
       "      <td>Тюмень</td>\n",
       "      <td>ultra</td>\n",
       "      <td>4409.92</td>\n",
       "      <td>26.0</td>\n",
       "      <td>2021-01-01</td>\n",
       "      <td>1</td>\n",
       "      <td>6</td>\n",
       "      <td>0</td>\n",
       "      <td>199</td>\n",
       "    </tr>\n",
       "    <tr>\n",
       "      <th>1</th>\n",
       "      <td>1</td>\n",
       "      <td>Кира</td>\n",
       "      <td>22</td>\n",
       "      <td>Тюмень</td>\n",
       "      <td>ultra</td>\n",
       "      <td>2617.59</td>\n",
       "      <td>16.0</td>\n",
       "      <td>2021-01-18</td>\n",
       "      <td>1</td>\n",
       "      <td>6</td>\n",
       "      <td>0</td>\n",
       "      <td>199</td>\n",
       "    </tr>\n",
       "    <tr>\n",
       "      <th>2</th>\n",
       "      <td>1</td>\n",
       "      <td>Кира</td>\n",
       "      <td>22</td>\n",
       "      <td>Тюмень</td>\n",
       "      <td>ultra</td>\n",
       "      <td>754.16</td>\n",
       "      <td>7.0</td>\n",
       "      <td>2021-04-20</td>\n",
       "      <td>4</td>\n",
       "      <td>6</td>\n",
       "      <td>0</td>\n",
       "      <td>199</td>\n",
       "    </tr>\n",
       "    <tr>\n",
       "      <th>3</th>\n",
       "      <td>1</td>\n",
       "      <td>Кира</td>\n",
       "      <td>22</td>\n",
       "      <td>Тюмень</td>\n",
       "      <td>ultra</td>\n",
       "      <td>2694.78</td>\n",
       "      <td>19.0</td>\n",
       "      <td>2021-08-11</td>\n",
       "      <td>8</td>\n",
       "      <td>6</td>\n",
       "      <td>0</td>\n",
       "      <td>199</td>\n",
       "    </tr>\n",
       "    <tr>\n",
       "      <th>4</th>\n",
       "      <td>1</td>\n",
       "      <td>Кира</td>\n",
       "      <td>22</td>\n",
       "      <td>Тюмень</td>\n",
       "      <td>ultra</td>\n",
       "      <td>4028.69</td>\n",
       "      <td>27.0</td>\n",
       "      <td>2021-08-28</td>\n",
       "      <td>8</td>\n",
       "      <td>6</td>\n",
       "      <td>0</td>\n",
       "      <td>199</td>\n",
       "    </tr>\n",
       "    <tr>\n",
       "      <th>...</th>\n",
       "      <td>...</td>\n",
       "      <td>...</td>\n",
       "      <td>...</td>\n",
       "      <td>...</td>\n",
       "      <td>...</td>\n",
       "      <td>...</td>\n",
       "      <td>...</td>\n",
       "      <td>...</td>\n",
       "      <td>...</td>\n",
       "      <td>...</td>\n",
       "      <td>...</td>\n",
       "      <td>...</td>\n",
       "    </tr>\n",
       "    <tr>\n",
       "      <th>18063</th>\n",
       "      <td>1534</td>\n",
       "      <td>Альберт</td>\n",
       "      <td>25</td>\n",
       "      <td>Краснодар</td>\n",
       "      <td>free</td>\n",
       "      <td>3781.10</td>\n",
       "      <td>20.0</td>\n",
       "      <td>2021-11-04</td>\n",
       "      <td>11</td>\n",
       "      <td>8</td>\n",
       "      <td>50</td>\n",
       "      <td>0</td>\n",
       "    </tr>\n",
       "    <tr>\n",
       "      <th>18064</th>\n",
       "      <td>1534</td>\n",
       "      <td>Альберт</td>\n",
       "      <td>25</td>\n",
       "      <td>Краснодар</td>\n",
       "      <td>free</td>\n",
       "      <td>2840.42</td>\n",
       "      <td>22.0</td>\n",
       "      <td>2021-11-16</td>\n",
       "      <td>11</td>\n",
       "      <td>8</td>\n",
       "      <td>50</td>\n",
       "      <td>0</td>\n",
       "    </tr>\n",
       "    <tr>\n",
       "      <th>18065</th>\n",
       "      <td>1534</td>\n",
       "      <td>Альберт</td>\n",
       "      <td>25</td>\n",
       "      <td>Краснодар</td>\n",
       "      <td>free</td>\n",
       "      <td>3826.19</td>\n",
       "      <td>19.0</td>\n",
       "      <td>2021-11-18</td>\n",
       "      <td>11</td>\n",
       "      <td>8</td>\n",
       "      <td>50</td>\n",
       "      <td>0</td>\n",
       "    </tr>\n",
       "    <tr>\n",
       "      <th>18066</th>\n",
       "      <td>1534</td>\n",
       "      <td>Альберт</td>\n",
       "      <td>25</td>\n",
       "      <td>Краснодар</td>\n",
       "      <td>free</td>\n",
       "      <td>2902.31</td>\n",
       "      <td>17.0</td>\n",
       "      <td>2021-11-27</td>\n",
       "      <td>11</td>\n",
       "      <td>8</td>\n",
       "      <td>50</td>\n",
       "      <td>0</td>\n",
       "    </tr>\n",
       "    <tr>\n",
       "      <th>18067</th>\n",
       "      <td>1534</td>\n",
       "      <td>Альберт</td>\n",
       "      <td>25</td>\n",
       "      <td>Краснодар</td>\n",
       "      <td>free</td>\n",
       "      <td>2371.71</td>\n",
       "      <td>16.0</td>\n",
       "      <td>2021-12-29</td>\n",
       "      <td>12</td>\n",
       "      <td>8</td>\n",
       "      <td>50</td>\n",
       "      <td>0</td>\n",
       "    </tr>\n",
       "  </tbody>\n",
       "</table>\n",
       "<p>18068 rows × 12 columns</p>\n",
       "</div>"
      ],
      "text/plain": [
       "       user_id     name  age       city subscription_type  distance  duration  \\\n",
       "0            1     Кира   22     Тюмень             ultra   4409.92      26.0   \n",
       "1            1     Кира   22     Тюмень             ultra   2617.59      16.0   \n",
       "2            1     Кира   22     Тюмень             ultra    754.16       7.0   \n",
       "3            1     Кира   22     Тюмень             ultra   2694.78      19.0   \n",
       "4            1     Кира   22     Тюмень             ultra   4028.69      27.0   \n",
       "...        ...      ...  ...        ...               ...       ...       ...   \n",
       "18063     1534  Альберт   25  Краснодар              free   3781.10      20.0   \n",
       "18064     1534  Альберт   25  Краснодар              free   2840.42      22.0   \n",
       "18065     1534  Альберт   25  Краснодар              free   3826.19      19.0   \n",
       "18066     1534  Альберт   25  Краснодар              free   2902.31      17.0   \n",
       "18067     1534  Альберт   25  Краснодар              free   2371.71      16.0   \n",
       "\n",
       "            date  month  minute_price  start_ride_price  subscription_fee  \n",
       "0     2021-01-01      1             6                 0               199  \n",
       "1     2021-01-18      1             6                 0               199  \n",
       "2     2021-04-20      4             6                 0               199  \n",
       "3     2021-08-11      8             6                 0               199  \n",
       "4     2021-08-28      8             6                 0               199  \n",
       "...          ...    ...           ...               ...               ...  \n",
       "18063 2021-11-04     11             8                50                 0  \n",
       "18064 2021-11-16     11             8                50                 0  \n",
       "18065 2021-11-18     11             8                50                 0  \n",
       "18066 2021-11-27     11             8                50                 0  \n",
       "18067 2021-12-29     12             8                50                 0  \n",
       "\n",
       "[18068 rows x 12 columns]"
      ]
     },
     "execution_count": 31,
     "metadata": {},
     "output_type": "execute_result"
    }
   ],
   "source": [
    "data['duration'] = np.ceil(data['duration'])\n",
    "data"
   ]
  },
  {
   "cell_type": "markdown",
   "id": "61861114",
   "metadata": {},
   "source": [
    "4.2 Создадим ещё два датафрейма из датафрейма, созданного на этапе 4.1:"
   ]
  },
  {
   "cell_type": "markdown",
   "id": "fd2e22a2",
   "metadata": {},
   "source": [
    "4.2.1 данныe о пользователях 'с подпиской'"
   ]
  },
  {
   "cell_type": "code",
   "execution_count": 32,
   "id": "5ca4ced4",
   "metadata": {},
   "outputs": [
    {
     "data": {
      "text/html": [
       "<div>\n",
       "<style scoped>\n",
       "    .dataframe tbody tr th:only-of-type {\n",
       "        vertical-align: middle;\n",
       "    }\n",
       "\n",
       "    .dataframe tbody tr th {\n",
       "        vertical-align: top;\n",
       "    }\n",
       "\n",
       "    .dataframe thead th {\n",
       "        text-align: right;\n",
       "    }\n",
       "</style>\n",
       "<table border=\"1\" class=\"dataframe\">\n",
       "  <thead>\n",
       "    <tr style=\"text-align: right;\">\n",
       "      <th></th>\n",
       "      <th>user_id</th>\n",
       "      <th>name</th>\n",
       "      <th>age</th>\n",
       "      <th>city</th>\n",
       "      <th>subscription_type</th>\n",
       "      <th>distance</th>\n",
       "      <th>duration</th>\n",
       "      <th>date</th>\n",
       "      <th>month</th>\n",
       "      <th>minute_price</th>\n",
       "      <th>start_ride_price</th>\n",
       "      <th>subscription_fee</th>\n",
       "    </tr>\n",
       "  </thead>\n",
       "  <tbody>\n",
       "    <tr>\n",
       "      <th>0</th>\n",
       "      <td>1</td>\n",
       "      <td>Кира</td>\n",
       "      <td>22</td>\n",
       "      <td>Тюмень</td>\n",
       "      <td>ultra</td>\n",
       "      <td>4409.92</td>\n",
       "      <td>26.0</td>\n",
       "      <td>2021-01-01</td>\n",
       "      <td>1</td>\n",
       "      <td>6</td>\n",
       "      <td>0</td>\n",
       "      <td>199</td>\n",
       "    </tr>\n",
       "    <tr>\n",
       "      <th>1</th>\n",
       "      <td>1</td>\n",
       "      <td>Кира</td>\n",
       "      <td>22</td>\n",
       "      <td>Тюмень</td>\n",
       "      <td>ultra</td>\n",
       "      <td>2617.59</td>\n",
       "      <td>16.0</td>\n",
       "      <td>2021-01-18</td>\n",
       "      <td>1</td>\n",
       "      <td>6</td>\n",
       "      <td>0</td>\n",
       "      <td>199</td>\n",
       "    </tr>\n",
       "    <tr>\n",
       "      <th>2</th>\n",
       "      <td>1</td>\n",
       "      <td>Кира</td>\n",
       "      <td>22</td>\n",
       "      <td>Тюмень</td>\n",
       "      <td>ultra</td>\n",
       "      <td>754.16</td>\n",
       "      <td>7.0</td>\n",
       "      <td>2021-04-20</td>\n",
       "      <td>4</td>\n",
       "      <td>6</td>\n",
       "      <td>0</td>\n",
       "      <td>199</td>\n",
       "    </tr>\n",
       "    <tr>\n",
       "      <th>3</th>\n",
       "      <td>1</td>\n",
       "      <td>Кира</td>\n",
       "      <td>22</td>\n",
       "      <td>Тюмень</td>\n",
       "      <td>ultra</td>\n",
       "      <td>2694.78</td>\n",
       "      <td>19.0</td>\n",
       "      <td>2021-08-11</td>\n",
       "      <td>8</td>\n",
       "      <td>6</td>\n",
       "      <td>0</td>\n",
       "      <td>199</td>\n",
       "    </tr>\n",
       "    <tr>\n",
       "      <th>4</th>\n",
       "      <td>1</td>\n",
       "      <td>Кира</td>\n",
       "      <td>22</td>\n",
       "      <td>Тюмень</td>\n",
       "      <td>ultra</td>\n",
       "      <td>4028.69</td>\n",
       "      <td>27.0</td>\n",
       "      <td>2021-08-28</td>\n",
       "      <td>8</td>\n",
       "      <td>6</td>\n",
       "      <td>0</td>\n",
       "      <td>199</td>\n",
       "    </tr>\n",
       "    <tr>\n",
       "      <th>...</th>\n",
       "      <td>...</td>\n",
       "      <td>...</td>\n",
       "      <td>...</td>\n",
       "      <td>...</td>\n",
       "      <td>...</td>\n",
       "      <td>...</td>\n",
       "      <td>...</td>\n",
       "      <td>...</td>\n",
       "      <td>...</td>\n",
       "      <td>...</td>\n",
       "      <td>...</td>\n",
       "      <td>...</td>\n",
       "    </tr>\n",
       "    <tr>\n",
       "      <th>6495</th>\n",
       "      <td>699</td>\n",
       "      <td>Оксана</td>\n",
       "      <td>22</td>\n",
       "      <td>Москва</td>\n",
       "      <td>ultra</td>\n",
       "      <td>3973.05</td>\n",
       "      <td>25.0</td>\n",
       "      <td>2021-08-29</td>\n",
       "      <td>8</td>\n",
       "      <td>6</td>\n",
       "      <td>0</td>\n",
       "      <td>199</td>\n",
       "    </tr>\n",
       "    <tr>\n",
       "      <th>6496</th>\n",
       "      <td>699</td>\n",
       "      <td>Оксана</td>\n",
       "      <td>22</td>\n",
       "      <td>Москва</td>\n",
       "      <td>ultra</td>\n",
       "      <td>3288.70</td>\n",
       "      <td>16.0</td>\n",
       "      <td>2021-09-12</td>\n",
       "      <td>9</td>\n",
       "      <td>6</td>\n",
       "      <td>0</td>\n",
       "      <td>199</td>\n",
       "    </tr>\n",
       "    <tr>\n",
       "      <th>6497</th>\n",
       "      <td>699</td>\n",
       "      <td>Оксана</td>\n",
       "      <td>22</td>\n",
       "      <td>Москва</td>\n",
       "      <td>ultra</td>\n",
       "      <td>3076.16</td>\n",
       "      <td>15.0</td>\n",
       "      <td>2021-09-26</td>\n",
       "      <td>9</td>\n",
       "      <td>6</td>\n",
       "      <td>0</td>\n",
       "      <td>199</td>\n",
       "    </tr>\n",
       "    <tr>\n",
       "      <th>6498</th>\n",
       "      <td>699</td>\n",
       "      <td>Оксана</td>\n",
       "      <td>22</td>\n",
       "      <td>Москва</td>\n",
       "      <td>ultra</td>\n",
       "      <td>4707.85</td>\n",
       "      <td>16.0</td>\n",
       "      <td>2021-10-17</td>\n",
       "      <td>10</td>\n",
       "      <td>6</td>\n",
       "      <td>0</td>\n",
       "      <td>199</td>\n",
       "    </tr>\n",
       "    <tr>\n",
       "      <th>6499</th>\n",
       "      <td>699</td>\n",
       "      <td>Оксана</td>\n",
       "      <td>22</td>\n",
       "      <td>Москва</td>\n",
       "      <td>ultra</td>\n",
       "      <td>3202.89</td>\n",
       "      <td>26.0</td>\n",
       "      <td>2021-12-03</td>\n",
       "      <td>12</td>\n",
       "      <td>6</td>\n",
       "      <td>0</td>\n",
       "      <td>199</td>\n",
       "    </tr>\n",
       "  </tbody>\n",
       "</table>\n",
       "<p>6500 rows × 12 columns</p>\n",
       "</div>"
      ],
      "text/plain": [
       "      user_id    name  age    city subscription_type  distance  duration  \\\n",
       "0           1    Кира   22  Тюмень             ultra   4409.92      26.0   \n",
       "1           1    Кира   22  Тюмень             ultra   2617.59      16.0   \n",
       "2           1    Кира   22  Тюмень             ultra    754.16       7.0   \n",
       "3           1    Кира   22  Тюмень             ultra   2694.78      19.0   \n",
       "4           1    Кира   22  Тюмень             ultra   4028.69      27.0   \n",
       "...       ...     ...  ...     ...               ...       ...       ...   \n",
       "6495      699  Оксана   22  Москва             ultra   3973.05      25.0   \n",
       "6496      699  Оксана   22  Москва             ultra   3288.70      16.0   \n",
       "6497      699  Оксана   22  Москва             ultra   3076.16      15.0   \n",
       "6498      699  Оксана   22  Москва             ultra   4707.85      16.0   \n",
       "6499      699  Оксана   22  Москва             ultra   3202.89      26.0   \n",
       "\n",
       "           date  month  minute_price  start_ride_price  subscription_fee  \n",
       "0    2021-01-01      1             6                 0               199  \n",
       "1    2021-01-18      1             6                 0               199  \n",
       "2    2021-04-20      4             6                 0               199  \n",
       "3    2021-08-11      8             6                 0               199  \n",
       "4    2021-08-28      8             6                 0               199  \n",
       "...         ...    ...           ...               ...               ...  \n",
       "6495 2021-08-29      8             6                 0               199  \n",
       "6496 2021-09-12      9             6                 0               199  \n",
       "6497 2021-09-26      9             6                 0               199  \n",
       "6498 2021-10-17     10             6                 0               199  \n",
       "6499 2021-12-03     12             6                 0               199  \n",
       "\n",
       "[6500 rows x 12 columns]"
      ]
     },
     "execution_count": 32,
     "metadata": {},
     "output_type": "execute_result"
    }
   ],
   "source": [
    "data_ultra = data.query('subscription_type == \"ultra\"')\n",
    "data_ultra"
   ]
  },
  {
   "cell_type": "markdown",
   "id": "25cc8bd6",
   "metadata": {},
   "source": [
    "4.2.2 данныe о пользователях 'без подписки'"
   ]
  },
  {
   "cell_type": "code",
   "execution_count": 33,
   "id": "e5efc3f5",
   "metadata": {},
   "outputs": [
    {
     "data": {
      "text/html": [
       "<div>\n",
       "<style scoped>\n",
       "    .dataframe tbody tr th:only-of-type {\n",
       "        vertical-align: middle;\n",
       "    }\n",
       "\n",
       "    .dataframe tbody tr th {\n",
       "        vertical-align: top;\n",
       "    }\n",
       "\n",
       "    .dataframe thead th {\n",
       "        text-align: right;\n",
       "    }\n",
       "</style>\n",
       "<table border=\"1\" class=\"dataframe\">\n",
       "  <thead>\n",
       "    <tr style=\"text-align: right;\">\n",
       "      <th></th>\n",
       "      <th>user_id</th>\n",
       "      <th>name</th>\n",
       "      <th>age</th>\n",
       "      <th>city</th>\n",
       "      <th>subscription_type</th>\n",
       "      <th>distance</th>\n",
       "      <th>duration</th>\n",
       "      <th>date</th>\n",
       "      <th>month</th>\n",
       "      <th>minute_price</th>\n",
       "      <th>start_ride_price</th>\n",
       "      <th>subscription_fee</th>\n",
       "    </tr>\n",
       "  </thead>\n",
       "  <tbody>\n",
       "    <tr>\n",
       "      <th>6500</th>\n",
       "      <td>700</td>\n",
       "      <td>Айдар</td>\n",
       "      <td>22</td>\n",
       "      <td>Омск</td>\n",
       "      <td>free</td>\n",
       "      <td>2515.69</td>\n",
       "      <td>15.0</td>\n",
       "      <td>2021-01-02</td>\n",
       "      <td>1</td>\n",
       "      <td>8</td>\n",
       "      <td>50</td>\n",
       "      <td>0</td>\n",
       "    </tr>\n",
       "    <tr>\n",
       "      <th>6501</th>\n",
       "      <td>700</td>\n",
       "      <td>Айдар</td>\n",
       "      <td>22</td>\n",
       "      <td>Омск</td>\n",
       "      <td>free</td>\n",
       "      <td>846.93</td>\n",
       "      <td>17.0</td>\n",
       "      <td>2021-02-01</td>\n",
       "      <td>2</td>\n",
       "      <td>8</td>\n",
       "      <td>50</td>\n",
       "      <td>0</td>\n",
       "    </tr>\n",
       "    <tr>\n",
       "      <th>6502</th>\n",
       "      <td>700</td>\n",
       "      <td>Айдар</td>\n",
       "      <td>22</td>\n",
       "      <td>Омск</td>\n",
       "      <td>free</td>\n",
       "      <td>4004.43</td>\n",
       "      <td>21.0</td>\n",
       "      <td>2021-02-04</td>\n",
       "      <td>2</td>\n",
       "      <td>8</td>\n",
       "      <td>50</td>\n",
       "      <td>0</td>\n",
       "    </tr>\n",
       "    <tr>\n",
       "      <th>6503</th>\n",
       "      <td>700</td>\n",
       "      <td>Айдар</td>\n",
       "      <td>22</td>\n",
       "      <td>Омск</td>\n",
       "      <td>free</td>\n",
       "      <td>1205.91</td>\n",
       "      <td>10.0</td>\n",
       "      <td>2021-02-10</td>\n",
       "      <td>2</td>\n",
       "      <td>8</td>\n",
       "      <td>50</td>\n",
       "      <td>0</td>\n",
       "    </tr>\n",
       "    <tr>\n",
       "      <th>6504</th>\n",
       "      <td>700</td>\n",
       "      <td>Айдар</td>\n",
       "      <td>22</td>\n",
       "      <td>Омск</td>\n",
       "      <td>free</td>\n",
       "      <td>3047.38</td>\n",
       "      <td>18.0</td>\n",
       "      <td>2021-02-14</td>\n",
       "      <td>2</td>\n",
       "      <td>8</td>\n",
       "      <td>50</td>\n",
       "      <td>0</td>\n",
       "    </tr>\n",
       "    <tr>\n",
       "      <th>...</th>\n",
       "      <td>...</td>\n",
       "      <td>...</td>\n",
       "      <td>...</td>\n",
       "      <td>...</td>\n",
       "      <td>...</td>\n",
       "      <td>...</td>\n",
       "      <td>...</td>\n",
       "      <td>...</td>\n",
       "      <td>...</td>\n",
       "      <td>...</td>\n",
       "      <td>...</td>\n",
       "      <td>...</td>\n",
       "    </tr>\n",
       "    <tr>\n",
       "      <th>18063</th>\n",
       "      <td>1534</td>\n",
       "      <td>Альберт</td>\n",
       "      <td>25</td>\n",
       "      <td>Краснодар</td>\n",
       "      <td>free</td>\n",
       "      <td>3781.10</td>\n",
       "      <td>20.0</td>\n",
       "      <td>2021-11-04</td>\n",
       "      <td>11</td>\n",
       "      <td>8</td>\n",
       "      <td>50</td>\n",
       "      <td>0</td>\n",
       "    </tr>\n",
       "    <tr>\n",
       "      <th>18064</th>\n",
       "      <td>1534</td>\n",
       "      <td>Альберт</td>\n",
       "      <td>25</td>\n",
       "      <td>Краснодар</td>\n",
       "      <td>free</td>\n",
       "      <td>2840.42</td>\n",
       "      <td>22.0</td>\n",
       "      <td>2021-11-16</td>\n",
       "      <td>11</td>\n",
       "      <td>8</td>\n",
       "      <td>50</td>\n",
       "      <td>0</td>\n",
       "    </tr>\n",
       "    <tr>\n",
       "      <th>18065</th>\n",
       "      <td>1534</td>\n",
       "      <td>Альберт</td>\n",
       "      <td>25</td>\n",
       "      <td>Краснодар</td>\n",
       "      <td>free</td>\n",
       "      <td>3826.19</td>\n",
       "      <td>19.0</td>\n",
       "      <td>2021-11-18</td>\n",
       "      <td>11</td>\n",
       "      <td>8</td>\n",
       "      <td>50</td>\n",
       "      <td>0</td>\n",
       "    </tr>\n",
       "    <tr>\n",
       "      <th>18066</th>\n",
       "      <td>1534</td>\n",
       "      <td>Альберт</td>\n",
       "      <td>25</td>\n",
       "      <td>Краснодар</td>\n",
       "      <td>free</td>\n",
       "      <td>2902.31</td>\n",
       "      <td>17.0</td>\n",
       "      <td>2021-11-27</td>\n",
       "      <td>11</td>\n",
       "      <td>8</td>\n",
       "      <td>50</td>\n",
       "      <td>0</td>\n",
       "    </tr>\n",
       "    <tr>\n",
       "      <th>18067</th>\n",
       "      <td>1534</td>\n",
       "      <td>Альберт</td>\n",
       "      <td>25</td>\n",
       "      <td>Краснодар</td>\n",
       "      <td>free</td>\n",
       "      <td>2371.71</td>\n",
       "      <td>16.0</td>\n",
       "      <td>2021-12-29</td>\n",
       "      <td>12</td>\n",
       "      <td>8</td>\n",
       "      <td>50</td>\n",
       "      <td>0</td>\n",
       "    </tr>\n",
       "  </tbody>\n",
       "</table>\n",
       "<p>11568 rows × 12 columns</p>\n",
       "</div>"
      ],
      "text/plain": [
       "       user_id     name  age       city subscription_type  distance  duration  \\\n",
       "6500       700    Айдар   22       Омск              free   2515.69      15.0   \n",
       "6501       700    Айдар   22       Омск              free    846.93      17.0   \n",
       "6502       700    Айдар   22       Омск              free   4004.43      21.0   \n",
       "6503       700    Айдар   22       Омск              free   1205.91      10.0   \n",
       "6504       700    Айдар   22       Омск              free   3047.38      18.0   \n",
       "...        ...      ...  ...        ...               ...       ...       ...   \n",
       "18063     1534  Альберт   25  Краснодар              free   3781.10      20.0   \n",
       "18064     1534  Альберт   25  Краснодар              free   2840.42      22.0   \n",
       "18065     1534  Альберт   25  Краснодар              free   3826.19      19.0   \n",
       "18066     1534  Альберт   25  Краснодар              free   2902.31      17.0   \n",
       "18067     1534  Альберт   25  Краснодар              free   2371.71      16.0   \n",
       "\n",
       "            date  month  minute_price  start_ride_price  subscription_fee  \n",
       "6500  2021-01-02      1             8                50                 0  \n",
       "6501  2021-02-01      2             8                50                 0  \n",
       "6502  2021-02-04      2             8                50                 0  \n",
       "6503  2021-02-10      2             8                50                 0  \n",
       "6504  2021-02-14      2             8                50                 0  \n",
       "...          ...    ...           ...               ...               ...  \n",
       "18063 2021-11-04     11             8                50                 0  \n",
       "18064 2021-11-16     11             8                50                 0  \n",
       "18065 2021-11-18     11             8                50                 0  \n",
       "18066 2021-11-27     11             8                50                 0  \n",
       "18067 2021-12-29     12             8                50                 0  \n",
       "\n",
       "[11568 rows x 12 columns]"
      ]
     },
     "execution_count": 33,
     "metadata": {},
     "output_type": "execute_result"
    }
   ],
   "source": [
    "data_free = data.query('subscription_type == \"free\"')\n",
    "data_free"
   ]
  },
  {
   "cell_type": "markdown",
   "id": "02fc2fe3",
   "metadata": {},
   "source": [
    "4.3.1 продолжительность поездок пользователей 'с подпиской' и 'без подписки'"
   ]
  },
  {
   "cell_type": "code",
   "execution_count": 34,
   "id": "3146db4e",
   "metadata": {},
   "outputs": [
    {
     "data": {
      "image/png": "[encoded data removed]",
      "text/plain": [
       "<Figure size 640x480 with 1 Axes>"
      ]
     },
     "metadata": {},
     "output_type": "display_data"
    },
    {
     "name": "stdout",
     "output_type": "stream",
     "text": [
      "с подпиской count    6500.000000\n",
      "mean       19.037692\n",
      "std         5.577439\n",
      "min         4.000000\n",
      "25%        15.000000\n",
      "50%        19.000000\n",
      "75%        22.000000\n",
      "max        41.000000\n",
      "Name: duration, dtype: float64\n",
      "\n",
      "без подписки count    11568.000000\n",
      "mean        18.071663\n",
      "std          6.157156\n",
      "min          3.000000\n",
      "25%         14.000000\n",
      "50%         18.000000\n",
      "75%         22.000000\n",
      "max         35.000000\n",
      "Name: duration, dtype: float64\n"
     ]
    }
   ],
   "source": [
    "data_ultra['duration'].plot(\n",
    "    kind='hist', \n",
    "    bins=32,\n",
    "    histtype='step',\n",
    "    linewidth=5,\n",
    "    alpha=0.7, \n",
    "    label='с подпиской',\n",
    "    legend=True,)\n",
    "\n",
    "data_free['duration'].plot(\n",
    "    kind='hist', \n",
    "    bins=32,\n",
    "    histtype='step',\n",
    "    linewidth=5,\n",
    "    alpha=0.7,\n",
    "    label='без подписки',\n",
    "    legend=True,\n",
    "    grid=True)\n",
    "\n",
    "plt.xlabel(\"время поездки\")\n",
    "plt.ylabel(\"кол-во поездок\")\n",
    "plt.title('продолжительность каждой поездки пользователей')\n",
    "plt.show()\n",
    "\n",
    "print('с подпиской', data_ultra['duration'].describe())\n",
    "print()\n",
    "print('без подписки', data_free['duration'].describe())"
   ]
  },
  {
   "cell_type": "markdown",
   "id": "dab2327b",
   "metadata": {},
   "source": [
    "- Среднее и медиана времени поездок пользователей с подпиской и без подписки равны 19 и 18 минутам соотв.\n",
    "\n",
    "\n",
    "\n",
    "***не понимаю мне кажется что графики похожи (различается только в количестве выборки тк данных без подписки в 2 раза больше) и средние в целом тоже одинаковы! правильно ли я думаю?"
   ]
  },
  {
   "cell_type": "markdown",
   "id": "30c46241",
   "metadata": {},
   "source": [
    "4.3.2 расстояние, которое пользователь преодолел за одну поездку 'с подпиской' и 'без подписки'"
   ]
  },
  {
   "cell_type": "code",
   "execution_count": 35,
   "id": "2bf70dd5",
   "metadata": {},
   "outputs": [
    {
     "data": {
      "image/png": "[encoded data removed]",
      "text/plain": [
       "<Figure size 640x480 with 1 Axes>"
      ]
     },
     "metadata": {},
     "output_type": "display_data"
    },
    {
     "name": "stdout",
     "output_type": "stream",
     "text": [
      "расстояние с подпиской count    6500.000000\n",
      "mean     3115.445431\n",
      "std       836.895369\n",
      "min       244.210000\n",
      "25%      2785.447500\n",
      "50%      3148.640000\n",
      "75%      3560.577500\n",
      "max      5699.770000\n",
      "Name: distance, dtype: float64\n",
      "\n",
      "расстояние без подписки count    11568.000000\n",
      "mean      3045.495284\n",
      "std       1246.173810\n",
      "min          0.860000\n",
      "25%       2366.560000\n",
      "50%       3114.650000\n",
      "75%       3905.695000\n",
      "max       7211.010000\n",
      "Name: distance, dtype: float64\n"
     ]
    }
   ],
   "source": [
    "data_ultra['distance'].plot(\n",
    "    kind='hist', \n",
    "    bins=55, \n",
    "    histtype='step',\n",
    "    linewidth=5,\n",
    "    alpha=0.7, \n",
    "    label='с подпиской',\n",
    "    legend=True,)\n",
    "\n",
    "data_free['distance'].plot(\n",
    "    kind='hist', \n",
    "    bins=55,\n",
    "    histtype='step',\n",
    "    linewidth=5,\n",
    "    alpha=0.7,\n",
    "    label='без подписки',\n",
    "    legend=True,\n",
    "    grid=True)\n",
    "\n",
    "plt.xlabel(\"расстояние поездки\")\n",
    "plt.ylabel(\"кол-во поездок\")\n",
    "plt.title('расстояние каждой поездки пользователей')\n",
    "plt.show()\n",
    "\n",
    "print('расстояние с подпиской', data_ultra['distance'].describe())\n",
    "print()\n",
    "print('расстояние без подписки', data_free['distance'].describe())"
   ]
  },
  {
   "cell_type": "markdown",
   "id": "2d518202",
   "metadata": {},
   "source": [
    "в среднем пользователи с подпиской и без проезжают одинаковое растояние равное 3100м"
   ]
  },
  {
   "cell_type": "markdown",
   "id": "3702810b",
   "metadata": {},
   "source": [
    "****тут в такая же ситуация, вроде пользователи одинаково ездят! единственное первый пик у пользователей без подписки смещен левее значит они проезжают немного меньше.\n",
    "\n",
    "дальше я попытался разобраться что это за первый пик, но закономерности не увидел.\n",
    "думал может это зависит из-за города, месяца или возраста."
   ]
  },
  {
   "cell_type": "code",
   "execution_count": 36,
   "id": "d8d78b4c",
   "metadata": {},
   "outputs": [],
   "source": [
    "#pik1 = data.query('distance < 1500')\n",
    "#pik1\n",
    "\n",
    "#print(data['city'].value_counts())\n",
    "#print()\n",
    "#print(pik1['city'].value_counts())\n",
    "#print(data['month'].value_counts())\n",
    "#print()\n",
    "#print(pik1['month'].value_counts())\n",
    "#print(data['age'].value_counts())\n",
    "#print()\n",
    "#print(pik1['age'].value_counts())"
   ]
  },
  {
   "cell_type": "code",
   "execution_count": null,
   "id": "217ea505",
   "metadata": {},
   "outputs": [],
   "source": []
  },
  {
   "cell_type": "markdown",
   "id": "1240b983",
   "metadata": {},
   "source": [
    "5.1 датафрейм с агрегированными данными о поездках: \n",
    "суммарное расстояние, количество поездок и суммарное время для каждого пользователя за каждый месяц"
   ]
  },
  {
   "cell_type": "code",
   "execution_count": 37,
   "id": "0c613388",
   "metadata": {},
   "outputs": [
    {
     "data": {
      "text/html": [
       "<div>\n",
       "<style scoped>\n",
       "    .dataframe tbody tr th:only-of-type {\n",
       "        vertical-align: middle;\n",
       "    }\n",
       "\n",
       "    .dataframe tbody tr th {\n",
       "        vertical-align: top;\n",
       "    }\n",
       "\n",
       "    .dataframe thead tr th {\n",
       "        text-align: left;\n",
       "    }\n",
       "\n",
       "    .dataframe thead tr:last-of-type th {\n",
       "        text-align: right;\n",
       "    }\n",
       "</style>\n",
       "<table border=\"1\" class=\"dataframe\">\n",
       "  <thead>\n",
       "    <tr>\n",
       "      <th></th>\n",
       "      <th></th>\n",
       "      <th>duration</th>\n",
       "      <th colspan=\"2\" halign=\"left\">distance</th>\n",
       "      <th>minute_price</th>\n",
       "      <th>start_ride_price</th>\n",
       "      <th>subscription_fee</th>\n",
       "      <th>subscription_type</th>\n",
       "      <th>city</th>\n",
       "      <th>age</th>\n",
       "      <th>name</th>\n",
       "      <th>date</th>\n",
       "    </tr>\n",
       "    <tr>\n",
       "      <th></th>\n",
       "      <th></th>\n",
       "      <th>sum</th>\n",
       "      <th>sum</th>\n",
       "      <th>count</th>\n",
       "      <th>first</th>\n",
       "      <th>first</th>\n",
       "      <th>first</th>\n",
       "      <th>first</th>\n",
       "      <th>first</th>\n",
       "      <th>first</th>\n",
       "      <th>first</th>\n",
       "      <th>first</th>\n",
       "    </tr>\n",
       "    <tr>\n",
       "      <th>user_id</th>\n",
       "      <th>month</th>\n",
       "      <th></th>\n",
       "      <th></th>\n",
       "      <th></th>\n",
       "      <th></th>\n",
       "      <th></th>\n",
       "      <th></th>\n",
       "      <th></th>\n",
       "      <th></th>\n",
       "      <th></th>\n",
       "      <th></th>\n",
       "      <th></th>\n",
       "    </tr>\n",
       "  </thead>\n",
       "  <tbody>\n",
       "    <tr>\n",
       "      <th rowspan=\"6\" valign=\"top\">1</th>\n",
       "      <th>1</th>\n",
       "      <td>42.0</td>\n",
       "      <td>7027.51</td>\n",
       "      <td>2</td>\n",
       "      <td>6</td>\n",
       "      <td>0</td>\n",
       "      <td>199</td>\n",
       "      <td>ultra</td>\n",
       "      <td>Тюмень</td>\n",
       "      <td>22</td>\n",
       "      <td>Кира</td>\n",
       "      <td>2021-01-01</td>\n",
       "    </tr>\n",
       "    <tr>\n",
       "      <th>4</th>\n",
       "      <td>7.0</td>\n",
       "      <td>754.16</td>\n",
       "      <td>1</td>\n",
       "      <td>6</td>\n",
       "      <td>0</td>\n",
       "      <td>199</td>\n",
       "      <td>ultra</td>\n",
       "      <td>Тюмень</td>\n",
       "      <td>22</td>\n",
       "      <td>Кира</td>\n",
       "      <td>2021-04-20</td>\n",
       "    </tr>\n",
       "    <tr>\n",
       "      <th>8</th>\n",
       "      <td>46.0</td>\n",
       "      <td>6723.47</td>\n",
       "      <td>2</td>\n",
       "      <td>6</td>\n",
       "      <td>0</td>\n",
       "      <td>199</td>\n",
       "      <td>ultra</td>\n",
       "      <td>Тюмень</td>\n",
       "      <td>22</td>\n",
       "      <td>Кира</td>\n",
       "      <td>2021-08-11</td>\n",
       "    </tr>\n",
       "    <tr>\n",
       "      <th>10</th>\n",
       "      <td>32.0</td>\n",
       "      <td>5809.91</td>\n",
       "      <td>2</td>\n",
       "      <td>6</td>\n",
       "      <td>0</td>\n",
       "      <td>199</td>\n",
       "      <td>ultra</td>\n",
       "      <td>Тюмень</td>\n",
       "      <td>22</td>\n",
       "      <td>Кира</td>\n",
       "      <td>2021-10-09</td>\n",
       "    </tr>\n",
       "    <tr>\n",
       "      <th>11</th>\n",
       "      <td>56.0</td>\n",
       "      <td>7003.50</td>\n",
       "      <td>3</td>\n",
       "      <td>6</td>\n",
       "      <td>0</td>\n",
       "      <td>199</td>\n",
       "      <td>ultra</td>\n",
       "      <td>Тюмень</td>\n",
       "      <td>22</td>\n",
       "      <td>Кира</td>\n",
       "      <td>2021-11-06</td>\n",
       "    </tr>\n",
       "    <tr>\n",
       "      <th>12</th>\n",
       "      <td>28.0</td>\n",
       "      <td>6751.63</td>\n",
       "      <td>2</td>\n",
       "      <td>6</td>\n",
       "      <td>0</td>\n",
       "      <td>199</td>\n",
       "      <td>ultra</td>\n",
       "      <td>Тюмень</td>\n",
       "      <td>22</td>\n",
       "      <td>Кира</td>\n",
       "      <td>2021-12-14</td>\n",
       "    </tr>\n",
       "    <tr>\n",
       "      <th rowspan=\"4\" valign=\"top\">2</th>\n",
       "      <th>3</th>\n",
       "      <td>63.0</td>\n",
       "      <td>10187.73</td>\n",
       "      <td>3</td>\n",
       "      <td>6</td>\n",
       "      <td>0</td>\n",
       "      <td>199</td>\n",
       "      <td>ultra</td>\n",
       "      <td>Омск</td>\n",
       "      <td>31</td>\n",
       "      <td>Станислав</td>\n",
       "      <td>2021-03-15</td>\n",
       "    </tr>\n",
       "    <tr>\n",
       "      <th>4</th>\n",
       "      <td>40.0</td>\n",
       "      <td>6164.39</td>\n",
       "      <td>2</td>\n",
       "      <td>6</td>\n",
       "      <td>0</td>\n",
       "      <td>199</td>\n",
       "      <td>ultra</td>\n",
       "      <td>Омск</td>\n",
       "      <td>31</td>\n",
       "      <td>Станислав</td>\n",
       "      <td>2021-04-08</td>\n",
       "    </tr>\n",
       "    <tr>\n",
       "      <th>6</th>\n",
       "      <td>14.0</td>\n",
       "      <td>3255.34</td>\n",
       "      <td>1</td>\n",
       "      <td>6</td>\n",
       "      <td>0</td>\n",
       "      <td>199</td>\n",
       "      <td>ultra</td>\n",
       "      <td>Омск</td>\n",
       "      <td>31</td>\n",
       "      <td>Станислав</td>\n",
       "      <td>2021-06-20</td>\n",
       "    </tr>\n",
       "    <tr>\n",
       "      <th>7</th>\n",
       "      <td>48.0</td>\n",
       "      <td>6780.73</td>\n",
       "      <td>2</td>\n",
       "      <td>6</td>\n",
       "      <td>0</td>\n",
       "      <td>199</td>\n",
       "      <td>ultra</td>\n",
       "      <td>Омск</td>\n",
       "      <td>31</td>\n",
       "      <td>Станислав</td>\n",
       "      <td>2021-07-02</td>\n",
       "    </tr>\n",
       "  </tbody>\n",
       "</table>\n",
       "</div>"
      ],
      "text/plain": [
       "              duration  distance       minute_price start_ride_price  \\\n",
       "                   sum       sum count        first            first   \n",
       "user_id month                                                          \n",
       "1       1         42.0   7027.51     2            6                0   \n",
       "        4          7.0    754.16     1            6                0   \n",
       "        8         46.0   6723.47     2            6                0   \n",
       "        10        32.0   5809.91     2            6                0   \n",
       "        11        56.0   7003.50     3            6                0   \n",
       "        12        28.0   6751.63     2            6                0   \n",
       "2       3         63.0  10187.73     3            6                0   \n",
       "        4         40.0   6164.39     2            6                0   \n",
       "        6         14.0   3255.34     1            6                0   \n",
       "        7         48.0   6780.73     2            6                0   \n",
       "\n",
       "              subscription_fee subscription_type    city   age       name  \\\n",
       "                         first             first   first first      first   \n",
       "user_id month                                                               \n",
       "1       1                  199             ultra  Тюмень    22       Кира   \n",
       "        4                  199             ultra  Тюмень    22       Кира   \n",
       "        8                  199             ultra  Тюмень    22       Кира   \n",
       "        10                 199             ultra  Тюмень    22       Кира   \n",
       "        11                 199             ultra  Тюмень    22       Кира   \n",
       "        12                 199             ultra  Тюмень    22       Кира   \n",
       "2       3                  199             ultra    Омск    31  Станислав   \n",
       "        4                  199             ultra    Омск    31  Станислав   \n",
       "        6                  199             ultra    Омск    31  Станислав   \n",
       "        7                  199             ultra    Омск    31  Станислав   \n",
       "\n",
       "                    date  \n",
       "                   first  \n",
       "user_id month             \n",
       "1       1     2021-01-01  \n",
       "        4     2021-04-20  \n",
       "        8     2021-08-11  \n",
       "        10    2021-10-09  \n",
       "        11    2021-11-06  \n",
       "        12    2021-12-14  \n",
       "2       3     2021-03-15  \n",
       "        4     2021-04-08  \n",
       "        6     2021-06-20  \n",
       "        7     2021-07-02  "
      ]
     },
     "execution_count": 37,
     "metadata": {},
     "output_type": "execute_result"
    }
   ],
   "source": [
    "data_sum = (data.groupby(['user_id','month'])\n",
    "    .agg({'duration':'sum', 'distance':['sum','count'],'minute_price':'first', \n",
    "        'start_ride_price': 'first', 'subscription_fee': 'first', 'subscription_type': 'first','city': 'first', \n",
    "        'age':'first', 'name':'first', 'date':'first'}))\n",
    "\n",
    "data_sum.head(10)"
   ]
  },
  {
   "cell_type": "code",
   "execution_count": 38,
   "id": "80e09ca8",
   "metadata": {},
   "outputs": [
    {
     "data": {
      "text/plain": [
       "MultiIndex([(         'duration',   'sum'),\n",
       "            (         'distance',   'sum'),\n",
       "            (         'distance', 'count'),\n",
       "            (     'minute_price', 'first'),\n",
       "            ( 'start_ride_price', 'first'),\n",
       "            ( 'subscription_fee', 'first'),\n",
       "            ('subscription_type', 'first'),\n",
       "            (             'city', 'first'),\n",
       "            (              'age', 'first'),\n",
       "            (             'name', 'first'),\n",
       "            (             'date', 'first')],\n",
       "           )"
      ]
     },
     "execution_count": 38,
     "metadata": {},
     "output_type": "execute_result"
    }
   ],
   "source": [
    "data_sum.columns"
   ]
  },
  {
   "cell_type": "markdown",
   "id": "715b47ed",
   "metadata": {},
   "source": [
    "Переименовываем Столбцы"
   ]
  },
  {
   "cell_type": "code",
   "execution_count": 39,
   "id": "a2d6b65e",
   "metadata": {},
   "outputs": [],
   "source": [
    "data_sum.columns = ['duration_sum', 'distance_sum', 'rides_count', 'minute_price', 'start_ride_price', 'subscription_fee', 'subscription_type', 'city', 'age', 'name', 'date']"
   ]
  },
  {
   "cell_type": "markdown",
   "id": "c90b0237",
   "metadata": {},
   "source": [
    "5.2 добавляем столбец с помесячной выручкой, которую принёс каждый пользователь."
   ]
  },
  {
   "cell_type": "markdown",
   "id": "4db1e847",
   "metadata": {},
   "source": [
    "Помесячная выручка считается по формуле: \n",
    "- стоимость старта поездки × количество поездок + стоимость одной минуты поездки × общая продолжительность всех поездок в минутах + стоимость подписки."
   ]
  },
  {
   "cell_type": "code",
   "execution_count": 40,
   "id": "68b4455b",
   "metadata": {},
   "outputs": [
    {
     "data": {
      "text/html": [
       "<div>\n",
       "<style scoped>\n",
       "    .dataframe tbody tr th:only-of-type {\n",
       "        vertical-align: middle;\n",
       "    }\n",
       "\n",
       "    .dataframe tbody tr th {\n",
       "        vertical-align: top;\n",
       "    }\n",
       "\n",
       "    .dataframe thead th {\n",
       "        text-align: right;\n",
       "    }\n",
       "</style>\n",
       "<table border=\"1\" class=\"dataframe\">\n",
       "  <thead>\n",
       "    <tr style=\"text-align: right;\">\n",
       "      <th></th>\n",
       "      <th>user_id</th>\n",
       "      <th>month</th>\n",
       "      <th>duration_sum</th>\n",
       "      <th>distance_sum</th>\n",
       "      <th>rides_count</th>\n",
       "      <th>minute_price</th>\n",
       "      <th>start_ride_price</th>\n",
       "      <th>subscription_fee</th>\n",
       "      <th>subscription_type</th>\n",
       "      <th>city</th>\n",
       "      <th>age</th>\n",
       "      <th>name</th>\n",
       "      <th>date</th>\n",
       "      <th>revenue_m</th>\n",
       "    </tr>\n",
       "  </thead>\n",
       "  <tbody>\n",
       "    <tr>\n",
       "      <th>0</th>\n",
       "      <td>1</td>\n",
       "      <td>1</td>\n",
       "      <td>42.0</td>\n",
       "      <td>7027.51</td>\n",
       "      <td>2</td>\n",
       "      <td>6</td>\n",
       "      <td>0</td>\n",
       "      <td>199</td>\n",
       "      <td>ultra</td>\n",
       "      <td>Тюмень</td>\n",
       "      <td>22</td>\n",
       "      <td>Кира</td>\n",
       "      <td>2021-01-01</td>\n",
       "      <td>451.0</td>\n",
       "    </tr>\n",
       "    <tr>\n",
       "      <th>1</th>\n",
       "      <td>1</td>\n",
       "      <td>4</td>\n",
       "      <td>7.0</td>\n",
       "      <td>754.16</td>\n",
       "      <td>1</td>\n",
       "      <td>6</td>\n",
       "      <td>0</td>\n",
       "      <td>199</td>\n",
       "      <td>ultra</td>\n",
       "      <td>Тюмень</td>\n",
       "      <td>22</td>\n",
       "      <td>Кира</td>\n",
       "      <td>2021-04-20</td>\n",
       "      <td>241.0</td>\n",
       "    </tr>\n",
       "    <tr>\n",
       "      <th>2</th>\n",
       "      <td>1</td>\n",
       "      <td>8</td>\n",
       "      <td>46.0</td>\n",
       "      <td>6723.47</td>\n",
       "      <td>2</td>\n",
       "      <td>6</td>\n",
       "      <td>0</td>\n",
       "      <td>199</td>\n",
       "      <td>ultra</td>\n",
       "      <td>Тюмень</td>\n",
       "      <td>22</td>\n",
       "      <td>Кира</td>\n",
       "      <td>2021-08-11</td>\n",
       "      <td>475.0</td>\n",
       "    </tr>\n",
       "    <tr>\n",
       "      <th>3</th>\n",
       "      <td>1</td>\n",
       "      <td>10</td>\n",
       "      <td>32.0</td>\n",
       "      <td>5809.91</td>\n",
       "      <td>2</td>\n",
       "      <td>6</td>\n",
       "      <td>0</td>\n",
       "      <td>199</td>\n",
       "      <td>ultra</td>\n",
       "      <td>Тюмень</td>\n",
       "      <td>22</td>\n",
       "      <td>Кира</td>\n",
       "      <td>2021-10-09</td>\n",
       "      <td>391.0</td>\n",
       "    </tr>\n",
       "    <tr>\n",
       "      <th>4</th>\n",
       "      <td>1</td>\n",
       "      <td>11</td>\n",
       "      <td>56.0</td>\n",
       "      <td>7003.50</td>\n",
       "      <td>3</td>\n",
       "      <td>6</td>\n",
       "      <td>0</td>\n",
       "      <td>199</td>\n",
       "      <td>ultra</td>\n",
       "      <td>Тюмень</td>\n",
       "      <td>22</td>\n",
       "      <td>Кира</td>\n",
       "      <td>2021-11-06</td>\n",
       "      <td>535.0</td>\n",
       "    </tr>\n",
       "    <tr>\n",
       "      <th>...</th>\n",
       "      <td>...</td>\n",
       "      <td>...</td>\n",
       "      <td>...</td>\n",
       "      <td>...</td>\n",
       "      <td>...</td>\n",
       "      <td>...</td>\n",
       "      <td>...</td>\n",
       "      <td>...</td>\n",
       "      <td>...</td>\n",
       "      <td>...</td>\n",
       "      <td>...</td>\n",
       "      <td>...</td>\n",
       "      <td>...</td>\n",
       "      <td>...</td>\n",
       "    </tr>\n",
       "    <tr>\n",
       "      <th>11326</th>\n",
       "      <td>1534</td>\n",
       "      <td>6</td>\n",
       "      <td>26.0</td>\n",
       "      <td>3409.47</td>\n",
       "      <td>2</td>\n",
       "      <td>8</td>\n",
       "      <td>50</td>\n",
       "      <td>0</td>\n",
       "      <td>free</td>\n",
       "      <td>Краснодар</td>\n",
       "      <td>25</td>\n",
       "      <td>Альберт</td>\n",
       "      <td>2021-06-11</td>\n",
       "      <td>308.0</td>\n",
       "    </tr>\n",
       "    <tr>\n",
       "      <th>11327</th>\n",
       "      <td>1534</td>\n",
       "      <td>8</td>\n",
       "      <td>48.0</td>\n",
       "      <td>7622.45</td>\n",
       "      <td>2</td>\n",
       "      <td>8</td>\n",
       "      <td>50</td>\n",
       "      <td>0</td>\n",
       "      <td>free</td>\n",
       "      <td>Краснодар</td>\n",
       "      <td>25</td>\n",
       "      <td>Альберт</td>\n",
       "      <td>2021-08-08</td>\n",
       "      <td>484.0</td>\n",
       "    </tr>\n",
       "    <tr>\n",
       "      <th>11328</th>\n",
       "      <td>1534</td>\n",
       "      <td>9</td>\n",
       "      <td>23.0</td>\n",
       "      <td>4928.17</td>\n",
       "      <td>1</td>\n",
       "      <td>8</td>\n",
       "      <td>50</td>\n",
       "      <td>0</td>\n",
       "      <td>free</td>\n",
       "      <td>Краснодар</td>\n",
       "      <td>25</td>\n",
       "      <td>Альберт</td>\n",
       "      <td>2021-09-13</td>\n",
       "      <td>234.0</td>\n",
       "    </tr>\n",
       "    <tr>\n",
       "      <th>11329</th>\n",
       "      <td>1534</td>\n",
       "      <td>11</td>\n",
       "      <td>78.0</td>\n",
       "      <td>13350.02</td>\n",
       "      <td>4</td>\n",
       "      <td>8</td>\n",
       "      <td>50</td>\n",
       "      <td>0</td>\n",
       "      <td>free</td>\n",
       "      <td>Краснодар</td>\n",
       "      <td>25</td>\n",
       "      <td>Альберт</td>\n",
       "      <td>2021-11-04</td>\n",
       "      <td>824.0</td>\n",
       "    </tr>\n",
       "    <tr>\n",
       "      <th>11330</th>\n",
       "      <td>1534</td>\n",
       "      <td>12</td>\n",
       "      <td>16.0</td>\n",
       "      <td>2371.71</td>\n",
       "      <td>1</td>\n",
       "      <td>8</td>\n",
       "      <td>50</td>\n",
       "      <td>0</td>\n",
       "      <td>free</td>\n",
       "      <td>Краснодар</td>\n",
       "      <td>25</td>\n",
       "      <td>Альберт</td>\n",
       "      <td>2021-12-29</td>\n",
       "      <td>178.0</td>\n",
       "    </tr>\n",
       "  </tbody>\n",
       "</table>\n",
       "<p>11331 rows × 14 columns</p>\n",
       "</div>"
      ],
      "text/plain": [
       "       user_id  month  duration_sum  distance_sum  rides_count  minute_price  \\\n",
       "0            1      1          42.0       7027.51            2             6   \n",
       "1            1      4           7.0        754.16            1             6   \n",
       "2            1      8          46.0       6723.47            2             6   \n",
       "3            1     10          32.0       5809.91            2             6   \n",
       "4            1     11          56.0       7003.50            3             6   \n",
       "...        ...    ...           ...           ...          ...           ...   \n",
       "11326     1534      6          26.0       3409.47            2             8   \n",
       "11327     1534      8          48.0       7622.45            2             8   \n",
       "11328     1534      9          23.0       4928.17            1             8   \n",
       "11329     1534     11          78.0      13350.02            4             8   \n",
       "11330     1534     12          16.0       2371.71            1             8   \n",
       "\n",
       "       start_ride_price  subscription_fee subscription_type       city  age  \\\n",
       "0                     0               199             ultra     Тюмень   22   \n",
       "1                     0               199             ultra     Тюмень   22   \n",
       "2                     0               199             ultra     Тюмень   22   \n",
       "3                     0               199             ultra     Тюмень   22   \n",
       "4                     0               199             ultra     Тюмень   22   \n",
       "...                 ...               ...               ...        ...  ...   \n",
       "11326                50                 0              free  Краснодар   25   \n",
       "11327                50                 0              free  Краснодар   25   \n",
       "11328                50                 0              free  Краснодар   25   \n",
       "11329                50                 0              free  Краснодар   25   \n",
       "11330                50                 0              free  Краснодар   25   \n",
       "\n",
       "          name       date  revenue_m  \n",
       "0         Кира 2021-01-01      451.0  \n",
       "1         Кира 2021-04-20      241.0  \n",
       "2         Кира 2021-08-11      475.0  \n",
       "3         Кира 2021-10-09      391.0  \n",
       "4         Кира 2021-11-06      535.0  \n",
       "...        ...        ...        ...  \n",
       "11326  Альберт 2021-06-11      308.0  \n",
       "11327  Альберт 2021-08-08      484.0  \n",
       "11328  Альберт 2021-09-13      234.0  \n",
       "11329  Альберт 2021-11-04      824.0  \n",
       "11330  Альберт 2021-12-29      178.0  \n",
       "\n",
       "[11331 rows x 14 columns]"
      ]
     },
     "execution_count": 40,
     "metadata": {},
     "output_type": "execute_result"
    }
   ],
   "source": [
    "data_sum['revenue_m'] = (data_sum['start_ride_price'] * data_sum['rides_count'] \n",
    "    + data_sum['minute_price'] * data_sum['duration_sum'] + data_sum['subscription_fee'])\n",
    "\n",
    "#сбросим индекс 'user_id'\n",
    "data_sum = data_sum.reset_index()\n",
    "data_sum"
   ]
  },
  {
   "cell_type": "markdown",
   "id": "897f45d7",
   "metadata": {},
   "source": [
    "Посчитали помесячную выручку и поместили ее в колонку \"revenue_m\""
   ]
  },
  {
   "cell_type": "markdown",
   "id": "f99334f4",
   "metadata": {},
   "source": [
    "Шаг 6. Проверка гипотез"
   ]
  },
  {
   "cell_type": "markdown",
   "id": "db45cde7",
   "metadata": {},
   "source": [
    "задание 6.1 Важно понять, тратят ли пользователи с подпиской больше времени на поездки? Если да, то пользователи с подпиской могут быть «выгоднее» для компании. Проверьте гипотезу. Используйте исходные данные о продолжительности каждой сессии — отдельно для подписчиков и тех, у кого нет подписки."
   ]
  },
  {
   "cell_type": "markdown",
   "id": "d00d9766",
   "metadata": {},
   "source": [
    "6.1 проверяем гипотезу тратят ли пользователи с подпиской больше времени на поездки?"
   ]
  },
  {
   "cell_type": "markdown",
   "id": "85567275",
   "metadata": {},
   "source": [
    "проверяем возможные выбросы"
   ]
  },
  {
   "cell_type": "code",
   "execution_count": 41,
   "id": "b96134aa",
   "metadata": {},
   "outputs": [
    {
     "data": {
      "image/png": "[encoded data removed]",
      "text/plain": [
       "<Figure size 640x480 with 1 Axes>"
      ]
     },
     "metadata": {},
     "output_type": "display_data"
    },
    {
     "data": {
      "image/png": "[encoded data removed]",
      "text/plain": [
       "<Figure size 640x480 with 1 Axes>"
      ]
     },
     "metadata": {},
     "output_type": "display_data"
    }
   ],
   "source": [
    "data_ultra['duration'].plot.box(title='c подпиской')\n",
    "plt.show()\n",
    "data_free['duration'].plot.box(title='без подписки')\n",
    "plt.show()"
   ]
  },
  {
   "cell_type": "markdown",
   "id": "10b02b00",
   "metadata": {},
   "source": [
    "В пункте 4.3.1 можно увидеть что среднее время поездок пользователей с подпиской и без подписок составляют 19 и 18 мин.\n",
    "\n",
    "Проведем одностороний т-тест\n",
    "\n",
    "Нулевая гипотеза: средние значения время пользования без подписки и с подпиской равны.\n",
    "\n",
    "Альтернативная гипотеза: среднее значение время пользования без подписки меньше, чем среднее значение времени пользования с подпиской"
   ]
  },
  {
   "cell_type": "code",
   "execution_count": 42,
   "id": "9de6ef54",
   "metadata": {},
   "outputs": [
    {
     "name": "stdout",
     "output_type": "stream",
     "text": [
      "p-значение: 3.417395152036376e-27\n",
      "Отвергаем нулевую гипотезу\n"
     ]
    }
   ],
   "source": [
    "alpha = 0.05\n",
    "\n",
    "results = st.ttest_ind(data_free['duration'], data_ultra['duration'], alternative='less', equal_var=False)\n",
    "\n",
    "print('p-значение:', results.pvalue)\n",
    "\n",
    "if results.pvalue < alpha:\n",
    "    print('Отвергаем нулевую гипотезу')\n",
    "else:\n",
    "    print('Не получилось отвергнуть нулевую гипотезу')"
   ]
  },
  {
   "cell_type": "markdown",
   "id": "1278da91",
   "metadata": {},
   "source": [
    "Полученное значение p-value меньше заданного уровня значимости, поэтому можно отвергнуть нулевую гипотезу. Есть основания говорить, что пользователи с подпиской дольше катаются на самокате"
   ]
  },
  {
   "cell_type": "markdown",
   "id": "5d2dd5f7",
   "metadata": {},
   "source": [
    "среднее и медиана для категорий пользователей по возрасту, городу и месяцу"
   ]
  },
  {
   "cell_type": "code",
   "execution_count": 43,
   "id": "21ff01f0",
   "metadata": {},
   "outputs": [
    {
     "name": "stdout",
     "output_type": "stream",
     "text": [
      "по возрасту\n",
      "          mean   median\n",
      "      duration duration\n",
      "age                    \n",
      "12   19.291667     18.0\n",
      "13   18.945652     19.0\n",
      "14   18.643478     18.0\n",
      "15   19.162162     19.0\n",
      "16   18.380753     19.0\n",
      "17   18.706587     18.0\n",
      "18   18.328063     18.0\n",
      "19   18.586207     18.0\n",
      "20   18.438026     18.0\n",
      "21   18.321672     18.0\n",
      "22   18.190818     18.0\n",
      "23   18.448276     18.0\n",
      "24   18.477971     18.0\n",
      "25   18.353638     18.0\n",
      "26   18.504321     18.0\n",
      "27   18.371235     18.0\n",
      "28   18.518237     18.0\n",
      "29   18.195122     18.0\n",
      "30   18.326557     18.0\n",
      "31   18.580702     18.0\n",
      "32   18.343096     18.0\n",
      "33   18.631702     18.0\n",
      "34   18.724444     19.0\n",
      "35   18.368421     18.0\n",
      "36   16.942529     16.0\n",
      "37   18.115385     17.5\n",
      "38   20.692308     20.0\n",
      "39   17.055556     16.0\n",
      "43   18.125000     18.5\n",
      "по городу\n",
      "                     mean   median\n",
      "                 duration duration\n",
      "city                              \n",
      "Екатеринбург    18.401463     18.0\n",
      "Краснодар       18.324207     18.0\n",
      "Москва          18.686400     19.0\n",
      "Омск            18.345691     18.0\n",
      "Пятигорск       18.505547     18.0\n",
      "Ростов-на-Дону  18.254694     18.0\n",
      "Сочи            18.321381     18.0\n",
      "Тюмень          18.570014     18.0\n",
      "по месяцу\n",
      "            mean   median\n",
      "        duration duration\n",
      "month                    \n",
      "1      18.458044     18.0\n",
      "2      18.341317     18.0\n",
      "3      18.221503     18.0\n",
      "4      18.503984     18.0\n",
      "5      18.654487     18.0\n",
      "6      18.496458     18.0\n",
      "7      18.502943     18.0\n",
      "8      18.317523     18.0\n",
      "9      18.367831     18.0\n",
      "10     18.195254     18.0\n",
      "11     18.468970     18.0\n",
      "12     18.482646     18.0\n"
     ]
    }
   ],
   "source": [
    "pivot_age = data.pivot_table(index=['age'], values='duration', aggfunc=['mean', 'median'])\n",
    "print('по возрасту')\n",
    "print(pivot_age)\n",
    "pivot_city = data.pivot_table(index=['city'], values='duration', aggfunc=['mean', 'median'])\n",
    "print('по городу')\n",
    "print(pivot_city)\n",
    "pivot_month = data.pivot_table(index=['month'], values='duration', aggfunc=['mean', 'median'])\n",
    "print('по месяцу')\n",
    "print(pivot_month)"
   ]
  },
  {
   "cell_type": "markdown",
   "id": "c62eddc1",
   "metadata": {},
   "source": [
    "6.2 Расстояние одной поездки в 3130 метров — оптимальное с точки зрения износа самоката. Можно ли сказать, что среднее расстояние, которое проезжают пользователи с подпиской за одну поездку, не превышает 3130 метров? Проверьте гипотезу и сделайте выводы."
   ]
  },
  {
   "cell_type": "markdown",
   "id": "da998462",
   "metadata": {},
   "source": [
    "в пункте 4.3.2 можно увидеть расстояние, которое пользователь преодолел за одну поездку 'с подпиской' а также среднее = 3115м и медеану = 3148м"
   ]
  },
  {
   "cell_type": "markdown",
   "id": "4bdb8f38",
   "metadata": {},
   "source": [
    "проверим наличие возможных выбросов"
   ]
  },
  {
   "cell_type": "code",
   "execution_count": 44,
   "id": "87bf618c",
   "metadata": {},
   "outputs": [
    {
     "data": {
      "image/png": "[encoded data removed]",
      "text/plain": [
       "<Figure size 640x480 with 1 Axes>"
      ]
     },
     "metadata": {},
     "output_type": "display_data"
    }
   ],
   "source": [
    "data_ultra['distance'].plot.box(title='c подпиской, растояние одной поездки')\n",
    "plt.show()"
   ]
  },
  {
   "cell_type": "markdown",
   "id": "9c484b0b",
   "metadata": {},
   "source": [
    "проведем одностороний т-тест \n",
    "\n",
    "Нулевая гипотеза: пользователи с подпиской проезжают за одну поездку 3130 метров\n",
    "\n",
    "Альтернативная гипотеза: пользователи проезжают больше 3130 метров"
   ]
  },
  {
   "cell_type": "code",
   "execution_count": 45,
   "id": "f6cc0517",
   "metadata": {},
   "outputs": [
    {
     "name": "stdout",
     "output_type": "stream",
     "text": [
      "p-значение: 0.9195362605842414\n",
      "Не отвергаем нулевую гипотезу\n"
     ]
    }
   ],
   "source": [
    "distanse_value = 3130\n",
    "\n",
    "alpha = 0.05 # уровень статистической значимости\n",
    "\n",
    "result = st.ttest_1samp(data_ultra['distance'], distanse_value, alternative='greater')\n",
    "\n",
    "print('p-значение:', result.pvalue)\n",
    "\n",
    "if (result.pvalue < alpha):\n",
    "    print('Отвергаем нулевую гипотезу')\n",
    "else:\n",
    "    print('Не отвергаем нулевую гипотезу')"
   ]
  },
  {
   "cell_type": "markdown",
   "id": "ac760f4e",
   "metadata": {},
   "source": [
    "Нет основания отвергать нулевую гипотезу\n",
    "\n",
    "Есть основания говорить, что многие пользователи с подпиской проезжают 3130 метров, не отвергаем в пользу альтернативной, потому что p-value явно выше любых разумных порогов, чтобы отвергать нулевую гипотезу."
   ]
  },
  {
   "cell_type": "markdown",
   "id": "76ddbaea",
   "metadata": {},
   "source": [
    "***правильно я тут интерпретировал? нашел анологичный пример в теории и из интерактивного тренаженажера. хотя из теории не особо точно понял , буду благодарен если подскажешь где более наглядно посмотеть чтобы лучше понять)"
   ]
  },
  {
   "cell_type": "markdown",
   "id": "05e62b29",
   "metadata": {},
   "source": [
    "6.3 \n",
    "Проверим гипотезу о том, будет ли помесячная выручка от пользователей с подпиской по месяцам выше, чем выручка от пользователей без подписки."
   ]
  },
  {
   "cell_type": "markdown",
   "id": "3251d705",
   "metadata": {},
   "source": [
    "Данныe о пользователях 'с подпиской' суммированая таблица!"
   ]
  },
  {
   "cell_type": "code",
   "execution_count": 46,
   "id": "4a146a82",
   "metadata": {},
   "outputs": [],
   "source": [
    "data_ultra2 = data_sum.query('subscription_type == \"ultra\"')"
   ]
  },
  {
   "cell_type": "markdown",
   "id": "ceae7303",
   "metadata": {},
   "source": [
    "данныe о пользователях 'без подписки' суммированая таблица!"
   ]
  },
  {
   "cell_type": "code",
   "execution_count": 47,
   "id": "0792ca6c",
   "metadata": {},
   "outputs": [],
   "source": [
    "data_free2 = data_sum.query('subscription_type == \"free\"')"
   ]
  },
  {
   "cell_type": "markdown",
   "id": "999d0958",
   "metadata": {},
   "source": [
    "строим гистограммы для помесячной выручки"
   ]
  },
  {
   "cell_type": "code",
   "execution_count": 48,
   "id": "430c3223",
   "metadata": {},
   "outputs": [
    {
     "data": {
      "image/png": "[encoded data removed]",
      "text/plain": [
       "<Figure size 640x480 with 1 Axes>"
      ]
     },
     "metadata": {},
     "output_type": "display_data"
    },
    {
     "name": "stdout",
     "output_type": "stream",
     "text": [
      "Выручка с подпиской count    4533.000000\n",
      "mean      362.792191\n",
      "std        88.262737\n",
      "min       223.000000\n",
      "25%       301.000000\n",
      "50%       337.000000\n",
      "75%       409.000000\n",
      "max       955.000000\n",
      "Name: revenue_m, dtype: float64\n",
      "\n",
      "Выручка без подписки count    6798.000000\n",
      "mean      331.100912\n",
      "std       184.461981\n",
      "min        74.000000\n",
      "25%       194.000000\n",
      "50%       274.000000\n",
      "75%       428.000000\n",
      "max      1444.000000\n",
      "Name: revenue_m, dtype: float64\n"
     ]
    }
   ],
   "source": [
    "data_ultra2['revenue_m'].plot(\n",
    "    kind='hist', \n",
    "    bins=250, \n",
    "    histtype='step',\n",
    "    linewidth=5,\n",
    "    alpha=0.7, \n",
    "    label='с подпиской',\n",
    "    legend=True,)\n",
    "\n",
    "data_free2['revenue_m'].plot(\n",
    "    kind='hist', \n",
    "    bins=250,\n",
    "    histtype='step',\n",
    "    linewidth=5,\n",
    "    alpha=0.7,\n",
    "    label='без подписки',\n",
    "    legend=True,\n",
    "    grid=True)\n",
    "\n",
    "plt.xlabel(\"Выручка за месяц от каждого пользователя\")\n",
    "plt.ylabel(\"кол-во пользователей по месяцам\")\n",
    "plt.title('Выручка за месяц')\n",
    "plt.show()\n",
    "\n",
    "print('Выручка с подпиской', data_ultra2['revenue_m'].describe())\n",
    "print()\n",
    "print('Выручка без подписки', data_free2['revenue_m'].describe())"
   ]
  },
  {
   "cell_type": "markdown",
   "id": "6283dd76",
   "metadata": {},
   "source": [
    "- Средняя выручка от пользователей с подпиской за месяц = 362.79, медиана = 337.00.\n",
    "- Средняя выручка от пользователей без подписки за месяц = 331.10, медиана = 274.00."
   ]
  },
  {
   "cell_type": "markdown",
   "id": "0cf30f62",
   "metadata": {},
   "source": [
    "Проведем одностороний т-тест\n",
    "\n",
    "Нулевая гипотеза: среднее значение выручки от пользователей с подпиской  и без подписки одинаковы за месяц\n",
    "\n",
    "Альтернативная гипотеза: за месяц среднее значение выручки от пользователей с подпиской больше, чем среднее значение выручки от пользователей без подписки"
   ]
  },
  {
   "cell_type": "code",
   "execution_count": 49,
   "id": "6db042ec",
   "metadata": {},
   "outputs": [
    {
     "name": "stdout",
     "output_type": "stream",
     "text": [
      "p-значение: 2.0386205420622812e-34\n",
      "Отвергаем нулевую гипотезу\n"
     ]
    }
   ],
   "source": [
    "alpha = 0.05\n",
    "\n",
    "results = st.ttest_ind(data_ultra2['revenue_m'], data_free2['revenue_m'],\n",
    "                       alternative='greater', equal_var=False)\n",
    "\n",
    "print('p-значение:', results.pvalue)\n",
    "\n",
    "if results.pvalue < alpha:\n",
    "    print('Отвергаем нулевую гипотезу')\n",
    "else:\n",
    "    print('Не получилось отвергнуть нулевую гипотезу')"
   ]
  },
  {
   "cell_type": "markdown",
   "id": "5517d426",
   "metadata": {},
   "source": [
    "Полученное значение p-value (~2.0386205420622812e-34) меньше заданного уровня значимости, поэтому можно отвергнуть нулевую гипотезу о том что за месяц среднее значение выручки от пользователей с подпиской равна среднему значению выручки от пользователей без подписки\n",
    "\n",
    "Есть основания говорить, что по альтернативной гипотезе за месяц среднее значение выручки от пользователей с подпиской больше, чем среднее значение выручки от пользователей без подписки"
   ]
  },
  {
   "cell_type": "markdown",
   "id": "e568c344",
   "metadata": {},
   "source": [
    "6.4 \n",
    "Представьте такую ситуацию: техническая команда сервиса обновила сервера, с которыми взаимодействует мобильное приложение. Она надеется, что из-за этого количество обращений в техподдержку значимо снизилось. Некоторый файл содержит для каждого пользователя данные о количестве обращений до обновления и после него. Какой тест вам понадобился бы для проверки этой гипотезы?"
   ]
  },
  {
   "cell_type": "markdown",
   "id": "6af032c7",
   "metadata": {},
   "source": [
    "ответ:\n",
    "Нам понадобится проверить Гипотезу о равенстве средних для зависимых (парных) выборок\n",
    "и тест 'st.ttest_rel'"
   ]
  },
  {
   "cell_type": "markdown",
   "id": "f1f16af5",
   "metadata": {},
   "source": [
    "\n",
    "print('Среднее количестве обращений до обновления:', pd.Series(before).mean())\n",
    "print('Среднее количестве обращений после обновления:', pd.Series(after).mean())\n",
    "\n",
    "alpha = 0.05 # уровень статистической значимости\n",
    "\n",
    "results = st.ttest_rel(before, after, alternative='greater') # тест правостороний тк проверяем что раньше было больше обращений чем сейчас\n",
    "\n",
    "#полученное p-значение\n",
    "print('p-значение:', results.pvalue)\n",
    "\n",
    "if results.pvalue < alpha: # сравните p-значение с заданным уровнем стат. значимости\n",
    "    print('Отвергаем нулевую гипотезу о равенстве среднего')\n",
    "else:\n",
    "    print('Не получилось отвергнуть нулевую гипотезу о равенстве среднего числа')"
   ]
  },
  {
   "cell_type": "markdown",
   "id": "1d15c236",
   "metadata": {},
   "source": [
    "- На данный момент пользователей без подписки (54,4%) больше чем пользователей с подпиской (45,6%)\n",
    "- Средний возраст пользователей - 25 лет.\n",
    "- в среднем пользователи с подпиской и без проезжают растояние равное 3115м и 3045м соотв.\n",
    "на основании теста можно сказать, что пользователи с подпиской проезжают за одну поездку, в среднем не больше 3130 метров\n",
    "\n",
    "- Среднее и медиана времи поездок пользователей с подпиской и без подписки равны 19 и 18 минутам соответственно.\n",
    "на основании теста можно сказать, что пользователи с подпиской дольше катаются на самокате чем пользователи без подписки\n",
    "\n",
    "- Посчитали помесячную выручку для каждого пользователя\n",
    "Есть основания на основе теста говорить, что за месяц среднее значение выручки от пользователей с подпиской больше, чем среднее значение выручки от пользователей без подписки\n"
   ]
  }
 ],
 "metadata": {
  "ExecuteTimeLog": [
   {
    "duration": 718,
    "start_time": "2023-09-29T01:12:54.510Z"
   },
   {
    "duration": 27,
    "start_time": "2023-09-29T01:12:55.230Z"
   },
   {
    "duration": 48,
    "start_time": "2023-09-29T01:12:55.259Z"
   },
   {
    "duration": 68,
    "start_time": "2023-09-29T01:12:55.309Z"
   },
   {
    "duration": 26,
    "start_time": "2023-09-29T01:12:55.379Z"
   },
   {
    "duration": 42,
    "start_time": "2023-09-29T01:12:55.407Z"
   },
   {
    "duration": 33,
    "start_time": "2023-09-29T01:12:55.451Z"
   },
   {
    "duration": 25,
    "start_time": "2023-09-29T01:12:55.486Z"
   },
   {
    "duration": 39,
    "start_time": "2023-09-29T01:12:55.513Z"
   },
   {
    "duration": 31,
    "start_time": "2023-09-29T01:12:55.554Z"
   },
   {
    "duration": 264,
    "start_time": "2023-09-29T01:12:55.587Z"
   },
   {
    "duration": 573,
    "start_time": "2023-09-29T01:12:55.853Z"
   },
   {
    "duration": 2,
    "start_time": "2023-09-29T01:12:56.428Z"
   },
   {
    "duration": 160,
    "start_time": "2023-09-29T01:12:56.433Z"
   },
   {
    "duration": 247,
    "start_time": "2023-09-29T01:12:56.594Z"
   },
   {
    "duration": 259,
    "start_time": "2023-09-29T01:12:56.842Z"
   },
   {
    "duration": 176,
    "start_time": "2023-09-29T01:12:57.103Z"
   },
   {
    "duration": 40,
    "start_time": "2023-09-29T01:12:57.280Z"
   },
   {
    "duration": 19,
    "start_time": "2023-09-29T01:12:57.322Z"
   },
   {
    "duration": 22,
    "start_time": "2023-09-29T01:12:57.342Z"
   },
   {
    "duration": 40,
    "start_time": "2023-09-29T01:12:57.365Z"
   },
   {
    "duration": 169,
    "start_time": "2023-09-29T01:12:57.406Z"
   },
   {
    "duration": 191,
    "start_time": "2023-09-29T01:12:57.577Z"
   },
   {
    "duration": 174,
    "start_time": "2023-09-29T01:12:57.770Z"
   },
   {
    "duration": 234,
    "start_time": "2023-09-29T01:12:57.946Z"
   },
   {
    "duration": 77,
    "start_time": "2023-09-29T01:12:58.182Z"
   },
   {
    "duration": 4,
    "start_time": "2023-09-29T01:12:58.260Z"
   },
   {
    "duration": 19,
    "start_time": "2023-09-29T01:12:58.266Z"
   },
   {
    "duration": 39,
    "start_time": "2023-09-29T01:12:58.286Z"
   },
   {
    "duration": 11,
    "start_time": "2023-09-29T01:12:58.326Z"
   },
   {
    "duration": 18,
    "start_time": "2023-09-29T01:12:58.338Z"
   },
   {
    "duration": 38,
    "start_time": "2023-09-29T01:12:58.357Z"
   },
   {
    "duration": 25,
    "start_time": "2023-09-29T01:12:58.396Z"
   },
   {
    "duration": 473,
    "start_time": "2023-09-29T01:12:58.422Z"
   },
   {
    "duration": 213,
    "start_time": "2023-09-29T01:12:58.901Z"
   },
   {
    "duration": 405,
    "start_time": "2023-09-29T01:12:59.116Z"
   },
   {
    "duration": 6,
    "start_time": "2023-09-29T01:12:59.523Z"
   },
   {
    "duration": 197,
    "start_time": "2023-09-29T01:12:59.531Z"
   },
   {
    "duration": 187,
    "start_time": "2023-09-29T01:12:59.729Z"
   },
   {
    "duration": 5,
    "start_time": "2023-09-29T01:12:59.918Z"
   },
   {
    "duration": 909,
    "start_time": "2023-09-29T01:12:59.926Z"
   },
   {
    "duration": 6,
    "start_time": "2023-09-29T01:13:00.837Z"
   },
   {
    "duration": 184,
    "start_time": "2023-09-29T01:13:00.844Z"
   },
   {
    "duration": 562,
    "start_time": "2023-09-29T01:35:01.117Z"
   },
   {
    "duration": 18,
    "start_time": "2023-09-29T01:35:01.681Z"
   },
   {
    "duration": 45,
    "start_time": "2023-09-29T01:35:01.701Z"
   },
   {
    "duration": 47,
    "start_time": "2023-09-29T01:35:01.749Z"
   },
   {
    "duration": 50,
    "start_time": "2023-09-29T01:35:01.798Z"
   },
   {
    "duration": 49,
    "start_time": "2023-09-29T01:35:01.850Z"
   },
   {
    "duration": 66,
    "start_time": "2023-09-29T01:35:01.901Z"
   },
   {
    "duration": 65,
    "start_time": "2023-09-29T01:35:01.969Z"
   },
   {
    "duration": 165,
    "start_time": "2023-09-29T01:35:02.036Z"
   },
   {
    "duration": 124,
    "start_time": "2023-09-29T01:35:02.205Z"
   },
   {
    "duration": 153,
    "start_time": "2023-09-29T01:35:02.331Z"
   },
   {
    "duration": 517,
    "start_time": "2023-09-29T01:35:02.486Z"
   },
   {
    "duration": 2,
    "start_time": "2023-09-29T01:35:03.006Z"
   },
   {
    "duration": 851,
    "start_time": "2023-09-29T01:35:03.010Z"
   },
   {
    "duration": 250,
    "start_time": "2023-09-29T01:35:03.862Z"
   },
   {
    "duration": 275,
    "start_time": "2023-09-29T01:35:04.114Z"
   },
   {
    "duration": 199,
    "start_time": "2023-09-29T01:35:04.391Z"
   },
   {
    "duration": 243,
    "start_time": "2023-09-29T01:35:04.592Z"
   },
   {
    "duration": 25,
    "start_time": "2023-09-29T01:35:04.838Z"
   },
   {
    "duration": 38,
    "start_time": "2023-09-29T01:35:04.865Z"
   },
   {
    "duration": 53,
    "start_time": "2023-09-29T01:35:04.905Z"
   },
   {
    "duration": 194,
    "start_time": "2023-09-29T01:35:04.960Z"
   },
   {
    "duration": 194,
    "start_time": "2023-09-29T01:35:05.156Z"
   },
   {
    "duration": 174,
    "start_time": "2023-09-29T01:35:05.352Z"
   },
   {
    "duration": 219,
    "start_time": "2023-09-29T01:35:05.529Z"
   },
   {
    "duration": 75,
    "start_time": "2023-09-29T01:35:05.750Z"
   },
   {
    "duration": 4,
    "start_time": "2023-09-29T01:35:05.827Z"
   },
   {
    "duration": 150,
    "start_time": "2023-09-29T01:35:05.834Z"
   },
   {
    "duration": 79,
    "start_time": "2023-09-29T01:35:05.985Z"
   },
   {
    "duration": 72,
    "start_time": "2023-09-29T01:35:06.066Z"
   },
   {
    "duration": 52,
    "start_time": "2023-09-29T01:35:06.140Z"
   },
   {
    "duration": 44,
    "start_time": "2023-09-29T01:35:06.194Z"
   },
   {
    "duration": 77,
    "start_time": "2023-09-29T01:35:06.240Z"
   },
   {
    "duration": 471,
    "start_time": "2023-09-29T01:35:06.319Z"
   },
   {
    "duration": 203,
    "start_time": "2023-09-29T01:35:06.791Z"
   },
   {
    "duration": 496,
    "start_time": "2023-09-29T01:35:07.000Z"
   },
   {
    "duration": 7,
    "start_time": "2023-09-29T01:35:07.497Z"
   },
   {
    "duration": 272,
    "start_time": "2023-09-29T01:35:07.506Z"
   },
   {
    "duration": 124,
    "start_time": "2023-09-29T01:35:07.781Z"
   },
   {
    "duration": 6,
    "start_time": "2023-09-29T01:35:07.907Z"
   },
   {
    "duration": 1411,
    "start_time": "2023-09-29T01:35:07.914Z"
   },
   {
    "duration": 6,
    "start_time": "2023-09-29T01:35:09.327Z"
   },
   {
    "duration": 41,
    "start_time": "2023-09-29T01:35:09.335Z"
   }
  ],
  "kernelspec": {
   "display_name": "Python 3 (ipykernel)",
   "language": "python",
   "name": "python3"
  },
  "language_info": {
   "codemirror_mode": {
    "name": "ipython",
    "version": 3
   },
   "file_extension": ".py",
   "mimetype": "text/x-python",
   "name": "python",
   "nbconvert_exporter": "python",
   "pygments_lexer": "ipython3",
   "version": "3.11.4"
  },
  "toc": {
   "base_numbering": 1,
   "nav_menu": {},
   "number_sections": true,
   "sideBar": true,
   "skip_h1_title": true,
   "title_cell": "Table of Contents",
   "title_sidebar": "Contents",
   "toc_cell": false,
   "toc_position": {},
   "toc_section_display": true,
   "toc_window_display": false
  }
 },
 "nbformat": 4,
 "nbformat_minor": 5
}
