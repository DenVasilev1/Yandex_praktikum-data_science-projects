{
 "cells": [
  {
   "cell_type": "markdown",
   "id": "9acc998b",
   "metadata": {},
   "source": [
    "# Анализ поведения пользователей мобильного приложения продуктов питания"
   ]
  },
  {
   "cell_type": "markdown",
   "id": "9ba6fa56",
   "metadata": {},
   "source": [
    "<div class=\"alert alert-block alert-info\">\n",
    "\n",
    "Цель: изучить как пользователи доходят до покупки в приложении, сколько пользователей доходит, сколько не доходит и на каких шагах они останавливаются. Исследовать результаты A/A/B-эксперимента. Пользователей разбили на 3 группы: 2 контрольные со старыми шрифтами и одна экспериментальная — с новыми. Необходимо выяснить какой шрифт лучше.\n",
    "\n",
    "План: \n",
    "- подготовить изучить и проверить данные\n",
    "- проверить события и пользователей, период времени данных , актуальность данных, проверить выбросы\n",
    "- проверить пользователей на уникальность в каждой группе\n",
    "- изучить воронку событий, для этого сгпупперовать данные по группам\n",
    "- посчитать события по группам, определить на каких этапах происходит резкое подение посещаемости\n",
    "- изучить результаты эксперимента А/A/B теста\n",
    "\n",
    "<div class=\"alert alert-success\">\n",
    "\n",
    "\n",
    "</div>\n",
    "    "
   ]
  },
  {
   "cell_type": "code",
   "execution_count": 1,
   "id": "05d313d2",
   "metadata": {},
   "outputs": [],
   "source": [
    "import pandas as pd                 #библиотека для считывания файлов с данными\n",
    "import numpy as np                  #библиотека для оругления значений?\n",
    "import matplotlib.pyplot as plt     #библиотека для графиков\n",
    "from scipy import stats as st       #библиотека для проверки гипотез\n",
    "import datetime \n",
    "import math as mth\n",
    "import seaborn as sns\n",
    "sns.set(rc={'figure.figsize':(12, 8)})"
   ]
  },
  {
   "cell_type": "markdown",
   "id": "be99dee1",
   "metadata": {},
   "source": [
    "# Шаг 1. Cчитываем документ и разделяем столбцы"
   ]
  },
  {
   "cell_type": "code",
   "execution_count": 2,
   "id": "b03e1bcc",
   "metadata": {},
   "outputs": [],
   "source": [
    "data = pd.read_csv('https://code.s3.yandex.net/datasets/logs_exp.csv', sep='\\t')"
   ]
  },
  {
   "cell_type": "markdown",
   "id": "327dc884",
   "metadata": {},
   "source": [
    "- Выводим данные и смотрим информацию"
   ]
  },
  {
   "cell_type": "code",
   "execution_count": 3,
   "id": "d503141e",
   "metadata": {},
   "outputs": [
    {
     "data": {
      "text/html": [
       "<div>\n",
       "<style scoped>\n",
       "    .dataframe tbody tr th:only-of-type {\n",
       "        vertical-align: middle;\n",
       "    }\n",
       "\n",
       "    .dataframe tbody tr th {\n",
       "        vertical-align: top;\n",
       "    }\n",
       "\n",
       "    .dataframe thead th {\n",
       "        text-align: right;\n",
       "    }\n",
       "</style>\n",
       "<table border=\"1\" class=\"dataframe\">\n",
       "  <thead>\n",
       "    <tr style=\"text-align: right;\">\n",
       "      <th></th>\n",
       "      <th>EventName</th>\n",
       "      <th>DeviceIDHash</th>\n",
       "      <th>EventTimestamp</th>\n",
       "      <th>ExpId</th>\n",
       "    </tr>\n",
       "  </thead>\n",
       "  <tbody>\n",
       "    <tr>\n",
       "      <th>0</th>\n",
       "      <td>MainScreenAppear</td>\n",
       "      <td>4575588528974610257</td>\n",
       "      <td>1564029816</td>\n",
       "      <td>246</td>\n",
       "    </tr>\n",
       "    <tr>\n",
       "      <th>1</th>\n",
       "      <td>MainScreenAppear</td>\n",
       "      <td>7416695313311560658</td>\n",
       "      <td>1564053102</td>\n",
       "      <td>246</td>\n",
       "    </tr>\n",
       "    <tr>\n",
       "      <th>2</th>\n",
       "      <td>PaymentScreenSuccessful</td>\n",
       "      <td>3518123091307005509</td>\n",
       "      <td>1564054127</td>\n",
       "      <td>248</td>\n",
       "    </tr>\n",
       "    <tr>\n",
       "      <th>3</th>\n",
       "      <td>CartScreenAppear</td>\n",
       "      <td>3518123091307005509</td>\n",
       "      <td>1564054127</td>\n",
       "      <td>248</td>\n",
       "    </tr>\n",
       "    <tr>\n",
       "      <th>4</th>\n",
       "      <td>PaymentScreenSuccessful</td>\n",
       "      <td>6217807653094995999</td>\n",
       "      <td>1564055322</td>\n",
       "      <td>248</td>\n",
       "    </tr>\n",
       "  </tbody>\n",
       "</table>\n",
       "</div>"
      ],
      "text/plain": [
       "                 EventName         DeviceIDHash  EventTimestamp  ExpId\n",
       "0         MainScreenAppear  4575588528974610257      1564029816    246\n",
       "1         MainScreenAppear  7416695313311560658      1564053102    246\n",
       "2  PaymentScreenSuccessful  3518123091307005509      1564054127    248\n",
       "3         CartScreenAppear  3518123091307005509      1564054127    248\n",
       "4  PaymentScreenSuccessful  6217807653094995999      1564055322    248"
      ]
     },
     "execution_count": 3,
     "metadata": {},
     "output_type": "execute_result"
    }
   ],
   "source": [
    "data.head()"
   ]
  },
  {
   "cell_type": "code",
   "execution_count": 4,
   "id": "ed2a746a",
   "metadata": {},
   "outputs": [
    {
     "name": "stdout",
     "output_type": "stream",
     "text": [
      "<class 'pandas.core.frame.DataFrame'>\n",
      "RangeIndex: 244126 entries, 0 to 244125\n",
      "Data columns (total 4 columns):\n",
      " #   Column          Non-Null Count   Dtype \n",
      "---  ------          --------------   ----- \n",
      " 0   EventName       244126 non-null  object\n",
      " 1   DeviceIDHash    244126 non-null  int64 \n",
      " 2   EventTimestamp  244126 non-null  int64 \n",
      " 3   ExpId           244126 non-null  int64 \n",
      "dtypes: int64(3), object(1)\n",
      "memory usage: 7.5+ MB\n"
     ]
    }
   ],
   "source": [
    "data.info(10)"
   ]
  },
  {
   "cell_type": "markdown",
   "id": "9056ee34",
   "metadata": {},
   "source": [
    "Из общей информации видно что : \n",
    "- нужно заменить тип данных времени с int на datetime\n",
    "- и переименовать столбцы"
   ]
  },
  {
   "cell_type": "markdown",
   "id": "8abcd0b9",
   "metadata": {},
   "source": [
    "# Шаг 2. Подготовка данных"
   ]
  },
  {
   "cell_type": "markdown",
   "id": "fdcd23a2",
   "metadata": {},
   "source": [
    "- Заменим названия столбцов\n",
    "- Проверим пропуски и типы данных\n",
    "- Добавим столбец даты и времени, а также отдельный столбец дат\n",
    "- Проверим явные дубликаты\n"
   ]
  },
  {
   "cell_type": "markdown",
   "id": "941835cc",
   "metadata": {},
   "source": [
    "переименовываем столбцы"
   ]
  },
  {
   "cell_type": "code",
   "execution_count": 5,
   "id": "20b01dd0",
   "metadata": {},
   "outputs": [],
   "source": [
    "data.rename(columns={'EventName':'event_name', \n",
    "                     'DeviceIDHash':'user_id', \n",
    "                     'EventTimestamp':'event_timestamp', \n",
    "                     'ExpId':'expid'}, inplace=True)"
   ]
  },
  {
   "cell_type": "markdown",
   "id": "f52bb90d",
   "metadata": {},
   "source": [
    " - приводим данные даты в понятный формат\n",
    " - добовляем стобец event_time_s с датой и временем"
   ]
  },
  {
   "cell_type": "code",
   "execution_count": 6,
   "id": "a459d82c",
   "metadata": {},
   "outputs": [],
   "source": [
    "data['event_time_s'] = pd.to_datetime(data['event_timestamp'], unit='s')"
   ]
  },
  {
   "cell_type": "markdown",
   "id": "5b0e1bb5",
   "metadata": {},
   "source": [
    "- добовляем стобец event_time_d только c датой"
   ]
  },
  {
   "cell_type": "code",
   "execution_count": 7,
   "id": "4e96107f",
   "metadata": {},
   "outputs": [],
   "source": [
    "data['event_time_d'] = data['event_time_s'].dt.date.astype('datetime64')"
   ]
  },
  {
   "cell_type": "markdown",
   "id": "07bf4870",
   "metadata": {},
   "source": [
    "пришлось во втором запросе добавить .astype('datetime64') тк изначально выводилось как object"
   ]
  },
  {
   "cell_type": "code",
   "execution_count": 8,
   "id": "57b23c13",
   "metadata": {},
   "outputs": [
    {
     "data": {
      "text/html": [
       "<div>\n",
       "<style scoped>\n",
       "    .dataframe tbody tr th:only-of-type {\n",
       "        vertical-align: middle;\n",
       "    }\n",
       "\n",
       "    .dataframe tbody tr th {\n",
       "        vertical-align: top;\n",
       "    }\n",
       "\n",
       "    .dataframe thead th {\n",
       "        text-align: right;\n",
       "    }\n",
       "</style>\n",
       "<table border=\"1\" class=\"dataframe\">\n",
       "  <thead>\n",
       "    <tr style=\"text-align: right;\">\n",
       "      <th></th>\n",
       "      <th>event_name</th>\n",
       "      <th>user_id</th>\n",
       "      <th>event_timestamp</th>\n",
       "      <th>expid</th>\n",
       "      <th>event_time_s</th>\n",
       "      <th>event_time_d</th>\n",
       "    </tr>\n",
       "  </thead>\n",
       "  <tbody>\n",
       "    <tr>\n",
       "      <th>0</th>\n",
       "      <td>MainScreenAppear</td>\n",
       "      <td>4575588528974610257</td>\n",
       "      <td>1564029816</td>\n",
       "      <td>246</td>\n",
       "      <td>2019-07-25 04:43:36</td>\n",
       "      <td>2019-07-25</td>\n",
       "    </tr>\n",
       "    <tr>\n",
       "      <th>1</th>\n",
       "      <td>MainScreenAppear</td>\n",
       "      <td>7416695313311560658</td>\n",
       "      <td>1564053102</td>\n",
       "      <td>246</td>\n",
       "      <td>2019-07-25 11:11:42</td>\n",
       "      <td>2019-07-25</td>\n",
       "    </tr>\n",
       "    <tr>\n",
       "      <th>2</th>\n",
       "      <td>PaymentScreenSuccessful</td>\n",
       "      <td>3518123091307005509</td>\n",
       "      <td>1564054127</td>\n",
       "      <td>248</td>\n",
       "      <td>2019-07-25 11:28:47</td>\n",
       "      <td>2019-07-25</td>\n",
       "    </tr>\n",
       "    <tr>\n",
       "      <th>3</th>\n",
       "      <td>CartScreenAppear</td>\n",
       "      <td>3518123091307005509</td>\n",
       "      <td>1564054127</td>\n",
       "      <td>248</td>\n",
       "      <td>2019-07-25 11:28:47</td>\n",
       "      <td>2019-07-25</td>\n",
       "    </tr>\n",
       "    <tr>\n",
       "      <th>4</th>\n",
       "      <td>PaymentScreenSuccessful</td>\n",
       "      <td>6217807653094995999</td>\n",
       "      <td>1564055322</td>\n",
       "      <td>248</td>\n",
       "      <td>2019-07-25 11:48:42</td>\n",
       "      <td>2019-07-25</td>\n",
       "    </tr>\n",
       "  </tbody>\n",
       "</table>\n",
       "</div>"
      ],
      "text/plain": [
       "                event_name              user_id  event_timestamp  expid  \\\n",
       "0         MainScreenAppear  4575588528974610257       1564029816    246   \n",
       "1         MainScreenAppear  7416695313311560658       1564053102    246   \n",
       "2  PaymentScreenSuccessful  3518123091307005509       1564054127    248   \n",
       "3         CartScreenAppear  3518123091307005509       1564054127    248   \n",
       "4  PaymentScreenSuccessful  6217807653094995999       1564055322    248   \n",
       "\n",
       "         event_time_s event_time_d  \n",
       "0 2019-07-25 04:43:36   2019-07-25  \n",
       "1 2019-07-25 11:11:42   2019-07-25  \n",
       "2 2019-07-25 11:28:47   2019-07-25  \n",
       "3 2019-07-25 11:28:47   2019-07-25  \n",
       "4 2019-07-25 11:48:42   2019-07-25  "
      ]
     },
     "execution_count": 8,
     "metadata": {},
     "output_type": "execute_result"
    }
   ],
   "source": [
    "data.head()"
   ]
  },
  {
   "cell_type": "markdown",
   "id": "a9d52e91",
   "metadata": {},
   "source": [
    "Проверяем кол-во пропусков"
   ]
  },
  {
   "cell_type": "code",
   "execution_count": 9,
   "id": "4580d62f",
   "metadata": {},
   "outputs": [
    {
     "data": {
      "text/plain": [
       "event_name         0\n",
       "user_id            0\n",
       "event_timestamp    0\n",
       "expid              0\n",
       "event_time_s       0\n",
       "event_time_d       0\n",
       "dtype: int64"
      ]
     },
     "execution_count": 9,
     "metadata": {},
     "output_type": "execute_result"
    }
   ],
   "source": [
    "data.isna().sum()"
   ]
  },
  {
   "cell_type": "markdown",
   "id": "fac61c46",
   "metadata": {},
   "source": [
    "пропусков нет"
   ]
  },
  {
   "cell_type": "markdown",
   "id": "d315b50f",
   "metadata": {},
   "source": [
    "Проверяем кол-во явных дубликатов"
   ]
  },
  {
   "cell_type": "code",
   "execution_count": 10,
   "id": "95bd70f7",
   "metadata": {},
   "outputs": [
    {
     "name": "stdout",
     "output_type": "stream",
     "text": [
      "кол-во явных дубликатов = 413\n"
     ]
    }
   ],
   "source": [
    "print('кол-во явных дубликатов =', data.duplicated().sum())"
   ]
  },
  {
   "cell_type": "markdown",
   "id": "5d140275",
   "metadata": {},
   "source": [
    "Удалим явные дубликаты"
   ]
  },
  {
   "cell_type": "code",
   "execution_count": 11,
   "id": "d853fb9e",
   "metadata": {},
   "outputs": [],
   "source": [
    "data = data.drop_duplicates()"
   ]
  },
  {
   "cell_type": "markdown",
   "id": "47baf0b0",
   "metadata": {},
   "source": [
    "Снова проверим дубликаты"
   ]
  },
  {
   "cell_type": "code",
   "execution_count": 12,
   "id": "fe5bfbc4",
   "metadata": {},
   "outputs": [
    {
     "name": "stdout",
     "output_type": "stream",
     "text": [
      "кол-во явных дубликатов = 0\n"
     ]
    }
   ],
   "source": [
    "print('кол-во явных дубликатов =', data.duplicated().sum())"
   ]
  },
  {
   "cell_type": "markdown",
   "id": "7a442fbf",
   "metadata": {},
   "source": [
    "посмотрим на общую информацию"
   ]
  },
  {
   "cell_type": "code",
   "execution_count": 13,
   "id": "99e39aa3",
   "metadata": {},
   "outputs": [
    {
     "name": "stdout",
     "output_type": "stream",
     "text": [
      "<class 'pandas.core.frame.DataFrame'>\n",
      "Int64Index: 243713 entries, 0 to 244125\n",
      "Data columns (total 6 columns):\n",
      " #   Column           Non-Null Count   Dtype         \n",
      "---  ------           --------------   -----         \n",
      " 0   event_name       243713 non-null  object        \n",
      " 1   user_id          243713 non-null  int64         \n",
      " 2   event_timestamp  243713 non-null  int64         \n",
      " 3   expid            243713 non-null  int64         \n",
      " 4   event_time_s     243713 non-null  datetime64[ns]\n",
      " 5   event_time_d     243713 non-null  datetime64[ns]\n",
      "dtypes: datetime64[ns](2), int64(3), object(1)\n",
      "memory usage: 13.0+ MB\n"
     ]
    }
   ],
   "source": [
    "data.info()"
   ]
  },
  {
   "cell_type": "markdown",
   "id": "e920fb60",
   "metadata": {},
   "source": [
    "Что сделали:\n",
    "- заменили названия столбцов на более удобные\n",
    "- добалили столбц с датой и временем\n",
    "- добалили столбц только с датой без времени\n",
    "- проверили что пропусков нет\n",
    "- удалили явные дубликаты"
   ]
  },
  {
   "cell_type": "markdown",
   "id": "0f82fe45",
   "metadata": {},
   "source": [
    "# Шаг 3. Изучим и проверим данные"
   ]
  },
  {
   "cell_type": "markdown",
   "id": "e3911093",
   "metadata": {},
   "source": [
    "- 3.1 Сколько всего событий в логе?\n",
    "- 3.2 Сколько всего пользователей в логе?\n",
    "- 3.3 Сколько в среднем событий приходится на пользователя?\n",
    "- 3.4 Данными за какой период вы располагаете? Найдите максимальную и минимальную дату. Изучите, как меняется количество данных: постройте столбчатую диаграмму, которая отобразит количество событий в зависимости от времени в разрезе групп. Можно ли быть уверенным, что у вас одинаково полные данные за весь период? Технически в логи новых дней по некоторым пользователям могут «доезжать» события из прошлого — это может «перекашивать данные». Определите, с какого момента данные полные и отбросьте более старые. Данными за какой период времени вы располагаете на самом деле?\n",
    "- 3.5 Много ли событий и пользователей вы потеряли, отбросив старые данные?\n",
    "- 3.6 Проверьте, что у вас есть пользователи из всех трёх экспериментальных групп."
   ]
  },
  {
   "cell_type": "markdown",
   "id": "1a981eb6",
   "metadata": {},
   "source": [
    "3.1 Сколько всего событий в логе?"
   ]
  },
  {
   "cell_type": "code",
   "execution_count": 14,
   "id": "277eac13",
   "metadata": {},
   "outputs": [
    {
     "name": "stdout",
     "output_type": "stream",
     "text": [
      "У нас уникальных событий = 5\n"
     ]
    }
   ],
   "source": [
    "print('У нас уникальных событий =', data['event_name'].nunique())"
   ]
  },
  {
   "cell_type": "markdown",
   "id": "84bcddc2",
   "metadata": {},
   "source": [
    "посчитаем сколько раз каждое событие встречалось в датафрейме"
   ]
  },
  {
   "cell_type": "code",
   "execution_count": 15,
   "id": "ffc1f68d",
   "metadata": {},
   "outputs": [
    {
     "data": {
      "text/plain": [
       "MainScreenAppear           119101\n",
       "OffersScreenAppear          46808\n",
       "CartScreenAppear            42668\n",
       "PaymentScreenSuccessful     34118\n",
       "Tutorial                     1018\n",
       "Name: event_name, dtype: int64"
      ]
     },
     "execution_count": 15,
     "metadata": {},
     "output_type": "execute_result"
    }
   ],
   "source": [
    "data['event_name'].value_counts()"
   ]
  },
  {
   "cell_type": "code",
   "execution_count": 16,
   "id": "dbd4c718",
   "metadata": {},
   "outputs": [
    {
     "name": "stdout",
     "output_type": "stream",
     "text": [
      "Всего событий = 243713\n"
     ]
    }
   ],
   "source": [
    "print('Всего событий =', data['event_name'].count())"
   ]
  },
  {
   "cell_type": "markdown",
   "id": "140fcb5d",
   "metadata": {},
   "source": [
    "3.2 Сколько всего пользователей в логе?"
   ]
  },
  {
   "cell_type": "code",
   "execution_count": 17,
   "id": "941536a9",
   "metadata": {},
   "outputs": [
    {
     "name": "stdout",
     "output_type": "stream",
     "text": [
      "Всего уникальных пользователей = 7551\n"
     ]
    }
   ],
   "source": [
    "print('Всего уникальных пользователей =', data['user_id'].nunique())"
   ]
  },
  {
   "cell_type": "markdown",
   "id": "3db47fa4",
   "metadata": {},
   "source": [
    "3.3 Сколько в среднем событий приходится на пользователя?"
   ]
  },
  {
   "cell_type": "markdown",
   "id": "23a4a0be",
   "metadata": {},
   "source": [
    "сгруперуем по пользователям и посчитаем кол-во событий приходящиеся на каждого пользователя"
   ]
  },
  {
   "cell_type": "code",
   "execution_count": 18,
   "id": "f1b3a581",
   "metadata": {},
   "outputs": [
    {
     "data": {
      "text/html": [
       "<div>\n",
       "<style scoped>\n",
       "    .dataframe tbody tr th:only-of-type {\n",
       "        vertical-align: middle;\n",
       "    }\n",
       "\n",
       "    .dataframe tbody tr th {\n",
       "        vertical-align: top;\n",
       "    }\n",
       "\n",
       "    .dataframe thead th {\n",
       "        text-align: right;\n",
       "    }\n",
       "</style>\n",
       "<table border=\"1\" class=\"dataframe\">\n",
       "  <thead>\n",
       "    <tr style=\"text-align: right;\">\n",
       "      <th></th>\n",
       "      <th>event_name</th>\n",
       "    </tr>\n",
       "    <tr>\n",
       "      <th>user_id</th>\n",
       "      <th></th>\n",
       "    </tr>\n",
       "  </thead>\n",
       "  <tbody>\n",
       "    <tr>\n",
       "      <th>6888746892508752</th>\n",
       "      <td>1</td>\n",
       "    </tr>\n",
       "    <tr>\n",
       "      <th>6909561520679493</th>\n",
       "      <td>5</td>\n",
       "    </tr>\n",
       "    <tr>\n",
       "      <th>6922444491712477</th>\n",
       "      <td>47</td>\n",
       "    </tr>\n",
       "    <tr>\n",
       "      <th>7435777799948366</th>\n",
       "      <td>6</td>\n",
       "    </tr>\n",
       "    <tr>\n",
       "      <th>7702139951469979</th>\n",
       "      <td>137</td>\n",
       "    </tr>\n",
       "  </tbody>\n",
       "</table>\n",
       "</div>"
      ],
      "text/plain": [
       "                  event_name\n",
       "user_id                     \n",
       "6888746892508752           1\n",
       "6909561520679493           5\n",
       "6922444491712477          47\n",
       "7435777799948366           6\n",
       "7702139951469979         137"
      ]
     },
     "execution_count": 18,
     "metadata": {},
     "output_type": "execute_result"
    }
   ],
   "source": [
    "id_group_cnt = data.groupby(by='user_id').agg({'event_name': 'count'})\n",
    "id_group_cnt.head()"
   ]
  },
  {
   "cell_type": "markdown",
   "id": "02c32532",
   "metadata": {},
   "source": [
    "найдем среднее кол-во событий на пользователя и округлим"
   ]
  },
  {
   "cell_type": "code",
   "execution_count": 19,
   "id": "aaa6d1b1",
   "metadata": {},
   "outputs": [
    {
     "data": {
      "text/plain": [
       "event_name    32.0\n",
       "dtype: float64"
      ]
     },
     "execution_count": 19,
     "metadata": {},
     "output_type": "execute_result"
    }
   ],
   "source": [
    "round(id_group_cnt.mean())"
   ]
  },
  {
   "cell_type": "markdown",
   "id": "102a3dec",
   "metadata": {},
   "source": [
    " В среднем на пользрвателя приходится 32 события"
   ]
  },
  {
   "cell_type": "markdown",
   "id": "b62ad14a",
   "metadata": {},
   "source": [
    "3.4 Данными за какой период вы располагаете? Найдите максимальную и минимальную дату. Изучите, как меняется количество данных: постройте столбчатую диаграмму, которая отобразит количество событий в зависимости от времени в разрезе групп. Можно ли быть уверенным, что у вас одинаково полные данные за весь период? Технически в логи новых дней по некоторым пользователям могут «доезжать» события из прошлого — это может «перекашивать данные». Определите, с какого момента данные полные и отбросьте более старые. Данными за какой период времени вы располагаете на самом деле?"
   ]
  },
  {
   "cell_type": "code",
   "execution_count": 20,
   "id": "e4e7780a",
   "metadata": {},
   "outputs": [
    {
     "data": {
      "text/html": [
       "<div>\n",
       "<style scoped>\n",
       "    .dataframe tbody tr th:only-of-type {\n",
       "        vertical-align: middle;\n",
       "    }\n",
       "\n",
       "    .dataframe tbody tr th {\n",
       "        vertical-align: top;\n",
       "    }\n",
       "\n",
       "    .dataframe thead th {\n",
       "        text-align: right;\n",
       "    }\n",
       "</style>\n",
       "<table border=\"1\" class=\"dataframe\">\n",
       "  <thead>\n",
       "    <tr style=\"text-align: right;\">\n",
       "      <th></th>\n",
       "      <th>event_name</th>\n",
       "      <th>user_id</th>\n",
       "      <th>event_timestamp</th>\n",
       "      <th>expid</th>\n",
       "      <th>event_time_s</th>\n",
       "      <th>event_time_d</th>\n",
       "    </tr>\n",
       "  </thead>\n",
       "  <tbody>\n",
       "    <tr>\n",
       "      <th>0</th>\n",
       "      <td>MainScreenAppear</td>\n",
       "      <td>4575588528974610257</td>\n",
       "      <td>1564029816</td>\n",
       "      <td>246</td>\n",
       "      <td>2019-07-25 04:43:36</td>\n",
       "      <td>2019-07-25</td>\n",
       "    </tr>\n",
       "    <tr>\n",
       "      <th>1</th>\n",
       "      <td>MainScreenAppear</td>\n",
       "      <td>7416695313311560658</td>\n",
       "      <td>1564053102</td>\n",
       "      <td>246</td>\n",
       "      <td>2019-07-25 11:11:42</td>\n",
       "      <td>2019-07-25</td>\n",
       "    </tr>\n",
       "    <tr>\n",
       "      <th>2</th>\n",
       "      <td>PaymentScreenSuccessful</td>\n",
       "      <td>3518123091307005509</td>\n",
       "      <td>1564054127</td>\n",
       "      <td>248</td>\n",
       "      <td>2019-07-25 11:28:47</td>\n",
       "      <td>2019-07-25</td>\n",
       "    </tr>\n",
       "    <tr>\n",
       "      <th>3</th>\n",
       "      <td>CartScreenAppear</td>\n",
       "      <td>3518123091307005509</td>\n",
       "      <td>1564054127</td>\n",
       "      <td>248</td>\n",
       "      <td>2019-07-25 11:28:47</td>\n",
       "      <td>2019-07-25</td>\n",
       "    </tr>\n",
       "    <tr>\n",
       "      <th>4</th>\n",
       "      <td>PaymentScreenSuccessful</td>\n",
       "      <td>6217807653094995999</td>\n",
       "      <td>1564055322</td>\n",
       "      <td>248</td>\n",
       "      <td>2019-07-25 11:48:42</td>\n",
       "      <td>2019-07-25</td>\n",
       "    </tr>\n",
       "    <tr>\n",
       "      <th>...</th>\n",
       "      <td>...</td>\n",
       "      <td>...</td>\n",
       "      <td>...</td>\n",
       "      <td>...</td>\n",
       "      <td>...</td>\n",
       "      <td>...</td>\n",
       "    </tr>\n",
       "    <tr>\n",
       "      <th>244121</th>\n",
       "      <td>MainScreenAppear</td>\n",
       "      <td>4599628364049201812</td>\n",
       "      <td>1565212345</td>\n",
       "      <td>247</td>\n",
       "      <td>2019-08-07 21:12:25</td>\n",
       "      <td>2019-08-07</td>\n",
       "    </tr>\n",
       "    <tr>\n",
       "      <th>244122</th>\n",
       "      <td>MainScreenAppear</td>\n",
       "      <td>5849806612437486590</td>\n",
       "      <td>1565212439</td>\n",
       "      <td>246</td>\n",
       "      <td>2019-08-07 21:13:59</td>\n",
       "      <td>2019-08-07</td>\n",
       "    </tr>\n",
       "    <tr>\n",
       "      <th>244123</th>\n",
       "      <td>MainScreenAppear</td>\n",
       "      <td>5746969938801999050</td>\n",
       "      <td>1565212483</td>\n",
       "      <td>246</td>\n",
       "      <td>2019-08-07 21:14:43</td>\n",
       "      <td>2019-08-07</td>\n",
       "    </tr>\n",
       "    <tr>\n",
       "      <th>244124</th>\n",
       "      <td>MainScreenAppear</td>\n",
       "      <td>5746969938801999050</td>\n",
       "      <td>1565212498</td>\n",
       "      <td>246</td>\n",
       "      <td>2019-08-07 21:14:58</td>\n",
       "      <td>2019-08-07</td>\n",
       "    </tr>\n",
       "    <tr>\n",
       "      <th>244125</th>\n",
       "      <td>OffersScreenAppear</td>\n",
       "      <td>5746969938801999050</td>\n",
       "      <td>1565212517</td>\n",
       "      <td>246</td>\n",
       "      <td>2019-08-07 21:15:17</td>\n",
       "      <td>2019-08-07</td>\n",
       "    </tr>\n",
       "  </tbody>\n",
       "</table>\n",
       "<p>243713 rows × 6 columns</p>\n",
       "</div>"
      ],
      "text/plain": [
       "                     event_name              user_id  event_timestamp  expid  \\\n",
       "0              MainScreenAppear  4575588528974610257       1564029816    246   \n",
       "1              MainScreenAppear  7416695313311560658       1564053102    246   \n",
       "2       PaymentScreenSuccessful  3518123091307005509       1564054127    248   \n",
       "3              CartScreenAppear  3518123091307005509       1564054127    248   \n",
       "4       PaymentScreenSuccessful  6217807653094995999       1564055322    248   \n",
       "...                         ...                  ...              ...    ...   \n",
       "244121         MainScreenAppear  4599628364049201812       1565212345    247   \n",
       "244122         MainScreenAppear  5849806612437486590       1565212439    246   \n",
       "244123         MainScreenAppear  5746969938801999050       1565212483    246   \n",
       "244124         MainScreenAppear  5746969938801999050       1565212498    246   \n",
       "244125       OffersScreenAppear  5746969938801999050       1565212517    246   \n",
       "\n",
       "              event_time_s event_time_d  \n",
       "0      2019-07-25 04:43:36   2019-07-25  \n",
       "1      2019-07-25 11:11:42   2019-07-25  \n",
       "2      2019-07-25 11:28:47   2019-07-25  \n",
       "3      2019-07-25 11:28:47   2019-07-25  \n",
       "4      2019-07-25 11:48:42   2019-07-25  \n",
       "...                    ...          ...  \n",
       "244121 2019-08-07 21:12:25   2019-08-07  \n",
       "244122 2019-08-07 21:13:59   2019-08-07  \n",
       "244123 2019-08-07 21:14:43   2019-08-07  \n",
       "244124 2019-08-07 21:14:58   2019-08-07  \n",
       "244125 2019-08-07 21:15:17   2019-08-07  \n",
       "\n",
       "[243713 rows x 6 columns]"
      ]
     },
     "execution_count": 20,
     "metadata": {},
     "output_type": "execute_result"
    }
   ],
   "source": [
    "data.sort_values(by='event_time_s')"
   ]
  },
  {
   "cell_type": "code",
   "execution_count": 21,
   "id": "a8b2ed8f",
   "metadata": {},
   "outputs": [
    {
     "name": "stdout",
     "output_type": "stream",
     "text": [
      "Последняя дата = 2019-08-07 00:00:00\n"
     ]
    }
   ],
   "source": [
    "dt_max = data['event_time_d'].max()\n",
    "print('Последняя дата =', dt_max)"
   ]
  },
  {
   "cell_type": "code",
   "execution_count": 22,
   "id": "471c77f4",
   "metadata": {},
   "outputs": [
    {
     "name": "stdout",
     "output_type": "stream",
     "text": [
      "Первая дата = 2019-07-25 00:00:00\n"
     ]
    }
   ],
   "source": [
    "dt_min = data['event_time_d'].min()\n",
    "print('Первая дата =', dt_min)"
   ]
  },
  {
   "cell_type": "code",
   "execution_count": 23,
   "id": "c2f0b159",
   "metadata": {},
   "outputs": [
    {
     "name": "stdout",
     "output_type": "stream",
     "text": [
      "Период времени которым мы распологаем = 13 days 00:00:00\n"
     ]
    }
   ],
   "source": [
    "period_dt = dt_max - dt_min\n",
    "print('Период времени которым мы распологаем =', period_dt)"
   ]
  },
  {
   "cell_type": "markdown",
   "id": "e35eadf0",
   "metadata": {},
   "source": [
    "построим столбчатую диаграмму, которая отобразит количество событий в зависимости от времени"
   ]
  },
  {
   "cell_type": "code",
   "execution_count": 24,
   "id": "62bb3c8b",
   "metadata": {},
   "outputs": [
    {
     "data": {
      "image/png": "[encoded data removed]",
      "text/plain": [
       "<Figure size 1200x800 with 1 Axes>"
      ]
     },
     "metadata": {},
     "output_type": "display_data"
    }
   ],
   "source": [
    "(\n",
    "data\n",
    "    .pivot_table(index='event_time_d',values='event_name', aggfunc='count')\n",
    "    .sort_values(by='event_time_d', ascending=True)\n",
    "    .plot(kind='bar', grid=True, title='количество событий в зависимости от времени')\n",
    ")\n",
    "plt.xlabel(\"дата\")\n",
    "plt.ylabel(\"кол-во событий\")\n",
    "plt.show()"
   ]
  },
  {
   "cell_type": "markdown",
   "id": "26d99cb1",
   "metadata": {},
   "source": [
    "построим столбчатую диаграмму, которая отобразит количество событий в зависимости от времени в разрезе групп"
   ]
  },
  {
   "cell_type": "markdown",
   "id": "e2f616f2",
   "metadata": {},
   "source": [
    "построим пивот тайбл сгруперуем одновременно по группам пользователей 246 247 и 248 и дате, и посчитаем количество событий"
   ]
  },
  {
   "cell_type": "code",
   "execution_count": 25,
   "id": "dce44248",
   "metadata": {},
   "outputs": [
    {
     "data": {
      "text/html": [
       "<div>\n",
       "<style scoped>\n",
       "    .dataframe tbody tr th:only-of-type {\n",
       "        vertical-align: middle;\n",
       "    }\n",
       "\n",
       "    .dataframe tbody tr th {\n",
       "        vertical-align: top;\n",
       "    }\n",
       "\n",
       "    .dataframe thead th {\n",
       "        text-align: right;\n",
       "    }\n",
       "</style>\n",
       "<table border=\"1\" class=\"dataframe\">\n",
       "  <thead>\n",
       "    <tr style=\"text-align: right;\">\n",
       "      <th></th>\n",
       "      <th></th>\n",
       "      <th>event_name</th>\n",
       "    </tr>\n",
       "    <tr>\n",
       "      <th>expid</th>\n",
       "      <th>event_time_d</th>\n",
       "      <th></th>\n",
       "    </tr>\n",
       "  </thead>\n",
       "  <tbody>\n",
       "    <tr>\n",
       "      <th rowspan=\"5\" valign=\"top\">246</th>\n",
       "      <th>2019-07-25</th>\n",
       "      <td>4</td>\n",
       "    </tr>\n",
       "    <tr>\n",
       "      <th>2019-07-26</th>\n",
       "      <td>14</td>\n",
       "    </tr>\n",
       "    <tr>\n",
       "      <th>2019-07-27</th>\n",
       "      <td>24</td>\n",
       "    </tr>\n",
       "    <tr>\n",
       "      <th>2019-07-28</th>\n",
       "      <td>33</td>\n",
       "    </tr>\n",
       "    <tr>\n",
       "      <th>2019-07-29</th>\n",
       "      <td>55</td>\n",
       "    </tr>\n",
       "  </tbody>\n",
       "</table>\n",
       "</div>"
      ],
      "text/plain": [
       "                    event_name\n",
       "expid event_time_d            \n",
       "246   2019-07-25             4\n",
       "      2019-07-26            14\n",
       "      2019-07-27            24\n",
       "      2019-07-28            33\n",
       "      2019-07-29            55"
      ]
     },
     "execution_count": 25,
     "metadata": {},
     "output_type": "execute_result"
    }
   ],
   "source": [
    "df_events = (\n",
    "data\n",
    "    .pivot_table(index=['expid', 'event_time_d'],  values='event_name', aggfunc='count')\n",
    "    \n",
    ")\n",
    "df_events.head()"
   ]
  },
  {
   "cell_type": "markdown",
   "id": "4f452db7",
   "metadata": {},
   "source": [
    "нужно сделать индексами только группы, для этого сбросим и переназначим индекс"
   ]
  },
  {
   "cell_type": "code",
   "execution_count": 26,
   "id": "e0e8e9d9",
   "metadata": {},
   "outputs": [
    {
     "data": {
      "text/html": [
       "<div>\n",
       "<style scoped>\n",
       "    .dataframe tbody tr th:only-of-type {\n",
       "        vertical-align: middle;\n",
       "    }\n",
       "\n",
       "    .dataframe tbody tr th {\n",
       "        vertical-align: top;\n",
       "    }\n",
       "\n",
       "    .dataframe thead th {\n",
       "        text-align: right;\n",
       "    }\n",
       "</style>\n",
       "<table border=\"1\" class=\"dataframe\">\n",
       "  <thead>\n",
       "    <tr style=\"text-align: right;\">\n",
       "      <th></th>\n",
       "      <th>expid</th>\n",
       "      <th>event_time_d</th>\n",
       "      <th>event_name</th>\n",
       "    </tr>\n",
       "  </thead>\n",
       "  <tbody>\n",
       "    <tr>\n",
       "      <th>0</th>\n",
       "      <td>246</td>\n",
       "      <td>2019-07-25</td>\n",
       "      <td>4</td>\n",
       "    </tr>\n",
       "    <tr>\n",
       "      <th>1</th>\n",
       "      <td>246</td>\n",
       "      <td>2019-07-26</td>\n",
       "      <td>14</td>\n",
       "    </tr>\n",
       "    <tr>\n",
       "      <th>2</th>\n",
       "      <td>246</td>\n",
       "      <td>2019-07-27</td>\n",
       "      <td>24</td>\n",
       "    </tr>\n",
       "    <tr>\n",
       "      <th>3</th>\n",
       "      <td>246</td>\n",
       "      <td>2019-07-28</td>\n",
       "      <td>33</td>\n",
       "    </tr>\n",
       "    <tr>\n",
       "      <th>4</th>\n",
       "      <td>246</td>\n",
       "      <td>2019-07-29</td>\n",
       "      <td>55</td>\n",
       "    </tr>\n",
       "  </tbody>\n",
       "</table>\n",
       "</div>"
      ],
      "text/plain": [
       "   expid event_time_d  event_name\n",
       "0    246   2019-07-25           4\n",
       "1    246   2019-07-26          14\n",
       "2    246   2019-07-27          24\n",
       "3    246   2019-07-28          33\n",
       "4    246   2019-07-29          55"
      ]
     },
     "execution_count": 26,
     "metadata": {},
     "output_type": "execute_result"
    }
   ],
   "source": [
    "# сбросим индекс\n",
    "df_events = df_events.reset_index()\n",
    "df_events.head()"
   ]
  },
  {
   "cell_type": "code",
   "execution_count": 27,
   "id": "4e4f7cf2",
   "metadata": {},
   "outputs": [
    {
     "data": {
      "text/html": [
       "<div>\n",
       "<style scoped>\n",
       "    .dataframe tbody tr th:only-of-type {\n",
       "        vertical-align: middle;\n",
       "    }\n",
       "\n",
       "    .dataframe tbody tr th {\n",
       "        vertical-align: top;\n",
       "    }\n",
       "\n",
       "    .dataframe thead th {\n",
       "        text-align: right;\n",
       "    }\n",
       "</style>\n",
       "<table border=\"1\" class=\"dataframe\">\n",
       "  <thead>\n",
       "    <tr style=\"text-align: right;\">\n",
       "      <th></th>\n",
       "      <th>event_time_d</th>\n",
       "      <th>event_name</th>\n",
       "    </tr>\n",
       "    <tr>\n",
       "      <th>expid</th>\n",
       "      <th></th>\n",
       "      <th></th>\n",
       "    </tr>\n",
       "  </thead>\n",
       "  <tbody>\n",
       "    <tr>\n",
       "      <th>246</th>\n",
       "      <td>2019-07-25</td>\n",
       "      <td>4</td>\n",
       "    </tr>\n",
       "    <tr>\n",
       "      <th>246</th>\n",
       "      <td>2019-07-26</td>\n",
       "      <td>14</td>\n",
       "    </tr>\n",
       "    <tr>\n",
       "      <th>246</th>\n",
       "      <td>2019-07-27</td>\n",
       "      <td>24</td>\n",
       "    </tr>\n",
       "    <tr>\n",
       "      <th>246</th>\n",
       "      <td>2019-07-28</td>\n",
       "      <td>33</td>\n",
       "    </tr>\n",
       "    <tr>\n",
       "      <th>246</th>\n",
       "      <td>2019-07-29</td>\n",
       "      <td>55</td>\n",
       "    </tr>\n",
       "  </tbody>\n",
       "</table>\n",
       "</div>"
      ],
      "text/plain": [
       "      event_time_d  event_name\n",
       "expid                         \n",
       "246     2019-07-25           4\n",
       "246     2019-07-26          14\n",
       "246     2019-07-27          24\n",
       "246     2019-07-28          33\n",
       "246     2019-07-29          55"
      ]
     },
     "execution_count": 27,
     "metadata": {},
     "output_type": "execute_result"
    }
   ],
   "source": [
    "# назначим новый индекс\n",
    "df_events = df_events.set_index('expid')\n",
    "df_events.head()"
   ]
  },
  {
   "cell_type": "markdown",
   "id": "7fb2010c",
   "metadata": {},
   "source": [
    "построим столбчатые диаграммы, которые отобразят количество событий в зависимости от времени в разрезе групп в цикле"
   ]
  },
  {
   "cell_type": "code",
   "execution_count": 28,
   "id": "0d785fee",
   "metadata": {},
   "outputs": [
    {
     "data": {
      "image/png": "[encoded data removed]",
      "text/plain": [
       "<Figure size 600x200 with 1 Axes>"
      ]
     },
     "metadata": {},
     "output_type": "display_data"
    },
    {
     "data": {
      "image/png": "[encoded data removed]",
      "text/plain": [
       "<Figure size 600x200 with 1 Axes>"
      ]
     },
     "metadata": {},
     "output_type": "display_data"
    },
    {
     "data": {
      "image/png": "[encoded data removed]",
      "text/plain": [
       "<Figure size 600x200 with 1 Axes>"
      ]
     },
     "metadata": {},
     "output_type": "display_data"
    }
   ],
   "source": [
    "for gr in df_events.index.unique():\n",
    "    platform_sales_all_pivot = (\n",
    "        df_events\n",
    "    .query('expid == @gr')\n",
    "    .pivot_table(index='event_time_d', values='event_name', aggfunc='sum')\n",
    "    .plot(kind='bar', grid=True, figsize=(6,2)) )\n",
    "    \n",
    "    plt.ylabel('кол-во событий')\n",
    "    plt.xlabel('дата')\n",
    "    plt.title('группа пользователей ' + str(gr))\n",
    "    plt.show()"
   ]
  },
  {
   "cell_type": "markdown",
   "id": "c6997230",
   "metadata": {},
   "source": [
    "Из графиков видно что данные не равномерны. Определим что полные данные с 2019-08-01 числа остальное отбросим. Получается актуальный период с 2019-08-01 по 2019-08-07 и равен 7 дней"
   ]
  },
  {
   "cell_type": "markdown",
   "id": "648c49a8",
   "metadata": {},
   "source": [
    "3.5 Много ли событий и пользователей вы потеряли, отбросив старые данные?"
   ]
  },
  {
   "cell_type": "markdown",
   "id": "296f7a72",
   "metadata": {},
   "source": [
    "сделаем срез отбросив события до 2019-08-01 числа"
   ]
  },
  {
   "cell_type": "code",
   "execution_count": 29,
   "id": "f3145328",
   "metadata": {},
   "outputs": [],
   "source": [
    "data1 = data.query('event_time_d >= \"2019-08-01\"')"
   ]
  },
  {
   "cell_type": "markdown",
   "id": "655fae86",
   "metadata": {},
   "source": [
    "посчитаем сколько событий мы потеряли"
   ]
  },
  {
   "cell_type": "code",
   "execution_count": 30,
   "id": "d39ca599",
   "metadata": {},
   "outputs": [
    {
     "name": "stdout",
     "output_type": "stream",
     "text": [
      "Мы потеряли 2826 событий\n",
      "и\n",
      "17 пользователей\n"
     ]
    }
   ],
   "source": [
    "print('Мы потеряли', data['event_name'].count() - data1['event_name'].count(), 'событий')\n",
    "print('и')\n",
    "print(data['user_id'].nunique() - data1['user_id'].nunique(), 'пользователей')"
   ]
  },
  {
   "cell_type": "markdown",
   "id": "49f250fe",
   "metadata": {},
   "source": [
    "<div class=\"alert alert-block alert-info\">\n",
    "    \n",
    "посчитаем сколько процентов это составляет"
   ]
  },
  {
   "cell_type": "code",
   "execution_count": 31,
   "id": "336715b5",
   "metadata": {},
   "outputs": [
    {
     "data": {
      "text/plain": [
       "1.16"
      ]
     },
     "execution_count": 31,
     "metadata": {},
     "output_type": "execute_result"
    }
   ],
   "source": [
    "# расчитаем сколько событий потеряли в процентах \n",
    "round( ( data['event_name'].count() - data1['event_name'].count() ) / data['event_name'].count() *100, 2 )"
   ]
  },
  {
   "cell_type": "code",
   "execution_count": 32,
   "id": "a1c23cc9",
   "metadata": {},
   "outputs": [
    {
     "data": {
      "text/plain": [
       "0.23"
      ]
     },
     "execution_count": 32,
     "metadata": {},
     "output_type": "execute_result"
    }
   ],
   "source": [
    "# расчитаем сколько пользователей потеряли в процентах \n",
    "round( (data['user_id'].nunique() - data1['user_id'].nunique())/data['user_id'].nunique() * 100, 2)"
   ]
  },
  {
   "cell_type": "markdown",
   "id": "69ad5605",
   "metadata": {},
   "source": [
    "<div class=\"alert alert-block alert-info\">\n",
    "    \n",
    "отфильтровав данные мы потеряли:\n",
    "- 2826 событий это составляет - 1%;\n",
    "- 17 пользователей - 0.23%"
   ]
  },
  {
   "cell_type": "markdown",
   "id": "fad57739",
   "metadata": {},
   "source": [
    "3.6 Проверьте, что у вас есть пользователи из всех трёх экспериментальных групп."
   ]
  },
  {
   "cell_type": "markdown",
   "id": "9f60de99",
   "metadata": {},
   "source": [
    "cгруперуем и посчитаем уникальных пользователей"
   ]
  },
  {
   "cell_type": "code",
   "execution_count": 33,
   "id": "cbd74c06",
   "metadata": {},
   "outputs": [
    {
     "data": {
      "text/html": [
       "<div>\n",
       "<style scoped>\n",
       "    .dataframe tbody tr th:only-of-type {\n",
       "        vertical-align: middle;\n",
       "    }\n",
       "\n",
       "    .dataframe tbody tr th {\n",
       "        vertical-align: top;\n",
       "    }\n",
       "\n",
       "    .dataframe thead th {\n",
       "        text-align: right;\n",
       "    }\n",
       "</style>\n",
       "<table border=\"1\" class=\"dataframe\">\n",
       "  <thead>\n",
       "    <tr style=\"text-align: right;\">\n",
       "      <th></th>\n",
       "      <th>user_id</th>\n",
       "      <th>rate_%</th>\n",
       "    </tr>\n",
       "    <tr>\n",
       "      <th>expid</th>\n",
       "      <th></th>\n",
       "      <th></th>\n",
       "    </tr>\n",
       "  </thead>\n",
       "  <tbody>\n",
       "    <tr>\n",
       "      <th>246</th>\n",
       "      <td>2484</td>\n",
       "      <td>32.97</td>\n",
       "    </tr>\n",
       "    <tr>\n",
       "      <th>247</th>\n",
       "      <td>2513</td>\n",
       "      <td>33.36</td>\n",
       "    </tr>\n",
       "    <tr>\n",
       "      <th>248</th>\n",
       "      <td>2537</td>\n",
       "      <td>33.67</td>\n",
       "    </tr>\n",
       "  </tbody>\n",
       "</table>\n",
       "</div>"
      ],
      "text/plain": [
       "       user_id  rate_%\n",
       "expid                 \n",
       "246       2484   32.97\n",
       "247       2513   33.36\n",
       "248       2537   33.67"
      ]
     },
     "execution_count": 33,
     "metadata": {},
     "output_type": "execute_result"
    }
   ],
   "source": [
    "grp_expid = data1.groupby(by='expid').agg({'user_id':'nunique'})\n",
    "grp_expid['rate_%'] = round(grp_expid['user_id']/grp_expid['user_id'].sum()*100, 2)\n",
    "grp_expid"
   ]
  },
  {
   "cell_type": "markdown",
   "id": "bfa631ee",
   "metadata": {},
   "source": [
    "получили почти одинаковое число уникальных пользователей в каждой группе"
   ]
  },
  {
   "cell_type": "markdown",
   "id": "8f979029",
   "metadata": {},
   "source": [
    "# Шаг 4. Изучим воронку событий"
   ]
  },
  {
   "cell_type": "markdown",
   "id": "544006df",
   "metadata": {},
   "source": [
    "- 4.1 Посмотрите, какие события есть в логах, как часто они встречаются. Отсортируйте события по частоте.\n",
    "- 4.2 Посчитайте, сколько пользователей совершали каждое из этих событий. Отсортируйте события по числу пользователей. Посчитайте долю пользователей, которые хоть раз совершали событие.\n",
    "- 4.3 Предположите, в каком порядке происходят события. Все ли они выстраиваются в последовательную цепочку? Их не нужно учитывать при расчёте воронки.\n",
    "- 4.4 По воронке событий посчитайте, какая доля пользователей проходит на следующий шаг воронки (от числа пользователей на предыдущем). То есть для последовательности событий A → B → C посчитайте отношение числа пользователей с событием B к количеству пользователей с событием A, а также отношение числа пользователей с событием C к количеству пользователей с событием B.\n",
    "- 4.5 На каком шаге теряете больше всего пользователей?\n",
    "- 4.6 Какая доля пользователей доходит от первого события до оплаты?"
   ]
  },
  {
   "cell_type": "markdown",
   "id": "839e9536",
   "metadata": {},
   "source": [
    "4.1 Посмотрите, какие события есть в логах, как часто они встречаются. Отсортируйте события по частоте."
   ]
  },
  {
   "cell_type": "code",
   "execution_count": 34,
   "id": "dd986881",
   "metadata": {},
   "outputs": [
    {
     "data": {
      "text/plain": [
       "MainScreenAppear           117328\n",
       "OffersScreenAppear          46333\n",
       "CartScreenAppear            42303\n",
       "PaymentScreenSuccessful     33918\n",
       "Tutorial                     1005\n",
       "Name: event_name, dtype: int64"
      ]
     },
     "execution_count": 34,
     "metadata": {},
     "output_type": "execute_result"
    }
   ],
   "source": [
    "data1['event_name'].value_counts()"
   ]
  },
  {
   "cell_type": "markdown",
   "id": "f601beb0",
   "metadata": {},
   "source": [
    "4.2 Посчитайте, сколько пользователей совершали каждое из этих событий. Отсортируйте события по числу пользователей. Посчитайте долю пользователей, которые хоть раз совершали событие."
   ]
  },
  {
   "cell_type": "code",
   "execution_count": 35,
   "id": "8391caaf",
   "metadata": {},
   "outputs": [
    {
     "data": {
      "text/html": [
       "<div>\n",
       "<style scoped>\n",
       "    .dataframe tbody tr th:only-of-type {\n",
       "        vertical-align: middle;\n",
       "    }\n",
       "\n",
       "    .dataframe tbody tr th {\n",
       "        vertical-align: top;\n",
       "    }\n",
       "\n",
       "    .dataframe thead th {\n",
       "        text-align: right;\n",
       "    }\n",
       "</style>\n",
       "<table border=\"1\" class=\"dataframe\">\n",
       "  <thead>\n",
       "    <tr style=\"text-align: right;\">\n",
       "      <th></th>\n",
       "      <th>user_id</th>\n",
       "      <th>rate_%</th>\n",
       "    </tr>\n",
       "    <tr>\n",
       "      <th>event_name</th>\n",
       "      <th></th>\n",
       "      <th></th>\n",
       "    </tr>\n",
       "  </thead>\n",
       "  <tbody>\n",
       "    <tr>\n",
       "      <th>MainScreenAppear</th>\n",
       "      <td>7419</td>\n",
       "      <td>98.47</td>\n",
       "    </tr>\n",
       "    <tr>\n",
       "      <th>OffersScreenAppear</th>\n",
       "      <td>4593</td>\n",
       "      <td>60.96</td>\n",
       "    </tr>\n",
       "    <tr>\n",
       "      <th>CartScreenAppear</th>\n",
       "      <td>3734</td>\n",
       "      <td>49.56</td>\n",
       "    </tr>\n",
       "    <tr>\n",
       "      <th>PaymentScreenSuccessful</th>\n",
       "      <td>3539</td>\n",
       "      <td>46.97</td>\n",
       "    </tr>\n",
       "    <tr>\n",
       "      <th>Tutorial</th>\n",
       "      <td>840</td>\n",
       "      <td>11.15</td>\n",
       "    </tr>\n",
       "  </tbody>\n",
       "</table>\n",
       "</div>"
      ],
      "text/plain": [
       "                         user_id  rate_%\n",
       "event_name                              \n",
       "MainScreenAppear            7419   98.47\n",
       "OffersScreenAppear          4593   60.96\n",
       "CartScreenAppear            3734   49.56\n",
       "PaymentScreenSuccessful     3539   46.97\n",
       "Tutorial                     840   11.15"
      ]
     },
     "execution_count": 35,
     "metadata": {},
     "output_type": "execute_result"
    }
   ],
   "source": [
    "df2 = data1.groupby(by='event_name').agg({'user_id':'nunique'})\n",
    "df2 = df2.sort_values(by='user_id', ascending = False)\n",
    "df2['rate_%'] = round(df2['user_id'] / data1['user_id'].nunique() * 100, 2)\n",
    "df2"
   ]
  },
  {
   "cell_type": "markdown",
   "id": "e102b9e6",
   "metadata": {},
   "source": [
    "4.3 Предположите, в каком порядке происходят события. Все ли они выстраиваются в последовательную цепочку? Их не нужно учитывать при расчёте воронки."
   ]
  },
  {
   "cell_type": "markdown",
   "id": "692cda9b",
   "metadata": {},
   "source": [
    "думаю лонично расположить их в таком порядке \n",
    "- MainScreenAppear - Главный экран\n",
    "- Tutorial - руководство\n",
    "- OffersScreenAppear - Предложения\n",
    "- CartScreenAppear - Корзина\n",
    "- PaymentScreenSuccessful - Успешный Платеж\n",
    "\n",
    "не все смотрят руководство, а все остальное в порядке убывания из таблицы df2"
   ]
  },
  {
   "cell_type": "markdown",
   "id": "2a8a748a",
   "metadata": {},
   "source": [
    "4.4 По воронке событий посчитайте, какая доля пользователей проходит на следующий шаг воронки (от числа пользователей на предыдущем). То есть для последовательности событий A → B → C посчитайте отношение числа пользователей с событием B к количеству пользователей с событием A, а также отношение числа пользователей с событием C к количеству пользователей с событием B."
   ]
  },
  {
   "cell_type": "markdown",
   "id": "85d32809",
   "metadata": {},
   "source": [
    "Создадим новый столбец конверсий и рассчитаем их в цикле"
   ]
  },
  {
   "cell_type": "markdown",
   "id": "b2700794",
   "metadata": {},
   "source": [
    "df2['conversion'] = 0\n",
    "for i in range(0, len(df2['rate_%'])):\n",
    "    if i == 0:\n",
    "        df2['conversion'].iloc[i] = 100\n",
    "    else:\n",
    "        df2['conversion'].iloc[i] = round(int(df2['user_id'].iloc[i]) / int(df2['user_id'].iloc[i-1]), 2)*100"
   ]
  },
  {
   "cell_type": "code",
   "execution_count": 36,
   "id": "ac1b8d4d",
   "metadata": {},
   "outputs": [],
   "source": [
    "#df2['conversion'] = 0\n",
    "df2.loc[0, 'conversion'] = 100\n",
    "\n",
    "df2['conversion'] = df2['user_id'].div(df2['user_id'].shift(1)).mul(100).round(2)"
   ]
  },
  {
   "cell_type": "code",
   "execution_count": 37,
   "id": "12d3e545",
   "metadata": {},
   "outputs": [
    {
     "data": {
      "text/html": [
       "<div>\n",
       "<style scoped>\n",
       "    .dataframe tbody tr th:only-of-type {\n",
       "        vertical-align: middle;\n",
       "    }\n",
       "\n",
       "    .dataframe tbody tr th {\n",
       "        vertical-align: top;\n",
       "    }\n",
       "\n",
       "    .dataframe thead th {\n",
       "        text-align: right;\n",
       "    }\n",
       "</style>\n",
       "<table border=\"1\" class=\"dataframe\">\n",
       "  <thead>\n",
       "    <tr style=\"text-align: right;\">\n",
       "      <th></th>\n",
       "      <th>user_id</th>\n",
       "      <th>rate_%</th>\n",
       "      <th>conversion</th>\n",
       "    </tr>\n",
       "    <tr>\n",
       "      <th>event_name</th>\n",
       "      <th></th>\n",
       "      <th></th>\n",
       "      <th></th>\n",
       "    </tr>\n",
       "  </thead>\n",
       "  <tbody>\n",
       "    <tr>\n",
       "      <th>MainScreenAppear</th>\n",
       "      <td>7419.0</td>\n",
       "      <td>98.47</td>\n",
       "      <td>NaN</td>\n",
       "    </tr>\n",
       "    <tr>\n",
       "      <th>OffersScreenAppear</th>\n",
       "      <td>4593.0</td>\n",
       "      <td>60.96</td>\n",
       "      <td>61.91</td>\n",
       "    </tr>\n",
       "    <tr>\n",
       "      <th>CartScreenAppear</th>\n",
       "      <td>3734.0</td>\n",
       "      <td>49.56</td>\n",
       "      <td>81.30</td>\n",
       "    </tr>\n",
       "    <tr>\n",
       "      <th>PaymentScreenSuccessful</th>\n",
       "      <td>3539.0</td>\n",
       "      <td>46.97</td>\n",
       "      <td>94.78</td>\n",
       "    </tr>\n",
       "  </tbody>\n",
       "</table>\n",
       "</div>"
      ],
      "text/plain": [
       "                         user_id  rate_%  conversion\n",
       "event_name                                          \n",
       "MainScreenAppear          7419.0   98.47         NaN\n",
       "OffersScreenAppear        4593.0   60.96       61.91\n",
       "CartScreenAppear          3734.0   49.56       81.30\n",
       "PaymentScreenSuccessful   3539.0   46.97       94.78"
      ]
     },
     "execution_count": 37,
     "metadata": {},
     "output_type": "execute_result"
    }
   ],
   "source": [
    "df2 = df2.query('event_name != \"Tutorial\" and event_name != 0')\n",
    "df2"
   ]
  },
  {
   "cell_type": "code",
   "execution_count": 38,
   "id": "3c2475d7",
   "metadata": {},
   "outputs": [
    {
     "data": {
      "text/plain": [
       "Text(0, 0.5, 'кол-во посещений')"
      ]
     },
     "execution_count": 38,
     "metadata": {},
     "output_type": "execute_result"
    },
    {
     "data": {
      "image/png": "[encoded data removed]",
      "text/plain": [
       "<Figure size 1200x800 with 1 Axes>"
      ]
     },
     "metadata": {},
     "output_type": "display_data"
    }
   ],
   "source": [
    "df2['user_id'].plot(kind='bar', grid=True, title='кол-во посещений пользователяли событий')\n",
    "plt.xlabel(\"вид события\")\n",
    "plt.ylabel(\"кол-во посещений\")"
   ]
  },
  {
   "cell_type": "markdown",
   "id": "987537c3",
   "metadata": {},
   "source": [
    "<div class=\"alert alert-block alert-info\">\n",
    "    v2\n",
    "    \n",
    "исключил из графика tutorial\n",
    "    "
   ]
  },
  {
   "cell_type": "markdown",
   "id": "fc74a0ce",
   "metadata": {},
   "source": [
    "<div class=\"alert alert-block alert-info\">\n",
    "    \n",
    "- Визуализировали график воронки\n",
    "- Наглядно видно где больше всего потеря пользователей"
   ]
  },
  {
   "cell_type": "markdown",
   "id": "0c09f132",
   "metadata": {},
   "source": [
    "- По предложением проходит 62% пользователей, посмотревших главный экран. \n",
    "- В корзину переходит 81% пользователей. \n",
    "- Успешная оплата происходит у 95% пользователей."
   ]
  },
  {
   "cell_type": "markdown",
   "id": "dcbdd82d",
   "metadata": {},
   "source": [
    "4.5 На каком шаге теряете больше всего пользователей?"
   ]
  },
  {
   "cell_type": "markdown",
   "id": "ca50adf4",
   "metadata": {},
   "source": [
    "На первом шаге теряется больше всего пользователей при переходе с главного экрана на предложения"
   ]
  },
  {
   "cell_type": "markdown",
   "id": "a08bc07b",
   "metadata": {},
   "source": [
    "4.6 Какая доля пользователей доходит от первого события до оплаты?"
   ]
  },
  {
   "cell_type": "markdown",
   "id": "37701962",
   "metadata": {},
   "source": [
    "До оплаты доходит 47% пользователей, это видно из датафрейма df2 - rate_% - PaymentScreenSuccessful тк там уже посчитали процент пользователей от общего числа всех уникальных пользователей"
   ]
  },
  {
   "cell_type": "markdown",
   "id": "d9124d53",
   "metadata": {},
   "source": [
    "# Шаг 5. Изучим результаты эксперимента"
   ]
  },
  {
   "cell_type": "markdown",
   "id": "32fcd796",
   "metadata": {},
   "source": [
    "- 5.1 Сколько пользователей в каждой экспериментальной группе?\n",
    "- 5.2 Есть 2 контрольные группы для А/А-эксперимента, чтобы проверить корректность всех механизмов и расчётов. Проверьте, находят ли статистические критерии разницу между выборками 246 и 247.\n",
    "- 5.3 Выберите самое популярное событие. Посчитайте число пользователей, совершивших это событие в каждой из контрольных групп. Посчитайте долю пользователей, совершивших это событие. Проверьте, будет ли отличие между группами статистически достоверным. Проделайте то же самое для всех других событий (удобно обернуть проверку в отдельную функцию). Можно ли сказать, что разбиение на группы работает корректно?\n",
    "- 5.4 Аналогично поступите с группой с изменённым шрифтом. Сравните результаты с каждой из контрольных групп в отдельности по каждому событию. Сравните результаты с объединённой контрольной группой. Какие выводы из эксперимента можно сделать?\n",
    "- 5.5 Какой уровень значимости вы выбрали при проверке статистических гипотез выше? Посчитайте, сколько проверок статистических гипотез вы сделали. При уровне значимости 0.1 в 10% случаев можно ошибочно отклонить нулевую гипотезу при условии, что она верна. Какой уровень значимости стоит применить? Если вы хотите изменить его, проделайте предыдущие пункты и проверьте свои выводы."
   ]
  },
  {
   "cell_type": "markdown",
   "id": "b968c82f",
   "metadata": {},
   "source": [
    "5.1 Сколько пользователей в каждой экспериментальной группе?"
   ]
  },
  {
   "cell_type": "code",
   "execution_count": 39,
   "id": "a3bea17e",
   "metadata": {},
   "outputs": [
    {
     "data": {
      "text/html": [
       "<div>\n",
       "<style scoped>\n",
       "    .dataframe tbody tr th:only-of-type {\n",
       "        vertical-align: middle;\n",
       "    }\n",
       "\n",
       "    .dataframe tbody tr th {\n",
       "        vertical-align: top;\n",
       "    }\n",
       "\n",
       "    .dataframe thead th {\n",
       "        text-align: right;\n",
       "    }\n",
       "</style>\n",
       "<table border=\"1\" class=\"dataframe\">\n",
       "  <thead>\n",
       "    <tr style=\"text-align: right;\">\n",
       "      <th></th>\n",
       "      <th>user_id</th>\n",
       "      <th>rate_%</th>\n",
       "    </tr>\n",
       "    <tr>\n",
       "      <th>expid</th>\n",
       "      <th></th>\n",
       "      <th></th>\n",
       "    </tr>\n",
       "  </thead>\n",
       "  <tbody>\n",
       "    <tr>\n",
       "      <th>246</th>\n",
       "      <td>2484</td>\n",
       "      <td>32.97</td>\n",
       "    </tr>\n",
       "    <tr>\n",
       "      <th>247</th>\n",
       "      <td>2513</td>\n",
       "      <td>33.36</td>\n",
       "    </tr>\n",
       "    <tr>\n",
       "      <th>248</th>\n",
       "      <td>2537</td>\n",
       "      <td>33.67</td>\n",
       "    </tr>\n",
       "  </tbody>\n",
       "</table>\n",
       "</div>"
      ],
      "text/plain": [
       "       user_id  rate_%\n",
       "expid                 \n",
       "246       2484   32.97\n",
       "247       2513   33.36\n",
       "248       2537   33.67"
      ]
     },
     "execution_count": 39,
     "metadata": {},
     "output_type": "execute_result"
    }
   ],
   "source": [
    "grp_expid"
   ]
  },
  {
   "cell_type": "markdown",
   "id": "92f062f8",
   "metadata": {},
   "source": [
    "кол-во пользователей в каждой экспериментальной группе и процентное соотношение от общего кол-ва пользователей"
   ]
  },
  {
   "cell_type": "markdown",
   "id": "54692272",
   "metadata": {},
   "source": [
    "<div class=\"alert alert-block alert-info\">\n",
    "    \n",
    "- проверим поподают ли пользователи в несколько групп одновременно\n",
    "- сгрупперуем по пользователям и посчитаем уникальные группы\n",
    "- отсортируем тех кто поподает больше чем в одну группу"
   ]
  },
  {
   "cell_type": "code",
   "execution_count": 40,
   "id": "38dc256c",
   "metadata": {},
   "outputs": [],
   "source": [
    "users_in_2_groups = (data1.groupby(by='user_id')\n",
    "                          .agg({'expid': pd.Series.nunique})\n",
    "                          .query('expid > 1') ).reset_index(drop=False)"
   ]
  },
  {
   "cell_type": "code",
   "execution_count": 41,
   "id": "3111ac0c",
   "metadata": {},
   "outputs": [
    {
     "name": "stdout",
     "output_type": "stream",
     "text": [
      "<class 'pandas.core.frame.DataFrame'>\n",
      "RangeIndex: 0 entries\n",
      "Data columns (total 2 columns):\n",
      " #   Column   Non-Null Count  Dtype\n",
      "---  ------   --------------  -----\n",
      " 0   user_id  0 non-null      int64\n",
      " 1   expid    0 non-null      int64\n",
      "dtypes: int64(2)\n",
      "memory usage: 132.0 bytes\n"
     ]
    }
   ],
   "source": [
    "users_in_2_groups.info()"
   ]
  },
  {
   "cell_type": "markdown",
   "id": "1e3eaaec",
   "metadata": {},
   "source": [
    "<div class=\"alert alert-block alert-info\">\n",
    "таких пользователей нет , данные собранны хорошо)"
   ]
  },
  {
   "cell_type": "markdown",
   "id": "f9de6a05",
   "metadata": {},
   "source": [
    "5.2 Есть 2 контрольные группы для А/А-эксперимента, чтобы проверить корректность всех механизмов и расчётов. Проверьте, находят ли статистические критерии разницу между выборками 246 и 247.\n",
    "\n",
    "5.3 Выберите самое популярное событие. Посчитайте число пользователей, совершивших это событие в каждой из контрольных групп. Посчитайте долю пользователей, совершивших это событие. Проверьте, будет ли отличие между группами статистически достоверным. Проделайте то же самое для всех других событий (удобно обернуть проверку в отдельную функцию). Можно ли сказать, что разбиение на группы работает корректно?"
   ]
  },
  {
   "cell_type": "code",
   "execution_count": 42,
   "id": "ab241260",
   "metadata": {},
   "outputs": [
    {
     "data": {
      "text/html": [
       "<div>\n",
       "<style scoped>\n",
       "    .dataframe tbody tr th:only-of-type {\n",
       "        vertical-align: middle;\n",
       "    }\n",
       "\n",
       "    .dataframe tbody tr th {\n",
       "        vertical-align: top;\n",
       "    }\n",
       "\n",
       "    .dataframe thead th {\n",
       "        text-align: right;\n",
       "    }\n",
       "</style>\n",
       "<table border=\"1\" class=\"dataframe\">\n",
       "  <thead>\n",
       "    <tr style=\"text-align: right;\">\n",
       "      <th>event_name</th>\n",
       "      <th>CartScreenAppear</th>\n",
       "      <th>MainScreenAppear</th>\n",
       "      <th>OffersScreenAppear</th>\n",
       "      <th>PaymentScreenSuccessful</th>\n",
       "      <th>Tutorial</th>\n",
       "      <th>user_cnt</th>\n",
       "    </tr>\n",
       "    <tr>\n",
       "      <th>expid</th>\n",
       "      <th></th>\n",
       "      <th></th>\n",
       "      <th></th>\n",
       "      <th></th>\n",
       "      <th></th>\n",
       "      <th></th>\n",
       "    </tr>\n",
       "  </thead>\n",
       "  <tbody>\n",
       "    <tr>\n",
       "      <th>246</th>\n",
       "      <td>1266</td>\n",
       "      <td>2450</td>\n",
       "      <td>1542</td>\n",
       "      <td>1200</td>\n",
       "      <td>278</td>\n",
       "      <td>2484</td>\n",
       "    </tr>\n",
       "    <tr>\n",
       "      <th>247</th>\n",
       "      <td>1238</td>\n",
       "      <td>2476</td>\n",
       "      <td>1520</td>\n",
       "      <td>1158</td>\n",
       "      <td>283</td>\n",
       "      <td>2513</td>\n",
       "    </tr>\n",
       "    <tr>\n",
       "      <th>248</th>\n",
       "      <td>1230</td>\n",
       "      <td>2493</td>\n",
       "      <td>1531</td>\n",
       "      <td>1181</td>\n",
       "      <td>279</td>\n",
       "      <td>2537</td>\n",
       "    </tr>\n",
       "  </tbody>\n",
       "</table>\n",
       "</div>"
      ],
      "text/plain": [
       "event_name  CartScreenAppear  MainScreenAppear  OffersScreenAppear  \\\n",
       "expid                                                                \n",
       "246                     1266              2450                1542   \n",
       "247                     1238              2476                1520   \n",
       "248                     1230              2493                1531   \n",
       "\n",
       "event_name  PaymentScreenSuccessful  Tutorial  user_cnt  \n",
       "expid                                                    \n",
       "246                            1200       278      2484  \n",
       "247                            1158       283      2513  \n",
       "248                            1181       279      2537  "
      ]
     },
     "execution_count": 42,
     "metadata": {},
     "output_type": "execute_result"
    }
   ],
   "source": [
    "#Сделам таблицу с числом уникальных пользователей по событиям и контрольным группам\n",
    "df_voronka = data1.pivot_table(index='expid',columns = 'event_name', values='user_id',aggfunc='nunique')\n",
    "#del df_voronka['Tutorial']\n",
    "df_voronka['user_cnt'] = [grp_expid['user_id'][246], grp_expid['user_id'][247], grp_expid['user_id'][248]]\n",
    "df_voronka"
   ]
  },
  {
   "cell_type": "markdown",
   "id": "7d886dfe",
   "metadata": {},
   "source": [
    "Напишем функцию для проверки гипотез"
   ]
  },
  {
   "cell_type": "code",
   "execution_count": 43,
   "id": "77cc5a43",
   "metadata": {},
   "outputs": [],
   "source": [
    "# функция для проверки гипотез A/B-теста\n",
    "# df - датафрейм с данными\n",
    "# gr1 - первая группа для сравнения (берется по индексу)\n",
    "# gr2 - вторая группа для сравнения (берется по индексу)\n",
    "# event_list - названия событий по которым берем данные \n",
    "      #(в виде списка можно проверить несколько событий, сначала нужно задать список)\n",
    "# trials_col - общее число пользователей (берем колонку из дф)\n",
    "# alpha - критический уровень статистической значимости\n",
    "\n",
    "def test_groups_hypothesis (df, gr1, gr2, event_list, trials_col, alpha):\n",
    "    \n",
    "    for col in event_list:\n",
    "\n",
    "    \n",
    "        success = np.array([df[col][gr1], df[col][gr2]])\n",
    "        trials = np.array([df[trials_col][gr1], df[trials_col][gr2]])\n",
    "\n",
    "        # пропорция успехов в первой группе:\n",
    "        p1 = success[0] / trials[0]\n",
    "        # пропорция успехов во второй группе:\n",
    "        p2 = success[1] / trials[1]\n",
    "\n",
    "        # пропорция успехов в комбинированном датасете:\n",
    "        p_combined = (success[0] + success[1]) / (trials[0] + trials[1])\n",
    "\n",
    "        # разница пропорций в датасетах\n",
    "        difference = p1 - p2\n",
    "\n",
    "        # считаем статистику в ст.отклонениях стандартного нормального распределения\n",
    "        z_value = difference / mth.sqrt(p_combined *(1-p_combined) * (1/trials[0] + 1/trials[1]))\n",
    "\n",
    "        # задаем стандартное нормальное распределение (среднее 0, ст.отклонение 1)\n",
    "        distr = st.norm(0, 1) \n",
    "\n",
    "        p_value = (1 - distr.cdf(abs(z_value))) * 2\n",
    "        \n",
    "        print('Для метрики ', col)\n",
    "\n",
    "        print('p-значение: ', p_value)\n",
    "\n",
    "        if (p_value < alpha):\n",
    "            print(\"Отвергаем нулевую гипотезу: между долями есть значимая разница\")\n",
    "            print('\\n')\n",
    "        else:\n",
    "            print(\"Не получилось отвергнуть нулевую гипотезу, нет оснований считать доли разными\")\n",
    "            print('\\n')"
   ]
  },
  {
   "cell_type": "markdown",
   "id": "32cdea19",
   "metadata": {},
   "source": [
    "Сделаем проверку контрольных групп А/A"
   ]
  },
  {
   "cell_type": "markdown",
   "id": "1e31090c",
   "metadata": {},
   "source": [
    "Сформулируем гипотезы:\n",
    "\n",
    "**Нулевая гипотеза:** Статистически значимых различий в кол-ве пользователей между группами 246 и 247 **НЕТ**. Доли в двух выборках равны.\n",
    "\n",
    "**Альтернативная гипотеза:** Статистически значимые различий в кол-ве пользователей между группами 246 и 247 **ЕСТЬ**. Доли в двух выборках не равны\n",
    "\n",
    "Выберем значение **alpha = 0,05** \n",
    "Посчитаем статистическую значимость различий в количестве пользователей между группами 246 и 247 (А/А)"
   ]
  },
  {
   "cell_type": "code",
   "execution_count": 44,
   "id": "b7c36b91",
   "metadata": {},
   "outputs": [
    {
     "data": {
      "text/plain": [
       "Index(['CartScreenAppear', 'MainScreenAppear', 'OffersScreenAppear',\n",
       "       'PaymentScreenSuccessful'],\n",
       "      dtype='object', name='event_name')"
      ]
     },
     "execution_count": 44,
     "metadata": {},
     "output_type": "execute_result"
    }
   ],
   "source": [
    "# задаем список event_list с событиями\n",
    "#event_list = ['MainScreenAppear']\n",
    "event_list = df_voronka.columns[:-2]\n",
    "event_list"
   ]
  },
  {
   "cell_type": "markdown",
   "id": "3009bdfd",
   "metadata": {},
   "source": [
    "<div class=\"alert alert-block alert-info\">\n",
    "убрали tutorial"
   ]
  },
  {
   "cell_type": "markdown",
   "id": "dd8190c1",
   "metadata": {},
   "source": [
    "подставим: test_groups_hypothesis (df, gr1, gr2, event_list, trials_col, alpha)\n",
    "- df - df_voronka\n",
    "- gr1 первая группа - 246 (берем по индексу)\n",
    "- gr2 вторая группа - 247 (берем по индексу)\n",
    "- названия событий - event_list\n",
    "- trials_col общее число пользователей из столбца - 'user_cnt'\n",
    "- alpha критический уровень статистической значимости = 0.05"
   ]
  },
  {
   "cell_type": "code",
   "execution_count": 45,
   "id": "3a617185",
   "metadata": {},
   "outputs": [
    {
     "name": "stdout",
     "output_type": "stream",
     "text": [
      "Для метрики  CartScreenAppear\n",
      "p-значение:  0.22883372237997213\n",
      "Не получилось отвергнуть нулевую гипотезу, нет оснований считать доли разными\n",
      "\n",
      "\n",
      "Для метрики  MainScreenAppear\n",
      "p-значение:  0.7570597232046099\n",
      "Не получилось отвергнуть нулевую гипотезу, нет оснований считать доли разными\n",
      "\n",
      "\n",
      "Для метрики  OffersScreenAppear\n",
      "p-значение:  0.2480954578522181\n",
      "Не получилось отвергнуть нулевую гипотезу, нет оснований считать доли разными\n",
      "\n",
      "\n",
      "Для метрики  PaymentScreenSuccessful\n",
      "p-значение:  0.11456679313141849\n",
      "Не получилось отвергнуть нулевую гипотезу, нет оснований считать доли разными\n",
      "\n",
      "\n"
     ]
    }
   ],
   "source": [
    "test_groups_hypothesis(df_voronka, 246, 247, event_list, 'user_cnt', 0.05)"
   ]
  },
  {
   "cell_type": "markdown",
   "id": "a3cd3449",
   "metadata": {},
   "source": [
    "- Не получилось отвергнуть нулевую гипотезу, нет оснований считать контрольные выборки групп 246 и 247 разными.\n",
    "- Контрольные группы выбраны верно.\n",
    "- Можно сказать, что разбиение на группы работает корректно"
   ]
  },
  {
   "cell_type": "markdown",
   "id": "0a3f47db",
   "metadata": {},
   "source": [
    "5.4 Аналогично поступите с группой с изменённым шрифтом. Сравните результаты с каждой из контрольных групп в отдельности по каждому событию. Сравните результаты с объединённой контрольной группой. Какие выводы из эксперимента можно сделать?"
   ]
  },
  {
   "cell_type": "markdown",
   "id": "b6856032",
   "metadata": {},
   "source": [
    "Сделаем проверку групп 246 и 248"
   ]
  },
  {
   "cell_type": "markdown",
   "id": "347d703c",
   "metadata": {},
   "source": [
    "- Нулевая гипотеза: Статистически значимых различий между группами 246 и 248 НЕТ.\n",
    "- Альтернативная гипотеза: Статистически значимые различий между группами 246 и 248 ЕСТЬ.\n",
    "- Выберем значение alpha = 0,05 Посчитаем статистическую значимость различий в количестве пользователей между группами 246 и 248"
   ]
  },
  {
   "cell_type": "code",
   "execution_count": 46,
   "id": "8d9a9bfe",
   "metadata": {},
   "outputs": [
    {
     "name": "stdout",
     "output_type": "stream",
     "text": [
      "Для метрики  CartScreenAppear\n",
      "p-значение:  0.07842923237520116\n",
      "Не получилось отвергнуть нулевую гипотезу, нет оснований считать доли разными\n",
      "\n",
      "\n",
      "Для метрики  MainScreenAppear\n",
      "p-значение:  0.2949721933554552\n",
      "Не получилось отвергнуть нулевую гипотезу, нет оснований считать доли разными\n",
      "\n",
      "\n",
      "Для метрики  OffersScreenAppear\n",
      "p-значение:  0.20836205402738917\n",
      "Не получилось отвергнуть нулевую гипотезу, нет оснований считать доли разными\n",
      "\n",
      "\n",
      "Для метрики  PaymentScreenSuccessful\n",
      "p-значение:  0.2122553275697796\n",
      "Не получилось отвергнуть нулевую гипотезу, нет оснований считать доли разными\n",
      "\n",
      "\n"
     ]
    }
   ],
   "source": [
    "test_groups_hypothesis(df_voronka, 246, 248, event_list, 'user_cnt', 0.05)"
   ]
  },
  {
   "cell_type": "markdown",
   "id": "c784e877",
   "metadata": {},
   "source": [
    "- Не получилось отвергнуть нулевую гипотезу, нет оснований считать выборки групп 246 и 248 разными."
   ]
  },
  {
   "cell_type": "markdown",
   "id": "734ef1ef",
   "metadata": {},
   "source": [
    "Сделаем проверку групп 247 и 248"
   ]
  },
  {
   "cell_type": "code",
   "execution_count": 47,
   "id": "f06300aa",
   "metadata": {},
   "outputs": [
    {
     "name": "stdout",
     "output_type": "stream",
     "text": [
      "Для метрики  CartScreenAppear\n",
      "p-значение:  0.5786197879539783\n",
      "Не получилось отвергнуть нулевую гипотезу, нет оснований считать доли разными\n",
      "\n",
      "\n",
      "Для метрики  MainScreenAppear\n",
      "p-значение:  0.4587053616621515\n",
      "Не получилось отвергнуть нулевую гипотезу, нет оснований считать доли разными\n",
      "\n",
      "\n",
      "Для метрики  OffersScreenAppear\n",
      "p-значение:  0.9197817830592261\n",
      "Не получилось отвергнуть нулевую гипотезу, нет оснований считать доли разными\n",
      "\n",
      "\n",
      "Для метрики  PaymentScreenSuccessful\n",
      "p-значение:  0.7373415053803964\n",
      "Не получилось отвергнуть нулевую гипотезу, нет оснований считать доли разными\n",
      "\n",
      "\n"
     ]
    }
   ],
   "source": [
    "test_groups_hypothesis(df_voronka, 247, 248, event_list, 'user_cnt', 0.05)"
   ]
  },
  {
   "cell_type": "markdown",
   "id": "cc0ba087",
   "metadata": {},
   "source": [
    "- Не получилось отвергнуть нулевую гипотезу, нет оснований считать выборки групп 247 и 248 разными."
   ]
  },
  {
   "cell_type": "code",
   "execution_count": 48,
   "id": "6266d6cb",
   "metadata": {},
   "outputs": [
    {
     "data": {
      "text/html": [
       "<div>\n",
       "<style scoped>\n",
       "    .dataframe tbody tr th:only-of-type {\n",
       "        vertical-align: middle;\n",
       "    }\n",
       "\n",
       "    .dataframe tbody tr th {\n",
       "        vertical-align: top;\n",
       "    }\n",
       "\n",
       "    .dataframe thead th {\n",
       "        text-align: right;\n",
       "    }\n",
       "</style>\n",
       "<table border=\"1\" class=\"dataframe\">\n",
       "  <thead>\n",
       "    <tr style=\"text-align: right;\">\n",
       "      <th>event_name</th>\n",
       "      <th>CartScreenAppear</th>\n",
       "      <th>MainScreenAppear</th>\n",
       "      <th>OffersScreenAppear</th>\n",
       "      <th>PaymentScreenSuccessful</th>\n",
       "      <th>Tutorial</th>\n",
       "      <th>user_cnt</th>\n",
       "    </tr>\n",
       "    <tr>\n",
       "      <th>expid</th>\n",
       "      <th></th>\n",
       "      <th></th>\n",
       "      <th></th>\n",
       "      <th></th>\n",
       "      <th></th>\n",
       "      <th></th>\n",
       "    </tr>\n",
       "  </thead>\n",
       "  <tbody>\n",
       "    <tr>\n",
       "      <th>246</th>\n",
       "      <td>1266</td>\n",
       "      <td>2450</td>\n",
       "      <td>1542</td>\n",
       "      <td>1200</td>\n",
       "      <td>278</td>\n",
       "      <td>2484</td>\n",
       "    </tr>\n",
       "    <tr>\n",
       "      <th>247</th>\n",
       "      <td>1238</td>\n",
       "      <td>2476</td>\n",
       "      <td>1520</td>\n",
       "      <td>1158</td>\n",
       "      <td>283</td>\n",
       "      <td>2513</td>\n",
       "    </tr>\n",
       "    <tr>\n",
       "      <th>248</th>\n",
       "      <td>1230</td>\n",
       "      <td>2493</td>\n",
       "      <td>1531</td>\n",
       "      <td>1181</td>\n",
       "      <td>279</td>\n",
       "      <td>2537</td>\n",
       "    </tr>\n",
       "  </tbody>\n",
       "</table>\n",
       "</div>"
      ],
      "text/plain": [
       "event_name  CartScreenAppear  MainScreenAppear  OffersScreenAppear  \\\n",
       "expid                                                                \n",
       "246                     1266              2450                1542   \n",
       "247                     1238              2476                1520   \n",
       "248                     1230              2493                1531   \n",
       "\n",
       "event_name  PaymentScreenSuccessful  Tutorial  user_cnt  \n",
       "expid                                                    \n",
       "246                            1200       278      2484  \n",
       "247                            1158       283      2513  \n",
       "248                            1181       279      2537  "
      ]
     },
     "execution_count": 48,
     "metadata": {},
     "output_type": "execute_result"
    }
   ],
   "source": [
    "df_voronka"
   ]
  },
  {
   "cell_type": "markdown",
   "id": "b54b671d",
   "metadata": {},
   "source": [
    "объеденим группы 246 и 247 и назрвем ее 'new'"
   ]
  },
  {
   "cell_type": "code",
   "execution_count": 49,
   "id": "0161b4aa",
   "metadata": {},
   "outputs": [
    {
     "data": {
      "text/html": [
       "<div>\n",
       "<style scoped>\n",
       "    .dataframe tbody tr th:only-of-type {\n",
       "        vertical-align: middle;\n",
       "    }\n",
       "\n",
       "    .dataframe tbody tr th {\n",
       "        vertical-align: top;\n",
       "    }\n",
       "\n",
       "    .dataframe thead th {\n",
       "        text-align: right;\n",
       "    }\n",
       "</style>\n",
       "<table border=\"1\" class=\"dataframe\">\n",
       "  <thead>\n",
       "    <tr style=\"text-align: right;\">\n",
       "      <th>event_name</th>\n",
       "      <th>CartScreenAppear</th>\n",
       "      <th>MainScreenAppear</th>\n",
       "      <th>OffersScreenAppear</th>\n",
       "      <th>PaymentScreenSuccessful</th>\n",
       "      <th>Tutorial</th>\n",
       "      <th>user_cnt</th>\n",
       "    </tr>\n",
       "    <tr>\n",
       "      <th>expid</th>\n",
       "      <th></th>\n",
       "      <th></th>\n",
       "      <th></th>\n",
       "      <th></th>\n",
       "      <th></th>\n",
       "      <th></th>\n",
       "    </tr>\n",
       "  </thead>\n",
       "  <tbody>\n",
       "    <tr>\n",
       "      <th>246</th>\n",
       "      <td>1266</td>\n",
       "      <td>2450</td>\n",
       "      <td>1542</td>\n",
       "      <td>1200</td>\n",
       "      <td>278</td>\n",
       "      <td>2484</td>\n",
       "    </tr>\n",
       "    <tr>\n",
       "      <th>247</th>\n",
       "      <td>1238</td>\n",
       "      <td>2476</td>\n",
       "      <td>1520</td>\n",
       "      <td>1158</td>\n",
       "      <td>283</td>\n",
       "      <td>2513</td>\n",
       "    </tr>\n",
       "    <tr>\n",
       "      <th>248</th>\n",
       "      <td>1230</td>\n",
       "      <td>2493</td>\n",
       "      <td>1531</td>\n",
       "      <td>1181</td>\n",
       "      <td>279</td>\n",
       "      <td>2537</td>\n",
       "    </tr>\n",
       "    <tr>\n",
       "      <th>new</th>\n",
       "      <td>2504</td>\n",
       "      <td>4926</td>\n",
       "      <td>3062</td>\n",
       "      <td>2358</td>\n",
       "      <td>561</td>\n",
       "      <td>4997</td>\n",
       "    </tr>\n",
       "  </tbody>\n",
       "</table>\n",
       "</div>"
      ],
      "text/plain": [
       "event_name  CartScreenAppear  MainScreenAppear  OffersScreenAppear  \\\n",
       "expid                                                                \n",
       "246                     1266              2450                1542   \n",
       "247                     1238              2476                1520   \n",
       "248                     1230              2493                1531   \n",
       "new                     2504              4926                3062   \n",
       "\n",
       "event_name  PaymentScreenSuccessful  Tutorial  user_cnt  \n",
       "expid                                                    \n",
       "246                            1200       278      2484  \n",
       "247                            1158       283      2513  \n",
       "248                            1181       279      2537  \n",
       "new                            2358       561      4997  "
      ]
     },
     "execution_count": 49,
     "metadata": {},
     "output_type": "execute_result"
    }
   ],
   "source": [
    "# Складываем строки:\n",
    "df_voronka.loc['new'] = df_voronka.loc[246] + df_voronka.loc[247]\n",
    "df_voronka"
   ]
  },
  {
   "cell_type": "markdown",
   "id": "bb6eb0bc",
   "metadata": {},
   "source": [
    "Сделаем проверку групп 'new' и 248"
   ]
  },
  {
   "cell_type": "code",
   "execution_count": 50,
   "id": "91ebdb0c",
   "metadata": {},
   "outputs": [
    {
     "name": "stdout",
     "output_type": "stream",
     "text": [
      "Для метрики  CartScreenAppear\n",
      "p-значение:  0.18175875284404386\n",
      "Не получилось отвергнуть нулевую гипотезу, нет оснований считать доли разными\n",
      "\n",
      "\n",
      "Для метрики  MainScreenAppear\n",
      "p-значение:  0.29424526837179577\n",
      "Не получилось отвергнуть нулевую гипотезу, нет оснований считать доли разными\n",
      "\n",
      "\n",
      "Для метрики  OffersScreenAppear\n",
      "p-значение:  0.43425549655188256\n",
      "Не получилось отвергнуть нулевую гипотезу, нет оснований считать доли разными\n",
      "\n",
      "\n",
      "Для метрики  PaymentScreenSuccessful\n",
      "p-значение:  0.6004294282308704\n",
      "Не получилось отвергнуть нулевую гипотезу, нет оснований считать доли разными\n",
      "\n",
      "\n"
     ]
    }
   ],
   "source": [
    "test_groups_hypothesis(df_voronka, 'new', 248, event_list, 'user_cnt', 0.05)"
   ]
  },
  {
   "cell_type": "markdown",
   "id": "866a1dff",
   "metadata": {},
   "source": [
    "- Не получилось отвергнуть нулевую гипотезу, нет оснований считать выборки групп new и 248 разными."
   ]
  },
  {
   "cell_type": "markdown",
   "id": "882111c5",
   "metadata": {},
   "source": [
    "- Между первой контрольной группой 246 и группой с измененными шрифтами 248 значимых различий нет. \n",
    "- Между группами 247 и 248 значимых различий нет. \n",
    "- Между объединенной контрольной группой new с группой 248 значимых различий нет."
   ]
  },
  {
   "cell_type": "markdown",
   "id": "477f45bc",
   "metadata": {},
   "source": [
    "5.5 Какой уровень значимости вы выбрали при проверке статистических гипотез выше? Посчитайте, сколько проверок статистических гипотез вы сделали. При уровне значимости 0.1 в 10% случаев можно ошибочно отклонить нулевую гипотезу при условии, что она верна. Какой уровень значимости стоит применить? Если вы хотите изменить его, проделайте предыдущие пункты и проверьте свои выводы."
   ]
  },
  {
   "cell_type": "markdown",
   "id": "e15abcb7",
   "metadata": {},
   "source": [
    "проведем еще раз все тесты с **alpha = 0,1**"
   ]
  },
  {
   "cell_type": "markdown",
   "id": "7628fd21",
   "metadata": {},
   "source": [
    "Сделаем проверку групп 246 и 247"
   ]
  },
  {
   "cell_type": "code",
   "execution_count": 51,
   "id": "efe9f1b0",
   "metadata": {},
   "outputs": [
    {
     "name": "stdout",
     "output_type": "stream",
     "text": [
      "Для метрики  CartScreenAppear\n",
      "p-значение:  0.22883372237997213\n",
      "Не получилось отвергнуть нулевую гипотезу, нет оснований считать доли разными\n",
      "\n",
      "\n",
      "Для метрики  MainScreenAppear\n",
      "p-значение:  0.7570597232046099\n",
      "Не получилось отвергнуть нулевую гипотезу, нет оснований считать доли разными\n",
      "\n",
      "\n",
      "Для метрики  OffersScreenAppear\n",
      "p-значение:  0.2480954578522181\n",
      "Не получилось отвергнуть нулевую гипотезу, нет оснований считать доли разными\n",
      "\n",
      "\n",
      "Для метрики  PaymentScreenSuccessful\n",
      "p-значение:  0.11456679313141849\n",
      "Не получилось отвергнуть нулевую гипотезу, нет оснований считать доли разными\n",
      "\n",
      "\n"
     ]
    }
   ],
   "source": [
    "test_groups_hypothesis(df_voronka, 246, 247, event_list, 'user_cnt', 0.1)"
   ]
  },
  {
   "cell_type": "markdown",
   "id": "ae153248",
   "metadata": {},
   "source": [
    "также Не получилось отвергнуть нулевую гипотезу, нет оснований считать доли групп 246 и 247 разными"
   ]
  },
  {
   "cell_type": "markdown",
   "id": "891166df",
   "metadata": {},
   "source": [
    "Сделаем проверку групп 246 и 248"
   ]
  },
  {
   "cell_type": "code",
   "execution_count": 52,
   "id": "39dca0b2",
   "metadata": {},
   "outputs": [
    {
     "name": "stdout",
     "output_type": "stream",
     "text": [
      "Для метрики  CartScreenAppear\n",
      "p-значение:  0.07842923237520116\n",
      "Отвергаем нулевую гипотезу: между долями есть значимая разница\n",
      "\n",
      "\n",
      "Для метрики  MainScreenAppear\n",
      "p-значение:  0.2949721933554552\n",
      "Не получилось отвергнуть нулевую гипотезу, нет оснований считать доли разными\n",
      "\n",
      "\n",
      "Для метрики  OffersScreenAppear\n",
      "p-значение:  0.20836205402738917\n",
      "Не получилось отвергнуть нулевую гипотезу, нет оснований считать доли разными\n",
      "\n",
      "\n",
      "Для метрики  PaymentScreenSuccessful\n",
      "p-значение:  0.2122553275697796\n",
      "Не получилось отвергнуть нулевую гипотезу, нет оснований считать доли разными\n",
      "\n",
      "\n"
     ]
    }
   ],
   "source": [
    "test_groups_hypothesis(df_voronka, 246, 248, event_list, 'user_cnt', 0.1)"
   ]
  },
  {
   "cell_type": "markdown",
   "id": "2cb435a5",
   "metadata": {},
   "source": [
    "- Отвергаем нулевую гипотезу: между долями есть значимая разница в CartScreenAppear между группами 246 и 248\n",
    "- тут получается меньше пользователей из группы 248 доходят до корзины?"
   ]
  },
  {
   "cell_type": "markdown",
   "id": "c1523406",
   "metadata": {},
   "source": [
    "Сделаем проверку групп 247 и 248"
   ]
  },
  {
   "cell_type": "code",
   "execution_count": 53,
   "id": "de6b3f26",
   "metadata": {},
   "outputs": [
    {
     "name": "stdout",
     "output_type": "stream",
     "text": [
      "Для метрики  CartScreenAppear\n",
      "p-значение:  0.5786197879539783\n",
      "Не получилось отвергнуть нулевую гипотезу, нет оснований считать доли разными\n",
      "\n",
      "\n",
      "Для метрики  MainScreenAppear\n",
      "p-значение:  0.4587053616621515\n",
      "Не получилось отвергнуть нулевую гипотезу, нет оснований считать доли разными\n",
      "\n",
      "\n",
      "Для метрики  OffersScreenAppear\n",
      "p-значение:  0.9197817830592261\n",
      "Не получилось отвергнуть нулевую гипотезу, нет оснований считать доли разными\n",
      "\n",
      "\n",
      "Для метрики  PaymentScreenSuccessful\n",
      "p-значение:  0.7373415053803964\n",
      "Не получилось отвергнуть нулевую гипотезу, нет оснований считать доли разными\n",
      "\n",
      "\n"
     ]
    }
   ],
   "source": [
    "test_groups_hypothesis(df_voronka, 247, 248, event_list, 'user_cnt', 0.1)"
   ]
  },
  {
   "cell_type": "markdown",
   "id": "f8edfa22",
   "metadata": {},
   "source": [
    "тут также Не получилось отвергнуть нулевую гипотезу, нет оснований считать доли групп 247 и 248 разными"
   ]
  },
  {
   "cell_type": "markdown",
   "id": "b554fbec",
   "metadata": {},
   "source": [
    "Сделаем проверку групп 'new' и 248"
   ]
  },
  {
   "cell_type": "code",
   "execution_count": 54,
   "id": "248d4708",
   "metadata": {},
   "outputs": [
    {
     "name": "stdout",
     "output_type": "stream",
     "text": [
      "Для метрики  CartScreenAppear\n",
      "p-значение:  0.18175875284404386\n",
      "Не получилось отвергнуть нулевую гипотезу, нет оснований считать доли разными\n",
      "\n",
      "\n",
      "Для метрики  MainScreenAppear\n",
      "p-значение:  0.29424526837179577\n",
      "Не получилось отвергнуть нулевую гипотезу, нет оснований считать доли разными\n",
      "\n",
      "\n",
      "Для метрики  OffersScreenAppear\n",
      "p-значение:  0.43425549655188256\n",
      "Не получилось отвергнуть нулевую гипотезу, нет оснований считать доли разными\n",
      "\n",
      "\n",
      "Для метрики  PaymentScreenSuccessful\n",
      "p-значение:  0.6004294282308704\n",
      "Не получилось отвергнуть нулевую гипотезу, нет оснований считать доли разными\n",
      "\n",
      "\n"
     ]
    }
   ],
   "source": [
    "test_groups_hypothesis(df_voronka, 'new', 248, event_list, 'user_cnt', 0.1)"
   ]
  },
  {
   "cell_type": "markdown",
   "id": "f3166909",
   "metadata": {},
   "source": [
    "аналогично Не получилось отвергнуть нулевую гипотезу, нет оснований считать выборки объединеной группы new и 248 разными."
   ]
  },
  {
   "cell_type": "markdown",
   "id": "50578fb2",
   "metadata": {},
   "source": [
    "<div class=\"alert alert-block alert-info\">\n",
    "    \n",
    "вывод:\n",
    "    \n",
    "В данном проекте мы:\n",
    "    \n",
    "на этапе предобрадотки:\n",
    "    \n",
    "- заменили названия столбцов на более удобные\n",
    "- добалили столбц с датой и временем\n",
    "- добалили столбц только с датой без времени\n",
    "- проверили что пропусков нет\n",
    "- удалили явные дубликаты\n",
    "    \n",
    "    изучили и проверили данные:\n",
    "\n",
    "- В среднем на пользрвателя приходится 32 события\n",
    "    \n",
    "    Из графиков выше было видно что данные не равномерны. поэтому мы приняли решение определить что полные данные с 2019-08-01  числа остальное отбросили. Получился актуальный период с 2019-08-01 по 2019-08-07 и равен 7 дней.  \n",
    "    При этом мы потеряли: 2826 события это составляет - 1% от общего количества событий; и 17 пользователей - что составляет 0.23%. данное количество не считается значимым.\n",
    "    \n",
    "    - в логе имеются 5 уникальных события\n",
    "    - каждое событие встречалось в датафрейме: \n",
    "- MainScreenAppear           117328\n",
    "- OffersScreenAppear          46333\n",
    "- CartScreenAppear            42303\n",
    "- PaymentScreenSuccessful     33918\n",
    "- Tutorial                     1005\n",
    "- Всего событий = 240887    \n",
    "- Всего уникальных пользователей = 7534  \n",
    "- В среднем на пользрвателя приходится 32 события\n",
    "    \n",
    "Проверили, что у есть пользователи из всех трёх экспериментальных групп и получили почти одинаковое число уникальных пользователей в каждой группе.\n",
    "    \n",
    "Изучили воронку событий\n",
    "    \n",
    "выяснили что По предложением проходит 62% пользователей, посмотревших главный экран.\n",
    "На первом шаге теряется больше всего пользователей при переходе с главного экрана на предложения.\n",
    "\n",
    "До оплаты доходит 47% пользователей.\n",
    "    \n",
    "Изучили результаты эксперимента теста А/А/В\n",
    "Сформулировали гипотезы и по результатам тестов выяснили что статистически значимых различий между группами тестирования НЕТ.\n",
    "значит новый шрифт не отпугнет пользователей , но и не поможет повысить продажи.\n",
    "    \n",
    "    "
   ]
  },
  {
   "cell_type": "code",
   "execution_count": null,
   "id": "921e2487",
   "metadata": {},
   "outputs": [],
   "source": []
  }
 ],
 "metadata": {
  "ExecuteTimeLog": [
   {
    "duration": 1264,
    "start_time": "2024-02-28T21:44:20.647Z"
   },
   {
    "duration": 533,
    "start_time": "2024-02-28T21:44:21.913Z"
   },
   {
    "duration": 11,
    "start_time": "2024-02-28T21:44:22.448Z"
   },
   {
    "duration": 25,
    "start_time": "2024-02-28T21:44:22.462Z"
   },
   {
    "duration": 4,
    "start_time": "2024-02-28T21:44:22.490Z"
   },
   {
    "duration": 40,
    "start_time": "2024-02-28T21:44:22.496Z"
   },
   {
    "duration": 202,
    "start_time": "2024-02-28T21:44:22.541Z"
   },
   {
    "duration": 10,
    "start_time": "2024-02-28T21:44:22.745Z"
   },
   {
    "duration": 26,
    "start_time": "2024-02-28T21:44:22.757Z"
   },
   {
    "duration": 94,
    "start_time": "2024-02-28T21:44:22.787Z"
   },
   {
    "duration": 121,
    "start_time": "2024-02-28T21:44:22.883Z"
   },
   {
    "duration": 89,
    "start_time": "2024-02-28T21:44:23.006Z"
   },
   {
    "duration": 48,
    "start_time": "2024-02-28T21:44:23.097Z"
   },
   {
    "duration": 38,
    "start_time": "2024-02-28T21:44:23.147Z"
   },
   {
    "duration": 61,
    "start_time": "2024-02-28T21:44:23.187Z"
   },
   {
    "duration": 30,
    "start_time": "2024-02-28T21:44:23.250Z"
   },
   {
    "duration": 21,
    "start_time": "2024-02-28T21:44:23.282Z"
   },
   {
    "duration": 43,
    "start_time": "2024-02-28T21:44:23.305Z"
   },
   {
    "duration": 7,
    "start_time": "2024-02-28T21:44:23.350Z"
   },
   {
    "duration": 34,
    "start_time": "2024-02-28T21:44:23.359Z"
   },
   {
    "duration": 5,
    "start_time": "2024-02-28T21:44:23.394Z"
   },
   {
    "duration": 26,
    "start_time": "2024-02-28T21:44:23.400Z"
   },
   {
    "duration": 13,
    "start_time": "2024-02-28T21:44:23.429Z"
   },
   {
    "duration": 301,
    "start_time": "2024-02-28T21:44:23.444Z"
   },
   {
    "duration": 51,
    "start_time": "2024-02-28T21:44:23.747Z"
   },
   {
    "duration": 29,
    "start_time": "2024-02-28T21:44:23.800Z"
   },
   {
    "duration": 11,
    "start_time": "2024-02-28T21:44:23.832Z"
   },
   {
    "duration": 733,
    "start_time": "2024-02-28T21:44:23.847Z"
   },
   {
    "duration": 12,
    "start_time": "2024-02-28T21:44:24.582Z"
   },
   {
    "duration": 58,
    "start_time": "2024-02-28T21:44:24.596Z"
   },
   {
    "duration": 42,
    "start_time": "2024-02-28T21:44:24.656Z"
   },
   {
    "duration": 49,
    "start_time": "2024-02-28T21:44:24.700Z"
   },
   {
    "duration": 93,
    "start_time": "2024-02-28T21:44:24.751Z"
   },
   {
    "duration": 8,
    "start_time": "2024-02-28T21:44:24.847Z"
   },
   {
    "duration": 38,
    "start_time": "2024-02-28T21:44:24.857Z"
   },
   {
    "duration": 18,
    "start_time": "2024-02-28T21:44:24.897Z"
   },
   {
    "duration": 103,
    "start_time": "2024-02-28T21:44:24.917Z"
   },
   {
    "duration": 14,
    "start_time": "2024-02-28T21:44:25.022Z"
   },
   {
    "duration": 16,
    "start_time": "2024-02-28T21:44:25.037Z"
   },
   {
    "duration": 22,
    "start_time": "2024-02-28T21:44:25.055Z"
   },
   {
    "duration": 36,
    "start_time": "2024-02-28T21:44:25.079Z"
   },
   {
    "duration": 39,
    "start_time": "2024-02-28T21:44:25.117Z"
   },
   {
    "duration": 7,
    "start_time": "2024-02-28T21:44:25.158Z"
   },
   {
    "duration": 16,
    "start_time": "2024-02-28T21:44:25.167Z"
   },
   {
    "duration": 26,
    "start_time": "2024-02-28T21:44:25.185Z"
   },
   {
    "duration": 20,
    "start_time": "2024-02-28T21:44:25.213Z"
   },
   {
    "duration": 14,
    "start_time": "2024-02-28T21:44:25.241Z"
   },
   {
    "duration": 13,
    "start_time": "2024-02-28T21:44:25.257Z"
   },
   {
    "duration": 24,
    "start_time": "2024-02-28T21:44:25.271Z"
   }
  ],
  "kernelspec": {
   "display_name": "Python 3 (ipykernel)",
   "language": "python",
   "name": "python3"
  },
  "language_info": {
   "codemirror_mode": {
    "name": "ipython",
    "version": 3
   },
   "file_extension": ".py",
   "mimetype": "text/x-python",
   "name": "python",
   "nbconvert_exporter": "python",
   "pygments_lexer": "ipython3",
   "version": "3.11.4"
  },
  "toc": {
   "base_numbering": 1,
   "nav_menu": {},
   "number_sections": true,
   "sideBar": true,
   "skip_h1_title": true,
   "title_cell": "Table of Contents",
   "title_sidebar": "Contents",
   "toc_cell": false,
   "toc_position": {},
   "toc_section_display": true,
   "toc_window_display": false
  }
 },
 "nbformat": 4,
 "nbformat_minor": 5
}
