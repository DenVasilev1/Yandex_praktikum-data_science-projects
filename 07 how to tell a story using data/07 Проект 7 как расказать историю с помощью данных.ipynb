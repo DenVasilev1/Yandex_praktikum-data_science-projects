{
 "cells": [
  {
   "cell_type": "markdown",
   "id": "f5bc3575",
   "metadata": {},
   "source": [
    "Рынок заведений общественного питания Москвы"
   ]
  },
  {
   "cell_type": "markdown",
   "id": "5a9ddd5b",
   "metadata": {},
   "source": [
    "загрузим необходимые библиотеки"
   ]
  },
  {
   "cell_type": "code",
   "execution_count": 1,
   "id": "77573f5b",
   "metadata": {},
   "outputs": [],
   "source": [
    "import pandas as pd               #библиотека для считывания файлов с данными\n",
    "#import numpy as np                  #библиотека для оругЗления значений?\n",
    "import matplotlib.pyplot as plt     #библиотека для графиков\n",
    "#from scipy import stats as st       #библиотека для проверки гипотез\n",
    "#import datetime \n",
    "#import math as mth\n",
    "import seaborn as sns\n",
    "#import plotly.express as px\n",
    "#from plotly import graph_objects as go\n",
    "\n",
    "import json # подключаем модуль для работы с JSON-форматом\n",
    "from folium import Map, Choropleth # импортируем карту и хороплет\n",
    "\n",
    "from folium import Map, Marker # импортируем карту и маркер\n",
    "from folium.plugins import MarkerCluster # импортируем кластер\n",
    "\n",
    "#sns.set(rc={'figure.figsize':(12, 8)})\n"
   ]
  },
  {
   "cell_type": "markdown",
   "id": "befad696",
   "metadata": {},
   "source": [
    "выгрузим  и посмотрим общую информацию  "
   ]
  },
  {
   "cell_type": "code",
   "execution_count": 2,
   "id": "dff7faed",
   "metadata": {},
   "outputs": [],
   "source": [
    "data = pd.read_csv('https://code.s3.yandex.net/datasets/moscow_places.csv')"
   ]
  },
  {
   "cell_type": "code",
   "execution_count": 3,
   "id": "177ad6dc",
   "metadata": {},
   "outputs": [
    {
     "data": {
      "text/html": [
       "<div>\n",
       "<style scoped>\n",
       "    .dataframe tbody tr th:only-of-type {\n",
       "        vertical-align: middle;\n",
       "    }\n",
       "\n",
       "    .dataframe tbody tr th {\n",
       "        vertical-align: top;\n",
       "    }\n",
       "\n",
       "    .dataframe thead th {\n",
       "        text-align: right;\n",
       "    }\n",
       "</style>\n",
       "<table border=\"1\" class=\"dataframe\">\n",
       "  <thead>\n",
       "    <tr style=\"text-align: right;\">\n",
       "      <th></th>\n",
       "      <th>name</th>\n",
       "      <th>category</th>\n",
       "      <th>address</th>\n",
       "      <th>district</th>\n",
       "      <th>hours</th>\n",
       "      <th>lat</th>\n",
       "      <th>lng</th>\n",
       "      <th>rating</th>\n",
       "      <th>price</th>\n",
       "      <th>avg_bill</th>\n",
       "      <th>middle_avg_bill</th>\n",
       "      <th>middle_coffee_cup</th>\n",
       "      <th>chain</th>\n",
       "      <th>seats</th>\n",
       "    </tr>\n",
       "  </thead>\n",
       "  <tbody>\n",
       "    <tr>\n",
       "      <th>0</th>\n",
       "      <td>WoWфли</td>\n",
       "      <td>кафе</td>\n",
       "      <td>Москва, улица Дыбенко, 7/1</td>\n",
       "      <td>Северный административный округ</td>\n",
       "      <td>ежедневно, 10:00–22:00</td>\n",
       "      <td>55.878494</td>\n",
       "      <td>37.478860</td>\n",
       "      <td>5.0</td>\n",
       "      <td>NaN</td>\n",
       "      <td>NaN</td>\n",
       "      <td>NaN</td>\n",
       "      <td>NaN</td>\n",
       "      <td>0</td>\n",
       "      <td>NaN</td>\n",
       "    </tr>\n",
       "    <tr>\n",
       "      <th>1</th>\n",
       "      <td>Четыре комнаты</td>\n",
       "      <td>ресторан</td>\n",
       "      <td>Москва, улица Дыбенко, 36, корп. 1</td>\n",
       "      <td>Северный административный округ</td>\n",
       "      <td>ежедневно, 10:00–22:00</td>\n",
       "      <td>55.875801</td>\n",
       "      <td>37.484479</td>\n",
       "      <td>4.5</td>\n",
       "      <td>выше среднего</td>\n",
       "      <td>Средний счёт:1500–1600 ₽</td>\n",
       "      <td>1550.0</td>\n",
       "      <td>NaN</td>\n",
       "      <td>0</td>\n",
       "      <td>4.0</td>\n",
       "    </tr>\n",
       "    <tr>\n",
       "      <th>2</th>\n",
       "      <td>Хазри</td>\n",
       "      <td>кафе</td>\n",
       "      <td>Москва, Клязьминская улица, 15</td>\n",
       "      <td>Северный административный округ</td>\n",
       "      <td>пн-чт 11:00–02:00; пт,сб 11:00–05:00; вс 11:00...</td>\n",
       "      <td>55.889146</td>\n",
       "      <td>37.525901</td>\n",
       "      <td>4.6</td>\n",
       "      <td>средние</td>\n",
       "      <td>Средний счёт:от 1000 ₽</td>\n",
       "      <td>1000.0</td>\n",
       "      <td>NaN</td>\n",
       "      <td>0</td>\n",
       "      <td>45.0</td>\n",
       "    </tr>\n",
       "    <tr>\n",
       "      <th>3</th>\n",
       "      <td>Dormouse Coffee Shop</td>\n",
       "      <td>кофейня</td>\n",
       "      <td>Москва, улица Маршала Федоренко, 12</td>\n",
       "      <td>Северный административный округ</td>\n",
       "      <td>ежедневно, 09:00–22:00</td>\n",
       "      <td>55.881608</td>\n",
       "      <td>37.488860</td>\n",
       "      <td>5.0</td>\n",
       "      <td>NaN</td>\n",
       "      <td>Цена чашки капучино:155–185 ₽</td>\n",
       "      <td>NaN</td>\n",
       "      <td>170.0</td>\n",
       "      <td>0</td>\n",
       "      <td>NaN</td>\n",
       "    </tr>\n",
       "    <tr>\n",
       "      <th>4</th>\n",
       "      <td>Иль Марко</td>\n",
       "      <td>пиццерия</td>\n",
       "      <td>Москва, Правобережная улица, 1Б</td>\n",
       "      <td>Северный административный округ</td>\n",
       "      <td>ежедневно, 10:00–22:00</td>\n",
       "      <td>55.881166</td>\n",
       "      <td>37.449357</td>\n",
       "      <td>5.0</td>\n",
       "      <td>средние</td>\n",
       "      <td>Средний счёт:400–600 ₽</td>\n",
       "      <td>500.0</td>\n",
       "      <td>NaN</td>\n",
       "      <td>1</td>\n",
       "      <td>148.0</td>\n",
       "    </tr>\n",
       "  </tbody>\n",
       "</table>\n",
       "</div>"
      ],
      "text/plain": [
       "                   name  category                              address  \\\n",
       "0                WoWфли      кафе           Москва, улица Дыбенко, 7/1   \n",
       "1        Четыре комнаты  ресторан   Москва, улица Дыбенко, 36, корп. 1   \n",
       "2                 Хазри      кафе       Москва, Клязьминская улица, 15   \n",
       "3  Dormouse Coffee Shop   кофейня  Москва, улица Маршала Федоренко, 12   \n",
       "4             Иль Марко  пиццерия      Москва, Правобережная улица, 1Б   \n",
       "\n",
       "                          district  \\\n",
       "0  Северный административный округ   \n",
       "1  Северный административный округ   \n",
       "2  Северный административный округ   \n",
       "3  Северный административный округ   \n",
       "4  Северный административный округ   \n",
       "\n",
       "                                               hours        lat        lng  \\\n",
       "0                             ежедневно, 10:00–22:00  55.878494  37.478860   \n",
       "1                             ежедневно, 10:00–22:00  55.875801  37.484479   \n",
       "2  пн-чт 11:00–02:00; пт,сб 11:00–05:00; вс 11:00...  55.889146  37.525901   \n",
       "3                             ежедневно, 09:00–22:00  55.881608  37.488860   \n",
       "4                             ежедневно, 10:00–22:00  55.881166  37.449357   \n",
       "\n",
       "   rating          price                       avg_bill  middle_avg_bill  \\\n",
       "0     5.0            NaN                            NaN              NaN   \n",
       "1     4.5  выше среднего       Средний счёт:1500–1600 ₽           1550.0   \n",
       "2     4.6        средние         Средний счёт:от 1000 ₽           1000.0   \n",
       "3     5.0            NaN  Цена чашки капучино:155–185 ₽              NaN   \n",
       "4     5.0        средние         Средний счёт:400–600 ₽            500.0   \n",
       "\n",
       "   middle_coffee_cup  chain  seats  \n",
       "0                NaN      0    NaN  \n",
       "1                NaN      0    4.0  \n",
       "2                NaN      0   45.0  \n",
       "3              170.0      0    NaN  \n",
       "4                NaN      1  148.0  "
      ]
     },
     "execution_count": 3,
     "metadata": {},
     "output_type": "execute_result"
    }
   ],
   "source": [
    "data.head(5)"
   ]
  },
  {
   "cell_type": "code",
   "execution_count": 4,
   "id": "efed0f4a",
   "metadata": {},
   "outputs": [
    {
     "name": "stdout",
     "output_type": "stream",
     "text": [
      "<class 'pandas.core.frame.DataFrame'>\n",
      "RangeIndex: 8406 entries, 0 to 8405\n",
      "Data columns (total 14 columns):\n",
      " #   Column             Non-Null Count  Dtype  \n",
      "---  ------             --------------  -----  \n",
      " 0   name               8406 non-null   object \n",
      " 1   category           8406 non-null   object \n",
      " 2   address            8406 non-null   object \n",
      " 3   district           8406 non-null   object \n",
      " 4   hours              7870 non-null   object \n",
      " 5   lat                8406 non-null   float64\n",
      " 6   lng                8406 non-null   float64\n",
      " 7   rating             8406 non-null   float64\n",
      " 8   price              3315 non-null   object \n",
      " 9   avg_bill           3816 non-null   object \n",
      " 10  middle_avg_bill    3149 non-null   float64\n",
      " 11  middle_coffee_cup  535 non-null    float64\n",
      " 12  chain              8406 non-null   int64  \n",
      " 13  seats              4795 non-null   float64\n",
      "dtypes: float64(6), int64(1), object(7)\n",
      "memory usage: 919.5+ KB\n"
     ]
    }
   ],
   "source": [
    "data.info()"
   ]
  },
  {
   "cell_type": "code",
   "execution_count": 5,
   "id": "db0dedd9",
   "metadata": {},
   "outputs": [
    {
     "data": {
      "text/plain": [
       "array(['кафе', 'ресторан', 'кофейня', 'пиццерия', 'бар,паб',\n",
       "       'быстрое питание', 'булочная', 'столовая'], dtype=object)"
      ]
     },
     "execution_count": 5,
     "metadata": {},
     "output_type": "execute_result"
    }
   ],
   "source": [
    "data['category'].unique()"
   ]
  },
  {
   "cell_type": "markdown",
   "id": "b4cbafbd",
   "metadata": {},
   "source": [
    "- видим что во многих столбцах есть пропуски\n",
    "- в некоторых столбцах можно заменить тип данных. можно заменить middle_avg_bill, middle_coffee_cup, seats на int64"
   ]
  },
  {
   "cell_type": "markdown",
   "id": "67b89e5d",
   "metadata": {},
   "source": [
    "проверим сколько всего заведений представленно"
   ]
  },
  {
   "cell_type": "markdown",
   "id": "ae7e9416",
   "metadata": {},
   "source": [
    "посмотрим сколько всего сетевых и не сетевых кафе где: 0 - несетевое, 1 - сетевое"
   ]
  },
  {
   "cell_type": "code",
   "execution_count": 6,
   "id": "32f300ad",
   "metadata": {},
   "outputs": [
    {
     "data": {
      "text/plain": [
       "0    5201\n",
       "1    3205\n",
       "Name: chain, dtype: int64"
      ]
     },
     "execution_count": 6,
     "metadata": {},
     "output_type": "execute_result"
    }
   ],
   "source": [
    "data['chain'].value_counts()"
   ]
  },
  {
   "cell_type": "code",
   "execution_count": 7,
   "id": "036412d0",
   "metadata": {},
   "outputs": [
    {
     "data": {
      "text/plain": [
       "8406"
      ]
     },
     "execution_count": 7,
     "metadata": {},
     "output_type": "execute_result"
    }
   ],
   "source": [
    "data['name'].count()"
   ]
  },
  {
   "cell_type": "markdown",
   "id": "438b7106",
   "metadata": {},
   "source": [
    "посмотрим сколько уникальных сетевых заведений"
   ]
  },
  {
   "cell_type": "code",
   "execution_count": 8,
   "id": "ea0ec126",
   "metadata": {},
   "outputs": [
    {
     "data": {
      "text/plain": [
       "name                  762\n",
       "category                8\n",
       "address              2438\n",
       "district                9\n",
       "hours                 539\n",
       "lat                  3175\n",
       "lng                  3188\n",
       "rating                 38\n",
       "price                   4\n",
       "avg_bill              438\n",
       "middle_avg_bill       165\n",
       "middle_coffee_cup      66\n",
       "chain                   1\n",
       "seats                 189\n",
       "dtype: int64"
      ]
     },
     "execution_count": 8,
     "metadata": {},
     "output_type": "execute_result"
    }
   ],
   "source": [
    "data.query('chain == 1').nunique()"
   ]
  },
  {
   "cell_type": "markdown",
   "id": "9e0c1772",
   "metadata": {},
   "source": [
    "- всего у нас 8406 заведений\n",
    "- из них 5201 - не сетевое кафе\n",
    "- 3205 - сетевых кафе\n",
    "- в несетевых кафе все кафе должны быть уникальными даже если у них могут быть одинаковые названия\n",
    "- в сетевых кафе видим что уникальных заведений 762 тк несколько заведений под одним названием"
   ]
  },
  {
   "cell_type": "markdown",
   "id": "401e7150",
   "metadata": {},
   "source": [
    "проверяем количество пропусков"
   ]
  },
  {
   "cell_type": "code",
   "execution_count": 9,
   "id": "b4b11e07",
   "metadata": {},
   "outputs": [
    {
     "data": {
      "text/plain": [
       "name                    0\n",
       "category                0\n",
       "address                 0\n",
       "district                0\n",
       "hours                 536\n",
       "lat                     0\n",
       "lng                     0\n",
       "rating                  0\n",
       "price                5091\n",
       "avg_bill             4590\n",
       "middle_avg_bill      5257\n",
       "middle_coffee_cup    7871\n",
       "chain                   0\n",
       "seats                3611\n",
       "dtype: int64"
      ]
     },
     "execution_count": 9,
     "metadata": {},
     "output_type": "execute_result"
    }
   ],
   "source": [
    "data.isna().sum()"
   ]
  },
  {
   "cell_type": "markdown",
   "id": "50e7a710",
   "metadata": {},
   "source": [
    "в пропусках со временем работы придется смириться поделать ничего не сможем как и с ценой \n",
    "а вот где количество мест пропуски это возможно то что посадочных мест вообще нет"
   ]
  },
  {
   "cell_type": "code",
   "execution_count": 10,
   "id": "a5fc005b",
   "metadata": {},
   "outputs": [
    {
     "data": {
      "text/plain": [
       "0.0       136\n",
       "1.0         4\n",
       "2.0        15\n",
       "3.0        13\n",
       "4.0        25\n",
       "         ... \n",
       "760.0       1\n",
       "920.0       2\n",
       "1040.0      4\n",
       "1200.0      1\n",
       "1288.0     11\n",
       "Name: seats, Length: 229, dtype: int64"
      ]
     },
     "execution_count": 10,
     "metadata": {},
     "output_type": "execute_result"
    }
   ],
   "source": [
    "data['seats'].value_counts().sort_index()"
   ]
  },
  {
   "cell_type": "code",
   "execution_count": 11,
   "id": "d55ed6c6",
   "metadata": {},
   "outputs": [
    {
     "name": "stdout",
     "output_type": "stream",
     "text": [
      "кол-во явных дубликатов = 0\n"
     ]
    }
   ],
   "source": [
    "print('кол-во явных дубликатов =', data.duplicated().sum())"
   ]
  },
  {
   "cell_type": "markdown",
   "id": "87c06ffe",
   "metadata": {},
   "source": [
    "<div class=\"alert alert-info\">\n",
    "приведем все значения кроме числовых к нижнему регистру"
   ]
  },
  {
   "cell_type": "code",
   "execution_count": 12,
   "id": "2bc0a4d7",
   "metadata": {},
   "outputs": [],
   "source": [
    "#data = data.apply(lambda x: x.astype(str).str.lower() if x.dtype == 'O' else x)\n",
    "data[['name', 'address']] = data[['name', 'address']].apply(lambda x: x.astype(str).str.lower())"
   ]
  },
  {
   "cell_type": "code",
   "execution_count": 13,
   "id": "41e886e5",
   "metadata": {},
   "outputs": [
    {
     "data": {
      "text/plain": [
       "4"
      ]
     },
     "execution_count": 13,
     "metadata": {},
     "output_type": "execute_result"
    }
   ],
   "source": [
    "data.duplicated(subset=['name', 'address']).sum()"
   ]
  },
  {
   "cell_type": "markdown",
   "id": "f5c039a9",
   "metadata": {},
   "source": [
    "<div class=\"alert alert-info\">\n",
    "    \n",
    "- врятли заведения с одинаковыми названиями будут находиться на одной улице скорее всего это дубликаты/ удалим их\n",
    "- Фильтруем датафрейм, чтобы оставить только уникальные строки c помощью ~"
   ]
  },
  {
   "cell_type": "code",
   "execution_count": 14,
   "id": "61dfe9ae",
   "metadata": {},
   "outputs": [
    {
     "data": {
      "text/html": [
       "<div>\n",
       "<style scoped>\n",
       "    .dataframe tbody tr th:only-of-type {\n",
       "        vertical-align: middle;\n",
       "    }\n",
       "\n",
       "    .dataframe tbody tr th {\n",
       "        vertical-align: top;\n",
       "    }\n",
       "\n",
       "    .dataframe thead th {\n",
       "        text-align: right;\n",
       "    }\n",
       "</style>\n",
       "<table border=\"1\" class=\"dataframe\">\n",
       "  <thead>\n",
       "    <tr style=\"text-align: right;\">\n",
       "      <th></th>\n",
       "      <th>name</th>\n",
       "      <th>category</th>\n",
       "      <th>address</th>\n",
       "      <th>district</th>\n",
       "      <th>hours</th>\n",
       "      <th>lat</th>\n",
       "      <th>lng</th>\n",
       "      <th>rating</th>\n",
       "      <th>price</th>\n",
       "      <th>avg_bill</th>\n",
       "      <th>middle_avg_bill</th>\n",
       "      <th>middle_coffee_cup</th>\n",
       "      <th>chain</th>\n",
       "      <th>seats</th>\n",
       "    </tr>\n",
       "  </thead>\n",
       "  <tbody>\n",
       "    <tr>\n",
       "      <th>189</th>\n",
       "      <td>кафе</td>\n",
       "      <td>кафе</td>\n",
       "      <td>москва, парк ангарские пруды</td>\n",
       "      <td>Северный административный округ</td>\n",
       "      <td>ежедневно, 09:00–23:00</td>\n",
       "      <td>55.880327</td>\n",
       "      <td>37.530786</td>\n",
       "      <td>3.2</td>\n",
       "      <td>NaN</td>\n",
       "      <td>NaN</td>\n",
       "      <td>NaN</td>\n",
       "      <td>NaN</td>\n",
       "      <td>0</td>\n",
       "      <td>NaN</td>\n",
       "    </tr>\n",
       "    <tr>\n",
       "      <th>215</th>\n",
       "      <td>кафе</td>\n",
       "      <td>кафе</td>\n",
       "      <td>москва, парк ангарские пруды</td>\n",
       "      <td>Северный административный округ</td>\n",
       "      <td>ежедневно, 10:00–22:00</td>\n",
       "      <td>55.881438</td>\n",
       "      <td>37.531848</td>\n",
       "      <td>3.2</td>\n",
       "      <td>NaN</td>\n",
       "      <td>NaN</td>\n",
       "      <td>NaN</td>\n",
       "      <td>NaN</td>\n",
       "      <td>0</td>\n",
       "      <td>NaN</td>\n",
       "    </tr>\n",
       "    <tr>\n",
       "      <th>1430</th>\n",
       "      <td>more poke</td>\n",
       "      <td>ресторан</td>\n",
       "      <td>москва, волоколамское шоссе, 11, стр. 2</td>\n",
       "      <td>Северный административный округ</td>\n",
       "      <td>ежедневно, 09:00–21:00</td>\n",
       "      <td>55.806307</td>\n",
       "      <td>37.497566</td>\n",
       "      <td>4.2</td>\n",
       "      <td>NaN</td>\n",
       "      <td>NaN</td>\n",
       "      <td>NaN</td>\n",
       "      <td>NaN</td>\n",
       "      <td>0</td>\n",
       "      <td>188.0</td>\n",
       "    </tr>\n",
       "    <tr>\n",
       "      <th>1511</th>\n",
       "      <td>more poke</td>\n",
       "      <td>ресторан</td>\n",
       "      <td>москва, волоколамское шоссе, 11, стр. 2</td>\n",
       "      <td>Северный административный округ</td>\n",
       "      <td>пн-чт 09:00–18:00; пт,сб 09:00–21:00; вс 09:00...</td>\n",
       "      <td>55.806307</td>\n",
       "      <td>37.497566</td>\n",
       "      <td>4.2</td>\n",
       "      <td>NaN</td>\n",
       "      <td>NaN</td>\n",
       "      <td>NaN</td>\n",
       "      <td>NaN</td>\n",
       "      <td>1</td>\n",
       "      <td>188.0</td>\n",
       "    </tr>\n",
       "    <tr>\n",
       "      <th>2211</th>\n",
       "      <td>раковарня клешни и хвосты</td>\n",
       "      <td>ресторан</td>\n",
       "      <td>москва, проспект мира, 118</td>\n",
       "      <td>Северо-Восточный административный округ</td>\n",
       "      <td>ежедневно, 12:00–00:00</td>\n",
       "      <td>55.810553</td>\n",
       "      <td>37.638161</td>\n",
       "      <td>4.4</td>\n",
       "      <td>NaN</td>\n",
       "      <td>NaN</td>\n",
       "      <td>NaN</td>\n",
       "      <td>NaN</td>\n",
       "      <td>0</td>\n",
       "      <td>150.0</td>\n",
       "    </tr>\n",
       "    <tr>\n",
       "      <th>2420</th>\n",
       "      <td>раковарня клешни и хвосты</td>\n",
       "      <td>бар,паб</td>\n",
       "      <td>москва, проспект мира, 118</td>\n",
       "      <td>Северо-Восточный административный округ</td>\n",
       "      <td>пн-чт 12:00–00:00; пт,сб 12:00–01:00; вс 12:00...</td>\n",
       "      <td>55.810677</td>\n",
       "      <td>37.638379</td>\n",
       "      <td>4.4</td>\n",
       "      <td>NaN</td>\n",
       "      <td>NaN</td>\n",
       "      <td>NaN</td>\n",
       "      <td>NaN</td>\n",
       "      <td>1</td>\n",
       "      <td>150.0</td>\n",
       "    </tr>\n",
       "    <tr>\n",
       "      <th>3091</th>\n",
       "      <td>хлеб да выпечка</td>\n",
       "      <td>булочная</td>\n",
       "      <td>москва, ярцевская улица, 19</td>\n",
       "      <td>Западный административный округ</td>\n",
       "      <td>ежедневно, 09:00–22:00</td>\n",
       "      <td>55.738886</td>\n",
       "      <td>37.411648</td>\n",
       "      <td>4.1</td>\n",
       "      <td>NaN</td>\n",
       "      <td>NaN</td>\n",
       "      <td>NaN</td>\n",
       "      <td>NaN</td>\n",
       "      <td>1</td>\n",
       "      <td>276.0</td>\n",
       "    </tr>\n",
       "    <tr>\n",
       "      <th>3109</th>\n",
       "      <td>хлеб да выпечка</td>\n",
       "      <td>кафе</td>\n",
       "      <td>москва, ярцевская улица, 19</td>\n",
       "      <td>Западный административный округ</td>\n",
       "      <td>NaN</td>\n",
       "      <td>55.738449</td>\n",
       "      <td>37.410937</td>\n",
       "      <td>4.1</td>\n",
       "      <td>NaN</td>\n",
       "      <td>NaN</td>\n",
       "      <td>NaN</td>\n",
       "      <td>NaN</td>\n",
       "      <td>0</td>\n",
       "      <td>276.0</td>\n",
       "    </tr>\n",
       "  </tbody>\n",
       "</table>\n",
       "</div>"
      ],
      "text/plain": [
       "                           name  category  \\\n",
       "189                        кафе      кафе   \n",
       "215                        кафе      кафе   \n",
       "1430                  more poke  ресторан   \n",
       "1511                  more poke  ресторан   \n",
       "2211  раковарня клешни и хвосты  ресторан   \n",
       "2420  раковарня клешни и хвосты   бар,паб   \n",
       "3091            хлеб да выпечка  булочная   \n",
       "3109            хлеб да выпечка      кафе   \n",
       "\n",
       "                                      address  \\\n",
       "189              москва, парк ангарские пруды   \n",
       "215              москва, парк ангарские пруды   \n",
       "1430  москва, волоколамское шоссе, 11, стр. 2   \n",
       "1511  москва, волоколамское шоссе, 11, стр. 2   \n",
       "2211               москва, проспект мира, 118   \n",
       "2420               москва, проспект мира, 118   \n",
       "3091              москва, ярцевская улица, 19   \n",
       "3109              москва, ярцевская улица, 19   \n",
       "\n",
       "                                     district  \\\n",
       "189           Северный административный округ   \n",
       "215           Северный административный округ   \n",
       "1430          Северный административный округ   \n",
       "1511          Северный административный округ   \n",
       "2211  Северо-Восточный административный округ   \n",
       "2420  Северо-Восточный административный округ   \n",
       "3091          Западный административный округ   \n",
       "3109          Западный административный округ   \n",
       "\n",
       "                                                  hours        lat        lng  \\\n",
       "189                              ежедневно, 09:00–23:00  55.880327  37.530786   \n",
       "215                              ежедневно, 10:00–22:00  55.881438  37.531848   \n",
       "1430                             ежедневно, 09:00–21:00  55.806307  37.497566   \n",
       "1511  пн-чт 09:00–18:00; пт,сб 09:00–21:00; вс 09:00...  55.806307  37.497566   \n",
       "2211                             ежедневно, 12:00–00:00  55.810553  37.638161   \n",
       "2420  пн-чт 12:00–00:00; пт,сб 12:00–01:00; вс 12:00...  55.810677  37.638379   \n",
       "3091                             ежедневно, 09:00–22:00  55.738886  37.411648   \n",
       "3109                                                NaN  55.738449  37.410937   \n",
       "\n",
       "      rating price avg_bill  middle_avg_bill  middle_coffee_cup  chain  seats  \n",
       "189      3.2   NaN      NaN              NaN                NaN      0    NaN  \n",
       "215      3.2   NaN      NaN              NaN                NaN      0    NaN  \n",
       "1430     4.2   NaN      NaN              NaN                NaN      0  188.0  \n",
       "1511     4.2   NaN      NaN              NaN                NaN      1  188.0  \n",
       "2211     4.4   NaN      NaN              NaN                NaN      0  150.0  \n",
       "2420     4.4   NaN      NaN              NaN                NaN      1  150.0  \n",
       "3091     4.1   NaN      NaN              NaN                NaN      1  276.0  \n",
       "3109     4.1   NaN      NaN              NaN                NaN      0  276.0  "
      ]
     },
     "execution_count": 14,
     "metadata": {},
     "output_type": "execute_result"
    }
   ],
   "source": [
    "data.loc[data.duplicated(subset=['name', 'address'], keep=False)]"
   ]
  },
  {
   "cell_type": "code",
   "execution_count": 15,
   "id": "29d8e433",
   "metadata": {},
   "outputs": [],
   "source": [
    "# Фильтруем датафрейм, чтобы оставить только уникальные строки c помощью ~\n",
    "data = data [~ data.duplicated(subset=['name', 'address']) ]"
   ]
  },
  {
   "cell_type": "code",
   "execution_count": 16,
   "id": "c92b3b29",
   "metadata": {},
   "outputs": [
    {
     "data": {
      "text/plain": [
       "0"
      ]
     },
     "execution_count": 16,
     "metadata": {},
     "output_type": "execute_result"
    }
   ],
   "source": [
    "data.duplicated(subset=['name', 'address']).sum()"
   ]
  },
  {
   "cell_type": "markdown",
   "id": "11435b5c",
   "metadata": {},
   "source": [
    "Заменить тип данных на целочисленный с помощью метода astype() не можем так ка в данных есть пропуски, оставим пока так "
   ]
  },
  {
   "cell_type": "code",
   "execution_count": 17,
   "id": "d77bee19",
   "metadata": {},
   "outputs": [],
   "source": [
    "#data[['middle_avg_bill', 'middle_avg_bill', 'seats']] == data[['middle_avg_bill', 'middle_avg_bill', 'seats']].astype('int')"
   ]
  },
  {
   "cell_type": "markdown",
   "id": "e43dc452",
   "metadata": {},
   "source": [
    "можно присвоить пропускам в стобцах 'seats', 'middle_avg_bill', 'middle_coffee_cup' значение '-1' чтобы поменять тип данных в этих столбцах на int\n",
    "\n",
    "если что потом их дропнем или сделаем срез. но будем иметь ввиду что это пропуски тк значение не существующее "
   ]
  },
  {
   "cell_type": "code",
   "execution_count": 18,
   "id": "41295d52",
   "metadata": {},
   "outputs": [],
   "source": [
    "#data[['seats', 'middle_avg_bill', 'middle_coffee_cup']] = data[['seats', 'middle_avg_bill', 'middle_coffee_cup']].fillna(-1).astype(int)"
   ]
  },
  {
   "cell_type": "markdown",
   "id": "e5e8ff81",
   "metadata": {},
   "source": [
    "Создаем столбец street с названиями улиц из столбца с адресом."
   ]
  },
  {
   "cell_type": "code",
   "execution_count": 19,
   "id": "2ae68d71",
   "metadata": {},
   "outputs": [],
   "source": [
    "data['street'] = [d.split(', ')[1] for d in data['address']]"
   ]
  },
  {
   "cell_type": "markdown",
   "id": "e1836a59",
   "metadata": {},
   "source": [
    "Создаем столбец is_24_7 с обозначением, что заведение работает ежедневно и круглосуточно (24/7):"
   ]
  },
  {
   "cell_type": "code",
   "execution_count": 20,
   "id": "df8e3043",
   "metadata": {},
   "outputs": [],
   "source": [
    "data['is_24_7'] = data['hours'].str.contains('ежедневно, круглосуточно') | data['hours'].str.contains('24/7')"
   ]
  },
  {
   "cell_type": "markdown",
   "id": "460a41e0",
   "metadata": {},
   "source": [
    "- удалять данные с пропусками нет стал тк их очень много и повлияет на результат иследования\n",
    "- заполнять их тоже пока не стал тк не понятно на что заполнить. решил оставить как есть.\n",
    "- добалили новые столбцы с адресом и работой круглосуточно"
   ]
  },
  {
   "cell_type": "markdown",
   "id": "431fd746",
   "metadata": {},
   "source": [
    "# Шаг 3. Анализ данных"
   ]
  },
  {
   "cell_type": "markdown",
   "id": "3d19fc2c",
   "metadata": {},
   "source": [
    "Какие категории заведений представлены в данных? Исследуйте количество объектов общественного питания по категориям: рестораны, кофейни, пиццерии, бары и так далее. Постройте визуализации. Ответьте на вопрос о распределении заведений по категориям."
   ]
  },
  {
   "cell_type": "markdown",
   "id": "ec981d5d",
   "metadata": {},
   "source": [
    "выведем кол-во заведений по категориям"
   ]
  },
  {
   "cell_type": "code",
   "execution_count": 21,
   "id": "555de63b",
   "metadata": {},
   "outputs": [
    {
     "data": {
      "text/html": [
       "<div>\n",
       "<style scoped>\n",
       "    .dataframe tbody tr th:only-of-type {\n",
       "        vertical-align: middle;\n",
       "    }\n",
       "\n",
       "    .dataframe tbody tr th {\n",
       "        vertical-align: top;\n",
       "    }\n",
       "\n",
       "    .dataframe thead th {\n",
       "        text-align: right;\n",
       "    }\n",
       "</style>\n",
       "<table border=\"1\" class=\"dataframe\">\n",
       "  <thead>\n",
       "    <tr style=\"text-align: right;\">\n",
       "      <th></th>\n",
       "      <th>category</th>\n",
       "      <th>name</th>\n",
       "    </tr>\n",
       "  </thead>\n",
       "  <tbody>\n",
       "    <tr>\n",
       "      <th>0</th>\n",
       "      <td>кафе</td>\n",
       "      <td>2376</td>\n",
       "    </tr>\n",
       "    <tr>\n",
       "      <th>1</th>\n",
       "      <td>ресторан</td>\n",
       "      <td>2042</td>\n",
       "    </tr>\n",
       "    <tr>\n",
       "      <th>2</th>\n",
       "      <td>кофейня</td>\n",
       "      <td>1413</td>\n",
       "    </tr>\n",
       "    <tr>\n",
       "      <th>3</th>\n",
       "      <td>бар,паб</td>\n",
       "      <td>764</td>\n",
       "    </tr>\n",
       "    <tr>\n",
       "      <th>4</th>\n",
       "      <td>пиццерия</td>\n",
       "      <td>633</td>\n",
       "    </tr>\n",
       "    <tr>\n",
       "      <th>5</th>\n",
       "      <td>быстрое питание</td>\n",
       "      <td>603</td>\n",
       "    </tr>\n",
       "    <tr>\n",
       "      <th>6</th>\n",
       "      <td>столовая</td>\n",
       "      <td>315</td>\n",
       "    </tr>\n",
       "    <tr>\n",
       "      <th>7</th>\n",
       "      <td>булочная</td>\n",
       "      <td>256</td>\n",
       "    </tr>\n",
       "  </tbody>\n",
       "</table>\n",
       "</div>"
      ],
      "text/plain": [
       "          category  name\n",
       "0             кафе  2376\n",
       "1         ресторан  2042\n",
       "2          кофейня  1413\n",
       "3          бар,паб   764\n",
       "4         пиццерия   633\n",
       "5  быстрое питание   603\n",
       "6         столовая   315\n",
       "7         булочная   256"
      ]
     },
     "execution_count": 21,
     "metadata": {},
     "output_type": "execute_result"
    }
   ],
   "source": [
    "data.groupby('category').agg({'name' : 'count'}).sort_values(by='name', ascending=False).reset_index()"
   ]
  },
  {
   "cell_type": "code",
   "execution_count": 22,
   "id": "e4c20fcd",
   "metadata": {},
   "outputs": [
    {
     "data": {
      "image/png": "[encoded data removed]",
      "text/plain": [
       "<Figure size 960x560 with 1 Axes>"
      ]
     },
     "metadata": {},
     "output_type": "display_data"
    }
   ],
   "source": [
    "plt.figure(num=None, figsize=(12, 7), dpi=80, facecolor='w', edgecolor='k')\n",
    "sns.barplot(x='name', y='category', color='#47D6EC', data=data.groupby('category').agg({'name' : 'count'}).sort_values(by='name', ascending=False).reset_index())\n",
    "plt.title('Cоотношение видов объектов \\n общественного питания по количеству', size='15')\n",
    "plt.xticks(rotation=45)\n",
    "plt.yticks(size=15)\n",
    "plt.xlabel('Количество заведений', size='15')\n",
    "plt.ylabel(' ', size='15')\n",
    "plt.tight_layout() # трик, чтобы включить подписи графиков в сохраненную картинку\n",
    "plt.savefig('slide_0.png')\n",
    "plt.show()"
   ]
  },
  {
   "cell_type": "markdown",
   "id": "3657cb72",
   "metadata": {},
   "source": [
    "кафе, ресторанов и кофейн больше васего"
   ]
  },
  {
   "cell_type": "markdown",
   "id": "4b75086c",
   "metadata": {},
   "source": [
    "Исследуйте количество посадочных мест в местах по категориям: рестораны, кофейни, пиццерии, бары и так далее. Постройте визуализации. Проанализируйте результаты и сделайте выводы."
   ]
  },
  {
   "cell_type": "code",
   "execution_count": 23,
   "id": "0dbe3182",
   "metadata": {},
   "outputs": [
    {
     "data": {
      "text/plain": [
       "count    4792.000000\n",
       "mean      108.361436\n",
       "std       122.841130\n",
       "min         0.000000\n",
       "25%        40.000000\n",
       "50%        75.000000\n",
       "75%       140.000000\n",
       "max      1288.000000\n",
       "Name: seats, dtype: float64"
      ]
     },
     "execution_count": 23,
     "metadata": {},
     "output_type": "execute_result"
    }
   ],
   "source": [
    "data['seats'].describe()"
   ]
  },
  {
   "cell_type": "markdown",
   "id": "851f29b4",
   "metadata": {},
   "source": [
    "посчитаем среднее количество мест по категориям заведений"
   ]
  },
  {
   "cell_type": "code",
   "execution_count": 24,
   "id": "0c26f324",
   "metadata": {},
   "outputs": [
    {
     "data": {
      "text/html": [
       "<div>\n",
       "<style scoped>\n",
       "    .dataframe tbody tr th:only-of-type {\n",
       "        vertical-align: middle;\n",
       "    }\n",
       "\n",
       "    .dataframe tbody tr th {\n",
       "        vertical-align: top;\n",
       "    }\n",
       "\n",
       "    .dataframe thead tr th {\n",
       "        text-align: left;\n",
       "    }\n",
       "\n",
       "    .dataframe thead tr:last-of-type th {\n",
       "        text-align: right;\n",
       "    }\n",
       "</style>\n",
       "<table border=\"1\" class=\"dataframe\">\n",
       "  <thead>\n",
       "    <tr>\n",
       "      <th></th>\n",
       "      <th colspan=\"2\" halign=\"left\">seats</th>\n",
       "    </tr>\n",
       "    <tr>\n",
       "      <th></th>\n",
       "      <th>mean</th>\n",
       "      <th>median</th>\n",
       "    </tr>\n",
       "    <tr>\n",
       "      <th>category</th>\n",
       "      <th></th>\n",
       "      <th></th>\n",
       "    </tr>\n",
       "  </thead>\n",
       "  <tbody>\n",
       "    <tr>\n",
       "      <th>бар,паб</th>\n",
       "      <td>124.477516</td>\n",
       "      <td>82.0</td>\n",
       "    </tr>\n",
       "    <tr>\n",
       "      <th>булочная</th>\n",
       "      <td>89.385135</td>\n",
       "      <td>50.0</td>\n",
       "    </tr>\n",
       "    <tr>\n",
       "      <th>быстрое питание</th>\n",
       "      <td>98.891117</td>\n",
       "      <td>65.0</td>\n",
       "    </tr>\n",
       "    <tr>\n",
       "      <th>кафе</th>\n",
       "      <td>97.365653</td>\n",
       "      <td>60.0</td>\n",
       "    </tr>\n",
       "    <tr>\n",
       "      <th>кофейня</th>\n",
       "      <td>111.199734</td>\n",
       "      <td>80.0</td>\n",
       "    </tr>\n",
       "    <tr>\n",
       "      <th>пиццерия</th>\n",
       "      <td>94.496487</td>\n",
       "      <td>55.0</td>\n",
       "    </tr>\n",
       "    <tr>\n",
       "      <th>ресторан</th>\n",
       "      <td>121.892041</td>\n",
       "      <td>86.0</td>\n",
       "    </tr>\n",
       "    <tr>\n",
       "      <th>столовая</th>\n",
       "      <td>99.750000</td>\n",
       "      <td>75.5</td>\n",
       "    </tr>\n",
       "  </tbody>\n",
       "</table>\n",
       "</div>"
      ],
      "text/plain": [
       "                      seats       \n",
       "                       mean median\n",
       "category                          \n",
       "бар,паб          124.477516   82.0\n",
       "булочная          89.385135   50.0\n",
       "быстрое питание   98.891117   65.0\n",
       "кафе              97.365653   60.0\n",
       "кофейня          111.199734   80.0\n",
       "пиццерия          94.496487   55.0\n",
       "ресторан         121.892041   86.0\n",
       "столовая          99.750000   75.5"
      ]
     },
     "execution_count": 24,
     "metadata": {},
     "output_type": "execute_result"
    }
   ],
   "source": [
    "data.groupby(by='category').agg({ 'seats':['mean', 'median']})\n",
    "\n",
    "#data.pivot_table(index=['category'], values='seats', aggfunc=['median', 'mean'])"
   ]
  },
  {
   "cell_type": "code",
   "execution_count": 25,
   "id": "782617be",
   "metadata": {},
   "outputs": [
    {
     "data": {
      "image/png": "[encoded data removed]",
      "text/plain": [
       "<Figure size 800x560 with 1 Axes>"
      ]
     },
     "metadata": {},
     "output_type": "display_data"
    }
   ],
   "source": [
    "plt.figure(num=None, figsize=(10, 7), dpi=80, facecolor='w', edgecolor='k')\n",
    "sns.barplot(x='category', y='seats', color='#47D6EC', data=data.groupby(by='category').agg({'seats':'median'}).sort_values(by='seats', ascending=False).reset_index())\n",
    "plt.title('среднее количество мест по категориям заведений', size='15')\n",
    "plt.xticks(rotation=45)\n",
    "plt.yticks(size=15)\n",
    "plt.xlabel('Вид заведений', size='15')\n",
    "plt.ylabel('Количество заведений', size='15')\n",
    "plt.tight_layout() # трик, чтобы включить подписи графиков в сохраненную картинку\n",
    "plt.savefig('slide_1.png')\n",
    "plt.show()"
   ]
  },
  {
   "cell_type": "code",
   "execution_count": 26,
   "id": "090e5f08",
   "metadata": {},
   "outputs": [],
   "source": [
    "ranks = data.groupby(\"category\")[\"seats\"].median().fillna(0).sort_values()[::-1].index"
   ]
  },
  {
   "cell_type": "code",
   "execution_count": 27,
   "id": "f65e6337",
   "metadata": {},
   "outputs": [
    {
     "data": {
      "image/png": "[encoded data removed]",
      "text/plain": [
       "<Figure size 1200x600 with 1 Axes>"
      ]
     },
     "metadata": {},
     "output_type": "display_data"
    }
   ],
   "source": [
    "plt.figure(figsize=(12,6))\n",
    "ax = sns.boxplot(data=data, x='category', y='seats', order = ranks)\n",
    "#ax.set_ylim([0, 700]) \n",
    "plt.title('Количество посадочных мест по категориям заведений')\n",
    "plt.xlabel('Категория заведения')\n",
    "plt.ylabel('Количество посадочных мест')\n",
    "plt.show()"
   ]
  },
  {
   "cell_type": "code",
   "execution_count": 28,
   "id": "5aa8bb8f",
   "metadata": {},
   "outputs": [
    {
     "data": {
      "image/png": "[encoded data removed]",
      "text/plain": [
       "<Figure size 1200x600 with 1 Axes>"
      ]
     },
     "metadata": {},
     "output_type": "display_data"
    }
   ],
   "source": [
    "plt.figure(figsize=(12,6))\n",
    "ax = sns.boxplot(data=data, x='category', y='seats', order = ranks)\n",
    "ax.set_ylim([0, 300]) \n",
    "plt.title('Количество посадочных мест по категориям заведений')\n",
    "plt.xlabel('Категория заведения')\n",
    "plt.ylabel('Количество посадочных мест')\n",
    "plt.savefig('slide_2.png')\n",
    "plt.show()\n",
    "\n"
   ]
  },
  {
   "cell_type": "markdown",
   "id": "90df5bce",
   "metadata": {},
   "source": [
    "<div class=\"alert alert-info\">\n",
    "добавил сортировку по убыванию по медиане"
   ]
  },
  {
   "cell_type": "markdown",
   "id": "d8eaca33",
   "metadata": {},
   "source": [
    "похоже на выбросы, что это за заведения в которых по 1000 посадочных мест?\n",
    "примем выбросы свыше 700\n",
    "- в среднем в заведениях по 150 мест но есть исключения с большим количеством посадочных мест"
   ]
  },
  {
   "cell_type": "markdown",
   "id": "4b8d2b78",
   "metadata": {},
   "source": [
    "Рассмотрите и изобразите соотношение сетевых и несетевых заведений в датасете. Каких заведений больше?"
   ]
  },
  {
   "cell_type": "code",
   "execution_count": 29,
   "id": "a33ac29d",
   "metadata": {},
   "outputs": [
    {
     "data": {
      "text/plain": [
       "0    0.618781\n",
       "1    0.381219\n",
       "Name: chain, dtype: float64"
      ]
     },
     "execution_count": 29,
     "metadata": {},
     "output_type": "execute_result"
    }
   ],
   "source": [
    "data['chain'].value_counts(normalize = True)"
   ]
  },
  {
   "cell_type": "code",
   "execution_count": 30,
   "id": "8dcfc80a",
   "metadata": {},
   "outputs": [
    {
     "data": {
      "image/png": "[encoded data removed]",
      "text/plain": [
       "<Figure size 560x320 with 1 Axes>"
      ]
     },
     "metadata": {},
     "output_type": "display_data"
    }
   ],
   "source": [
    "plt.figure(num=None, figsize=(7, 4), dpi=80, facecolor='w', edgecolor='k')\n",
    "sns.barplot(x='chain', y='name',palette='Paired', data=data.groupby('chain')['name'].count().reset_index().sort_values(by='chain', ascending=False))\n",
    "plt.title('Cоотношение сетевых и несетевых заведений по количеству', size='15')\n",
    "plt.xlabel('Сетевое заведение: где 0-не сетевое, 1-сетевое', size='15')\n",
    "plt.ylabel('Количество заведений', size='15')\n",
    "plt.xticks(size='12')\n",
    "plt.tight_layout() # трик, чтобы включить подписи графиков в сохраненную картинку\n",
    "plt.savefig('slide_3.png')\n",
    "plt.show()"
   ]
  },
  {
   "cell_type": "markdown",
   "id": "59088f7f",
   "metadata": {},
   "source": [
    "Несетевых заведений больше, из данных видно что примерно в 60% - несетевые "
   ]
  },
  {
   "cell_type": "markdown",
   "id": "f30753e0",
   "metadata": {},
   "source": [
    "<div class=\"alert alert-block alert-danger\">\n",
    "    \n",
    "<b>Комментарий ревьюера:</b> Добавь, пожалуйста, здесь и дальше выводы по каждому вопросу задания. Так проект будет проще понять.\n",
    "</div>"
   ]
  },
  {
   "cell_type": "markdown",
   "id": "27af8312",
   "metadata": {},
   "source": [
    "Какие категории заведений чаще являются сетевыми? Исследуйте данные и ответьте на вопрос графиком."
   ]
  },
  {
   "cell_type": "code",
   "execution_count": 31,
   "id": "8692cb6d",
   "metadata": {},
   "outputs": [
    {
     "data": {
      "text/html": [
       "<div>\n",
       "<style scoped>\n",
       "    .dataframe tbody tr th:only-of-type {\n",
       "        vertical-align: middle;\n",
       "    }\n",
       "\n",
       "    .dataframe tbody tr th {\n",
       "        vertical-align: top;\n",
       "    }\n",
       "\n",
       "    .dataframe thead th {\n",
       "        text-align: right;\n",
       "    }\n",
       "</style>\n",
       "<table border=\"1\" class=\"dataframe\">\n",
       "  <thead>\n",
       "    <tr style=\"text-align: right;\">\n",
       "      <th></th>\n",
       "      <th>chain</th>\n",
       "    </tr>\n",
       "    <tr>\n",
       "      <th>category</th>\n",
       "      <th></th>\n",
       "    </tr>\n",
       "  </thead>\n",
       "  <tbody>\n",
       "    <tr>\n",
       "      <th>булочная</th>\n",
       "      <td>0.613281</td>\n",
       "    </tr>\n",
       "    <tr>\n",
       "      <th>пиццерия</th>\n",
       "      <td>0.521327</td>\n",
       "    </tr>\n",
       "    <tr>\n",
       "      <th>кофейня</th>\n",
       "      <td>0.509554</td>\n",
       "    </tr>\n",
       "    <tr>\n",
       "      <th>быстрое питание</th>\n",
       "      <td>0.384743</td>\n",
       "    </tr>\n",
       "    <tr>\n",
       "      <th>ресторан</th>\n",
       "      <td>0.357003</td>\n",
       "    </tr>\n",
       "    <tr>\n",
       "      <th>кафе</th>\n",
       "      <td>0.327862</td>\n",
       "    </tr>\n",
       "    <tr>\n",
       "      <th>столовая</th>\n",
       "      <td>0.279365</td>\n",
       "    </tr>\n",
       "    <tr>\n",
       "      <th>бар,паб</th>\n",
       "      <td>0.219895</td>\n",
       "    </tr>\n",
       "  </tbody>\n",
       "</table>\n",
       "</div>"
      ],
      "text/plain": [
       "                    chain\n",
       "category                 \n",
       "булочная         0.613281\n",
       "пиццерия         0.521327\n",
       "кофейня          0.509554\n",
       "быстрое питание  0.384743\n",
       "ресторан         0.357003\n",
       "кафе             0.327862\n",
       "столовая         0.279365\n",
       "бар,паб          0.219895"
      ]
     },
     "execution_count": 31,
     "metadata": {},
     "output_type": "execute_result"
    }
   ],
   "source": [
    "data.groupby('category').agg({'chain': 'mean'}).sort_values(by='chain', ascending=False)"
   ]
  },
  {
   "cell_type": "code",
   "execution_count": 32,
   "id": "8e3ee5c5",
   "metadata": {},
   "outputs": [
    {
     "data": {
      "image/png": "[encoded data removed]",
      "text/plain": [
       "<Figure size 960x560 with 1 Axes>"
      ]
     },
     "metadata": {},
     "output_type": "display_data"
    }
   ],
   "source": [
    "plt.figure(num=None, figsize=(12, 7), dpi=80, facecolor='w', edgecolor='k')\n",
    "sns.barplot(x='category', y='chain', color='#47D6EC', data=data.groupby('category').agg({'chain': 'mean'}).sort_values(by='chain', ascending=False).reset_index())\n",
    "plt.title('Количество сетевых заведений общественного питания', size='15')\n",
    "plt.xticks(rotation=45)\n",
    "plt.yticks(size=15)\n",
    "plt.xlabel('Количество заведений', size='15')\n",
    "plt.ylabel('Категория заведения', size='15')\n",
    "plt.tight_layout() # трик, чтобы включить подписи графиков в сохраненную картинку\n",
    "plt.savefig('slide_4.png')\n",
    "plt.show()"
   ]
  },
  {
   "cell_type": "markdown",
   "id": "8a5bc6cb",
   "metadata": {},
   "source": [
    "<div class=\"alert alert-info\">\n",
    "сетевыми чаще являются \n",
    "булочные, пицерии, кофейни"
   ]
  },
  {
   "cell_type": "code",
   "execution_count": 33,
   "id": "a97be779",
   "metadata": {},
   "outputs": [
    {
     "data": {
      "text/html": [
       "<div>\n",
       "<style scoped>\n",
       "    .dataframe tbody tr th:only-of-type {\n",
       "        vertical-align: middle;\n",
       "    }\n",
       "\n",
       "    .dataframe tbody tr th {\n",
       "        vertical-align: top;\n",
       "    }\n",
       "\n",
       "    .dataframe thead th {\n",
       "        text-align: right;\n",
       "    }\n",
       "</style>\n",
       "<table border=\"1\" class=\"dataframe\">\n",
       "  <thead>\n",
       "    <tr style=\"text-align: right;\">\n",
       "      <th>chain</th>\n",
       "      <th>0</th>\n",
       "      <th>1</th>\n",
       "    </tr>\n",
       "    <tr>\n",
       "      <th>category</th>\n",
       "      <th></th>\n",
       "      <th></th>\n",
       "    </tr>\n",
       "  </thead>\n",
       "  <tbody>\n",
       "    <tr>\n",
       "      <th>столовая</th>\n",
       "      <td>227</td>\n",
       "      <td>88</td>\n",
       "    </tr>\n",
       "    <tr>\n",
       "      <th>булочная</th>\n",
       "      <td>99</td>\n",
       "      <td>157</td>\n",
       "    </tr>\n",
       "    <tr>\n",
       "      <th>бар,паб</th>\n",
       "      <td>596</td>\n",
       "      <td>168</td>\n",
       "    </tr>\n",
       "    <tr>\n",
       "      <th>быстрое питание</th>\n",
       "      <td>371</td>\n",
       "      <td>232</td>\n",
       "    </tr>\n",
       "    <tr>\n",
       "      <th>пиццерия</th>\n",
       "      <td>303</td>\n",
       "      <td>330</td>\n",
       "    </tr>\n",
       "    <tr>\n",
       "      <th>кофейня</th>\n",
       "      <td>693</td>\n",
       "      <td>720</td>\n",
       "    </tr>\n",
       "    <tr>\n",
       "      <th>ресторан</th>\n",
       "      <td>1313</td>\n",
       "      <td>729</td>\n",
       "    </tr>\n",
       "    <tr>\n",
       "      <th>кафе</th>\n",
       "      <td>1597</td>\n",
       "      <td>779</td>\n",
       "    </tr>\n",
       "  </tbody>\n",
       "</table>\n",
       "</div>"
      ],
      "text/plain": [
       "chain               0    1\n",
       "category                  \n",
       "столовая          227   88\n",
       "булочная           99  157\n",
       "бар,паб           596  168\n",
       "быстрое питание   371  232\n",
       "пиццерия          303  330\n",
       "кофейня           693  720\n",
       "ресторан         1313  729\n",
       "кафе             1597  779"
      ]
     },
     "execution_count": 33,
     "metadata": {},
     "output_type": "execute_result"
    }
   ],
   "source": [
    "chain_data = data.pivot_table(index='category', columns='chain', values='name', aggfunc='count')\n",
    "chain_data = chain_data.sort_values(by=1, ascending = True)\n",
    "chain_data"
   ]
  },
  {
   "cell_type": "code",
   "execution_count": 34,
   "id": "a5cada47",
   "metadata": {},
   "outputs": [
    {
     "data": {
      "image/png": "[encoded data removed]",
      "text/plain": [
       "<Figure size 1700x1000 with 1 Axes>"
      ]
     },
     "metadata": {},
     "output_type": "display_data"
    }
   ],
   "source": [
    "chain_data.plot(kind='barh',figsize = (17,10))\n",
    "plt.title('Cоотношение сетевых и несетевых заведений по типу', size='15')\n",
    "plt.xlabel('Количество заведений', size='15')\n",
    "plt.ylabel('Тип заведения', size='15')\n",
    "plt.xticks(size=12)\n",
    "plt.yticks(size=15)\n",
    "plt.legend(loc='lower right', bbox_to_anchor=(0.85, 0.20), fontsize = 20,title = 'Сетевое нет/да',title_fontsize = 20 )\n",
    "plt.tight_layout() # трик, чтобы включить подписи графиков в сохраненную картинку\n",
    "plt.savefig('slide_5.png')\n",
    "plt.show()"
   ]
  },
  {
   "cell_type": "markdown",
   "id": "d6dfc8c5",
   "metadata": {},
   "source": [
    "Сгруппируйте данные по названиям заведений и найдите топ-15 популярных сетей в Москве. Под популярностью понимается количество заведений этой сети в регионе. Постройте подходящую для такой информации визуализацию. Знакомы ли вам эти сети? Есть ли какой-то признак, который их объединяет? К какой категории заведений они относятся?"
   ]
  },
  {
   "cell_type": "code",
   "execution_count": 35,
   "id": "0d2db6ea",
   "metadata": {},
   "outputs": [],
   "source": [
    "df_chain_1 = data[data['chain'] == 1]"
   ]
  },
  {
   "cell_type": "code",
   "execution_count": 36,
   "id": "e2e6561b",
   "metadata": {},
   "outputs": [
    {
     "data": {
      "text/html": [
       "<div>\n",
       "<style scoped>\n",
       "    .dataframe tbody tr th:only-of-type {\n",
       "        vertical-align: middle;\n",
       "    }\n",
       "\n",
       "    .dataframe tbody tr th {\n",
       "        vertical-align: top;\n",
       "    }\n",
       "\n",
       "    .dataframe thead th {\n",
       "        text-align: right;\n",
       "    }\n",
       "</style>\n",
       "<table border=\"1\" class=\"dataframe\">\n",
       "  <thead>\n",
       "    <tr style=\"text-align: right;\">\n",
       "      <th></th>\n",
       "      <th>category</th>\n",
       "    </tr>\n",
       "    <tr>\n",
       "      <th>name</th>\n",
       "      <th></th>\n",
       "    </tr>\n",
       "  </thead>\n",
       "  <tbody>\n",
       "    <tr>\n",
       "      <th>шоколадница</th>\n",
       "      <td>120</td>\n",
       "    </tr>\n",
       "    <tr>\n",
       "      <th>домино'с пицца</th>\n",
       "      <td>76</td>\n",
       "    </tr>\n",
       "    <tr>\n",
       "      <th>додо пицца</th>\n",
       "      <td>74</td>\n",
       "    </tr>\n",
       "    <tr>\n",
       "      <th>one price coffee</th>\n",
       "      <td>71</td>\n",
       "    </tr>\n",
       "    <tr>\n",
       "      <th>яндекс лавка</th>\n",
       "      <td>69</td>\n",
       "    </tr>\n",
       "    <tr>\n",
       "      <th>cofix</th>\n",
       "      <td>65</td>\n",
       "    </tr>\n",
       "    <tr>\n",
       "      <th>prime</th>\n",
       "      <td>50</td>\n",
       "    </tr>\n",
       "    <tr>\n",
       "      <th>хинкальная</th>\n",
       "      <td>44</td>\n",
       "    </tr>\n",
       "    <tr>\n",
       "      <th>кофепорт</th>\n",
       "      <td>42</td>\n",
       "    </tr>\n",
       "    <tr>\n",
       "      <th>кулинарная лавка братьев караваевых</th>\n",
       "      <td>39</td>\n",
       "    </tr>\n",
       "    <tr>\n",
       "      <th>теремок</th>\n",
       "      <td>38</td>\n",
       "    </tr>\n",
       "    <tr>\n",
       "      <th>чайхана</th>\n",
       "      <td>37</td>\n",
       "    </tr>\n",
       "    <tr>\n",
       "      <th>cofefest</th>\n",
       "      <td>32</td>\n",
       "    </tr>\n",
       "    <tr>\n",
       "      <th>буханка</th>\n",
       "      <td>32</td>\n",
       "    </tr>\n",
       "    <tr>\n",
       "      <th>му-му</th>\n",
       "      <td>27</td>\n",
       "    </tr>\n",
       "  </tbody>\n",
       "</table>\n",
       "</div>"
      ],
      "text/plain": [
       "                                     category\n",
       "name                                         \n",
       "шоколадница                               120\n",
       "домино'с пицца                             76\n",
       "додо пицца                                 74\n",
       "one price coffee                           71\n",
       "яндекс лавка                               69\n",
       "cofix                                      65\n",
       "prime                                      50\n",
       "хинкальная                                 44\n",
       "кофепорт                                   42\n",
       "кулинарная лавка братьев караваевых        39\n",
       "теремок                                    38\n",
       "чайхана                                    37\n",
       "cofefest                                   32\n",
       "буханка                                    32\n",
       "му-му                                      27"
      ]
     },
     "execution_count": 36,
     "metadata": {},
     "output_type": "execute_result"
    }
   ],
   "source": [
    "df_top_1 = (df_chain_1\n",
    "          .pivot_table(index='name', values='category', aggfunc='count')\n",
    "          .sort_values(by='category', ascending=False)\n",
    "          .head(15)\n",
    "            )\n",
    "df_top_1"
   ]
  },
  {
   "cell_type": "code",
   "execution_count": 37,
   "id": "bf12d778",
   "metadata": {},
   "outputs": [
    {
     "data": {
      "image/png": "[encoded data removed]",
      "text/plain": [
       "<Figure size 1000x500 with 1 Axes>"
      ]
     },
     "metadata": {},
     "output_type": "display_data"
    }
   ],
   "source": [
    "df_top_1['category'].plot(kind='pie',figsize = (10,5))\n",
    "plt.title('топ 15 сетевых заведений', size='15')\n",
    "plt.ylabel('')\n",
    "plt.show()"
   ]
  },
  {
   "cell_type": "code",
   "execution_count": 38,
   "id": "3177bfba",
   "metadata": {},
   "outputs": [
    {
     "data": {
      "text/plain": [
       "Index(['шоколадница', 'домино'с пицца', 'додо пицца', 'one price coffee',\n",
       "       'яндекс лавка', 'cofix', 'prime', 'хинкальная', 'кофепорт',\n",
       "       'кулинарная лавка братьев караваевых', 'теремок', 'чайхана', 'cofefest',\n",
       "       'буханка', 'му-му'],\n",
       "      dtype='object', name='name')"
      ]
     },
     "execution_count": 38,
     "metadata": {},
     "output_type": "execute_result"
    }
   ],
   "source": [
    "df_top_1.index"
   ]
  },
  {
   "cell_type": "code",
   "execution_count": 39,
   "id": "af38b8ef",
   "metadata": {},
   "outputs": [],
   "source": [
    "top_15 = data[data['name'].isin(df_top_1.index)]"
   ]
  },
  {
   "cell_type": "code",
   "execution_count": 40,
   "id": "c84c42f0",
   "metadata": {},
   "outputs": [
    {
     "data": {
      "image/png": "[encoded data removed]",
      "text/plain": [
       "<Figure size 1000x500 with 1 Axes>"
      ]
     },
     "metadata": {},
     "output_type": "display_data"
    }
   ],
   "source": [
    "top_15.groupby('category')['name'].count().sort_values(ascending = False).plot(kind='bar',figsize = (10,5))\n",
    "plt.xticks(rotation=45)\n",
    "plt.title('количество топовых 15 сетевых заведений по категориям', size='15')\n",
    "plt.xlabel('Категории заведений')\n",
    "plt.ylabel('количество заведений')\n",
    "plt.show()"
   ]
  },
  {
   "cell_type": "markdown",
   "id": "5544e374",
   "metadata": {},
   "source": [
    "<div class=\"alert alert-info\">\n",
    "большинство из топ 15 заведений относятся к кофейням"
   ]
  },
  {
   "cell_type": "code",
   "execution_count": 41,
   "id": "4442c295",
   "metadata": {},
   "outputs": [
    {
     "data": {
      "text/html": [
       "<div>\n",
       "<style scoped>\n",
       "    .dataframe tbody tr th:only-of-type {\n",
       "        vertical-align: middle;\n",
       "    }\n",
       "\n",
       "    .dataframe tbody tr th {\n",
       "        vertical-align: top;\n",
       "    }\n",
       "\n",
       "    .dataframe thead th {\n",
       "        text-align: right;\n",
       "    }\n",
       "</style>\n",
       "<table border=\"1\" class=\"dataframe\">\n",
       "  <thead>\n",
       "    <tr style=\"text-align: right;\">\n",
       "      <th></th>\n",
       "      <th>name</th>\n",
       "      <th>category</th>\n",
       "    </tr>\n",
       "  </thead>\n",
       "  <tbody>\n",
       "    <tr>\n",
       "      <th>5051</th>\n",
       "      <td>cofefest</td>\n",
       "      <td>кафе</td>\n",
       "    </tr>\n",
       "    <tr>\n",
       "      <th>46</th>\n",
       "      <td>cofefest</td>\n",
       "      <td>кофейня</td>\n",
       "    </tr>\n",
       "    <tr>\n",
       "      <th>52</th>\n",
       "      <td>cofix</td>\n",
       "      <td>кофейня</td>\n",
       "    </tr>\n",
       "    <tr>\n",
       "      <th>143</th>\n",
       "      <td>one price coffee</td>\n",
       "      <td>кофейня</td>\n",
       "    </tr>\n",
       "    <tr>\n",
       "      <th>5198</th>\n",
       "      <td>prime</td>\n",
       "      <td>кафе</td>\n",
       "    </tr>\n",
       "    <tr>\n",
       "      <th>1311</th>\n",
       "      <td>prime</td>\n",
       "      <td>ресторан</td>\n",
       "    </tr>\n",
       "    <tr>\n",
       "      <th>13</th>\n",
       "      <td>буханка</td>\n",
       "      <td>булочная</td>\n",
       "    </tr>\n",
       "    <tr>\n",
       "      <th>872</th>\n",
       "      <td>буханка</td>\n",
       "      <td>кофейня</td>\n",
       "    </tr>\n",
       "    <tr>\n",
       "      <th>6661</th>\n",
       "      <td>буханка</td>\n",
       "      <td>кафе</td>\n",
       "    </tr>\n",
       "    <tr>\n",
       "      <th>32</th>\n",
       "      <td>додо пицца</td>\n",
       "      <td>пиццерия</td>\n",
       "    </tr>\n",
       "    <tr>\n",
       "      <th>34</th>\n",
       "      <td>домино'с пицца</td>\n",
       "      <td>пиццерия</td>\n",
       "    </tr>\n",
       "    <tr>\n",
       "      <th>548</th>\n",
       "      <td>кофепорт</td>\n",
       "      <td>кофейня</td>\n",
       "    </tr>\n",
       "    <tr>\n",
       "      <th>1345</th>\n",
       "      <td>кулинарная лавка братьев караваевых</td>\n",
       "      <td>кафе</td>\n",
       "    </tr>\n",
       "    <tr>\n",
       "      <th>80</th>\n",
       "      <td>му-му</td>\n",
       "      <td>кафе</td>\n",
       "    </tr>\n",
       "    <tr>\n",
       "      <th>4810</th>\n",
       "      <td>му-му</td>\n",
       "      <td>столовая</td>\n",
       "    </tr>\n",
       "    <tr>\n",
       "      <th>3955</th>\n",
       "      <td>му-му</td>\n",
       "      <td>пиццерия</td>\n",
       "    </tr>\n",
       "    <tr>\n",
       "      <th>5313</th>\n",
       "      <td>му-му</td>\n",
       "      <td>бар,паб</td>\n",
       "    </tr>\n",
       "    <tr>\n",
       "      <th>2170</th>\n",
       "      <td>му-му</td>\n",
       "      <td>быстрое питание</td>\n",
       "    </tr>\n",
       "    <tr>\n",
       "      <th>1858</th>\n",
       "      <td>му-му</td>\n",
       "      <td>кофейня</td>\n",
       "    </tr>\n",
       "    <tr>\n",
       "      <th>1718</th>\n",
       "      <td>му-му</td>\n",
       "      <td>ресторан</td>\n",
       "    </tr>\n",
       "    <tr>\n",
       "      <th>107</th>\n",
       "      <td>теремок</td>\n",
       "      <td>ресторан</td>\n",
       "    </tr>\n",
       "    <tr>\n",
       "      <th>1294</th>\n",
       "      <td>теремок</td>\n",
       "      <td>быстрое питание</td>\n",
       "    </tr>\n",
       "    <tr>\n",
       "      <th>1281</th>\n",
       "      <td>хинкальная</td>\n",
       "      <td>кафе</td>\n",
       "    </tr>\n",
       "    <tr>\n",
       "      <th>1302</th>\n",
       "      <td>хинкальная</td>\n",
       "      <td>ресторан</td>\n",
       "    </tr>\n",
       "    <tr>\n",
       "      <th>2292</th>\n",
       "      <td>хинкальная</td>\n",
       "      <td>столовая</td>\n",
       "    </tr>\n",
       "    <tr>\n",
       "      <th>138</th>\n",
       "      <td>хинкальная</td>\n",
       "      <td>быстрое питание</td>\n",
       "    </tr>\n",
       "    <tr>\n",
       "      <th>2693</th>\n",
       "      <td>хинкальная</td>\n",
       "      <td>бар,паб</td>\n",
       "    </tr>\n",
       "    <tr>\n",
       "      <th>109</th>\n",
       "      <td>чайхана</td>\n",
       "      <td>кафе</td>\n",
       "    </tr>\n",
       "    <tr>\n",
       "      <th>394</th>\n",
       "      <td>чайхана</td>\n",
       "      <td>быстрое питание</td>\n",
       "    </tr>\n",
       "    <tr>\n",
       "      <th>1216</th>\n",
       "      <td>чайхана</td>\n",
       "      <td>ресторан</td>\n",
       "    </tr>\n",
       "    <tr>\n",
       "      <th>151</th>\n",
       "      <td>шоколадница</td>\n",
       "      <td>кофейня</td>\n",
       "    </tr>\n",
       "    <tr>\n",
       "      <th>512</th>\n",
       "      <td>шоколадница</td>\n",
       "      <td>кафе</td>\n",
       "    </tr>\n",
       "    <tr>\n",
       "      <th>162</th>\n",
       "      <td>яндекс лавка</td>\n",
       "      <td>ресторан</td>\n",
       "    </tr>\n",
       "  </tbody>\n",
       "</table>\n",
       "</div>"
      ],
      "text/plain": [
       "                                     name         category\n",
       "5051                             cofefest             кафе\n",
       "46                               cofefest          кофейня\n",
       "52                                  cofix          кофейня\n",
       "143                      one price coffee          кофейня\n",
       "5198                                prime             кафе\n",
       "1311                                prime         ресторан\n",
       "13                                буханка         булочная\n",
       "872                               буханка          кофейня\n",
       "6661                              буханка             кафе\n",
       "32                             додо пицца         пиццерия\n",
       "34                         домино'с пицца         пиццерия\n",
       "548                              кофепорт          кофейня\n",
       "1345  кулинарная лавка братьев караваевых             кафе\n",
       "80                                  му-му             кафе\n",
       "4810                                му-му         столовая\n",
       "3955                                му-му         пиццерия\n",
       "5313                                му-му          бар,паб\n",
       "2170                                му-му  быстрое питание\n",
       "1858                                му-му          кофейня\n",
       "1718                                му-му         ресторан\n",
       "107                               теремок         ресторан\n",
       "1294                              теремок  быстрое питание\n",
       "1281                           хинкальная             кафе\n",
       "1302                           хинкальная         ресторан\n",
       "2292                           хинкальная         столовая\n",
       "138                            хинкальная  быстрое питание\n",
       "2693                           хинкальная          бар,паб\n",
       "109                               чайхана             кафе\n",
       "394                               чайхана  быстрое питание\n",
       "1216                              чайхана         ресторан\n",
       "151                           шоколадница          кофейня\n",
       "512                           шоколадница             кафе\n",
       "162                          яндекс лавка         ресторан"
      ]
     },
     "execution_count": 41,
     "metadata": {},
     "output_type": "execute_result"
    }
   ],
   "source": [
    "top_15[['name', 'category']].drop_duplicates().sort_values(by = 'name')"
   ]
  },
  {
   "cell_type": "markdown",
   "id": "130e0648",
   "metadata": {},
   "source": [
    "<div class=\"alert alert-info\">\n",
    "    категории для топ 15 заведений "
   ]
  },
  {
   "cell_type": "markdown",
   "id": "dd41a4dc",
   "metadata": {},
   "source": [
    "- тут видно какие сетевые кафе самые популярные"
   ]
  },
  {
   "cell_type": "markdown",
   "id": "48a95d84",
   "metadata": {},
   "source": [
    "Какие административные районы Москвы присутствуют в датасете? Отобразите общее количество заведений и количество заведений каждой категории по районам. Попробуйте проиллюстрировать эту информацию одним графиком."
   ]
  },
  {
   "cell_type": "markdown",
   "id": "5e8ad823",
   "metadata": {},
   "source": [
    "сортируем по убыванию общее количеству заведений по районам и делаем список значений индекса"
   ]
  },
  {
   "cell_type": "code",
   "execution_count": 42,
   "id": "d3531ebc",
   "metadata": {},
   "outputs": [],
   "source": [
    "l = data.pivot_table(index='district', values='name', aggfunc='count').sort_values(by='name', ascending=False).index"
   ]
  },
  {
   "cell_type": "code",
   "execution_count": 43,
   "id": "3fa47835",
   "metadata": {},
   "outputs": [
    {
     "data": {
      "text/plain": [
       "Index(['Центральный административный округ', 'Северный административный округ',\n",
       "       'Южный административный округ',\n",
       "       'Северо-Восточный административный округ',\n",
       "       'Западный административный округ', 'Восточный административный округ',\n",
       "       'Юго-Восточный административный округ',\n",
       "       'Юго-Западный административный округ',\n",
       "       'Северо-Западный административный округ'],\n",
       "      dtype='object', name='district')"
      ]
     },
     "execution_count": 43,
     "metadata": {},
     "output_type": "execute_result"
    }
   ],
   "source": [
    "l"
   ]
  },
  {
   "cell_type": "code",
   "execution_count": 44,
   "id": "624a811a",
   "metadata": {},
   "outputs": [
    {
     "data": {
      "text/html": [
       "<div>\n",
       "<style scoped>\n",
       "    .dataframe tbody tr th:only-of-type {\n",
       "        vertical-align: middle;\n",
       "    }\n",
       "\n",
       "    .dataframe tbody tr th {\n",
       "        vertical-align: top;\n",
       "    }\n",
       "\n",
       "    .dataframe thead th {\n",
       "        text-align: right;\n",
       "    }\n",
       "</style>\n",
       "<table border=\"1\" class=\"dataframe\">\n",
       "  <thead>\n",
       "    <tr style=\"text-align: right;\">\n",
       "      <th>category</th>\n",
       "      <th>бар,паб</th>\n",
       "      <th>булочная</th>\n",
       "      <th>быстрое питание</th>\n",
       "      <th>кафе</th>\n",
       "      <th>кофейня</th>\n",
       "      <th>пиццерия</th>\n",
       "      <th>ресторан</th>\n",
       "      <th>столовая</th>\n",
       "    </tr>\n",
       "    <tr>\n",
       "      <th>district</th>\n",
       "      <th></th>\n",
       "      <th></th>\n",
       "      <th></th>\n",
       "      <th></th>\n",
       "      <th></th>\n",
       "      <th></th>\n",
       "      <th></th>\n",
       "      <th></th>\n",
       "    </tr>\n",
       "  </thead>\n",
       "  <tbody>\n",
       "    <tr>\n",
       "      <th>Восточный административный округ</th>\n",
       "      <td>53</td>\n",
       "      <td>25</td>\n",
       "      <td>71</td>\n",
       "      <td>272</td>\n",
       "      <td>105</td>\n",
       "      <td>72</td>\n",
       "      <td>160</td>\n",
       "      <td>40</td>\n",
       "    </tr>\n",
       "    <tr>\n",
       "      <th>Западный административный округ</th>\n",
       "      <td>50</td>\n",
       "      <td>37</td>\n",
       "      <td>62</td>\n",
       "      <td>238</td>\n",
       "      <td>150</td>\n",
       "      <td>71</td>\n",
       "      <td>218</td>\n",
       "      <td>24</td>\n",
       "    </tr>\n",
       "    <tr>\n",
       "      <th>Северный административный округ</th>\n",
       "      <td>68</td>\n",
       "      <td>39</td>\n",
       "      <td>58</td>\n",
       "      <td>234</td>\n",
       "      <td>193</td>\n",
       "      <td>77</td>\n",
       "      <td>188</td>\n",
       "      <td>41</td>\n",
       "    </tr>\n",
       "    <tr>\n",
       "      <th>Северо-Восточный административный округ</th>\n",
       "      <td>62</td>\n",
       "      <td>28</td>\n",
       "      <td>82</td>\n",
       "      <td>269</td>\n",
       "      <td>159</td>\n",
       "      <td>68</td>\n",
       "      <td>182</td>\n",
       "      <td>40</td>\n",
       "    </tr>\n",
       "    <tr>\n",
       "      <th>Северо-Западный административный округ</th>\n",
       "      <td>23</td>\n",
       "      <td>12</td>\n",
       "      <td>30</td>\n",
       "      <td>115</td>\n",
       "      <td>62</td>\n",
       "      <td>40</td>\n",
       "      <td>109</td>\n",
       "      <td>18</td>\n",
       "    </tr>\n",
       "    <tr>\n",
       "      <th>Центральный административный округ</th>\n",
       "      <td>364</td>\n",
       "      <td>50</td>\n",
       "      <td>87</td>\n",
       "      <td>464</td>\n",
       "      <td>428</td>\n",
       "      <td>113</td>\n",
       "      <td>670</td>\n",
       "      <td>66</td>\n",
       "    </tr>\n",
       "    <tr>\n",
       "      <th>Юго-Восточный административный округ</th>\n",
       "      <td>38</td>\n",
       "      <td>13</td>\n",
       "      <td>67</td>\n",
       "      <td>282</td>\n",
       "      <td>89</td>\n",
       "      <td>55</td>\n",
       "      <td>145</td>\n",
       "      <td>25</td>\n",
       "    </tr>\n",
       "    <tr>\n",
       "      <th>Юго-Западный административный округ</th>\n",
       "      <td>38</td>\n",
       "      <td>27</td>\n",
       "      <td>61</td>\n",
       "      <td>238</td>\n",
       "      <td>96</td>\n",
       "      <td>64</td>\n",
       "      <td>168</td>\n",
       "      <td>17</td>\n",
       "    </tr>\n",
       "    <tr>\n",
       "      <th>Южный административный округ</th>\n",
       "      <td>68</td>\n",
       "      <td>25</td>\n",
       "      <td>85</td>\n",
       "      <td>264</td>\n",
       "      <td>131</td>\n",
       "      <td>73</td>\n",
       "      <td>202</td>\n",
       "      <td>44</td>\n",
       "    </tr>\n",
       "  </tbody>\n",
       "</table>\n",
       "</div>"
      ],
      "text/plain": [
       "category                                 бар,паб  булочная  быстрое питание  \\\n",
       "district                                                                      \n",
       "Восточный административный округ              53        25               71   \n",
       "Западный административный округ               50        37               62   \n",
       "Северный административный округ               68        39               58   \n",
       "Северо-Восточный административный округ       62        28               82   \n",
       "Северо-Западный административный округ        23        12               30   \n",
       "Центральный административный округ           364        50               87   \n",
       "Юго-Восточный административный округ          38        13               67   \n",
       "Юго-Западный административный округ           38        27               61   \n",
       "Южный административный округ                  68        25               85   \n",
       "\n",
       "category                                 кафе  кофейня  пиццерия  ресторан  \\\n",
       "district                                                                     \n",
       "Восточный административный округ          272      105        72       160   \n",
       "Западный административный округ           238      150        71       218   \n",
       "Северный административный округ           234      193        77       188   \n",
       "Северо-Восточный административный округ   269      159        68       182   \n",
       "Северо-Западный административный округ    115       62        40       109   \n",
       "Центральный административный округ        464      428       113       670   \n",
       "Юго-Восточный административный округ      282       89        55       145   \n",
       "Юго-Западный административный округ       238       96        64       168   \n",
       "Южный административный округ              264      131        73       202   \n",
       "\n",
       "category                                 столовая  \n",
       "district                                           \n",
       "Восточный административный округ               40  \n",
       "Западный административный округ                24  \n",
       "Северный административный округ                41  \n",
       "Северо-Восточный административный округ        40  \n",
       "Северо-Западный административный округ         18  \n",
       "Центральный административный округ             66  \n",
       "Юго-Восточный административный округ           25  \n",
       "Юго-Западный административный округ            17  \n",
       "Южный административный округ                   44  "
      ]
     },
     "execution_count": 44,
     "metadata": {},
     "output_type": "execute_result"
    }
   ],
   "source": [
    "pivot_dist = data.pivot_table(index='district', columns='category', values='name', aggfunc='count')\n",
    "pivot_dist"
   ]
  },
  {
   "cell_type": "markdown",
   "id": "0c054360",
   "metadata": {},
   "source": [
    "задаем порядок в датасете по значению отсортированому в l"
   ]
  },
  {
   "cell_type": "code",
   "execution_count": 45,
   "id": "d1ceace2",
   "metadata": {},
   "outputs": [
    {
     "data": {
      "text/html": [
       "<div>\n",
       "<style scoped>\n",
       "    .dataframe tbody tr th:only-of-type {\n",
       "        vertical-align: middle;\n",
       "    }\n",
       "\n",
       "    .dataframe tbody tr th {\n",
       "        vertical-align: top;\n",
       "    }\n",
       "\n",
       "    .dataframe thead th {\n",
       "        text-align: right;\n",
       "    }\n",
       "</style>\n",
       "<table border=\"1\" class=\"dataframe\">\n",
       "  <thead>\n",
       "    <tr style=\"text-align: right;\">\n",
       "      <th>category</th>\n",
       "      <th>бар,паб</th>\n",
       "      <th>булочная</th>\n",
       "      <th>быстрое питание</th>\n",
       "      <th>кафе</th>\n",
       "      <th>кофейня</th>\n",
       "      <th>пиццерия</th>\n",
       "      <th>ресторан</th>\n",
       "      <th>столовая</th>\n",
       "    </tr>\n",
       "    <tr>\n",
       "      <th>district</th>\n",
       "      <th></th>\n",
       "      <th></th>\n",
       "      <th></th>\n",
       "      <th></th>\n",
       "      <th></th>\n",
       "      <th></th>\n",
       "      <th></th>\n",
       "      <th></th>\n",
       "    </tr>\n",
       "  </thead>\n",
       "  <tbody>\n",
       "    <tr>\n",
       "      <th>Центральный административный округ</th>\n",
       "      <td>364</td>\n",
       "      <td>50</td>\n",
       "      <td>87</td>\n",
       "      <td>464</td>\n",
       "      <td>428</td>\n",
       "      <td>113</td>\n",
       "      <td>670</td>\n",
       "      <td>66</td>\n",
       "    </tr>\n",
       "    <tr>\n",
       "      <th>Северный административный округ</th>\n",
       "      <td>68</td>\n",
       "      <td>39</td>\n",
       "      <td>58</td>\n",
       "      <td>234</td>\n",
       "      <td>193</td>\n",
       "      <td>77</td>\n",
       "      <td>188</td>\n",
       "      <td>41</td>\n",
       "    </tr>\n",
       "    <tr>\n",
       "      <th>Южный административный округ</th>\n",
       "      <td>68</td>\n",
       "      <td>25</td>\n",
       "      <td>85</td>\n",
       "      <td>264</td>\n",
       "      <td>131</td>\n",
       "      <td>73</td>\n",
       "      <td>202</td>\n",
       "      <td>44</td>\n",
       "    </tr>\n",
       "    <tr>\n",
       "      <th>Северо-Восточный административный округ</th>\n",
       "      <td>62</td>\n",
       "      <td>28</td>\n",
       "      <td>82</td>\n",
       "      <td>269</td>\n",
       "      <td>159</td>\n",
       "      <td>68</td>\n",
       "      <td>182</td>\n",
       "      <td>40</td>\n",
       "    </tr>\n",
       "    <tr>\n",
       "      <th>Западный административный округ</th>\n",
       "      <td>50</td>\n",
       "      <td>37</td>\n",
       "      <td>62</td>\n",
       "      <td>238</td>\n",
       "      <td>150</td>\n",
       "      <td>71</td>\n",
       "      <td>218</td>\n",
       "      <td>24</td>\n",
       "    </tr>\n",
       "    <tr>\n",
       "      <th>Восточный административный округ</th>\n",
       "      <td>53</td>\n",
       "      <td>25</td>\n",
       "      <td>71</td>\n",
       "      <td>272</td>\n",
       "      <td>105</td>\n",
       "      <td>72</td>\n",
       "      <td>160</td>\n",
       "      <td>40</td>\n",
       "    </tr>\n",
       "    <tr>\n",
       "      <th>Юго-Восточный административный округ</th>\n",
       "      <td>38</td>\n",
       "      <td>13</td>\n",
       "      <td>67</td>\n",
       "      <td>282</td>\n",
       "      <td>89</td>\n",
       "      <td>55</td>\n",
       "      <td>145</td>\n",
       "      <td>25</td>\n",
       "    </tr>\n",
       "    <tr>\n",
       "      <th>Юго-Западный административный округ</th>\n",
       "      <td>38</td>\n",
       "      <td>27</td>\n",
       "      <td>61</td>\n",
       "      <td>238</td>\n",
       "      <td>96</td>\n",
       "      <td>64</td>\n",
       "      <td>168</td>\n",
       "      <td>17</td>\n",
       "    </tr>\n",
       "    <tr>\n",
       "      <th>Северо-Западный административный округ</th>\n",
       "      <td>23</td>\n",
       "      <td>12</td>\n",
       "      <td>30</td>\n",
       "      <td>115</td>\n",
       "      <td>62</td>\n",
       "      <td>40</td>\n",
       "      <td>109</td>\n",
       "      <td>18</td>\n",
       "    </tr>\n",
       "  </tbody>\n",
       "</table>\n",
       "</div>"
      ],
      "text/plain": [
       "category                                 бар,паб  булочная  быстрое питание  \\\n",
       "district                                                                      \n",
       "Центральный административный округ           364        50               87   \n",
       "Северный административный округ               68        39               58   \n",
       "Южный административный округ                  68        25               85   \n",
       "Северо-Восточный административный округ       62        28               82   \n",
       "Западный административный округ               50        37               62   \n",
       "Восточный административный округ              53        25               71   \n",
       "Юго-Восточный административный округ          38        13               67   \n",
       "Юго-Западный административный округ           38        27               61   \n",
       "Северо-Западный административный округ        23        12               30   \n",
       "\n",
       "category                                 кафе  кофейня  пиццерия  ресторан  \\\n",
       "district                                                                     \n",
       "Центральный административный округ        464      428       113       670   \n",
       "Северный административный округ           234      193        77       188   \n",
       "Южный административный округ              264      131        73       202   \n",
       "Северо-Восточный административный округ   269      159        68       182   \n",
       "Западный административный округ           238      150        71       218   \n",
       "Восточный административный округ          272      105        72       160   \n",
       "Юго-Восточный административный округ      282       89        55       145   \n",
       "Юго-Западный административный округ       238       96        64       168   \n",
       "Северо-Западный административный округ    115       62        40       109   \n",
       "\n",
       "category                                 столовая  \n",
       "district                                           \n",
       "Центральный административный округ             66  \n",
       "Северный административный округ                41  \n",
       "Южный административный округ                   44  \n",
       "Северо-Восточный административный округ        40  \n",
       "Западный административный округ                24  \n",
       "Восточный административный округ               40  \n",
       "Юго-Восточный административный округ           25  \n",
       "Юго-Западный административный округ            17  \n",
       "Северо-Западный административный округ         18  "
      ]
     },
     "execution_count": 45,
     "metadata": {},
     "output_type": "execute_result"
    }
   ],
   "source": [
    "pivot_dist.reindex(l)"
   ]
  },
  {
   "cell_type": "code",
   "execution_count": 46,
   "id": "c8101e93",
   "metadata": {},
   "outputs": [
    {
     "data": {
      "image/png": "[encoded data removed]",
      "text/plain": [
       "<Figure size 640x480 with 1 Axes>"
      ]
     },
     "metadata": {},
     "output_type": "display_data"
    }
   ],
   "source": [
    "pivot_dist.reindex(l).plot(kind='barh', stacked=True)\n",
    "plt.title('общее количество заведений и количество заведений каждой категории по районам', size='15')\n",
    "plt.xlabel('Количество заведений', size='15')\n",
    "plt.ylabel('Округ в котором находятся заведения', size='15')\n",
    "plt.tight_layout()\n",
    "plt.savefig('slide_6.png')\n",
    "plt.show()"
   ]
  },
  {
   "cell_type": "markdown",
   "id": "4cd8ec77",
   "metadata": {},
   "source": [
    "<div class=\"alert alert-info\">\n",
    "отсортировал график"
   ]
  },
  {
   "cell_type": "markdown",
   "id": "e68c72e6",
   "metadata": {},
   "source": [
    "в центральном округе больше всего заведений что логично и соотношение баров тоже выше всего"
   ]
  },
  {
   "cell_type": "markdown",
   "id": "ec1720c5",
   "metadata": {},
   "source": [
    "Визуализируйте распределение средних рейтингов по категориям заведений. Сильно ли различаются усреднённые рейтинги в разных типах общепита?"
   ]
  },
  {
   "cell_type": "code",
   "execution_count": 47,
   "id": "82cf3b64",
   "metadata": {},
   "outputs": [
    {
     "data": {
      "image/png": "[encoded data removed]",
      "text/plain": [
       "<Figure size 700x300 with 1 Axes>"
      ]
     },
     "metadata": {},
     "output_type": "display_data"
    }
   ],
   "source": [
    "(data\n",
    "    .pivot_table(index='category', values='rating', aggfunc='mean').sort_values(by='rating')\n",
    "    .plot(kind='bar', figsize=(7, 3), ylim=(3.9, 4.5))\n",
    " \n",
    ")\n",
    "plt.title('рейтинг заведений по категориям', size='15')\n",
    "plt.xlabel('Категории заведений')\n",
    "plt.ylabel('рейтинг')\n",
    "plt.xticks(rotation=45)\n",
    "plt.show()"
   ]
  },
  {
   "cell_type": "markdown",
   "id": "694acdfe",
   "metadata": {},
   "source": [
    "<div class=\"alert alert-info\">\n",
    "отсортировал график и ограничил по оси y"
   ]
  },
  {
   "cell_type": "code",
   "execution_count": 48,
   "id": "875c791e",
   "metadata": {},
   "outputs": [],
   "source": [
    "ranks = data.groupby(\"category\")[\"rating\"].mean().fillna(0).sort_values()[::-1].index"
   ]
  },
  {
   "cell_type": "code",
   "execution_count": 49,
   "id": "fca28bb7",
   "metadata": {},
   "outputs": [
    {
     "data": {
      "image/png": "[encoded data removed]",
      "text/plain": [
       "<Figure size 1200x600 with 1 Axes>"
      ]
     },
     "metadata": {},
     "output_type": "display_data"
    }
   ],
   "source": [
    "plt.figure(figsize=(12,6))\n",
    "ax = sns.boxplot(data= data, x='category', y='rating', order=ranks)\n",
    "ax.set_ylim([3.5, 4.5]) \n",
    "plt.title('рейтинг заведений по категориям')\n",
    "plt.xlabel('Категория заведения')\n",
    "plt.ylabel('рейтинг')\n",
    "plt.show()"
   ]
  },
  {
   "cell_type": "markdown",
   "id": "9744aa8f",
   "metadata": {},
   "source": [
    "рейтинги не сильно различаются\n",
    "рейтинг выше всего у баров\n",
    "самый низкий рейтинг у заведений быстрого питания\n"
   ]
  },
  {
   "cell_type": "markdown",
   "id": "5c70e194",
   "metadata": {},
   "source": [
    "Постройте фоновую картограмму (хороплет) со средним рейтингом заведений каждого района. Границы районов Москвы, которые встречаются в датасете, хранятся в файле admin_level_geomap.geojson (скачать файл для локальной работы)."
   ]
  },
  {
   "cell_type": "code",
   "execution_count": 50,
   "id": "f86860ff",
   "metadata": {},
   "outputs": [
    {
     "data": {
      "text/html": [
       "<div>\n",
       "<style scoped>\n",
       "    .dataframe tbody tr th:only-of-type {\n",
       "        vertical-align: middle;\n",
       "    }\n",
       "\n",
       "    .dataframe tbody tr th {\n",
       "        vertical-align: top;\n",
       "    }\n",
       "\n",
       "    .dataframe thead th {\n",
       "        text-align: right;\n",
       "    }\n",
       "</style>\n",
       "<table border=\"1\" class=\"dataframe\">\n",
       "  <thead>\n",
       "    <tr style=\"text-align: right;\">\n",
       "      <th></th>\n",
       "      <th>district</th>\n",
       "      <th>rating</th>\n",
       "    </tr>\n",
       "  </thead>\n",
       "  <tbody>\n",
       "    <tr>\n",
       "      <th>0</th>\n",
       "      <td>Восточный административный округ</td>\n",
       "      <td>4.174185</td>\n",
       "    </tr>\n",
       "    <tr>\n",
       "      <th>1</th>\n",
       "      <td>Западный административный округ</td>\n",
       "      <td>4.181647</td>\n",
       "    </tr>\n",
       "    <tr>\n",
       "      <th>2</th>\n",
       "      <td>Северный административный округ</td>\n",
       "      <td>4.240980</td>\n",
       "    </tr>\n",
       "    <tr>\n",
       "      <th>3</th>\n",
       "      <td>Северо-Восточный административный округ</td>\n",
       "      <td>4.147978</td>\n",
       "    </tr>\n",
       "    <tr>\n",
       "      <th>4</th>\n",
       "      <td>Северо-Западный административный округ</td>\n",
       "      <td>4.208802</td>\n",
       "    </tr>\n",
       "    <tr>\n",
       "      <th>5</th>\n",
       "      <td>Центральный административный округ</td>\n",
       "      <td>4.377520</td>\n",
       "    </tr>\n",
       "    <tr>\n",
       "      <th>6</th>\n",
       "      <td>Юго-Восточный административный округ</td>\n",
       "      <td>4.101120</td>\n",
       "    </tr>\n",
       "    <tr>\n",
       "      <th>7</th>\n",
       "      <td>Юго-Западный административный округ</td>\n",
       "      <td>4.172920</td>\n",
       "    </tr>\n",
       "    <tr>\n",
       "      <th>8</th>\n",
       "      <td>Южный административный округ</td>\n",
       "      <td>4.184417</td>\n",
       "    </tr>\n",
       "  </tbody>\n",
       "</table>\n",
       "</div>"
      ],
      "text/plain": [
       "                                  district    rating\n",
       "0         Восточный административный округ  4.174185\n",
       "1          Западный административный округ  4.181647\n",
       "2          Северный административный округ  4.240980\n",
       "3  Северо-Восточный административный округ  4.147978\n",
       "4   Северо-Западный административный округ  4.208802\n",
       "5       Центральный административный округ  4.377520\n",
       "6     Юго-Восточный административный округ  4.101120\n",
       "7      Юго-Западный административный округ  4.172920\n",
       "8             Южный административный округ  4.184417"
      ]
     },
     "execution_count": 50,
     "metadata": {},
     "output_type": "execute_result"
    }
   ],
   "source": [
    "rating_df = data.groupby(by='district',  as_index=False).agg({'rating': 'mean'})\n",
    "rating_df"
   ]
  },
  {
   "cell_type": "code",
   "execution_count": 51,
   "id": "5e43fc74",
   "metadata": {},
   "outputs": [
    {
     "ename": "FileNotFoundError",
     "evalue": "[Errno 2] No such file or directory: '/datasets/admin_level_geomap.geojson'",
     "output_type": "error",
     "traceback": [
      "\u001b[1;31m---------------------------------------------------------------------------\u001b[0m",
      "\u001b[1;31mFileNotFoundError\u001b[0m                         Traceback (most recent call last)",
      "Cell \u001b[1;32mIn[51], line 5\u001b[0m\n\u001b[0;32m      1\u001b[0m \u001b[38;5;66;03m# подключаем модуль для работы с JSON-форматом 'admin_level_geomap.geojson'\u001b[39;00m\n\u001b[0;32m      2\u001b[0m \u001b[38;5;66;03m#import json\u001b[39;00m\n\u001b[0;32m      3\u001b[0m \n\u001b[0;32m      4\u001b[0m \u001b[38;5;66;03m# читаем файл и сохраняем в переменной\u001b[39;00m\n\u001b[1;32m----> 5\u001b[0m \u001b[38;5;28;01mwith\u001b[39;00m \u001b[38;5;28mopen\u001b[39m(\u001b[38;5;124m'\u001b[39m\u001b[38;5;124m/datasets/admin_level_geomap.geojson\u001b[39m\u001b[38;5;124m'\u001b[39m, \u001b[38;5;124m'\u001b[39m\u001b[38;5;124mr\u001b[39m\u001b[38;5;124m'\u001b[39m) \u001b[38;5;28;01mas\u001b[39;00m f:\n\u001b[0;32m      6\u001b[0m     geo_json \u001b[38;5;241m=\u001b[39m json\u001b[38;5;241m.\u001b[39mload(f)\n\u001b[0;32m      8\u001b[0m \u001b[38;5;28mprint\u001b[39m(json\u001b[38;5;241m.\u001b[39mdumps(geo_json, indent\u001b[38;5;241m=\u001b[39m\u001b[38;5;241m2\u001b[39m, ensure_ascii\u001b[38;5;241m=\u001b[39m\u001b[38;5;28;01mFalse\u001b[39;00m, sort_keys\u001b[38;5;241m=\u001b[39m\u001b[38;5;28;01mTrue\u001b[39;00m))\n",
      "File \u001b[1;32mC:\\ProgramData\\anaconda3\\Lib\\site-packages\\IPython\\core\\interactiveshell.py:284\u001b[0m, in \u001b[0;36m_modified_open\u001b[1;34m(file, *args, **kwargs)\u001b[0m\n\u001b[0;32m    277\u001b[0m \u001b[38;5;28;01mif\u001b[39;00m file \u001b[38;5;129;01min\u001b[39;00m {\u001b[38;5;241m0\u001b[39m, \u001b[38;5;241m1\u001b[39m, \u001b[38;5;241m2\u001b[39m}:\n\u001b[0;32m    278\u001b[0m     \u001b[38;5;28;01mraise\u001b[39;00m \u001b[38;5;167;01mValueError\u001b[39;00m(\n\u001b[0;32m    279\u001b[0m         \u001b[38;5;124mf\u001b[39m\u001b[38;5;124m\"\u001b[39m\u001b[38;5;124mIPython won\u001b[39m\u001b[38;5;124m'\u001b[39m\u001b[38;5;124mt let you open fd=\u001b[39m\u001b[38;5;132;01m{\u001b[39;00mfile\u001b[38;5;132;01m}\u001b[39;00m\u001b[38;5;124m by default \u001b[39m\u001b[38;5;124m\"\u001b[39m\n\u001b[0;32m    280\u001b[0m         \u001b[38;5;124m\"\u001b[39m\u001b[38;5;124mas it is likely to crash IPython. If you know what you are doing, \u001b[39m\u001b[38;5;124m\"\u001b[39m\n\u001b[0;32m    281\u001b[0m         \u001b[38;5;124m\"\u001b[39m\u001b[38;5;124myou can use builtins\u001b[39m\u001b[38;5;124m'\u001b[39m\u001b[38;5;124m open.\u001b[39m\u001b[38;5;124m\"\u001b[39m\n\u001b[0;32m    282\u001b[0m     )\n\u001b[1;32m--> 284\u001b[0m \u001b[38;5;28;01mreturn\u001b[39;00m io_open(file, \u001b[38;5;241m*\u001b[39margs, \u001b[38;5;241m*\u001b[39m\u001b[38;5;241m*\u001b[39mkwargs)\n",
      "\u001b[1;31mFileNotFoundError\u001b[0m: [Errno 2] No such file or directory: '/datasets/admin_level_geomap.geojson'"
     ]
    }
   ],
   "source": [
    "# подключаем модуль для работы с JSON-форматом 'admin_level_geomap.geojson'\n",
    "#import json\n",
    "\n",
    "# читаем файл и сохраняем в переменной\n",
    "with open('/datasets/admin_level_geomap.geojson', 'r') as f:\n",
    "    geo_json = json.load(f)\n",
    "\n",
    "print(json.dumps(geo_json, indent=2, ensure_ascii=False, sort_keys=True))"
   ]
  },
  {
   "cell_type": "markdown",
   "id": "e9a7aa67",
   "metadata": {},
   "source": [
    "<div class=\"alert alert-info\">\n",
    "не понимаю в чем тут дело почему у тебя не проходит код? \n",
    "такая ссылка именно в этой ячейки не открывается 'https://code.s3.yandex.net/data-analyst/admin_level_geomap.geojson' хотя в других проходит, 'https://code.s3.yandex.net/datasets/admin_level_geomap.geojson' тоже не работает.\n",
    "    \n",
    "- with open('admin_level_geomap.geojson', 'r') as f: - так открывается если файл помещен в папку с проектом\n",
    "    \n",
    "- '/datasets/admin_level_geomap.geojson' - так почему то у меня не открывается , даже если положить файл в папку datasets"
   ]
  },
  {
   "cell_type": "code",
   "execution_count": null,
   "id": "cd61f545",
   "metadata": {
    "scrolled": true
   },
   "outputs": [],
   "source": [
    "# импортируем карту и хороплет\n",
    "#from folium import Map, Choropleth\n",
    "\n",
    "# загружаем JSON-файл с границами округов Москвы\n",
    "state_geo = 'https://code.s3.yandex.net/data-analyst/admin_level_geomap.geojson'\n",
    "# moscow_lat - широта центра Москвы, moscow_lng - долгота центра Москвы\n",
    "moscow_lat, moscow_lng = 55.751244, 37.618423\n",
    "\n",
    "# создаём карту Москвы\n",
    "m = Map(location=[moscow_lat, moscow_lng], zoom_start=10, tiles='Cartodb Positron')\n",
    "\n",
    "# создаём хороплет с помощью конструктора Choropleth и добавляем его на карту\n",
    "Choropleth(\n",
    "    geo_data=state_geo,\n",
    "    data=rating_df,\n",
    "    columns=['district', 'rating'],\n",
    "    key_on='feature.name',\n",
    "    fill_color='YlGn',\n",
    "    fill_opacity=0.8,\n",
    "    legend_name='Средний рейтинг заведений по районам',\n",
    ").add_to(m)\n",
    "\n",
    "# выводим карту\n",
    "m\n"
   ]
  },
  {
   "cell_type": "markdown",
   "id": "fc7a3650",
   "metadata": {},
   "source": [
    "Отобразите все заведения датасета на карте с помощью кластеров средствами библиотеки folium."
   ]
  },
  {
   "cell_type": "code",
   "execution_count": null,
   "id": "0c38f546",
   "metadata": {},
   "outputs": [],
   "source": [
    "# импортируем карту и маркер\n",
    "# from folium import Map, Marker\n",
    "# импортируем кластер\n",
    "# from folium.plugins import MarkerCluster\n",
    "\n",
    "# moscow_lat - широта центра Москвы, moscow_lng - долгота центра Москвы\n",
    "moscow_lat, moscow_lng = 55.751244, 37.618423\n",
    "\n",
    "# создаём карту Москвы\n",
    "m2 = Map(location=[moscow_lat, moscow_lng], zoom_start=10, tiles=\"Cartodb Positron\")\n",
    "# создаём пустой кластер, добавляем его на карту\n",
    "marker_cluster = MarkerCluster().add_to(m2)\n",
    "\n",
    "# пишем функцию, которая принимает строку датафрейма,\n",
    "# создаёт маркер в текущей точке и добавляет его в кластер marker_cluster\n",
    "def create_clusters(row):\n",
    "    Marker(\n",
    "        [row['lat'], row['lng']],\n",
    "        popup=f\"{row['name']}\",\n",
    "    ).add_to(marker_cluster)\n",
    "\n",
    "# применяем функцию create_clusters() к каждой строке датафрейма\n",
    "data.apply(create_clusters, axis=1)\n",
    "\n",
    "# выводим карту\n",
    "m2"
   ]
  },
  {
   "cell_type": "markdown",
   "id": "fa2d694d",
   "metadata": {},
   "source": [
    "<div class=\"alert alert-block alert-success\">\n",
    "<b>Комментарий ревьюера:</b> Отлично, на карте можно легко рассмотреть нужную нам территорию.\n",
    "    \n",
    "</div>"
   ]
  },
  {
   "cell_type": "markdown",
   "id": "1b005600",
   "metadata": {},
   "source": [
    "Найдите топ-15 улиц по количеству заведений. Постройте график распределения количества заведений и их категорий по этим улицам. Попробуйте проиллюстрировать эту информацию одним графиком."
   ]
  },
  {
   "cell_type": "markdown",
   "id": "87a5ba5b",
   "metadata": {},
   "source": [
    "выведем топ 15 улиц по кол-ву заведений"
   ]
  },
  {
   "cell_type": "code",
   "execution_count": null,
   "id": "6939aa34",
   "metadata": {
    "scrolled": true
   },
   "outputs": [],
   "source": [
    "street_top = data.groupby(by='street',  as_index=False).agg({'name': 'count'}).sort_values(by='name', ascending =False).head(15)\n",
    "#street_top = street_top.set_index('street')\n",
    "street_top"
   ]
  },
  {
   "cell_type": "markdown",
   "id": "911e98bc",
   "metadata": {},
   "source": [
    "соханим название улиц в список"
   ]
  },
  {
   "cell_type": "code",
   "execution_count": null,
   "id": "fb851291",
   "metadata": {},
   "outputs": [],
   "source": [
    "st_list = street_top['street'].to_list()\n",
    "st_list"
   ]
  },
  {
   "cell_type": "markdown",
   "id": "a25ee38a",
   "metadata": {},
   "source": [
    "сделаем срез по улицам в сохраненом списке"
   ]
  },
  {
   "cell_type": "code",
   "execution_count": null,
   "id": "2a6c84d1",
   "metadata": {},
   "outputs": [],
   "source": [
    "data_st_top = data[data['street'].isin(st_list)]\n",
    "data_st_top"
   ]
  },
  {
   "cell_type": "markdown",
   "id": "5f7487e5",
   "metadata": {},
   "source": [
    "сделаем пивот по топ 15 улицам с количеством и разбивкой по категориям"
   ]
  },
  {
   "cell_type": "code",
   "execution_count": null,
   "id": "81ea32a9",
   "metadata": {},
   "outputs": [],
   "source": [
    "l1 = data_st_top.pivot_table(index='street', values='name', aggfunc='count').sort_values(by='name', ascending=False).index\n",
    "l1"
   ]
  },
  {
   "cell_type": "code",
   "execution_count": null,
   "id": "17f19fd0",
   "metadata": {},
   "outputs": [],
   "source": [
    "pivot_street = data_st_top.pivot_table(index='street', columns='category', values='name', aggfunc='count')\n",
    "pivot_street.reindex(l1)"
   ]
  },
  {
   "cell_type": "code",
   "execution_count": null,
   "id": "e65bdf05",
   "metadata": {},
   "outputs": [],
   "source": [
    "pivot_street.reindex(l1).plot(kind='barh', stacked=True)\n",
    "plt.title('количество заведений каждой категории по популярным улицам', size='15')\n",
    "plt.xlabel('Количество заведений', size='15')\n",
    "plt.ylabel('Улица в которой находятся заведения', size='15')\n",
    "plt.show()"
   ]
  },
  {
   "cell_type": "markdown",
   "id": "efdab14c",
   "metadata": {},
   "source": [
    "<div class=\"alert alert-info\">\n",
    "- проспект мира самая популярная из топ 15 улиц\n",
    "- на ней больше всего кафе, ресторанов и кафейнь"
   ]
  },
  {
   "cell_type": "markdown",
   "id": "1fc43e8e",
   "metadata": {},
   "source": [
    "Найдите улицы, на которых находится только один объект общепита. Что можно сказать об этих заведениях?"
   ]
  },
  {
   "cell_type": "code",
   "execution_count": null,
   "id": "2f2a1b1a",
   "metadata": {},
   "outputs": [],
   "source": [
    "street_1 = (data\n",
    "            .groupby(by='street',  as_index=False).agg({'name': 'count'})\n",
    "            .sort_values(by='name', ascending =False)\n",
    "            .query('name == 1')\n",
    "           )"
   ]
  },
  {
   "cell_type": "code",
   "execution_count": null,
   "id": "465fe0bf",
   "metadata": {},
   "outputs": [],
   "source": [
    "st_list_1 = street_1['street'].to_list()"
   ]
  },
  {
   "cell_type": "code",
   "execution_count": null,
   "id": "32dba5a4",
   "metadata": {},
   "outputs": [],
   "source": [
    "data_st_1 = data[data['street'].isin(st_list_1)]"
   ]
  },
  {
   "cell_type": "code",
   "execution_count": null,
   "id": "62611fd9",
   "metadata": {},
   "outputs": [],
   "source": [
    "data_st_1.info()"
   ]
  },
  {
   "cell_type": "code",
   "execution_count": null,
   "id": "e70a3093",
   "metadata": {},
   "outputs": [],
   "source": [
    "data_st_1.head()"
   ]
  },
  {
   "cell_type": "code",
   "execution_count": null,
   "id": "4fb7a2b5",
   "metadata": {
    "scrolled": false
   },
   "outputs": [],
   "source": [
    "\n",
    "# moscow_lat - широта центра Москвы, moscow_lng - долгота центра Москвы\n",
    "moscow_lat, moscow_lng = 55.751244, 37.618423\n",
    "\n",
    "# создаём карту Москвы\n",
    "m_1str = Map(location=[moscow_lat, moscow_lng], zoom_start=10, tiles=\"Cartodb Positron\")\n",
    "# создаём пустой кластер, добавляем его на карту\n",
    "marker_cluster = MarkerCluster().add_to(m_1str)\n",
    "\n",
    "# применяем функцию create_clusters() к каждой строке датафрейма\n",
    "data_st_1.apply(create_clusters, axis=1)\n",
    "\n",
    "# выводим карту\n",
    "m_1str"
   ]
  },
  {
   "cell_type": "markdown",
   "id": "62133e61",
   "metadata": {},
   "source": [
    "сложно чтото сказать по эти заведениям не нашел ничего общего у них кроме того что некоторая информация пропущена\n",
    "\n",
    "на этих улицах можно открыть кофейню тк у людей нехватка мест где можно попить кофе"
   ]
  },
  {
   "cell_type": "markdown",
   "id": "9e6c7726",
   "metadata": {},
   "source": [
    "Значения средних чеков заведений хранятся в столбце middle_avg_bill. Эти числа показывают примерную стоимость заказа в рублях, которая чаще всего выражена диапазоном. Посчитайте медиану этого столбца для каждого района. Используйте это значение в качестве ценового индикатора района. Постройте фоновую картограмму (хороплет) с полученными значениями для каждого района. Проанализируйте цены в центральном административном округе и других. Как удалённость от центра влияет на цены в заведениях?"
   ]
  },
  {
   "cell_type": "code",
   "execution_count": null,
   "id": "720fbc05",
   "metadata": {},
   "outputs": [],
   "source": [
    "dist_median_bill = data.pivot_table(index='district', values='middle_avg_bill', aggfunc='median').reset_index()"
   ]
  },
  {
   "cell_type": "code",
   "execution_count": null,
   "id": "d4f05b85",
   "metadata": {},
   "outputs": [],
   "source": [
    "dist_median_bill"
   ]
  },
  {
   "cell_type": "code",
   "execution_count": null,
   "id": "8d57cd61",
   "metadata": {},
   "outputs": [],
   "source": [
    "# создаём карту Москвы\n",
    "m3 = Map(location=[moscow_lat, moscow_lng], zoom_start=10, tiles='Cartodb Positron')\n",
    "\n",
    "# создаём хороплет с помощью конструктора Choropleth и добавляем его на карту\n",
    "Choropleth(\n",
    "    geo_data=state_geo,\n",
    "    data=dist_median_bill,\n",
    "    columns=['district', 'middle_avg_bill'],\n",
    "    key_on='feature.name',\n",
    "    fill_color='YlGn',\n",
    "    fill_opacity=0.8,\n",
    "    legend_name='Медианный чек заведений по районам',\n",
    ").add_to(m3)\n",
    "\n",
    "# выводим карту\n",
    "m3"
   ]
  },
  {
   "cell_type": "markdown",
   "id": "eba07f11",
   "metadata": {},
   "source": [
    "получили два самых дорогих района в москве это центр и запад"
   ]
  },
  {
   "cell_type": "markdown",
   "id": "622d5444",
   "metadata": {},
   "source": [
    "вывод:\n",
    "по результам иследования можно сказать что \n",
    "- больше всего в москве кафе, ресторанов и кафеен\n",
    "- в среднем посадочных мест 80\n",
    "- не сетевых заведений больше примерно в 1.5 раза\n",
    "- чаще всего сетевыми являются кафе, рестораны и кафеени\n",
    "- в центральном округе больше всего заведений и в центральном округе сосредоточено большинство баров которые есть в москве\n",
    "- меньше всего заведений в СЗАО , может нужно открывать там потому что меньше конкуренция\n",
    "- самый низкий рейтинг у сетей быстрого питания\n",
    "- выше всего рейтинг в районе ЦАОвозможно там лучше сервис или туда ходит другой контенгент людей\n",
    "- на улицах дге больше всего заведений преобладают также кафе, рестораны и кафеени\n",
    "- средний чек самый высокие в ЦАО и ЗАО. В ЗАО скорее всего там где элитные районы типа рублевки"
   ]
  },
  {
   "cell_type": "markdown",
   "id": "afbe39a9",
   "metadata": {},
   "source": [
    "# Шаг 4. Детализируем исследование: открытие кофейни"
   ]
  },
  {
   "cell_type": "markdown",
   "id": "cac4389e",
   "metadata": {},
   "source": [
    "Ответьте на следующие вопросы:\n",
    "- Сколько всего кофеен в датасете? "
   ]
  },
  {
   "cell_type": "code",
   "execution_count": null,
   "id": "da351663",
   "metadata": {},
   "outputs": [],
   "source": [
    "df_cafe = data.query('category == \"кофейня\"')\n",
    "\n",
    "df_cafe.info()"
   ]
  },
  {
   "cell_type": "markdown",
   "id": "6d879c20",
   "metadata": {},
   "source": [
    "- В каких районах их больше всего, каковы особенности их расположения?"
   ]
  },
  {
   "cell_type": "code",
   "execution_count": null,
   "id": "65691d99",
   "metadata": {},
   "outputs": [],
   "source": [
    "cafe_piv = df_cafe.groupby(by='district').agg({'name':'count'}).sort_values(by='name', ascending=False).reset_index()\n",
    "cafe_piv"
   ]
  },
  {
   "cell_type": "code",
   "execution_count": null,
   "id": "a0eeed01",
   "metadata": {},
   "outputs": [],
   "source": [
    "# создаём карту Москвы\n",
    "m4 = Map(location=[moscow_lat, moscow_lng], zoom_start=10, tiles='Cartodb Positron')\n",
    "\n",
    "# создаём хороплет с помощью конструктора Choropleth и добавляем его на карту\n",
    "Choropleth(\n",
    "    geo_data=state_geo,\n",
    "    data=cafe_piv,\n",
    "    columns=['district', 'name'],\n",
    "    key_on='feature.name',\n",
    "    fill_color='YlGn',\n",
    "    fill_opacity=0.8,\n",
    "    legend_name='расположение кафеен по районам',\n",
    ").add_to(m4)\n",
    "\n",
    "# выводим карту\n",
    "m4"
   ]
  },
  {
   "cell_type": "markdown",
   "id": "6299fc17",
   "metadata": {},
   "source": [
    "- Есть ли круглосуточные кофейни?"
   ]
  },
  {
   "cell_type": "code",
   "execution_count": null,
   "id": "bf69ebbd",
   "metadata": {},
   "outputs": [],
   "source": [
    "df_cafe['is_24_7'].value_counts().plot(kind='bar', figsize=(7, 3))\n",
    "plt.title('количество кофеен работающие 24/7', size='15')\n",
    "plt.xlabel('True-работают 24/7 \\n False-не работают 24/7', size='15')\n",
    "plt.ylabel('Количество кофеен', size='15')\n",
    "plt.show()"
   ]
  },
  {
   "cell_type": "markdown",
   "id": "3079a53d",
   "metadata": {},
   "source": [
    "- Какие у кофеен рейтинги? Как они распределяются по районам?"
   ]
  },
  {
   "cell_type": "code",
   "execution_count": null,
   "id": "ad1df5d7",
   "metadata": {},
   "outputs": [],
   "source": [
    "cafe_rat = df_cafe.groupby(by='district').agg({'rating':'mean'}).sort_values(by='rating', ascending=False).reset_index()\n",
    "cafe_rat"
   ]
  },
  {
   "cell_type": "code",
   "execution_count": null,
   "id": "2588df03",
   "metadata": {},
   "outputs": [],
   "source": [
    "# создаём карту Москвы\n",
    "m5 = Map(location=[moscow_lat, moscow_lng], zoom_start=10, tiles='Cartodb Positron')\n",
    "\n",
    "# создаём хороплет с помощью конструктора Choropleth и добавляем его на карту\n",
    "Choropleth(\n",
    "    geo_data=state_geo,\n",
    "    data=cafe_rat,\n",
    "    columns=['district', 'rating'],\n",
    "    key_on='feature.name',\n",
    "    fill_color='YlGn',\n",
    "    fill_opacity=0.8,\n",
    "    legend_name='рейтинг кафеен по районам',\n",
    ").add_to(m5)\n",
    "\n",
    "# выводим карту\n",
    "m5"
   ]
  },
  {
   "cell_type": "markdown",
   "id": "edddb3c1",
   "metadata": {},
   "source": [
    "- На какую стоимость чашки капучино стоит ориентироваться при открытии и почему?"
   ]
  },
  {
   "cell_type": "code",
   "execution_count": null,
   "id": "816cf9ad",
   "metadata": {},
   "outputs": [],
   "source": [
    "cafe_cup = df_cafe.groupby(by='district').agg({'middle_coffee_cup':'mean'}).sort_values(by='middle_coffee_cup', ascending=False).reset_index()\n",
    "cafe_cup"
   ]
  },
  {
   "cell_type": "markdown",
   "id": "f7300f9c",
   "metadata": {},
   "source": [
    "взяли медианную цену"
   ]
  },
  {
   "cell_type": "code",
   "execution_count": null,
   "id": "a69f6d83",
   "metadata": {},
   "outputs": [],
   "source": [
    "# создаём карту Москвы\n",
    "m6 = Map(location=[moscow_lat, moscow_lng], zoom_start=10, tiles='Cartodb Positron')\n",
    "\n",
    "# создаём хороплет с помощью конструктора Choropleth и добавляем его на карту\n",
    "Choropleth(\n",
    "    geo_data=state_geo,\n",
    "    data=cafe_cup,\n",
    "    columns=['district', 'middle_coffee_cup'],\n",
    "    key_on='feature.name',\n",
    "    fill_color='PuRd',\n",
    "    fill_opacity=0.8,\n",
    "    legend_name='средняя цена за чашку кофе в кафейнях по районам',\n",
    ").add_to(m6)\n",
    "\n",
    "# выводим карту\n",
    "m6"
   ]
  },
  {
   "cell_type": "markdown",
   "id": "e5ccc290",
   "metadata": {},
   "source": [
    "вывод\n",
    "- всего кофеен 1413\n",
    "- больше всего кофеен в ЦАО и на севере москвы. меньше всего в СЗАО\n",
    "- круглосуточных кафеен очень мало всего около 50 на всю москву\n",
    "- самый высокий рейтинг у кофеен в ЦАО и САО\n",
    "- средняя цена за часку кофе варируется от 150 до 200 р в разных районах самые дорогие это в ЦАО (центр) ЗАО (тут элитные районы)  ЮЗАО (тут много студентов) примерно в 190р"
   ]
  },
  {
   "cell_type": "markdown",
   "id": "b06fb67d",
   "metadata": {},
   "source": [
    "<div class=\"alert alert-info\">\n",
    "При запуске новой кофейни можно выбрать ЦАО, ЗАО или ЮЗАО тк там самая высокая средняя стоимость за чашку кофе позволит бвстрее окупиться, но также там возможно дороже аренда.\n",
    "    \n",
    "также можно открыть в районе где наоборот мало кофеен там они будут пользоваться большим спросом напимер в СЗАО но нужно выбрать район с большим количесвом населения а не промышленый район СЗАО как раз подходит\n",
    "    \n",
    "если открывать в ЦАО то можно сделать крушласуточную работу тк таких кафеен очень мало а в ЦАО на них будет спрос"
   ]
  },
  {
   "cell_type": "markdown",
   "id": "309e43b1",
   "metadata": {},
   "source": [
    "новая ссылка\n",
    "https://disk.yandex.ru/i/FkSGqR2yYwAJNQ"
   ]
  }
 ],
 "metadata": {
  "ExecuteTimeLog": [
   {
    "duration": 1515,
    "start_time": "2024-04-01T23:55:26.211Z"
   },
   {
    "duration": 220,
    "start_time": "2024-04-01T23:55:27.728Z"
   },
   {
    "duration": 19,
    "start_time": "2024-04-01T23:55:27.950Z"
   },
   {
    "duration": 17,
    "start_time": "2024-04-01T23:55:27.971Z"
   },
   {
    "duration": 12,
    "start_time": "2024-04-01T23:55:27.991Z"
   },
   {
    "duration": 6,
    "start_time": "2024-04-01T23:55:28.005Z"
   },
   {
    "duration": 12,
    "start_time": "2024-04-01T23:55:28.013Z"
   },
   {
    "duration": 21,
    "start_time": "2024-04-01T23:55:28.026Z"
   },
   {
    "duration": 11,
    "start_time": "2024-04-01T23:55:28.048Z"
   },
   {
    "duration": 7,
    "start_time": "2024-04-01T23:55:28.083Z"
   },
   {
    "duration": 24,
    "start_time": "2024-04-01T23:55:28.092Z"
   },
   {
    "duration": 3,
    "start_time": "2024-04-01T23:55:28.119Z"
   },
   {
    "duration": 4,
    "start_time": "2024-04-01T23:55:28.124Z"
   },
   {
    "duration": 13,
    "start_time": "2024-04-01T23:55:28.132Z"
   },
   {
    "duration": 56,
    "start_time": "2024-04-01T23:55:28.146Z"
   },
   {
    "duration": 21,
    "start_time": "2024-04-01T23:55:28.204Z"
   },
   {
    "duration": 791,
    "start_time": "2024-04-01T23:55:28.227Z"
   },
   {
    "duration": 8,
    "start_time": "2024-04-01T23:55:29.020Z"
   },
   {
    "duration": 13,
    "start_time": "2024-04-01T23:55:29.029Z"
   },
   {
    "duration": 518,
    "start_time": "2024-04-01T23:55:29.043Z"
   },
   {
    "duration": 320,
    "start_time": "2024-04-01T23:55:29.563Z"
   },
   {
    "duration": 512,
    "start_time": "2024-04-01T23:55:29.886Z"
   },
   {
    "duration": 5,
    "start_time": "2024-04-01T23:55:30.400Z"
   },
   {
    "duration": 454,
    "start_time": "2024-04-01T23:55:30.407Z"
   },
   {
    "duration": 7,
    "start_time": "2024-04-01T23:55:30.863Z"
   },
   {
    "duration": 815,
    "start_time": "2024-04-01T23:55:30.871Z"
   },
   {
    "duration": 18,
    "start_time": "2024-04-01T23:55:31.688Z"
   },
   {
    "duration": 817,
    "start_time": "2024-04-01T23:55:31.708Z"
   },
   {
    "duration": 17,
    "start_time": "2024-04-01T23:55:32.527Z"
   },
   {
    "duration": 199,
    "start_time": "2024-04-01T23:55:32.546Z"
   },
   {
    "duration": 22,
    "start_time": "2024-04-01T23:55:32.747Z"
   },
   {
    "duration": 957,
    "start_time": "2024-04-01T23:55:32.783Z"
   },
   {
    "duration": 197,
    "start_time": "2024-04-01T23:55:33.742Z"
   },
   {
    "duration": 295,
    "start_time": "2024-04-01T23:55:33.941Z"
   },
   {
    "duration": 12,
    "start_time": "2024-04-01T23:55:34.238Z"
   },
   {
    "duration": 142,
    "start_time": "2024-04-01T23:55:34.252Z"
   },
   {
    "duration": 0,
    "start_time": "2024-04-01T23:55:34.397Z"
   },
   {
    "duration": 0,
    "start_time": "2024-04-01T23:55:34.398Z"
   },
   {
    "duration": 0,
    "start_time": "2024-04-01T23:55:34.400Z"
   },
   {
    "duration": 0,
    "start_time": "2024-04-01T23:55:34.401Z"
   },
   {
    "duration": 0,
    "start_time": "2024-04-01T23:55:34.402Z"
   },
   {
    "duration": 0,
    "start_time": "2024-04-01T23:55:34.403Z"
   },
   {
    "duration": 0,
    "start_time": "2024-04-01T23:55:34.404Z"
   },
   {
    "duration": 0,
    "start_time": "2024-04-01T23:55:34.406Z"
   },
   {
    "duration": 0,
    "start_time": "2024-04-01T23:55:34.407Z"
   },
   {
    "duration": 0,
    "start_time": "2024-04-01T23:55:34.408Z"
   },
   {
    "duration": 0,
    "start_time": "2024-04-01T23:55:34.410Z"
   },
   {
    "duration": 0,
    "start_time": "2024-04-01T23:55:34.411Z"
   },
   {
    "duration": 0,
    "start_time": "2024-04-01T23:55:34.412Z"
   },
   {
    "duration": 0,
    "start_time": "2024-04-01T23:55:34.414Z"
   },
   {
    "duration": 0,
    "start_time": "2024-04-01T23:55:34.415Z"
   },
   {
    "duration": 0,
    "start_time": "2024-04-01T23:55:34.417Z"
   },
   {
    "duration": 0,
    "start_time": "2024-04-01T23:55:34.418Z"
   },
   {
    "duration": 0,
    "start_time": "2024-04-01T23:55:34.419Z"
   },
   {
    "duration": 0,
    "start_time": "2024-04-01T23:55:34.421Z"
   },
   {
    "duration": 0,
    "start_time": "2024-04-01T23:55:34.422Z"
   },
   {
    "duration": 0,
    "start_time": "2024-04-01T23:55:34.423Z"
   },
   {
    "duration": 0,
    "start_time": "2024-04-01T23:55:34.424Z"
   },
   {
    "duration": 0,
    "start_time": "2024-04-01T23:55:34.425Z"
   },
   {
    "duration": 0,
    "start_time": "2024-04-01T23:55:34.427Z"
   },
   {
    "duration": 48,
    "start_time": "2024-04-02T00:09:56.207Z"
   },
   {
    "duration": 168,
    "start_time": "2024-04-02T00:10:23.008Z"
   },
   {
    "duration": 492,
    "start_time": "2024-04-02T00:10:51.965Z"
   },
   {
    "duration": 10598,
    "start_time": "2024-04-02T00:10:52.459Z"
   },
   {
    "duration": 35,
    "start_time": "2024-04-02T00:11:03.059Z"
   },
   {
    "duration": 3,
    "start_time": "2024-04-02T00:11:03.096Z"
   },
   {
    "duration": 10,
    "start_time": "2024-04-02T00:11:03.101Z"
   },
   {
    "duration": 93,
    "start_time": "2024-04-02T00:11:03.113Z"
   },
   {
    "duration": 803,
    "start_time": "2024-04-02T00:11:03.208Z"
   },
   {
    "duration": 11,
    "start_time": "2024-04-02T00:11:04.012Z"
   },
   {
    "duration": 4,
    "start_time": "2024-04-02T00:11:04.024Z"
   },
   {
    "duration": 6,
    "start_time": "2024-04-02T00:11:04.030Z"
   },
   {
    "duration": 21,
    "start_time": "2024-04-02T00:11:04.038Z"
   },
   {
    "duration": 33,
    "start_time": "2024-04-02T00:11:04.060Z"
   },
   {
    "duration": 559,
    "start_time": "2024-04-02T00:11:04.095Z"
   },
   {
    "duration": 26,
    "start_time": "2024-04-02T00:11:04.656Z"
   },
   {
    "duration": 8,
    "start_time": "2024-04-02T00:11:04.684Z"
   },
   {
    "duration": 153,
    "start_time": "2024-04-02T00:11:04.693Z"
   },
   {
    "duration": 15,
    "start_time": "2024-04-02T00:11:04.848Z"
   },
   {
    "duration": 27,
    "start_time": "2024-04-02T00:11:04.865Z"
   },
   {
    "duration": 167,
    "start_time": "2024-04-02T00:11:04.894Z"
   },
   {
    "duration": 164,
    "start_time": "2024-04-02T00:11:05.062Z"
   },
   {
    "duration": 12,
    "start_time": "2024-04-02T00:11:05.228Z"
   },
   {
    "duration": 148,
    "start_time": "2024-04-02T00:11:05.242Z"
   },
   {
    "duration": 15,
    "start_time": "2024-04-02T00:11:05.392Z"
   },
   {
    "duration": 334,
    "start_time": "2024-04-02T00:11:05.409Z"
   },
   {
    "duration": 1389,
    "start_time": "2024-04-04T02:39:12.570Z"
   },
   {
    "duration": 206,
    "start_time": "2024-04-04T02:39:13.961Z"
   },
   {
    "duration": 17,
    "start_time": "2024-04-04T02:39:14.169Z"
   },
   {
    "duration": 14,
    "start_time": "2024-04-04T02:39:14.188Z"
   },
   {
    "duration": 4,
    "start_time": "2024-04-04T02:39:14.203Z"
   },
   {
    "duration": 6,
    "start_time": "2024-04-04T02:39:14.208Z"
   },
   {
    "duration": 27,
    "start_time": "2024-04-04T02:39:14.216Z"
   },
   {
    "duration": 28,
    "start_time": "2024-04-04T02:39:14.245Z"
   },
   {
    "duration": 7,
    "start_time": "2024-04-04T02:39:14.274Z"
   },
   {
    "duration": 6,
    "start_time": "2024-04-04T02:39:14.283Z"
   },
   {
    "duration": 14,
    "start_time": "2024-04-04T02:39:14.290Z"
   },
   {
    "duration": 15,
    "start_time": "2024-04-04T02:39:14.305Z"
   },
   {
    "duration": 11,
    "start_time": "2024-04-04T02:39:14.322Z"
   },
   {
    "duration": 19,
    "start_time": "2024-04-04T02:39:14.369Z"
   },
   {
    "duration": 6,
    "start_time": "2024-04-04T02:39:14.390Z"
   },
   {
    "duration": 14,
    "start_time": "2024-04-04T02:39:14.398Z"
   },
   {
    "duration": 4,
    "start_time": "2024-04-04T02:39:14.414Z"
   },
   {
    "duration": 7,
    "start_time": "2024-04-04T02:39:14.420Z"
   },
   {
    "duration": 15,
    "start_time": "2024-04-04T02:39:14.429Z"
   },
   {
    "duration": 25,
    "start_time": "2024-04-04T02:39:14.445Z"
   },
   {
    "duration": 11,
    "start_time": "2024-04-04T02:39:14.471Z"
   },
   {
    "duration": 588,
    "start_time": "2024-04-04T02:39:14.483Z"
   },
   {
    "duration": 8,
    "start_time": "2024-04-04T02:39:15.072Z"
   },
   {
    "duration": 53,
    "start_time": "2024-04-04T02:39:15.081Z"
   },
   {
    "duration": 490,
    "start_time": "2024-04-04T02:39:15.135Z"
   },
   {
    "duration": 5,
    "start_time": "2024-04-04T02:39:15.626Z"
   },
   {
    "duration": 261,
    "start_time": "2024-04-04T02:39:15.633Z"
   },
   {
    "duration": 382,
    "start_time": "2024-04-04T02:39:15.898Z"
   },
   {
    "duration": 6,
    "start_time": "2024-04-04T02:39:16.282Z"
   },
   {
    "duration": 322,
    "start_time": "2024-04-04T02:39:16.289Z"
   },
   {
    "duration": 10,
    "start_time": "2024-04-04T02:39:16.613Z"
   },
   {
    "duration": 566,
    "start_time": "2024-04-04T02:39:16.624Z"
   },
   {
    "duration": 17,
    "start_time": "2024-04-04T02:39:17.191Z"
   },
   {
    "duration": 617,
    "start_time": "2024-04-04T02:39:17.210Z"
   },
   {
    "duration": 6,
    "start_time": "2024-04-04T02:39:17.828Z"
   },
   {
    "duration": 35,
    "start_time": "2024-04-04T02:39:17.835Z"
   },
   {
    "duration": 166,
    "start_time": "2024-04-04T02:39:17.871Z"
   },
   {
    "duration": 4,
    "start_time": "2024-04-04T02:39:18.038Z"
   },
   {
    "duration": 25,
    "start_time": "2024-04-04T02:39:18.043Z"
   },
   {
    "duration": 181,
    "start_time": "2024-04-04T02:39:18.069Z"
   },
   {
    "duration": 18,
    "start_time": "2024-04-04T02:39:18.252Z"
   },
   {
    "duration": 17,
    "start_time": "2024-04-04T02:39:18.271Z"
   },
   {
    "duration": 3,
    "start_time": "2024-04-04T02:39:18.289Z"
   },
   {
    "duration": 22,
    "start_time": "2024-04-04T02:39:18.294Z"
   },
   {
    "duration": 7,
    "start_time": "2024-04-04T02:39:18.318Z"
   },
   {
    "duration": 795,
    "start_time": "2024-04-04T02:39:18.326Z"
   },
   {
    "duration": 172,
    "start_time": "2024-04-04T02:39:19.122Z"
   },
   {
    "duration": 5,
    "start_time": "2024-04-04T02:39:19.295Z"
   },
   {
    "duration": 246,
    "start_time": "2024-04-04T02:39:19.301Z"
   },
   {
    "duration": 10,
    "start_time": "2024-04-04T02:39:19.549Z"
   },
   {
    "duration": 144,
    "start_time": "2024-04-04T02:39:19.570Z"
   },
   {
    "duration": 0,
    "start_time": "2024-04-04T02:39:19.716Z"
   },
   {
    "duration": 0,
    "start_time": "2024-04-04T02:39:19.718Z"
   },
   {
    "duration": 0,
    "start_time": "2024-04-04T02:39:19.719Z"
   },
   {
    "duration": 0,
    "start_time": "2024-04-04T02:39:19.721Z"
   },
   {
    "duration": 0,
    "start_time": "2024-04-04T02:39:19.722Z"
   },
   {
    "duration": 0,
    "start_time": "2024-04-04T02:39:19.723Z"
   },
   {
    "duration": 0,
    "start_time": "2024-04-04T02:39:19.724Z"
   },
   {
    "duration": 0,
    "start_time": "2024-04-04T02:39:19.725Z"
   },
   {
    "duration": 0,
    "start_time": "2024-04-04T02:39:19.727Z"
   },
   {
    "duration": 0,
    "start_time": "2024-04-04T02:39:19.728Z"
   },
   {
    "duration": 0,
    "start_time": "2024-04-04T02:39:19.729Z"
   },
   {
    "duration": 0,
    "start_time": "2024-04-04T02:39:19.730Z"
   },
   {
    "duration": 0,
    "start_time": "2024-04-04T02:39:19.731Z"
   },
   {
    "duration": 0,
    "start_time": "2024-04-04T02:39:19.732Z"
   },
   {
    "duration": 0,
    "start_time": "2024-04-04T02:39:19.733Z"
   },
   {
    "duration": 0,
    "start_time": "2024-04-04T02:39:19.735Z"
   },
   {
    "duration": 0,
    "start_time": "2024-04-04T02:39:19.736Z"
   },
   {
    "duration": 0,
    "start_time": "2024-04-04T02:39:19.737Z"
   },
   {
    "duration": 0,
    "start_time": "2024-04-04T02:39:19.738Z"
   },
   {
    "duration": 0,
    "start_time": "2024-04-04T02:39:19.770Z"
   },
   {
    "duration": 0,
    "start_time": "2024-04-04T02:39:19.771Z"
   },
   {
    "duration": 0,
    "start_time": "2024-04-04T02:39:19.772Z"
   },
   {
    "duration": 0,
    "start_time": "2024-04-04T02:39:19.772Z"
   },
   {
    "duration": 0,
    "start_time": "2024-04-04T02:39:19.774Z"
   },
   {
    "duration": 0,
    "start_time": "2024-04-04T02:39:19.774Z"
   },
   {
    "duration": 1238,
    "start_time": "2024-04-04T02:39:43.882Z"
   },
   {
    "duration": 134,
    "start_time": "2024-04-04T02:39:45.122Z"
   },
   {
    "duration": 18,
    "start_time": "2024-04-04T02:39:45.258Z"
   },
   {
    "duration": 14,
    "start_time": "2024-04-04T02:39:45.278Z"
   },
   {
    "duration": 11,
    "start_time": "2024-04-04T02:39:45.293Z"
   },
   {
    "duration": 23,
    "start_time": "2024-04-04T02:39:45.306Z"
   },
   {
    "duration": 25,
    "start_time": "2024-04-04T02:39:45.330Z"
   },
   {
    "duration": 26,
    "start_time": "2024-04-04T02:39:45.356Z"
   },
   {
    "duration": 7,
    "start_time": "2024-04-04T02:39:45.384Z"
   },
   {
    "duration": 41,
    "start_time": "2024-04-04T02:39:45.394Z"
   },
   {
    "duration": 44,
    "start_time": "2024-04-04T02:39:45.437Z"
   },
   {
    "duration": 79,
    "start_time": "2024-04-04T02:39:45.483Z"
   },
   {
    "duration": 28,
    "start_time": "2024-04-04T02:39:45.564Z"
   },
   {
    "duration": 25,
    "start_time": "2024-04-04T02:39:45.594Z"
   },
   {
    "duration": 6,
    "start_time": "2024-04-04T02:39:45.621Z"
   },
   {
    "duration": 7,
    "start_time": "2024-04-04T02:39:45.629Z"
   },
   {
    "duration": 2,
    "start_time": "2024-04-04T02:39:45.638Z"
   },
   {
    "duration": 4,
    "start_time": "2024-04-04T02:39:45.642Z"
   },
   {
    "duration": 30,
    "start_time": "2024-04-04T02:39:45.648Z"
   },
   {
    "duration": 20,
    "start_time": "2024-04-04T02:39:45.680Z"
   },
   {
    "duration": 25,
    "start_time": "2024-04-04T02:39:45.702Z"
   },
   {
    "duration": 493,
    "start_time": "2024-04-04T02:39:45.729Z"
   },
   {
    "duration": 9,
    "start_time": "2024-04-04T02:39:46.224Z"
   },
   {
    "duration": 12,
    "start_time": "2024-04-04T02:39:46.235Z"
   },
   {
    "duration": 459,
    "start_time": "2024-04-04T02:39:46.249Z"
   },
   {
    "duration": 6,
    "start_time": "2024-04-04T02:39:46.710Z"
   },
   {
    "duration": 254,
    "start_time": "2024-04-04T02:39:46.718Z"
   },
   {
    "duration": 383,
    "start_time": "2024-04-04T02:39:46.976Z"
   },
   {
    "duration": 6,
    "start_time": "2024-04-04T02:39:47.361Z"
   },
   {
    "duration": 354,
    "start_time": "2024-04-04T02:39:47.369Z"
   },
   {
    "duration": 11,
    "start_time": "2024-04-04T02:39:47.725Z"
   },
   {
    "duration": 568,
    "start_time": "2024-04-04T02:39:47.738Z"
   },
   {
    "duration": 17,
    "start_time": "2024-04-04T02:39:48.308Z"
   },
   {
    "duration": 600,
    "start_time": "2024-04-04T02:39:48.326Z"
   },
   {
    "duration": 4,
    "start_time": "2024-04-04T02:39:48.928Z"
   },
   {
    "duration": 20,
    "start_time": "2024-04-04T02:39:48.934Z"
   },
   {
    "duration": 152,
    "start_time": "2024-04-04T02:39:48.955Z"
   },
   {
    "duration": 4,
    "start_time": "2024-04-04T02:39:49.109Z"
   },
   {
    "duration": 9,
    "start_time": "2024-04-04T02:39:49.114Z"
   },
   {
    "duration": 188,
    "start_time": "2024-04-04T02:39:49.124Z"
   },
   {
    "duration": 11,
    "start_time": "2024-04-04T02:39:49.313Z"
   },
   {
    "duration": 29,
    "start_time": "2024-04-04T02:39:49.325Z"
   },
   {
    "duration": 39,
    "start_time": "2024-04-04T02:39:49.356Z"
   },
   {
    "duration": 24,
    "start_time": "2024-04-04T02:39:49.396Z"
   },
   {
    "duration": 9,
    "start_time": "2024-04-04T02:39:49.422Z"
   },
   {
    "duration": 849,
    "start_time": "2024-04-04T02:39:49.432Z"
   },
   {
    "duration": 172,
    "start_time": "2024-04-04T02:39:50.282Z"
   },
   {
    "duration": 5,
    "start_time": "2024-04-04T02:39:50.455Z"
   },
   {
    "duration": 257,
    "start_time": "2024-04-04T02:39:50.461Z"
   },
   {
    "duration": 11,
    "start_time": "2024-04-04T02:39:50.719Z"
   },
   {
    "duration": 141,
    "start_time": "2024-04-04T02:39:50.732Z"
   },
   {
    "duration": 0,
    "start_time": "2024-04-04T02:39:50.874Z"
   },
   {
    "duration": 0,
    "start_time": "2024-04-04T02:39:50.875Z"
   },
   {
    "duration": 0,
    "start_time": "2024-04-04T02:39:50.876Z"
   },
   {
    "duration": 0,
    "start_time": "2024-04-04T02:39:50.877Z"
   },
   {
    "duration": 0,
    "start_time": "2024-04-04T02:39:50.878Z"
   },
   {
    "duration": 0,
    "start_time": "2024-04-04T02:39:50.879Z"
   },
   {
    "duration": 0,
    "start_time": "2024-04-04T02:39:50.880Z"
   },
   {
    "duration": 0,
    "start_time": "2024-04-04T02:39:50.881Z"
   },
   {
    "duration": 0,
    "start_time": "2024-04-04T02:39:50.882Z"
   },
   {
    "duration": 0,
    "start_time": "2024-04-04T02:39:50.883Z"
   },
   {
    "duration": 0,
    "start_time": "2024-04-04T02:39:50.884Z"
   },
   {
    "duration": 0,
    "start_time": "2024-04-04T02:39:50.885Z"
   },
   {
    "duration": 0,
    "start_time": "2024-04-04T02:39:50.886Z"
   },
   {
    "duration": 0,
    "start_time": "2024-04-04T02:39:50.887Z"
   },
   {
    "duration": 0,
    "start_time": "2024-04-04T02:39:50.888Z"
   },
   {
    "duration": 0,
    "start_time": "2024-04-04T02:39:50.888Z"
   },
   {
    "duration": 0,
    "start_time": "2024-04-04T02:39:50.889Z"
   },
   {
    "duration": 0,
    "start_time": "2024-04-04T02:39:50.890Z"
   },
   {
    "duration": 0,
    "start_time": "2024-04-04T02:39:50.891Z"
   },
   {
    "duration": 0,
    "start_time": "2024-04-04T02:39:50.892Z"
   },
   {
    "duration": 0,
    "start_time": "2024-04-04T02:39:50.893Z"
   },
   {
    "duration": 0,
    "start_time": "2024-04-04T02:39:50.894Z"
   },
   {
    "duration": 0,
    "start_time": "2024-04-04T02:39:50.895Z"
   },
   {
    "duration": 0,
    "start_time": "2024-04-04T02:39:50.896Z"
   },
   {
    "duration": 0,
    "start_time": "2024-04-04T02:39:50.897Z"
   },
   {
    "duration": 475,
    "start_time": "2024-04-04T02:43:59.819Z"
   },
   {
    "duration": 206,
    "start_time": "2024-04-04T02:44:54.101Z"
   },
   {
    "duration": 72,
    "start_time": "2024-04-04T02:44:58.110Z"
   },
   {
    "duration": 9772,
    "start_time": "2024-04-04T02:45:07.515Z"
   },
   {
    "duration": 15,
    "start_time": "2024-04-04T02:45:17.289Z"
   },
   {
    "duration": 3,
    "start_time": "2024-04-04T02:45:17.306Z"
   },
   {
    "duration": 72,
    "start_time": "2024-04-04T02:45:17.311Z"
   },
   {
    "duration": 10,
    "start_time": "2024-04-04T02:45:17.384Z"
   },
   {
    "duration": 79,
    "start_time": "2024-04-04T02:45:17.396Z"
   },
   {
    "duration": 599,
    "start_time": "2024-04-04T02:45:17.477Z"
   },
   {
    "duration": 11,
    "start_time": "2024-04-04T02:45:18.078Z"
   },
   {
    "duration": 3,
    "start_time": "2024-04-04T02:45:18.090Z"
   },
   {
    "duration": 6,
    "start_time": "2024-04-04T02:45:18.095Z"
   },
   {
    "duration": 25,
    "start_time": "2024-04-04T02:45:18.102Z"
   },
   {
    "duration": 17,
    "start_time": "2024-04-04T02:45:18.128Z"
   },
   {
    "duration": 526,
    "start_time": "2024-04-04T02:45:18.147Z"
   },
   {
    "duration": 10,
    "start_time": "2024-04-04T02:45:18.675Z"
   },
   {
    "duration": 15,
    "start_time": "2024-04-04T02:45:18.686Z"
   },
   {
    "duration": 157,
    "start_time": "2024-04-04T02:45:18.702Z"
   },
   {
    "duration": 16,
    "start_time": "2024-04-04T02:45:18.860Z"
   },
   {
    "duration": 10,
    "start_time": "2024-04-04T02:45:18.878Z"
   },
   {
    "duration": 138,
    "start_time": "2024-04-04T02:45:18.890Z"
   },
   {
    "duration": 137,
    "start_time": "2024-04-04T02:45:19.030Z"
   },
   {
    "duration": 11,
    "start_time": "2024-04-04T02:45:19.168Z"
   },
   {
    "duration": 136,
    "start_time": "2024-04-04T02:45:19.181Z"
   },
   {
    "duration": 11,
    "start_time": "2024-04-04T02:45:19.319Z"
   },
   {
    "duration": 327,
    "start_time": "2024-04-04T02:45:19.331Z"
   },
   {
    "duration": 1692,
    "start_time": "2024-04-04T08:03:45.817Z"
   },
   {
    "duration": 173,
    "start_time": "2024-04-04T08:03:47.511Z"
   },
   {
    "duration": 22,
    "start_time": "2024-04-04T08:03:47.686Z"
   },
   {
    "duration": 18,
    "start_time": "2024-04-04T08:03:47.710Z"
   },
   {
    "duration": 5,
    "start_time": "2024-04-04T08:03:47.730Z"
   },
   {
    "duration": 12,
    "start_time": "2024-04-04T08:03:47.737Z"
   },
   {
    "duration": 8,
    "start_time": "2024-04-04T08:03:47.751Z"
   },
   {
    "duration": 41,
    "start_time": "2024-04-04T08:03:47.761Z"
   },
   {
    "duration": 8,
    "start_time": "2024-04-04T08:03:47.804Z"
   },
   {
    "duration": 18,
    "start_time": "2024-04-04T08:03:47.814Z"
   },
   {
    "duration": 40,
    "start_time": "2024-04-04T08:03:47.834Z"
   },
   {
    "duration": 18,
    "start_time": "2024-04-04T08:03:47.876Z"
   },
   {
    "duration": 28,
    "start_time": "2024-04-04T08:03:47.896Z"
   },
   {
    "duration": 22,
    "start_time": "2024-04-04T08:03:47.926Z"
   },
   {
    "duration": 9,
    "start_time": "2024-04-04T08:03:47.950Z"
   },
   {
    "duration": 8,
    "start_time": "2024-04-04T08:03:47.961Z"
   },
   {
    "duration": 19,
    "start_time": "2024-04-04T08:03:47.971Z"
   },
   {
    "duration": 6,
    "start_time": "2024-04-04T08:03:47.992Z"
   },
   {
    "duration": 16,
    "start_time": "2024-04-04T08:03:48.000Z"
   },
   {
    "duration": 15,
    "start_time": "2024-04-04T08:03:48.017Z"
   },
   {
    "duration": 12,
    "start_time": "2024-04-04T08:03:48.034Z"
   },
   {
    "duration": 540,
    "start_time": "2024-04-04T08:03:48.048Z"
   },
   {
    "duration": 10,
    "start_time": "2024-04-04T08:03:48.590Z"
   },
   {
    "duration": 28,
    "start_time": "2024-04-04T08:03:48.601Z"
   },
   {
    "duration": 481,
    "start_time": "2024-04-04T08:03:48.631Z"
   },
   {
    "duration": 6,
    "start_time": "2024-04-04T08:03:49.114Z"
   },
   {
    "duration": 293,
    "start_time": "2024-04-04T08:03:49.122Z"
   },
   {
    "duration": 473,
    "start_time": "2024-04-04T08:03:49.419Z"
   },
   {
    "duration": 6,
    "start_time": "2024-04-04T08:03:49.894Z"
   },
   {
    "duration": 328,
    "start_time": "2024-04-04T08:03:49.901Z"
   },
   {
    "duration": 10,
    "start_time": "2024-04-04T08:03:50.231Z"
   },
   {
    "duration": 563,
    "start_time": "2024-04-04T08:03:50.243Z"
   },
   {
    "duration": 27,
    "start_time": "2024-04-04T08:03:50.808Z"
   },
   {
    "duration": 665,
    "start_time": "2024-04-04T08:03:50.837Z"
   },
   {
    "duration": 5,
    "start_time": "2024-04-04T08:03:51.504Z"
   },
   {
    "duration": 19,
    "start_time": "2024-04-04T08:03:51.510Z"
   },
   {
    "duration": 185,
    "start_time": "2024-04-04T08:03:51.530Z"
   },
   {
    "duration": 4,
    "start_time": "2024-04-04T08:03:51.717Z"
   },
   {
    "duration": 19,
    "start_time": "2024-04-04T08:03:51.723Z"
   },
   {
    "duration": 195,
    "start_time": "2024-04-04T08:03:51.743Z"
   },
   {
    "duration": 13,
    "start_time": "2024-04-04T08:03:51.940Z"
   },
   {
    "duration": 26,
    "start_time": "2024-04-04T08:03:51.954Z"
   },
   {
    "duration": 35,
    "start_time": "2024-04-04T08:03:51.982Z"
   },
   {
    "duration": 26,
    "start_time": "2024-04-04T08:03:52.019Z"
   },
   {
    "duration": 9,
    "start_time": "2024-04-04T08:03:52.047Z"
   },
   {
    "duration": 824,
    "start_time": "2024-04-04T08:03:52.058Z"
   },
   {
    "duration": 186,
    "start_time": "2024-04-04T08:03:52.883Z"
   },
   {
    "duration": 17,
    "start_time": "2024-04-04T08:03:53.070Z"
   },
   {
    "duration": 260,
    "start_time": "2024-04-04T08:03:53.089Z"
   },
   {
    "duration": 11,
    "start_time": "2024-04-04T08:03:53.351Z"
   },
   {
    "duration": 364,
    "start_time": "2024-04-04T08:03:53.364Z"
   },
   {
    "duration": 184,
    "start_time": "2024-04-04T08:03:53.729Z"
   },
   {
    "duration": 10234,
    "start_time": "2024-04-04T08:03:53.915Z"
   },
   {
    "duration": 37,
    "start_time": "2024-04-04T08:04:04.151Z"
   },
   {
    "duration": 4,
    "start_time": "2024-04-04T08:04:04.190Z"
   },
   {
    "duration": 37,
    "start_time": "2024-04-04T08:04:04.196Z"
   },
   {
    "duration": 55,
    "start_time": "2024-04-04T08:04:04.235Z"
   },
   {
    "duration": 44,
    "start_time": "2024-04-04T08:04:04.292Z"
   },
   {
    "duration": 651,
    "start_time": "2024-04-04T08:04:04.338Z"
   },
   {
    "duration": 11,
    "start_time": "2024-04-04T08:04:04.991Z"
   },
   {
    "duration": 3,
    "start_time": "2024-04-04T08:04:05.003Z"
   },
   {
    "duration": 14,
    "start_time": "2024-04-04T08:04:05.007Z"
   },
   {
    "duration": 31,
    "start_time": "2024-04-04T08:04:05.023Z"
   },
   {
    "duration": 38,
    "start_time": "2024-04-04T08:04:05.056Z"
   },
   {
    "duration": 563,
    "start_time": "2024-04-04T08:04:05.096Z"
   },
   {
    "duration": 10,
    "start_time": "2024-04-04T08:04:05.661Z"
   },
   {
    "duration": 8,
    "start_time": "2024-04-04T08:04:05.686Z"
   },
   {
    "duration": 142,
    "start_time": "2024-04-04T08:04:05.695Z"
   },
   {
    "duration": 15,
    "start_time": "2024-04-04T08:04:05.839Z"
   },
   {
    "duration": 36,
    "start_time": "2024-04-04T08:04:05.855Z"
   },
   {
    "duration": 147,
    "start_time": "2024-04-04T08:04:05.893Z"
   },
   {
    "duration": 157,
    "start_time": "2024-04-04T08:04:06.042Z"
   },
   {
    "duration": 11,
    "start_time": "2024-04-04T08:04:06.201Z"
   },
   {
    "duration": 160,
    "start_time": "2024-04-04T08:04:06.213Z"
   },
   {
    "duration": 19,
    "start_time": "2024-04-04T08:04:06.375Z"
   },
   {
    "duration": 207,
    "start_time": "2024-04-04T08:04:06.395Z"
   }
  ],
  "kernelspec": {
   "display_name": "Python 3 (ipykernel)",
   "language": "python",
   "name": "python3"
  },
  "language_info": {
   "codemirror_mode": {
    "name": "ipython",
    "version": 3
   },
   "file_extension": ".py",
   "mimetype": "text/x-python",
   "name": "python",
   "nbconvert_exporter": "python",
   "pygments_lexer": "ipython3",
   "version": "3.11.4"
  },
  "toc": {
   "base_numbering": 1,
   "nav_menu": {},
   "number_sections": true,
   "sideBar": true,
   "skip_h1_title": true,
   "title_cell": "Table of Contents",
   "title_sidebar": "Contents",
   "toc_cell": false,
   "toc_position": {},
   "toc_section_display": true,
   "toc_window_display": false
  }
 },
 "nbformat": 4,
 "nbformat_minor": 5
}
